{
 "cells": [
  {
   "cell_type": "markdown",
   "id": "c9860719",
   "metadata": {},
   "source": [
    "# GGR274H1 Final Project Proposal\n",
    "\n",
    "## Due date: March 8, 23:59\n",
    "\n",
    "### Submission instructions\n",
    "\n",
    "To submit your work for the proposal, please download your notebook from JupyterHub and submit it to MarkUs under the **project-proposal** assignment.\n",
    "\n",
    "\n",
    "## Instructions\n",
    "\n",
    "- Each student must submit a project proposal. This proposal, and the project, will be completed *individually*.\n",
    "- Your TA is aiming to give you feedback within one week of submission. (may change due to strike)\n",
    "- The goal of the proposal is NOT to work out every detail around your presentation plans and analysis, but to ensure that the question is feasible and that you have a work plan.\n",
    "- Another goal is for the teaching team to be able to give you feedback with enough time to incorporate the feedback.  Although, we view this as the start of the conversation between you and your teaching team.\n",
    "- Read the [instructions for the final project](../presentation/GGR274_Final_Project_Instruction.ipynb).\n",
    "\n",
    "## Grading\n",
    "\n",
    "- The five sections below will be graded as:\n",
    "\n",
    "Section     | 0 | 1 | 2 |\n",
    "------------|---|---|---|\n",
    "Each section| It's not clear how this section of the project will proceed. | It's somewhat clear how this section will proceed, although there are several obvious items missing from the description. | It's clear how this section will proceed.\n",
    "\n",
    "## What should the proposal contain?\n",
    "\n",
    "The proposal should be written in a Jupyter Notebook and contain the following section headers as below. You can use this notebook as a template for the proposal."
   ]
  },
  {
   "cell_type": "markdown",
   "id": "940a8cf5",
   "metadata": {},
   "source": [
    "1.  **State the question:** What question(s) will you answer?"
   ]
  },
  {
   "cell_type": "markdown",
   "id": "7f1dd3b3",
   "metadata": {},
   "source": []
  },
  {
   "cell_type": "markdown",
   "id": "94567ab5",
   "metadata": {},
   "source": [
    "2.  **Data sources:** What data will you use?  State specific data sets, and columns (i.e., variables) within the data sets that you will use to answer your question(s)."
   ]
  },
  {
   "cell_type": "markdown",
   "id": "b6ff1b55",
   "metadata": {},
   "source": []
  },
  {
   "cell_type": "markdown",
   "id": "736bc123",
   "metadata": {},
   "source": [
    "3.  **Methods:** How will you wrangle the data?  Will new variables be created?  What statistical methods will be used?"
   ]
  },
  {
   "cell_type": "markdown",
   "id": "005e99b7",
   "metadata": {},
   "source": []
  },
  {
   "cell_type": "markdown",
   "id": "ea35ed60",
   "metadata": {},
   "source": [
    "4.  **Results:** How will the results be presented?  Tables, graphs?  "
   ]
  },
  {
   "cell_type": "markdown",
   "id": "6a2ceb90",
   "metadata": {},
   "source": []
  },
  {
   "cell_type": "markdown",
   "id": "7cd26d53",
   "metadata": {},
   "source": [
    "5.  **Conclusions:** What types of conclusions do you hope to make?  What do you hope to learn from this project?"
   ]
  },
  {
   "cell_type": "markdown",
   "id": "176d9fa4",
   "metadata": {},
   "source": []
  }
 ],
 "metadata": {
  "kernelspec": {
   "display_name": "Python 3 (ipykernel)",
   "language": "python",
   "name": "python3"
  },
  "language_info": {
   "codemirror_mode": {
    "name": "ipython",
    "version": 3
   },
   "file_extension": ".py",
   "mimetype": "text/x-python",
   "name": "python",
   "nbconvert_exporter": "python",
   "pygments_lexer": "ipython3",
   "version": "3.8.8"
  },
  "vscode": {
   "interpreter": {
    "hash": "8b8edaa195e148f815789564e9a10f57d8b792ac9e1a5daafce5fbae42bebd0e"
   }
  }
 },
 "nbformat": 4,
 "nbformat_minor": 5
}
