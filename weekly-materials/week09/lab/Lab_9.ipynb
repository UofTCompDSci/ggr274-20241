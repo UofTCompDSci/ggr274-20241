{
 "cells": [
  {
   "cell_type": "markdown",
   "id": "61180397",
   "metadata": {},
   "source": [
    "# GGR274 Lab 9: Project proposal feedback, data pre-processing\n",
    "\n",
    "## Logistics\n",
    "\n",
    "Like previous weeks, our lab grade will be based on attendance and submission of this notebook to MarkUs during the lab session (or by 23:59 on Thursday).\n",
    "\n",
    "You do not have to answer every question, but your notebook should be submitted as usual for attendance. Submit your completed file to [MarkUs](https://markus-ds.teach.cs.toronto.edu).\n",
    "Here are the instructions for submitting to MarkUs (same as last week):\n",
    "\n",
    "1. Download this file (`Lab_9.ipynb`) from JupyterHub. (See [our JupyterHub Guide](../../../guides/jupyterhub_guide.ipynb) for detailed instructions.)\n",
    "2. Submit this file to MarkUs under the **lab9** assignment. (See [our MarkUs Guide](../../../guides/markus_guide.ipynb) for detailed instructions.)\n",
    "\n",
    "Note: there's no autograding set up for this week's lab, but your TA will be checking that your submitted lab file is complete as part of your \"lab attendance\" grade."
   ]
  },
  {
   "cell_type": "markdown",
   "id": "68bab026",
   "metadata": {},
   "source": [
    "## Lab 9 Introduction"
   ]
  },
  {
   "cell_type": "markdown",
   "id": "41d39a74",
   "metadata": {},
   "source": [
    "This lab is intended to give you some structured work time for your project. Since your projects are all different, there are no prescribed tasks in this lab, instead, the questions in this lab are designed to encourage you to think deeper on which functions you will use to start your data preprocessing. Futhermore, your TA will give you feedback on your project proposals which you can note down here to refer back to later.\n",
    "\n",
    "What you write in this and the following labs are for your own reference. You may answer the questions in either words or code, but whenever possible, you should give the function you intend to use. This will help you think about your project."
   ]
  },
  {
   "cell_type": "markdown",
   "id": "a9d856e2",
   "metadata": {},
   "source": [
    "## Let's start!"
   ]
  },
  {
   "cell_type": "markdown",
   "id": "a528e086",
   "metadata": {},
   "source": [
    "What are the strengths and weaknesses of your project proposal? Are there potential issues raised by your TA? Feel free to discuss with your fellow classmates."
   ]
  },
  {
   "cell_type": "code",
   "execution_count": 1,
   "id": "b21f2fa1",
   "metadata": {},
   "outputs": [],
   "source": [
    "# Write your notes here using comments\n"
   ]
  },
  {
   "cell_type": "markdown",
   "id": "a2a51002",
   "metadata": {},
   "source": [
    "What functions will you use to import your data?"
   ]
  },
  {
   "cell_type": "code",
   "execution_count": 2,
   "id": "8ac758c9",
   "metadata": {},
   "outputs": [],
   "source": [
    "# Write your notes here using comments\n"
   ]
  },
  {
   "cell_type": "markdown",
   "id": "6940e8fd",
   "metadata": {},
   "source": [
    "Do you have any missing values? If so, how do you plan to analyze rows/columns with missing values? "
   ]
  },
  {
   "cell_type": "code",
   "execution_count": 3,
   "id": "7439f378",
   "metadata": {},
   "outputs": [],
   "source": [
    "# Write your notes here using comments\n"
   ]
  },
  {
   "cell_type": "markdown",
   "id": "6bdc42ea",
   "metadata": {},
   "source": [
    "Which variables/columns will you use for your analysis? What function will you use to select those variables/columns?"
   ]
  },
  {
   "cell_type": "code",
   "execution_count": 4,
   "id": "8cffa1d4",
   "metadata": {},
   "outputs": [],
   "source": [
    "# Write your notes here using comments\n"
   ]
  },
  {
   "cell_type": "markdown",
   "id": "367ecc5d",
   "metadata": {},
   "source": [
    "Do you need to filter your data for specific conditions? If so, what are those conditions?"
   ]
  },
  {
   "cell_type": "code",
   "execution_count": 5,
   "id": "142e39e6",
   "metadata": {},
   "outputs": [],
   "source": [
    "# Write your notes here using comments\n"
   ]
  },
  {
   "cell_type": "markdown",
   "id": "4b8e6a04",
   "metadata": {},
   "source": [
    "Do you plan to create new variable(s) based on existing data? How will you create the new variable(s)?"
   ]
  },
  {
   "cell_type": "code",
   "execution_count": null,
   "id": "87fc0e16",
   "metadata": {},
   "outputs": [],
   "source": [
    "# Write your notes here using comments\n"
   ]
  },
  {
   "cell_type": "markdown",
   "id": "a0e57840",
   "metadata": {},
   "source": [
    "Create a barplot of a column of your data to explore its shape (refer to [documentation](https://pandas.pydata.org/pandas-docs/stable/reference/api/pandas.DataFrame.plot.bar.html)). Does your distribution look like a normal distribution? If not, how might this information impact your analysis?"
   ]
  },
  {
   "cell_type": "code",
   "execution_count": 6,
   "id": "b2ee2e42",
   "metadata": {},
   "outputs": [],
   "source": [
    "# Write your notes here using comments\n"
   ]
  }
 ],
 "metadata": {
  "kernelspec": {
   "display_name": "Python 3 (ipykernel)",
   "language": "python",
   "name": "python3"
  },
  "language_info": {
   "codemirror_mode": {
    "name": "ipython",
    "version": 3
   },
   "file_extension": ".py",
   "mimetype": "text/x-python",
   "name": "python",
   "nbconvert_exporter": "python",
   "pygments_lexer": "ipython3",
   "version": "3.8.8"
  }
 },
 "nbformat": 4,
 "nbformat_minor": 5
}
