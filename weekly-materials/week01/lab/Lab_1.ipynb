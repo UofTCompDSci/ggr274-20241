{
 "cells": [
  {
   "attachments": {},
   "cell_type": "markdown",
   "metadata": {
    "id": "i1sxZAQFNZVG",
    "slideshow": {
     "slide_type": "-"
    }
   },
   "source": [
    "# GGR274 Lab 1: Intro to Data Science Tools\n",
    "\n",
    "## FIRST STEP: open this notebook in JupyterHub!\n",
    "\n",
    "Before doing anything else, please **open this notebook in JupyterHub** by clicking on the \"Rocket ship\" icon at the top of this page, and selecting \"JupyterHub\".\n",
    "\n",
    "## Lab Introduction and Learning Objectives\n",
    "\n",
    "In this lab, you will:\n",
    "- Explore the features and interface of a Jupyter Notebook in JupyterHub\n",
    "- Discover the features and differences between Python and Markdown\n",
    "- View and open files in your JupyterHub account\n",
    "- Create and format both Python and Markdown\n",
    "\n",
    "By the end of the lab, you will be able to:\n",
    "- Effectively navigate the interface of Jupyter notebooks\n",
    "- Employ different notebook features to create, edit, format, rearrange, and manipulate Python and Markdown blocks\n",
    "- Explore your JupyterHub account by navigating through the directory structor, and attach/embed files and links in your notebook\n",
    "- Submit your work (and future work) to MarkUs\n",
    "\n",
    "If you get stuck, ask your TA for help!"
   ]
  },
  {
   "cell_type": "markdown",
   "metadata": {},
   "source": [
    "## Logistics\n",
    "\n",
    "Your lab grade will be based on attendance and submission of a few small tasks (see [Task-1A](#Task-1A) and [Task-1B](#Task-1B) below) to MarkUs during the lab session (or by 23:59 of the day of your lab).\n",
    "\n",
    "Complete the tasks in this Jupyter notebook and check your work on [MarkUs](https://markus-ds.teach.cs.toronto.edu).  Instructions on how to upload this Jupyter notebook to MarkUs are in the [upload to MarkUs section](#Task:-upload-to-MarkUs) below.\n",
    "\n",
    "We have set up autograding on MarkUs to give you automated feedback on these lab exercises to help make sure you're on track and ready for this week's homework, so take advantage of it!\n",
    "\n",
    "To submit your work on MarkUs for autograding:\n",
    "\n",
    "1. Download this file (`Lab_1.ipynb`) from JupyterHub. (See [our JupyterHub Guide](../../../guides/jupyterhub_guide.ipynb) for detailed instructions.)\n",
    "2. Submit this file to MarkUs under the **lab1** assignment. (See [our MarkUs Guide](../../../guides/markus_guide.ipynb) for detailed instructions.)\n",
    "3. Run the autograding for this lab on MarkUs and view the results. *You can resubmit to MarkUs and re-run the autograder as many times as you like.* (See [our MarkUs Guide](../../../guides/markus_guide.ipynb) for detailed instructions.)"
   ]
  },
  {
   "cell_type": "markdown",
   "metadata": {
    "id": "i1sxZAQFNZVG"
   },
   "source": [
    "## What is JupyterHub Notebook?\n",
    "\n",
    "The tool you're currently using to read this document is called a Jupyter Notebook, and you will be using this to complete labs and homeworks throughout the course as you write, document, and edit Python code to examine and work with data. You can also embed text and plots in notebooks, which makes it a great medium for combining code and analysis. JupyterHub is the server on which we store Jupyter Notebooks.\n",
    "\n",
    "Much like having to learn how to use a lab for a chemistry course, you will need to learn how to use data science equipment; JupyterHub and Jupyter notebooks are important data science lab tools. This first lab will take you on a tour of this Jupyter notebook.\n",
    "\n",
    "Without further ado, let's explore."
   ]
  },
  {
   "cell_type": "markdown",
   "metadata": {},
   "source": [
    "## Cells\n",
    "\n",
    "A Jupyter notebook page has cells that contain a Python program or formatted text. Each of the sections so far has been in a separate cell. You'll learn how to create both kinds of cells and, soon, how to make useful graphs from data using Python.\n",
    "\n",
    "Some cells are \"rich text\", like this one — bold text and large titles and so on. That's Markdown, which is a markup language. We'll start to explore that in the next cell.\n",
    "\n",
    "Some cells are code cells. You'll type Python code to do data science, then you'll run (and debug) it."
   ]
  },
  {
   "cell_type": "markdown",
   "metadata": {
    "id": "i1sxZAQFNZVG"
   },
   "source": [
    "## Markdown\n",
    "\n",
    "Jupyter notebooks allow you to edit code and text in one file, structured in 'blocks'. Within a block, you can either run and edit code or rich text, but not both. \n",
    "\n",
    "Double-click on this sentence. It changes the cell to a text editor. To go back to the first view, click the `Run` button above, as seen in the Control Panel diagram below.\n",
    "\n",
    "Notice that the drop-down button says `Markdown`. Markdown is the format this cell is written in. You'll learn how to use Markdown over the coming weeks.\n",
    "\n",
    "Your web browser is showing you the [JupyterHub@UofT](https://jupyter.utoronto.ca) website. That's where your files, including this JupyterHub notebook, are stored. You are using your very own virtual computer running there, and only you have access to your files."
   ]
  },
  {
   "cell_type": "markdown",
   "metadata": {
    "id": "i1sxZAQFNZVG"
   },
   "source": [
    "## Control Panel\n",
    "\n",
    "Let's get acquainted with the Jupyter notebook control panel. We will explore only the toolbar buttons, but feel free to explore the drop down menus (ex. 'File', 'Edit', ...)\n",
    "\n",
    "![test](lab1-images/JupyterControlPanel.png)\n",
    "__Fig 1.1 - The control panel of the Jupyter Notebook__\n",
    "\n",
    "![image-2.png](lab1-images/save.png)\n",
    "__Fig 1.2 - The Save button__\n",
    "\n",
    "The left-most button is probably something you are already familiar with - the \"Save\" button. This is pretty self-explanatory, clicking on this will save all changes since your last save.\n",
    "\n",
    "![image-3.png](lab1-images/create.png)\n",
    "__Fig 1.3 - Creating New Cells__\n",
    "The \"plus\" button creates a new cell below the currently selected cell. By default, JupyterHub will create a code block. We'll revisit types of code blocks soon.\n",
    "\n",
    "![image-4.png](lab1-images/cutcopypaste.png)\n",
    "__Fig 1.4 - Cut, Copy, and Paste Cells__\n",
    "The next three buttons are the cut, copy, and paste buttons, specifically for cells (i.e. it will perform the operation for the entire cell, but you can always highlight code/text and use your normal copy/paste/cut keyboard shortcuts)\n",
    "\n",
    "![image-6.png](lab1-images/rearrangeupdown.png)\n",
    "__Fig 1.5 - Rearrange Cells__\n",
    "The __Up__ and __Down__ buttons move (or swap) the position with the cell directly above or below it, respectively.\n",
    "\n",
    "\n",
    "![image-5.png](lab1-images/runstoprestart.png)\n",
    "__Fig 1.6 - Run, Stop, Restart, and Run All Cells__\n",
    "For a Markdown cell, the __Run__ button will show the rich text view. For a Code cell, it will execute the code.\n",
    "\n",
    "Sometimes, code takes a while to run, which might not be intended behaviour. In this case, we can use the __Stop__ button to terminate code execution. __Refresh__ resets all the Code cells in the notebook. The __Fast Forward__ button first resets all the Code cells and then runs all of them in order, starting at the top.\n",
    "\n",
    "![image-7.png](lab1-images/blocktype.png)\n",
    "__Fig 1.7 - Specify Block Type__\n",
    "Perhaps one of the more important functions, this dropdown menu lets you set the type of block you want (Markdown for text, Code for Python code)."
   ]
  },
  {
   "attachments": {},
   "cell_type": "markdown",
   "metadata": {
    "id": "i1sxZAQFNZVG"
   },
   "source": [
    "## Task: view your JupyterHub files and folders\n",
    "\n",
    "Throughout the labs and homeworks, you will have tasks to do. Each cell containing a task will be labelled like this one.\n",
    "\n",
    "The program your web browser is running is talking to the [JupyterHub@UofT](https://jupyter.utoronto.ca) website. That's where your files, including this Jupyter notebook, are stored. You are using your very own virtual computer running there, and only you have access to your files.\n",
    "\n",
    "To see all of your files on JupyterHub:\n",
    "\n",
    "1. Open a new tab in your web browser.\n",
    "2. Go to https://juypter.utoronto.ca.\n",
    "\n",
    "When you access your local files via JupyterHub, your interface will look something like this:\n",
    "\n",
    "![image-8.png](lab1-images/jupyterfiles.png)\n",
    "__Fig 1.8 - Our local files and directories as seen via JupyterHub (Note: you'll have different files!)__\n",
    "\n",
    "When you're done poking around, come back here."
   ]
  },
  {
   "attachments": {},
   "cell_type": "markdown",
   "metadata": {
    "id": "7Fy-jlP1NZVI"
   },
   "source": [
    "## Task: edit a Markdown cell to learn some formatting tricks\n",
    "\n",
    "We use hashtags (#) to create titles and headings. Particularly, the *fewer* the hashtags, the larger the text. So we use '#' to create our titles, then '##' or '###' or '####', etc. to make our headings and sub-headings. Double click to open the Markdown editor to see how these are specified\n",
    "\n",
    "## Sub-heading\n",
    "\n",
    "### sub-sub headings\n",
    "\n",
    "#### sub-sub-sub heading (do we really need more than 3?) \n",
    "\n",
    "Markdown supports some rich text features, such as bolding, italics, and lists:\n",
    "\n",
    "__BOLD__ text is 'wrapped' by two opening and two closing underscores or by surrounding with two **asterisks**.\n",
    "\n",
    "Same for _italics!_ or, with a single asterisk, *italics, perhaps?*\n",
    "\n",
    "* Let's\n",
    "* make\n",
    "* a\n",
    "    + hey\n",
    "    + it's a nested list!\n",
    "* list\n",
    "\n",
    "You can use `+`, `-`, `>`, and `*` for lists. Which ones you use doesn't matter. To make a nested list, indent the sublist. Data scientists typically switch to a different list character when they indent.\n",
    "\n",
    "    If you indent plain text, it appears in fixed-width font. Nice for showing a line of Python code, or maybe some data.\n",
    "\n",
    "You can also include Python code with pretty syntax highlighting. You'll be working with Python on the homework this week, so just enjoy the experience for now.\n",
    "\n",
    "```python\n",
    "# This is Python code.\n",
    "x = 5\n",
    "```\n",
    "\n",
    "Text inside `backticks` is also rendered fixed width.\n",
    "\n",
    "Double click on this cell to see how these are all specified in Markdown. Feel free to edit them to play around, and click Run to see how it renders."
   ]
  },
  {
   "cell_type": "markdown",
   "metadata": {
    "id": "7Fy-jlP1NZVI"
   },
   "source": [
    "## Embedding images\n",
    "\n",
    "It's fun and straightforward to embed images from the web. In this case, we will need to know the URL of the image. Go find your favourite cat picture and get the URL, or use this one if you can't decide:\n",
    "\n",
    "`https://images.pexels.com/photos/2061057/pexels-photo-2061057.jpeg`\n",
    "\n",
    "We need to specify a title for the image, followed by the file path (computer location) of the image. We start by adding an exclamation mark, followed by square brackets which wrap an image title of our choosing. Then, in round brackets, we specify the location of the URL."
   ]
  },
  {
   "cell_type": "markdown",
   "metadata": {
    "id": "7Fy-jlP1NZVI"
   },
   "source": [
    "## Task: say aww\n",
    "\n",
    "The Markdown to show an image looks like this:\n",
    "\n",
    "    ![cat.png](https://images.pexels.com/photos/2061057/pexels-photo-2061057.jpeg)\n",
    "\n",
    "Notice that line is indented, so it appears in fixed width font. Un-indent it: delete the spaces before the `!`, then Run the cell to see the image. You are welcome to use your own image URL."
   ]
  },
  {
   "cell_type": "markdown",
   "metadata": {},
   "source": [
    "## Task: See what a link to a webpage looks like\n",
    "\n",
    "You'll often want to add links to other webpages, especially once you've started working on your project. It looks just like embedding an image, but you leave off the initial exclamation mark. Double-click this cell to see what it looks like.\n",
    "\n",
    "[Is this a rickroll?](https://external-content.duckduckgo.com/iu/?u=http%3A%2F%2Fwww.reactiongifs.com%2Fwp-content%2Fgallery%2Fno%2Fjohn-cleese-no.gif&f=1&nofb=1)"
   ]
  },
  {
   "cell_type": "markdown",
   "metadata": {
    "id": "7Fy-jlP1NZVI"
   },
   "source": [
    "## Task: create your own Markdown and Code cells\n",
    "\n",
    "You can create your own cells. Click on this cell to select it (it should be highlighted compared to the other cells), then click the `+` button in the button bar above. This creates a Code cell by default.\n",
    "\n",
    "To change its type, click the cell and then click the drop-down menu where it says `Code`. Make it a `Markdown` cell, type anything you like in it, then click `Run`."
   ]
  },
  {
   "cell_type": "markdown",
   "metadata": {
    "id": "4HtLm4-uNZVO"
   },
   "source": [
    "## Task: save your work!\n",
    "\n",
    "The Jupyter notebook you are interacting with right now is saved as a file on your JupyterHub virtual computer. It has a `.ipynb` extension.\n",
    "\n",
    "Make sure you save frequently by clicking the floppy disk icon in the button bar. Please do so now."
   ]
  },
  {
   "cell_type": "markdown",
   "metadata": {
    "id": "HHADg4X5NZVO"
   },
   "source": [
    "## Select and move multiple cells\n",
    "\n",
    "You can swap the order of a cell by clicking on it and then clicking the up and down arrows in the button bar.\n",
    "\n",
    "You can select a sequence of cells by clicking the first cell you want, then holding down your shift key and clicking the last cell in the sequence. The up and down arrows move all of them at once.\n",
    "\n",
    "You don't have to do this as a task, but you're welcome to try it!"
   ]
  },
  {
   "cell_type": "markdown",
   "metadata": {
    "id": "HHADg4X5NZVO"
   },
   "source": [
    "### Task: explore the menus\n",
    "\n",
    "Click on the `File` menu and skim the options.\n",
    "\n",
    "Do the same for the rest of the menus. You'll use them a lot during the course."
   ]
  },
  {
   "attachments": {},
   "cell_type": "markdown",
   "metadata": {
    "id": "uT18u3aNHhLy"
   },
   "source": [
    "## Task 1A\n",
    "\n",
    "Some tasks are labeled with a week number and a letter, like this one. These will be required to get your lab participation mark. This task is your first graded (submitted/not submitted) piece of work in the course! The \"1\" is the week number, and the \"A\" is used to identify the task within week 1. \n",
    "\n",
    "Create a **Markdown** cell below this cell. In your cell, add a heading titled `Task 1A answer` (any heading level is fine). We will look for this title when we mark.\n",
    "\n",
    "In the new cell:\n",
    "\n",
    "1. write a sentence or two describing something interesting you learned in this course this week.\n",
    "2. Add a favourite image, meme or GIF.\n",
    "3. Finally, add a link to the course syllabus on Quercus."
   ]
  },
  {
   "attachments": {},
   "cell_type": "markdown",
   "metadata": {
    "id": "acRh-ogOHoOC"
   },
   "source": [
    "## Task 1B\n",
    "\n",
    "Now, create a new **Code** cell below this cell. In it, write the following two lines of Python code:\n",
    "\n",
    "```python\n",
    "five = 3 + 2\n",
    "five * five\n",
    "```\n",
    "\n",
    "You can copy and paste if you like. When you run the cell, should should see `25` as an `Out` cell below it."
   ]
  },
  {
   "cell_type": "markdown",
   "metadata": {},
   "source": [
    "What happened?\n",
    "\n",
    "Line 1: First, Python added `3` and `2`, getting the value `5`. Then Python gave that value a name, `five`.\n",
    "\n",
    "Line 2: `five` is a name for the value `5`, so Python does `5 * 5`, getting `25`.\n",
    "\n",
    "The `Out` line shows the output from the last expression in the Code cell. You'll learn how to control what gets displayed later."
   ]
  },
  {
   "cell_type": "markdown",
   "metadata": {
    "id": "HnDBGpOnDa01"
   },
   "source": [
    "## Task: download this notebook\n",
    "\n",
    "Each week, you will submit notebooks from JupyterHub to MarkUs for grading.\n",
    "\n",
    "1. Download this Jupyter notebook file to your computer: `File —> Download as —> Notebook (.ipynb)`.\n",
    "\n",
    "![Download As](lab1-images/download.png)\n",
    "\n",
    "### WARNING: if you download twice, you need to rename the file\n",
    "\n",
    "If you download a second time, you'll get a new file with a number appended. \"Lab_1-1.ipynb\" is used the second time you download, then \"Lab_1-2.ipynb\", and so on. Before you submit, you need to:\n",
    "\n",
    "1. Delete the old \"Lab_1.ipynb\" download.\n",
    "2. Rename your \"Lab_1-1.ipynb\" to \"Lab_1.ipynb\"."
   ]
  },
  {
   "attachments": {},
   "cell_type": "markdown",
   "metadata": {},
   "source": [
    "## Task: upload to MarkUs\n",
    "\n",
    "1. Log in here: https://markus-ds.teach.cs.toronto.edu (Tip: Control/Command-click to open it in a new tab so you can still see these instructions.)\n",
    "2. Choose the `GGR274-2023-01` course.\n",
    "3. Click the `lab1: Lab week 1` assessment.\n",
    "4. Click the `Submissions` tab. The new page is `lab1: Submissions`.\n",
    "5. Click button `Upload File` on the bottom right.\n",
    "6. Click button `Choose Files`.\n",
    "7. Select the `Lab_1.ipynb` file that you downloaded in the previous task, then click `Save`.\n",
    "\n",
    "You just submitted your lab 1 notebook!"
   ]
  },
  {
   "attachments": {},
   "cell_type": "markdown",
   "metadata": {},
   "source": [
    "## Task: run the automated tests\n",
    "\n",
    "We have an automated test that checks whether you've assigned the value `5` to variable `five` in your notebook, and you can (and should) run this test.\n",
    "\n",
    "1. Click the `Automated Testing` tab.\n",
    "2. Click button `Run tests` and wait several seconds while the test is run.\n",
    "3. Reload the webpage. Hopefully you see something like this. If not, and you can't figure it out, ask for help!\n",
    "\n",
    "![Download As](lab1-images/lab1testresult.png)\n",
    "\n"
   ]
  }
 ],
 "metadata": {
  "celltoolbar": "Slideshow",
  "colab": {
   "collapsed_sections": [],
   "name": "Lab 1.ipynb",
   "provenance": []
  },
  "kernelspec": {
   "display_name": "Python 3 (ipykernel)",
   "language": "python",
   "name": "python3"
  },
  "language_info": {
   "codemirror_mode": {
    "name": "ipython",
    "version": 3
   },
   "file_extension": ".py",
   "mimetype": "text/x-python",
   "name": "python",
   "nbconvert_exporter": "python",
   "pygments_lexer": "ipython3",
   "version": "3.11.1 (tags/v3.11.1:a7a450f, Dec  6 2022, 19:58:39) [MSC v.1934 64 bit (AMD64)]"
  },
  "vscode": {
   "interpreter": {
    "hash": "8b8edaa195e148f815789564e9a10f57d8b792ac9e1a5daafce5fbae42bebd0e"
   }
  }
 },
 "nbformat": 4,
 "nbformat_minor": 1
}
