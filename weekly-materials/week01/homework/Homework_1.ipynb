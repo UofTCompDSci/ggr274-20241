{
 "cells": [
  {
   "attachments": {},
   "cell_type": "markdown",
   "metadata": {},
   "source": [
    "# GG274 Homework 1: A Python Intro\n",
    "\n",
    "## Purpose of Homework\n",
    "\n",
    "Welcome to your first weekly homework assignment! You are encouraged to refer to lecture content and liberally use course resources such as the discussion board and office hours.\n",
    "\n",
    "Homeworks build off of content explored in lecture and in lab and give you an opportunity to practice with the material. Homeworks will contain tasks that focus on tools and knowledge described in lecture and lab that week. Data science knowledge is often cumulative, and you will be asked to refer to prior weeks' content (such as loading in datasets, which is something you're going to do a lot of in this course).\n",
    "\n",
    "Homeworks may also be continuations of the shorter labs done during that week, and will feature a relatively greater emphasis on application of tools, inquiry of concepts, and interpretation of your data science findings. Homeworks will feature a mix of coding and written response questions.\n",
    "\n",
    "## Logistics\n",
    "\n",
    "**Due date**: The homework is due 23:59 on Monday, January 17.\n",
    "\n",
    "You will submit your work on [MarkUs](https://markus-ds.teach.cs.toronto.edu).\n",
    "To submit your work:\n",
    "\n",
    "1. Download this file (`Homework_1.ipynb`) from JupyterHub. (See [our JupyterHub Guide](../../../guides/jupyterhub_guide.ipynb) for detailed instructions.)\n",
    "2. Submit this file to MarkUs under the **hw1** assignment. (See [our MarkUs Guide](../../../guides/markus_guide.ipynb) for detailed instructions.)\n",
    "All homeworks will take place in a Jupyter notebook (like this one). When you are done, you will download this notebook and submit it to MarkUs.\n",
    " "
   ]
  },
  {
   "cell_type": "markdown",
   "metadata": {},
   "source": [
    "## Task 1: Filling in some Python code\n",
    "\n",
    "Next week, we'll be introducing the Python programming language more formally.\n",
    "For this homework, we're going to keep things short and ask you to fill in some bits of code and run it, just to get used to the process.\n",
    "\n",
    "In the cell below, replace the ellipsis (`...`) with the number of courses you're taking this semester."
   ]
  },
  {
   "cell_type": "code",
   "execution_count": null,
   "metadata": {},
   "outputs": [],
   "source": [
    "num_courses = ...  # Replace the ... with your number of courses\n",
    "\n",
    "# We've provided this code to check your work. Try running this cell!\n",
    "print(f\"You are taking {num_courses} course(s).\")"
   ]
  },
  {
   "cell_type": "markdown",
   "metadata": {},
   "source": [
    "You should see something like `You are taking 5 course(s).` in the output when you run the cell."
   ]
  },
  {
   "cell_type": "markdown",
   "metadata": {},
   "source": [
    "Next, we have two new variables, `first_name` and `last_name`.\n",
    "Replace each `...` with your first and last name, respectively.\n",
    "\n",
    "*Be sure to surround your name with quotes, e.g. `\"David\"`, not just `David`.*\n",
    "This tells Python that your name should be interpreted as data (i.e., a name) rather than code or a variable."
   ]
  },
  {
   "cell_type": "code",
   "execution_count": null,
   "metadata": {},
   "outputs": [],
   "source": [
    "first_name = ...  # Replace the ... with your first name, surrounded by quotes\n",
    "last_name = ...   # Replace the ... with your last name, surrounded by quotes\n",
    "\n",
    "# We've provided this code to check your work. Try running this cell!\n",
    "print(f\"Hello {first_name} {last_name}, and welcome to GGR274!\")"
   ]
  },
  {
   "cell_type": "markdown",
   "metadata": {},
   "source": [
    "Did you see a welcome message with your name appear?\n",
    "If not, please ask for help if you get stuck!"
   ]
  },
  {
   "cell_type": "markdown",
   "metadata": {},
   "source": [
    "## Task 2: A bit of computing"
   ]
  },
  {
   "cell_type": "markdown",
   "metadata": {},
   "source": [
    "Now, let's see how we can use Python like a calculator, where we write *code* instead of pushing buttons.\n",
    "Consider the following problem:\n",
    "\n",
    "> At the time of writing, the population of Canada is 39,395,674, and the population of Ontario is 15,308,317 ([Statistics Canada](https://www150.statcan.gc.ca/n1/pub/71-607-x/71-607-x2018005-eng.htm)). What percentage of Canada's total population lives in Ontario?\n",
    "\n",
    "To answer this problem, we need to do the following: divide Ontario's population by Canada's population, and then (to convert to a percentage), multiply the result by 100.\n",
    "\n",
    "While you could do this on a calculator, we want you to use Python instead!\n",
    "In the cell below, calculate this percentage, and store the result in a variable called `ontario_percentage`.\n",
    "You can copy and paste the population numbers from the above paragraph, except you'll need to *delete the commas*, since Python expects just a sequence of digits for a number.\n",
    "Remember from the lab that you can perform a calculation and store the result in a variable in a single line of code:\n",
    "\n",
    "```python\n",
    "five = 3 + 2\n",
    "```\n",
    "\n",
    "You'll find the following *table of Python arithmetic operations* helpful (more on this in next week's class):\n",
    "\n",
    "| Operation      | Symbol | Example Python code |\n",
    "|----------------|--------|---------------------|\n",
    "| Addition       | `+`    | `3 + 2`             |\n",
    "| Subtraction    | `-`    | `3 - 2`             |\n",
    "| Multiplication | `*`    | `3 * 2`             |\n",
    "| Division       | `/`    | `3 / 2`             |\n"
   ]
  },
  {
   "cell_type": "code",
   "execution_count": null,
   "metadata": {},
   "outputs": [],
   "source": [
    "# Replace the ... with an arithmetic expression to calculate the desired percentage\n",
    "ontario_percentage = ...\n",
    "\n",
    "\n",
    "# We've provided this code to check your work. Try running this cell!\n",
    "print(f\"Ontario has {ontario_percentage}% of Canada's Total Population\")"
   ]
  },
  {
   "attachments": {},
   "cell_type": "markdown",
   "metadata": {},
   "source": [
    "**Note**: you should see a percentage with lots of decimal places. Don't worry about rounding for this problem; we'll discuss how to round numbers in Python next week."
   ]
  },
  {
   "cell_type": "markdown",
   "metadata": {},
   "source": [
    "## Task 3: Written Response\n",
    "\n",
    "Finally, we want to give you practice using Markdown to create text inside a Jupyter notebook.\n",
    "\n",
    "**Create a new Markdown cell** (same process as Lab 1), and inside the cell write answers to the following questions:\n",
    "\n",
    "1. What kinds of data are you interested in working with this semester?\n",
    "2. What are your first impressions of our course software: Python, Jupyter notebooks, and JupyterHub?\n",
    "3. What are you looking forward to in GGR274?"
   ]
  }
 ],
 "metadata": {
  "kernelspec": {
   "display_name": "Python 3 (ipykernel)",
   "language": "python",
   "name": "python3"
  },
  "language_info": {
   "codemirror_mode": {
    "name": "ipython",
    "version": 3
   },
   "file_extension": ".py",
   "mimetype": "text/x-python",
   "name": "python",
   "nbconvert_exporter": "python",
   "pygments_lexer": "ipython3",
   "version": "3.11.1 (tags/v3.11.1:a7a450f, Dec  6 2022, 19:58:39) [MSC v.1934 64 bit (AMD64)]"
  },
  "vscode": {
   "interpreter": {
    "hash": "8b8edaa195e148f815789564e9a10f57d8b792ac9e1a5daafce5fbae42bebd0e"
   }
  }
 },
 "nbformat": 4,
 "nbformat_minor": 2
}
