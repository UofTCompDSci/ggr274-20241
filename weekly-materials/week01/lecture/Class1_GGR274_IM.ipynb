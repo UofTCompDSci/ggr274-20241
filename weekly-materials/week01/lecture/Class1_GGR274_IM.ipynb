{
 "cells": [
  {
   "cell_type": "markdown",
   "id": "77887c11",
   "metadata": {
    "slideshow": {
     "slide_type": "slide"
    }
   },
   "source": [
    "# GGR274 Week 1: Computation, Python, and JupyterHub"
   ]
  },
  {
   "cell_type": "markdown",
   "id": "b258cb69",
   "metadata": {
    "slideshow": {
     "slide_type": "slide"
    }
   },
   "source": [
    "## What is programming?\n",
    "\n",
    "A **computer program** is a set of instructions for a computer to execute.\n",
    "\n",
    "Just as humans have languages like English to communicate with each other, a **programming language** is a language that allows humans to communicate these instructions to a computer."
   ]
  },
  {
   "cell_type": "markdown",
   "id": "d125560d",
   "metadata": {
    "slideshow": {
     "slide_type": "slide"
    }
   },
   "source": [
    "## Python!\n",
    "\n",
    "In this course, we'll be using the **Python** programming language.\n",
    "\n",
    "<img src=\"https://www.python.org/static/community_logos/python-logo-master-v3-TM.png\" alt=\"Python logo\" width=\"600\">"
   ]
  },
  {
   "cell_type": "markdown",
   "id": "cea2a2dc",
   "metadata": {
    "slideshow": {
     "slide_type": "slide"
    }
   },
   "source": [
    "## Why Python?\n",
    "\n",
    "Python is...\n",
    "\n",
    "- beginner friendly (code looks a lot like English)\n",
    "- lots of built-in functionality\n",
    "- powerful data science and data visualization libraries (e.g. `numpy`, `pandas`, `plotly`)\n",
    "- very commonly used in both academia and industry"
   ]
  },
  {
   "cell_type": "markdown",
   "id": "487611d7",
   "metadata": {
    "slideshow": {
     "slide_type": "slide"
    }
   },
   "source": [
    "## Writing Python code\n",
    "\n",
    "You've seen examples of Python code earlier this lecture. Next week, we'll start going over the basics of Python programming, but for now, think of Python code as a *sequence of very precise instructions that your computer can understand*."
   ]
  },
  {
   "cell_type": "code",
   "execution_count": null,
   "id": "4f9f9c06",
   "metadata": {
    "slideshow": {
     "slide_type": "-"
    }
   },
   "outputs": [],
   "source": [
    "my_name = \"Ilya\"\n",
    "my_age = 5 + 13\n",
    "\n",
    "print(f\"Wow {my_name}, you're only {my_age} years old? Why do they let you teach?!\")\n",
    "\n",
    "my_age = my_age + 21\n",
    "\n",
    "print(f\"Wow {my_name}, you're already {my_age} years old? You should be resting more!\")"
   ]
  },
  {
   "cell_type": "markdown",
   "id": "5eb423af",
   "metadata": {
    "slideshow": {
     "slide_type": "slide"
    }
   },
   "source": [
    "## Notebooks!\n",
    "\n",
    "Traditionally, Python code was written in `.py` files, called **Python modules**.\n",
    "\n",
    "<center><img src=\"https://upload.wikimedia.org/wikipedia/commons/b/bc/Python_Code.png\" alt=\"Image of Python code\" width=\"500\"></center>\n"
   ]
  },
  {
   "cell_type": "markdown",
   "id": "92f4f1ef",
   "metadata": {
    "slideshow": {
     "slide_type": "slide"
    }
   },
   "source": [
    "## Notebooks!\n",
    "\n",
    "In this course, we'll use **Jupyter notebooks** to write Python code.\n",
    "\n",
    "Notebooks let us mix:\n",
    "\n",
    "- Python code\n",
    "- Output of running the code\n",
    "- Text (including nice formatting)\n",
    "- Images\n",
    "- ...and more!"
   ]
  },
  {
   "cell_type": "markdown",
   "id": "e9e67559",
   "metadata": {
    "slideshow": {
     "slide_type": "slide"
    }
   },
   "source": [
    "## Notebooks!\n",
    "\n",
    "**Fun fact**: Jupyter, the software that lets us create notebooks, is written in Python!\n",
    "\n",
    "<img src=\"https://jupyter.org/assets/logos/rectanglelogo-greytext-orangebody-greymoons.svg\" alt=\"Jupyter logo\" width=\"500\">"
   ]
  },
  {
   "cell_type": "markdown",
   "id": "0155e7dd",
   "metadata": {
    "slideshow": {
     "slide_type": "slide"
    }
   },
   "source": [
    "## Do I need to download and install Python and Jupyter?\n",
    "\n",
    "<center><img src=\"https://underdefense.com/wp-content/uploads/2018/02/1uVYPjj-KTqigXjGC-w7L-7f_4jPtZ00-uzL4iUo-1.jpeg\" alt=\"Meme about software installation wizard\" width=\"500\"></center>"
   ]
  },
  {
   "cell_type": "markdown",
   "id": "84e32f5e",
   "metadata": {
    "slideshow": {
     "slide_type": "slide"
    }
   },
   "source": [
    "## No software installation required!\n",
    "\n",
    "In this course, we'll be using **JupyterHub** (<https://jupyter.utoronto.ca>), which runs Python and Jupyter for us online.\n",
    "\n",
    "- You can login to JupyterHub from anywhere with an Internet collection\n",
    "- All of your files are stored \"in the cloud\"\n",
    "- Runs Python code \"in the cloud\""
   ]
  },
  {
   "cell_type": "markdown",
   "id": "77027672",
   "metadata": {
    "slideshow": {
     "slide_type": "slide"
    }
   },
   "source": [
    "## JupyterHub Demo!\n",
    "\n",
    "Two ways of accessing JupyterHub:\n",
    "\n",
    "1. Go to <https://jupyter.utoronto.ca>\n",
    "2. Go to any notebook on our course website (https://uoftcompdsci.github.io/ggr274-20241/) and click on the little rocket icon:\n",
    "\n",
    "    ![Image of JupyterHub launch from course website](./images/jupyterhub-launch.png)\n",
    "\n"
   ]
  },
  {
   "cell_type": "markdown",
   "id": "ae156be7",
   "metadata": {},
   "source": [
    "## Learning and Learning to Program. Some things to remember\n",
    "\n",
    "- Computer programming languages are actually for people, not for computers :)\n",
    "- To some extent, learning a new programming language is quite like learning a new (written) human language, but ... easier\n",
    "\n",
    "    - Vocabulary is much, much smaller\n",
    "    - Syntax/Grammar are much simpler\n",
    "    - The main limitation is that the computer (of pre-GPT era) is much more limited in understanding and thus more strict\n",
    "    - The real barrier is understanding what *you* want to do and explaining that in a *clear non-contradictory way*\n",
    "- In addition to writing code, we in this course and you, as you progress, should be learning **reading** code, and doing that effectively might be even more crucial\n",
    "    - Data Science tasks rarely start from a blank page\n",
    "    - You use, assimilate, and adapt the code and ideas of others\n",
    "    - Quite often, you are in a \"menu in an exotic restaurant\" situation, and that's okay!\n",
    "\n",
    "- Learning science tells us a bit about why and how we should learn"
   ]
  }
 ],
 "metadata": {
  "celltoolbar": "Slideshow",
  "kernelspec": {
   "display_name": "Python 3 (ipykernel)",
   "language": "python",
   "name": "python3"
  },
  "language_info": {
   "codemirror_mode": {
    "name": "ipython",
    "version": 3
   },
   "file_extension": ".py",
   "mimetype": "text/x-python",
   "name": "python",
   "nbconvert_exporter": "python",
   "pygments_lexer": "ipython3",
   "version": "3.11.1"
  },
  "vscode": {
   "interpreter": {
    "hash": "8b8edaa195e148f815789564e9a10f57d8b792ac9e1a5daafce5fbae42bebd0e"
   }
  }
 },
 "nbformat": 4,
 "nbformat_minor": 5
}
