{
 "cells": [
  {
   "cell_type": "markdown",
   "id": "2d921fac",
   "metadata": {},
   "source": [
    "# GGR274 Homework 4: Time Use Survey Data"
   ]
  },
  {
   "cell_type": "markdown",
   "id": "5b8b2653",
   "metadata": {},
   "source": [
    "## Introduction\n",
    "\n",
    "For this week's homework, you will use the Statistics Canada GSS Time Use Dataset. This time, we're going to dig into some of the well-being variables (feeling rushed) and respondent characteristic variables (how people commute to work).\n",
    "\n",
    "\n",
    "## Question\n",
    "\n",
    "The question you're answering in this homework:\n",
    "\n",
    "> Among Canadians that live in rural communities, is it less common for people to feel rushed and take transit to work or feel rushed and not take transit to work?\n"
   ]
  },
  {
   "cell_type": "markdown",
   "id": "ef86df4b",
   "metadata": {},
   "source": [
    "## Homework Instructions and Learning Objectives\n",
    "\n",
    "The goal of this homework is to answer the question above performing these steps:\n",
    "\n",
    "- Read the Time Use Dataset into a pandas `DataFrame`.\n",
    "\n",
    "- Select specific columns and rows of the `DataFrame`.\n",
    "\n",
    "- Compute the proportions of rural respondents that feel rushed and either use or don't use public transit to commute to work.\n",
    "\n",
    "- Interpret the results of the analysis."
   ]
  },
  {
   "cell_type": "markdown",
   "id": "be3ca882",
   "metadata": {},
   "source": [
    "## Task 1\n",
    "\n",
    "a) Read the time use data set stored in the csv file `gss_tu2016_main_file.csv` into a pandas `DataFrame` and store the `DataFrame` in a variable named `time_use_data_raw`.\n",
    "\n",
    "_The file is located in the same folder as the notebook._"
   ]
  },
  {
   "cell_type": "code",
   "execution_count": 1,
   "id": "99447795",
   "metadata": {},
   "outputs": [
    {
     "name": "stderr",
     "output_type": "stream",
     "text": [
      "/var/folders/0j/ybsv4ncn5w50v40vdh5jjlww0000gn/T/ipykernel_98063/2880543848.py:1: DeprecationWarning: \n",
      "Pyarrow will become a required dependency of pandas in the next major release of pandas (pandas 3.0),\n",
      "(to allow more performant data types, such as the Arrow string type, and better interoperability with other libraries)\n",
      "but was not found to be installed on your system.\n",
      "If this would cause problems for you,\n",
      "please provide us feedback at https://github.com/pandas-dev/pandas/issues/54466\n",
      "        \n",
      "  import pandas as pd\n"
     ]
    }
   ],
   "source": [
    "import pandas as pd\n",
    "\n",
    "time_use_data_raw = pd.read_csv(\"gss_tu2016_main_file.csv\")"
   ]
  },
  {
   "cell_type": "markdown",
   "id": "eb2c84c4",
   "metadata": {},
   "source": [
    "b. The columns we will need for the analysis to answer the question are:\n",
    "\n",
    "+ `CASEID`: participant ID\n",
    "+ `luc_rst`: Urban/Rural\n",
    "+ `gtu_110`: How often does one feel rushed?\n",
    "+ `ctw_140c`: Commute to work - Public transit\n",
    "\n",
    "Create a new `DataFrame` using `time_use_data_raw` that only contains the four columns in the order listed above.  The first column should be `CASEID`, the second column should be `luc_rst`, etc.  This new `DataFrame` should be stored in a variable named `time_use_data`."
   ]
  },
  {
   "cell_type": "code",
   "execution_count": 2,
   "id": "8b2584b7",
   "metadata": {},
   "outputs": [],
   "source": [
    "time_use_data = time_use_data_raw[[\"CASEID\",\n",
    "                                   \"luc_rst\",\n",
    "                                   \"gtu_110\",\n",
    "                                   \"ctw_140c\"]]"
   ]
  },
  {
   "cell_type": "markdown",
   "id": "708a6584",
   "metadata": {},
   "source": [
    "c) Create a Python dictionary stored in a variable called `new_column_names`, that maps old column name to new column name according to the following table:\n",
    "\n",
    "old name | new name\n",
    "---------|----------\n",
    "`CASEID` | `case_ID`\n",
    "`luc_rst`| `urban_rural`\n",
    "`gtu_110`| `feeling_rushed`\n",
    "`ctw_140c`| `public_transit`\n",
    "\n",
    "You'll use this dictionary to rename the columns in part (d) below."
   ]
  },
  {
   "cell_type": "code",
   "execution_count": 3,
   "id": "ed9cee41",
   "metadata": {},
   "outputs": [],
   "source": [
    "new_column_names = {'CASEID': 'case_ID',\n",
    "                    'luc_rst': 'urban_rural',\n",
    "                    'gtu_110': 'feeling_rushed',\n",
    "                    \"ctw_140c\": \"public_transit\"}"
   ]
  },
  {
   "cell_type": "markdown",
   "id": "9893265f",
   "metadata": {},
   "source": [
    "d) Use the dictionary `new_column_names` created in the previous step to rename the columns of the `DataFrame` stored in `time_use_data`.  Store this new `DataFrame` in a variable called `clean_time_use_data`."
   ]
  },
  {
   "cell_type": "code",
   "execution_count": 4,
   "id": "35863f0e",
   "metadata": {},
   "outputs": [],
   "source": [
    "clean_time_use_data = time_use_data.rename(columns = new_column_names)"
   ]
  },
  {
   "cell_type": "markdown",
   "id": "1fb50b4d",
   "metadata": {},
   "source": [
    "## Task 2\n",
    "\n",
    "a) Use the codebook for the Time Use Survey in the file `gss_tu2016_codebook.txt` to guide you in creating boolean variables using `clean_time_use_data` that correspond the the following conditions and store the results in the variable names specified below.\n",
    "\n",
    "Condition                                              | variable name\n",
    "-------------------------------------------------------|---------------\n",
    "Commutes to work by taking public transit              | `transit_yes`\n",
    "Does not commute to work by taking public transit      | `transit_no`\n",
    "Respondent feels rushed (regardless of the frequency)  | `feeling_rushed`\n",
    "Lives in a rural area or small population centre          | `rural`\n",
    "\n",
    "_**Tip**: go to File -> Open menu action to find the `gss_tu2016_codebook.txt` file in the same folder as this notebook._"
   ]
  },
  {
   "cell_type": "code",
   "execution_count": 5,
   "id": "bc3f037c",
   "metadata": {},
   "outputs": [],
   "source": [
    "# compute to work - public transit : 1 Yes\n",
    "transit_yes = (clean_time_use_data['public_transit'] == 1)\n",
    "# compute to work - public transit : 2 No\n",
    "transit_no = (clean_time_use_data['public_transit'] == 2)\n",
    "# general time use - feel: reushed: 1 - 5 Everday to Less than once a month\n",
    "feeling_rushed = clean_time_use_data['feeling_rushed'] <= 5\n",
    "# population centre indicator: 2 Rural areas and somall population centres\n",
    "rural = (clean_time_use_data['urban_rural'] == 2)"
   ]
  },
  {
   "cell_type": "markdown",
   "id": "e358f067",
   "metadata": {},
   "source": [
    "b) In this part of the task you will investigate the data types of one of the variables you created in the previous part.\n",
    "\n",
    "i) Store the data type of `transit_yes` in a variable called `transit_col_type` and print the value of `transit_col_type`.  "
   ]
  },
  {
   "cell_type": "code",
   "execution_count": 6,
   "id": "b7e0093d",
   "metadata": {},
   "outputs": [
    {
     "name": "stdout",
     "output_type": "stream",
     "text": [
      "<class 'pandas.core.series.Series'>\n"
     ]
    }
   ],
   "source": [
    "transit_col_type = type(transit_yes)\n",
    "\n",
    "print(transit_col_type)"
   ]
  },
  {
   "cell_type": "markdown",
   "id": "019b209a",
   "metadata": {},
   "source": [
    "  \n",
    "ii) Store the data type of values in `transit_yes` in a variable called `transit_data_type` and print the value of `transit_data_type`. "
   ]
  },
  {
   "cell_type": "code",
   "execution_count": 7,
   "id": "751a0e90",
   "metadata": {},
   "outputs": [
    {
     "name": "stdout",
     "output_type": "stream",
     "text": [
      "bool\n"
     ]
    }
   ],
   "source": [
    "transit_data_type = transit_yes.dtypes\n",
    "\n",
    "print(transit_data_type)"
   ]
  },
  {
   "cell_type": "markdown",
   "id": "e930c524",
   "metadata": {},
   "source": [
    "c) Briefly explain the difference between the values of `transit_yes` and `transit_data_type`. "
   ]
  },
  {
   "cell_type": "markdown",
   "id": "13ff272a",
   "metadata": {},
   "source": [
    "> _Each column in a padas `DataFrame` is a pandas `Series`. The values stored in each can take different data types. In this case, it is of type Boolean._"
   ]
  },
  {
   "cell_type": "markdown",
   "id": "e083ccde",
   "metadata": {
    "tags": []
   },
   "source": [
    "## Task 3\n",
    "\n",
    "In this section you will write a program in a series of steps to analyse the data.\n",
    "\n",
    "Use the `DataFrame` `clean_time_use_data` and the variables that you created in [Task 2 a)](#Task-2).\n",
    "\n",
    "The data analysis will be implemented by writing a Python program to compute two proportions that you will express as percentages (i.e., multiplying by 100).\n",
    "\n",
    "$${\\text{Percent}_\\text{Transit}} = \\frac{\\text{Total number of respondents in rural areas that take transit and feel rushed}}{\\text{Total number of respondents in rural areas}}\\times 100 $$\n",
    "\n",
    "$${\\text{Percent}_\\text{No Transit}} = \\frac{\\text{Total number of respondents in rural areas that do not take transit and feel rushed}}{\\text{Total number of respondents in rural areas}}\\times 100 $$\n",
    "\n",
    "The program will be written in a series of steps. \n",
    "\n",
    "a) Create a variable called `total_rural` that stores the total number of respondents that live in a rural area.  Print the value of this variable. This is the value of: $\\text{Total number of respondents in rural areas}$ in the proportions above.\n"
   ]
  },
  {
   "cell_type": "code",
   "execution_count": 8,
   "id": "56ad1550",
   "metadata": {},
   "outputs": [
    {
     "name": "stdout",
     "output_type": "stream",
     "text": [
      "3551\n"
     ]
    }
   ],
   "source": [
    "total_rural = len(clean_time_use_data[rural])\n",
    "\n",
    "print(total_rural)"
   ]
  },
  {
   "cell_type": "markdown",
   "id": "724015f8",
   "metadata": {},
   "source": [
    "b) Create a variable called `rural_rush_transit` that is `True` if a respondent has ever felt rushed **AND** uses public transit to work and lives in a rural area.\n",
    "\n",
    "Then, use this variable to select rows in `clean_time_use_data` and then compute the number of such rows, storing the result in a variable called `rural_rush_transit_num`.\n",
    "This is the value of: $\\text{Total number of respondents in rural areas that take transit and feel rushed}$."
   ]
  },
  {
   "cell_type": "code",
   "execution_count": 9,
   "id": "18cedee7",
   "metadata": {},
   "outputs": [],
   "source": [
    "rural_rush_transit = (feeling_rushed & transit_yes & rural)\n",
    "rural_rush_transit_num = len(clean_time_use_data[rural_rush_transit])"
   ]
  },
  {
   "cell_type": "markdown",
   "id": "a102b180",
   "metadata": {},
   "source": [
    "c) Calculate the proportion of respondents in rural areas that feel rushed and use public transit to work. Store the result in a variable called `rural_rush_transit_prop`."
   ]
  },
  {
   "cell_type": "code",
   "execution_count": 10,
   "id": "ec899db8",
   "metadata": {},
   "outputs": [],
   "source": [
    "rural_rush_transit_prop = rural_rush_transit_num/total_rural"
   ]
  },
  {
   "cell_type": "markdown",
   "id": "7473fe10",
   "metadata": {},
   "source": [
    "d) Print the value of `rural_rush_transit_prop` multiplied by 100 and rounded to two decimal places with the percent character (i.e., \"%\") added to the end of the proportion.  This is the value of: ${\\text{Percent}_\\text{Transit}}$."
   ]
  },
  {
   "cell_type": "code",
   "execution_count": 11,
   "id": "3e7febab",
   "metadata": {},
   "outputs": [
    {
     "name": "stdout",
     "output_type": "stream",
     "text": [
      "1.15%\n"
     ]
    }
   ],
   "source": [
    "rounded = round(rural_rush_transit_prop * 100, 2)\n",
    "print(f\"{rounded}%\")"
   ]
  },
  {
   "cell_type": "markdown",
   "id": "be1bd7ca",
   "metadata": {},
   "source": [
    "e) Use the `print` function to print the following sentence:\n",
    "\n",
    "`The number of people that use transit and feel rushed is {XX}`.\n",
    "\n",
    "Fill in the value of `{XX}`."
   ]
  },
  {
   "cell_type": "code",
   "execution_count": 12,
   "id": "f3b8cb26",
   "metadata": {},
   "outputs": [
    {
     "name": "stdout",
     "output_type": "stream",
     "text": [
      "The number of people that use transit and feel rushed is 41.\n"
     ]
    }
   ],
   "source": [
    "print(f\"The number of people that use transit and feel rushed is {len(clean_time_use_data[rural_rush_transit])}.\")"
   ]
  },
  {
   "cell_type": "markdown",
   "id": "8fffaada",
   "metadata": {},
   "source": [
    "f) Create a variable called `rural_rush_notransit` that is `True` if a respondent has ever felt rushed **AND** does **not** use public transit to work **AND** lives in a rural area. \n",
    "\n",
    "Then, use this variable to select rows in `clean_time_use_data` and then compute the number of such rows, storing the result in a variable called `rural_rush_notransit_num`.\n",
    "\n",
    "This is the value of: $\\text{Total number of respondents in rural areas that do not take transit and feel rushed}$."
   ]
  },
  {
   "cell_type": "code",
   "execution_count": 13,
   "id": "60821574",
   "metadata": {},
   "outputs": [],
   "source": [
    "rural_rush_notransit = (feeling_rushed & transit_no & rural)\n",
    "rural_rush_notransit_num = len(clean_time_use_data[rural_rush_notransit])"
   ]
  },
  {
   "cell_type": "markdown",
   "id": "d2a69a41",
   "metadata": {},
   "source": [
    "g) Use `rural_rush_notransit` to select rows in `clean_time_use_data` and compute the proportion of rural respondents (i.e., rows) that feel rushed and do not take public transit.  Store the proportion in a variable `rural_rush_monthly_prop`."
   ]
  },
  {
   "cell_type": "code",
   "execution_count": 14,
   "id": "18ca1596",
   "metadata": {},
   "outputs": [],
   "source": [
    "rural_rush_monthly_prop = rural_rush_notransit_num/total_rural"
   ]
  },
  {
   "cell_type": "markdown",
   "id": "30b89ec6",
   "metadata": {},
   "source": [
    "h) Print the value of `rural_rush_monthly_prop` multiplied by 100 and rounded to two decimal places with the percent character (i.e., \"%\") added to the end of the proportion. This is the value of: ${\\text{Percent}_\\text{No Transit}}$."
   ]
  },
  {
   "cell_type": "code",
   "execution_count": 15,
   "id": "f5555eb8",
   "metadata": {},
   "outputs": [
    {
     "name": "stdout",
     "output_type": "stream",
     "text": [
      "40.52%\n"
     ]
    }
   ],
   "source": [
    "notransit_rounded = round(rural_rush_monthly_prop * 100, 2)\n",
    "print(f\"{notransit_rounded}%\")"
   ]
  },
  {
   "cell_type": "markdown",
   "id": "868d64e9",
   "metadata": {},
   "source": [
    "h) Use the `print` function to print the following sentence:\n",
    "\n",
    "`The number of people that do not use transit and feel rushed is {XX}.`\n",
    "\n",
    "Fill in the value of `{XX}`."
   ]
  },
  {
   "cell_type": "code",
   "execution_count": 16,
   "id": "44c6b059",
   "metadata": {},
   "outputs": [
    {
     "name": "stdout",
     "output_type": "stream",
     "text": [
      "The number of people that do not use transit and feel rushed is 1439.\n"
     ]
    }
   ],
   "source": [
    "print(f\"The number of people that do not use transit and feel rushed is {len(clean_time_use_data[rural_rush_notransit])}.\")"
   ]
  },
  {
   "cell_type": "markdown",
   "id": "f5453b92",
   "metadata": {},
   "source": [
    "## Task 4\n",
    "\n",
    "Answer the following questions.\n",
    "\n",
    "a) Is the data analysis above sufficient to answer the original question?  If yes then explain why it's sufficient, otherwise explain what type of analysis would have provided appropriate information to help answer the question. Briefly explain your reasoning."
   ]
  },
  {
   "cell_type": "markdown",
   "id": "4a39690f",
   "metadata": {},
   "source": [
    "> *Sample answer (there are several possibilities):*  \n",
    "> \n",
    "> The data analysis is sufficient to answer the original question.  40.52% of people who did not use transit feel and feel rushed compared to 1.15% of people who used transit and feel rushed in rural communities. This is evidence that Canadians in rural communities that take transit and feel rushed are less prevalant compared to those that don't take transit and feel rushed."
   ]
  },
  {
   "cell_type": "markdown",
   "id": "0d7370bb",
   "metadata": {},
   "source": [
    "b) Does the data analysis you performed above provide evidence that Canadians who live in rural areas and use public transit have a poorer mental health than those who don't use public transit to commute to work?  If the analysis doesn't support this claim then describe an analysis that would give you evidence to evaluate this claim. Briefly explain your reasoning."
   ]
  },
  {
   "cell_type": "markdown",
   "id": "1e9faea3",
   "metadata": {},
   "source": [
    "> *Sample answer (there are several possibilities):*\n",
    "> \n",
    "> If we assume that feeling rushed is equivalent to quality of life then this statement could be justified. But, this is a tenuous assumption since there is no reason to assume that these two measures correspond to the same underlying issue.  Instead of using feeling rushed - `gtu_110` we could have used `srh_115` - self rated mental health. We could conduct the same analysis but use this column in place of `gtu_110`.  "
   ]
  },
  {
   "cell_type": "markdown",
   "id": "1ed2fd6e",
   "metadata": {},
   "source": [
    "## Marking Rubric\n",
    "\n",
    "\n",
    "Section     | 0 | 1 | 2 | 3\n",
    "------------|---|---|---|---\n",
    "Computational questions (for each part) |auto test fails | auto test passes | NA | NA \n",
    "Qualitative questions (for each part) | No answer | The question is answered but no explanation is given | The question is answered but the explanation is not supported or weakly supported | The question is answered and the explanation is supported"
   ]
  }
 ],
 "metadata": {
  "kernelspec": {
   "display_name": "Python 3",
   "language": "python",
   "name": "python3"
  },
  "language_info": {
   "codemirror_mode": {
    "name": "ipython",
    "version": 3
   },
   "file_extension": ".py",
   "mimetype": "text/x-python",
   "name": "python",
   "nbconvert_exporter": "python",
   "pygments_lexer": "ipython3",
   "version": "3.10.13"
  },
  "vscode": {
   "interpreter": {
    "hash": "8b8edaa195e148f815789564e9a10f57d8b792ac9e1a5daafce5fbae42bebd0e"
   }
  }
 },
 "nbformat": 4,
 "nbformat_minor": 5
}
