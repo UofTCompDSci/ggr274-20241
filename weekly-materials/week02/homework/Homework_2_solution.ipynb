{
 "cells": [
  {
   "cell_type": "markdown",
   "metadata": {},
   "source": [
    "# GGR274 Homework 2\n",
    "\n",
    "## Logistics\n",
    "\n",
    "**Due date**: The homework is due 23:59 on Monday, January 23.\n",
    "\n",
    "You will submit your work on [MarkUs](https://markus-ds.teach.cs.toronto.edu).\n",
    "To submit your work:\n",
    "\n",
    "1. Download this file (`Homework_2.ipynb`) from JupyterHub. (See [our JupyterHub Guide](../../../guides/jupyterhub_guide.ipynb) for detailed instructions.)\n",
    "2. Submit this file to MarkUs under the **hw2** assignment. (See [our MarkUs Guide](../../../guides/markus_guide.ipynb) for detailed instructions.)\n",
    "All homeworks will take place in a Jupyter notebook (like this one). When you are done, you will download this notebook and submit it to MarkUs.\n"
   ]
  },
  {
   "cell_type": "markdown",
   "metadata": {},
   "source": [
    "## Task 1: Working with numbers\n",
    "\n",
    "Canada has a current population of 39,401,996, which we have stored below in the variable `canada_population`.\n",
    "\n",
    "Assuming that the population grows at a rate of 1.04% per year, write code in the cell below to calculate the expected population of Canada in 2043, exactly 20 years from now.\n",
    "Round your projected number to the nearest integer using the `round` function, and store the final result in a variable called `canada_2043`.\n",
    "\n",
    "(As with Homework 1, we know you could use a traditional calculator to do this. Don't! The purpose of this exercise is to help give you practice with Python.)\n",
    "\n",
    "*Hint*: try using the `pow` function, where `pow(x, y)` calculates \"`x` to the power of `y`\"."
   ]
  },
  {
   "cell_type": "code",
   "execution_count": null,
   "metadata": {},
   "outputs": [],
   "source": [
    "canada_population = 39401996\n",
    "\n",
    "# Write your code below. You can do it in one line, or use variables to split up\n",
    "# your code into multiple steps. Just make sure your final result is stored in\n",
    "# canada_2043.\n",
    "\n",
    "canada_2043 = round(canada_population * pow(1.0104, 20))\n",
    "\n",
    "\n",
    "# The following code is provided to help test your work.\n",
    "print(f\"The expected population of Canada in 2043 is {canada_2043}.\")"
   ]
  },
  {
   "cell_type": "markdown",
   "metadata": {},
   "source": [
    "## Task 2: Working with strings\n",
    "\n",
    "The following cell contains a variable `charter` that contains the opening sentence of the [Canadian Charter of Rights and Freedoms](https://laws-lois.justice.gc.ca/eng/const/page-12.html).\n",
    "\n",
    "Below the variable, define the following new variables:\n",
    "\n",
    "- `charter_uppercase`, a `str` consisting of the same text as `charter`, but written in ALL CAPS.\n",
    "- `charter_length`, an `int` that stores the length (i.e., number of characters) in `charter`. This includes all punctuation marks and spaces.\n",
    "- `charter_words`, a `list` of `str` that contains the text in `charter`, split up at the spaces. (Note: punctuation is included in the \"words\", and that's okay. So the last word in `charter_words` will be `'society.'`, not `'society'`.)"
   ]
  },
  {
   "cell_type": "code",
   "execution_count": null,
   "metadata": {},
   "outputs": [],
   "source": [
    "charter = \"The Canadian Charter of Rights and Freedoms guarantees the rights and freedoms set out in it subject only to such reasonable limits prescribed by law as can be demonstrably justified in a free and democratic society.\"\n",
    "\n",
    "# Replace the ... below with your code.\n",
    "charter_uppercase = charter.upper()\n",
    "charter_length = len(charter)\n",
    "charter_words = charter.split()\n",
    "\n",
    "# We have provided the following code to test your work.\n",
    "print(f\"The contents of charter in ALL CAPS:\\n    {charter_uppercase}\\n\")\n",
    "print(f\"The length of charter: {charter_length}\\n\")\n",
    "print(f\"The words in charter:\\n    {charter_words}\")"
   ]
  },
  {
   "cell_type": "markdown",
   "metadata": {},
   "source": [
    "## Task 3: Working with lists\n",
    "\n",
    "The following variable `ceo_salaries` contains (some of) the top CEO salaries from Fortune 500 companies in 2021 ([AFL-CIO](https://aflcio.org/paywatch/highest-paid-ceos)), in descending order.\n",
    "\n",
    "Using this list, compute:\n",
    "\n",
    "1. The *number of salaries* contained in the list, and store it in a variable called `num_salaries`.\n",
    "2. The *maximum* salary contained in the list, and store it in the variable called `max_salary`. Use the `max` function to calculate this.\n",
    "3. The *average* of the salaries contained in the list, rounded to 2 decimal places. Store this average in a variable called `avg_salary`."
   ]
  },
  {
   "cell_type": "code",
   "execution_count": null,
   "metadata": {},
   "outputs": [],
   "source": [
    "ceo_salaries = [\n",
    "    296247749,\n",
    "    212701169,\n",
    "    178590400,\n",
    "    165802037,\n",
    "    98734394,\n",
    "    84428145,\n",
    "    65996985,\n",
    "    65887214,\n",
    "    60703627,\n",
    "    57923473,\n",
    "    53982195,\n",
    "    49858280,\n",
    "    41860263,\n",
    "    40823725,\n",
    "    40584292,\n",
    "    39545072,\n",
    "    37809810,\n",
    "    36128725,\n",
    "    35265559,\n",
    "    34941635\n",
    "]\n",
    "\n",
    "\n",
    "# Replace the ... below with your code.\n",
    "num_salaries = len(ceo_salaries)\n",
    "max_salary = max(ceo_salaries)  # or, ceo_salaries[0]\n",
    "avg_salary = round(sum(ceo_salaries) / num_salaries, 2)\n",
    "\n",
    "# We have provided the following code to test your work.\n",
    "print(f\"The number of salaries in the list: {num_salaries}\")\n",
    "print(f\"The maximum salary in the list: {max_salary}\")\n",
    "print(f\"The average salary: {avg_salary}\")"
   ]
  },
  {
   "cell_type": "markdown",
   "metadata": {},
   "source": [
    "## Task 4: Written Responses\n",
    "\n",
    "Create a **new Markdown cell below** that answers the following questions:\n",
    "\n",
    "1. *Explain* the difference between `=` and `==` in Python.\n",
    "2. *Explain* the difference between the string methods `str.upper()` and `str.isupper()`.\n",
    "    (We didn't cover `str.isupper()` in lecture; create a new code cell and try calling it to see what it does!)"
   ]
  }
 ],
 "metadata": {
  "kernelspec": {
   "display_name": "Python 3",
   "language": "python",
   "name": "python3"
  },
  "language_info": {
   "codemirror_mode": {
    "name": "ipython",
    "version": 3
   },
   "file_extension": ".py",
   "mimetype": "text/x-python",
   "name": "python",
   "nbconvert_exporter": "python",
   "pygments_lexer": "ipython3",
   "version": "3.7.4"
  },
  "vscode": {
   "interpreter": {
    "hash": "8b8edaa195e148f815789564e9a10f57d8b792ac9e1a5daafce5fbae42bebd0e"
   }
  }
 },
 "nbformat": 4,
 "nbformat_minor": 2
}
