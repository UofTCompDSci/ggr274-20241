{
 "cells": [
  {
   "cell_type": "markdown",
   "id": "acb6306f-044e-4760-8ad2-ed982e5f8b00",
   "metadata": {
    "slideshow": {
     "slide_type": "slide"
    }
   },
   "source": [
    "# Homework 10 : Linear Regression\n",
    "\n",
    "## Logistics\n",
    "\n",
    "**Due date**: The homework is due 23:59 on Monday, March 25th.\n",
    "\n",
    "You will submit your work on [MarkUs](https://markus-ds.teach.cs.toronto.edu).\n",
    "To submit your work:\n",
    "\n",
    "1. Download this file (`Homework_10.ipynb`) from JupyterHub. (See [our JupyterHub Guide](../../../guides/jupyterhub_guide.ipynb) for detailed instructions.)\n",
    "2. Submit this file to MarkUs under the **hw10** assignment. (See [our MarkUs Guide](../../../guides/markus_guide.ipynb) for detailed instructions.)\n",
    "All homeworks will take place in a Jupyter notebook (like this one). When you are done, you will download this notebook and submit it to MarkUs.\n",
    "\n",
    "## Introduction\n",
    " In this homework we explore: \n",
    "- Preparing data from two different sources and merging before analysis\n",
    "- Performing linear regression with multiple dependent variables\n",
    "- Checking performance of linear regression\n",
    "\n"
   ]
  },
  {
   "cell_type": "markdown",
   "id": "fe267567",
   "metadata": {},
   "source": [
    "### Question: How do mental health visits correlated with different socioeconomic factors in men and woman 65+ living in Toronto? \n",
    "\n",
    "You may use the lecture notebook to help you conduct the following analysis. "
   ]
  },
  {
   "cell_type": "markdown",
   "id": "aa9fea67-328b-48da-b3b0-68c1d3cfefe2",
   "metadata": {
    "slideshow": {
     "slide_type": "slide"
    }
   },
   "source": [
    "## Task 1a: Pre-processing independent variables \n",
    "\n",
    "#### Sociodemographic data\n",
    "To perform ordinary least squares (i.e. linear regression) analysis, we will need a set of independent variables and _one_ dependent variable.\n",
    "\n",
    "1. Read sociodemographic data from the excel file `1_socdem_neighb_2006-2.xls` with sheet name `socdem_2006` into `pandas` using `read_excel`. Name the dataframe `socdem_neighb`.\n",
    "2. Select columns/variables relevant for your analysis.\n",
    "3. Rename dataframe columns according to table.\n",
    "4. Check first few entires of dataframe."
   ]
  },
  {
   "cell_type": "code",
   "execution_count": null,
   "id": "8341630f-a31f-4c68-a766-beb8f071476c",
   "metadata": {},
   "outputs": [],
   "source": [
    "import pandas as pd\n",
    "import seaborn as sns\n",
    "import matplotlib.pyplot as plt\n",
    "from statsmodels.formula.api import ols"
   ]
  },
  {
   "cell_type": "markdown",
   "id": "fe61a98a-dfd0-47ee-af70-53010eefdada",
   "metadata": {},
   "source": [
    "#### Step 1: Read in data, name the dataframe `socdem_neighb`. Set header to row 10."
   ]
  },
  {
   "cell_type": "code",
   "execution_count": null,
   "id": "b610856b-92fe-49c3-9258-f48781b49639",
   "metadata": {},
   "outputs": [],
   "source": [
    "# Write your code here\n"
   ]
  },
  {
   "cell_type": "markdown",
   "id": "4a918c97-0ee5-4f83-8555-2ef9db3e3d22",
   "metadata": {
    "slideshow": {
     "slide_type": "slide"
    }
   },
   "source": [
    "#### Step 2: Select columns and save the results to a new dataframe called `socdem_neighb_important` sconsisting of the important columns.\n",
    "\n",
    "For our analysis, select the columns `Neighbourhood id`, `Neighbourhood Name`, `% Not in labour force *`, `% Rented Dwellings`, `% Aged 65+ living alone`."
   ]
  },
  {
   "cell_type": "code",
   "execution_count": null,
   "id": "db48fc31-2069-42a2-93e8-66995437fbdc",
   "metadata": {
    "slideshow": {
     "slide_type": "slide"
    }
   },
   "outputs": [],
   "source": [
    "# Write your code here\n"
   ]
  },
  {
   "cell_type": "markdown",
   "id": "d81d58c8-75ca-48e5-80ec-3c733f993fc5",
   "metadata": {},
   "source": [
    "#### Step 3: Rename dataframe columns _inplace_ according to table below:\n",
    "\n",
    "Old name | New name\n",
    "---------|------------\n",
    "`Neighbourhood id`  |`neighbid`\n",
    "`Neighbourhood Name`  |`name`\n",
    "`% Not in labour force *`| `pct_retired`\n",
    "`% Rented Dwellings`|`pct_rent`\n",
    "`% Aged 65+ living alone`|`live_alone`"
   ]
  },
  {
   "cell_type": "code",
   "execution_count": null,
   "id": "9f7e9782-ff8e-47da-841f-40f56b10b428",
   "metadata": {},
   "outputs": [],
   "source": [
    "# Write your code here\n"
   ]
  },
  {
   "cell_type": "markdown",
   "id": "5432ad9c-3f75-4e36-8f65-43399da1b140",
   "metadata": {},
   "source": [
    "#### Step 4: Check your dataframe by using `head()` function"
   ]
  },
  {
   "cell_type": "code",
   "execution_count": null,
   "id": "745a7301-e587-447d-9660-85ded9f5a687",
   "metadata": {},
   "outputs": [],
   "source": [
    "# Write your code here\n"
   ]
  },
  {
   "cell_type": "markdown",
   "id": "2c178336-f458-4297-84c6-1b44be7a68bd",
   "metadata": {
    "slideshow": {
     "slide_type": "slide"
    }
   },
   "source": [
    "## Task 1b: Processing dependent variable and merging dataframes\n",
    "\n",
    "#### Mental health visit data\n",
    "1. Read data from the excel file `1_ahd_neighb_db_ast_hbp_mhv_copd_2007.xls` with sheet name `1_ahd_neighb_mentalHV_2007` into `pandas` using `read_excel`. Name this dataframe `mh_neighb`.\n",
    "2. Only select age 65+ to filter our dataset for the older population. Include both sexes.\n",
    "3. Rename dataframe according to table\n",
    "4. Merge socioeconomic data with mental health visit data"
   ]
  },
  {
   "cell_type": "markdown",
   "id": "2d439e15-2aa6-442a-990f-a3be2e5b67e5",
   "metadata": {},
   "source": [
    "#### Step 1: Loading in data and name dataframe `mh_neighb`. Set header to row 11."
   ]
  },
  {
   "cell_type": "code",
   "execution_count": null,
   "id": "4783abcf-e435-413d-87c9-dc6cc1924c9f",
   "metadata": {},
   "outputs": [],
   "source": [
    "# Write your code here\n"
   ]
  },
  {
   "cell_type": "markdown",
   "id": "c01928b9-ad90-431f-8294-53cb20947233",
   "metadata": {},
   "source": [
    "#### Step 2: Selecting age 65+ of both sexes, name resulting dataframe `mh_visit_rates`. \n",
    "\n",
    "Since this dataframe is a little complicated, a hint is given: columns 0, 1, and 53 correspond to Neighbourhood ID, Neighbourhood Name, and percentage of mental health visits in both sexes 65+ respectively."
   ]
  },
  {
   "cell_type": "code",
   "execution_count": null,
   "id": "f4325284-4f52-4743-84ab-b3896c4c2b1b",
   "metadata": {},
   "outputs": [],
   "source": [
    "# Write your code here\n"
   ]
  },
  {
   "cell_type": "markdown",
   "id": "daa6f500-f6df-4aa7-b7b2-0c11a9d645d2",
   "metadata": {},
   "source": [
    "#### Step 3: Renaming the columns of the dataframe _inplace_ using the following table:\n",
    "\n",
    "Old name | New name\n",
    "---------|------------\n",
    "`Unnamed: 0`  |`neighbid`\n",
    "`Unnamed: 1`  |`name` \n",
    "`% With mental health visits.11` | `mh_visit_pct`"
   ]
  },
  {
   "cell_type": "code",
   "execution_count": null,
   "id": "aac0a460-5cd0-43a4-a9db-244187a6ed5d",
   "metadata": {
    "slideshow": {
     "slide_type": "slide"
    }
   },
   "outputs": [],
   "source": [
    "# Write your code here\n",
    "\n",
    "# Check you dataframe!\n",
    "mh_visit_rates.head()"
   ]
  },
  {
   "cell_type": "markdown",
   "id": "ed781842-9ac0-4c18-9a08-1e5e1d20d684",
   "metadata": {
    "slideshow": {
     "slide_type": "slide"
    }
   },
   "source": [
    "#### Step 4: Merge Sociodemographic and mental health visit data and call the merged dataframe `mh_socdem`\n",
    "\n",
    "- To examine the relationship between mental health visits and socioeconomic status we will need to merge `socdem_neighb_important` and `mh_visit_rates`.\n",
    "\n",
    "- The `DataFrames` can be merged on `neighbid`."
   ]
  },
  {
   "cell_type": "code",
   "execution_count": null,
   "id": "6c8a9c83-c0be-43db-91e7-1fa5dcdad87d",
   "metadata": {},
   "outputs": [],
   "source": [
    "# Write your code here\n"
   ]
  },
  {
   "cell_type": "markdown",
   "id": "01fec488-1c99-4d5f-80d6-4533afe8c530",
   "metadata": {
    "slideshow": {
     "slide_type": "slide"
    }
   },
   "source": [
    "## Task 2: Fit the regression model\n",
    "\n",
    "1. Fit the model by using the `ols` function. See lecture notebook for examples.\n",
    "2. Create a summary of key values by using the `.summary` method on the fitted model."
   ]
  },
  {
   "cell_type": "markdown",
   "id": "20b553e8-06c2-44c0-9dec-c4367c00b6d5",
   "metadata": {},
   "source": [
    "#### Step 1: Fit the regression model and call the fitted model `reg_mh_fit`\n",
    "- Dependent variable: `mh_visit_pct`\n",
    "- Independent variables: `pct_retired` , `pct_rent` , `live_alone`"
   ]
  },
  {
   "cell_type": "code",
   "execution_count": null,
   "id": "bc712fed-ea95-4a44-8789-e95cb65f695b",
   "metadata": {},
   "outputs": [],
   "source": [
    "# Write your code here\n"
   ]
  },
  {
   "cell_type": "markdown",
   "id": "7eef08ae-f71a-4523-944a-258e192e305f",
   "metadata": {},
   "source": [
    "#### Step 2: Generate statistical summary of the regression model and name result `reg_mh_summary`"
   ]
  },
  {
   "cell_type": "code",
   "execution_count": null,
   "id": "5ce14cca-bf23-4185-bf48-aadd0e2e5909",
   "metadata": {},
   "outputs": [],
   "source": [
    "# Write your code here\n"
   ]
  },
  {
   "cell_type": "markdown",
   "id": "d54410e6-2539-46aa-a1a5-363e9ea16185",
   "metadata": {
    "slideshow": {
     "slide_type": "slide"
    }
   },
   "source": [
    "## Task 3: Determining accuracy of the regression model\n",
    "\n",
    "1. Use the `.rsquared` method to check the rsquared value. Assign this variable to the name `reg_rsquared`.\n",
    "2. Create a scatter plot of residuals vs. fitted values."
   ]
  },
  {
   "cell_type": "markdown",
   "id": "9d68cfce-3b6d-46be-98fe-cd94b558461a",
   "metadata": {},
   "source": [
    "#### Step 1: Check rsquared value and name result `reg_rsquared`"
   ]
  },
  {
   "cell_type": "code",
   "execution_count": null,
   "id": "92e0cd87-f0ab-4347-8f40-8f276c0c6048",
   "metadata": {},
   "outputs": [],
   "source": [
    "# Write your code here\n"
   ]
  },
  {
   "cell_type": "markdown",
   "id": "551cdd18-c9cc-4e41-b64f-2896e92c4ede",
   "metadata": {},
   "source": [
    "#### Step 2: Create scatter plot using matplotlib to visualize the residuals vs. fitted values"
   ]
  },
  {
   "cell_type": "code",
   "execution_count": null,
   "id": "31963fa1-fb91-4917-9142-6a0fc7c97e2f",
   "metadata": {},
   "outputs": [],
   "source": [
    "# Write your code here\n"
   ]
  },
  {
   "cell_type": "markdown",
   "id": "71243d5a",
   "metadata": {},
   "source": [
    "## Task 4: Answering some questions about the regression model you have just fitted\n"
   ]
  },
  {
   "cell_type": "markdown",
   "id": "20f60cff",
   "metadata": {},
   "source": [
    "Question 1: How is the accuracy of the regression model according to its r-squared value and residual plot?"
   ]
  },
  {
   "cell_type": "markdown",
   "id": "9ca44c2f",
   "metadata": {},
   "source": []
  },
  {
   "cell_type": "markdown",
   "id": "2f988daa",
   "metadata": {},
   "source": [
    "Question 2: What is the intercept of the model? What does it mean?"
   ]
  },
  {
   "cell_type": "markdown",
   "id": "70d27ce6",
   "metadata": {},
   "source": []
  },
  {
   "cell_type": "markdown",
   "id": "3d227a82",
   "metadata": {},
   "source": [
    "Question 3: What are the coefficients and p-value of each independent variable? What do they mean?"
   ]
  },
  {
   "cell_type": "markdown",
   "id": "c9c7b2b6",
   "metadata": {},
   "source": []
  }
 ],
 "metadata": {
  "celltoolbar": "Slideshow",
  "kernelspec": {
   "display_name": "Python 3 (ipykernel)",
   "language": "python",
   "name": "python3"
  },
  "language_info": {
   "codemirror_mode": {
    "name": "ipython",
    "version": 3
   },
   "file_extension": ".py",
   "mimetype": "text/x-python",
   "name": "python",
   "nbconvert_exporter": "python",
   "pygments_lexer": "ipython3",
   "version": "3.8.8"
  }
 },
 "nbformat": 4,
 "nbformat_minor": 5
}
