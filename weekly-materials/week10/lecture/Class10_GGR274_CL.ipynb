{
 "cells": [
  {
   "cell_type": "markdown",
   "id": "c6b06155",
   "metadata": {
    "slideshow": {
     "slide_type": "slide"
    }
   },
   "source": [
    "# Class 10\n",
    "\n",
    "## Mar. 19, 2024\n",
    "\n",
    "By the end of this class, you'll be able to:\n",
    "\n",
    "- Fit linear regression;\n",
    "\n",
    "- Know what is spatial data;\n",
    "\n",
    "- Learn a new package geopandas;\n",
    "\n",
    "- Do some basic spatial analysis (we'll learn more in next 2 weeks!)"
   ]
  },
  {
   "cell_type": "markdown",
   "id": "1b493335",
   "metadata": {
    "slideshow": {
     "slide_type": "skip"
    }
   },
   "source": [
    "# Week 10 - Spatial Data Analysis\n",
    "\n",
    "### Overview of Class\n",
    "- intro to spatial data\n",
    "    - why spatial data matters\n",
    "    - types of spatial data (point, polyline, polygon)\n",
    "    - what data look like in files\n",
    " \n",
    "- intro geopandas\n",
    "    - review geodataframes\n",
    "    - simple plots\n",
    "    \n",
    "- how do we get info into our maps?\n",
    "    - joins\n",
    "    - plotting joined info\n",
    "    \n",
    "- how do we do spatial analysis?\n",
    "    - spatial joins\n",
    "    - exploratory data analysis using geographic data"
   ]
  },
  {
   "cell_type": "markdown",
   "id": "aa9fea67-328b-48da-b3b0-68c1d3cfefe2",
   "metadata": {
    "slideshow": {
     "slide_type": "slide"
    }
   },
   "source": [
    "# Review of linear regression\n",
    "\n",
    "## What is the effect of recent immigration on asthma rates in Toronto neighbourhoods?\n",
    "\n",
    "### Data\n",
    "\n",
    "- Data from <http://torontohealthprofiles.ca> contains data on asthma and immigration for each neighbourhood in Toronto.\n",
    "\n",
    "#### Sociodemographic data\n",
    "\n",
    "- Read sociodemographic data from the excel file `1_socdem_neighb_2006-2.xls` with sheet name `socdem_2006` into `pandas` using `read_excel`.\n"
   ]
  },
  {
   "cell_type": "code",
   "execution_count": null,
   "id": "778c2761",
   "metadata": {
    "slideshow": {
     "slide_type": "slide"
    }
   },
   "outputs": [],
   "source": [
    "import pandas as pd\n",
    "import matplotlib.pyplot as plt \n",
    "import numpy as np\n",
    "import seaborn as sns\n",
    "from statsmodels.formula.api import ols\n"
   ]
  },
  {
   "cell_type": "code",
   "execution_count": null,
   "id": "26d12b0a-8674-4cb8-b626-b9a8571817e5",
   "metadata": {
    "slideshow": {
     "slide_type": "-"
    }
   },
   "outputs": [],
   "source": [
    "fname = '1_socdem_neighb_2006-2.xls'\n",
    "sname = 'socdem_2006'\n",
    "socdem_neighb = pd.read_excel(fname, sheet_name = sname, header = 10) # the table starts in row #11\n",
    "socdem_neighb.head()"
   ]
  },
  {
   "cell_type": "markdown",
   "id": "4b539540-8056-4e1a-a853-9c9515764dec",
   "metadata": {
    "slideshow": {
     "slide_type": "slide"
    }
   },
   "source": [
    "Which column should we select to measure immigration?  There are several choices."
   ]
  },
  {
   "cell_type": "code",
   "execution_count": null,
   "id": "ca2e691e-d951-492d-96ef-308f1c74837b",
   "metadata": {},
   "outputs": [],
   "source": [
    "socdem_neighb.columns"
   ]
  },
  {
   "cell_type": "markdown",
   "id": "52be3a7e-2df5-40ac-bf08-73b69890bacc",
   "metadata": {},
   "source": [
    "- Let's use `'% Recent immigrants-within 5 years'` to represent recent immigrants in a neighborhood.\n",
    "\n",
    "- Later on we will want a few more sociodemographic columns, so let's create a new `DataFrame` and rename the columns."
   ]
  },
  {
   "cell_type": "code",
   "execution_count": null,
   "id": "db48fc31-2069-42a2-93e8-66995437fbdc",
   "metadata": {
    "slideshow": {
     "slide_type": "slide"
    }
   },
   "outputs": [],
   "source": [
    "cols = ['Neighbourhood id', 'Neighbourhood Name', \n",
    "        'Median household income after-tax $ ‡', \n",
    "        '% Rented Dwellings', '% Unemployment rate *', \n",
    "        '% Recent immigrants-within 5 years', '% Visible minority']\n",
    "\n",
    "socdem_neighb = socdem_neighb[cols]\n",
    "\n",
    "colnames = {cols[0] : 'Neighbid',\n",
    "            cols[1] : 'name',\n",
    "            cols[2] : 'median_income',\n",
    "            cols[3] : 'rented_dwell',\n",
    "            cols[4] : 'unemployment',\n",
    "            cols[5] : 'immigration5',\n",
    "            cols[6] : 'vismin'}\n",
    "\n",
    "socdem_neighb = socdem_neighb.copy()\n",
    "\n",
    "socdem_neighb.rename(columns = colnames, inplace = True)"
   ]
  },
  {
   "cell_type": "code",
   "execution_count": null,
   "id": "745a7301-e587-447d-9660-85ded9f5a687",
   "metadata": {},
   "outputs": [],
   "source": [
    "socdem_neighb.head()"
   ]
  },
  {
   "cell_type": "markdown",
   "id": "2c178336-f458-4297-84c6-1b44be7a68bd",
   "metadata": {
    "slideshow": {
     "slide_type": "slide"
    }
   },
   "source": [
    "#### Asthma data\n",
    "\n",
    "- Read data from the excel file `1_ahd_neighb_db_ast_hbp_mhv_copd_2007.xls` with sheet name `1_ahd_neighb_asthma_2007` into `pandas` using `read_excel`."
   ]
  },
  {
   "cell_type": "code",
   "execution_count": null,
   "id": "4783abcf-e435-413d-87c9-dc6cc1924c9f",
   "metadata": {},
   "outputs": [],
   "source": [
    "fname = '1_ahd_neighb_db_ast_hbp_mhv_copd_2007.xls'\n",
    "sname = '1_ahd_neighb_asthma_2007'\n",
    "\n",
    "asthma_neighb = pd.read_excel(fname, sheet_name = sname, header = 11) #the table starts with row #12\n",
    "asthma_neighb.head()"
   ]
  },
  {
   "cell_type": "markdown",
   "id": "cc43520d-f3b9-4d6b-ab9a-0d6e7f30e9cb",
   "metadata": {},
   "source": [
    "- The asthma rates are broken down by sex and age.  \n",
    "\n",
    "- Which rates should we choose?  \n",
    "\n",
    "- For this example, let's select asthma rates for both sexes age 20 - 64."
   ]
  },
  {
   "cell_type": "code",
   "execution_count": null,
   "id": "832a17a5-48e4-428f-8210-0f41b15513f7",
   "metadata": {
    "slideshow": {
     "slide_type": "slide"
    }
   },
   "outputs": [],
   "source": [
    "asthma_neighb.columns"
   ]
  },
  {
   "cell_type": "code",
   "execution_count": null,
   "id": "f4325284-4f52-4743-84ab-b3896c4c2b1b",
   "metadata": {},
   "outputs": [],
   "source": [
    "# Select the neghborhood_id, neighborhood_name, and both sexes with asthma\n",
    "\n",
    "important_cols = asthma_neighb.columns[[0, 1, 11]]\n",
    "\n",
    "colnames = {important_cols[0]: 'Neighbid',\n",
    "           important_cols[1] : 'name',\n",
    "           important_cols[2] : 'asthma_pct'}\n",
    "\n",
    "asthma_rates = asthma_neighb.copy()\n",
    "\n",
    "asthma_rates = asthma_rates[important_cols]\n",
    "\n",
    "asthma_rates.rename(columns = colnames, inplace=True)\n",
    "\n",
    "asthma_rates.head()"
   ]
  },
  {
   "cell_type": "markdown",
   "id": "ed781842-9ac0-4c18-9a08-1e5e1d20d684",
   "metadata": {
    "slideshow": {
     "slide_type": "slide"
    }
   },
   "source": [
    "### Merge Sociodemographic and asthma data\n",
    "\n",
    "- To examine the relationship between asthma and immigration we will need to merge `socdem_neighb` and `asthma_rates`.\n",
    "\n",
    "- The `DataFrame`s can be merged on neighbourhood id."
   ]
  },
  {
   "cell_type": "code",
   "execution_count": null,
   "id": "6c8a9c83-c0be-43db-91e7-1fa5dcdad87d",
   "metadata": {},
   "outputs": [],
   "source": [
    "# Two datasets are merged based on neighborhood id\n",
    "\n",
    "asthma_socdem = asthma_rates.merge(socdem_neighb, left_on='Neighbid', right_on='Neighbid')\n",
    "\n",
    "asthma_socdem.head()"
   ]
  },
  {
   "cell_type": "markdown",
   "id": "a8353899-596b-4600-8429-74596ad838c8",
   "metadata": {
    "slideshow": {
     "slide_type": "slide"
    }
   },
   "source": [
    "## A regression model of asthma on immigration\n",
    "\n",
    "### Plot the data\n",
    "\n",
    "- What are the dependent and independent variables?\n",
    "\n",
    "- Does the relationship look linear?"
   ]
  },
  {
   "cell_type": "code",
   "execution_count": null,
   "id": "da76e715-2f1d-43a6-b005-16484cb4ae1c",
   "metadata": {},
   "outputs": [],
   "source": [
    "sns.regplot(y = 'asthma_pct', x = 'immigration5', data = asthma_socdem, ci = None);"
   ]
  },
  {
   "cell_type": "markdown",
   "id": "2486528b",
   "metadata": {},
   "source": [
    "Describe the relationship between asthma and immigration."
   ]
  },
  {
   "cell_type": "markdown",
   "id": "01fec488-1c99-4d5f-80d6-4533afe8c530",
   "metadata": {
    "slideshow": {
     "slide_type": "slide"
    }
   },
   "source": [
    "### Fit the regression model"
   ]
  },
  {
   "cell_type": "code",
   "execution_count": null,
   "id": "bc712fed-ea95-4a44-8789-e95cb65f695b",
   "metadata": {},
   "outputs": [],
   "source": [
    "reg_asthmaimm = ols('asthma_pct ~ immigration5', data = asthma_socdem) # setup the model\n",
    "\n",
    "reg_asthmaimm_fit = reg_asthmaimm.fit() # estimate/fit the model "
   ]
  },
  {
   "cell_type": "markdown",
   "id": "7eef08ae-f71a-4523-944a-258e192e305f",
   "metadata": {},
   "source": [
    "### Statistical summary of the regression model"
   ]
  },
  {
   "cell_type": "code",
   "execution_count": null,
   "id": "5ce14cca-bf23-4185-bf48-aadd0e2e5909",
   "metadata": {},
   "outputs": [],
   "source": [
    "reg_asthmaimm_summ = reg_asthmaimm_fit.summary()\n",
    "\n",
    "reg_asthmaimm_summ.tables[1]"
   ]
  },
  {
   "cell_type": "markdown",
   "id": "065c9aed-d70c-4368-a41c-d20c594076cb",
   "metadata": {},
   "source": [
    "#  The regression model is the equation:\n",
    "\n",
    "$$\\texttt{asthma_pct} = 11.8266  - 0.1597 \\times \\texttt{immigration5}$$\n",
    "\n",
    "- The **slope** indicates that for a 1% **increase** in immigration in the past 5 years the percentage of asthma cases in a neighbourhood **decrease** by 0.1597 (approximately 16%).\n",
    "\n",
    "- The **y-intercept** indicates that when a neighbourhood has 0% immigration the past 5 years then asthma rates are 11%.  \n",
    "\n",
    "- Are there any neighbourhoods with 0% immigration in the past 5 years?"
   ]
  },
  {
   "cell_type": "code",
   "execution_count": null,
   "id": "4efcd6e5-c58c-4d5d-a75f-b099997a67cb",
   "metadata": {
    "slideshow": {
     "slide_type": "slide"
    }
   },
   "outputs": [],
   "source": [
    "asthma_socdem['immigration5'].describe()"
   ]
  },
  {
   "cell_type": "markdown",
   "id": "471059ea-079e-4ce7-9449-2378c465af8f",
   "metadata": {},
   "source": [
    "- The **y-intercept** in regression models often doesn't have a sensible interpretation, but is often mathematically important for regression to work well."
   ]
  },
  {
   "cell_type": "markdown",
   "id": "d54410e6-2539-46aa-a1a5-363e9ea16185",
   "metadata": {
    "slideshow": {
     "slide_type": "slide"
    }
   },
   "source": [
    "## Accuracy of the regression model "
   ]
  },
  {
   "cell_type": "code",
   "execution_count": null,
   "id": "92e0cd87-f0ab-4347-8f40-8f276c0c6048",
   "metadata": {},
   "outputs": [],
   "source": [
    "reg_asthmaimm_fit.rsquared"
   ]
  },
  {
   "cell_type": "code",
   "execution_count": null,
   "id": "31963fa1-fb91-4917-9142-6a0fc7c97e2f",
   "metadata": {},
   "outputs": [],
   "source": [
    "plt.scatter(x = reg_asthmaimm_fit.fittedvalues , y = reg_asthmaimm_fit.resid)\n",
    "plt.axhline(y = 0)\n",
    "plt.xlabel('fitted values')\n",
    "plt.ylabel('residuals')"
   ]
  },
  {
   "cell_type": "markdown",
   "id": "69b027b8",
   "metadata": {
    "slideshow": {
     "slide_type": "fragment"
    }
   },
   "source": [
    "- The R-squared statistics indicates a relatively good explanation of the model (quite larger than 0)\n",
    "\n",
    "- The residual plot indicates some important variables are missing, as we can see larger abolute values as fitted values increase (not a random distributed pattern)"
   ]
  },
  {
   "cell_type": "markdown",
   "id": "6e49a657",
   "metadata": {
    "slideshow": {
     "slide_type": "slide"
    }
   },
   "source": [
    "### Summary\n",
    "\n",
    "Therefore, we can conclude that the immigration rate in recent 5 years in a neighborhood is negatively associated with the prevalence of asthma in the neighborhood.\n",
    "\n",
    "Why not causal relationship?\n",
    "\n",
    "What is the implication?\n"
   ]
  },
  {
   "cell_type": "markdown",
   "id": "febf86a6-4c9c-4dd7-9ab9-7a3ad63db7b4",
   "metadata": {
    "slideshow": {
     "slide_type": "slide"
    },
    "tags": []
   },
   "source": [
    "## Training and testing a model\n",
    "\n",
    "- Ideally we could assess the accuracy of this linear regression model on a new set of data (i.e., immigration rates in Toronto neighbourhoods in future years.) \n",
    "\n",
    "- But, we don't have this data.\n",
    "\n",
    "- One trick that data scientists use to fit the model on part of the data (training data) and use the remaining part (testing data) to test the accuracy.\n",
    "\n",
    "- If we only have one data set then the training data can be obtained by randomly selecting rows from the data to fit the regression model, then the remaining rows can be used to test the accuracy of the model."
   ]
  },
  {
   "cell_type": "markdown",
   "id": "f3053abf-1539-4987-b995-527f849a5f60",
   "metadata": {
    "slideshow": {
     "slide_type": "slide"
    }
   },
   "source": [
    "### Splitting a `pandas` `DataFrame` by `index`"
   ]
  },
  {
   "cell_type": "code",
   "execution_count": null,
   "id": "bf20f6cb-0617-4723-9f27-fa49b04d362c",
   "metadata": {},
   "outputs": [],
   "source": [
    "data = {'a' : [1, 2, 3, 4, 5]}\n",
    "\n",
    "df = pd.DataFrame(data)\n",
    "\n",
    "df.index"
   ]
  },
  {
   "cell_type": "markdown",
   "id": "43ae2793-7975-4131-8202-0e749ba2fdaa",
   "metadata": {},
   "source": [
    "A Boolean array that is `True` if the index is `0` or `1` and `False` otherwise. "
   ]
  },
  {
   "cell_type": "code",
   "execution_count": null,
   "id": "3e371a29-01a8-4a23-9e66-c2feebcc43f4",
   "metadata": {},
   "outputs": [],
   "source": [
    "df.index.isin([0,1])"
   ]
  },
  {
   "cell_type": "markdown",
   "id": "bf1f5310-28e8-48c1-a994-dec914ae031a",
   "metadata": {},
   "source": [
    "To create a Boolean series that is `False` if the index is `0` or `1` and `True` otherwise we can negate `df.index.isin([0,1])` this Boolean series using the `~` operator `~df.index.isin([0,1])`"
   ]
  },
  {
   "cell_type": "code",
   "execution_count": null,
   "id": "9c32e20a-f682-4b6d-bdd8-cdb943535ced",
   "metadata": {},
   "outputs": [],
   "source": [
    "~df.index.isin([0,1])"
   ]
  },
  {
   "cell_type": "code",
   "execution_count": null,
   "id": "d8619ec2-f59d-432b-967c-8f80515c2889",
   "metadata": {},
   "outputs": [],
   "source": [
    "df[~df.index.isin([0,1])]"
   ]
  },
  {
   "cell_type": "markdown",
   "id": "2a1c5620-b7e3-4f84-b914-955f1edf9ad1",
   "metadata": {
    "slideshow": {
     "slide_type": "slide"
    },
    "tags": []
   },
   "source": [
    "### Creating training and test data sets from a single dataset"
   ]
  },
  {
   "cell_type": "markdown",
   "id": "35e64299-3f9b-445b-b366-5e43b4e3d129",
   "metadata": {},
   "source": [
    "### Step 1: \n",
    "\n",
    "- split the data into a training set with 75% of the rows.\n",
    "\n",
    "- use the remaining 25% of the data for testing. "
   ]
  },
  {
   "cell_type": "code",
   "execution_count": null,
   "id": "e651f3a7-637c-4e83-985a-68ee170d2170",
   "metadata": {},
   "outputs": [],
   "source": [
    "np.random.seed(11) # for reproducibility\n",
    "\n",
    "# randomly select 75% of neighbourhoods\n",
    "reg_df_train = asthma_socdem.sample(frac = 0.75, replace = False) \n",
    "\n",
    "# get index of training data\n",
    "train_index = reg_df_train.index"
   ]
  },
  {
   "cell_type": "markdown",
   "id": "c7cccdbb-7931-4120-9817-5e1edefe646e",
   "metadata": {
    "tags": []
   },
   "source": [
    "- Exclude indicies from `reg_df_train` using `pandas` `isin` function. "
   ]
  },
  {
   "cell_type": "code",
   "execution_count": null,
   "id": "6df8c9c9-aa05-4aa6-8e2a-36f8d2d29d74",
   "metadata": {},
   "outputs": [],
   "source": [
    "# exclude rows in training to define test data\n",
    "reg_df_test = asthma_socdem[~asthma_socdem.index.isin(train_index)]\n",
    "\n",
    "print(asthma_socdem.shape)\n",
    "\n",
    "print(reg_df_train.shape)\n",
    "\n",
    "print(reg_df_test.shape)"
   ]
  },
  {
   "cell_type": "markdown",
   "id": "3eaf4b29-62c2-433d-9f5c-53c876065e0a",
   "metadata": {
    "slideshow": {
     "slide_type": "slide"
    }
   },
   "source": [
    "### Step 2: Fit the regression model on the training data"
   ]
  },
  {
   "cell_type": "code",
   "execution_count": null,
   "id": "69d34385-94bd-4400-9424-6c0c92b451f3",
   "metadata": {},
   "outputs": [],
   "source": [
    "reg_train = ols('asthma_pct ~ immigration5', data = reg_df_train) # setup the model\n",
    "\n",
    "reg_train_fit = reg_train.fit() # estimate/fit the model "
   ]
  },
  {
   "cell_type": "markdown",
   "id": "463b50dd-d6b8-4f17-97e9-50917d38909f",
   "metadata": {
    "slideshow": {
     "slide_type": "fragment"
    }
   },
   "source": [
    "### Step 3: Compute fitted values using training data "
   ]
  },
  {
   "cell_type": "code",
   "execution_count": null,
   "id": "14d9a8de-0ec5-47fb-9a0c-aace961d69e3",
   "metadata": {},
   "outputs": [],
   "source": [
    "# use the model fit on the training data to predict asthma rates\n",
    "# from the test set. \n",
    "\n",
    "predvalues_train = reg_train_fit.fittedvalues\n",
    "\n",
    "# Another way to compute\n",
    "# predvalues_train = reg_train_fit.predict(reg_df_train['immigration5'])"
   ]
  },
  {
   "cell_type": "markdown",
   "id": "89189ed4-fa9a-4b4a-8350-0a2af1991ba7",
   "metadata": {
    "slideshow": {
     "slide_type": "slide"
    }
   },
   "source": [
    "### Step 4: Evaluate accuracy using root mean-squared error on training data\n",
    "\n",
    "- Another measure of accuracy of regression models.\n",
    "\n",
    "- Compares observed values of the dependent variable with the predicted values.\n",
    "\n",
    "![rmse.jpg](insights_rmse_formula.jpg)\n",
    "\n"
   ]
  },
  {
   "cell_type": "markdown",
   "id": "0e310300-7dde-4a04-bc1c-063a3eebdf77",
   "metadata": {
    "slideshow": {
     "slide_type": "slide"
    }
   },
   "source": [
    "It can be computed using the `rmse` function from `statsmodels`.\n"
   ]
  },
  {
   "cell_type": "code",
   "execution_count": null,
   "id": "41b8f5d9-a9bd-4e66-a921-8397a7d154a3",
   "metadata": {},
   "outputs": [],
   "source": [
    "# Compute root mean-squared error for the training data.\n",
    "from statsmodels.tools.eval_measures import rmse\n",
    "\n",
    "rmse(predvalues_train, reg_df_train['asthma_pct'])\n"
   ]
  },
  {
   "cell_type": "markdown",
   "id": "8ac15ebd-324d-4eda-b327-ef2d0f5820df",
   "metadata": {},
   "source": [
    "- The observed asthma rates deviate from the predicted asthma rates in each neighbourhood by 1.4% in the training set.\n",
    "\n",
    "- Is this an acceptable prediction error?\n",
    "\n",
    "- Let's examine the accuracy of the linear regression model on the test set\n"
   ]
  },
  {
   "cell_type": "markdown",
   "id": "da085601-4d66-450a-bba2-c99f1f8fb6cf",
   "metadata": {
    "slideshow": {
     "slide_type": "slide"
    }
   },
   "source": [
    "### Step 5: Evaluate the accuracy of regression model on the test data using root mean-squared error\n",
    "\n",
    "- Compute predictions using test data"
   ]
  },
  {
   "cell_type": "code",
   "execution_count": null,
   "id": "56e41e16-f735-4f17-a935-ea67532f36b8",
   "metadata": {},
   "outputs": [],
   "source": [
    "predvalues_test = reg_train_fit.predict(reg_df_test['immigration5'])\n"
   ]
  },
  {
   "cell_type": "markdown",
   "id": "769ad805-3bca-4a8e-8067-503042112add",
   "metadata": {},
   "source": [
    "- Now compute the root mean-squared error for the test data using the model fit on the training data."
   ]
  },
  {
   "cell_type": "code",
   "execution_count": null,
   "id": "3a01ff07-c594-421c-b7ff-436d2895dc2c",
   "metadata": {},
   "outputs": [],
   "source": [
    "rmse(predvalues_test, reg_df_test['asthma_pct'])\n"
   ]
  },
  {
   "cell_type": "markdown",
   "id": "be475699-afc9-40cb-8ef0-bd27984450a6",
   "metadata": {
    "slideshow": {
     "slide_type": "slide"
    }
   },
   "source": [
    "## Conclusion of data analysis using linear regression model\n",
    "\n",
    "- The regression model appears to provide an accurate fit the data, although both the scatter plot and plot of residuals indicate that there is a lot of variation in asthma rates in neighbourhoods when the immigrations rates are small (between 10%-20%).\n",
    "\n",
    "- As the percentage of immigrants to a neighbourhood within the last 5 years increases, the asthma rates will decreases. \n",
    "\n",
    "- Regression analyses on aggregated data such as neighbourhoods can be misleading when compared to non-aggregated data."
   ]
  },
  {
   "cell_type": "markdown",
   "id": "d6ffc6e5-0fad-4fa1-93c4-531c083f13d8",
   "metadata": {
    "slideshow": {
     "slide_type": "slide"
    }
   },
   "source": [
    "## Are there other sociodemographic  factors in our data that might effect asthma rates?\n",
    "\n",
    "- Let's create a matrix scatter plot using [`pairplot`](https://seaborn.pydata.org/generated/seaborn.pairplot.html) in the `seaborn` library.\n",
    "\n",
    "- `pairplot` will visualize paired relationship between variables in a dataset."
   ]
  },
  {
   "cell_type": "code",
   "execution_count": null,
   "id": "224bd66a",
   "metadata": {},
   "outputs": [],
   "source": [
    "asthma_socdem.columns"
   ]
  },
  {
   "cell_type": "code",
   "execution_count": null,
   "id": "cb18fe13-b861-41af-9925-a8d4db5bc57f",
   "metadata": {
    "slideshow": {
     "slide_type": "slide"
    }
   },
   "outputs": [],
   "source": [
    "# reduce the column for better presentation\n",
    "to_show = ['asthma_pct','median_income','rented_dwell','immigration5','vismin']\n",
    "sns.pairplot(asthma_socdem[to_show]);"
   ]
  },
  {
   "cell_type": "markdown",
   "id": "6ec32bfd-8e7f-40b1-82d5-3514c8f8a4f8",
   "metadata": {
    "slideshow": {
     "slide_type": "slide"
    }
   },
   "source": [
    "- Let's consider median income\n",
    "\n",
    "- Fit the regression model on all the data and produce a statistical summary."
   ]
  },
  {
   "cell_type": "code",
   "execution_count": null,
   "id": "38b1224a-c855-4a67-aaf3-6b6ab1e9e129",
   "metadata": {
    "slideshow": {
     "slide_type": "fragment"
    }
   },
   "outputs": [],
   "source": [
    "reg_asthmaimmunem = ols('asthma_pct ~ immigration5 + median_income', data = asthma_socdem) # setup the model\n",
    "\n",
    "reg_asthmaimmunem_fit = reg_asthmaimmunem.fit() # estimate/fit the model \n",
    "\n",
    "reg_asthmaimmunem_summ = reg_asthmaimmunem_fit.summary()\n",
    "\n",
    "reg_asthmaimmunem_summ.tables[1]"
   ]
  },
  {
   "cell_type": "markdown",
   "id": "3c7eb40d-16a0-4ecb-a46a-e61da520af23",
   "metadata": {},
   "source": [
    "- Notice that the slope estimate (coefficient) for `median_income` is 0, but so is the p-value and range of plausible values.\n",
    "\n",
    "- That seems odd.  What's happening?\n",
    "\n",
    "- We can see from the scatter plot that `immigration5` and `median_income` have a linear relationship.  \n",
    "\n",
    "- When two variables have a linear relationship multiple linear regression models produce strange results.\n",
    "\n",
    "- It's important that independent variables in a multiple regression model are unrelated."
   ]
  },
  {
   "cell_type": "code",
   "execution_count": null,
   "id": "b4b3d357",
   "metadata": {
    "slideshow": {
     "slide_type": "slide"
    }
   },
   "outputs": [],
   "source": [
    "sns.regplot(y = 'immigration5', x = 'median_income', data = asthma_socdem, ci = None);"
   ]
  },
  {
   "cell_type": "markdown",
   "id": "83f0f575",
   "metadata": {
    "slideshow": {
     "slide_type": "slide"
    }
   },
   "source": [
    "## A quick review of linear regression\n",
    "\n",
    "- Step 1: prepare data (Which dataset I want to import? Which variables I want to analyze? How I can 'wrangle' the data, i.e., produce new variables and merge them into one dataframe for further analysis?)\n",
    "\n",
    "- Step 2: Explore pair relationship (Using `sns.pairplot` to explore potential relationships. Is there a linear relationship?)\n",
    "\n",
    "- Step 3: Fit model\n",
    "\n",
    "- Step 4: Accuracy (Which indicators I want to use? e.g., r-squared, residual plot, RMSE)\n",
    "\n",
    "- Step 5: Display the full model and explain (What does the model mean?)"
   ]
  },
  {
   "cell_type": "markdown",
   "id": "39400729",
   "metadata": {},
   "source": []
  },
  {
   "cell_type": "markdown",
   "id": "30762a0c",
   "metadata": {
    "slideshow": {
     "slide_type": "slide"
    }
   },
   "source": [
    "# Introduction to spatial data\n",
    "\n",
    "## Why Spatial Data Matters\n",
    "\n",
    "#### What are spatial data? \n",
    "\n",
    "Spatial data are data that have some geographic attribute(s). So you can think of it like each row having a pointer to where the row goes on a map.\n",
    "\n",
    "#### Why do we want spatial data? \n",
    "\n",
    "By locating things on a map, we can look for how certain variables present vary across space. We can look for things like clustering of high values or cold spots (aka hot spots/cold spots) or dispersal. Patterns across space can reveal interesting drivers of social phenomena.  \n",
    "\n"
   ]
  },
  {
   "cell_type": "markdown",
   "id": "0630e3b2",
   "metadata": {
    "slideshow": {
     "slide_type": "slide"
    }
   },
   "source": [
    "![toronto income](https://preview.redd.it/xisicselj7t21.jpg?width=960&crop=smart&auto=webp&s=541f2d6a7f83deea324230f885831c8a84b2cb45)"
   ]
  },
  {
   "cell_type": "markdown",
   "id": "b04d250b",
   "metadata": {
    "slideshow": {
     "slide_type": "slide"
    }
   },
   "source": [
    "## Types of Spatial Data\n",
    "\n",
    "### raster data & vector data\n",
    "\n",
    "![vector and raster](https://cdn.safe.com/wp-content/uploads/2021/10/13090609/Raster-VS-Vector-1.png)\n"
   ]
  },
  {
   "cell_type": "markdown",
   "id": "98a8b77f",
   "metadata": {
    "slideshow": {
     "slide_type": "slide"
    }
   },
   "source": [
    "#### Raster data\n",
    "\n",
    "For example, satellite and aerial images\n",
    "\n",
    "![landsat data](https://upload.wikimedia.org/wikipedia/commons/b/bf/Toronto_Landsat.jpg)"
   ]
  },
  {
   "cell_type": "markdown",
   "id": "52865dda",
   "metadata": {
    "slideshow": {
     "slide_type": "slide"
    }
   },
   "source": [
    "#### Vector data\n",
    "\n",
    "For example, points, lines, and polygons\n",
    "\n",
    "![points lines polys](https://community.alteryx.com/t5/image/serverpage/image-id/49570i26EF3FAEACD21BD4/image-size/medium?v=1.0&px=400)"
   ]
  },
  {
   "cell_type": "markdown",
   "id": "1c4351cd",
   "metadata": {
    "slideshow": {
     "slide_type": "slide"
    }
   },
   "source": [
    "## How are these data stored in a computer?\n",
    "\n",
    "There are many ways!\n",
    "\n",
    "#### Generally raster data are stored as a matrix\n",
    "\n",
    "![matrix raster](https://www.researchgate.net/profile/Bartosz-Mitka-2/publication/269336365/figure/fig1/AS:650423912374277@1532084553146/The-matrix-of-Regular-Raster-Grid-model-containing-elevations-of-terrain-Elevations-of.png)\n",
    "\n"
   ]
  },
  {
   "cell_type": "markdown",
   "id": "f1eca5f5",
   "metadata": {
    "slideshow": {
     "slide_type": "slide"
    }
   },
   "source": [
    "#### Vector data is stored in many different ways...\n",
    "\n",
    "Two common ones are `geojson` and `shapefiles`.\n",
    "\n",
    "What are these files made of? \n",
    "\n",
    "Geojson is pretty straightforward:\n",
    "\n",
    "![geojson example](http://djjr-courses.wdfiles.com/local--files/soc128:images-coding/GEOJSON-format01.png)\n",
    "\n",
    "Shapefiles are more complicated and involve multiple distinct files that contain information about spatial locations, coordinate systems and projections, attributes, etc. We'll focus on geojson for this class."
   ]
  },
  {
   "cell_type": "markdown",
   "id": "97d6a013",
   "metadata": {
    "slideshow": {
     "slide_type": "slide"
    }
   },
   "source": [
    "# Introducing GeoPandas\n",
    "\n",
    "## How do we work with spatial data in python?\n",
    "\n",
    "We're going to use something called 'geopandas'\n",
    "\n",
    "https://geopandas.org/en/stable/\n",
    "\n",
    "There are a few other libraries that we need, like mapclassify. There are a lot of different tools out there, but we'll stick to these two (and the xls reader) for today"
   ]
  },
  {
   "cell_type": "code",
   "execution_count": null,
   "id": "28d5c6d6",
   "metadata": {
    "slideshow": {
     "slide_type": "skip"
    }
   },
   "outputs": [],
   "source": [
    "# # Let's install and then load libraries\n",
    "# import sys\n",
    "# !{sys.executable} -m pip install geopandas\n",
    "# !{sys.executable} -m pip install mapclassify\n",
    "# !{sys.executable} -m pip install xlrd\n"
   ]
  },
  {
   "cell_type": "code",
   "execution_count": null,
   "id": "dfcff176",
   "metadata": {},
   "outputs": [],
   "source": [
    "import pandas as pd\n",
    "import geopandas as gpd\n",
    "import matplotlib.pyplot as plt\n",
    "import mapclassify\n",
    "import xlrd"
   ]
  },
  {
   "cell_type": "markdown",
   "id": "eebb114c",
   "metadata": {
    "slideshow": {
     "slide_type": "slide"
    }
   },
   "source": [
    "### Now we want to import a spatial data file. \n",
    "\n",
    "We'll be working with two spatial data files today: \n",
    "`Toronto_Neighbourhoods.geojson` and `toronto_rails.geojson`\n",
    "\n",
    "We'll also use the health data we were playing with last week:\n",
    "`1_ahd_neighb_db_ast_hbp_mhv_copd_2007.xls`\n",
    "\n",
    "#### To load the spatial data we need to create something known as a geodataframe:"
   ]
  },
  {
   "cell_type": "code",
   "execution_count": null,
   "id": "b414b48e",
   "metadata": {},
   "outputs": [],
   "source": [
    "\n",
    "nbrhd = gpd.GeoDataFrame.from_file(\"Toronto_Neighbourhoods.geojson\") ## Like pd.read_xxx(file_name)\n",
    "nbrhd.head()"
   ]
  },
  {
   "cell_type": "code",
   "execution_count": null,
   "id": "16e506ed",
   "metadata": {
    "slideshow": {
     "slide_type": "slide"
    }
   },
   "outputs": [],
   "source": [
    "# Let's look at the geometry column - this is the data that \n",
    "# describes the polygon representing the first neighbourhood\n",
    "\n",
    "print(nbrhd.loc[0,'geometry'])"
   ]
  },
  {
   "cell_type": "code",
   "execution_count": null,
   "id": "a0927075",
   "metadata": {
    "slideshow": {
     "slide_type": "slide"
    }
   },
   "outputs": [],
   "source": [
    "# Otherwise we can continue to treat the variable like a dataframe ... \n",
    "# it's what we have been doing all along!\n",
    "\n",
    "nbrhd_names = nbrhd[\"AREA_NAME\"]\n",
    "type(nbrhd_names)"
   ]
  },
  {
   "cell_type": "markdown",
   "id": "cc42c500",
   "metadata": {
    "slideshow": {
     "slide_type": "slide"
    }
   },
   "source": [
    "### Now if we want to make a map, what do we do? \n",
    "\n",
    "It's easy! You can \"plot\" a geodataframe and geopandas will make it a map!"
   ]
  },
  {
   "cell_type": "code",
   "execution_count": null,
   "id": "4c810926",
   "metadata": {
    "slideshow": {
     "slide_type": "fragment"
    }
   },
   "outputs": [],
   "source": [
    "nbrhd.plot()"
   ]
  },
  {
   "cell_type": "markdown",
   "id": "e53e4b5a",
   "metadata": {
    "slideshow": {
     "slide_type": "slide"
    }
   },
   "source": [
    "### That's nice...\n",
    "\n",
    "But we want to be a little more sophisticated with our maps.\n",
    "\n",
    "![basic_gif](basic.gif \"basic\")\n",
    "\n",
    "The next cell goes through a better way to create a map \"figure\".\n",
    "\n",
    "Let's first create `Figure` and `Axes` objects.\n",
    "\n",
    "![fig and ax](matplotlib_figure_axes_axis.png)"
   ]
  },
  {
   "cell_type": "markdown",
   "id": "7bc5d548",
   "metadata": {
    "slideshow": {
     "slide_type": "slide"
    }
   },
   "source": [
    "First, let's use `plt.subplots` to create a figure variable \"fig\" and an axes variables called \"ax\".\n",
    "\n",
    "The first line of code sets the stage - it says how many images - by rows/columns, and we can set other figure attributes in here, like figure size using figsize.\n",
    "\n",
    "\n",
    "To plot the map, we need to call the plot command `.plot` like before, but this time we want to say which 'cell' or ax cell it will go in, i.e., `ax=axes`. We also can use the `column` parameter to shade each row (that represents a polygon) by an attribute value.\n"
   ]
  },
  {
   "cell_type": "code",
   "execution_count": null,
   "id": "8c59c773",
   "metadata": {
    "slideshow": {
     "slide_type": "-"
    }
   },
   "outputs": [],
   "source": [
    "fig, axes = plt.subplots(1, 1, figsize = (12,12))\n",
    "\n",
    "print(type(fig)) #Figure object is like the sheet we are drawing on\n",
    "print(type(axes))  #AxesSubplots are like cells within the sheet\n",
    "\n",
    "nbrhd.plot(column = \"AREA_NAME\", ax = axes);"
   ]
  },
  {
   "cell_type": "markdown",
   "id": "e5b1c194",
   "metadata": {
    "slideshow": {
     "slide_type": "slide"
    }
   },
   "source": [
    "What if we want to do 2 maps in one figure?\n"
   ]
  },
  {
   "cell_type": "code",
   "execution_count": null,
   "id": "54a8e79a",
   "metadata": {},
   "outputs": [],
   "source": [
    "\n",
    "fig, axes = plt.subplots(1, 2)\n",
    "\n",
    "#notice there are just 2 things in the axes object\n",
    "print(axes.shape)\n",
    "\n",
    "# pick the first cell in the figure\n",
    "ax = axes[0]\n",
    "nbrhd.plot(column = \"AREA_NAME\",\n",
    "           ax=ax)\n",
    "\n",
    "# pick the second cell in the figure\n",
    "ax = axes[1]\n",
    "nbrhd.plot(ax=ax)\n",
    "\n",
    "#resize\n",
    "current_fig = plt.gcf() #get current figure aka gcf\n",
    "current_fig.set_size_inches(15,10) #set figure width\n",
    "current_fig.savefig('torontomaps.png',dpi=100) #export maps as an image file!"
   ]
  },
  {
   "cell_type": "markdown",
   "id": "ad8d684f",
   "metadata": {
    "slideshow": {
     "slide_type": "slide"
    }
   },
   "source": [
    "A note about axes:\n",
    "\n",
    "- if you only has one 'axes' (i.e., plt.subplots(1,1)) then you can just say `ax = axes`\n",
    "- if you have a 1 row and multiple columns or multiple rows and 1 column, then you would say `ax = axes[n]` where `n` is the axes cell you'd like to put the figure in\n",
    "- if you have a matrix of cells of axes (i.e., plt.subplots(2,2)) then you need to say `ax = axes[n][m]` where `n` is the row number and `m` is the column number of the cell"
   ]
  },
  {
   "cell_type": "markdown",
   "id": "23e28dab",
   "metadata": {
    "slideshow": {
     "slide_type": "slide"
    }
   },
   "source": [
    "#### Let's try with a column that contains a number... what happens there? \n",
    "\n",
    "let's also add a new parameter \"cmap\" = [color map](https://matplotlib.org/stable/tutorials/colors/colormaps.html) and a legend.\n",
    "\n",
    "\n",
    "This link will provide more info on other things we can do with plotting geodataframes: \n",
    "https://geopandas.org/en/stable/docs/reference/api/geopandas.GeoDataFrame.plot.html"
   ]
  },
  {
   "cell_type": "code",
   "execution_count": null,
   "id": "8efb2c53",
   "metadata": {
    "slideshow": {
     "slide_type": "-"
    }
   },
   "outputs": [],
   "source": [
    "fig, axes = plt.subplots(1,1)\n",
    "\n",
    "# We want to plot the area of each neighborhood\n",
    "nbrhd.plot(column = \"Shape__Area\", ax = axes, \n",
    "           cmap = \"cool\", legend = True)\n",
    "\n",
    "current_fig = plt.gcf()\n",
    "current_fig.set_size_inches(10, 10)"
   ]
  },
  {
   "cell_type": "markdown",
   "id": "5559931b",
   "metadata": {
    "slideshow": {
     "slide_type": "skip"
    }
   },
   "source": [
    "### let's try again with neighbourhoods:"
   ]
  },
  {
   "cell_type": "code",
   "execution_count": null,
   "id": "9968f995",
   "metadata": {
    "slideshow": {
     "slide_type": "skip"
    }
   },
   "outputs": [],
   "source": [
    "#another way to resize\n",
    "fig, axes = plt.subplots(1,1, figsize = (15,15))\n",
    "\n",
    "\n",
    "nbrhd.plot(column = \"AREA_NAME\", ax = axes,\n",
    "           cmap = \"Pastel1\", legend = True)\n"
   ]
  },
  {
   "cell_type": "markdown",
   "id": "38422af5",
   "metadata": {
    "slideshow": {
     "slide_type": "skip"
    }
   },
   "source": [
    "... These are silly maps. Who cares how big the neighbourhoods are or who can deal with a weird pastel map with a legend that is way too big... \n",
    "\n",
    "#### We want to know what is happening inside of them!\n",
    "\n",
    "How do we bring two pieces of info together? How do we bring data from a table into a geodataframe?\n",
    "\n",
    "We can use joins! Remember those?\n"
   ]
  },
  {
   "cell_type": "markdown",
   "id": "a0f44357",
   "metadata": {
    "slideshow": {
     "slide_type": "slide"
    }
   },
   "source": [
    "###  How do we bring data from a table into a geodataframe?\n",
    "\n",
    "We can use `merge`, just like what we did before!\n",
    "\n",
    "Let's join the asthma rates into the neighborhood and map them out."
   ]
  },
  {
   "cell_type": "code",
   "execution_count": null,
   "id": "1dc83a05",
   "metadata": {
    "slideshow": {
     "slide_type": "fragment"
    }
   },
   "outputs": [],
   "source": [
    "# simplify the geodataframe ready\n",
    "\n",
    "important_spat_cols = nbrhd.columns[[4, 5, 17]]\n",
    "colnames_spat = {important_spat_cols[0]: 'name',\n",
    "           important_spat_cols[1] : 'nbrhd_spat_id',\n",
    "           important_spat_cols[2] : 'geometry'}\n",
    "\n",
    "nbrhd_simple = nbrhd.copy()\n",
    "\n",
    "nbrhd_simple = nbrhd_simple[important_spat_cols]\n",
    "\n",
    "nbrhd_simple.rename(columns = colnames_spat, inplace=True)\n",
    "\n",
    "# Notice that the \"nbrhd_spat_id\" is a string and not a number... that may be an issue\n",
    "print(\"The data type of nbrhd_spat_id is: \", type(nbrhd_simple[\"nbrhd_spat_id\"][0]))\n",
    "nbrhd_simple.head()"
   ]
  },
  {
   "cell_type": "code",
   "execution_count": null,
   "id": "7e4118e6",
   "metadata": {
    "slideshow": {
     "slide_type": "slide"
    }
   },
   "outputs": [],
   "source": [
    "#get the asthma data\n",
    "\n",
    "fname = '1_ahd_neighb_db_ast_hbp_mhv_copd_2007.xls' #file name\n",
    "sname = '1_ahd_neighb_asthma_2007' #sheet name in excel file\n",
    "\n",
    "#store excel sheet with asthma data in a dataframe variable\n",
    "asthma_neighb = pd.read_excel(fname, sheet_name = sname, header = 11)\n",
    "asthma_neighb.head()"
   ]
  },
  {
   "cell_type": "code",
   "execution_count": null,
   "id": "b0b21357",
   "metadata": {
    "slideshow": {
     "slide_type": "slide"
    }
   },
   "outputs": [],
   "source": [
    "#let's simplify this by only pulling a few relevant columns\n",
    "important_cols = asthma_neighb.columns[[0, 1, 11]]\n",
    "colnames = {important_cols[0]: 'Neighbid',\n",
    "           important_cols[1] : 'name',\n",
    "           important_cols[2] : 'asthma_pct'}\n",
    "\n",
    "asthma_rates = asthma_neighb.copy()\n",
    "\n",
    "asthma_rates = asthma_rates[important_cols]\n",
    "\n",
    "asthma_rates.rename(columns = colnames, inplace=True)\n",
    "\n",
    "print(\"The data type of Neighbid is: \", type(asthma_rates[\"Neighbid\"][0]))\n",
    "asthma_rates.head()\n"
   ]
  },
  {
   "cell_type": "markdown",
   "id": "f16f4f24",
   "metadata": {
    "slideshow": {
     "slide_type": "slide"
    }
   },
   "source": [
    "### Note that the `nbrhd_spat_id` in Neighborhood GeoDataFrame is string\n",
    "\n",
    "Let's convert it into a number. \n"
   ]
  },
  {
   "cell_type": "code",
   "execution_count": null,
   "id": "d7ad1902",
   "metadata": {},
   "outputs": [],
   "source": [
    "# Create a new variable in the nbrhd_simple geodataframe and store the new number\n",
    "# version of the neighbourhood id here\n",
    "nbrhd_simple[\"Neighbid\"] = nbrhd_simple[\"nbrhd_spat_id\"].astype(int)\n",
    "\n",
    "# we can sort by the id - and check to see if they line up with the asthma data \n",
    "nbrhd_simple.sort_values('Neighbid').head()\n"
   ]
  },
  {
   "cell_type": "markdown",
   "id": "21f5bbfb",
   "metadata": {
    "slideshow": {
     "slide_type": "fragment"
    }
   },
   "source": [
    "#### Now let's do the join!"
   ]
  },
  {
   "cell_type": "code",
   "execution_count": null,
   "id": "3b2d7a8e",
   "metadata": {
    "slideshow": {
     "slide_type": "-"
    }
   },
   "outputs": [],
   "source": [
    "nbrhd_simple = nbrhd_simple.merge(asthma_rates, on=\"Neighbid\")\n",
    "nbrhd_simple.head()"
   ]
  },
  {
   "cell_type": "markdown",
   "id": "3f952350",
   "metadata": {
    "slideshow": {
     "slide_type": "slide"
    }
   },
   "source": [
    "### Now that we have merged our spatial data with our attribute data...\n",
    "\n",
    "#### we can plot the values using the geodataframe maps plotting capability"
   ]
  },
  {
   "cell_type": "code",
   "execution_count": null,
   "id": "bd1a6d48",
   "metadata": {},
   "outputs": [],
   "source": [
    "#generate our figure/axes and set fig size\n",
    "fig, axes = plt.subplots(1, 1, figsize = (12,12))\n",
    "\n",
    "#let's map asthma percent rates across toronto!\n",
    "nbrhd_simple.plot(column = \"asthma_pct\",\n",
    "                  legend = True, ax = axes, \n",
    "                  cmap = \"YlOrRd\")"
   ]
  },
  {
   "cell_type": "markdown",
   "id": "3c600b6c",
   "metadata": {
    "slideshow": {
     "slide_type": "slide"
    }
   },
   "source": [
    "### Hmm - Looks like there are some spatial patterns!\n",
    "\n",
    "We can also look at non-spatial figures to explore our data. Doing this helps us understand the 'shape' of our data in different ways. \n",
    "\n",
    "Let's create a histogram of the same data in the following cell:"
   ]
  },
  {
   "cell_type": "code",
   "execution_count": null,
   "id": "f7b2dd52",
   "metadata": {},
   "outputs": [],
   "source": [
    "# Just like what we do in pandas\n",
    "nbrhd_simple['asthma_pct'].hist(bins=8)\n",
    "\n",
    "plt.xlabel('Asthma Percent')\n",
    "plt.ylabel('Number of neighbourhoods')\n",
    "plt.title('Distribution of percent of residents with asthma in Toronto, ON')\n",
    "plt.show()"
   ]
  },
  {
   "cell_type": "markdown",
   "id": "4921f7f5",
   "metadata": {
    "slideshow": {
     "slide_type": "slide"
    }
   },
   "source": [
    "### Interesting!\n",
    "\n",
    "This looks like a \"normal\" distribution: \n",
    "- Many neighbourhoods with values in the middle range, but some at the extremes (both low and high). \n",
    "\n",
    "But when we look at the map, we notice that neighbourhoods with high values tend to be near other neighbourhoods with high values, and low value neighbourhoods near others with low values. \n",
    "\n",
    "Maybe there is some spatial mechanism causing this!\n"
   ]
  },
  {
   "cell_type": "markdown",
   "id": "d2b0d2e0",
   "metadata": {
    "slideshow": {
     "slide_type": "slide"
    }
   },
   "source": [
    "### To dig into this more, let's classify the data using quartiles...\n",
    "\n",
    "To do this we add a `scheme` parameter to the plot function and use `quantiles`. the `k` value tells the plot function how many quantiles you want. We want four quantiles (0-25%, 25%-50%, 50%-75%, 75%-100%).\n",
    "\n",
    "More information about [`plot`](https://geopandas.org/en/stable/docs/reference/api/geopandas.GeoDataFrame.plot.html) function \n",
    "\n",
    "We do this for a few reasons: \n",
    "- (1) It makes it easier to see groups with similar values that are close to eachother and \n",
    "- (2) it makes the legend easier to interpret.\n",
    "\n",
    "Note that we also have added an `edgecolor` parameter which tells the map what color to outline neighbourhoods with."
   ]
  },
  {
   "cell_type": "code",
   "execution_count": null,
   "id": "2e82da92",
   "metadata": {
    "slideshow": {
     "slide_type": "slide"
    }
   },
   "outputs": [],
   "source": [
    "fig, axes = plt.subplots(1,1, figsize =  (10,10))\n",
    "nbrhd_simple.plot(column='asthma_pct', scheme='quantiles', \n",
    "                  k=4, cmap='YlOrRd', edgecolor='black', \n",
    "                  ax = axes, legend=True)\n"
   ]
  },
  {
   "cell_type": "markdown",
   "id": "3f95ff5e",
   "metadata": {
    "slideshow": {
     "slide_type": "slide"
    }
   },
   "source": [
    "This map looks a lot better, I think! But the legend is overlapping the map. We should move it. \n",
    "\n",
    "The legend options are kind of complicated, but you can find more about stuff here: https://matplotlib.org/3.5.1/api/_as_gen/matplotlib.pyplot.legend.html\n",
    "\n",
    "I'm going to show you a few things you can do, like move the legend, adjust font size, and add a title:"
   ]
  },
  {
   "cell_type": "code",
   "execution_count": null,
   "id": "5c590f90",
   "metadata": {},
   "outputs": [],
   "source": [
    "fig, axes = plt.subplots(1,1, figsize =  (12,12))\n",
    "\n",
    "nbrhd_simple.plot(column='asthma_pct', scheme='quantiles', \n",
    "                  k=4, cmap='Greens', edgecolor='grey', \n",
    "                  ax = axes, legend=True, \n",
    "                  legend_kwds={'loc': 4, 'title': 'Percent Asthmatic',\n",
    "                               'title_fontsize': 23,'fontsize': 15}) #'loc'=4 means lower right"
   ]
  },
  {
   "cell_type": "markdown",
   "id": "b3822b20",
   "metadata": {
    "slideshow": {
     "slide_type": "slide"
    }
   },
   "source": [
    "Can we show descriptive stats charts next to a map? \n",
    "\n",
    "Yes!\n"
   ]
  },
  {
   "cell_type": "code",
   "execution_count": null,
   "id": "53f35fa4",
   "metadata": {},
   "outputs": [],
   "source": [
    "#First create a figure sheet with 2 axes cells (and resize the figure)\n",
    "fig, axes = plt.subplots(1,2, figsize = (15,5))\n",
    "\n",
    "#let's put the map in the first axes cell:\n",
    "nbrhd_simple.plot(column='asthma_pct', scheme='quantiles', \n",
    "                  k=4, cmap='Greens', edgecolor='grey', linewidth = 0.2, #notice I added linewidth to narrow the borders\n",
    "                  ax = axes[0], legend=True, \n",
    "                  legend_kwds={'loc': 4, 'title': 'Percent Asthmatic', \n",
    "                               'title_fontsize': 10,'fontsize': 9})\n",
    "\n",
    "#we can put the histogram we made earlier in the second axes cell:\n",
    "nbrhd_simple['asthma_pct'].hist(bins=8, ax = axes[1])\n",
    "plt.xlabel('Asthma Percent')\n",
    "plt.ylabel('Number of neighbourhoods')\n",
    "plt.title('Distribution of percent of residents with asthma in Toronto, ON')"
   ]
  },
  {
   "cell_type": "markdown",
   "id": "02942aa0",
   "metadata": {
    "slideshow": {
     "slide_type": "slide"
    }
   },
   "source": [
    "## First steps into \"spatial analysis\"...\n",
    "\n",
    "OK great! That chart is interesting and gets us thinking. But one of the powers of spatial analysis is relating environments to spatial phenomena.\n",
    "\n",
    "#### What might be related to these areas with higher asthma? \n",
    "\n",
    "Let's make a map with multiple layers of info...\n",
    "\n",
    "To do this, we need a second spatial data file. We know there is research that relates asthma to being near railroads. Let's see if being near a railway in Toronto is associated to patterns of asthma."
   ]
  },
  {
   "cell_type": "code",
   "execution_count": null,
   "id": "9b6c8a5b",
   "metadata": {},
   "outputs": [],
   "source": [
    "#first we need to bring in the spatial data on railroads in the Toronto area\n",
    "\n",
    "railways = gpd.GeoDataFrame.from_file(\"toronto_rails.geojson\")\n",
    "railways.plot()"
   ]
  },
  {
   "cell_type": "markdown",
   "id": "87c17648",
   "metadata": {
    "slideshow": {
     "slide_type": "slide"
    }
   },
   "source": [
    "#### Coordinate systems and projections\n",
    "\n",
    "When working with spatial data, you may need to think about coordinate systems and geographic projections.\n",
    "\n",
    "Because we are taking data that exist on a sphere and laying them out flat on a plane, all spatial data is projected.\n",
    "\n",
    "![projections](https://cdn-images-1.medium.com/fit/t/1600/480/1*H96H7Gn9EcfZH5tEmMoSXg.gif)\n",
    "\n",
    "If you have two layers of spatial data it is always good to check that they are in the same projection, or else you will get errors or bad results.\n",
    "\n",
    "If the files are not in the same projection, it's pretty simple to convert one of the files to the same projection as the other file:"
   ]
  },
  {
   "cell_type": "code",
   "execution_count": null,
   "id": "1370a70d",
   "metadata": {
    "slideshow": {
     "slide_type": "slide"
    }
   },
   "outputs": [],
   "source": [
    "# double check coordinate systems - we always want to work in the same projection\n",
    "\n",
    "print(\"The original projection of railways is: \", railways.crs)\n",
    "print(\"The original projection of nbrhd_simple is: \", nbrhd_simple.crs)\n",
    "\n",
    "# reproject railways so it's the same as our neighbourhood layer\n",
    "railways = railways.to_crs(nbrhd_simple.crs) #we can just borrow the \"crs\" (coordinate reference system) from the other spatial file\n",
    "print(\"The NEW projection of railways is: \", railways.crs)\n",
    "print(\"And nbrhd_simple is still: \", nbrhd_simple.crs)\n",
    "railways.plot()"
   ]
  },
  {
   "cell_type": "markdown",
   "id": "d28bd0b5",
   "metadata": {
    "slideshow": {
     "slide_type": "slide"
    }
   },
   "source": [
    "### Now that our two geodataframe spatial layers are in the same projection, we can plot them together\n",
    "\n",
    "We want to create 1 map and tell geopandas to put the two spatial layers in the same axes cell:"
   ]
  },
  {
   "cell_type": "code",
   "execution_count": null,
   "id": "2c8d86df",
   "metadata": {},
   "outputs": [],
   "source": [
    "fig, axes = plt.subplots(1,1, figsize = (15,10))\n",
    "\n",
    "nbrhd_simple.plot(column='asthma_pct', scheme='quantiles', \n",
    "                  k=4, cmap='Greens', edgecolor='grey',\n",
    "                  linewidth = .2, ax = axes, legend=True, \n",
    "                  legend_kwds={'loc': 4, 'title': 'Percent Asthmatic', \n",
    "                               'title_fontsize': 20,'fontsize': 15})\n",
    "\n",
    "railways.plot(edgecolor=\"red\", linewidth = .5, ax = axes) #notice i'm putting this in the same axes cell"
   ]
  },
  {
   "cell_type": "markdown",
   "id": "2852686c",
   "metadata": {
    "slideshow": {
     "slide_type": "slide"
    }
   },
   "source": [
    "### Hmm - could there be something there? \n",
    "\n",
    "Maybe!\n",
    "\n",
    "But what are the things that might be happening here? \n",
    "\n",
    "### Let's do a \"spatial join\"\n",
    "\n",
    "What is a spatial join? \n",
    "\n",
    "![alt text](https://web.natur.cuni.cz/~langhamr/lectures/vtfg1/mapinfo_1/about_gis/Image23.gif)\n",
    "\n",
    "Basically, we are relating information from two tables that share a spatial relationship. \n",
    "\n",
    "So information from layer a's table will be joined with information from layer b's table where the two intersect/touch/are within/etc.\n",
    "\n",
    "We will use \"intersect\" here, but you can refer to the geopandas documentation to learn more:\n",
    "\n",
    "https://geopandas.org/en/stable/gallery/spatial_joins.html"
   ]
  },
  {
   "cell_type": "code",
   "execution_count": null,
   "id": "9eac3677",
   "metadata": {
    "scrolled": true,
    "slideshow": {
     "slide_type": "slide"
    }
   },
   "outputs": [],
   "source": [
    "join_left_df = nbrhd_simple.sjoin(railways, how=\"left\", predicate = \"intersects\")\n",
    "join_left_df\n"
   ]
  },
  {
   "cell_type": "markdown",
   "id": "5dcc8518",
   "metadata": {
    "slideshow": {
     "slide_type": "slide"
    }
   },
   "source": [
    "### Woah!\n",
    "\n",
    "Now we have 2528 rows... that's way more rows than neighbourhoods. What happened?\n",
    "\n",
    "Spatial join creates a new row for every instance of 'intersection'. So if railway 1 and railway 2 both go through neighbourhood a, then there will be two rows with neighbourhood a with one row joined with railway a data and the other joined with railway b data. \n",
    "\n",
    "Also, notice that neighbourhoods that didn't have any railway go through them were appended with NaNs. This is saying there is no data about railways for these neighbourhoods because there were none there.\n",
    "\n",
    "Because we just want to know what neighbourhoods have *ANY* railway go through them, we can take the joined results and remove duplicate rows of each neighbourhood."
   ]
  },
  {
   "cell_type": "code",
   "execution_count": null,
   "id": "8b62fae7",
   "metadata": {
    "scrolled": true
   },
   "outputs": [],
   "source": [
    "no_duplicates_gdf = join_left_df.copy()\n",
    "no_duplicates_gdf = no_duplicates_gdf.drop_duplicates('Neighbid')\n",
    "no_duplicates_gdf.shape\n"
   ]
  },
  {
   "cell_type": "markdown",
   "id": "f3e4c7e6",
   "metadata": {
    "slideshow": {
     "slide_type": "slide"
    }
   },
   "source": [
    "#### Let's check this new, no duplicate geodataframe to see if looks right.\n",
    "\n",
    "We can plot the map using \"index_right\" which is the index from the railway layer. The values are meaningless, but it shows us where there ARE values and where there are not. "
   ]
  },
  {
   "cell_type": "code",
   "execution_count": null,
   "id": "b5849aa1",
   "metadata": {},
   "outputs": [],
   "source": [
    "no_duplicates_gdf.plot(column = \"index_right\")"
   ]
  },
  {
   "cell_type": "markdown",
   "id": "eac9e560",
   "metadata": {
    "slideshow": {
     "slide_type": "slide"
    }
   },
   "source": [
    "#### This looks good, based on visual inspection\n",
    "\n",
    "But we need a column that tells us there IS or there IS NOT a railway in each neighbourhood. We can go back to some of the skills we learned earlier in the course to do this. \n",
    "\n",
    "We will first create two series of TRUE and FALSE values to show where a value exists in the \"index_right\" column.\n",
    "\n",
    "The series `rail_present` will be true if there is a value in the column - implying a railway goes through the neighbourhood, and false otherwise.\n",
    "\n",
    "The series `rail_not_present` will be true if there is a NaN value in the row where the railway info is, and false otherwise."
   ]
  },
  {
   "cell_type": "code",
   "execution_count": null,
   "id": "d8d5e207",
   "metadata": {},
   "outputs": [],
   "source": [
    "rail_present = no_duplicates_gdf[\"index_right\"] >= 0\n",
    "rail_present.value_counts()"
   ]
  },
  {
   "cell_type": "code",
   "execution_count": null,
   "id": "a1ddaa14",
   "metadata": {},
   "outputs": [],
   "source": [
    "rail_not_present = no_duplicates_gdf[\"index_right\"].isnull()\n",
    "rail_not_present.value_counts()"
   ]
  },
  {
   "cell_type": "markdown",
   "id": "2c4185d2",
   "metadata": {
    "slideshow": {
     "slide_type": "slide"
    }
   },
   "source": [
    "### Let's clean things up a little and create the final geodataframe we want to work with\n",
    "\n",
    "We can clean things up and then create a map and a descriptive statistics plot to show our findings."
   ]
  },
  {
   "cell_type": "code",
   "execution_count": null,
   "id": "f1845486",
   "metadata": {},
   "outputs": [],
   "source": [
    "#create list of columns relevant to our analysis\n",
    "columns_to_keep = [\"name_x\",\"Neighbid\",\"name_y\",\"asthma_pct\",\"index_right\",\"geometry\"]\n",
    "\n",
    "#create our final analysis geodataframe and create a column 'rail_present' that is true \n",
    "#if railways are in the neighbourhood and false if not:\n",
    "final_toronto_analysis = no_duplicates_gdf[columns_to_keep].copy()\n",
    "final_toronto_analysis.loc[rail_present, 'rail_present'] = True\n",
    "final_toronto_analysis.loc[rail_not_present, 'rail_present'] = False\n",
    "final_toronto_analysis.head()"
   ]
  },
  {
   "cell_type": "code",
   "execution_count": null,
   "id": "5342df3e",
   "metadata": {
    "slideshow": {
     "slide_type": "slide"
    }
   },
   "outputs": [],
   "source": [
    "fig, axes = plt.subplots(1,2, figsize = (15,7))\n",
    "\n",
    "final_toronto_analysis.boxplot(column=\"asthma_pct\", \n",
    "                               by = \"rail_present\", \n",
    "                               ax = axes[0])\n",
    "\n",
    "final_toronto_analysis.plot(column='asthma_pct', scheme='quantiles', \n",
    "                  k=2, cmap='Greens', edgecolor='grey', linewidth = 0.2, \n",
    "                  ax = axes[1], legend=True, \n",
    "                  legend_kwds={'loc': 4, 'title': 'Percent Asthmatic', \n",
    "                               'title_fontsize': 14,'fontsize': 11})\n",
    "railways.plot(ax=axes[1], edgecolor='red',linewidth=0.5)\n",
    "\n",
    "axes[0].set_title(\"\")\n",
    "axes[0].set_ylabel(\"Asthma Percent\", fontsize = 15)\n",
    "axes[0].set_xlabel(\"Rail Present?\", fontsize = 15)\n",
    "\n",
    "fig.suptitle(\"Percent of Population with Asthma for Neighbourhoods with Railways\", \n",
    "             fontsize = 20, fontweight = \"bold\")"
   ]
  },
  {
   "cell_type": "markdown",
   "id": "607daa6e",
   "metadata": {
    "slideshow": {
     "slide_type": "slide"
    }
   },
   "source": [
    "It seems that the presence of railway in neighborhood is related to higher asthma rate! \n",
    "\n",
    "But is it a **significant** relationship?\n",
    "\n",
    "Remember the comparison between two groups before!\n",
    "\n",
    "Let's do a hypothesis testing using shuffling method.\n",
    "\n",
    "- Null hypothesis: There is no differences of asthma rates between neighborhoods with railways and without railways.\n",
    "\n",
    "- Alternative hypothesis: Neighborhoods with railways have higher asthma rates than the neighborhoods without railways.\n",
    "\n",
    "Let's do a exercise."
   ]
  },
  {
   "cell_type": "code",
   "execution_count": null,
   "id": "b2a8bf97",
   "metadata": {},
   "outputs": [],
   "source": [
    "# Simulation\n",
    "simulated_diffs = []\n",
    "\n",
    "for _ in range(5000):\n",
    "    simulated = final_toronto_analysis['rail_present'].sample(frac=1, replace = False).reset_index(drop = True)\n",
    "    mean_railway = final_toronto_analysis.loc[simulated == True, 'asthma_pct'].mean()\n",
    "    mean_norailway = final_toronto_analysis.loc[simulated == False, 'asthma_pct'].mean()\n",
    "    sim_diff = mean_railway - mean_norailway\n",
    "    simulated_diffs.append(sim_diff)\n",
    "\n",
    "# Calculate observed difference\n",
    "obs_mean_railway = final_toronto_analysis.loc[final_toronto_analysis['rail_present'] == True, 'asthma_pct'].mean()\n",
    "obs_mean_norailway = final_toronto_analysis.loc[final_toronto_analysis['rail_present'] == False, 'asthma_pct'].mean()\n",
    "\n",
    "obs_diff = obs_mean_railway - obs_mean_norailway\n",
    "\n",
    "# Calculate p-value\n",
    "simulated_diffs_df = pd.DataFrame({'sim_diffs' : simulated_diffs})\n",
    "\n",
    "numgreater = (simulated_diffs_df['sim_diffs'] >= obs_diff).sum()\n",
    "print('The number of simulated differences greater than the observed difference is:', numgreater)\n",
    "\n",
    "numsmaller = (simulated_diffs_df['sim_diffs'] <= -1 * obs_diff).sum()\n",
    "print('The number of simulated differences smaller than the observed difference is:', numsmaller)\n",
    "\n",
    "pvalue = (numgreater + numsmaller)/ 5000\n",
    "\n",
    "print('The p-value is:', pvalue)"
   ]
  },
  {
   "cell_type": "markdown",
   "id": "3d3d5155",
   "metadata": {},
   "source": [
    "Great! We can say the asthma rates in neighborhoods with railways are significantly higher than the rates in neighborhoods without railways.\n",
    "\n",
    "But is this a causal relationship?"
   ]
  }
 ],
 "metadata": {
  "celltoolbar": "Slideshow",
  "kernelspec": {
   "display_name": "Python 3 (ipykernel)",
   "language": "python",
   "name": "python3"
  },
  "language_info": {
   "codemirror_mode": {
    "name": "ipython",
    "version": 3
   },
   "file_extension": ".py",
   "mimetype": "text/x-python",
   "name": "python",
   "nbconvert_exporter": "python",
   "pygments_lexer": "ipython3",
   "version": "3.8.8"
  },
  "vscode": {
   "interpreter": {
    "hash": "901b79e026e03396fd1ffa7133844e9ea80e258ce34c66e1aabb5896bcb18463"
   }
  }
 },
 "nbformat": 4,
 "nbformat_minor": 5
}
