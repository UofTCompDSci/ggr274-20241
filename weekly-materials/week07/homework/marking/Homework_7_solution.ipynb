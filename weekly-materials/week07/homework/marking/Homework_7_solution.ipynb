{
 "cells": [
  {
   "cell_type": "markdown",
   "id": "9e271477",
   "metadata": {},
   "source": [
    "# GG274 Homework 7: Summary Statistics, Histograms and Simulation\n"
   ]
  },
  {
   "cell_type": "markdown",
   "id": "96f463a4",
   "metadata": {},
   "source": [
    "## Logistics\n",
    "\n",
    "**Due date**: The homework is due 23:59 on Monday, March 06.\n",
    "\n",
    "You will submit your work on [MarkUs](https://markus-ds.teach.cs.toronto.edu).\n",
    "To submit your work:\n",
    "\n",
    "1. Download this file (`Homework_7.ipynb`) from JupyterHub. (See [our JupyterHub Guide](../../../guides/jupyterhub_guide.ipynb) for detailed instructions.)\n",
    "2. Submit this file to MarkUs under the **hw7** assignment. (See [our MarkUs Guide](../../../guides/markus_guide.ipynb) for detailed instructions.)\n",
    "All homeworks will take place in a Jupyter notebook (like this one). When you are done, you will download this notebook and submit it to MarkUs."
   ]
  },
  {
   "cell_type": "markdown",
   "id": "15de77b6",
   "metadata": {},
   "source": [
    "### Piloting MarkUs JupyterHub Extension (optional)\n",
    "\n",
    "Starting with this week's lab and homework, we're piloting a new way to submit files to MarkUs directly from JupyterHub (without needing to download them). This is **optional** so you can still submit your work the usual way, but if you have some time please try it out by following the instructions on the [MarkUs Guide](../../../guides/markus_guide.ipynb)."
   ]
  },
  {
   "cell_type": "markdown",
   "id": "7d83f68d",
   "metadata": {},
   "source": [
    "## Introduction\n",
    "\n",
    "For this week's homework, we'll investigate the behaviour of sample statistics and distributions as we vary our sample size. Specifically, we'll be investigating the mean amount of time spent cleaning by respondents. Furthermore, we will extend our analysis by studying how our sample mean estimate tends to change when we take samples of increasing sizes.\n",
    "\n",
    "## Question\n",
    "\n",
    "_Question: How much time on average do respondents spend on indoor house cleaning?  How does our estimate of a sample mean change as we take increasingly larger samples?_\n"
   ]
  },
  {
   "cell_type": "markdown",
   "id": "b309f4b2",
   "metadata": {},
   "source": [
    "## Instructions and Learning Objectives\n",
    "\n",
    "In this homework, you will:\n",
    "* Work with the Time Use dataset from lecture to investigate properties of sampling means as the sample size changes\n",
    "  \n",
    "* Create and modify for loops and functions to run sampling simulations\n",
    "  \n",
    "* Visualize data using histograms and scatter plots"
   ]
  },
  {
   "cell_type": "markdown",
   "id": "17db2919",
   "metadata": {},
   "source": [
    "## Task 1 - Read in data\n",
    "\n",
    "The Data part of your notebook should read the raw data, extract a `DataFrame` containing the important columns, rename the columns, and filter out missing values.\n",
    "\n",
    "You might find it helpful to name intermediate values in your algorithms. That way you can examine them to make sure they have the type you expect and that they look like what you expect. Very helpful when debugging!\n",
    "\n",
    "## Step 1\n",
    "\n",
    "Create the following pandas `DataFrame`s:\n",
    "\n",
    "+ `time_use_data_raw`: the `DataFrame` created by reading the `gss_tu2016_main_file.csv` file. __(1 mark)__\n",
    "\n",
    "\n",
    "+ `time_use_dur`: the `DataFrame` containing the following columns from `time_use_data_raw`: `'CASEID'`, `'dur18'`. __(1 mark)__ (We test this after any changes are made to it. We do not check the initial value.)"
   ]
  },
  {
   "cell_type": "code",
   "execution_count": 1,
   "id": "05e5d823",
   "metadata": {},
   "outputs": [],
   "source": [
    "# Sample solution, delete to create handout\n",
    "import pandas as pd\n",
    "import matplotlib.pyplot as plt\n",
    "\n",
    "time_use_data_raw = pd.read_csv('gss_tu2016_main_file.csv')\n",
    "\n",
    "time_use_dur = time_use_data_raw[[\"CASEID\",\n",
    "                                   \"dur18\"]]"
   ]
  },
  {
   "cell_type": "markdown",
   "id": "98471738",
   "metadata": {},
   "source": [
    "## Step 2\n",
    "\n",
    "`time_use_dur` could use more informative column names. \n",
    "\n",
    "Replace `CASEID` and `dur18` in `time_use_dur` by \n",
    "\n",
    "+ creating a dictionary `new_column_names` that maps the column names from `time_use_dur` to the values `'participant_id'` and `'time_spent_cleaning'`. __(1 mark)__\n",
    "\n",
    "+ create a new `DataFrame` stored in `time_use_data` that is a copy of `time_use_dur`, but with the columns renamed using `new_column_names`. __(1 mark)__"
   ]
  },
  {
   "cell_type": "code",
   "execution_count": 2,
   "id": "f5eb4a7d",
   "metadata": {},
   "outputs": [
    {
     "data": {
      "text/html": [
       "<div>\n",
       "<style scoped>\n",
       "    .dataframe tbody tr th:only-of-type {\n",
       "        vertical-align: middle;\n",
       "    }\n",
       "\n",
       "    .dataframe tbody tr th {\n",
       "        vertical-align: top;\n",
       "    }\n",
       "\n",
       "    .dataframe thead th {\n",
       "        text-align: right;\n",
       "    }\n",
       "</style>\n",
       "<table border=\"1\" class=\"dataframe\">\n",
       "  <thead>\n",
       "    <tr style=\"text-align: right;\">\n",
       "      <th></th>\n",
       "      <th>participant_id</th>\n",
       "      <th>time_spent_cleaning</th>\n",
       "    </tr>\n",
       "  </thead>\n",
       "  <tbody>\n",
       "    <tr>\n",
       "      <td>0</td>\n",
       "      <td>10000</td>\n",
       "      <td>0</td>\n",
       "    </tr>\n",
       "    <tr>\n",
       "      <td>1</td>\n",
       "      <td>10001</td>\n",
       "      <td>0</td>\n",
       "    </tr>\n",
       "    <tr>\n",
       "      <td>2</td>\n",
       "      <td>10002</td>\n",
       "      <td>120</td>\n",
       "    </tr>\n",
       "    <tr>\n",
       "      <td>3</td>\n",
       "      <td>10003</td>\n",
       "      <td>0</td>\n",
       "    </tr>\n",
       "    <tr>\n",
       "      <td>4</td>\n",
       "      <td>10004</td>\n",
       "      <td>0</td>\n",
       "    </tr>\n",
       "    <tr>\n",
       "      <td>...</td>\n",
       "      <td>...</td>\n",
       "      <td>...</td>\n",
       "    </tr>\n",
       "    <tr>\n",
       "      <td>17385</td>\n",
       "      <td>27385</td>\n",
       "      <td>0</td>\n",
       "    </tr>\n",
       "    <tr>\n",
       "      <td>17386</td>\n",
       "      <td>27386</td>\n",
       "      <td>0</td>\n",
       "    </tr>\n",
       "    <tr>\n",
       "      <td>17387</td>\n",
       "      <td>27387</td>\n",
       "      <td>30</td>\n",
       "    </tr>\n",
       "    <tr>\n",
       "      <td>17388</td>\n",
       "      <td>27388</td>\n",
       "      <td>10</td>\n",
       "    </tr>\n",
       "    <tr>\n",
       "      <td>17389</td>\n",
       "      <td>27389</td>\n",
       "      <td>135</td>\n",
       "    </tr>\n",
       "  </tbody>\n",
       "</table>\n",
       "<p>17390 rows × 2 columns</p>\n",
       "</div>"
      ],
      "text/plain": [
       "       participant_id  time_spent_cleaning\n",
       "0               10000                    0\n",
       "1               10001                    0\n",
       "2               10002                  120\n",
       "3               10003                    0\n",
       "4               10004                    0\n",
       "...               ...                  ...\n",
       "17385           27385                    0\n",
       "17386           27386                    0\n",
       "17387           27387                   30\n",
       "17388           27388                   10\n",
       "17389           27389                  135\n",
       "\n",
       "[17390 rows x 2 columns]"
      ]
     },
     "execution_count": 2,
     "metadata": {},
     "output_type": "execute_result"
    }
   ],
   "source": [
    "# Sample solution, delete to create handout\n",
    "new_column_names = {\n",
    "    \"CASEID\": \"participant_id\",\n",
    "    \"dur18\": \"time_spent_cleaning\",\n",
    "}\n",
    "\n",
    "time_use_data = time_use_dur.copy()\n",
    "\n",
    "time_use_data.rename(columns=new_column_names, inplace=True)\n",
    "\n",
    "time_use_data"
   ]
  },
  {
   "cell_type": "code",
   "execution_count": 3,
   "id": "fcffeb38",
   "metadata": {},
   "outputs": [
    {
     "name": "stdout",
     "output_type": "stream",
     "text": [
      "Column names are correct!\n"
     ]
    }
   ],
   "source": [
    "# Step 2 check that you have the correct column names\n",
    "# leave this for students to check work\n",
    "\n",
    "expected_columnnames = ['participant_id', 'time_spent_cleaning']\n",
    "\n",
    "try:\n",
    "    assert expected_columnnames == list(time_use_data.columns)\n",
    "    print('Column names are correct!')\n",
    "except:\n",
    "    print('Something is wrong, check your column names')\n"
   ]
  },
  {
   "cell_type": "markdown",
   "id": "4168d767",
   "metadata": {},
   "source": [
    "## Task 2 - Compute and Visualize Distribution\n",
    "\n",
    "### Step 1\n",
    "\n",
    "Compute the distribution of the column `time_spent_cleaning` for respondents that spent at least some time cleaning (i.e., had a non-zero value of `time_spent_cleaning`) in `time_use_data` using the `describe` function.  To do this \n",
    "\n",
    "- Create a pandas `Series` called `clean_nonzero` that only has respondents with non-zero values of `time_spent_cleaning`.  \n",
    "  \n",
    "- Use the `describe` function to describe the distribution of `time_spent_cleaning`, and store the results in a variable called `summary_stats`."
   ]
  },
  {
   "cell_type": "code",
   "execution_count": 4,
   "id": "a8f87ae5",
   "metadata": {},
   "outputs": [
    {
     "data": {
      "text/plain": [
       "count    7154.000000\n",
       "mean       91.095192\n",
       "std        94.963051\n",
       "min         5.000000\n",
       "25%        30.000000\n",
       "50%        60.000000\n",
       "75%       120.000000\n",
       "max       855.000000\n",
       "Name: time_spent_cleaning, dtype: float64"
      ]
     },
     "execution_count": 4,
     "metadata": {},
     "output_type": "execute_result"
    }
   ],
   "source": [
    "# Sample solution, delete to create handout\n",
    "clean_nonzero = time_use_data[time_use_data[\"time_spent_cleaning\"] > 0]['time_spent_cleaning']\n",
    "\n",
    "summary_stats = clean_nonzero.describe()\n",
    "\n",
    "summary_stats"
   ]
  },
  {
   "cell_type": "markdown",
   "id": "835b1df3",
   "metadata": {},
   "source": [
    "### Step 2\n",
    "\n",
    "\n",
    "Visualize `clean_nonzero` column by creating a histogram using `maptplotlib` with the following parameters: \n",
    "\n",
    "```\n",
    "bins = 25, edgecolor='black', linewidth = 1.3, color = 'lightgrey'\n",
    "\n",
    "```\n",
    "\n",
    "Label the horizontal axis (x-axis) `Time spent cleaning (minutes)`."
   ]
  },
  {
   "cell_type": "code",
   "execution_count": 5,
   "id": "68c59a68",
   "metadata": {},
   "outputs": [
    {
     "data": {
      "text/plain": [
       "Text(0.5, 0, 'Time spent cleaning (minutes)')"
      ]
     },
     "execution_count": 5,
     "metadata": {},
     "output_type": "execute_result"
    }
   ],
   "source": [
    "# Sample solution, delete to create handout\n",
    "plt.hist(clean_nonzero, bins=25, edgecolor='black', linewidth = 1.3, color = 'lightgrey')\n",
    "\n",
    "plt.xlabel('Time spent cleaning (minutes)')\n"
   ]
  },
  {
   "cell_type": "markdown",
   "id": "33b485d9",
   "metadata": {},
   "source": [
    "### Step 3\n",
    "\n",
    "In a markdown cell, describe the distribution of data, pointing out features like mode (where most observations lie), skew, and potential outliers. Do our results make sense given what we know about time spent on daily cleaning?\n",
    "\n",
    "Are there any strange values? Specifically, does it make sense for people to spend 0 mins cleaning?  Briefly explain.\n",
    "__(2 marks)__\n"
   ]
  },
  {
   "cell_type": "markdown",
   "id": "76082725",
   "metadata": {},
   "source": [
    "**Answer goes here ...**"
   ]
  },
  {
   "cell_type": "markdown",
   "id": "8e2bc319",
   "metadata": {},
   "source": [
    "## Task 3: Compute the empirical mean\n",
    "\n",
    "The **empirical mean** as the mean of all observed data. We distinguish this from the **sample mean** which is the mean of a sample or portion of all data.\n",
    "\n",
    "Compute the empirical mean time spent cleaning by respondents and name it `empirical_mean_time_spent_cleaning`. __(1 mark)__\n"
   ]
  },
  {
   "cell_type": "code",
   "execution_count": 6,
   "id": "91683e09",
   "metadata": {},
   "outputs": [
    {
     "data": {
      "text/plain": [
       "91.09519150125804"
      ]
     },
     "execution_count": 6,
     "metadata": {},
     "output_type": "execute_result"
    }
   ],
   "source": [
    "# Sample solution, delete to create handout\n",
    "empirical_mean_time_spent_cleaning = clean_nonzero.mean()\n",
    "\n",
    "empirical_mean_time_spent_cleaning"
   ]
  },
  {
   "cell_type": "markdown",
   "id": "00ecd5b7",
   "metadata": {},
   "source": [
    "## Task 4: Set up a Simulation Experiment\n",
    "\n",
    "You will investigate the behaviour of sample means for the following sample sizes:\n",
    "\n",
    "5, 10, 20, 50, 100, 200, 500, and 1000.\n",
    "\n",
    "### Step 1 - Specify Sample Sizes\n",
    "\n",
    "Create a `list` named `sample_sizes` with the aforementioned values in the specified order. __(1 mark)__"
   ]
  },
  {
   "cell_type": "code",
   "execution_count": 7,
   "id": "fc14a3f7",
   "metadata": {
    "scrolled": true
   },
   "outputs": [],
   "source": [
    "# Sample solution, delete to create handout\n",
    "sample_sizes = [5, 10, 20, 50, 100, 200, 500, 1000]"
   ]
  },
  {
   "cell_type": "markdown",
   "id": "c0e3c5ba",
   "metadata": {
    "tags": []
   },
   "source": [
    "### Step 2 - Simulating Sample Means\n",
    "\n",
    "In this part, you will complete a function that creates and returns a list of the sample means of the sample draws.\n",
    "\n",
    "Name the function `simulate_sample_means`. \n",
    "\n",
    "The function will have two arguments: \n",
    "+ `data`: a `pandas` `Series` or column of a `DataFrame` that we are sampling\n",
    "+ `N`: an `int`, the size of the sample we draw\n",
    "\n",
    "Your function should make and return a list of 100 sample means of size `N` from `data`.\n",
    "\n",
    "Sample *without* replacement.\n",
    "\n",
    "The function will return a list, `sample_means`. The list will be of size 100, with each element in the list representing the sample *mean* from the sample of size N. *Hint: Initialize an empty list used to store the sample means. Inside your for loop generate a sample from the data, calculate the sample mean, and append it to your list.*\n",
    "\n",
    "Wherever there is a commented chunk of code of the form `var_name = ...`, replace the `...` with the appropriate value or expression."
   ]
  },
  {
   "cell_type": "code",
   "execution_count": 8,
   "id": "7bc0440c",
   "metadata": {},
   "outputs": [],
   "source": [
    "# Sample solution, delete to create handout\n",
    "\n",
    "def simulate_sample_means(data, N):\n",
    "    '''Return a list of 100 sample means from a sample of size N from data.'''\n",
    "    \n",
    "    # This next statement is for reproducability: each random number is generated\n",
    "    # mathematically based on the previous random number, and we can say which\n",
    "    # number to start with when we call sample. This allows us to have reproducability\n",
    "    # with \"random\" numbers and so we can autotest! Yay!\n",
    "    seed = 0\n",
    "\n",
    "    # Create any variables you need here, such as the list of sample means you are\n",
    "    # accumulating.\n",
    "    sample_means = []\n",
    "    \n",
    "    # generate a sample of size N and compute sample mean.\n",
    "    # append the sample mean to the list of sample means.\n",
    "    # repeat 100 times.\n",
    "    \n",
    "    for _ in range(100):\n",
    "        seed += 1 # Don't change this line\n",
    "        \n",
    "        # Here, write code to:\n",
    "        # 1) Take a sample of data, and calculate the sample mean.\n",
    "        #    When you call .sample, make sure you use random_state=seed as one of the\n",
    "        #    arguments.\n",
    "        # 2) Append the sample mean to the list of sample means.\n",
    "        sample_mean = data.sample(N, replace=False, random_state=seed).mean()\n",
    "        \n",
    "        sample_means.append(sample_mean)\n",
    "        \n",
    "    return sample_means\n"
   ]
  },
  {
   "cell_type": "code",
   "execution_count": 9,
   "id": "5cdfffac",
   "metadata": {},
   "outputs": [
    {
     "data": {
      "text/plain": [
       "[112.0,\n",
       " 70.0,\n",
       " 155.0,\n",
       " 43.0,\n",
       " 102.0,\n",
       " 63.0,\n",
       " 76.0,\n",
       " 92.0,\n",
       " 83.0,\n",
       " 103.0,\n",
       " 99.0,\n",
       " 53.0,\n",
       " 78.0,\n",
       " 60.0,\n",
       " 70.0,\n",
       " 48.0,\n",
       " 128.0,\n",
       " 225.0,\n",
       " 74.0,\n",
       " 53.0,\n",
       " 59.0,\n",
       " 69.0,\n",
       " 46.0,\n",
       " 149.0,\n",
       " 200.0,\n",
       " 69.0,\n",
       " 45.0,\n",
       " 40.0,\n",
       " 114.0,\n",
       " 47.0,\n",
       " 43.0,\n",
       " 177.0,\n",
       " 149.0,\n",
       " 42.0,\n",
       " 140.0,\n",
       " 55.0,\n",
       " 70.0,\n",
       " 54.0,\n",
       " 84.0,\n",
       " 106.0,\n",
       " 85.0,\n",
       " 67.0,\n",
       " 152.0,\n",
       " 65.0,\n",
       " 77.0,\n",
       " 85.0,\n",
       " 104.0,\n",
       " 155.0,\n",
       " 59.0,\n",
       " 46.0,\n",
       " 124.0,\n",
       " 103.0,\n",
       " 46.0,\n",
       " 67.0,\n",
       " 70.0,\n",
       " 106.0,\n",
       " 255.0,\n",
       " 66.0,\n",
       " 159.0,\n",
       " 159.0,\n",
       " 92.0,\n",
       " 74.0,\n",
       " 87.0,\n",
       " 45.0,\n",
       " 84.0,\n",
       " 78.0,\n",
       " 78.0,\n",
       " 157.0,\n",
       " 46.0,\n",
       " 52.0,\n",
       " 113.0,\n",
       " 120.0,\n",
       " 86.0,\n",
       " 137.0,\n",
       " 49.0,\n",
       " 27.0,\n",
       " 123.0,\n",
       " 32.0,\n",
       " 47.0,\n",
       " 93.0,\n",
       " 159.0,\n",
       " 26.0,\n",
       " 94.0,\n",
       " 155.0,\n",
       " 82.0,\n",
       " 145.0,\n",
       " 69.0,\n",
       " 117.0,\n",
       " 51.0,\n",
       " 33.0,\n",
       " 54.0,\n",
       " 77.0,\n",
       " 67.0,\n",
       " 51.0,\n",
       " 68.0,\n",
       " 50.0,\n",
       " 160.0,\n",
       " 139.0,\n",
       " 62.0,\n",
       " 108.0]"
      ]
     },
     "execution_count": 9,
     "metadata": {},
     "output_type": "execute_result"
    }
   ],
   "source": [
    "simulate_sample_means(clean_nonzero, 5)"
   ]
  },
  {
   "cell_type": "code",
   "execution_count": 10,
   "id": "8c77e12c",
   "metadata": {},
   "outputs": [],
   "source": [
    "# Uncomment to create handout\n",
    "\n",
    "# # Finish the function header and complete the function body.\n",
    "# # \n",
    "# def \n",
    "\n",
    "#     '''Return a list of 100 sample means from a sample of size N from data.'''\n",
    "#     \n",
    "#     \n",
    "\n",
    "#     # This next statement is for reproducability: each random number is generated\n",
    "#     # mathematically based on the previous random number, and we can say which\n",
    "#     # number to start with when we call sample. This allows us to have reproducability\n",
    "#     # with \"random\" numbers and so we can autotest! Yay!\n",
    "#     seed = 0\n",
    "\n",
    "#     # Create any variables you need here, such as the list of sample means you are\n",
    "#     # accumulating.\n",
    "\n",
    "    \n",
    "#     # generate a sample of size N and compute sample mean.\n",
    "      # append the sample mean to the list of sample means.\n",
    "      # repeat 100 times.\n",
    "\n",
    "#     for _ in range(100):\n",
    "#         seed += 1 # Don't change this line\n",
    "        \n",
    "#         \n",
    "#         # Here, write code to:\n",
    "#         # 1) Take a sample of data, and calculate the sample mean.\n",
    "#         #    When you call .sample, make sure you use random_state=seed as one of the\n",
    "#         #    arguments.\n",
    "#         # 2) Append the sample mean to the list of sample means.\n",
    "#         \n",
    "#         \n",
    "#          \n",
    "#     return ???"
   ]
  },
  {
   "cell_type": "markdown",
   "id": "9c47009b",
   "metadata": {},
   "source": [
    "## Task 5 - Simulate Sample Means\n",
    "\n",
    "In this part, you will complete a code block that computes and compiles simulated means for each sample size.\n",
    "\n",
    "For each sample size in `sample_sizes`, call function `simulate_sample_means` from the previous step to calculate 100 sample means at that sample size. You're going to build a dictionary where each key is a sample size and each value is the corresponding list of means that `simulate_sample_means` returned."
   ]
  },
  {
   "cell_type": "markdown",
   "id": "079e5de9",
   "metadata": {},
   "source": [
    "### Accumulating information in a dictionary\n",
    "Remember in lecture we used a for loop to add up a series of numbers? And then we used a for loop to accumulate a list of means? As it turns out, you can use the same technique to make a dictionary.\n",
    "\n",
    "Here's how you add a key/value pair to a dictionary (this is also called \"inserting\"):"
   ]
  },
  {
   "cell_type": "code",
   "execution_count": 11,
   "id": "ef639193",
   "metadata": {},
   "outputs": [
    {
     "data": {
      "text/plain": [
       "{'key1': 'value1'}"
      ]
     },
     "execution_count": 11,
     "metadata": {},
     "output_type": "execute_result"
    }
   ],
   "source": [
    "d = {}\n",
    "d['key1'] = 'value1'\n",
    "d"
   ]
  },
  {
   "cell_type": "code",
   "execution_count": 12,
   "id": "020992b2",
   "metadata": {},
   "outputs": [
    {
     "data": {
      "text/plain": [
       "{'key1': 'value1', 'key2': 'value2'}"
      ]
     },
     "execution_count": 12,
     "metadata": {},
     "output_type": "execute_result"
    }
   ],
   "source": [
    "d['key2'] = 'value2'\n",
    "d"
   ]
  },
  {
   "cell_type": "code",
   "execution_count": 13,
   "id": "747bc447",
   "metadata": {
    "scrolled": false
   },
   "outputs": [
    {
     "data": {
      "text/plain": [
       "{'key1': 'new_value', 'key2': 'value2'}"
      ]
     },
     "execution_count": 13,
     "metadata": {},
     "output_type": "execute_result"
    }
   ],
   "source": [
    "d['key1'] = 'new_value'\n",
    "d"
   ]
  },
  {
   "cell_type": "markdown",
   "id": "fbc18e86",
   "metadata": {},
   "source": [
    "You can accumulate a new dictionary using a for loop:"
   ]
  },
  {
   "cell_type": "code",
   "execution_count": 14,
   "id": "9961bd4f",
   "metadata": {},
   "outputs": [
    {
     "data": {
      "text/plain": [
       "{'Amber': 'GGR274',\n",
       " 'Martin': 'GGR274',\n",
       " 'Davia': 'GGR274',\n",
       " 'KP': 'GGR274',\n",
       " 'Ilan': 'GGR274'}"
      ]
     },
     "execution_count": 14,
     "metadata": {},
     "output_type": "execute_result"
    }
   ],
   "source": [
    "ta_to_course = {}\n",
    "for name in ['Amber','Martin', 'Davia', 'KP', 'Ilan']:\n",
    "    ta_to_course[name] = 'GGR274'\n",
    "\n",
    "ta_to_course"
   ]
  },
  {
   "cell_type": "code",
   "execution_count": 15,
   "id": "0943eb26",
   "metadata": {},
   "outputs": [
    {
     "name": "stdout",
     "output_type": "stream",
     "text": [
      "{'Amber': 'GGR274', 'Martin': 'GGR274', 'Davia': 'GGR274', 'KP': 'GGR274', 'Ilan': 'GGR274', 'Matt': 'EEB125', 'Fiona': 'EEB125'}\n",
      "EEB125\n"
     ]
    }
   ],
   "source": [
    "for name in ['Matt', 'Fiona']:\n",
    "    ta_to_course[name] = 'EEB125'\n",
    "\n",
    "print(ta_to_course)\n",
    "print(ta_to_course['Matt'])"
   ]
  },
  {
   "cell_type": "markdown",
   "id": "018c3ce1",
   "metadata": {},
   "source": [
    "### Step 1 - Create a dictionary of simulated means for each sample size\n",
    "\n",
    "As you loop through each element in `sample_sizes`, you will pass the current sample size to the function `simulate_sample_means` (specifically, the argument `N`). You will be sampling from the cleaned dataset, so make sure to pass the value of `clean_nonzero` to the `data` parameter.\n",
    "\n",
    "The result of calling `simulate_sample_means` is a list of means. Add a new key/value pair to `all_sample_means_by_sample_size`. The key is the current sample size and the value is the list of means.\n",
    "\n",
    "Finally we will be checking this in the autotester:\n",
    "+ `all_sample_means_by_sample_size`: a dictionary mapping the sample sizes to a list of sample means of a size 100. (Because we'll use the same random seed, we'll get the same \"random\" sequence. That means that we can autotest it. Yay!) __(2 marks)__"
   ]
  },
  {
   "cell_type": "code",
   "execution_count": 16,
   "id": "878c48eb",
   "metadata": {},
   "outputs": [],
   "source": [
    "# Sample solution, delete to create handout\n",
    "\n",
    "all_sample_means_by_sample_size = {}\n",
    "\n",
    "for sample_size in sample_sizes:\n",
    "        \n",
    "    mean_at_sample_mean = simulate_sample_means(data = clean_nonzero, N = sample_size)\n",
    "        \n",
    "    all_sample_means_by_sample_size[sample_size] = mean_at_sample_mean"
   ]
  },
  {
   "cell_type": "code",
   "execution_count": 17,
   "id": "9aa99222",
   "metadata": {},
   "outputs": [],
   "source": [
    "# Uncomment to create handout\n",
    "# feel free to add more starter code if you feel it's appropriate\n",
    "\n",
    "# # Finish the code\n",
    "\n",
    "# # \n",
    "# all_sample_means_by_sample_size_as_dict = {}\n",
    "\n",
    "# for "
   ]
  },
  {
   "cell_type": "markdown",
   "id": "aadedf9c",
   "metadata": {},
   "source": [
    "## Step 2 - Answer this question\n",
    "\n",
    "Briefly explain what the keys and values represent in the dictionary `all_sample_means_by_sample_size`.  You can obtain the keys by using the `keys` method `all_sample_means_by_sample_size.keys()`."
   ]
  },
  {
   "cell_type": "markdown",
   "id": "409ccb10",
   "metadata": {},
   "source": [
    "**answer to question ...**"
   ]
  },
  {
   "cell_type": "markdown",
   "id": "c30e4074",
   "metadata": {},
   "source": [
    "## Task 6 - Plot the results\n",
    "\n",
    "### Step 1: Create Data for Plotting\n",
    "\n",
    "In this section you will calculate the mean of simulation. \n",
    "\n",
    "Create the following variables:\n",
    "\n",
    "+ `sample_means_by_sample_size`: a `DataFrame` created from the dictionary `all_sample_means_by_sample_size`. __(1 mark)__\n",
    "\n",
    "+ `mean_of_sample_means_by_sample_size`: compute the column means of `sample_means_by_sample_size`, that is the mean sample means at each sample size. __(1 mark)__ \n",
    "\n",
    "+ `diff_sample_mean_empirical_means_by_sample_size`: the difference between mean of sample means and the empirical mean at each sample size. __(1 mark)__"
   ]
  },
  {
   "cell_type": "code",
   "execution_count": 18,
   "id": "cc95a471",
   "metadata": {},
   "outputs": [],
   "source": [
    "sample_means_by_sample_size = pd.DataFrame(all_sample_means_by_sample_size)\n",
    "\n",
    "mean_of_sample_means_by_sample_size = sample_means_by_sample_size.mean()\n",
    "\n",
    "diff_sample_mean_empirical_means_by_sample_size = mean_of_sample_means_by_sample_size - empirical_mean_time_spent_cleaning"
   ]
  },
  {
   "cell_type": "markdown",
   "id": "575e9eb3",
   "metadata": {},
   "source": [
    "### Step 2: Plot the data\n",
    "\n",
    "In this section you will plot the results.\n",
    "\n",
    "Create a scatter plot using `matplotlib` with \n",
    "\n",
    "- `diff_sample_mean_empirical_means_by_sample_size.index` on the horizontal axis (x-axis) and \n",
    "  \n",
    "- `diff_sample_mean_empirical_means_by_sample_size` on the vertical axis (y-axis).  \n",
    "\n",
    "\n",
    "Label the horizontal axis with the text `Sample size` and the vertical axis with the text `Difference between sample mean and population mean`."
   ]
  },
  {
   "cell_type": "code",
   "execution_count": 101,
   "id": "9f735d69",
   "metadata": {},
   "outputs": [
    {
     "data": {
      "text/plain": [
       "Text(0, 0.5, 'Difference between sample mean and population mean')"
      ]
     },
     "execution_count": 101,
     "metadata": {},
     "output_type": "execute_result"
    },
    {
     "data": {
      "image/png": "[encoded data removed]",
      "text/plain": [
       "<Figure size 432x288 with 1 Axes>"
      ]
     },
     "metadata": {
      "needs_background": "light"
     },
     "output_type": "display_data"
    }
   ],
   "source": [
    "plt.scatter(diff_sample_mean_empirical_means_by_sample_size.index, diff_sample_mean_empirical_means_by_sample_size)\n",
    "\n",
    "plt.xlabel('Sample size')\n",
    "\n",
    "plt.ylabel('Difference between sample mean and population mean')"
   ]
  },
  {
   "cell_type": "markdown",
   "id": "9f463b1f",
   "metadata": {},
   "source": [
    "## Task 7 - Answer the following Questions\n",
    "\n",
    "Include cells with your answers to each of these questions:\n",
    " \n",
    "1. What is the empirical mean time spent cleaning by respondents per day (in minutes). Does this value make sense? Why or why not? Answer in one line. __(1 mark)__"
   ]
  },
  {
   "cell_type": "markdown",
   "id": "a10fc819",
   "metadata": {},
   "source": [
    "**Answer goes here ...**"
   ]
  },
  {
   "cell_type": "markdown",
   "id": "c96ef074",
   "metadata": {},
   "source": [
    "2. Based on your final scatter plot, what trend or pattern do you notice between sample size and difference between the mean of sample means and empirical mean? Does the difference decrease or increase with sample size? Explain why this trend is seen, drawing on your understanding of randomness of sampling. __(2 marks)__"
   ]
  },
  {
   "cell_type": "markdown",
   "id": "437d24ca",
   "metadata": {},
   "source": [
    "**Answer goes here ...**"
   ]
  },
  {
   "cell_type": "markdown",
   "id": "85860957",
   "metadata": {},
   "source": [
    "\n",
    "\n",
    "3. If you were to do further analysis to study how the time spent cleaning is different for various subpopulations, which additional sociodemographic variables might you consider? Why? Write 3-5 sentences identifying 1-2 variables (e.g. age - don't pick this!) of interest and what differences in cleaning time you might expect to find."
   ]
  },
  {
   "cell_type": "markdown",
   "id": "b53c9515",
   "metadata": {},
   "source": [
    "**Answer goes here ...**"
   ]
  }
 ],
 "metadata": {
  "kernelspec": {
   "display_name": "Python 3",
   "language": "python",
   "name": "python3"
  },
  "language_info": {
   "codemirror_mode": {
    "name": "ipython",
    "version": 3
   },
   "file_extension": ".py",
   "mimetype": "text/x-python",
   "name": "python",
   "nbconvert_exporter": "python",
   "pygments_lexer": "ipython3",
   "version": "3.7.4"
  },
  "markus": {
   "assessment_id": 138,
   "course_id": 9,
   "url": "https://markus-ds.teach.cs.toronto.edu"
  },
  "vscode": {
   "interpreter": {
    "hash": "8b8edaa195e148f815789564e9a10f57d8b792ac9e1a5daafce5fbae42bebd0e"
   }
  }
 },
 "nbformat": 4,
 "nbformat_minor": 5
}
