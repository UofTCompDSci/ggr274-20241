{
 "cells": [
  {
   "cell_type": "markdown",
   "id": "fbee9573",
   "metadata": {
    "slideshow": {
     "slide_type": "slide"
    }
   },
   "source": [
    "# GGR274 Lecture 3: Introduction to Programming, Part 2"
   ]
  },
  {
   "cell_type": "markdown",
   "id": "8ebe7f0b",
   "metadata": {
    "slideshow": {
     "slide_type": "slide"
    }
   },
   "source": [
    "## Recap\n",
    "\n",
    "Last lecture, we learned about:\n",
    "\n",
    "- Five basic Python **data types**:\n",
    "\n",
    "    | Data type | Description                      | Example   |\n",
    "    |-----------|----------------------------------|-----------|\n",
    "    | `int`     | Integers                         | `10`, `0`, `-3` |\n",
    "    | `float`   | Non-integer numbers              | `10.3`, `-3.5` |\n",
    "    | `bool`    | True/False                       | `True`, `False` |\n",
    "    | `str`     | Text                             | `\"Y'all are cool\"` |\n",
    "    | `list`    | A sequence of data               | `[\"Y'all\", \"are\", \"cool\"]` |"
   ]
  },
  {
   "cell_type": "markdown",
   "id": "52e3997d",
   "metadata": {
    "slideshow": {
     "slide_type": "slide"
    }
   },
   "source": [
    "Last lecture, we learned about:\n",
    "\n",
    "- Operations we can perform on different data types\n",
    "    - Arithmetic: `+`, `-`, `*`, `/`\n",
    "    - Comparison: `==`, `!=`, `<`, `<=`, `>`, `>=`\n",
    "    - Substring search: `in`\n",
    "    - Indexing: `my_string[i]`, `my_list[i]`\n",
    "        - **Note**: indexing starts at 0, not 1!"
   ]
  },
  {
   "cell_type": "markdown",
   "id": "e693dbd0",
   "metadata": {
    "slideshow": {
     "slide_type": "slide"
    }
   },
   "source": [
    "Last lecture, we learned about:\n",
    "\n",
    "- Functions\n",
    "    - `len`\n",
    "    - `type`\n",
    "    - `abs`\n",
    "    - `sum`\n",
    "- String methods\n",
    "    - `str.upper()`\n",
    "    - `str.lower()`\n",
    "    - `str.replace(old, new)`\n",
    "    - `str.split()`"
   ]
  },
  {
   "cell_type": "markdown",
   "id": "a1e613eb",
   "metadata": {
    "slideshow": {
     "slide_type": "slide"
    }
   },
   "source": [
    "## Learning Objectives\n",
    "\n",
    "Today's lecture will be structured around the music preferences example you had in the previous lab. We will:\n",
    "- introduce some additional types and Python constructs as we go and \n",
    "- practice to integrate them in the code to achieve our goals.\n",
    "\n",
    "So, we will cover how to:\n",
    "- Use new Python data type: `dict`\n",
    "- Use **if statements** and **for loops** to control how Python code gets executed\n",
    "- Read in data from **files** \n",
    "- define your own **functions**\n",
    "\n",
    "We will also discuss how to:\n",
    "- \"Reset\" Python in your notebook\n",
    "- Avoid a common pitfall involving changing variables\n",
    "- Navigate through and find your course files on JupyterHub"
   ]
  },
  {
   "cell_type": "markdown",
   "id": "a1085de0",
   "metadata": {},
   "source": [
    "## Running Example: Music Preferences\n",
    "\n",
    "> ### Recap:\n",
    "\n",
    "> In the cell below:\n",
    "> - write into list `my_tastes` how much do you like the music of the following artists (let's use -5 to +5 scale, -5 > absolutely can't stand, 0 - idk/neutral, +5 on repeat, actually listening right now):\n",
    ">    - Drake, Tame Impala, Billie Eilish, The Weeknd, Taylor Swift\n",
    "> - assign your name to variable `my_name` \n",
    "> Experiment more!\n",
    "\n",
    "> - Write down the same for one of your friends or family members (or make up an imaginary friend) to the list `tastes2`\n",
    "> - Think how to answer based on this data:\n",
    ">    - **Q1: How (comparatively) enthusiastic about music you and your friend are?**\n",
    ">    - **Q2: How would you approach comparing music tastes between two people?**\n",
    "> - Write down your ideas first and then you can try to put it into code (it does not have to work)!"
   ]
  },
  {
   "cell_type": "code",
   "execution_count": 28,
   "id": "6386cae2",
   "metadata": {},
   "outputs": [],
   "source": [
    "my_tastes = [0, 0, 2, 2, 0]\n",
    "\n",
    "friend_tastes = [3, 5, -1, -2, -3]"
   ]
  },
  {
   "cell_type": "markdown",
   "id": "e6b9d9cf",
   "metadata": {},
   "source": [
    "> ## Q1: How (comparatively) enthusiastic about music you and your friend are?"
   ]
  },
  {
   "cell_type": "markdown",
   "id": "35832a0d",
   "metadata": {},
   "source": [
    "Potential approaches:\n",
    " - E.g. mean of preferences:\n",
    "        `sum(my_tastes) / len(my_tastes)`"
   ]
  },
  {
   "cell_type": "code",
   "execution_count": 29,
   "id": "14cd171c",
   "metadata": {},
   "outputs": [
    {
     "name": "stdout",
     "output_type": "stream",
     "text": [
      "my average is 0.8, and my friend's average is 0.4\n"
     ]
    }
   ],
   "source": [
    "my_average = sum(my_tastes) / len(my_tastes)\n",
    "\n",
    "friend_average = sum(friend_tastes) / len(friend_tastes)\n",
    "\n",
    "print(f\"my average is {my_average}, and my friend's average is {friend_average}\")"
   ]
  },
  {
   "cell_type": "markdown",
   "id": "7a00d215",
   "metadata": {},
   "source": [
    "### Exercise:\n",
    "\n",
    "What are other potential solutions and limitations? \n",
    "E.g. Do we consider hating some music as being enthusiastic/passionate?\n",
    "How we can change our solution to account for that?"
   ]
  },
  {
   "cell_type": "markdown",
   "id": "2ad02090",
   "metadata": {},
   "source": [
    "write down your idea here in plain words first\n",
    "the copy the code from previous cell to the next one and modify to reflect your idea. \n",
    "If you need some operations but don't know how to do them yet, write in the cell above!"
   ]
  },
  {
   "cell_type": "code",
   "execution_count": 30,
   "id": "fc84e2c5",
   "metadata": {},
   "outputs": [],
   "source": [
    "#code here"
   ]
  },
  {
   "cell_type": "markdown",
   "id": "c9873fe3",
   "metadata": {},
   "source": [
    "> ### Now imagine we want Python to actually tell us who is more enthusiastic about music.\n",
    "\n",
    "> We are going to use one powerful Python language construct for that: **If** statements"
   ]
  },
  {
   "cell_type": "markdown",
   "id": "9e103247",
   "metadata": {
    "slideshow": {
     "slide_type": "slide"
    }
   },
   "source": [
    "## If statements"
   ]
  },
  {
   "cell_type": "markdown",
   "id": "1313c207",
   "metadata": {},
   "source": [
    "An **if statement** is a kind of Python code that lets us *only execute some code if a specific condition is met*."
   ]
  },
  {
   "cell_type": "code",
   "execution_count": 31,
   "id": "b2f81da1",
   "metadata": {},
   "outputs": [
    {
     "name": "stdout",
     "output_type": "stream",
     "text": [
      "my average is 0.8, and my friend's average is -0.2\n"
     ]
    }
   ],
   "source": [
    "# Old code so we can see all of the variables we need, no need to actually copy that\n",
    "my_name = \"Ilya\"\n",
    "my_tastes = [0, 0, 2, 2, 0]\n",
    "friend_tastes = [2, 3, -1, -2, -3]\n",
    "my_average = sum(my_tastes) / len(my_tastes)\n",
    "friend_average = sum(friend_tastes) / len(friend_tastes)\n",
    "\n",
    "# NEW\n",
    "if my_average < 0:\n",
    "    print(f\"Oh {my_name}, it seems like you do not like music?\")\n",
    "\n",
    "print(f\"my average is {my_average}, and my friend's average is {friend_average}\")"
   ]
  },
  {
   "cell_type": "markdown",
   "id": "596aa17a",
   "metadata": {},
   "source": [
    "Expression inside **if branch** will be executed only if **condition** (`my_average < 0`) is satisfied.\n",
    "Expressions outside **if branch** will always be executed. \n",
    "\n",
    "**Warning!** Mind the indentation! This four spaces between `python print(f\"Oh {my_name}, it seems like you do not like music?\")` are important, they tell Python what is inside the **if branch** "
   ]
  },
  {
   "cell_type": "code",
   "execution_count": 32,
   "id": "82e18fbb",
   "metadata": {},
   "outputs": [
    {
     "name": "stdout",
     "output_type": "stream",
     "text": [
      "my average is 0.8, and my friend's average is -0.2\n"
     ]
    }
   ],
   "source": [
    "if my_average < 0:\n",
    "    print(f\"Oh {my_name}, it seems like you do not like music?\")\n",
    "    print(\"Toodle-oo my friend!\")\n",
    "\n",
    "print(f\"my average is {my_average}, and my friend's average is {friend_average}\")"
   ]
  },
  {
   "cell_type": "markdown",
   "id": "779c017d",
   "metadata": {},
   "source": [
    "### If statement terminology\n",
    "\n",
    "```python\n",
    "if <condition>:\n",
    "    <statement1>\n",
    "    <statement2>\n",
    "    ...\n",
    "```\n",
    "\n",
    "We call the expression between the `if` and the colon the **if condition**.\n",
    "\n",
    "We call the statements indented on the line(s) after the colon the **if branch**."
   ]
  },
  {
   "cell_type": "markdown",
   "id": "2fe4d614",
   "metadata": {},
   "source": [
    "**Repeated Warning**: indentation matters! Python uses indentation to determine what code is part of an if statement vs. what's after the if statement."
   ]
  },
  {
   "cell_type": "markdown",
   "id": "32fa516b",
   "metadata": {},
   "source": [
    "#### Exercise \n",
    "Change the code so that Python would tell Toodle-oo independent of my tastes:"
   ]
  },
  {
   "cell_type": "code",
   "execution_count": 33,
   "id": "c57512e5",
   "metadata": {},
   "outputs": [
    {
     "name": "stdout",
     "output_type": "stream",
     "text": [
      "my average is 0.8, and my friend's average is -0.2\n"
     ]
    }
   ],
   "source": [
    "# change the code in this cell\n",
    "if my_average < 0:\n",
    "    print(f\"Oh {my_name}, it seems like you do not like music?\")\n",
    "    print(\"Toodle-oo my friend!\")\n",
    "\n",
    "print(f\"my average is {my_average}, and my friend's average is {friend_average}\")"
   ]
  },
  {
   "cell_type": "markdown",
   "id": "40619363",
   "metadata": {},
   "source": [
    "### `if`, `elif`, `else`\n",
    "\n",
    "We can use an optional **else block** after the if block to execute code only when the if condition is False."
   ]
  },
  {
   "cell_type": "markdown",
   "id": "a25d4025",
   "metadata": {},
   "source": [
    "Old code so we can see all of the variables we need. Mind you, this is a Markdown cell, so the code would not be executed and the values will come from previous cells\n",
    "\n",
    "```python \n",
    "my_name = \"Ilya\"\n",
    "my_tastes = [0, 0, 2, 2, 0]\n",
    "friend_tastes = [2, 3, -1, -2, -3]\n",
    "my_average = sum(my_tastes) / len(my_tastes)\n",
    "friend_average = sum(friend_tastes) / len(friend_tastes)\n",
    "```"
   ]
  },
  {
   "cell_type": "code",
   "execution_count": 34,
   "id": "67f36d27",
   "metadata": {},
   "outputs": [
    {
     "name": "stdout",
     "output_type": "stream",
     "text": [
      "Ah yes Ilya, seems at least sometimes you like a good tune!\n",
      "Goodbye Ilya, nice to meet you. :)\n"
     ]
    }
   ],
   "source": [
    "if my_average < 0:\n",
    "    print(f\"Oh {my_name}, it seems like you are not a music person?\")\n",
    "else:\n",
    "    print(f\"Ah yes {my_name}, seems at least sometimes you like a good tune!\")\n",
    "\n",
    "print(f\"Goodbye {my_name}, nice to meet you. :)\")"
   ]
  },
  {
   "cell_type": "markdown",
   "id": "c4c43cfe",
   "metadata": {},
   "source": [
    "Finally, we can include zero or more **elif blocks** between the if and else to express more than two cases."
   ]
  },
  {
   "cell_type": "markdown",
   "id": "1bfd6aa4",
   "metadata": {},
   "source": [
    "```python \n",
    "my_name = \"Ilya\"\n",
    "my_tastes = [0, 0, 2, 2, 0]\n",
    "friend_tastes = [2, 3, -1, -2, -3]\n",
    "my_average = sum(my_tastes) / len(my_tastes)\n",
    "friend_average = sum(friend_tastes) / len(friend_tastes)\n",
    "```"
   ]
  },
  {
   "cell_type": "code",
   "execution_count": 35,
   "id": "35355380",
   "metadata": {},
   "outputs": [
    {
     "name": "stdout",
     "output_type": "stream",
     "text": [
      "Ah yes Ilya, seems at least sometimes you like a good tune!\n",
      "Goodbye Ilya, nice to meet you. :)\n"
     ]
    }
   ],
   "source": [
    "if my_average < 0:\n",
    "    print(f\"Oh {my_name}, it seems like you are not a music person?\")\n",
    "elif my_average < 2:\n",
    "    print(f\"Ah yes {my_name}, seems at least sometimes you like a good tune!\")\n",
    "elif my_average < 4:\n",
    "    print(f\"Ah yes {my_name}, seems you like a good tune!\")\n",
    "else:\n",
    "    print(f\"Ah yes {my_name}, great to see a music fan!\")\n",
    "\n",
    "print(f\"Goodbye {my_name}, nice to meet you. :)\")"
   ]
  },
  {
   "cell_type": "markdown",
   "id": "17159bd0",
   "metadata": {},
   "source": [
    "#### Exercise\n",
    "\n",
    "Change `my_average` to 4. Think which branch is going to be executed. Copy the code and test yourself"
   ]
  },
  {
   "cell_type": "code",
   "execution_count": 36,
   "id": "69540760",
   "metadata": {},
   "outputs": [],
   "source": [
    "#code here"
   ]
  },
  {
   "cell_type": "markdown",
   "id": "2f70b8a0",
   "metadata": {},
   "source": [
    "Conditions are evaluated to `bool`! That means we can apply any operations defined for `bool`"
   ]
  },
  {
   "cell_type": "code",
   "execution_count": 37,
   "id": "70ce6431",
   "metadata": {},
   "outputs": [
    {
     "name": "stdout",
     "output_type": "stream",
     "text": [
      "Ah yes Ilya, seems you like a good tune!\n"
     ]
    }
   ],
   "source": [
    "my_average = 2\n",
    "if my_average < 0:\n",
    "    print(f\"Oh {my_name}, it seems like you are not a music person?\")\n",
    "elif my_average < 2 and my_average >= 0:\n",
    "    print(f\"Ah yes {my_name}, seems at least sometimes you like a good tune!\")\n",
    "elif my_average < 4 and my_average >= 2:\n",
    "    print(f\"Ah yes {my_name}, seems you like a good tune!\")\n",
    "else:\n",
    "    print(f\"Ah yes {my_name}, great to see a music fan!\")"
   ]
  },
  {
   "cell_type": "markdown",
   "id": "d03a02a2",
   "metadata": {},
   "source": [
    "#### Exercise\n",
    "\n",
    "```python \n",
    "my_name = \"Ilya\"\n",
    "my_tastes = [0, 0, 2, 2, 0]\n",
    "friend_tastes = [2, 3, -1, -2, -3]\n",
    "my_average = sum(my_tastes) / len(my_tastes)\n",
    "friend_average = sum(friend_tastes) / len(friend_tastes)\n",
    "```\n",
    "\n",
    "Change `my_name` to yours if you have not done that yet. Assign `friend_name`.\n",
    "Define **if statement** printing who likes music more, you or your friend."
   ]
  },
  {
   "cell_type": "markdown",
   "id": "9dc87e62",
   "metadata": {},
   "source": [
    "> ## Back to Q2: How would you approach comparing music tastes between two people?"
   ]
  },
  {
   "cell_type": "markdown",
   "id": "c80d8fd6",
   "metadata": {},
   "source": [
    "Spend 10 seconds to recall your ideas"
   ]
  },
  {
   "cell_type": "markdown",
   "id": "4ab82cec",
   "metadata": {},
   "source": [
    "> It is clear that comparing average tastes does not make much sense to answer Q2.\n",
    "> It matters who exactly do we like/dislike and how strongly, so we need to do some comparisons on the list element level. \n",
    "\n",
    "> We need a way to operate list elements!\n",
    "\n",
    "> Now, we can do `my_tastes[0]` or `friend_tastes[3]` like with strings but there should be a more universal way!"
   ]
  },
  {
   "cell_type": "markdown",
   "id": "75280bf4",
   "metadata": {
    "slideshow": {
     "slide_type": "slide"
    }
   },
   "source": [
    "## Operating on collection elements: For loops"
   ]
  },
  {
   "cell_type": "markdown",
   "id": "e136640d",
   "metadata": {
    "slideshow": {
     "slide_type": "slide"
    }
   },
   "source": [
    "If we want to execute a piece of code *once per element in a collection*, \n",
    "we can do this using a **for loop**."
   ]
  },
  {
   "cell_type": "code",
   "execution_count": 38,
   "id": "90041fba",
   "metadata": {},
   "outputs": [
    {
     "name": "stdout",
     "output_type": "stream",
     "text": [
      "0\n",
      "0\n",
      "2\n",
      "2\n",
      "0\n"
     ]
    }
   ],
   "source": [
    "my_tastes = [0, 0, 2, 2, 0]\n",
    "\n",
    "for preference in my_tastes:\n",
    "    print(preference)"
   ]
  },
  {
   "cell_type": "markdown",
   "id": "cc465f8a",
   "metadata": {
    "slideshow": {
     "slide_type": "slide"
    }
   },
   "source": [
    "### For loop terminology\n",
    "\n",
    "```python\n",
    "for <variable> in <collection>:\n",
    "    <statement1>\n",
    "    <statement2>\n",
    "    ...\n",
    "```\n",
    "\n",
    "- We call `<variable>` the **(for) loop variable**. It refers to each element of the `<collection>`, one at a time.\n",
    "- We say that the for loop **iterates over** the `<collection>`."
   ]
  },
  {
   "cell_type": "markdown",
   "id": "e50d2f64",
   "metadata": {
    "slideshow": {
     "slide_type": "fragment"
    }
   },
   "source": [
    "- We call the statements indented after the colon the **(for) loop body**.\n",
    "\n",
    "- We call each repetition of the loop body an **iteration** of the loop."
   ]
  },
  {
   "cell_type": "markdown",
   "id": "bf3e5f0f",
   "metadata": {
    "slideshow": {
     "slide_type": "slide"
    }
   },
   "source": [
    "### Using loops: compute and print"
   ]
  },
  {
   "cell_type": "markdown",
   "id": "96041d5c",
   "metadata": {},
   "source": [
    "*Problem*: Add `1` to every preference value and print it"
   ]
  },
  {
   "cell_type": "code",
   "execution_count": 39,
   "id": "10b72197",
   "metadata": {
    "slideshow": {
     "slide_type": "-"
    }
   },
   "outputs": [
    {
     "name": "stdout",
     "output_type": "stream",
     "text": [
      "1\n",
      "1\n",
      "3\n",
      "3\n",
      "1\n"
     ]
    }
   ],
   "source": [
    "for preference in my_tastes:\n",
    "    print(preference + 1)"
   ]
  },
  {
   "cell_type": "markdown",
   "id": "c2f7cc16",
   "metadata": {
    "slideshow": {
     "slide_type": "slide"
    }
   },
   "source": [
    "### Using loops: compute and save\n",
    "\n",
    "*Problem*: Given a list of preferences, add `2` to every preference value and store it"
   ]
  },
  {
   "cell_type": "markdown",
   "id": "b9a7e30a",
   "metadata": {
    "slideshow": {
     "slide_type": "slide"
    }
   },
   "source": [
    "To accomplish this, we will:\n",
    "\n",
    "1. Create a new list variable to store the results.\n",
    "2. In the loop body, use the (new!) `list.append` method to add each length to the new list."
   ]
  },
  {
   "cell_type": "code",
   "execution_count": 40,
   "id": "6dd56a98",
   "metadata": {
    "slideshow": {
     "slide_type": "fragment"
    }
   },
   "outputs": [
    {
     "name": "stdout",
     "output_type": "stream",
     "text": [
      "[2, 2, 4, 4, 2]\n"
     ]
    }
   ],
   "source": [
    "my_tastes = [0, 0, 2, 2, 0]\n",
    "my_new_kinder_tastes = []\n",
    "\n",
    "for preference in my_tastes:\n",
    "    my_new_kinder_tastes.append(preference + 2)\n",
    "\n",
    "print(my_new_kinder_tastes)"
   ]
  },
  {
   "cell_type": "markdown",
   "id": "c4e1d39f",
   "metadata": {
    "slideshow": {
     "slide_type": "slide"
    }
   },
   "source": [
    "### Using loops: filtering\n",
    "\n",
    "We can combine a **for loop** and an **if statement** to iterate over a collection, decide what to do based on whether the current value satisifies a condition."
   ]
  },
  {
   "cell_type": "markdown",
   "id": "01bb6549",
   "metadata": {},
   "source": [
    "#### Exercise:\n",
    "\n",
    "Update the code to add `3` to each preference.\n",
    "Check if resulting preference is > 5. If yes, use value 5, if no, use updated value"
   ]
  },
  {
   "cell_type": "code",
   "execution_count": 41,
   "id": "739d552d",
   "metadata": {},
   "outputs": [],
   "source": [
    "# your code here"
   ]
  },
  {
   "cell_type": "code",
   "execution_count": 42,
   "id": "ae109728",
   "metadata": {},
   "outputs": [
    {
     "name": "stdout",
     "output_type": "stream",
     "text": [
      "[3, 3, 5, 5, 3]\n"
     ]
    }
   ],
   "source": [
    "# Solution:\n",
    "my_new_kinder_tastes = [] # cleaning up after the previous attempt\n",
    "for preference in my_tastes:\n",
    "    new_preference = preference + 3\n",
    "    if new_preference > 5:\n",
    "        new_preference = 5\n",
    "    my_new_kinder_tastes.append(new_preference)\n",
    "\n",
    "print(my_new_kinder_tastes)"
   ]
  },
  {
   "cell_type": "markdown",
   "id": "fefbfc01",
   "metadata": {},
   "source": [
    "#### Exercise:\n",
    "\n",
    "Given a list of artists, compute the length of each name **that contains an `\"e\"`**, and store each result."
   ]
  },
  {
   "cell_type": "code",
   "execution_count": 43,
   "id": "a66649e7",
   "metadata": {
    "slideshow": {
     "slide_type": "fragment"
    }
   },
   "outputs": [
    {
     "ename": "SyntaxError",
     "evalue": "invalid syntax (2148162619.py, line 4)",
     "output_type": "error",
     "traceback": [
      "\u001b[0;36m  Cell \u001b[0;32mIn[43], line 4\u001b[0;36m\u001b[0m\n\u001b[0;31m    ... your code here\u001b[0m\n\u001b[0m        ^\u001b[0m\n\u001b[0;31mSyntaxError\u001b[0m\u001b[0;31m:\u001b[0m invalid syntax\n"
     ]
    }
   ],
   "source": [
    "artists = [\"Drake\", \"Tame Impala\", \"Billie Eilish\", \"The Weeknd\", \"Taylor Swift\"]\n",
    "lengths = []\n",
    "\n",
    "#... your code here"
   ]
  },
  {
   "cell_type": "code",
   "execution_count": null,
   "id": "9622a54b",
   "metadata": {},
   "outputs": [],
   "source": [
    "#solution\n",
    "\n",
    "for name in artists:\n",
    "    if \"e\" in name:\n",
    "        name_length = len(name)\n",
    "        lengths.append(name_length)\n",
    "    \n",
    "lengths"
   ]
  },
  {
   "cell_type": "markdown",
   "id": "0bc64953",
   "metadata": {},
   "source": [
    "So, how to approach our comparison?\n",
    "\n",
    "Remember, we have two lists and want to compare the elements somehow.\n",
    "\n",
    "Python actually allows us to iterate through two collections (e.g. two lists) using `zip function`\n",
    "\n",
    "comparison = []\n",
    "for a, b in zip(list1, list2):\n",
    "    comparison.append(a == b)"
   ]
  },
  {
   "cell_type": "code",
   "execution_count": null,
   "id": "107aa6c7",
   "metadata": {},
   "outputs": [
    {
     "name": "stdout",
     "output_type": "stream",
     "text": [
      "<zip object at 0x7efcf07b4040>\n",
      "[(0, 2), (0, 3), (2, -1), (2, -2), (0, -3)]\n"
     ]
    }
   ],
   "source": [
    "print(zip(my_tastes, friend_tastes))\n",
    "print(list(zip(my_tastes, friend_tastes)))"
   ]
  },
  {
   "cell_type": "markdown",
   "id": "056a9ee4",
   "metadata": {},
   "source": [
    "![zip.png](\"zip.png\")"
   ]
  },
  {
   "cell_type": "markdown",
   "id": "992d54ee",
   "metadata": {},
   "source": [
    "So, let's say I want to calculate a sum of simple differences between our tastes:"
   ]
  },
  {
   "cell_type": "code",
   "execution_count": null,
   "id": "e714d7bf",
   "metadata": {},
   "outputs": [
    {
     "name": "stdout",
     "output_type": "stream",
     "text": [
      "[-2, -3, 3, 4, 3]\n",
      "5\n"
     ]
    }
   ],
   "source": [
    "differences = []\n",
    "for my_pref, friend_pref in zip(my_tastes, friend_tastes):\n",
    "    differences.append(my_pref - friend_pref)\n",
    "\n",
    "print(differences)\n",
    "print(sum(differences))"
   ]
  },
  {
   "cell_type": "markdown",
   "id": "bacfb53e",
   "metadata": {},
   "source": [
    "What are problems of such a measure and how to improve it?"
   ]
  },
  {
   "cell_type": "markdown",
   "id": "50fb0113",
   "metadata": {
    "slideshow": {
     "slide_type": "slide"
    }
   },
   "source": [
    "#### Exercise\n",
    "\n",
    "Modify the code above to calculate absolute differences (ignoring the sign) and their sum"
   ]
  },
  {
   "cell_type": "code",
   "execution_count": null,
   "id": "0d396284",
   "metadata": {
    "slideshow": {
     "slide_type": "-"
    }
   },
   "outputs": [],
   "source": [
    "# your code"
   ]
  },
  {
   "cell_type": "code",
   "execution_count": null,
   "id": "c74f4e66",
   "metadata": {},
   "outputs": [],
   "source": [
    "# solution\n",
    "\n"
   ]
  },
  {
   "cell_type": "markdown",
   "id": "b32088da",
   "metadata": {},
   "source": [
    "### Other approaches\n",
    "\n",
    "E.g. treat lists as vectors and apply vector distances.similarities: \n",
    "- Euclidean $d(\\mathbf{a}, \\mathbf{b}) = \\sqrt{\\sum_{i=1}^{n} (a_i - b_i)^2}$"
   ]
  },
  {
   "cell_type": "markdown",
   "id": "d6244ddd",
   "metadata": {},
   "source": [
    "## Functions\n",
    "note that I define my own function in the following code which we can then use as any built in function (e.g. `sum`, `len`, `zip`)  You will get back to it later."
   ]
  },
  {
   "cell_type": "code",
   "execution_count": 48,
   "id": "a368e546",
   "metadata": {},
   "outputs": [],
   "source": [
    "import math\n",
    "\n",
    "def euclidean_distance(list1, list2): \n",
    "    '''\n",
    "    This function calculates euclidean distance between two lists.\n",
    "    We pass two preference lists (list1, list2) as arguments. \n",
    "    Note that these names work only inside our function!\n",
    "    The function will return a float value\n",
    "    '''\n",
    "    sum_of_squares = 0\n",
    "    for a, b in zip(list1, list2):\n",
    "        sum_of_squares = sum_of_squares + ((a - b) ** 2)\n",
    "    return math.sqrt(sum_of_squares) # that is what our function will return"
   ]
  },
  {
   "cell_type": "code",
   "execution_count": null,
   "id": "542fee17",
   "metadata": {},
   "outputs": [],
   "source": [
    "# How to apply the new function to our data?"
   ]
  },
  {
   "cell_type": "code",
   "execution_count": null,
   "id": "b07f9c29",
   "metadata": {},
   "outputs": [
    {
     "data": {
      "text/plain": [
       "6.855654600401044"
      ]
     },
     "execution_count": 27,
     "metadata": {},
     "output_type": "execute_result"
    }
   ],
   "source": [
    "euclidean_distance(my_tastes, friend_tastes)"
   ]
  },
  {
   "cell_type": "markdown",
   "id": "f98ff609",
   "metadata": {},
   "source": [
    "#### Exercise\n",
    "Create two other lists with diverging tastes and test our function. Think about edge cases"
   ]
  },
  {
   "cell_type": "code",
   "execution_count": null,
   "id": "a10db0f1",
   "metadata": {},
   "outputs": [],
   "source": [
    "# your code here"
   ]
  },
  {
   "cell_type": "code",
   "execution_count": 44,
   "id": "e7d25dc5",
   "metadata": {},
   "outputs": [
    {
     "name": "stdout",
     "output_type": "stream",
     "text": [
      "9.643650760992955\n",
      "12.727922061357855\n",
      "2.8284271247461903\n",
      "5.196152422706632\n"
     ]
    }
   ],
   "source": [
    "# solution\n",
    "\n",
    "tastes3 = [5, 5, 5, 5, 5]\n",
    "tastes4 = [-5, -5, -5, -5, -5]\n",
    "tastes5 = [0, 0, 0, 0, 0]\n",
    "\n",
    "print(euclidean_distance(my_tastes, tastes3))\n",
    "print(euclidean_distance(friend_tastes, tastes3))\n",
    "\n",
    "print(euclidean_distance(my_tastes, tastes5))\n",
    "print(euclidean_distance(friend_tastes, tastes5))"
   ]
  },
  {
   "cell_type": "markdown",
   "id": "bf7d19fb",
   "metadata": {},
   "source": [
    "## Storing complex data: dictionaries (`dict`) and lists"
   ]
  },
  {
   "cell_type": "markdown",
   "id": "b81bd777",
   "metadata": {},
   "source": [
    "A **dictionary** is another type of Python collection (we already learned one - `list`).\n",
    "Python lists are very good at storing *one-dimensional data* (one \"column\" of data).\n",
    "Dictionary lets you created associated pairs of data (**keys** and **values**).\n",
    "\n",
    "Combining lists and dictionaries we can store and process more complex data!\n",
    "\n",
    "For example:\n"
   ]
  },
  {
   "cell_type": "code",
   "execution_count": 61,
   "id": "60142e6f",
   "metadata": {},
   "outputs": [
    {
     "data": {
      "text/plain": [
       "dict"
      ]
     },
     "execution_count": 61,
     "metadata": {},
     "output_type": "execute_result"
    }
   ],
   "source": [
    "tastes_data = {\n",
    "    'Student 1': [1, -4, -5, -1, 3],\n",
    "    'Student 2': [2, 4, -1, 2, 0],\n",
    "    'Student 3': [4, 4, 3, -3, -1],\n",
    "    'Student 4': [-3, -4, 4, -1, 3],\n",
    "    'Student 5': [4, 4, -1, -4, -4],\n",
    "    'Student 6': [5, 5, 2, 3, -4],\n",
    "    'Student 7': [0, -5, 0, 4, 5],\n",
    "    'Student 8': [-2, -4, 2, 2, 3],\n",
    "    'Student 9': [-1, 4, 3, -5, -4],\n",
    "    'Student 10': [1, -5, 5, -5, 4],\n",
    "    'Student 11': [2, 5, -2, 0, -4],\n",
    "    'Student 12': [-2, 5, -2, -2, -3],\n",
    "    'Student 13': [3, 5, -4, -4, 0],\n",
    "    'Student 14': [3, -5, -4, -1, 3],\n",
    "    'Student 15': [-1, -4, 3, 0, 3]\n",
    "}\n",
    "\n",
    "\n",
    "type(tastes_data)"
   ]
  },
  {
   "cell_type": "markdown",
   "id": "a1c2f367",
   "metadata": {},
   "source": [
    "I can ask to get a value from dictionary by key:"
   ]
  },
  {
   "cell_type": "code",
   "execution_count": 62,
   "id": "08206594",
   "metadata": {},
   "outputs": [
    {
     "data": {
      "text/plain": [
       "[1, -4, -5, -1, 3]"
      ]
     },
     "execution_count": 62,
     "metadata": {},
     "output_type": "execute_result"
    }
   ],
   "source": [
    "tastes_data['Student 1']\n"
   ]
  },
  {
   "cell_type": "markdown",
   "id": "c0ab2688",
   "metadata": {},
   "source": [
    "What type is the result?"
   ]
  },
  {
   "cell_type": "code",
   "execution_count": null,
   "id": "4ef8a401",
   "metadata": {},
   "outputs": [],
   "source": [
    "type(tastes_data['Student 1'])"
   ]
  },
  {
   "cell_type": "markdown",
   "id": "a2ff8170",
   "metadata": {},
   "source": [
    "So no we can compare any two student tastes:"
   ]
  },
  {
   "cell_type": "code",
   "execution_count": null,
   "id": "8cc1f900",
   "metadata": {},
   "outputs": [],
   "source": [
    "euclidean_distance(tastes_data['Student 1'], tastes_data['Student 10'])"
   ]
  },
  {
   "cell_type": "markdown",
   "id": "483d89d8",
   "metadata": {},
   "source": [
    "or add new data"
   ]
  },
  {
   "cell_type": "code",
   "execution_count": 47,
   "id": "fb535a1b",
   "metadata": {},
   "outputs": [
    {
     "name": "stdout",
     "output_type": "stream",
     "text": [
      "{'Student 1': [1, 1, -5, -1, 3], 'Student 2': [2, 1, -1, 2, 0], 'Student 3': [4, -2, 3, -3, -1], 'Student 4': [-3, -4, 4, -1, 3], 'Student 5': [4, -3, -1, -4, -4], 'Student 6': [5, 0, 2, 3, -4], 'Student 7': [0, 1, 0, 4, 5], 'Student 8': [-2, 3, 2, 2, 3], 'Student 9': [-1, -5, 3, -5, -4], 'Student 10': [1, 5, 5, -5, 4], 'Student 11': [2, 0, -2, 0, -4], 'Student 12': [-2, 4, -2, -2, -3], 'Student 13': [3, 2, -4, -4, 0], 'Student 14': [3, 2, -4, -1, 3], 'Student 15': [-1, -4, 3, 0, 3], 'Ilya': [0, 0, 2, 2, 0]}\n"
     ]
    }
   ],
   "source": [
    "tastes_data['Ilya'] = my_tastes\n",
    "\n",
    "print(tastes_data)"
   ]
  },
  {
   "cell_type": "markdown",
   "id": "d359c946",
   "metadata": {},
   "source": [
    "Sometimes we need to convert between different data structures.\n",
    "\n",
    "Let's say we want to calculate the similarity **between artists** based on student preferences.\n",
    "\n",
    "We need to reshape our data and we can use loops for that!"
   ]
  },
  {
   "cell_type": "code",
   "execution_count": 63,
   "id": "963ca551",
   "metadata": {},
   "outputs": [
    {
     "name": "stdout",
     "output_type": "stream",
     "text": [
      "Student 1\n",
      "Student 2\n",
      "Student 3\n",
      "Student 4\n",
      "Student 5\n",
      "Student 6\n",
      "Student 7\n",
      "Student 8\n",
      "Student 9\n",
      "Student 10\n",
      "Student 11\n",
      "Student 12\n",
      "Student 13\n",
      "Student 14\n",
      "Student 15\n"
     ]
    }
   ],
   "source": [
    "for student_name in tastes_data: # loops through dictionary keys\n",
    "    print(student_name) # prints keys (student names) \n"
   ]
  },
  {
   "cell_type": "code",
   "execution_count": 50,
   "id": "959de529",
   "metadata": {},
   "outputs": [
    {
     "name": "stdout",
     "output_type": "stream",
     "text": [
      "[1, 1, -5, -1, 3]\n",
      "[2, 1, -1, 2, 0]\n",
      "[4, -2, 3, -3, -1]\n",
      "[-3, -4, 4, -1, 3]\n",
      "[4, -3, -1, -4, -4]\n",
      "[5, 0, 2, 3, -4]\n",
      "[0, 1, 0, 4, 5]\n",
      "[-2, 3, 2, 2, 3]\n",
      "[-1, -5, 3, -5, -4]\n",
      "[1, 5, 5, -5, 4]\n",
      "[2, 0, -2, 0, -4]\n",
      "[-2, 4, -2, -2, -3]\n",
      "[3, 2, -4, -4, 0]\n",
      "[3, 2, -4, -1, 3]\n",
      "[-1, -4, 3, 0, 3]\n",
      "[0, 0, 2, 2, 0]\n"
     ]
    }
   ],
   "source": [
    "for student_name in tastes_data: # loops through dictionary keys\n",
    "    print(tastes_data[student_name]) # but we can get a value by key!"
   ]
  },
  {
   "cell_type": "markdown",
   "id": "d025d24a",
   "metadata": {},
   "source": [
    "What shape of data do we need for artists?\n",
    "We are going to have one list with all artist prefs for all students (value) for each artist (key)\n",
    "so something like:\n",
    "```\n",
    "artist_data = {'Drake': [3, -3, ...],\n",
    "'The Weekend': [1, 2, ...]}\n",
    "```"
   ]
  },
  {
   "cell_type": "markdown",
   "id": "73b27848",
   "metadata": {},
   "source": [
    "let's create keys with empty lists as values"
   ]
  },
  {
   "cell_type": "code",
   "execution_count": 64,
   "id": "a7631bf4",
   "metadata": {},
   "outputs": [
    {
     "name": "stdout",
     "output_type": "stream",
     "text": [
      "{'Drake': [], 'Tame Impala': [], 'Billie Eilish': [], 'The Weeknd': [], 'Taylor Swift': []}\n"
     ]
    }
   ],
   "source": [
    "artist_data = {}\n",
    "\n",
    "for artist in artists:\n",
    "    artist_data[artist] = []\n",
    "\n",
    "print(artist_data)"
   ]
  },
  {
   "cell_type": "code",
   "execution_count": 65,
   "id": "6b74dac0",
   "metadata": {},
   "outputs": [
    {
     "name": "stdout",
     "output_type": "stream",
     "text": [
      "{'Drake': [1, 2, 4, -3, 4, 5, 0, -2, -1, 1, 2, -2, 3, 3, -1], 'Tame Impala': [-4, 4, 4, -4, 4, 5, -5, -4, 4, -5, 5, 5, 5, -5, -4], 'Billie Eilish': [-5, -1, 3, 4, -1, 2, 0, 2, 3, 5, -2, -2, -4, -4, 3], 'The Weeknd': [-1, 2, -3, -1, -4, 3, 4, 2, -5, -5, 0, -2, -4, -1, 0], 'Taylor Swift': [3, 0, -1, 3, -4, -4, 5, 3, -4, 4, -4, -3, 0, 3, 3]}\n"
     ]
    }
   ],
   "source": [
    "for student_name in tastes_data: # loops through dictionary keys\n",
    "    student_tastes = tastes_data[student_name]\n",
    "    for artist, pref in zip(artists, student_tastes):\n",
    "        artist_data[artist].append(pref)\n",
    "\n",
    "print(artist_data)\n"
   ]
  },
  {
   "cell_type": "markdown",
   "id": "f4077a18",
   "metadata": {},
   "source": [
    "Now we can use the same euclidean distance function to calculate the similarity of artists!"
   ]
  },
  {
   "cell_type": "code",
   "execution_count": 66,
   "id": "a3648d7a",
   "metadata": {},
   "outputs": [
    {
     "data": {
      "text/plain": [
       "18.547236990991408"
      ]
     },
     "execution_count": 66,
     "metadata": {},
     "output_type": "execute_result"
    }
   ],
   "source": [
    "euclidean_distance(artist_data['Drake'], artist_data['Taylor Swift'])"
   ]
  },
  {
   "cell_type": "code",
   "execution_count": 68,
   "id": "26b7ec80",
   "metadata": {},
   "outputs": [
    {
     "data": {
      "text/plain": [
       "22.715633383201094"
      ]
     },
     "execution_count": 68,
     "metadata": {},
     "output_type": "execute_result"
    }
   ],
   "source": [
    "euclidean_distance(artist_data['Tame Impala'], artist_data['Billie Eilish'])"
   ]
  },
  {
   "cell_type": "code",
   "execution_count": 69,
   "id": "832abbd1",
   "metadata": {},
   "outputs": [
    {
     "data": {
      "text/plain": [
       "29.34280150224242"
      ]
     },
     "execution_count": 69,
     "metadata": {},
     "output_type": "execute_result"
    }
   ],
   "source": [
    "euclidean_distance(artist_data['Tame Impala'], artist_data['Taylor Swift'])"
   ]
  },
  {
   "cell_type": "markdown",
   "id": "c5b29a09",
   "metadata": {},
   "source": [
    "## Preview: From lists and dictionaries to data frames (Pandas)\n",
    "\n",
    "Starting from the next lecture you are going to quite often work with tabular data in Pandas.\n",
    "There is a special type `DataFrame` to represent such tabular (two-dimensional) data which is a part of `pandas` library.\n",
    "\n",
    "Let us quickly explore how to convert data from basic Python to `DataFrame`"
   ]
  },
  {
   "cell_type": "markdown",
   "id": "e8869c5f",
   "metadata": {},
   "source": [
    "To use a library in Python, we need to **import** it into our code."
   ]
  },
  {
   "cell_type": "code",
   "execution_count": null,
   "id": "478bc8a4",
   "metadata": {},
   "outputs": [],
   "source": [
    "import pandas as pd"
   ]
  },
  {
   "cell_type": "markdown",
   "id": "74427216",
   "metadata": {},
   "source": [
    "### Creating your own data frame\n",
    "\n",
    "Some of the examples you'll look at will involve creating small data frames \"by hand\", since they're easier to conceptualize than large data frames.\n",
    "\n",
    "Creating a data frame manually consists of two steps."
   ]
  },
  {
   "cell_type": "markdown",
   "id": "475643ad",
   "metadata": {},
   "source": [
    "### Step 1: Create a dictionary of your data\n",
    "\n",
    "For us, a dictionary can map *column names* (strings) to *column values* (lists) in a table."
   ]
  },
  {
   "cell_type": "code",
   "execution_count": 70,
   "id": "76b2e9d7",
   "metadata": {},
   "outputs": [
    {
     "data": {
      "text/plain": [
       "{'Drake': [1, 2, 4, -3, 4, 5, 0, -2, -1, 1, 2, -2, 3, 3, -1],\n",
       " 'Tame Impala': [-4, 4, 4, -4, 4, 5, -5, -4, 4, -5, 5, 5, 5, -5, -4],\n",
       " 'Billie Eilish': [-5, -1, 3, 4, -1, 2, 0, 2, 3, 5, -2, -2, -4, -4, 3],\n",
       " 'The Weeknd': [-1, 2, -3, -1, -4, 3, 4, 2, -5, -5, 0, -2, -4, -1, 0],\n",
       " 'Taylor Swift': [3, 0, -1, 3, -4, -4, 5, 3, -4, 4, -4, -3, 0, 3, 3]}"
      ]
     },
     "execution_count": 70,
     "metadata": {},
     "output_type": "execute_result"
    }
   ],
   "source": [
    "artist_data"
   ]
  },
  {
   "cell_type": "markdown",
   "id": "41a3a023",
   "metadata": {},
   "source": [
    "What's missing?\n",
    "Maybe we will need student names.\n",
    "\n",
    "Let's add them!"
   ]
  },
  {
   "cell_type": "code",
   "execution_count": 71,
   "id": "3b0a481d",
   "metadata": {},
   "outputs": [
    {
     "data": {
      "text/plain": [
       "{'Student 1': [1, -4, -5, -1, 3],\n",
       " 'Student 2': [2, 4, -1, 2, 0],\n",
       " 'Student 3': [4, 4, 3, -3, -1],\n",
       " 'Student 4': [-3, -4, 4, -1, 3],\n",
       " 'Student 5': [4, 4, -1, -4, -4],\n",
       " 'Student 6': [5, 5, 2, 3, -4],\n",
       " 'Student 7': [0, -5, 0, 4, 5],\n",
       " 'Student 8': [-2, -4, 2, 2, 3],\n",
       " 'Student 9': [-1, 4, 3, -5, -4],\n",
       " 'Student 10': [1, -5, 5, -5, 4],\n",
       " 'Student 11': [2, 5, -2, 0, -4],\n",
       " 'Student 12': [-2, 5, -2, -2, -3],\n",
       " 'Student 13': [3, 5, -4, -4, 0],\n",
       " 'Student 14': [3, -5, -4, -1, 3],\n",
       " 'Student 15': [-1, -4, 3, 0, 3]}"
      ]
     },
     "execution_count": 71,
     "metadata": {},
     "output_type": "execute_result"
    }
   ],
   "source": [
    "tastes_data"
   ]
  },
  {
   "cell_type": "markdown",
   "id": "577c3407",
   "metadata": {},
   "source": [
    "Student names are keys, so we can just loop through them and add to a separate list:"
   ]
  },
  {
   "cell_type": "code",
   "execution_count": 73,
   "id": "47a0b481",
   "metadata": {},
   "outputs": [
    {
     "name": "stdout",
     "output_type": "stream",
     "text": [
      "['Student 1', 'Student 2', 'Student 3', 'Student 4', 'Student 5', 'Student 6', 'Student 7', 'Student 8', 'Student 9', 'Student 10', 'Student 11', 'Student 12', 'Student 13', 'Student 14', 'Student 15']\n"
     ]
    }
   ],
   "source": [
    "student_names = []\n",
    "for student_name in tastes_data:\n",
    "    student_names.append(student_name)\n",
    "\n",
    "print(student_names)\n"
   ]
  },
  {
   "cell_type": "code",
   "execution_count": 74,
   "id": "9a0b6417",
   "metadata": {},
   "outputs": [
    {
     "name": "stdout",
     "output_type": "stream",
     "text": [
      "{'Drake': [1, 2, 4, -3, 4, 5, 0, -2, -1, 1, 2, -2, 3, 3, -1], 'Tame Impala': [-4, 4, 4, -4, 4, 5, -5, -4, 4, -5, 5, 5, 5, -5, -4], 'Billie Eilish': [-5, -1, 3, 4, -1, 2, 0, 2, 3, 5, -2, -2, -4, -4, 3], 'The Weeknd': [-1, 2, -3, -1, -4, 3, 4, 2, -5, -5, 0, -2, -4, -1, 0], 'Taylor Swift': [3, 0, -1, 3, -4, -4, 5, 3, -4, 4, -4, -3, 0, 3, 3], 'student names': ['Student 1', 'Student 2', 'Student 3', 'Student 4', 'Student 5', 'Student 6', 'Student 7', 'Student 8', 'Student 9', 'Student 10', 'Student 11', 'Student 12', 'Student 13', 'Student 14', 'Student 15']}\n"
     ]
    }
   ],
   "source": [
    "#now add to artist_data:\n",
    "\n",
    "artist_data['student names'] = student_names\n",
    "\n",
    "print(artist_data)"
   ]
  },
  {
   "cell_type": "markdown",
   "id": "be95ba07",
   "metadata": {},
   "source": [
    "### Step 2: Turn the dictionary into a data frame\n",
    "\n",
    "Now, we can turn that dictionary into a pandas `DataFrame`:"
   ]
  },
  {
   "cell_type": "code",
   "execution_count": 76,
   "id": "625c4aac",
   "metadata": {},
   "outputs": [
    {
     "data": {
      "text/html": [
       "<div>\n",
       "<style scoped>\n",
       "    .dataframe tbody tr th:only-of-type {\n",
       "        vertical-align: middle;\n",
       "    }\n",
       "\n",
       "    .dataframe tbody tr th {\n",
       "        vertical-align: top;\n",
       "    }\n",
       "\n",
       "    .dataframe thead th {\n",
       "        text-align: right;\n",
       "    }\n",
       "</style>\n",
       "<table border=\"1\" class=\"dataframe\">\n",
       "  <thead>\n",
       "    <tr style=\"text-align: right;\">\n",
       "      <th></th>\n",
       "      <th>Drake</th>\n",
       "      <th>Tame Impala</th>\n",
       "      <th>Billie Eilish</th>\n",
       "      <th>The Weeknd</th>\n",
       "      <th>Taylor Swift</th>\n",
       "      <th>student names</th>\n",
       "    </tr>\n",
       "  </thead>\n",
       "  <tbody>\n",
       "    <tr>\n",
       "      <th>0</th>\n",
       "      <td>1</td>\n",
       "      <td>-4</td>\n",
       "      <td>-5</td>\n",
       "      <td>-1</td>\n",
       "      <td>3</td>\n",
       "      <td>Student 1</td>\n",
       "    </tr>\n",
       "    <tr>\n",
       "      <th>1</th>\n",
       "      <td>2</td>\n",
       "      <td>4</td>\n",
       "      <td>-1</td>\n",
       "      <td>2</td>\n",
       "      <td>0</td>\n",
       "      <td>Student 2</td>\n",
       "    </tr>\n",
       "    <tr>\n",
       "      <th>2</th>\n",
       "      <td>4</td>\n",
       "      <td>4</td>\n",
       "      <td>3</td>\n",
       "      <td>-3</td>\n",
       "      <td>-1</td>\n",
       "      <td>Student 3</td>\n",
       "    </tr>\n",
       "    <tr>\n",
       "      <th>3</th>\n",
       "      <td>-3</td>\n",
       "      <td>-4</td>\n",
       "      <td>4</td>\n",
       "      <td>-1</td>\n",
       "      <td>3</td>\n",
       "      <td>Student 4</td>\n",
       "    </tr>\n",
       "    <tr>\n",
       "      <th>4</th>\n",
       "      <td>4</td>\n",
       "      <td>4</td>\n",
       "      <td>-1</td>\n",
       "      <td>-4</td>\n",
       "      <td>-4</td>\n",
       "      <td>Student 5</td>\n",
       "    </tr>\n",
       "    <tr>\n",
       "      <th>5</th>\n",
       "      <td>5</td>\n",
       "      <td>5</td>\n",
       "      <td>2</td>\n",
       "      <td>3</td>\n",
       "      <td>-4</td>\n",
       "      <td>Student 6</td>\n",
       "    </tr>\n",
       "    <tr>\n",
       "      <th>6</th>\n",
       "      <td>0</td>\n",
       "      <td>-5</td>\n",
       "      <td>0</td>\n",
       "      <td>4</td>\n",
       "      <td>5</td>\n",
       "      <td>Student 7</td>\n",
       "    </tr>\n",
       "    <tr>\n",
       "      <th>7</th>\n",
       "      <td>-2</td>\n",
       "      <td>-4</td>\n",
       "      <td>2</td>\n",
       "      <td>2</td>\n",
       "      <td>3</td>\n",
       "      <td>Student 8</td>\n",
       "    </tr>\n",
       "    <tr>\n",
       "      <th>8</th>\n",
       "      <td>-1</td>\n",
       "      <td>4</td>\n",
       "      <td>3</td>\n",
       "      <td>-5</td>\n",
       "      <td>-4</td>\n",
       "      <td>Student 9</td>\n",
       "    </tr>\n",
       "    <tr>\n",
       "      <th>9</th>\n",
       "      <td>1</td>\n",
       "      <td>-5</td>\n",
       "      <td>5</td>\n",
       "      <td>-5</td>\n",
       "      <td>4</td>\n",
       "      <td>Student 10</td>\n",
       "    </tr>\n",
       "    <tr>\n",
       "      <th>10</th>\n",
       "      <td>2</td>\n",
       "      <td>5</td>\n",
       "      <td>-2</td>\n",
       "      <td>0</td>\n",
       "      <td>-4</td>\n",
       "      <td>Student 11</td>\n",
       "    </tr>\n",
       "    <tr>\n",
       "      <th>11</th>\n",
       "      <td>-2</td>\n",
       "      <td>5</td>\n",
       "      <td>-2</td>\n",
       "      <td>-2</td>\n",
       "      <td>-3</td>\n",
       "      <td>Student 12</td>\n",
       "    </tr>\n",
       "    <tr>\n",
       "      <th>12</th>\n",
       "      <td>3</td>\n",
       "      <td>5</td>\n",
       "      <td>-4</td>\n",
       "      <td>-4</td>\n",
       "      <td>0</td>\n",
       "      <td>Student 13</td>\n",
       "    </tr>\n",
       "    <tr>\n",
       "      <th>13</th>\n",
       "      <td>3</td>\n",
       "      <td>-5</td>\n",
       "      <td>-4</td>\n",
       "      <td>-1</td>\n",
       "      <td>3</td>\n",
       "      <td>Student 14</td>\n",
       "    </tr>\n",
       "    <tr>\n",
       "      <th>14</th>\n",
       "      <td>-1</td>\n",
       "      <td>-4</td>\n",
       "      <td>3</td>\n",
       "      <td>0</td>\n",
       "      <td>3</td>\n",
       "      <td>Student 15</td>\n",
       "    </tr>\n",
       "  </tbody>\n",
       "</table>\n",
       "</div>"
      ],
      "text/plain": [
       "    Drake  Tame Impala  Billie Eilish  The Weeknd  Taylor Swift student names\n",
       "0       1           -4             -5          -1             3     Student 1\n",
       "1       2            4             -1           2             0     Student 2\n",
       "2       4            4              3          -3            -1     Student 3\n",
       "3      -3           -4              4          -1             3     Student 4\n",
       "4       4            4             -1          -4            -4     Student 5\n",
       "5       5            5              2           3            -4     Student 6\n",
       "6       0           -5              0           4             5     Student 7\n",
       "7      -2           -4              2           2             3     Student 8\n",
       "8      -1            4              3          -5            -4     Student 9\n",
       "9       1           -5              5          -5             4    Student 10\n",
       "10      2            5             -2           0            -4    Student 11\n",
       "11     -2            5             -2          -2            -3    Student 12\n",
       "12      3            5             -4          -4             0    Student 13\n",
       "13      3           -5             -4          -1             3    Student 14\n",
       "14     -1           -4              3           0             3    Student 15"
      ]
     },
     "execution_count": 76,
     "metadata": {},
     "output_type": "execute_result"
    }
   ],
   "source": [
    "#remember to add import pandas as pd\n",
    "import pandas as pd\n",
    "my_data_frame = pd.DataFrame(artist_data)\n",
    "\n",
    "my_data_frame"
   ]
  },
  {
   "cell_type": "markdown",
   "id": "070f74a7",
   "metadata": {
    "slideshow": {
     "slide_type": "slide"
    }
   },
   "source": [
    "## Reading data from files"
   ]
  },
  {
   "cell_type": "markdown",
   "id": "b486cfb8",
   "metadata": {},
   "source": [
    "So far, we've been working entirely with data we defined inside our notebook.\n",
    "\n",
    "But in practice, we'll be reading in large quantities of data from files.\n",
    "Let's learn how to do this in JupyterHub and Python and in the end we will see how to do that in pandas."
   ]
  },
  {
   "cell_type": "markdown",
   "id": "039856f2",
   "metadata": {},
   "source": [
    "## Example: Canadian Elections\n",
    "\n",
    "This week you will work with a small dataset of Canada's 338 electoral districts, sourced from [Elections Canada](https://www.elections.ca/content.aspx?section=res&dir=cir/list&document=index338&lang=e#list) and containing the names and populations of Canada's 338 electoral ridings.\n",
    "\n",
    "We've placed a copy of this dataset in the same folder as this lab notebook (you can see this in JupyterHub by going to **File -> Open**).\n",
    "We've downloaded this data in a file called `ED-Canada_2016.csv` and added it to course website in the same folder as this notebook.\n",
    "\n",
    "Let's take a look now. The easiest way to get to the file is to go to **File -> Open...** in the menu. Demo time!\n"
   ]
  },
  {
   "cell_type": "markdown",
   "id": "6d20f9e7",
   "metadata": {
    "slideshow": {
     "slide_type": "slide"
    }
   },
   "source": [
    "## CSV files\n",
    "\n",
    "`ED-Canada_2016.csv` is a type of file called a **comma-separated values (CSV)** file, which is a common way of storing tabular data.\n",
    "\n",
    "In a CSV file:\n",
    "\n",
    "- Each *line* of the file represents one row\n",
    "- Within one line, each column entry is separated by a *comma*"
   ]
  },
  {
   "cell_type": "markdown",
   "id": "e77c47ed",
   "metadata": {
    "slideshow": {
     "slide_type": "slide"
    }
   },
   "source": [
    "### Reading file data: `open` and `readlines`\n",
    "\n",
    "Now that we've seen the file, let's learn how to read the file's contents into Python.\n",
    "\n",
    "Formally, we do this in two steps:\n",
    "\n",
    "1. **Open** the file.\n",
    "2. **Read** the file data into Python, line by line."
   ]
  },
  {
   "cell_type": "code",
   "execution_count": null,
   "id": "44a797bd",
   "metadata": {
    "slideshow": {
     "slide_type": "slide"
    }
   },
   "outputs": [],
   "source": [
    "# Step 1\n",
    "district_file = open(\"ED-Canada_2016.csv\", encoding=\"utf-8\")\n",
    "\n",
    "district_file"
   ]
  },
  {
   "cell_type": "code",
   "execution_count": null,
   "id": "cd8cee48",
   "metadata": {
    "slideshow": {
     "slide_type": "fragment"
    }
   },
   "outputs": [],
   "source": [
    "district_data = district_file.readlines()\n",
    "\n",
    "district_data"
   ]
  },
  {
   "cell_type": "markdown",
   "id": "1ba134ac",
   "metadata": {
    "slideshow": {
     "slide_type": "slide"
    }
   },
   "source": [
    "### Data processing\n",
    "\n",
    "Let's look at just the first line from the file:"
   ]
  },
  {
   "cell_type": "code",
   "execution_count": null,
   "id": "d0e8946c",
   "metadata": {},
   "outputs": [],
   "source": [
    "district_data[0]"
   ]
  },
  {
   "cell_type": "markdown",
   "id": "d2940b05",
   "metadata": {
    "slideshow": {
     "slide_type": "fragment"
    }
   },
   "source": [
    "There's two annoying parts about this line:\n",
    "\n",
    "1. It's a single string, but really stores two pieces of data.\n",
    "2. There's a strange `\\n` at the end of the string, representing a *line break*."
   ]
  },
  {
   "cell_type": "markdown",
   "id": "7d09dfac",
   "metadata": {
    "slideshow": {
     "slide_type": "slide"
    }
   },
   "source": [
    "**Goal**: take the list `district_data` and extract just the population counts, converting to `int`. We'll develop this one together!"
   ]
  },
  {
   "cell_type": "code",
   "execution_count": null,
   "id": "1fb8d230",
   "metadata": {
    "slideshow": {
     "slide_type": "slide"
    }
   },
   "outputs": [],
   "source": [
    "populations = []\n",
    "\n",
    "for line in district_data:\n",
    "    entries = line.split(\",\")\n",
    "    \n",
    "    population_entry = entries[1].strip()\n",
    "    \n",
    "    population_int = int(population_entry)\n",
    "    \n",
    "    populations.append(population_int)\n",
    "    \n",
    "populations\n"
   ]
  },
  {
   "cell_type": "markdown",
   "id": "046b04d0",
   "metadata": {
    "slideshow": {
     "slide_type": "slide"
    }
   },
   "source": [
    "### Now we can compute!\n",
    "\n"
   ]
  },
  {
   "cell_type": "code",
   "execution_count": null,
   "id": "71548e87",
   "metadata": {},
   "outputs": [],
   "source": [
    "num_populations = len(populations)\n",
    "total_population = sum(populations)\n",
    "max_population = max(populations)\n",
    "min_population = min(populations)\n",
    "avg_population = total_population / num_populations\n",
    "\n",
    "print(f\"Number of population entries: {num_populations}.\")\n",
    "print(f\"Sum of populations: {total_population}.\")\n",
    "print(f\"Maximum district population: {max_population}.\")\n",
    "print(f\"Minimum district population: {min_population}.\")\n",
    "print(f\"Average district population: {avg_population}.\")"
   ]
  },
  {
   "cell_type": "markdown",
   "id": "73b7340d",
   "metadata": {
    "slideshow": {
     "slide_type": "slide"
    }
   },
   "source": [
    "## Bridge to `pandas`"
   ]
  },
  {
   "cell_type": "markdown",
   "id": "4a8149b2",
   "metadata": {},
   "source": [
    "Reading the same data in pandas using`pd.read_csv` function:\n",
    "\n",
    "```python\n",
    "district_df = pd.read_csv(\"ED-Canada_2016.csv\", header=None)\n",
    "district_df\n",
    "```"
   ]
  },
  {
   "cell_type": "markdown",
   "id": "81d08c70",
   "metadata": {},
   "source": [
    "So which way is better?\n",
    "\n",
    "Sometimes you will work with a perfect tabular data and it is easier to ingest it straight to pandas.\n",
    "\n",
    "But data is ~~always~~ often messy!\n",
    "Reading it into python can help you to automate cleaning up or transforming it.\n",
    "Strange text files or json and many other types often require changing them before you can make a perfect `DataFrame`"
   ]
  },
  {
   "cell_type": "markdown",
   "id": "bc03c7e2",
   "metadata": {},
   "source": [
    "## Jupyter Notebook Tips"
   ]
  },
  {
   "cell_type": "markdown",
   "id": "e52b4358",
   "metadata": {},
   "source": [
    "If Python seems to be behaving strangely or you've run a bunch of cells and lost track of what you're doing, don't panic!\n",
    "\n",
    "**Reset** Python your notebook by doing the following:\n",
    "\n",
    "1. Go to *Kernel -> Restart & Clear Output*.\n",
    "2. Python will restart, and all cell outputs will be removed, leaving only your code.\n",
    "3. Then, select the cell you're currently working on, and go to *Cell -> Run All Above*.\n",
    "   \n",
    "   Or, if you want to re-run all cells, select *Cell -> Run All* instead.\n"
   ]
  },
  {
   "cell_type": "markdown",
   "id": "58e3fbaf",
   "metadata": {},
   "source": [
    "### Common pitfall: changing variables and running cells out of order\n",
    "\n",
    "Demo!"
   ]
  },
  {
   "cell_type": "code",
   "execution_count": null,
   "id": "fff815c9",
   "metadata": {},
   "outputs": [],
   "source": [
    "my_number = 10"
   ]
  },
  {
   "cell_type": "code",
   "execution_count": null,
   "id": "55f19dbf",
   "metadata": {},
   "outputs": [],
   "source": [
    "my_number"
   ]
  },
  {
   "cell_type": "code",
   "execution_count": null,
   "id": "368e323a",
   "metadata": {},
   "outputs": [],
   "source": [
    "my_number = 20"
   ]
  },
  {
   "cell_type": "code",
   "execution_count": null,
   "id": "f5680cd9",
   "metadata": {},
   "outputs": [],
   "source": [
    "my_number = my_number + 100\n",
    "\n",
    "my_number"
   ]
  },
  {
   "cell_type": "markdown",
   "id": "235ad861",
   "metadata": {},
   "source": [
    "**Avoiding this pitfall**:\n",
    "    \n",
    "1. Prefer making cells \"self-contained\": define and use variables in the same cell.\n",
    "2. If you're using a variable, make sure it's been defined in an *earlier* cell.\n",
    "3. After defining a variable, avoid *changing* the variable's value in a different cell. Treat the variable as \"read-only\" after the cell it's been defined in."
   ]
  }
 ],
 "metadata": {
  "celltoolbar": "Slideshow",
  "kernelspec": {
   "display_name": "Python 3 (ipykernel)",
   "language": "python",
   "name": "python3"
  },
  "language_info": {
   "codemirror_mode": {
    "name": "ipython",
    "version": 3
   },
   "file_extension": ".py",
   "mimetype": "text/x-python",
   "name": "python",
   "nbconvert_exporter": "python",
   "pygments_lexer": "ipython3",
   "version": "3.8.10"
  },
  "vscode": {
   "interpreter": {
    "hash": "8b8edaa195e148f815789564e9a10f57d8b792ac9e1a5daafce5fbae42bebd0e"
   }
  }
 },
 "nbformat": 4,
 "nbformat_minor": 5
}
