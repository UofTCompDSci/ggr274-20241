{
 "cells": [
  {
   "cell_type": "markdown",
   "metadata": {},
   "source": [
    "# GGR274 Homework 3\n",
    "\n",
    "## Logistics\n",
    "\n",
    "**Due date**: The homework is due 23:59 on Monday, January 30.\n",
    "\n",
    "You will submit your work on [MarkUs](https://markus-ds.teach.cs.toronto.edu).\n",
    "To submit your work:\n",
    "\n",
    "1. Download this file (`Homework_3.ipynb`) from JupyterHub. (See [our JupyterHub Guide](../../../guides/jupyterhub_guide.ipynb) for detailed instructions.)\n",
    "2. Submit this file to MarkUs under the **hw3** assignment. (See [our MarkUs Guide](../../../guides/markus_guide.ipynb) for detailed instructions.)\n",
    "All homeworks will take place in a Jupyter notebook (like this one). When you are done, you will download this notebook and submit it to MarkUs.\n"
   ]
  },
  {
   "cell_type": "markdown",
   "metadata": {},
   "source": [
    "## Task 1: Reading in a data set\n",
    "\n",
    "In this lab, you'll work with **movie reviews from IMDB**, part of a larger data set which was curated in 2011 by AI researchers at Stanford University ([source](https://ai.stanford.edu/~amaas/data/sentiment/)).\n",
    "\n",
    "Since we covered in lecture how to read data from files, you'll start by doing that here.\n",
    "In the code cell below, write code to open the movie review dataset file, called **reviews.txt**, and then use the `readlines` file method to read the lines of the file. Store the list of lines in a variable called `reviews`.\n",
    "\n",
    "*Note*: remember to pass the `encoding=\"utf-8\"` argument to `open()` to ensure that all characters are read without error."
   ]
  },
  {
   "cell_type": "code",
   "execution_count": null,
   "metadata": {},
   "outputs": [],
   "source": [
    "# Write your code here\n",
    "\n",
    "\n",
    "# The following code is provided to help you check your work\n",
    "print(f\"The first movie review:\\n\\n{reviews[0]}\")"
   ]
  },
  {
   "cell_type": "markdown",
   "metadata": {},
   "source": [
    "## Task 2: Basic statistics\n",
    "\n",
    "As you can probably guess, this is likely a fairly large dataset!\n",
    "Let's use Python to help make sense of it."
   ]
  },
  {
   "cell_type": "markdown",
   "metadata": {},
   "source": [
    "### 2a. Number of reviews\n",
    "\n",
    "The dataset stores each review on a single line.\n",
    "Using this fact and how you read in the data above (with `readlines`), compute the *number of reviews* in the dataset and store the result in a variable called `num_reviews`."
   ]
  },
  {
   "cell_type": "code",
   "execution_count": null,
   "metadata": {},
   "outputs": [],
   "source": [
    "# Write your code here\n",
    "\n",
    "\n",
    "# The following code is provided to help you check your work\n",
    "print(f\"There are {num_reviews} reviews in the dataset.\")"
   ]
  },
  {
   "cell_type": "markdown",
   "metadata": {},
   "source": [
    "### 2b. Total and average review length (counting characters)\n",
    "\n",
    "Now let's start computing on the individual reviews.\n",
    "\n",
    "First, use the approach from lecture to create a new list called `review_lengths` that contains the length, in terms of number of characters, of each review in the data set. (*Hint*: start with `review_lengths = []` and then use a for loop.)\n",
    "\n",
    "Then using `review_lengths`, define the following variables with the described values:\n",
    "\n",
    "- `total_length`: the total number of characters across all of the reviews\n",
    "- `max_length`: the length of the longest review\n",
    "- `min_length` the length of the *shortest* review\n",
    "- `average_length`: the average number of characters per review\n",
    "\n",
    "*Hint*: use the functions `len`/`sum`/`max`/`min` to compute these values."
   ]
  },
  {
   "cell_type": "code",
   "execution_count": null,
   "metadata": {},
   "outputs": [],
   "source": [
    "# Write your code here\n",
    "\n",
    "\n",
    "\n",
    "# The following code is provided to help you check your work\n",
    "print(f\"The length of the first review is {review_lengths[0]}.\")\n",
    "print(f\"The total review length is {total_length}.\")\n",
    "print(f\"The maximum review length is {max_length}.\")\n",
    "print(f\"The minimum review length is {min_length}.\")\n",
    "print(f\"The average review length is {average_length}.\")"
   ]
  },
  {
   "cell_type": "markdown",
   "metadata": {},
   "source": [
    "### 2c. Total and average review lengths (words)\n",
    "\n",
    "Now you'll repeat part 2b, except counting words instead of characters.\n",
    "\n",
    "Specifically, define a new list variable called `review_word_lengths` that contains the length, in terms of number of words, of each review in the data set.\n",
    "Use the `str.split` method to split the reviews by spaces; don't worry about punctuation marks appearing in the words, that's expected.\n",
    "\n",
    "Then using `review_word_lengths`, define the following variables with the described values:\n",
    "\n",
    "- `total_word_length`: the total number of words across all of the reviews\n",
    "- `max_word_length`: the length of the longest review (in words)\n",
    "- `min_word_length` the length of the *shortest* review (in words)\n",
    "- `average_word_length`: the average number of words per review"
   ]
  },
  {
   "cell_type": "code",
   "execution_count": null,
   "metadata": {},
   "outputs": [],
   "source": [
    "# Write your code here\n",
    "\n",
    "\n",
    "# The following code is provided to help you check your work\n",
    "print(f\"The length (in words) of the first review is {review_word_lengths[0]}.\")\n",
    "print(f\"The total review length (in words) is {total_word_length}.\")\n",
    "print(f\"The maximum review length (in words) is {max_word_length}.\")\n",
    "print(f\"The minimum review length (in words) is {min_word_length}.\")\n",
    "print(f\"The average review length (in words) is {average_word_length}.\")\n"
   ]
  },
  {
   "cell_type": "markdown",
   "metadata": {},
   "source": [
    "## Task 3: Identifying positive and negative reviews\n",
    "\n",
    "The original movie review dataset was originally curated for performing *sentiment analysis*, which is \"natural language processing, text analysis, computational linguistics, and biometrics to systematically identify, extract, quantify, and study affective states and subjective information.\" ([Wikipedia](https://en.wikipedia.org/wiki/Sentiment_analysis))\n",
    "\n",
    "In this task, you'll perform a *very rudimentary* sentiment analysis on the movie reviews in our dataset. After writing the code and looking at the results, we'll also ask you to reflect on the limitations of our current process and how we might improve it."
   ]
  },
  {
   "cell_type": "markdown",
   "metadata": {},
   "source": [
    "### 3a. Categorizing reviews\n",
    "\n",
    "Create three new empty lists: `positive_reviews`, `negative_reviews`, and `ambiguous_reviews`.\n",
    "Then loop through the `reviews` and for each review:\n",
    "\n",
    "- If the review contains the string `\"best\"` but not the string `\"worst\"`, append it to `positive_reviews`.\n",
    "- If the review contains the string `\"worst\"` but not the string `\"best\"`, append it to `negative_reviews`.\n",
    "- If the review contains *both* the strings `\"best\"` and `\"worst\"`, append it to `ambiguous_reviews`.\n",
    "- If the review doesn't contain either of the strings, don't append it to any list.\n",
    "\n",
    "Use `____ in ____ ` and `____ not in ____` to check whether one string is contained inside another string (or not). These comparisons are case-sensitive, so for example a review containing `\"BEST\"` but not `\"best\"` won't be categorized as positive.\n",
    "\n",
    "It is possible to complete this task using one for loop or multiple for loops (do whatever makes the most sense to you)."
   ]
  },
  {
   "cell_type": "code",
   "execution_count": null,
   "metadata": {},
   "outputs": [],
   "source": [
    "# Write your code here\n",
    "\n",
    "\n",
    "# The following code is provided to help you check your work\n",
    "print(f\"Here is the first positive review:\\n\\n{positive_reviews[0]}\\n\")\n",
    "print(f\"Here is the first negative review:\\n\\n{negative_reviews[0]}\\n\")\n",
    "print(f\"Here is the first ambiguous review:\\n\\n{ambiguous_reviews[0]}\\n\")"
   ]
  },
  {
   "cell_type": "markdown",
   "metadata": {},
   "source": [
    "### 3b. Analysis\n",
    "\n",
    "Read through some of the reviews in each category list (you can modify the `print` calls we provided to display more of them). Decide whether you agree with the categorization of these reviews.\n",
    "\n",
    "Then, create a new Markdown cell below this one, and write one or two paragraphs responding to the following prompt:\n",
    "\n",
    "> Describe **two different limitations** of our very basic review categorization. What problems are caused by these limitations, and for what kinds of reviews might these problems occur? Using just what you've learned in the course so far, are there ways we could address these limitations, at least partially?"
   ]
  }
 ],
 "metadata": {
  "kernelspec": {
   "display_name": "Python 3",
   "language": "python",
   "name": "python3"
  },
  "language_info": {
   "codemirror_mode": {
    "name": "ipython",
    "version": 3
   },
   "file_extension": ".py",
   "mimetype": "text/x-python",
   "name": "python",
   "nbconvert_exporter": "python",
   "pygments_lexer": "ipython3",
   "version": "3.7.4"
  },
  "vscode": {
   "interpreter": {
    "hash": "8b8edaa195e148f815789564e9a10f57d8b792ac9e1a5daafce5fbae42bebd0e"
   }
  }
 },
 "nbformat": 4,
 "nbformat_minor": 2
}
