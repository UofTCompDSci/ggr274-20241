{
 "cells": [
  {
   "cell_type": "markdown",
   "id": "7ba6d41c",
   "metadata": {},
   "source": [
    "# GGR274 Lab 3: Introduction to Programming, Part 2\n",
    "\n",
    "## Logistics\n",
    "\n",
    "Like last week, our lab grade will be based on attendance and submission of a few small tasks to MarkUs during the lab session (or by 23:59 on Thursday).\n",
    "\n",
    "Complete the tasks in this Jupyter notebook and submit your completed file to [MarkUs](https://markus-ds.teach.cs.toronto.edu).\n",
    "Here are the instructions for submitting to MarkUs (same as last week):\n",
    "\n",
    "1. Download this file (`Lab_3.ipynb`) from JupyterHub. (See [our JupyterHub Guide](../../../guides/jupyterhub_guide.ipynb) for detailed instructions.)\n",
    "2. Submit this file to MarkUs under the **lab3** assignment. (See [our MarkUs Guide](../../../guides/markus_guide.ipynb) for detailed instructions.)\n",
    "\n",
    "Note: there's no autograding set up for this week's lab, but your TA will be checking that your submitted lab file is complete as part of your \"lab attendance\" grade."
   ]
  },
  {
   "cell_type": "markdown",
   "id": "74b324e9",
   "metadata": {},
   "source": [
    "## Running example: Canadian Elections\n",
    "\n",
    "Today we'll work with a small dataset of Canada's 338 electoral districts, sourced from [Elections Canada](https://www.elections.ca/content.aspx?section=res&dir=cir/list&document=index338&lang=e#list) and containing the names and populations of Canada's 338 electoral ridings.\n",
    "\n",
    "We've placed a copy of this dataset in the same folder as this lab notebook (you can see this in JupyterHub by going to **File -> Open**)."
   ]
  },
  {
   "cell_type": "markdown",
   "id": "77fb5dfb",
   "metadata": {},
   "source": [
    "### Reading file data: `open` and `readlines`\n",
    "\n",
    "Now that we've seen the file, let's learn how to read the file's contents into Python.\n",
    "\n",
    "Formally, we do this in two steps:\n",
    "\n",
    "1. **Open** the file.\n",
    "2. **Read** the file data into Python, line by line."
   ]
  },
  {
   "cell_type": "code",
   "execution_count": null,
   "id": "e2783b88",
   "metadata": {},
   "outputs": [],
   "source": [
    "# Step 1\n",
    "district_file = open(\"ED-Canada_2016.csv\", encoding=\"utf-8\")\n",
    "\n",
    "district_file"
   ]
  },
  {
   "cell_type": "code",
   "execution_count": null,
   "id": "2a192808",
   "metadata": {},
   "outputs": [],
   "source": [
    "district_data = district_file.readlines()\n",
    "\n",
    "district_data"
   ]
  },
  {
   "cell_type": "markdown",
   "id": "49f8632a",
   "metadata": {},
   "source": [
    "### Data processing\n",
    "\n",
    "Let's look at just the first line from the file:"
   ]
  },
  {
   "cell_type": "code",
   "execution_count": null,
   "id": "b9c077b5",
   "metadata": {},
   "outputs": [],
   "source": [
    "district_data[0]"
   ]
  },
  {
   "cell_type": "markdown",
   "id": "58c94f5d",
   "metadata": {},
   "source": [
    "There's two annoying parts about this line:\n",
    "\n",
    "1. It's a single string, but really stores two pieces of data.\n",
    "2. There's a strange `\\n` at the end of the string, representing a *line break*."
   ]
  },
  {
   "cell_type": "markdown",
   "id": "85cbe38b",
   "metadata": {},
   "source": [
    "**Goal**: take the list `district_data` and extract just the population counts, converting to `int`. We'll develop this one together!"
   ]
  },
  {
   "cell_type": "code",
   "execution_count": null,
   "id": "d381a3a1",
   "metadata": {},
   "outputs": [],
   "source": [
    "populations = []\n",
    "\n",
    "for line in district_data:\n",
    "    entries = line.split(\",\")\n",
    "    \n",
    "    population_entry = entries[1].strip()\n",
    "    \n",
    "    population_int = int(population_entry)\n",
    "    \n",
    "    populations.append(population_int)\n",
    "    \n",
    "populations\n"
   ]
  },
  {
   "cell_type": "markdown",
   "id": "fe3c1199",
   "metadata": {},
   "source": [
    "### Now we can compute!\n",
    "\n"
   ]
  },
  {
   "cell_type": "code",
   "execution_count": null,
   "id": "4fa51493",
   "metadata": {},
   "outputs": [],
   "source": [
    "num_populations = len(populations)\n",
    "total_population = sum(populations)\n",
    "max_population = max(populations)\n",
    "min_population = min(populations)"
   ]
  },
  {
   "cell_type": "markdown",
   "id": "b95b41d8",
   "metadata": {},
   "source": [
    "## Task 1: Calculations\n",
    "\n",
    "Compute **average** population.\n",
    "Print total, max, min population, including relevant variable in `f-string`. An example f-string for number of entries `f\"Number of population entries: {num_populations}.\"`\n",
    "\n"
   ]
  },
  {
   "cell_type": "code",
   "execution_count": null,
   "id": "8819612c",
   "metadata": {},
   "outputs": [],
   "source": [
    "avg_population = total_population / num_populations\n",
    "\n",
    "print(f\"Number of population entries: {num_populations}.\")\n",
    "print(f\"Sum of populations: {total_population}.\")\n",
    "print(f\"Maximum district population: {max_population}.\")\n",
    "print(f\"Minimum district population: {min_population}.\")\n",
    "print(f\"Average district population: {avg_population}.\")"
   ]
  },
  {
   "cell_type": "markdown",
   "id": "27a58282",
   "metadata": {},
   "source": [
    "## Task 2: Extracting district names\n",
    "\n",
    "Next, create a empty list called `district_names`. Then, use a loop and the `str.split(\",\")` method to calculate just the name of each district, and add each name to `district_names`.\n",
    "\n",
    "(This again follows what we did lecture quite closely, so you might want to take a few minutes to review that.)"
   ]
  },
  {
   "cell_type": "code",
   "execution_count": null,
   "id": "0e89d314",
   "metadata": {},
   "outputs": [],
   "source": [
    "# Write your code here\n",
    "district_names = []\n",
    "\n",
    "for line in district_data:\n",
    "    entries = line.split(\",\")\n",
    "    name = entries[0]\n",
    "    district_names.append(name)\n",
    "\n",
    "district_names"
   ]
  },
  {
   "cell_type": "markdown",
   "id": "8fdc4e47",
   "metadata": {},
   "source": [
    "**Comprehension Question**: after you complete this task, try changing `str.split(\",\")` to `str.split()` and re-run the cell. What happens in this case, and why does this occur?"
   ]
  },
  {
   "cell_type": "markdown",
   "id": "dc319b28",
   "metadata": {},
   "source": [
    "## Task 3: Filtering names\n",
    "\n",
    "Compute a list of the names of electoral districts that contain the string `\"Toronto\"`.\n",
    "\n",
    "To do so, you should use a for loop that iterates over `district_names`, and whose body contains an if statement."
   ]
  },
  {
   "cell_type": "code",
   "execution_count": null,
   "id": "3672d78f",
   "metadata": {},
   "outputs": [],
   "source": [
    "## Write your code here\n",
    "toronto_names = []\n",
    "\n",
    "for name in district_names:\n",
    "    if \"Toronto\" in name:\n",
    "        toronto_names.append(name)\n",
    "\n",
    "toronto_names"
   ]
  },
  {
   "cell_type": "markdown",
   "id": "b3e54b82",
   "metadata": {},
   "source": [
    "Finally, compute a list of tne names of electoral districts that are at least 30 characters long."
   ]
  },
  {
   "cell_type": "code",
   "execution_count": null,
   "id": "dd16e33d",
   "metadata": {},
   "outputs": [],
   "source": [
    "## Write your code here\n",
    "long_names = []\n",
    "\n",
    "for name in district_names:\n",
    "    if len(name) >= 30:\n",
    "        long_names.append(name)\n",
    "\n",
    "long_names"
   ]
  }
 ],
 "metadata": {
  "kernelspec": {
   "display_name": "Python 3",
   "language": "python",
   "name": "python3"
  },
  "language_info": {
   "codemirror_mode": {
    "name": "ipython",
    "version": 3
   },
   "file_extension": ".py",
   "mimetype": "text/x-python",
   "name": "python",
   "nbconvert_exporter": "python",
   "pygments_lexer": "ipython3",
   "version": "3.7.4"
  },
  "vscode": {
   "interpreter": {
    "hash": "8b8edaa195e148f815789564e9a10f57d8b792ac9e1a5daafce5fbae42bebd0e"
   }
  }
 },
 "nbformat": 4,
 "nbformat_minor": 5
}
