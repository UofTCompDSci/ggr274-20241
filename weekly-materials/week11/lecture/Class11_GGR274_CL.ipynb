{
 "cells": [
  {
   "cell_type": "markdown",
   "id": "381485d6",
   "metadata": {
    "slideshow": {
     "slide_type": "slide"
    }
   },
   "source": [
    "Before the class...\n",
    "\n",
    "Some information about the final exam.\n",
    "\n",
    "- In-person exam\n",
    "\n",
    "- Computer-based exam\n",
    "\n",
    "- Open-book (access to all course materials in your JupyterHub), but no Internet\n",
    "\n",
    "- Students be divided into three rooms, which will be announced in the Quercus."
   ]
  },
  {
   "cell_type": "markdown",
   "id": "b64e1478",
   "metadata": {
    "slideshow": {
     "slide_type": "slide"
    }
   },
   "source": [
    "# Class 11\n",
    "\n",
    "## Mar. 26, 2024\n",
    "\n",
    "By the end of this class, you'll be able to:\n",
    "\n",
    "- Load in spatial data\n",
    "\n",
    "- Join geodataframes with attribute tables\n",
    "\n",
    "- Plot maps in multiple ways\n",
    "\n",
    "- Get some knowledge about clustering (will talk about it next week!)"
   ]
  },
  {
   "cell_type": "code",
   "execution_count": null,
   "id": "28e8f047",
   "metadata": {
    "scrolled": true,
    "slideshow": {
     "slide_type": "skip"
    }
   },
   "outputs": [],
   "source": [
    "# ## Let's install and then load libraries\n",
    "# %pip install geopandas\n",
    "# %pip install mapclassify\n",
    "# %pip install contextily\n",
    "# %pip install libpysal\n",
    "# %pip install esda\n",
    "# %pip install splot\n",
    "# %pip install xlrd\n",
    "# %pip install numba==0.53"
   ]
  },
  {
   "cell_type": "code",
   "execution_count": null,
   "id": "dfcff176",
   "metadata": {
    "slideshow": {
     "slide_type": "slide"
    }
   },
   "outputs": [],
   "source": [
    "# Let's start with importing the packages\n",
    "\n",
    "import numpy as np\n",
    "import pandas as pd\n",
    "import geopandas as gpd\n",
    "import matplotlib.pyplot as plt\n",
    "import mapclassify\n",
    "import esda\n",
    "import splot\n",
    "import libpysal as lps\n",
    "import contextily as cx\n",
    "import xlrd"
   ]
  },
  {
   "cell_type": "markdown",
   "id": "eebb114c",
   "metadata": {
    "slideshow": {
     "slide_type": "slide"
    }
   },
   "source": [
    "# A review of spatial data and mapping\n",
    "\n",
    "### Let's bring in the same files we worked with last week\n",
    "\n",
    "We'll be working with the Toronto Neighbourhoods spatial data and the health data today:\n",
    "- `Toronto_Neighbourhoods.geojson`\n",
    "\n",
    "- `1_ahd_neighb_db_ast_hbp_mhv_copd_2007.xls`"
   ]
  },
  {
   "cell_type": "markdown",
   "id": "d78ac282",
   "metadata": {
    "slideshow": {
     "slide_type": "fragment"
    }
   },
   "source": [
    "### 1. Using GeoPandas to load in spatial data"
   ]
  },
  {
   "cell_type": "code",
   "execution_count": null,
   "id": "b414b48e",
   "metadata": {},
   "outputs": [],
   "source": [
    "nbrhd = gpd.GeoDataFrame.from_file(\"Toronto_Neighbourhoods.geojson\")"
   ]
  },
  {
   "cell_type": "markdown",
   "id": "a2ae5ff3",
   "metadata": {
    "slideshow": {
     "slide_type": "slide"
    }
   },
   "source": [
    "The content of the spatial data"
   ]
  },
  {
   "cell_type": "code",
   "execution_count": null,
   "id": "f2916310",
   "metadata": {},
   "outputs": [],
   "source": [
    "nbrhd.head(2)"
   ]
  },
  {
   "cell_type": "markdown",
   "id": "1d44d968",
   "metadata": {
    "slideshow": {
     "slide_type": "slide"
    }
   },
   "source": [
    "What is geometry?"
   ]
  },
  {
   "cell_type": "code",
   "execution_count": null,
   "id": "df742b52",
   "metadata": {
    "scrolled": true
   },
   "outputs": [],
   "source": [
    "first_neighbor = nbrhd.loc[0,'geometry']\n",
    "print(first_neighbor)"
   ]
  },
  {
   "cell_type": "code",
   "execution_count": null,
   "id": "b9cb591a",
   "metadata": {
    "slideshow": {
     "slide_type": "fragment"
    }
   },
   "outputs": [],
   "source": [
    "first_neighbor"
   ]
  },
  {
   "cell_type": "markdown",
   "id": "617df81c",
   "metadata": {
    "slideshow": {
     "slide_type": "slide"
    }
   },
   "source": [
    "Another example of geometry"
   ]
  },
  {
   "cell_type": "code",
   "execution_count": null,
   "id": "9b646bce",
   "metadata": {
    "slideshow": {
     "slide_type": "-"
    }
   },
   "outputs": [],
   "source": [
    "rails =  gpd.GeoDataFrame.from_file(\"toronto_rails.geojson\")\n",
    "print(rails.loc[0,'geometry'])"
   ]
  },
  {
   "cell_type": "code",
   "execution_count": null,
   "id": "8f02f57f",
   "metadata": {
    "scrolled": true,
    "slideshow": {
     "slide_type": "fragment"
    }
   },
   "outputs": [],
   "source": [
    "first_rail_points = [(-79.5125670999999,43.814361500000075),\n",
    "                    (-79.51253669999994, 43.81447250000008),\n",
    "                    (-79.512524, 43.81452850000005),\n",
    "                    (-79.51251939999992,43.814607),\n",
    "                    (-79.51251739999992,43.814716900000064),\n",
    "                    (-79.51252729999993,43.814817),\n",
    "                    (-79.51254659999995,43.81492840000004),\n",
    "                    (-79.51261019999993,43.815184800000054),\n",
    "                    (-79.51270719999991,43.815575100000046), \n",
    "                    (-79.51291559999993,43.816454400000055), \n",
    "                    (-79.51339439999992,43.81834120000008), \n",
    "                    (-79.51371579999994,43.819633), \n",
    "                    (-79.513803,43.820002), \n",
    "                    (-79.51385459999995, 43.82019790000004), \n",
    "                    (-79.51389059999991, 43.820318), \n",
    "                    (-79.51392659999993, 43.82045130000006),]\n",
    "x, y = zip(* first_rail_points)\n",
    "x"
   ]
  },
  {
   "cell_type": "code",
   "execution_count": null,
   "id": "462127d1",
   "metadata": {
    "scrolled": false,
    "slideshow": {
     "slide_type": "slide"
    }
   },
   "outputs": [],
   "source": [
    "fig, axes = plt.subplots(1, 1, figsize = (6,6))\n",
    "\n",
    "plt.plot(x,y)\n",
    "plt.scatter(x, y, c='red');"
   ]
  },
  {
   "cell_type": "code",
   "execution_count": null,
   "id": "884c3587",
   "metadata": {
    "slideshow": {
     "slide_type": "fragment"
    }
   },
   "outputs": [],
   "source": [
    "rails.loc[0,'geometry']"
   ]
  },
  {
   "cell_type": "markdown",
   "id": "210379b8",
   "metadata": {
    "slideshow": {
     "slide_type": "slide"
    }
   },
   "source": [
    "Note: the difference between plotting on Cartesian coordinate system and plotting as a geo-object comes from the different coordination system used by the GeoDataFrame."
   ]
  },
  {
   "cell_type": "code",
   "execution_count": null,
   "id": "e19c1227",
   "metadata": {
    "slideshow": {
     "slide_type": "fragment"
    }
   },
   "outputs": [],
   "source": [
    "rails.crs"
   ]
  },
  {
   "cell_type": "markdown",
   "id": "da18a62c",
   "metadata": {
    "slideshow": {
     "slide_type": "slide"
    }
   },
   "source": [
    "Therefore, a `GeoDataframe` can be understood as a `GeoSeries` with several `DataFrame` `Series`.\n",
    "\n",
    "![figure](dataframe.svg)"
   ]
  },
  {
   "cell_type": "markdown",
   "id": "3dd79694",
   "metadata": {
    "slideshow": {
     "slide_type": "slide"
    }
   },
   "source": [
    "### 2. Simplify the geodataframe"
   ]
  },
  {
   "cell_type": "code",
   "execution_count": null,
   "id": "625e885a",
   "metadata": {},
   "outputs": [],
   "source": [
    "nbrhd.columns"
   ]
  },
  {
   "cell_type": "code",
   "execution_count": null,
   "id": "3f316cb7",
   "metadata": {},
   "outputs": [],
   "source": [
    "# important columns\n",
    "important_spat_cols = nbrhd.columns[[4, 5, 17]]\n",
    "important_spat_cols"
   ]
  },
  {
   "cell_type": "code",
   "execution_count": null,
   "id": "1b8fec1d",
   "metadata": {
    "slideshow": {
     "slide_type": "fragment"
    }
   },
   "outputs": [],
   "source": [
    "# rename dictionary\n",
    "colnames_spat = {important_spat_cols[0]: 'name',\n",
    "           important_spat_cols[1] : 'nbrhd_spat_id',\n",
    "           important_spat_cols[2] : 'geometry'}\n",
    "colnames_spat"
   ]
  },
  {
   "cell_type": "code",
   "execution_count": null,
   "id": "4780e43a",
   "metadata": {
    "slideshow": {
     "slide_type": "fragment"
    }
   },
   "outputs": [],
   "source": [
    "# Selec the important columns\n",
    "nbrhd_simple = nbrhd.copy()\n",
    "nbrhd_simple = nbrhd_simple[important_spat_cols]\n",
    "nbrhd_simple.rename(columns = colnames_spat, inplace=True)\n",
    "nbrhd_simple.head()"
   ]
  },
  {
   "cell_type": "markdown",
   "id": "2ed41280",
   "metadata": {
    "slideshow": {
     "slide_type": "slide"
    }
   },
   "source": [
    "Convert our spatial ID from a string to a number:\n",
    "\n",
    "- rembmer the type of spatial ID in the health dataset is `int` but here in spatial dataset it is `string`."
   ]
  },
  {
   "cell_type": "code",
   "execution_count": null,
   "id": "28b0d7c3",
   "metadata": {},
   "outputs": [],
   "source": [
    "#create a new variable in the nbrhd_simple geodataframe and store the new number\n",
    "#version of the neighbourhood id here\n",
    "nbrhd_simple[\"Neighbid\"] = nbrhd_simple[\"nbrhd_spat_id\"].astype(int)\n",
    "\n",
    "nbrhd_simple.head()"
   ]
  },
  {
   "cell_type": "code",
   "execution_count": null,
   "id": "cd529f1c",
   "metadata": {},
   "outputs": [],
   "source": [
    "print(type(nbrhd_simple.loc[0,'nbrhd_spat_id']))\n",
    "print(type(nbrhd_simple.loc[0,'Neighbid']))"
   ]
  },
  {
   "cell_type": "markdown",
   "id": "89598082",
   "metadata": {
    "slideshow": {
     "slide_type": "slide"
    }
   },
   "source": [
    "### 3. Import health information and simplify it"
   ]
  },
  {
   "cell_type": "code",
   "execution_count": null,
   "id": "06672f48",
   "metadata": {},
   "outputs": [],
   "source": [
    "fname = '1_ahd_neighb_db_ast_hbp_mhv_copd_2007.xls' #file name\n",
    "sname = '1_ahd_neighb_asthma_2007' #sheet name in excel file\n",
    "\n",
    "#store excel sheet with asthma data in a dataframe variable\n",
    "asthma_neighb = pd.read_excel(fname, sheet_name = sname, header = 11)"
   ]
  },
  {
   "cell_type": "code",
   "execution_count": null,
   "id": "877da419",
   "metadata": {
    "slideshow": {
     "slide_type": "fragment"
    }
   },
   "outputs": [],
   "source": [
    "asthma_neighb.head(2)"
   ]
  },
  {
   "cell_type": "code",
   "execution_count": null,
   "id": "f6d12e61",
   "metadata": {
    "slideshow": {
     "slide_type": "slide"
    }
   },
   "outputs": [],
   "source": [
    "asthma_neighb.columns"
   ]
  },
  {
   "cell_type": "code",
   "execution_count": null,
   "id": "492f7053",
   "metadata": {
    "slideshow": {
     "slide_type": "fragment"
    }
   },
   "outputs": [],
   "source": [
    "# important columns\n",
    "## Note: Instead of copying the column names, we can use the number to avoid any miscopies.\n",
    "important_cols = asthma_neighb.columns[[0, 1, 10, 11]] \n",
    "\n",
    "# rename dictionary\n",
    "colnames = {important_cols[0] : 'Neighbid', \n",
    "            important_cols[1] : 'name', \n",
    "            important_cols[2] : 'adult_pop',\n",
    "            important_cols[3] : 'asthma_pct'}\n"
   ]
  },
  {
   "cell_type": "code",
   "execution_count": null,
   "id": "7519ef91",
   "metadata": {
    "slideshow": {
     "slide_type": "slide"
    }
   },
   "outputs": [],
   "source": [
    "# Select important columns\n",
    "asthma_rates = asthma_neighb.copy()\n",
    "\n",
    "asthma_rates = asthma_rates[important_cols]\n",
    "\n",
    "asthma_rates.rename(columns = colnames, inplace=True)\n",
    "\n",
    "asthma_rates.head()"
   ]
  },
  {
   "cell_type": "markdown",
   "id": "18642c7f",
   "metadata": {
    "slideshow": {
     "slide_type": "slide"
    }
   },
   "source": [
    "### 4. Join our neighbourhood gdf with our asthma rate df:"
   ]
  },
  {
   "cell_type": "markdown",
   "id": "fa2a3cd7",
   "metadata": {},
   "source": [
    "Take a look at both data"
   ]
  },
  {
   "cell_type": "code",
   "execution_count": null,
   "id": "b0df87c8",
   "metadata": {},
   "outputs": [],
   "source": [
    "asthma_rates.head()"
   ]
  },
  {
   "cell_type": "markdown",
   "id": "4e27df2f",
   "metadata": {
    "slideshow": {
     "slide_type": "fragment"
    }
   },
   "source": [
    "For the spatial data, we sort it by neighborhood id to check the consistency"
   ]
  },
  {
   "cell_type": "code",
   "execution_count": null,
   "id": "e6a20d9d",
   "metadata": {},
   "outputs": [],
   "source": [
    "nbrhd_simple.sort_values('Neighbid').head()"
   ]
  },
  {
   "cell_type": "code",
   "execution_count": null,
   "id": "4573ac13",
   "metadata": {
    "slideshow": {
     "slide_type": "slide"
    }
   },
   "outputs": [],
   "source": [
    "nbrhd_simple = nbrhd_simple.merge(asthma_rates, on=\"Neighbid\")\n",
    "nbrhd_simple.head()"
   ]
  },
  {
   "cell_type": "markdown",
   "id": "ad9814af",
   "metadata": {
    "slideshow": {
     "slide_type": "slide"
    }
   },
   "source": [
    "### 5. Map the attribute data (asthma)"
   ]
  },
  {
   "cell_type": "markdown",
   "id": "980794e9",
   "metadata": {
    "slideshow": {
     "slide_type": "-"
    }
   },
   "source": [
    "We need to first set the \"stage\" of the figure.\n",
    "\n",
    "Then we plot:\n",
    "\n",
    "- the asthma rate (`column` = \"asthma_pct\"),\n",
    "\n",
    "- in 5 quantiles (`scheme` = \"quantiles\", `k`=5),\n",
    "\n",
    "- in the stage (`ax` = axes),\n",
    "\n",
    "- with legend (`legend` = True).\n",
    "\n"
   ]
  },
  {
   "cell_type": "code",
   "execution_count": null,
   "id": "8c59c773",
   "metadata": {
    "slideshow": {
     "slide_type": "slide"
    }
   },
   "outputs": [],
   "source": [
    "# First, let's create a figure variable \"fig\" and an axes variables called \"ax\".\n",
    "# This code sets the stage - it says how many images - by rows/columns\n",
    "# We can also set other figure attributes in here, like figure size using figsize\n",
    "\n",
    "fig, axes = plt.subplots(1, 1, figsize = (12,12))\n",
    "\n",
    "# Then plot the data with certain arguements:\n",
    "# These two codes need to write in the same code, i.e., run simultaneously\n",
    "nbrhd_simple.plot(column='asthma_pct', scheme='quantiles', \n",
    "                  k=5, cmap='YlGn', edgecolor='grey', \n",
    "                  ax = axes, legend=True, \n",
    "                  legend_kwds={'loc': 4, 'title': 'Percent Asthmatic', \n",
    "                               'title_fontsize': 16,'fontsize': 12})"
   ]
  },
  {
   "cell_type": "markdown",
   "id": "720ffa9b",
   "metadata": {
    "slideshow": {
     "slide_type": "slide"
    }
   },
   "source": [
    "Make a figure with two maps side by side..."
   ]
  },
  {
   "cell_type": "code",
   "execution_count": null,
   "id": "54a8e79a",
   "metadata": {},
   "outputs": [],
   "source": [
    "fig, axes = plt.subplots(1, 2, figsize = (12,12))\n",
    "\n",
    "# pick the first cell in the figure\n",
    "nbrhd_simple.plot(column = \"name_x\",\n",
    "           ax=axes[0], cmap = \"tab20\")\n",
    "\n",
    "# pick the second cell in the figure\n",
    "nbrhd_simple.plot(column = \"asthma_pct\",\n",
    "           ax=axes[1], cmap = \"YlGn\")\n",
    "\n"
   ]
  },
  {
   "cell_type": "markdown",
   "id": "ad8d684f",
   "metadata": {
    "slideshow": {
     "slide_type": "slide"
    }
   },
   "source": [
    "### POP QUIZ!! \n",
    "\n",
    "1. How would we make a figure with 3 maps in 1 row? \n",
    "2. How would we make a figure with 3 maps in 1 **column**?\n",
    "3. How would we make a figure with 6 maps in 3 rows and 2 columns? "
   ]
  },
  {
   "cell_type": "code",
   "execution_count": null,
   "id": "4b4f86c6",
   "metadata": {
    "slideshow": {
     "slide_type": "slide"
    }
   },
   "outputs": [],
   "source": [
    "# 3 maps in 1 row\n",
    "\n",
    "fig, axes = plt.subplots(, , figsize = (12,12))\n",
    "\n",
    "nbrhd_simple.plot(ax=)\n",
    "nbrhd_simple.plot(ax=)\n",
    "nbrhd_simple.plot(ax=)"
   ]
  },
  {
   "cell_type": "code",
   "execution_count": null,
   "id": "fc55e248",
   "metadata": {
    "slideshow": {
     "slide_type": "slide"
    }
   },
   "outputs": [],
   "source": [
    "# 3 maps in 1 column\n",
    "\n",
    "fig, axes = plt.subplots(, , figsize = (12,12))\n",
    "\n",
    "nbrhd_simple.plot(ax=)\n",
    "nbrhd_simple.plot(ax=)\n",
    "nbrhd_simple.plot(ax=)"
   ]
  },
  {
   "cell_type": "code",
   "execution_count": null,
   "id": "90412a0c",
   "metadata": {
    "slideshow": {
     "slide_type": "slide"
    }
   },
   "outputs": [],
   "source": [
    "# 6 maps in 3 rows and 2 columns\n",
    "\n",
    "fig, axes = plt.subplots(, , figsize = (12,12))\n",
    "\n",
    "nbrhd_simple.plot(ax=)\n",
    "nbrhd_simple.plot(ax=)\n",
    "nbrhd_simple.plot(ax=)\n",
    "nbrhd_simple.plot(ax=)\n",
    "nbrhd_simple.plot(ax=)\n",
    "nbrhd_simple.plot(ax=)"
   ]
  },
  {
   "cell_type": "markdown",
   "id": "d2b0d2e0",
   "metadata": {
    "slideshow": {
     "slide_type": "slide"
    }
   },
   "source": [
    "# More on Cartography\n",
    "## To this point we have used quantiles to classify values in maps. \n",
    "### What other common options do we have?  See the document of [GeoDataFrame.plot](https://geopandas.org/en/stable/docs/reference/api/geopandas.GeoDataFrame.plot.html) and [mapclassify](https://github.com/pysal/mapclassify/tree/main)\n",
    "\n",
    "1. Equal Intervals\n",
    "- This classification method \"divides the data into equal size classes (e.g., 0-10, 10-20, 20-30, etc.) and works best on data that is generally spread across the entire range. **CAUTION**: Avoid equal interval if your data are skewed to one end or if you have one or two really large outlier values.\"\n",
    "\n",
    "2. Natural Breaks\n",
    "- This classification method \"is a kind of “optimal” classification scheme that finds class breaks that will minimize within-class variance and maximize between-class differences.\" **However**, these breaks will be unique to each dataset and makes it difficult to compare across different maps. \n"
   ]
  },
  {
   "cell_type": "markdown",
   "id": "da9c5a54",
   "metadata": {
    "slideshow": {
     "slide_type": "slide"
    }
   },
   "source": [
    "Before plot the variable, we usually want to see its distribution to see if certain classification can fit."
   ]
  },
  {
   "cell_type": "code",
   "execution_count": null,
   "id": "b8ff85fc",
   "metadata": {},
   "outputs": [],
   "source": [
    "nbrhd_simple.asthma_pct.hist(bins=8)"
   ]
  },
  {
   "cell_type": "markdown",
   "id": "75e2a084",
   "metadata": {},
   "source": [
    "Close to normal distribution, which means that the equal intervals should be fine."
   ]
  },
  {
   "cell_type": "markdown",
   "id": "4cc12f9f",
   "metadata": {
    "slideshow": {
     "slide_type": "slide"
    }
   },
   "source": [
    "Let's use the `scheme` parameter to the plot our asthma percentages using quartiles, equal intervals, and natural breaks. "
   ]
  },
  {
   "cell_type": "code",
   "execution_count": null,
   "id": "2e82da92",
   "metadata": {
    "slideshow": {
     "slide_type": "-"
    }
   },
   "outputs": [],
   "source": [
    "fig, axes = plt.subplots(1,3, figsize =  (20,10))\n",
    "\n",
    "nbrhd_simple.plot(column='asthma_pct', scheme='Quantiles', \n",
    "                  k=4, cmap='YlOrRd', edgecolor='black', \n",
    "                  ax = axes[0], legend=True,                  \n",
    "                  legend_kwds={'loc': 4, 'title': 'Percent Asthmatic', \n",
    "                               'title_fontsize': 8,'fontsize': 8})\n",
    "\n",
    "nbrhd_simple.plot(column='asthma_pct', scheme='EqualInterval', \n",
    "                  k=4, cmap='YlOrRd', edgecolor='black', \n",
    "                  ax = axes[1], legend=True,                  \n",
    "                  legend_kwds={'loc': 4, 'title': 'Percent Asthmatic', \n",
    "                               'title_fontsize': 8,'fontsize': 8})\n",
    "\n",
    "nbrhd_simple.plot(column='asthma_pct', scheme='NaturalBreaks', \n",
    "                  k=4, cmap='YlOrRd', edgecolor='black', \n",
    "                  ax = axes[2], legend=True,                  \n",
    "                  legend_kwds={'loc': 4, 'title': 'Percent Asthmatic', \n",
    "                               'title_fontsize': 8,'fontsize': 8})\n",
    "\n",
    "axes[0].set_title(\"Quartiles\", fontsize = 20)\n",
    "axes[1].set_title(\"Equal Intervals\", fontsize = 20)\n",
    "axes[2].set_title(\"Natural Breaks\", fontsize = 20)\n",
    "\n",
    "# current_fig = plt.gcf() #get current figure aka gcf\n",
    "# current_fig.savefig('asthma_three_class.png',dpi=100) #export maps as an image file!"
   ]
  },
  {
   "cell_type": "markdown",
   "id": "80c16671",
   "metadata": {
    "slideshow": {
     "slide_type": "slide"
    }
   },
   "source": [
    "Another way to show the figure: save it and import it to show in the presentation!\n",
    "![figure](asthma_three_class.png)"
   ]
  },
  {
   "cell_type": "markdown",
   "id": "b3822b20",
   "metadata": {
    "slideshow": {
     "slide_type": "slide"
    }
   },
   "source": [
    "## Adding a background\n",
    "\n",
    "What if we want to add a background to our maps? It's pretty easy!\n",
    "\n",
    "We will use the [`contextily` library](https://contextily.readthedocs.io/en/latest/) to do this. \n",
    "\n",
    "But first we need to double check that our coordinate reference system is properly set. To layer our maps on top of a web background map, we need to make sure the projection is set to something known as \"Web Mercator\": https://epsg.io/3857 \n",
    "\n",
    "That is, make our spatial data have the *same* coordinate reference system as the web map.\n"
   ]
  },
  {
   "cell_type": "code",
   "execution_count": null,
   "id": "53f35fa4",
   "metadata": {},
   "outputs": [],
   "source": [
    "#check current crs: WGS 84 (EPSG:4326)\n",
    "nbrhd_simple.crs"
   ]
  },
  {
   "cell_type": "markdown",
   "id": "4365ec92",
   "metadata": {
    "slideshow": {
     "slide_type": "slide"
    }
   },
   "source": [
    "#### Let's reproject the map into Web Mercator and compare to the original projection:"
   ]
  },
  {
   "cell_type": "code",
   "execution_count": null,
   "id": "64b6f67a",
   "metadata": {
    "slideshow": {
     "slide_type": "fragment"
    }
   },
   "outputs": [],
   "source": [
    "nbrhd_webmap = nbrhd_simple.to_crs(\"EPSG:3857\")\n",
    "\n",
    "#let's throw in a polar projection just for fun! \n",
    "## https://www.esri.com/arcgis-blog/products/imagery/imagery/two-views-from-the-top-of-the-world/\n",
    "nbrhd_polar = nbrhd_simple.to_crs(\"EPSG:3995\")\n",
    "\n",
    "fig, axes = plt.subplots(1,3, figsize =  (20,10))\n",
    "\n",
    "#original\n",
    "nbrhd_simple.plot(ax = axes[0])\n",
    "#web mercator\n",
    "nbrhd_webmap.plot(ax = axes[1])\n",
    "#polar projection\n",
    "nbrhd_polar.plot(ax = axes[2])\n",
    "\n",
    "axes[0].set_title(\"WGS 84\", fontsize = 20)\n",
    "axes[1].set_title(\"Web Mercator\", fontsize = 20)\n",
    "axes[2].set_title(\"Polar\", fontsize = 20)"
   ]
  },
  {
   "cell_type": "markdown",
   "id": "18e38334",
   "metadata": {
    "slideshow": {
     "slide_type": "-"
    }
   },
   "source": [
    "Note: The coordinate reference system will change how the geometry is plotted in a 2D map."
   ]
  },
  {
   "cell_type": "markdown",
   "id": "02942aa0",
   "metadata": {
    "slideshow": {
     "slide_type": "slide"
    }
   },
   "source": [
    "### To add the web basemap, we can do the following\n",
    "\n",
    "Remember we have import the `contextily` package as `cx`"
   ]
  },
  {
   "cell_type": "code",
   "execution_count": null,
   "id": "9b6c8a5b",
   "metadata": {
    "slideshow": {
     "slide_type": "fragment"
    }
   },
   "outputs": [],
   "source": [
    "fig, axes = plt.subplots(1,1, figsize = (10,10))\n",
    "\n",
    "#alpha parameter makes the map transparent\n",
    "nbrhd_webmap.plot(column = \"asthma_pct\", scheme = \"quantiles\",\n",
    "                  k = 4, cmap = \"Reds\", ax = axes,\n",
    "                  alpha=0.5, edgecolor='k')\n",
    "\n",
    "cx.add_basemap(axes)"
   ]
  },
  {
   "cell_type": "markdown",
   "id": "34c3f861",
   "metadata": {
    "slideshow": {
     "slide_type": "slide"
    }
   },
   "source": [
    "The `contextily` pacakage also provides different map source.\n",
    "\n",
    "For example,\n",
    "```\n",
    "Under the provider of CartoDB:\n",
    "- Positron\n",
    "- PositronNoLabels \n",
    "- PositronOnlyLabels \n",
    "- DarkMatter \n",
    "- DarkMatterNoLabels \n",
    "- DarkMatterOnlyLabels \n",
    "- Voyager \n",
    "- VoyagerNoLabels\n",
    "- VoyagerOnlyLabels\n",
    "- VoyagerLabelsUnder\n",
    "```"
   ]
  },
  {
   "cell_type": "code",
   "execution_count": null,
   "id": "9c9076fe",
   "metadata": {
    "scrolled": false,
    "slideshow": {
     "slide_type": "slide"
    }
   },
   "outputs": [],
   "source": [
    "fig, axes = plt.subplots(1,1, figsize = (10,10))\n",
    "\n",
    "#alpha parameter makes the map transparent\n",
    "nbrhd_webmap.plot(column = \"asthma_pct\", scheme = \"quantiles\",\n",
    "                  k = 4, cmap = \"Reds\", ax = axes,\n",
    "                  alpha=0.5, edgecolor='k')\n",
    "\n",
    "cx.add_basemap(axes,\n",
    "              source=cx.providers.CartoDB.Voyager)"
   ]
  },
  {
   "cell_type": "markdown",
   "id": "eb868763",
   "metadata": {
    "slideshow": {
     "slide_type": "slide"
    }
   },
   "source": [
    "## What else? We can visualize the data analysis results together!\n",
    "\n",
    "Recall we've conducted a linear regression on the correlation between asthma and immigration.\n",
    "\n",
    "We can plot the data description, spatial distribution, and linear regression togehter.\n"
   ]
  },
  {
   "cell_type": "markdown",
   "id": "de5c449f",
   "metadata": {},
   "source": [
    "### 1. load in the immigration data"
   ]
  },
  {
   "cell_type": "code",
   "execution_count": null,
   "id": "7f891c70",
   "metadata": {},
   "outputs": [],
   "source": [
    "fname = '1_socdem_neighb_2006-2.xls'\n",
    "sname = 'socdem_2006'\n",
    "socdem_neighb = pd.read_excel(fname, sheet_name = sname, header = 10)\n",
    "socdem_neighb.head()"
   ]
  },
  {
   "cell_type": "code",
   "execution_count": null,
   "id": "ddaba17f",
   "metadata": {
    "slideshow": {
     "slide_type": "slide"
    }
   },
   "outputs": [],
   "source": [
    "socdem_neighb.columns"
   ]
  },
  {
   "cell_type": "code",
   "execution_count": null,
   "id": "c28859f4",
   "metadata": {
    "slideshow": {
     "slide_type": "-"
    }
   },
   "outputs": [],
   "source": [
    "# Important columns\n",
    "important_cols = socdem_neighb.columns[[0, 1, 10, 21]]\n",
    "\n",
    "rename_dic = {\n",
    "    important_cols[0]: 'Neighbid',\n",
    "    important_cols[1]: 'name',\n",
    "    important_cols[2]: 'median_income',\n",
    "    important_cols[3]: 'immigration5'\n",
    "}\n",
    "rename_dic"
   ]
  },
  {
   "cell_type": "code",
   "execution_count": null,
   "id": "75d36c65",
   "metadata": {
    "slideshow": {
     "slide_type": "slide"
    }
   },
   "outputs": [],
   "source": [
    "# Select important columns\n",
    "socdem_neighb = socdem_neighb.copy()\n",
    "socdem_neighb = socdem_neighb[important_cols]\n",
    "socdem_neighb.rename(columns = rename_dic, inplace = True)\n",
    "socdem_neighb.head()"
   ]
  },
  {
   "cell_type": "markdown",
   "id": "936c46be",
   "metadata": {
    "slideshow": {
     "slide_type": "slide"
    }
   },
   "source": [
    "### 2. Merge dataset\n",
    "\n",
    "Merge `socdem_neighb` to `nbrhd_webmap`, because we want to map it on a basemap."
   ]
  },
  {
   "cell_type": "code",
   "execution_count": null,
   "id": "ffb4d37d",
   "metadata": {},
   "outputs": [],
   "source": [
    "nbrhd_webmap = nbrhd_webmap.merge(socdem_neighb, on='Neighbid')\n",
    "\n",
    "nbrhd_webmap.head()\n"
   ]
  },
  {
   "cell_type": "markdown",
   "id": "a2bf0f06",
   "metadata": {
    "slideshow": {
     "slide_type": "slide"
    }
   },
   "source": [
    "### 3. conduct linear regression"
   ]
  },
  {
   "cell_type": "code",
   "execution_count": null,
   "id": "746673a8",
   "metadata": {},
   "outputs": [],
   "source": [
    "from statsmodels.formula.api import ols\n",
    "reg_asthmaimm = ols('asthma_pct ~ immigration5', data = nbrhd_webmap) # setup the model\n",
    "reg_asthmaimm_fit = reg_asthmaimm.fit()\n",
    "reg_asthmaimm_sum = reg_asthmaimm_fit.summary()\n",
    "reg_asthmaimm_sum.tables[1]\n"
   ]
  },
  {
   "cell_type": "markdown",
   "id": "476eafe6",
   "metadata": {
    "slideshow": {
     "slide_type": "slide"
    }
   },
   "source": [
    "### 4. Visualize the results\n",
    "\n",
    "The regression analysis shows a significant coefficient of immigration percent, indicating a significant linear relationship.\n",
    "\n",
    "Therefore, we can visualize these two variables as a scatter plot and regressed line.\n",
    "\n",
    "What else do we want?\n",
    "\n",
    "- data description of the dependent variable\n",
    "\n",
    "- map both variables\n",
    "\n",
    "Then we can plot the four figures in a (2,2) manner."
   ]
  },
  {
   "cell_type": "code",
   "execution_count": null,
   "id": "59e845f7",
   "metadata": {
    "slideshow": {
     "slide_type": "slide"
    }
   },
   "outputs": [],
   "source": [
    "fig, axes = plt.subplots(2,2, figsize = (15,15))\n",
    "\n",
    "# Description of the dependent variable\n",
    "nbrhd_simple.asthma_pct.hist(bins=8, ax=axes[0][0])\n",
    "\n",
    "# Regression\n",
    "import seaborn as sns\n",
    "sns.regplot(y = 'asthma_pct', x = 'immigration5', data = nbrhd_webmap, ci = None, ax=axes[0][1])\n",
    "\n",
    "\n",
    "# Map of the dependent variable\n",
    "nbrhd_webmap.plot(column = \"asthma_pct\", scheme = \"quantiles\",\n",
    "                  k = 4, cmap = \"Reds\", ax = axes[1][0],\n",
    "                  alpha=0.5, edgecolor='k',legend = True,\n",
    "                 legend_kwds={'loc': 4, 'title': 'Percent Asthmatic', \n",
    "                               'title_fontsize': 12,'fontsize': 12})\n",
    "cx.add_basemap(axes[1][0])\n",
    "\n",
    "# Map of the independent variable\n",
    "nbrhd_webmap.plot(column = \"immigration5\", scheme = \"quantiles\",\n",
    "                  k = 4, cmap = \"Blues\", ax = axes[1][1],\n",
    "                  alpha=0.5, edgecolor='k',legend = True,\n",
    "                 legend_kwds={'loc': 4, 'title': 'Immigration rate', \n",
    "                               'title_fontsize': 12,'fontsize': 12})\n",
    "cx.add_basemap(axes[1][1])\n",
    "\n",
    "# Make some adjustment\n",
    "axes[0][0].set_title(\"Historgram of asthma percentage\", fontsize = 20)\n",
    "axes[0][0].xaxis.set_label_text('Asthma percentage %')\n",
    "axes[0][0].xaxis.get_label().set_fontsize(12)\n",
    "axes[0][0].yaxis.set_label_text('Proportion %')\n",
    "axes[0][0].yaxis.get_label().set_fontsize(12)\n",
    "\n",
    "axes[0][1].set_title(\"Regression of asthma percentage on immigration rate\", fontsize = 20)\n",
    "axes[0][1].xaxis.set_label_text('Immigration rate recent 5 years %')\n",
    "axes[0][1].xaxis.get_label().set_fontsize(12)\n",
    "axes[0][1].yaxis.set_label_text('Asthma percentage %')\n",
    "axes[0][1].yaxis.get_label().set_fontsize(12)\n",
    "\n",
    "axes[1][0].set_title(\"Asthma percentage in Toronto\", fontsize = 20)\n",
    "axes[1][1].set_title(\"Immigration rate recent 5 years in Toronto\", fontsize = 20)\n",
    "\n",
    "\n",
    "current_fig = plt.gcf() \n",
    "current_fig.savefig('results.png',dpi=100) #export maps as an image file!"
   ]
  },
  {
   "cell_type": "markdown",
   "id": "b3e72f39",
   "metadata": {
    "slideshow": {
     "slide_type": "slide"
    }
   },
   "source": [
    "![results](results.png)"
   ]
  },
  {
   "cell_type": "markdown",
   "id": "d28bd0b5",
   "metadata": {
    "slideshow": {
     "slide_type": "slide"
    }
   },
   "source": [
    "# Introduction to clustering\n",
    "\n",
    "## What is clustering? \n",
    "\n",
    "Clustering, generally, is the act of grouping similar things with eachother.\n",
    "\n",
    "We can do this with non-spatial data as well as spatial data. \n",
    "\n",
    "One common clustering method is k-means, which we won't cover in this class, but if you're interested, there's a nice tutorial on the method here: \n",
    "\n",
    "https://towardsdatascience.com/machine-learning-algorithms-part-9-k-means-example-in-python-f2ad05ed5203\n"
   ]
  },
  {
   "cell_type": "markdown",
   "id": "d7b45e47",
   "metadata": {
    "slideshow": {
     "slide_type": "slide"
    }
   },
   "source": [
    "## Why do we want to identify clusters? \n",
    "\n",
    "Because clusters identify groups of data with similar attribute values, we can use it to begin to understand what **drives** the grouping. \n",
    "\n",
    "For example, we may have data on individuals' income outcomes and education levels (e.g., total number of years in schools, colleges, and universities). \n",
    "\n",
    "If we perform a cluster analysis, we can identify discrete groups which may be easier to work with when we want to do further analysis. \n",
    "\n",
    "These groups may be something like:\n",
    "\n",
    " - cluster 1: high income, more education\n",
    " - cluster 2: high income, less education\n",
    " - cluster 3: low income, less education\n",
    " - cluster 4: low income, more education\n"
   ]
  },
  {
   "cell_type": "markdown",
   "id": "753394a5",
   "metadata": {
    "slideshow": {
     "slide_type": "slide"
    }
   },
   "source": [
    " \n",
    "From there, we can look at other attributes of those clusters. \n",
    "\n",
    "This approach is commonly used in demographic analysis where many attributes are considered to create discrete clusters. \n",
    "\n",
    "A good example of this used in practice is Environics Analytics PRIZM Segmentation:\n",
    "\n",
    "https://environicsanalytics.com/en-ca/data/segmentation\n",
    "\n",
    "![example of different segments](https://environicsanalytics.com/images/default-source/product-pages/page-content/prizm-page-illustrations-cards.png)\n",
    "\n",
    "[You can look up what 'demographic segment' or cluster your postal code belongs to here!](https://prizm.environicsanalytics.com/?_ga=2.84764121.114697395.1648300904-78433696.1648300904)"
   ]
  },
  {
   "cell_type": "markdown",
   "id": "69e360bf",
   "metadata": {
    "slideshow": {
     "slide_type": "slide"
    }
   },
   "source": [
    "### Spatial clustering, at a high level, is doing the same thing but one attribute to consider is geography. \n",
    "\n",
    "Spatial clustering involves looking at:\n",
    "\n",
    "- how some attribute is expressed across space; \n",
    "\n",
    "- whether similar attribute values are near each other. \n",
    "\n",
    "#### If we want to do 'spatial clustering' of a variable what two pieces of information do we need? (don't over think!!!)"
   ]
  },
  {
   "cell_type": "markdown",
   "id": "7256fb2b",
   "metadata": {
    "slideshow": {
     "slide_type": "slide"
    }
   },
   "source": [
    "## Autocorrelation\n",
    "\n",
    "Autocorrelation literally means 'self correlations'. \n",
    "\n",
    "So instead of looking at how two attributes relate to each other (e.g., regression), we want to explore one a single attribute relates to its neighbours.\n",
    "\n",
    "Typically, we're talking about temporal autocorrelation or spatial autocorrelation.\n",
    "\n",
    "## Spatial Autocorrelation\n",
    "\n",
    "How does a variable value in a specific location correlate with the variable values in its neighbours?\n",
    "\n",
    "- regress a value on the values of its neighbours!\n",
    "\n",
    "#### So again, information do we need to do answer this question?"
   ]
  },
  {
   "cell_type": "markdown",
   "id": "2b4ab2e6",
   "metadata": {
    "slideshow": {
     "slide_type": "slide"
    }
   },
   "source": [
    "### 1) For each observation (in this case, neighborhood) we need to know their neighbours!\n",
    "\n",
    "To do this we can create something known as a 'weights matrix'.\n",
    "\n",
    "A weights matrix is a matrix that describes whether or not any one observation is 'neighbours' with another.\n",
    "\n",
    "There are many ways we can do this, but let's focus on two common ones: queens contiguity matrix and the rook contiguity matrix:\n",
    "\n",
    "![weights matrices](https://i.stack.imgur.com/CWIHi.jpg)"
   ]
  },
  {
   "cell_type": "markdown",
   "id": "58ac575d",
   "metadata": {
    "slideshow": {
     "slide_type": "slide"
    }
   },
   "source": [
    "### 2) Next we need to describe the value of our attribute of interest in neighbours\n",
    "\n",
    "To do this we create a variable known as 'spatial lag'. \n",
    "\n",
    "Spatial lag for neighbourhood *i* is often just the average of some attribute value across all of neighbourhood *i*'s neighbours (as determined by our weights matrix!)."
   ]
  },
  {
   "cell_type": "markdown",
   "id": "4876a88a",
   "metadata": {
    "slideshow": {
     "slide_type": "fragment"
    }
   },
   "source": [
    "### 3) Finally, now we can see how a neighbourhood's attribute compares to its neighbours. \n",
    "\n",
    "This set up allows us to see if neighbourhood's with high attribute values are next to other neighbourhoods with high values. \n",
    "\n",
    "We can then use a number of statistical tests to determine if there are 'significant' clusters in our dataset. \n"
   ]
  },
  {
   "cell_type": "markdown",
   "id": "8b8f32ea",
   "metadata": {
    "slideshow": {
     "slide_type": "slide"
    }
   },
   "source": [
    "\n",
    "### We will talk about the code to show how this works next week."
   ]
  }
 ],
 "metadata": {
  "celltoolbar": "Slideshow",
  "kernelspec": {
   "display_name": "Python 3 (ipykernel)",
   "language": "python",
   "name": "python3"
  },
  "language_info": {
   "codemirror_mode": {
    "name": "ipython",
    "version": 3
   },
   "file_extension": ".py",
   "mimetype": "text/x-python",
   "name": "python",
   "nbconvert_exporter": "python",
   "pygments_lexer": "ipython3",
   "version": "3.8.8"
  },
  "latex_envs": {
   "LaTeX_envs_menu_present": true,
   "autoclose": true,
   "autocomplete": true,
   "bibliofile": "biblio.bib",
   "cite_by": "apalike",
   "current_citInitial": 1,
   "eqLabelWithNumbers": true,
   "eqNumInitial": 1,
   "hotkeys": {
    "equation": "Ctrl-E",
    "itemize": "Ctrl-I"
   },
   "labels_anchors": false,
   "latex_user_defs": false,
   "report_style_numbering": false,
   "user_envs_cfg": false
  }
 },
 "nbformat": 4,
 "nbformat_minor": 5
}
