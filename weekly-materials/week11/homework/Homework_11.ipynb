{
 "cells": [
  {
   "cell_type": "markdown",
   "id": "bd13e811",
   "metadata": {},
   "source": [
    "# GG274 Homework 11: Making a Map with GeoPandas \n",
    "\n",
    "## Logistics\n",
    "\n",
    "**Due date**: The homework is due 23:59 on Tuesday, April 1.\n",
    "\n",
    "You will submit your work on [MarkUs](https://markus-ds.teach.cs.toronto.edu).\n",
    "To submit your work:\n",
    "\n",
    "1. Download this file (`Homework_11.ipynb`) from JupyterHub. (See [our JupyterHub Guide](../../../guides/jupyterhub_guide.ipynb) for detailed instructions.)\n",
    "2. Submit this file to MarkUs under the **hw11** assignment. (See [our MarkUs Guide](../../../guides/markus_guide.ipynb) for detailed instructions.)\n",
    "All homeworks will take place in a Jupyter notebook (like this one). When you are done, you will download this notebook and submit it to MarkUs.\n"
   ]
  },
  {
   "cell_type": "markdown",
   "id": "8442f7a6",
   "metadata": {},
   "source": [
    "## Introduction\n",
    "\n",
    "In this homework you will create a map of 2020 GDP (per capita, PPP in constant 2017 dollars) in each country around the world. First you'll need to clean up the GDP data which has GDP values for multiple years. Then you'll need to create a map of 2020 GDP classifying the data using 5 quantiles (e.g., quintiles)."
   ]
  },
  {
   "cell_type": "code",
   "execution_count": null,
   "id": "498ebc38",
   "metadata": {},
   "outputs": [],
   "source": [
    "import pandas as pd\n",
    "import geopandas as gpd\n",
    "import matplotlib.pyplot as plt\n",
    "import mapclassify\n",
    "import xlrd"
   ]
  },
  {
   "cell_type": "markdown",
   "id": "dd16cb9a",
   "metadata": {},
   "source": [
    "## Step 1 - Read the GDP data into a `pandas` `DataFrame`\n",
    "\n",
    "a)  The data is stored in `gdp-per-capita-worldbank.csv` .\n",
    "\n",
    "Use the `pandas` function `read_csv` to read the data into a `pandas` `DataFrame` named `gdp_data_df`. \n"
   ]
  },
  {
   "cell_type": "code",
   "execution_count": null,
   "id": "0e70a55c",
   "metadata": {},
   "outputs": [],
   "source": [
    "# Write your code below\n"
   ]
  },
  {
   "cell_type": "markdown",
   "id": "bd8e7088",
   "metadata": {},
   "source": [
    "b) Create a boolean `Series` called `gdp_2020` that is `True` for the rows that represent GDP per capita *in 2020*, and `False` otherwise."
   ]
  },
  {
   "cell_type": "code",
   "execution_count": null,
   "id": "d4c00a0c",
   "metadata": {},
   "outputs": [],
   "source": [
    "# Write your code below\n"
   ]
  },
  {
   "cell_type": "markdown",
   "id": "a9b80a4d",
   "metadata": {},
   "source": [
    "c) Use `gdp_data_df` to create another `DataFrame` called `gdp_2020_df` that has three columns: `'Entity', 'Code', and 'GDP per capita'` (in that order) and only has rows containing GDP data from 2020."
   ]
  },
  {
   "cell_type": "code",
   "execution_count": null,
   "id": "260275b5",
   "metadata": {},
   "outputs": [],
   "source": [
    "# Write your code below\n"
   ]
  },
  {
   "cell_type": "markdown",
   "id": "cf32e981",
   "metadata": {},
   "source": [
    "## Step 2 - Bring in the world countries spatial data using `geopandas` as a `GeoDataFrame`.\n",
    "\n",
    "a) Import the `countries.geojson` file using `geopandas` `GeoDataFrame.from_file` function and name the new `GeoDataFrame` as `countries_gdf`."
   ]
  },
  {
   "cell_type": "code",
   "execution_count": null,
   "id": "0243bcf1",
   "metadata": {},
   "outputs": [],
   "source": [
    "# Write your code below\n"
   ]
  },
  {
   "cell_type": "markdown",
   "id": "8befa8c7",
   "metadata": {},
   "source": [
    "Modify `countries_gdf` by renaming column `ADMIN` to `Entity` and column `ISO_A3` to `Code` using a dictionary.\n",
    "Do this \"in place\" so that the original `GeoDataFrame` is modified, instead of creating a new `GeoDataFrame`."
   ]
  },
  {
   "cell_type": "code",
   "execution_count": null,
   "id": "ec6c6de5",
   "metadata": {},
   "outputs": [],
   "source": [
    "# Write your code below\n"
   ]
  },
  {
   "cell_type": "markdown",
   "id": "637787f9",
   "metadata": {},
   "source": [
    "b) Create a basic figure of the new `GeoDataFrame` as a map using the `plot` function. Save the plot to a variable called `countries_gdf_plot`."
   ]
  },
  {
   "cell_type": "code",
   "execution_count": null,
   "id": "449b31ab",
   "metadata": {},
   "outputs": [],
   "source": [
    "# Write your code below\n"
   ]
  },
  {
   "cell_type": "markdown",
   "id": "6e4619af",
   "metadata": {},
   "source": [
    "## Step 3 - Join the spatial data with the GDP data\n",
    "\n",
    "a) In this step you will merge the GDP data with the spatial countries data."
   ]
  },
  {
   "cell_type": "markdown",
   "id": "c8c304f3",
   "metadata": {},
   "source": [
    "Use the `merge` function to do a **left join** (i.e., `how='left'`) of the 2020 GDP `DataFrame` with the countries `GeoDataFrame`, using the column `Code` for the `on` argument. \n",
    "\n",
    "Name the joined data `countries_gdp_gdf`."
   ]
  },
  {
   "cell_type": "code",
   "execution_count": null,
   "id": "5debecca",
   "metadata": {},
   "outputs": [],
   "source": [
    "# Write your code below\n"
   ]
  },
  {
   "cell_type": "markdown",
   "id": "eb992fbf",
   "metadata": {},
   "source": [
    "b) Why are we using a left join? Consider Aruba as an example. *Hint*: are the data consistently complete for all countries?\n",
    "\n",
    "You may want to refer to the document of the [merge function](https://pandas.pydata.org/pandas-docs/stable/reference/api/pandas.DataFrame.merge.html#pandas.DataFrame.merge)."
   ]
  },
  {
   "cell_type": "markdown",
   "id": "c890fa61",
   "metadata": {},
   "source": [
    "*Write your answer in this cell.*"
   ]
  },
  {
   "cell_type": "markdown",
   "id": "ef247197",
   "metadata": {},
   "source": [
    "## Step 4 - Create a map that displays the 2020 GDP of world countries\n",
    "\n",
    "In the below cell, create a map that displays `GDP per capita` in 5 quantiles. In the `plot` function use `cmap = 'YlOrRd'`, `edgecolor='black'`, `ax=axes`, `scheme = 'quantiles'`, `k = 5`, and `legend=True`. \n",
    "\n",
    "In addition, add the following two dictionaries in the `plot` function's arguments:\n",
    "\n",
    "`missing_kwds={\n",
    "        'color': 'lightgrey',\n",
    "        'edgecolor': 'black',\n",
    "        'label': 'Missing values'}`\n",
    "        \n",
    "`legend_kwds={\n",
    "        'loc': 3, \n",
    "        'title': 'GDP per capita',\n",
    "        'title_fontsize': 23,\n",
    "        'fontsize': 15}`\n",
    "\n",
    "Save the map to `countries_gdp_gdf_plot`. \n"
   ]
  },
  {
   "cell_type": "code",
   "execution_count": null,
   "id": "3a8ca060",
   "metadata": {},
   "outputs": [],
   "source": [
    "# Leave this code here: generate our figure/axes and set fig size\n",
    "fig, axes = plt.subplots(1, 1, figsize = (12,12))\n",
    "\n",
    "# Write your code below\n"
   ]
  },
  {
   "cell_type": "markdown",
   "id": "b748c831",
   "metadata": {},
   "source": [
    "## Step 5 - Why do we use the `missing kwds` dictionary? \n",
    "\n",
    "After looking at the code, write a sentence or two that interprets why we included `missing_kwds` in our plot function. Try rerunning the above code without the dictionary to better understand what it does."
   ]
  },
  {
   "cell_type": "markdown",
   "id": "26baab88",
   "metadata": {},
   "source": [
    "*Write your answer in this cell.*"
   ]
  }
 ],
 "metadata": {
  "kernelspec": {
   "display_name": "Python 3 (ipykernel)",
   "language": "python",
   "name": "python3"
  },
  "language_info": {
   "codemirror_mode": {
    "name": "ipython",
    "version": 3
   },
   "file_extension": ".py",
   "mimetype": "text/x-python",
   "name": "python",
   "nbconvert_exporter": "python",
   "pygments_lexer": "ipython3",
   "version": "3.8.8"
  },
  "markus": {
   "assessment_id": 141,
   "course_id": 9,
   "url": "https://markus-ds.teach.cs.toronto.edu"
  },
  "vscode": {
   "interpreter": {
    "hash": "440dd12f919b48e435ef15d7652bb5c9f2f802a3e9de582e9da805c841a6f459"
   }
  }
 },
 "nbformat": 4,
 "nbformat_minor": 5
}
