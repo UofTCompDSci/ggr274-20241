{
 "cells": [
  {
   "cell_type": "markdown",
   "id": "d2174d6b",
   "metadata": {},
   "source": [
    "# Exercise: Run a cluster analysis\n"
   ]
  },
  {
   "cell_type": "markdown",
   "id": "1c0b2e16",
   "metadata": {},
   "source": [
    "You will use the skills you've learned throughout the course to conduct two analyses where you compute the Moran's I statistic.\n",
    "\n",
    "**Step 1**\n",
    "Load the `Toronto_Neighbourhoods.geojson` and `toronto_health_data_2017.csv` files into python\n",
    "\n",
    "**Step 2**\n",
    "Merge the health data with the spatial data\n",
    "\n",
    "**Step 3**\n",
    "Generate a map of two of the three health variables included in the data set (e.g., pick diabetes and mental health, or mental health and asthma). Make sure to classify the data and make it look nice. \n",
    "\n",
    "For each of the two columns do the following:\n",
    "\n",
    "**Step 4**\n",
    "Calculate a weights matrix using `libpysal` (referred to as `lps` below).\n",
    "*Hint* The function is `lps.weights.Queen.from_dataframe`.\n",
    "\n",
    "**Step 5**\n",
    "Use the `esda.Moran()` function to calculate the moran's I statistic and plot it. \n",
    "\n",
    "**Step 6**\n",
    "Use the `esda.Moran_Local()` function to calculate the LISA statistic and plot it.\n",
    "\n",
    "**Step 7**\n",
    "Interpret the global and local Moran's statistics in a few sentences. What do they tell us about the spatial distribution of the two health outcomes you selected?\n"
   ]
  },
  {
   "cell_type": "code",
   "execution_count": 1,
   "id": "6909af8e",
   "metadata": {},
   "outputs": [],
   "source": [
    "import numpy as np\n",
    "import pandas as pd\n",
    "import geopandas as gpd\n",
    "import matplotlib.pyplot as plt\n",
    "import mapclassify\n",
    "import esda\n",
    "import splot\n",
    "import libpysal as lps\n",
    "import contextily as cx\n",
    "from splot.esda import moran_scatterplot\n",
    "from splot.esda import lisa_cluster"
   ]
  },
  {
   "cell_type": "code",
   "execution_count": 1,
   "id": "a2589c14",
   "metadata": {},
   "outputs": [],
   "source": [
    "#start your code here - add cells as needed"
   ]
  },
  {
   "cell_type": "code",
   "execution_count": null,
   "id": "2e3eb187",
   "metadata": {},
   "outputs": [],
   "source": []
  }
 ],
 "metadata": {
  "kernelspec": {
   "display_name": "Python 3 (ipykernel)",
   "language": "python",
   "name": "python3"
  },
  "language_info": {
   "codemirror_mode": {
    "name": "ipython",
    "version": 3
   },
   "file_extension": ".py",
   "mimetype": "text/x-python",
   "name": "python",
   "nbconvert_exporter": "python",
   "pygments_lexer": "ipython3",
   "version": "3.8.8"
  }
 },
 "nbformat": 4,
 "nbformat_minor": 5
}
