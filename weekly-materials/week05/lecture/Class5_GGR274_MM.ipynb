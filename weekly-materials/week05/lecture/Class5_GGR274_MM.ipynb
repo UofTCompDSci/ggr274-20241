{
 "cells": [
  {
   "cell_type": "markdown",
   "metadata": {
    "slideshow": {
     "slide_type": "slide"
    }
   },
   "source": [
    "# Class 5: Data Transformations, Grouped Data, and Data Visualization\n",
    "\n",
    "## Last class\n",
    "\n",
    "- read in a csv file to `pandas`\n",
    "- select rows and columns from a `pandas.DataFrame`\n",
    "- rename columns of a `pandas.DataFrame`\n",
    "\n",
    "## This class\n",
    "\n",
    "- Transformations: create a new column in a `pandas.DataFrame`\n",
    "- Data summaries: mean, median, and measures of variation\n",
    "- Data visualization: boxplots, histograms, and bar charts"
   ]
  },
  {
   "cell_type": "markdown",
   "metadata": {
    "slideshow": {
     "slide_type": "slide"
    }
   },
   "source": [
    "## Midterm Information\n",
    "\n",
    "- Covers all the content we have covered up until this class.\n",
    "\n",
    "- 2022's test is available on the course website.\n",
    "\n",
    "- The test was designed to be completed in 90 minutes.\n",
    "\n",
    "- The teaching team will post a link to the test by 09:00 AM, Feb. 13 on the course website.\n",
    "\n",
    "- You can submit anytime up until 11:00 AM on February 13.\n",
    "\n",
    "- The instructors will be available on a [zoom link](https://utoronto.zoom.us/j/86707766870) in case you have any questions from 09:00 AM - 11:00 AM. We will also be in the classroom, SS2117 for those who would like to use the space and in-person support.\n",
    "\n",
    "- If you have received an accommodation and are writing the test with Accommodated Testing Services, you will receive a separate link from them when you start your test."
   ]
  },
  {
   "cell_type": "markdown",
   "metadata": {
    "slideshow": {
     "slide_type": "slide"
    }
   },
   "source": [
    "## Data Transformations\n",
    "\n",
    "- Time in the time use survey is measured in minutes, but it's not easy to interpret when the numbers get very large.\n",
    "\n",
    "> _I worked four thousand six hundred thirty two minutes last week!_\n",
    "\n",
    "- It would be easier if time was reported in hours.\n",
    "\n",
    "> _I worked over seventy seven hours last week!_\n",
    "\n",
    "- Converting time measured in minutes to time measured in hours is an example of a **data transformation**.\n"
   ]
  },
  {
   "cell_type": "markdown",
   "metadata": {
    "slideshow": {
     "slide_type": "slide"
    }
   },
   "source": [
    "## Time use survey"
   ]
  },
  {
   "cell_type": "code",
   "execution_count": null,
   "metadata": {},
   "outputs": [],
   "source": [
    "import pandas as pd\n",
    "\n",
    "time_use_data = pd.read_csv('gss_tu2016_main_file.csv')\n",
    "\n",
    "time_use_data.head()"
   ]
  },
  {
   "cell_type": "markdown",
   "metadata": {
    "slideshow": {
     "slide_type": "slide"
    }
   },
   "source": [
    "## Subset the data\n",
    "\n",
    "In this class we will explore some of these columns, so let's create a subset of `time_use_data` with only the following columns:\n",
    "\n",
    "_(columns from last week)_\n",
    "   + `CASEID`: participant ID \n",
    "   + `luc_rst`: large urban centre vs rural and small towns\n",
    "   + `chh0014c`: number of kids 14 or under\n",
    "   + `gtu_110`: feeling rushed\n",
    "\n",
    "_(plus...)_\n",
    "   + `agegr10`: age group\n",
    "   + `marstat`: marital status\n",
    "   + `sex`: sex\n",
    "   + `dur01`: duration spent sleeping\n",
    "   + `dur08`: duration spent working \n",
    "   + `prv`: province of residence"
   ]
  },
  {
   "cell_type": "code",
   "execution_count": null,
   "metadata": {},
   "outputs": [],
   "source": [
    "important_columns = [\n",
    "    \"CASEID\", \"prv\",\n",
    "    \"luc_rst\", \"agegr10\", \"marstat\", \"sex\", \"chh0014c\",\n",
    "    \"gtu_110\", \"dur01\", \"dur08\"\n",
    "]\n",
    "\n",
    "subset_time_use_data = time_use_data[important_columns]\n",
    "\n",
    "subset_time_use_data.head()"
   ]
  },
  {
   "cell_type": "markdown",
   "metadata": {
    "slideshow": {
     "slide_type": "slide"
    }
   },
   "source": [
    "## Rename columns so that they are meaningful\n",
    "\n",
    "- Use the `rename` function to rename columns."
   ]
  },
  {
   "cell_type": "code",
   "execution_count": null,
   "metadata": {},
   "outputs": [],
   "source": [
    "# dictionary of 'old name':'new name'\n",
    "\n",
    "newnames = {\n",
    "        'CASEID': 'Participant ID',\n",
    "        'luc_rst': 'Urban/Rural',\n",
    "        'agegr10': 'Age Group',\n",
    "        'marstat': 'Marital Status',\n",
    "        'sex': 'sex',\n",
    "        'chh0014c': 'Kids under 14',\n",
    "        'gtu_110': 'Feeling Rushed',\n",
    "        'dur01': 'Sleep duration',\n",
    "        'dur08': 'Work duration'\n",
    "    }\n",
    "\n",
    "subset_time_use_data_colnames = subset_time_use_data.rename(columns = newnames)\n",
    "\n",
    "subset_time_use_data_colnames.head()"
   ]
  },
  {
   "cell_type": "markdown",
   "metadata": {
    "slideshow": {
     "slide_type": "slide"
    }
   },
   "source": [
    "## Create a new column in a pandas DataFrame\n",
    "\n",
    "Create a new numeric column derived from another numeric column.\n",
    "\n",
    "The code below creates a new column `Sleep duration (hours)` by dividing `Sleep duration` by 60, since 1 hour = 60 minutes.\n",
    "\n"
   ]
  },
  {
   "cell_type": "code",
   "execution_count": null,
   "metadata": {
    "slideshow": {
     "slide_type": "fragment"
    }
   },
   "outputs": [],
   "source": [
    "subset_time_use_data_colnames['Sleep duration (hours)'] = subset_time_use_data_colnames['Sleep duration'] / 60\n",
    "\n",
    "subset_time_use_data_colnames.head()"
   ]
  },
  {
   "cell_type": "markdown",
   "metadata": {
    "slideshow": {
     "slide_type": "subslide"
    }
   },
   "source": [
    "## What happened?\n",
    "\n",
    "To create a new column, use the `[]` brackets with the new column name at the left side of the assignment.\n",
    "\n",
    "The calculation of the values is done **element-wise**. This means all values in the given column are divided by the value 60 at once. You do not need to use a loop to iterate each of the rows!\n",
    "\n",
    "\n",
    "![][def]\n",
    "\n",
    "Reference is available [here](https://pandas.pydata.org/docs/getting_started/intro_tutorials/05_add_columns.html).\n",
    "\n",
    "[def]: images/min-to-hr.png"
   ]
  },
  {
   "cell_type": "markdown",
   "metadata": {
    "slideshow": {
     "slide_type": "slide"
    }
   },
   "source": [
    "## Transform a column using if-then\n",
    "\n",
    "- The `Age Group` column has the following distribution."
   ]
  },
  {
   "cell_type": "code",
   "execution_count": null,
   "metadata": {},
   "outputs": [],
   "source": [
    "subset_time_use_data_colnames['Age Group'].value_counts()"
   ]
  },
  {
   "cell_type": "markdown",
   "metadata": {
    "slideshow": {
     "slide_type": "subslide"
    }
   },
   "source": [
    "It would be easier to interpret if the labels were used.\n",
    "\n",
    "               Age group of respondent (groups of 10)\n",
    "\n",
    "           VALUE  LABEL\n",
    "               1  15 to 24 years\n",
    "               2  25 to 34 years\n",
    "               3  35 to 44 years\n",
    "               4  45 to 54 years\n",
    "               5  55 to 64 years\n",
    "               6  65 to 74 years\n",
    "               7  75 years and over\n",
    "              96  Valid skip\n",
    "              97  Don't know\n",
    "              98  Refusal\n",
    "              99  Not stated\n",
    "\n",
    "           Data type: numeric\n",
    "           Missing-data codes: 96-99\n",
    "           Record/column: 1/35"
   ]
  },
  {
   "cell_type": "code",
   "execution_count": null,
   "metadata": {
    "slideshow": {
     "slide_type": "slide"
    }
   },
   "outputs": [],
   "source": [
    "# make a copy of the dataframe\n",
    "subset_time_df = subset_time_use_data_colnames.copy()\n",
    "\n",
    "# create a new column called 'Age group label'\n",
    "\n",
    "subset_time_df.loc[subset_time_df['Age Group'] == 1, 'Age group label'] = '15-24'\n",
    "\n",
    "subset_time_df.loc[subset_time_df['Age Group'] == 2, 'Age group label'] = '25-34'\n",
    "\n",
    "subset_time_df.loc[subset_time_df['Age Group'] == 3, 'Age group label'] = '35-44'\n",
    "\n",
    "subset_time_df.loc[subset_time_df['Age Group'] == 4, 'Age group label'] = '45-54'\n",
    "\n",
    "subset_time_df.loc[subset_time_df['Age Group'] == 5, 'Age group label'] = '55-64'\n",
    "\n",
    "subset_time_df.loc[subset_time_df['Age Group'] == 6, 'Age group label'] = '65-74'\n",
    "\n",
    "subset_time_df.loc[subset_time_df['Age Group'] == 7, 'Age group label'] = '75+'\n",
    "\n",
    "subset_time_df.head()"
   ]
  },
  {
   "cell_type": "markdown",
   "metadata": {
    "slideshow": {
     "slide_type": "fragment"
    }
   },
   "source": [
    "## What happened?\n",
    "\n",
    "![][def]\n",
    "\n",
    "[def]: images/age-group.png"
   ]
  },
  {
   "cell_type": "markdown",
   "metadata": {
    "slideshow": {
     "slide_type": "subslide"
    }
   },
   "source": [
    "## To create a new column in a pandas DataFrame using if-then/if-then-else logic \n",
    "\n",
    "This line \n",
    "\n",
    "`subset_time_df.loc[subset_time_df['Age Group'] == 1, 'Age group label'] = '15-24'` \n",
    "\n",
    "creates a new column in `subset_time_df` called `Age group label` according to the *if-then (conditional)* logic:\n",
    "\n",
    "**If** `subset_time_df['Age Group'] == 1` **then**  `Age group label` is assigned the value `15-24`.\n",
    "  \n",
    "This line \n",
    "\n",
    "`subset_time_df.loc[subset_time_df['Age Group'] == 2, 'Age group label'] = '25-34'`\n",
    "\n",
    "does the *else if* logic.  Namely,\n",
    "\n",
    "**If** `subset_time_df['Age Group'] == 2` **then**  `Age group label` is assigned the value `25-34`.\n",
    "    \n",
    "This line \n",
    "\n",
    "`subset_time_df.loc[subset_time_df['Age Group'] == 3, 'Age group label'] = '35-44'`\n",
    "\n",
    "does the *else if* logic. Namely,\n",
    "\n",
    "**If** `subset_time_df['Age Group'] == 3` **then**  `Age group label` is assigned the value `35-44`. \n",
    "\n",
    "etc ...\n",
    "\n",
    "See [idioms in the Pandas cookbook](https://pandas.pydata.org/docs/user_guide/cookbook.html#idioms) and [a reference on different ways to subset a pandas DataFrame](https://pandas.pydata.org/pandas-docs/version/1.0/getting_started/intro_tutorials/03_subset_data.html)."
   ]
  },
  {
   "cell_type": "markdown",
   "metadata": {
    "slideshow": {
     "slide_type": "slide"
    }
   },
   "source": [
    "## Merging pandas DataFrames\n",
    "\n",
    "- We want would like to look at the relationship between sleeping and working, on different aspects of time use at the provincial level.  In addition we would like to add provincial level data of on income and housing.\n",
    "\n",
    "- The data is in `provincial_data.csv`."
   ]
  },
  {
   "cell_type": "code",
   "execution_count": null,
   "metadata": {},
   "outputs": [],
   "source": [
    "prov_data = pd.read_csv('provincial_data.csv')\n",
    "prov_data"
   ]
  },
  {
   "cell_type": "markdown",
   "metadata": {},
   "source": [
    "\n",
    "```\n",
    "COL0 - GEO UID\n",
    "COL1 - Labour - Total Sex / Employment rate\n",
    "COL2 - Income - Total Sex / Total - Income statistics in 2015 for private households by household size - 100% data / Median total income of households in 2015 ($)\n",
    "COL3 - Dwelling characteristics / Average household size\n",
    "\n",
    "COL4 - Housing - Total Sex / Total - Owner households in non-farm, non-reserve private dwellings - 25% sample data / % of owner households spending 30% or more of its income on shelter costs\n",
    "```"
   ]
  },
  {
   "cell_type": "markdown",
   "metadata": {
    "slideshow": {
     "slide_type": "slide"
    }
   },
   "source": [
    "Let's give the columns meaningful names."
   ]
  },
  {
   "cell_type": "code",
   "execution_count": null,
   "metadata": {
    "slideshow": {
     "slide_type": "fragment"
    }
   },
   "outputs": [],
   "source": [
    "colnames = {'COL0':'Prov', \n",
    "            'COL1':'Employment Rate', \n",
    "            'COL2':'Income',\n",
    "            'COL3': 'Household Size',\n",
    "            'COL4': 'Pct house over 30'}\n",
    "\n",
    "prov_data.rename(columns = colnames, inplace=True)\n",
    "prov_data"
   ]
  },
  {
   "cell_type": "markdown",
   "metadata": {
    "slideshow": {
     "slide_type": "slide"
    }
   },
   "source": [
    "Now, we are ready to use the `merge` function in `pandas`. "
   ]
  },
  {
   "cell_type": "code",
   "execution_count": null,
   "metadata": {
    "slideshow": {
     "slide_type": "fragment"
    }
   },
   "outputs": [],
   "source": [
    "prov_data_df = subset_time_df.merge(\n",
    "    prov_data, \n",
    "    right_on = 'Prov', # the right data frame is prov_data \n",
    "    left_on = 'prv'    # the left data frame is subset_time_df\n",
    ")   \n",
    "\n",
    "\n",
    "prov_data_df.head()"
   ]
  },
  {
   "cell_type": "markdown",
   "metadata": {
    "slideshow": {
     "slide_type": "slide"
    }
   },
   "source": [
    "Create a new column `Prov label` that **recodes** `Prov` by it's label in the code book."
   ]
  },
  {
   "cell_type": "code",
   "execution_count": null,
   "metadata": {},
   "outputs": [],
   "source": [
    "prov_data_df.loc[prov_data_df['Prov'] == 10, 'Prov label'] = 'NL'\n",
    "\n",
    "prov_data_df.loc[prov_data_df['Prov'] == 11, 'Prov label'] = 'Prince Edward Island'\n",
    "\n",
    "prov_data_df.loc[prov_data_df['Prov'] == 12, 'Prov label'] = 'Nova Scotia'\n",
    "\n",
    "prov_data_df.loc[prov_data_df['Prov'] == 13, 'Prov label'] = 'New Brunswick'\n",
    "\n",
    "prov_data_df.loc[prov_data_df['Prov'] == 24, 'Prov label'] = 'Quebec'\n",
    "\n",
    "prov_data_df.loc[prov_data_df['Prov'] == 35, 'Prov label'] = 'Ontario'\n",
    "\n",
    "prov_data_df.loc[prov_data_df['Prov'] == 46, 'Prov label'] = 'Manitoba'\n",
    "\n",
    "prov_data_df.loc[prov_data_df['Prov'] == 47, 'Prov label'] = 'Saskatchewan'\n",
    "\n",
    "prov_data_df.loc[prov_data_df['Prov'] == 48, 'Prov label'] = 'Alberta'\n",
    "\n",
    "prov_data_df.loc[prov_data_df['Prov'] == 59, 'Prov label'] = 'British Columbia'\n",
    "\n",
    "prov_data_df.loc[prov_data_df['Prov'] >= 96, 'Prov label'] = None\n",
    "\n",
    "prov_data_df.head()"
   ]
  },
  {
   "cell_type": "markdown",
   "metadata": {
    "slideshow": {
     "slide_type": "slide"
    }
   },
   "source": [
    "## Is time spent resting different by province?\n",
    "\n",
    "### Grouped summaries of data \n",
    "\n",
    "- Many times we will want to calculate means, proportions, and other statistics by group membership.\n",
    "\n",
    "- This is so common that `pandas` has a built-in function called `groupby` that groups a data frame by another variable."
   ]
  },
  {
   "cell_type": "code",
   "execution_count": null,
   "metadata": {
    "slideshow": {
     "slide_type": "fragment"
    }
   },
   "outputs": [],
   "source": [
    "prov_data_df.head()"
   ]
  },
  {
   "cell_type": "code",
   "execution_count": null,
   "metadata": {
    "slideshow": {
     "slide_type": "slide"
    }
   },
   "outputs": [],
   "source": [
    "grouped_by_prov = prov_data_df.groupby('Prov') #group the dataframe by prov\n",
    "\n",
    "type(grouped_by_prov)"
   ]
  },
  {
   "cell_type": "code",
   "execution_count": null,
   "metadata": {
    "slideshow": {
     "slide_type": "fragment"
    }
   },
   "outputs": [],
   "source": [
    "rest_by_prov_mean = grouped_by_prov['Sleep duration (hours)'].mean()\n",
    "\n",
    "rest_by_prov_mean"
   ]
  },
  {
   "cell_type": "markdown",
   "metadata": {
    "slideshow": {
     "slide_type": "fragment"
    }
   },
   "source": [
    "`rest_by_prov_mean` is a pandas Series with indexed by `Prov`."
   ]
  },
  {
   "cell_type": "code",
   "execution_count": null,
   "metadata": {
    "slideshow": {
     "slide_type": "fragment"
    }
   },
   "outputs": [],
   "source": [
    "type(rest_by_prov_mean)"
   ]
  },
  {
   "cell_type": "markdown",
   "metadata": {
    "slideshow": {
     "slide_type": "slide"
    }
   },
   "source": [
    "## DataFrame Index"
   ]
  },
  {
   "cell_type": "code",
   "execution_count": null,
   "metadata": {
    "slideshow": {
     "slide_type": "fragment"
    }
   },
   "outputs": [],
   "source": [
    "rest_by_prov_mean.index"
   ]
  },
  {
   "cell_type": "markdown",
   "metadata": {
    "slideshow": {
     "slide_type": "fragment"
    }
   },
   "source": [
    "From the \n",
    "\n",
    "```\n",
    "  prv                Province of residence\n",
    "\n",
    "           VALUE  LABEL\n",
    "              10  Newfoundland and Labroador\n",
    "              11  Prince Edward Island\n",
    "              12  Nova Scotia\n",
    "              13  New Brunswick\n",
    "              24  Quebec\n",
    "              35  Ontario\n",
    "              46  Manitoba\n",
    "              47  Saskatchewan\n",
    "              48  Alberta\n",
    "              59  British Columbia\n",
    "              96  Valid skip\n",
    "              97  Don't know\n",
    "              98  Refusal\n",
    "              99  Not stated\n",
    "\n",
    "           Data type: numeric\n",
    "           Missing-data codes: 96-99\n",
    "           Record/columns: 1/57-58\n",
    "\n",
    "```"
   ]
  },
  {
   "cell_type": "markdown",
   "metadata": {
    "slideshow": {
     "slide_type": "subslide"
    }
   },
   "source": [
    "We can reindex `rest_by_prov_mean`."
   ]
  },
  {
   "cell_type": "code",
   "execution_count": null,
   "metadata": {
    "slideshow": {
     "slide_type": "fragment"
    }
   },
   "outputs": [],
   "source": [
    "index_new = [\n",
    "    'Newfoundland and Labrador', \n",
    "    'Prince Edward Island', \n",
    "    'Nova Scotia', \n",
    "    'New Brunswick',\n",
    "    'Quebec',\n",
    "    'Ontario', \n",
    "    'Manitoba',\n",
    "    'Saskatchewan', \n",
    "    'Alberta',\n",
    "    'British Columbia'\n",
    "]\n",
    "\n",
    "rest_by_prov_mean.index = index_new\n",
    "\n",
    "rest_by_prov_mean"
   ]
  },
  {
   "cell_type": "markdown",
   "metadata": {
    "slideshow": {
     "slide_type": "slide"
    }
   },
   "source": [
    "## Summing across rows of a DataFrame\n",
    "\n",
    "How much time is spent by each respondent sleeping and working?\n",
    "\n",
    "The average time spent sleeping and working by province is:"
   ]
  },
  {
   "cell_type": "code",
   "execution_count": null,
   "metadata": {
    "slideshow": {
     "slide_type": "subslide"
    }
   },
   "outputs": [],
   "source": [
    "restwork_by_prov_mean = grouped_by_prov[['Sleep duration', 'Work duration']].mean()\n",
    "\n",
    "restwork_by_prov_mean"
   ]
  },
  {
   "cell_type": "markdown",
   "metadata": {
    "slideshow": {
     "slide_type": "slide"
    }
   },
   "source": [
    "## Two different ways to calulate row totals\n",
    "\n",
    "> There are more but we will focus on the two methods."
   ]
  },
  {
   "cell_type": "markdown",
   "metadata": {
    "slideshow": {
     "slide_type": "fragment"
    }
   },
   "source": [
    "We would like to calculate the total mean time spent sleeping and working."
   ]
  },
  {
   "cell_type": "code",
   "execution_count": null,
   "metadata": {
    "slideshow": {
     "slide_type": "fragment"
    }
   },
   "outputs": [],
   "source": [
    "restwork_by_prov_mean['Total1'] = restwork_by_prov_mean['Sleep duration'] + restwork_by_prov_mean['Work duration']\n",
    "\n",
    "restwork_by_prov_mean.head()\n"
   ]
  },
  {
   "cell_type": "code",
   "execution_count": null,
   "metadata": {
    "slideshow": {
     "slide_type": "subslide"
    }
   },
   "outputs": [],
   "source": [
    "restwork_by_prov_mean['Total2'] = restwork_by_prov_mean[['Sleep duration','Work duration']].sum(\n",
    "    axis = 1 # sum across all columns \n",
    ")\n",
    "\n",
    "restwork_by_prov_mean.head()"
   ]
  },
  {
   "cell_type": "markdown",
   "metadata": {},
   "source": [
    "- In pandas `axis = 1` refers to columns and `axis = 0` refers to rows.\n",
    "- `DataFrame.sum(axis = 1)`: sum across columns \n",
    "- `DataFrame.sum(axis = 0)`: sum across rows."
   ]
  },
  {
   "cell_type": "markdown",
   "metadata": {
    "slideshow": {
     "slide_type": "slide"
    }
   },
   "source": [
    "## Statistical Variables\n",
    "\n",
    "\n",
    "- A **categorical variable** is a variable for which the measurement scale consists of a set of categories.  For example, time use has ten categories or **levels**.  These types of variables are very common in social and biomedical sciences, and many other areas. "
   ]
  },
  {
   "cell_type": "markdown",
   "metadata": {
    "slideshow": {
     "slide_type": "fragment"
    }
   },
   "source": [
    "- Categorical variables that don't have a natural ordering is called a **nominal variable**. "
   ]
  },
  {
   "cell_type": "markdown",
   "metadata": {
    "slideshow": {
     "slide_type": "fragment"
    }
   },
   "source": [
    "- If a categorical variable has a natural ordering it is called an **ordinal variable**.  For example, if **levels** `96` (valid skip), `97` (Don't know), `98` (Refusal), `99` (Not stated) are removed from `gtu_110` then time use would be considered an ordinal variable since it's ordered from feeling rushed `Every day` (`1`) to feeling rushed `Never` (`6`). "
   ]
  },
  {
   "cell_type": "markdown",
   "metadata": {
    "slideshow": {
     "slide_type": "subslide"
    }
   },
   "source": [
    "- **Ordinal variables** clearly order categories, but the \"distance\" between categories are unknown. A person categorized as feeling rushed `About once a week` feels more rushed than someone who feels rushed `About once a month`, although we cannot give a numnerical value for how much more rushed that person is."
   ]
  },
  {
   "cell_type": "markdown",
   "metadata": {
    "slideshow": {
     "slide_type": "fragment"
    }
   },
   "source": [
    "- An **interval variable** is one that does have numerical distances between any two levels of the measurement scale.  For example, age measured in years is an interval variable."
   ]
  },
  {
   "cell_type": "markdown",
   "metadata": {
    "slideshow": {
     "slide_type": "fragment"
    }
   },
   "source": [
    "- Time use is an example of an **interval (statistical) variable**."
   ]
  },
  {
   "cell_type": "markdown",
   "metadata": {
    "slideshow": {
     "slide_type": "slide"
    }
   },
   "source": [
    "## What's the difference between a Statistical Variable and a Variable in python?\n",
    "\n",
    "- A variable in python is a location in computer memory to store a value.\n",
    "\n",
    "- A statistical variable is essentially a mathematical representation of data."
   ]
  },
  {
   "cell_type": "markdown",
   "metadata": {
    "slideshow": {
     "slide_type": "subslide"
    }
   },
   "source": [
    "## Examples of implementing statistical variables in python\n",
    "\n",
    "If 10 people are *randomly* selected, and asked how many minutes they slept last night, then this data could be represented by an **interval variable**.\n",
    "   + In python the data could be represented in `pandas.Series`, where the `Series` data type is float.\n",
    "\n",
    "If 10 people are *randomly* selected, and asked if they live in urban or rural areas, then this data could be represented by an **categorical variable**.\n",
    "   + In python the data could be represented in `pandas.Series`, where the `Series` data type is Boolean (`True` if urban, and `False` if not urban).\n",
    "\n",
    "\n"
   ]
  },
  {
   "cell_type": "markdown",
   "metadata": {
    "slideshow": {
     "slide_type": "slide"
    }
   },
   "source": [
    "## Statistical Distributions\n",
    "\n",
    "- What is a statistical distribution?\n",
    "\n",
    "- How can a distribution be summarized?\n",
    "\n",
    "- What questions can we answer using a distribution? "
   ]
  },
  {
   "cell_type": "markdown",
   "metadata": {
    "slideshow": {
     "slide_type": "slide"
    }
   },
   "source": [
    "## What is the distribution of kids under 14 in Ontario?"
   ]
  },
  {
   "cell_type": "markdown",
   "metadata": {
    "slideshow": {
     "slide_type": "fragment"
    }
   },
   "source": [
    "1. Select rows in `prov_data_df` where `Prov label` is `Ontario`\n",
    "\n",
    "2. Select the column `Kids under 14`\n",
    "\n",
    "3. Compute the number of respondents who have 0 kids, 1 kid, etc. using `.value_counts()`"
   ]
  },
  {
   "cell_type": "code",
   "execution_count": null,
   "metadata": {
    "slideshow": {
     "slide_type": "fragment"
    }
   },
   "outputs": [],
   "source": [
    "Ontkidsdist = prov_data_df.loc[\n",
    "    prov_data_df['Prov label'] == 'Ontario',\n",
    "    'Kids under 14'\n",
    "].value_counts()\n",
    "\n",
    "Ontkidsdist"
   ]
  },
  {
   "cell_type": "code",
   "execution_count": null,
   "metadata": {
    "slideshow": {
     "slide_type": "fragment"
    }
   },
   "outputs": [],
   "source": [
    "print(type(Ontkidsdist))"
   ]
  },
  {
   "cell_type": "markdown",
   "metadata": {
    "slideshow": {
     "slide_type": "subslide"
    }
   },
   "source": [
    "### A bar plot of the distribution of kids under 14 in Ontario"
   ]
  },
  {
   "cell_type": "code",
   "execution_count": null,
   "metadata": {
    "slideshow": {
     "slide_type": "-"
    }
   },
   "outputs": [],
   "source": [
    "Ontkidsdist.plot.bar();"
   ]
  },
  {
   "cell_type": "markdown",
   "metadata": {
    "slideshow": {
     "slide_type": "subslide"
    }
   },
   "source": [
    "If we want to plot proportions instead of counts then we can transform `Ontkidsdist` by dividing by the total number of observations."
   ]
  },
  {
   "cell_type": "code",
   "execution_count": null,
   "metadata": {
    "slideshow": {
     "slide_type": "fragment"
    }
   },
   "outputs": [],
   "source": [
    "Ontkidsdist_prop = Ontkidsdist / Ontkidsdist.sum()\n",
    "Ontkidsdist_prop"
   ]
  },
  {
   "cell_type": "code",
   "execution_count": null,
   "metadata": {
    "slideshow": {
     "slide_type": "fragment"
    }
   },
   "outputs": [],
   "source": [
    "Ontkidsdist_prop.plot.bar();"
   ]
  },
  {
   "cell_type": "markdown",
   "metadata": {
    "slideshow": {
     "slide_type": "subslide"
    }
   },
   "source": [
    "Distribution of counts by province"
   ]
  },
  {
   "cell_type": "code",
   "execution_count": null,
   "metadata": {
    "slideshow": {
     "slide_type": "fragment"
    }
   },
   "outputs": [],
   "source": [
    "prov_data_df.groupby(['Prov label'])['Kids under 14'].value_counts()"
   ]
  },
  {
   "cell_type": "markdown",
   "metadata": {
    "slideshow": {
     "slide_type": "slide"
    }
   },
   "source": [
    "## Summarizing the distribution of an interval variable"
   ]
  },
  {
   "cell_type": "markdown",
   "metadata": {
    "slideshow": {
     "slide_type": "fragment"
    }
   },
   "source": [
    "`dur01` is time spent sleeping, resting, etc. \n",
    "\n",
    "```\n",
    "dur01              Duration - Sleeping, resting, relaxing, sick in bed\n",
    "\n",
    "           VALUE  LABEL\n",
    "               0  No time spent doing this activity\n",
    "            9996  Valid skip\n",
    "            9997  Don't know\n",
    "            9998  Refusal\n",
    "            9999  Not stated\n",
    "\n",
    "           Data type: numeric\n",
    "           Missing-data codes: 9996-9999\n",
    "           Record/columns: 1/65-68\n",
    "```"
   ]
  },
  {
   "cell_type": "code",
   "execution_count": null,
   "metadata": {
    "slideshow": {
     "slide_type": "subslide"
    }
   },
   "outputs": [],
   "source": [
    "Sleepduration = prov_data_df['Sleep duration (hours)']\n",
    "\n",
    "print(type(Sleepduration))\n",
    "\n",
    "Sleepduration.dtypes"
   ]
  },
  {
   "cell_type": "code",
   "execution_count": null,
   "metadata": {
    "slideshow": {
     "slide_type": "fragment"
    }
   },
   "outputs": [],
   "source": [
    "Sleepduration.describe()"
   ]
  },
  {
   "cell_type": "markdown",
   "metadata": {
    "slideshow": {
     "slide_type": "subslide"
    }
   },
   "source": [
    "The distribution of an interval variable are often described as:\n",
    "\n",
    "- a measure of centre such as mean, median, mode\n",
    "\n",
    "- a measure of spread such as standard deviation, inter-quartile range\n",
    "\n",
    "- a measure of range such as the largest value minus the smallest value (or max - min)"
   ]
  },
  {
   "cell_type": "markdown",
   "metadata": {
    "slideshow": {
     "slide_type": "subslide"
    }
   },
   "source": [
    "## Quantiles\n",
    "\n",
    "- The median value is the 50% quantile.  50% of the values fall below this value.  The median is also called the second quartile.\n",
    "\n",
    "- The 25% quantile is the value where 25% of the values fall below.  This is often the first quartile (Q1)  \n",
    "\n",
    "- The 75% quantile is the value where 75% of the values fall below.  This is often the third quartile (Q3)\n",
    "\n",
    "- There are 17390 values.  If we sort sleep duration values from largest to smallest then find the value in the middle (17390 / 2 = 8695) then that value is the median."
   ]
  },
  {
   "cell_type": "markdown",
   "metadata": {
    "slideshow": {
     "slide_type": "subslide"
    }
   },
   "source": [
    "## Variation\n",
    "\n",
    "- One of the most important concepts in statistical reasoning.\n",
    "\n",
    "- Standard deviation is average deviation from the mean.  **Large** values mean large variation and **small** values mean small variation.   \n",
    "\n",
    "- Small samples often have large variation, so estimating a statistic from a small sample is usually less reliable."
   ]
  },
  {
   "cell_type": "markdown",
   "metadata": {
    "slideshow": {
     "slide_type": "slide"
    }
   },
   "source": [
    "## Question\n",
    "\n",
    "A certain town is served by two hospitals. In the larger hospital about 45 babies are born each day, and in the smaller hospital about 15 babies are born each day. As you know, about 50% of all babies are boys. However, the exact percentage varies from day to day. Sometimes it may be higher than 50%, sometimes lower.\n",
    "\n",
    "\n",
    "For a period of 1 year, each hospital recorded the days on which more than 60% of the babies born were boys. Which hospital do you think recorded more such days?\n",
    "\n",
    "- The larger hospital\n",
    "- The smaller hospital\n",
    "- About the same (that is, within 5% of each other) "
   ]
  },
  {
   "cell_type": "markdown",
   "metadata": {
    "slideshow": {
     "slide_type": "subslide"
    }
   },
   "source": [
    "## Histograms\n",
    "\n",
    "Histograms display the frequency distribution of an interval variable.\n",
    "\n"
   ]
  },
  {
   "cell_type": "code",
   "execution_count": null,
   "metadata": {
    "slideshow": {
     "slide_type": "fragment"
    }
   },
   "outputs": [],
   "source": [
    "Sleepduration_hist =  Sleepduration.plot.hist(\n",
    "    bins=10, \n",
    "    edgecolor='black', \n",
    "    color='grey', \n",
    "    figsize = (8, 6)\n",
    ");\n",
    "\n",
    "Sleepduration_hist.set_xlabel('Sleep duration (hours)');"
   ]
  },
  {
   "cell_type": "code",
   "execution_count": null,
   "metadata": {
    "slideshow": {
     "slide_type": "fragment"
    }
   },
   "outputs": [],
   "source": [
    "pd.cut(Sleepduration, bins=10)"
   ]
  },
  {
   "cell_type": "markdown",
   "metadata": {
    "slideshow": {
     "slide_type": "subslide"
    }
   },
   "source": [
    "## Boxplots \n",
    "\n",
    "- Another way to visualize the distribution of an interval variable\n",
    "\n",
    "- A box plot is a method for graphically depicting groups of numerical data through their quartiles. \n",
    "- The box extends from the Q1 to Q3 quartile values of the data, with a line at the median (Q2). \n",
    "- The whiskers extend from the edges of box to show the range of the data. \n",
    "- By default, they extend no more than 1.5 * IQR (IQR = Q3 - Q1) from the edges of the box, ending at the farthest data point within that interval. Outliers are plotted as separate dots."
   ]
  },
  {
   "cell_type": "code",
   "execution_count": null,
   "metadata": {
    "slideshow": {
     "slide_type": "fragment"
    }
   },
   "outputs": [],
   "source": [
    "Sleepduration_boxplot = Sleepduration.plot.box(figsize = (10,8));\n",
    "\n",
    "Sleepduration_boxplot;"
   ]
  },
  {
   "cell_type": "markdown",
   "metadata": {
    "slideshow": {
     "slide_type": "subslide"
    }
   },
   "source": [
    "## Anatomy of a Boxplot\n",
    "\n",
    "![](images/boxplot_anatomy.png)"
   ]
  },
  {
   "cell_type": "markdown",
   "metadata": {
    "slideshow": {
     "slide_type": "subslide"
    }
   },
   "source": [
    "Two pandas methods to create a boxplot are:\n",
    "\n",
    "1. `pandas.DataFrame.plot.box`: plot a Series or columns of a DataFrame\n",
    "   \n",
    "2. `pandas.DataFrame.boxplot`: plot the columns of a DataFrame with easy to use syntax for boxplots by a group.\n",
    "\n"
   ]
  },
  {
   "cell_type": "markdown",
   "metadata": {
    "slideshow": {
     "slide_type": "subslide"
    }
   },
   "source": [
    "Boxplots are helpful for comparing the distributions between groups."
   ]
  },
  {
   "cell_type": "code",
   "execution_count": null,
   "metadata": {
    "slideshow": {
     "slide_type": "fragment"
    }
   },
   "outputs": [],
   "source": [
    "Sleephours_boxplot = prov_data_df.boxplot(\n",
    "    column='Sleep duration (hours)', \n",
    "    by='Prov label', \n",
    "    figsize = (10,8),\n",
    "    rot = 45, \n",
    "    grid = False\n",
    ");\n",
    "\n",
    "Sleephours_boxplot;"
   ]
  },
  {
   "cell_type": "markdown",
   "metadata": {
    "slideshow": {
     "slide_type": "subslide"
    }
   },
   "source": [
    "Compare the distribution of `Sleep duration` and `Work duration` by specifying the `column` parameter of `DataFrame.boxplot` as a list."
   ]
  },
  {
   "cell_type": "code",
   "execution_count": null,
   "metadata": {},
   "outputs": [],
   "source": [
    "Sleepwork_boxplot = prov_data_df.boxplot(\n",
    "    column = ['Sleep duration', 'Work duration'], \n",
    "    by = 'Prov label', \n",
    "    figsize = (10,8), \n",
    "    rot = 90, \n",
    "    grid = False, \n",
    "    layout = (2,1)\n",
    ");\n",
    "\n",
    "Sleepwork_boxplot;"
   ]
  },
  {
   "cell_type": "markdown",
   "metadata": {
    "slideshow": {
     "slide_type": "slide"
    }
   },
   "source": [
    "To further customize the look of your plots, see the [documentation](https://pandas.pydata.org/docs/reference/api/pandas.DataFrame.boxplot.html)."
   ]
  },
  {
   "cell_type": "code",
   "execution_count": null,
   "metadata": {},
   "outputs": [],
   "source": [
    "prov_data_df['Prov label'].unique()"
   ]
  },
  {
   "cell_type": "code",
   "execution_count": null,
   "metadata": {},
   "outputs": [],
   "source": [
    "prov_data_df['Province ordered'] = pd.Categorical(\n",
    "    prov_data_df['Prov label'], categories = [\n",
    "        'NL', \n",
    "        'Prince Edward Island', \n",
    "        'Nova Scotia', \n",
    "        'New Brunswick',\n",
    "        'Quebec',\n",
    "        'Ontario', \n",
    "        'Manitoba',\n",
    "        'Saskatchewan', \n",
    "        'Alberta',\n",
    "        'British Columbia'\n",
    "    ],\n",
    "    ordered = True\n",
    ")\n",
    "Sleepwork_boxplot = prov_data_df.boxplot(\n",
    "    column = ['Sleep duration', 'Work duration'], \n",
    "    by = 'Province ordered', \n",
    "    figsize = (12,8), \n",
    "    rot = 0, \n",
    "    grid = False, \n",
    "    layout = (1,2),\n",
    "    vert = False\n",
    ");\n",
    "print(type(Sleepwork_boxplot[0]));\n",
    "Sleepwork_boxplot[0].set_ylabel(None);\n",
    "Sleepwork_boxplot;\n"
   ]
  }
 ],
 "metadata": {
  "celltoolbar": "Slideshow",
  "kernelspec": {
   "display_name": "Python 3 (ipykernel)",
   "language": "python",
   "name": "python3"
  },
  "language_info": {
   "codemirror_mode": {
    "name": "ipython",
    "version": 3
   },
   "file_extension": ".py",
   "mimetype": "text/x-python",
   "name": "python",
   "nbconvert_exporter": "python",
   "pygments_lexer": "ipython3",
   "version": "3.10.13"
  },
  "vscode": {
   "interpreter": {
    "hash": "e99c9d7051edba512142d3281c215b415485f48974dc8484b73c151847956a71"
   }
  }
 },
 "nbformat": 4,
 "nbformat_minor": 4
}
