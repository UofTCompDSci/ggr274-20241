{
 "cells": [
  {
   "cell_type": "markdown",
   "id": "fb8a902c",
   "metadata": {},
   "source": [
    "# GGR274 Lab 5: Data Transformations, Grouped Data, and Data Visualization\n",
    "\n",
    "## Logistics\n",
    "\n",
    "Like last week, our lab grade will be based on attendance and submission of a few small tasks to MarkUs during the lab session (or by 23:59 on Thursday).\n",
    "\n",
    "Complete the tasks in this Jupyter notebook and submit your completed file to [MarkUs](https://markus-ds.teach.cs.toronto.edu).\n",
    "Here are the instructions for submitting to MarkUs (same as last week):\n",
    "\n",
    "1. Download this file (`Lab_5.ipynb`) from JupyterHub. (See [our JupyterHub Guide](../../../guides/jupyterhub_guide.ipynb) for detailed instructions.)\n",
    "2. Submit this file to MarkUs under the **lab5** assignment. (See [our MarkUs Guide](../../../guides/markus_guide.ipynb) for detailed instructions.)\n",
    "\n",
    "Note: there's no autograding set up for this week's lab, but your TA will be checking that your submitted lab file is complete as part of your \"lab attendance\" grade."
   ]
  },
  {
   "cell_type": "markdown",
   "id": "eb7b6510",
   "metadata": {},
   "source": [
    "## Lab 5 Introduction"
   ]
  },
  {
   "cell_type": "markdown",
   "id": "b23a02d9",
   "metadata": {},
   "source": [
    "In this lab, you will work with  a data set called `time_use_prov`. This is a data set is derived from the Statistics Canada General Social Survey's (GSS) Time Use (TU) Survey Main File, as well as a data set containing information on aggregated provincial data. This week you will plot box plots, bar graphs, and use the logical operators from Week 4 material to develop subset data sets to visualize data on.\n",
    "\n",
    "As usual, these labs are meant to facilitate your understanding of the material from lectures in a low-stakes environment. Please feel free to refer to your lecture content, collaborate with your peers, and seek out help from your TAs."
   ]
  },
  {
   "cell_type": "markdown",
   "id": "59d3fe4c",
   "metadata": {},
   "source": [
    "## Task 1\n",
    "\n",
    "Read CSV file `'time_use_prov.csv'` into a pandas `DataFrame` named `prov_data`."
   ]
  },
  {
   "cell_type": "code",
   "execution_count": null,
   "id": "a8822e1b",
   "metadata": {},
   "outputs": [],
   "source": [
    "import pandas as pd\n",
    "\n",
    "# Write your code here"
   ]
  },
  {
   "cell_type": "markdown",
   "id": "188aa9c5",
   "metadata": {},
   "source": [
    "## Task 2"
   ]
  },
  {
   "cell_type": "markdown",
   "id": "1600e5b2",
   "metadata": {},
   "source": [
    "a) Create a new column in `prov_data` named `'age_bin'`.  The values of `'age_bin'` should be obtained from the `'age'` column in `prov_data` which has the values:\n",
    "\n",
    "```\n",
    "            Age group of respondent (groups of 10)\n",
    "\n",
    "           VALUE  LABEL\n",
    "               1  15 to 24 years\n",
    "               2  25 to 34 years\n",
    "               3  35 to 44 years\n",
    "               4  45 to 54 years\n",
    "               5  55 to 64 years\n",
    "               6  65 to 74 years\n",
    "               7  75 years and over\n",
    "              96  Valid skip\n",
    "              97  Don't know\n",
    "              98  Refusal\n",
    "              99  Not stated\n",
    "```\n",
    "\n",
    "`'age_bin'` should have the values `'youth'`, `'young'`, `'middle'`, `'senior'` defined as :\n",
    "\n",
    "- `'youth'`  : ages 15-24\n",
    "- `'young'`  : ages 25-44\n",
    "- `'middle'` : ages 45-64\n",
    "- `'senior'` : ages 65+"
   ]
  },
  {
   "cell_type": "code",
   "execution_count": null,
   "id": "fd74e2c7",
   "metadata": {},
   "outputs": [],
   "source": [
    "# Write your code here\n"
   ]
  },
  {
   "cell_type": "markdown",
   "id": "aba81c81",
   "metadata": {},
   "source": [
    "b) Compute the distribution of `age_bin` as a count, and store this in `age_bin_count_dist`. Then compute `age_bin` as a proportion of the total population, and store this in `age_bin_prop_dist`."
   ]
  },
  {
   "cell_type": "code",
   "execution_count": null,
   "id": "bedfefe4",
   "metadata": {},
   "outputs": [],
   "source": [
    "# Write your code here\n"
   ]
  },
  {
   "cell_type": "markdown",
   "id": "5a4bdd0e",
   "metadata": {},
   "source": [
    "c) Sort the values of `age_bin_prop_dist` in ascending order (smallest to largest) using the `sort_values` method.  The code is\n",
    "\n",
    "```python\n",
    "age_bin_prop_dist.sort_values(ascending = True, inplace = True)\n",
    "```\n",
    "\n",
    "The `inplace = True` parameter in `sort_values` modifies `age_bin_prop_dist`.  What do you predict would happen to `age_bin_prop_dist` if we used `age_bin_prop_dist.sort_values(ascending=True, inplace = False)` instead? "
   ]
  },
  {
   "cell_type": "code",
   "execution_count": null,
   "id": "2404fcf6",
   "metadata": {},
   "outputs": [],
   "source": [
    "# Write your code here\n"
   ]
  },
  {
   "cell_type": "markdown",
   "id": "12ea67d5",
   "metadata": {},
   "source": [
    "c) Create a bar plot of `age_bin_prop_dist`. \n",
    "\n",
    "_Feel free to explore different aesthetic options by changing paramters for the plotting function. (See the documentation [here](https://pandas.pydata.org/docs/reference/api/pandas.DataFrame.plot.bar.html).)_"
   ]
  },
  {
   "cell_type": "code",
   "execution_count": null,
   "id": "c48a475c",
   "metadata": {},
   "outputs": [],
   "source": [
    "# Write your code here\n"
   ]
  },
  {
   "cell_type": "markdown",
   "id": "a1a81ca6",
   "metadata": {},
   "source": [
    "## Task 3\n",
    "\n",
    "a) Create a boxplot of `Sleep duration` by `age_bin`.  Store this plot in `sleep_by_age_boxplots`.  Use `figsize = (8, 8)` in the `pandas.DataFrame.boxplot` function. \n",
    "\n",
    "b) Set the label on the y-axis (vertical axis) to `Sleep duration` by using the `.set_ylabel()` method, as follows:\n",
    "\n",
    "```python\n",
    "sleep_by_age_boxplots.set_ylabel('Sleep duration')\n",
    "```\n",
    "\n",
    "_Feel free to customize the plot further to your liking with the help of the [documention](https://pandas.pydata.org/docs/reference/api/pandas.DataFrame.boxplot.html)._"
   ]
  },
  {
   "cell_type": "code",
   "execution_count": null,
   "id": "b855ae66",
   "metadata": {},
   "outputs": [],
   "source": [
    "# Write your code here\n"
   ]
  }
 ],
 "metadata": {
  "kernelspec": {
   "display_name": "Python 3",
   "language": "python",
   "name": "python3"
  },
  "language_info": {
   "codemirror_mode": {
    "name": "ipython",
    "version": 3
   },
   "file_extension": ".py",
   "mimetype": "text/x-python",
   "name": "python",
   "nbconvert_exporter": "python",
   "pygments_lexer": "ipython3",
   "version": "3.7.4"
  },
  "vscode": {
   "interpreter": {
    "hash": "8b8edaa195e148f815789564e9a10f57d8b792ac9e1a5daafce5fbae42bebd0e"
   }
  }
 },
 "nbformat": 4,
 "nbformat_minor": 5
}
