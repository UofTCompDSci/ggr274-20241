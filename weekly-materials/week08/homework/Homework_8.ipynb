{
 "cells": [
  {
   "cell_type": "markdown",
   "id": "bd13e811",
   "metadata": {},
   "source": [
    "# GG274 Homework 8: Hypothesis Testing\n",
    "\n",
    "## Logistics\n",
    "\n",
    "**Due date**: The homework is due 23:59 on Monday, March 11.\n",
    "\n",
    "You will submit your work on [MarkUs](https://markus-ds.teach.cs.toronto.edu).\n",
    "To submit your work:\n",
    "\n",
    "1. Download this file (`Homework_8.ipynb`) from JupyterHub. (See [our JupyterHub Guide](../../../guides/jupyterhub_guide.ipynb) for detailed instructions.)\n",
    "2. Submit this file to MarkUs under the **hw8** assignment. (See [our MarkUs Guide](../../../guides/markus_guide.ipynb) for detailed instructions.)\n",
    "All homeworks will take place in a Jupyter notebook (like this one). When you are done, you will download this notebook and submit it to MarkUs.\n",
    "\n",
    "### Piloting MarkUs JupyterHub Extension (optional)\n",
    "\n",
    "We're piloting a new way to submit files to MarkUs directly from JupyterHub (without needing to download them). This is **optional** so you can still submit your work the usual way, but if you have some time please try it out by following the instructions on the [MarkUs Guide](../../../guides/markus_guide.ipynb)."
   ]
  },
  {
   "cell_type": "markdown",
   "id": "8442f7a6",
   "metadata": {},
   "source": [
    "## Introduction\n",
    "\n",
    "Residential instability is one component of the [Ontario Marginalization Index](https://www.publichealthontario.ca/-/media/Documents/O/2017/on-marg-technical.pdf?la=en≻lang=en&hash=EED54DF437EDEDA2DFE1A00A4B14A50A) that includes indicators of types and density of residential accommodations, and certain family structure characteristics, such as living alone and dwelling owndership. ([see OCHPP](https://www.ontariohealthprofiles.ca/canmargCAN.php))\n",
    "\n",
    "In this homework you will explore the following question:\n",
    "\n",
    "> **Are mental health visits different in Toronto neighbourhoods with higher \"residential instability\"?**"
   ]
  },
  {
   "cell_type": "code",
   "execution_count": null,
   "id": "498ebc38",
   "metadata": {},
   "outputs": [],
   "source": [
    "import numpy as np\n",
    "import pandas as pd\n",
    "%pip install xlrd"
   ]
  },
  {
   "cell_type": "markdown",
   "id": "dd16cb9a",
   "metadata": {},
   "source": [
    "## Step 1 - Read the Neighbourhood Instability data into a `pandas` `DataFrame`\n",
    "\n",
    "a)  The data is stored in `1_marg_neighb_toronto_2006_OnMarg.xls` - a Microsoft Excel file format with file extension `.xls`.\n",
    "\n",
    "Use the `pandas` function `read_excel` to read the sheet `Neighbourhood_Toronto_OnMarg` into a `pandas` `DataFrame` named `marg_neighb`. \n"
   ]
  },
  {
   "cell_type": "code",
   "execution_count": null,
   "id": "0e70a55c",
   "metadata": {},
   "outputs": [],
   "source": [
    "# Write your code below\n"
   ]
  },
  {
   "cell_type": "markdown",
   "id": "a9b80a4d",
   "metadata": {},
   "source": [
    "Use `marg_neighb` to create a another `DataFrame` called `instability_df` that has three columns: `'Neighb id ', 'Neighbourhood name ', 'INSTABILITY'`."
   ]
  },
  {
   "cell_type": "code",
   "execution_count": null,
   "id": "260275b5",
   "metadata": {},
   "outputs": [],
   "source": [
    "# Write your code below\n"
   ]
  },
  {
   "cell_type": "markdown",
   "id": "ba21291a",
   "metadata": {},
   "source": [
    "b) Rename the column names of `instability_df` using the following table.  The DataFrame with the new column names should be called `instability_df` (i.e., don't change the name of the DataFrame).\n",
    "\n",
    "Original column name | New column name\n",
    "----|----\n",
    "Neighb id | Neighbid\n",
    "INSTABILITY | INSTABILITY\n",
    "Neighbourhood name | name\n"
   ]
  },
  {
   "cell_type": "code",
   "execution_count": null,
   "id": "911d50e5",
   "metadata": {},
   "outputs": [],
   "source": [
    "# Write your code below\n"
   ]
  },
  {
   "cell_type": "markdown",
   "id": "cf32e981",
   "metadata": {},
   "source": [
    "## Step 2 - Read the mental health visit data into a `pandas` `DataFrame`.\n",
    "\n",
    "a) In this step you will read in data on rates of mental health visits stored in `2_ahd_neighb_db_ast_hbp_mhv_copd_2012.xls` into a `pandas` `DataFrame` named `mentalhealth_neighb`.\n"
   ]
  },
  {
   "cell_type": "code",
   "execution_count": null,
   "id": "0243bcf1",
   "metadata": {},
   "outputs": [],
   "source": [
    "# Write your code below\n"
   ]
  },
  {
   "cell_type": "markdown",
   "id": "637787f9",
   "metadata": {},
   "source": [
    "b) Create a new DataFrame `mhvisitrates` by selecting the columns in `mentalhealth_neighb` that corresponds to Neighbourhood ID, Neighbourhood Name, and 'Age-Standardized rate of Mental Health Visits (2012), All Ages 20+' rename this column in `mhvisitrates` to `mhvisitrates_mf`.  When you rename this column don't change the name of the DataFrame `mhvisitrates`."
   ]
  },
  {
   "cell_type": "code",
   "execution_count": null,
   "id": "449b31ab",
   "metadata": {},
   "outputs": [],
   "source": [
    "# Write your code below\n"
   ]
  },
  {
   "cell_type": "markdown",
   "id": "6e4619af",
   "metadata": {},
   "source": [
    "## Step 3 - Merge mental health visits and instability\n",
    "\n",
    "In this step you will merge the `mhvisitrates` with `mentalhealth_neighb`.\n",
    "\n",
    "a) Merge `mhvisitrates` with `instability_df` and name this DataFrame `mhvisitinstab`."
   ]
  },
  {
   "cell_type": "code",
   "execution_count": null,
   "id": "5debecca",
   "metadata": {},
   "outputs": [],
   "source": [
    "# Write your code below\n"
   ]
  },
  {
   "cell_type": "markdown",
   "id": "b748c831",
   "metadata": {},
   "source": [
    "## Step 4\n",
    "\n",
    "a) Create a new column in `mhvisitinstab` named `instab_HL` that categorizes neighbourhoods. The new columns should have two possible values:\n",
    "\n",
    "- `'High'`, if the neighbourhood's INSTABILITY value is greater than or equal to the mean\n",
    "- `'Low'`, if the neighbourhood's INSTABILITY value is less than the mean"
   ]
  },
  {
   "cell_type": "code",
   "execution_count": null,
   "id": "bcf2d441",
   "metadata": {},
   "outputs": [],
   "source": [
    "# Write your code below\n"
   ]
  },
  {
   "cell_type": "markdown",
   "id": "05edf48a",
   "metadata": {},
   "source": [
    "b) Compute the frequency distribution of `instab_HL`. Save the results in `instab_HL_frequencies`.  "
   ]
  },
  {
   "cell_type": "code",
   "execution_count": null,
   "id": "12d2561d",
   "metadata": {},
   "outputs": [],
   "source": [
    "# Write your code below\n"
   ]
  },
  {
   "cell_type": "markdown",
   "id": "66a0de88",
   "metadata": {},
   "source": [
    "c) Is there evidence that Toronto has many neighbourhoods that have residential instability?  Briefly explain. __(1 mark)__"
   ]
  },
  {
   "cell_type": "markdown",
   "id": "10873e1a",
   "metadata": {},
   "source": [
    "> **answer goes here ...**"
   ]
  },
  {
   "cell_type": "markdown",
   "id": "c240f8cb",
   "metadata": {},
   "source": [
    "## Step 5 - Do neighbourhoods with high residential instability have more mental health visits compared to neighbourhoods with low residential instability?\n",
    "\n",
    "a) Use the `DataFrame` `describe` method to compute the distribution of `mhvistrates_mf` in `mhvisitinstab` **grouped by** `instab_HL`.  Store the results in `median_table`."
   ]
  },
  {
   "cell_type": "code",
   "execution_count": null,
   "id": "26535b3d",
   "metadata": {},
   "outputs": [],
   "source": [
    "# Write your code below\n"
   ]
  },
  {
   "cell_type": "markdown",
   "id": "2cd0db75",
   "metadata": {},
   "source": [
    "Use `median_table` to compute the difference in medians between neighbourhoods with high and low instability.  Store this value in `median_diff`. "
   ]
  },
  {
   "cell_type": "code",
   "execution_count": null,
   "id": "978a9570",
   "metadata": {},
   "outputs": [],
   "source": [
    "# Write your code below\n"
   ]
  },
  {
   "cell_type": "markdown",
   "id": "5da0b797",
   "metadata": {},
   "source": [
    "## Step 6 - Set up a simulation in python to test if the medians are equal\n",
    "\n",
    "a) In this step you will write a function `random_shuffle_median` that returns a simulated value of the median difference (a simulated value of the test statistic) of mental health visit rates in neighbourhoods with high versus low residential instability assuming that there really is no difference in mental health visit rates between these types of neighbourhoods.\n",
    "\n",
    "A step-by-step explantion of a similar function was given in lecture, and you can follow this example to help guide you through this step.\n",
    "\n",
    "The function `random_shuffle_median` is started for you below. Your task is to complete the function by filling in the `...`.\n",
    "\n",
    "Try writing a meaningful docstring for `random_shuffle_median`.  The `pandas` [docstring guide](https://pandas.pydata.org/docs/development/contributing_docstring.html) has some great examples and guidelines.  (NB: this will not be graded)"
   ]
  },
  {
   "cell_type": "code",
   "execution_count": null,
   "id": "81c53baa",
   "metadata": {},
   "outputs": [],
   "source": [
    "def random_shuffle_median():\n",
    "    \"\"\"\n",
    "    Put your docstring here (optional)\n",
    "    \"\"\"\n",
    "\n",
    "    # shuffle the column of mhvisitinstab that corresponds to high/low instability\n",
    "\n",
    "    instab_HL_shuffle = mhvisitinstab[...].sample(frac=1, replace=False).reset_index(drop = True)\n",
    "    \n",
    "    # calculate the median visit rate for high and low instability neighbourhoods\n",
    "\n",
    "    visitrate_low_shuffle = mhvisitinstab.loc[instab_HL_shuffle == ..., ...].median()\n",
    "    \n",
    "    visitrate_high_shuffle  = mhvisitinstab.loc[instab_HL_shuffle ==  ..., ...].median()\n",
    "    \n",
    "    shuffled_diff = ... - ...\n",
    "    \n",
    "    return shuffled_diff\n"
   ]
  },
  {
   "cell_type": "code",
   "execution_count": null,
   "id": "4b22ef64",
   "metadata": {},
   "outputs": [],
   "source": [
    "print(random_shuffle_median.__doc__)"
   ]
  },
  {
   "cell_type": "markdown",
   "id": "2cd897a2",
   "metadata": {},
   "source": [
    "b) Explain the purpose of \n",
    "\n",
    "```python\n",
    "mhvisitinstab[...].sample(frac=1, replace=False).reset_index(drop = True)\n",
    "```\n",
    "\n",
    "in 1-2 sentences."
   ]
  },
  {
   "cell_type": "markdown",
   "id": "1727b2fb",
   "metadata": {},
   "source": [
    "> **answer goes here**"
   ]
  },
  {
   "cell_type": "markdown",
   "id": "3b012943",
   "metadata": {},
   "source": [
    "## Step 7 - Compute the distribution of simulated values of the median difference assuming the null hypothesis is true\n",
    "\n"
   ]
  },
  {
   "cell_type": "markdown",
   "id": "976af74e",
   "metadata": {},
   "source": [
    "We will use your student number to generate data for this homework. Complete the assignment statement below by typing your student number as an `int`. In other words assign your student number as an integer to the variable `student_number`.\n"
   ]
  },
  {
   "cell_type": "code",
   "execution_count": null,
   "id": "f50aed80",
   "metadata": {},
   "outputs": [],
   "source": [
    "# Replace the ... with your student number\n",
    "student_number = ...\n",
    "\n",
    "# This checks that you correctly typed in your student_number as an int.\n",
    "# Make sure there's no error when you run this cell!\n",
    "assert type(student_number) == int"
   ]
  },
  {
   "cell_type": "markdown",
   "id": "32fb4d54",
   "metadata": {},
   "source": [
    "a) Write a function called `shuffled_diffs` that returns a list.  The function should use a `for` loop that iterates the function `random_shuffle_median` an arbitrary number of times.  The number of times that the `for` loop iterates should be controlled by a function parameter named `number_of_shuffles`. "
   ]
  },
  {
   "cell_type": "code",
   "execution_count": null,
   "id": "9c843e7c",
   "metadata": {},
   "outputs": [],
   "source": [
    "# Write your code below\n"
   ]
  },
  {
   "cell_type": "markdown",
   "id": "f06d8325",
   "metadata": {},
   "source": [
    "b) Use `shuffled_diffs` to compute 10000 simulated median differences between high and low instability neighbourhoods assuming that there is no difference in median mental health visit rates between high and low instability neighbourhoods.  Store the values in `shuffled_diffs_10000`."
   ]
  },
  {
   "cell_type": "code",
   "execution_count": null,
   "id": "2edcc0f2",
   "metadata": {},
   "outputs": [],
   "source": [
    "np.random.seed(student_number)\n",
    "\n",
    "# Write your code below\n"
   ]
  },
  {
   "cell_type": "markdown",
   "id": "c2ec390e",
   "metadata": {},
   "source": [
    "c) Plot the distribution of the 10,000 simulated values stored in `shuffled_diffs_10000` using a `matplotlib` histogram. Name the plot `nullhypothesis_distribution_plot`.  Label the horizontal axis as `'Difference in median visit rates for high and low instability neighbourhoods'` and the vertical axis as `'Frequency'`."
   ]
  },
  {
   "cell_type": "code",
   "execution_count": null,
   "id": "add94761",
   "metadata": {},
   "outputs": [],
   "source": [
    "import matplotlib.pyplot as plt\n",
    "\n",
    "# Write your code below\n"
   ]
  },
  {
   "cell_type": "markdown",
   "id": "e699095a",
   "metadata": {},
   "source": [
    "## Step 8 - Compute the p-value\n",
    "\n",
    "a) Compute the number of simulated differences in medians in `shuffled_diffs_10000` that are greater than or equal to the observed median difference (`median_diff`).  Store this value in `rightextreme`."
   ]
  },
  {
   "cell_type": "code",
   "execution_count": null,
   "id": "1a34886f",
   "metadata": {},
   "outputs": [],
   "source": [
    "# Write your code below\n"
   ]
  },
  {
   "cell_type": "markdown",
   "id": "8391adaf",
   "metadata": {},
   "source": [
    "b) Compute the number of simulated differences in medians in `shuffled_diffs_10000` that are less than the observed median difference (`median_diff`).  Store this value in `leftextreme`."
   ]
  },
  {
   "cell_type": "code",
   "execution_count": null,
   "id": "50e101da",
   "metadata": {},
   "outputs": [],
   "source": [
    "# Write your code below\n"
   ]
  },
  {
   "cell_type": "markdown",
   "id": "117f46b6",
   "metadata": {},
   "source": [
    "c) Use `rightextreme` and `leftextreme` to compute the p-value.  Store the p-value in `pvalue`. "
   ]
  },
  {
   "cell_type": "code",
   "execution_count": null,
   "id": "1cebcf55",
   "metadata": {},
   "outputs": [],
   "source": [
    "# Write your code below\n"
   ]
  },
  {
   "cell_type": "markdown",
   "id": "b40e7f61",
   "metadata": {},
   "source": [
    "## Step 9 - Communicate what you did in the steps above\n",
    "\n",
    "\n",
    "a) In a few sentences introduce the question that you explored in this homework (see the [beginning](#gg274-homework-8-hypothesis-testing) of this homework).  For example, why do you or others think this is an important question?  (__1 mark__)"
   ]
  },
  {
   "cell_type": "markdown",
   "id": "904406ca",
   "metadata": {},
   "source": [
    "> **answer goes here ...**"
   ]
  },
  {
   "cell_type": "markdown",
   "id": "dd1f4fd1",
   "metadata": {},
   "source": [
    "b)  Briefly describe the data sources that you used to answer the question.  Which statistical variables did you use and why did you use these varaibles? (__1 mark__)"
   ]
  },
  {
   "cell_type": "markdown",
   "id": "331f2bb5",
   "metadata": {},
   "source": [
    "> **answer goes here ...**"
   ]
  },
  {
   "cell_type": "markdown",
   "id": "1a773e29",
   "metadata": {},
   "source": [
    "c) What computational and statistical methods or analyses did you use to answer the question?  Briefly describe these methods and how they were used to answer the question.  (__1 mark__)"
   ]
  },
  {
   "cell_type": "markdown",
   "id": "4d0390e8",
   "metadata": {},
   "source": [
    "> **answer goes here ...**"
   ]
  },
  {
   "cell_type": "markdown",
   "id": "a6bc5e37",
   "metadata": {},
   "source": [
    "d) Briefly describe the results of your statistical analysis in a few sentences. (__1 mark__)"
   ]
  },
  {
   "cell_type": "markdown",
   "id": "2affe526",
   "metadata": {},
   "source": [
    "> **answer goes here ...**"
   ]
  },
  {
   "cell_type": "markdown",
   "id": "edd25c8b",
   "metadata": {},
   "source": [
    "e) What conclusions can you draw about the question you set out to answer that is supported by the data and statistical analysis of the data?  State at least one limitation of your conclusions. (See the [USC Research Guide section on study limitations](https://libguides.usc.edu/writingguide/limitations)) (__1 mark__)"
   ]
  },
  {
   "cell_type": "markdown",
   "id": "8d121d9a",
   "metadata": {},
   "source": [
    "> **answer goes here ...**"
   ]
  }
 ],
 "metadata": {
  "kernelspec": {
   "display_name": "Python 3",
   "language": "python",
   "name": "python3"
  },
  "language_info": {
   "codemirror_mode": {
    "name": "ipython",
    "version": 3
   },
   "file_extension": ".py",
   "mimetype": "text/x-python",
   "name": "python",
   "nbconvert_exporter": "python",
   "pygments_lexer": "ipython3",
   "version": "3.7.4"
  },
  "markus": {
   "assessment_id": 139,
   "course_id": 9,
   "url": "https://markus-ds.teach.cs.toronto.edu"
  },
  "vscode": {
   "interpreter": {
    "hash": "440dd12f919b48e435ef15d7652bb5c9f2f802a3e9de582e9da805c841a6f459"
   }
  }
 },
 "nbformat": 4,
 "nbformat_minor": 5
}
