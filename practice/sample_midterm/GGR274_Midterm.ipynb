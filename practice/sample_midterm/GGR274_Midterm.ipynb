{
 "cells": [
  {
   "cell_type": "markdown",
   "id": "a7098cbb",
   "metadata": {},
   "source": [
    "# GGR274 midterm test\n",
    "\n",
    "<mark> **Read this section before starting the test** </mark>\n",
    "\n",
    "## Test Instructions\n",
    "\n",
    "- Complete all six questions below. \n",
    "\n",
    "- The answers to the questions will be submitted on MarkUs using a similar workflow to the lab and homework assignments, except that MarkUs will not give you feedback on passing or failing the autotests.\n",
    "\n",
    "- Answers where you are asked to write python code will be autograded, and written answers will be graded manually by the teaching team.\n",
    "\n",
    "- NB: the student-facing autotesting on MarkUs is not as thorough as for a lab or homework. When you submit and then run the tests, it only checks that you:\n",
    "    + have all the right variable names, and\n",
    "    + the values the names refer to have the expected types.\n",
    "- After the tests are submitted, we will run another autotester to check that the values are correct.\n",
    "\n",
    "\n",
    "\n",
    "## Marking Rubric\n",
    "\n",
    "\n",
    "Section     | 0 | 1 | 2 | 3\n",
    "------------|---|---|---|---\n",
    "python computation steps       |auto test fails | auto test passes | NA | NA \n",
    "Describe what you did to the data (for each part) | No answer | A partial description is given that explains what the python code did to the data| A full description that uses data science terminology is given that explains what the python code did to the data and why this step is important | NA\n",
    "Conclusion (for each part) | No answer | The question is answered but no explanation is given | The question is answered but the explanation is not supported or weakly supported by the data | The question is answered and the explanation is supported by the data \n",
    "\n",
    "__The total number of marks for this test is 34.__\n",
    "\n",
    "\n",
    "## Aids Allowed and Academic Integrity\n",
    "\n",
    "- You are allowed to use any materials from the course or any other written sources (e.g., books, websites). \n",
    "\n",
    "- You are not allowed to directly receive or give help during the test period.  In other words, all work must be your own, and you must not discuss or post any information about this test with anyone during the test period.\n",
    "\n",
    "- As a student, you alone are responsible for ensuring the integrity of your work and for understanding what [constitutes an academic offense](https://www.artsci.utoronto.ca/current/academic-advising-and-support/student-academic-integrity/academic-misconduct).\n",
    "\n",
    "## Time Allowed\n",
    "\n",
    "- The test will be available at 09:00 AM on Tuesday, February 13, and must be submitted on MarkUs (see Submission Instructions) by 11:05 AM on Tuesday, February 13.\n",
    "\n",
    "- Late tests will receive a grade of zero unless you have an approved accommodation from your instructor.\n",
    "\n",
    "## How do I ask a question during the test?\n",
    "\n",
    "- The teaching team will be available during the test on a [zoom class link](https://utoronto.zoom.us/j/86707766870) in case you have any questions during the midterm.\n",
    "\n",
    "- The class discussion forum on Piazza will be disabled during the test period.\n"
   ]
  },
  {
   "cell_type": "markdown",
   "id": "aa32d60a",
   "metadata": {},
   "source": [
    "## Submission Instructions\n",
    "\n",
    "_(Not available for the practice test)_\n",
    "\n",
    "1. Download this notebook using menu item `File —> Download As —> Notebook (.ipynb)`. Save it as `GGR274_Midterm.ipynb`.\n",
    "\n",
    "\n",
    "2. Log in here: https://markus-ds.teach.cs.toronto.edu (Tip: Control/Command-click to open it in a new tab so you can still see these instructions.)\n",
    "\n",
    "\n",
    "3. Choose your course.\n",
    "\n",
    "\n",
    "4. Click the `mt: Midterm` assessment.\n",
    "\n",
    "\n",
    "5. Click the `Submissions` tab. The new page is `mt: Submissions`.\n",
    "\n",
    "\n",
    "6. Click button `Upload File` on the bottom right.\n",
    "\n",
    "\n",
    "7. Click button `Choose Files`.\n",
    "\n",
    "\n",
    "8. Select the `GGR274_Midterm.ipynb` file that you downloaded, then click Save."
   ]
  },
  {
   "cell_type": "markdown",
   "id": "e7facc59",
   "metadata": {},
   "source": [
    "## Introduction\n",
    "\n",
    "In this midterm, you will use data from the Statistics Canada Time Use dataset to explore how time spent on childcare for children 14 years old or younger and feeling rushed differs for two age groups: 35-44 year olds and 55-64 year olds.\n",
    "\n",
    "The code blocks and questions below will guide you through this analysis.\n"
   ]
  },
  {
   "cell_type": "markdown",
   "id": "505e0361",
   "metadata": {},
   "source": [
    "## Question 1\n",
    "\n",
    "Complete the steps below. __(6 marks)__"
   ]
  },
  {
   "cell_type": "markdown",
   "id": "7c215eb0",
   "metadata": {},
   "source": [
    "### Step 1a\n",
    "\n",
    "We will use your student number as data for this midterm. Complete the assignment statement below by typing your student number as an `int`. __(1 mark)__"
   ]
  },
  {
   "cell_type": "code",
   "execution_count": null,
   "id": "8acff5eb",
   "metadata": {},
   "outputs": [],
   "source": [
    "# Answer: delete student number to create handout\n",
    "stnum = "
   ]
  },
  {
   "cell_type": "code",
   "execution_count": null,
   "id": "4222ae18",
   "metadata": {},
   "outputs": [],
   "source": [
    "# check that stnum is type int\n",
    "\n",
    "assert type(stnum) == int"
   ]
  },
  {
   "cell_type": "markdown",
   "id": "ffcd207a",
   "metadata": {},
   "source": [
    "### Step 1b\n",
    "\n",
    "Run the Code cell below to obtain your random seed for Step 3.\n",
    "\n",
    "__NB: Be careful not to modify the Code cell below.__\n",
    "\n",
    "__(1 mark)__"
   ]
  },
  {
   "cell_type": "code",
   "execution_count": null,
   "id": "6a98fb8b",
   "metadata": {},
   "outputs": [],
   "source": [
    "#\n",
    "# CAUTION: Don't modify this code cell\n",
    "#\n",
    "\n",
    "n = len(str(stnum))\n",
    "seed = int(str(stnum)[n-3:n])"
   ]
  },
  {
   "cell_type": "code",
   "execution_count": null,
   "id": "5d5cf8e7",
   "metadata": {},
   "outputs": [],
   "source": []
  },
  {
   "cell_type": "markdown",
   "id": "72058ce9",
   "metadata": {},
   "source": [
    "### Step 2\n",
    "\n",
    "Read CSV file `gss_tu2016_main_file.csv` into a `DataFrame` named `time_use_alldata`. __(1 mark)__"
   ]
  },
  {
   "cell_type": "code",
   "execution_count": null,
   "id": "0cce3324",
   "metadata": {},
   "outputs": [],
   "source": [
    "# put your answer in this cell"
   ]
  },
  {
   "cell_type": "code",
   "execution_count": null,
   "id": "fdbfee1a",
   "metadata": {},
   "outputs": [],
   "source": [
    "# Check that the data makes sense\n",
    "time_use_alldata.head()"
   ]
  },
  {
   "cell_type": "markdown",
   "id": "1604d31f",
   "metadata": {},
   "source": [
    "### Step 3\n",
    "\n",
    "Run the code cell below.  This code uses `pandas.DataFrame.sample` to take a random sample of 75% of the rows from `time_use_alldata`, and names the resulting `DataFrame` `time_use_data`. __(1 mark)__"
   ]
  },
  {
   "cell_type": "code",
   "execution_count": null,
   "id": "0b04aed0",
   "metadata": {},
   "outputs": [],
   "source": [
    "#\n",
    "# CAUTION: Don't modify this code cell\n",
    "#\n",
    "\n",
    "time_use_data = time_use_alldata.sample(frac = 0.75, random_state = seed)"
   ]
  },
  {
   "cell_type": "code",
   "execution_count": null,
   "id": "3846b317",
   "metadata": {},
   "outputs": [],
   "source": [
    "# Check that you have a dataframe with the correct shape\n",
    "\n",
    "expected_shape = (13042, 350)\n",
    "\n",
    "error_msg = 'Go back and run the previous cells.'\n",
    "\n",
    "assert expected_shape == time_use_data.shape, error_msg"
   ]
  },
  {
   "cell_type": "markdown",
   "id": "42f09fbe",
   "metadata": {},
   "source": [
    "### Step 4\n",
    "\n",
    "Briefly describe what you did to the data when you followed the steps for Question 1.  Put your answer in a markdown cell below. __(2 marks)__"
   ]
  },
  {
   "cell_type": "markdown",
   "id": "8747396b",
   "metadata": {},
   "source": [
    "Step 4: Edit this Markdown cell to provide your answer."
   ]
  },
  {
   "cell_type": "markdown",
   "id": "6343113c",
   "metadata": {
    "tags": []
   },
   "source": [
    "## Question 2\n",
    "\n",
    "Complete the steps below. __(6 marks)__\n",
    "\n",
    "### Step 1\n",
    "\n",
    "Create a list of these columns from `time_use_data` and name it `important_columns`:\n",
    "\n",
    "- `'agegr10'`: Age group of respondent in groups of 10\n",
    "- `'sex'`: Sex of respondent\n",
    "- `'gtu_110'`: Feel rushed\n",
    "- `'chh0014c'`: Children in household 0-14 years old\n",
    "- `'dur27'`: Duration Care of household children (<15 years old)\n",
    "\n",
    "__(1 mark)__"
   ]
  },
  {
   "cell_type": "code",
   "execution_count": null,
   "id": "53461519",
   "metadata": {},
   "outputs": [],
   "source": [
    "# put your answer in this cell"
   ]
  },
  {
   "cell_type": "markdown",
   "id": "9edbfc68",
   "metadata": {},
   "source": [
    "### Step 2\n",
    "\n",
    "Use `important_columns` to create a new `DataFrame` from `time_use_data` and name this new `DataFrame` `sub_time_use_data`. __(1 mark)__"
   ]
  },
  {
   "cell_type": "code",
   "execution_count": null,
   "id": "92d2a445",
   "metadata": {},
   "outputs": [],
   "source": [
    "# put your answer in this cell"
   ]
  },
  {
   "cell_type": "code",
   "execution_count": null,
   "id": "50f8178a",
   "metadata": {},
   "outputs": [],
   "source": [
    "# Check your work\n",
    "sub_time_use_data.head()"
   ]
  },
  {
   "cell_type": "markdown",
   "id": "6fe937c6",
   "metadata": {},
   "source": [
    "### Step 3: Create new names for columns\n",
    "\n",
    "In this step you will create a dictionary of column names that will be used in the next step.\n",
    "\n",
    "Create a dictionary named `columnnames` that can be used to rename the columns in `sub_time_use_data` to make them easier to interpret. To save you time typing or cutting-and-pasting the dictionary has been partially completed in the cell below.\n",
    "\n",
    "Here are the old name —> new name mappings and a description of the data in each column.  For example in the first mapping, the old name is `'agegr10'` and the new name is `'age_group'`.\n",
    "```\n",
    "'agegr10' -> 'age_group': Age group of respondent (groups of 10)\n",
    "\n",
    "           VALUE  LABEL\n",
    "               1  15 to 24 years\n",
    "               2  25 to 34 years\n",
    "               3  35 to 44 years\n",
    "               4  45 to 54 years\n",
    "               5  55 to 64 years\n",
    "               6  65 to 74 years\n",
    "               7  75 years and over\n",
    "              96  Valid skip\n",
    "              97  Don't know\n",
    "              98  Refusal\n",
    "              99  Not stated\n",
    "\n",
    "           Data type: numeric\n",
    "           Missing-data codes: 96-99\n",
    "           \n",
    "'sex' -> 'sex': Sex of respondent\n",
    "\n",
    "           VALUE  LABEL\n",
    "               1  Male\n",
    "               2  Female\n",
    "               6  Valid skip\n",
    "               7  Don't know\n",
    "               8  Refusal\n",
    "               9  Not stated\n",
    "\n",
    "           Data type: numeric\n",
    "           Missing-data codes: 6-9\n",
    "\n",
    "'gtu_110' -> 'feel_rushed': General time use - Feel rushed\n",
    "\n",
    "           VALUE  LABEL\n",
    "               1  Every day\n",
    "               2  A few times a week\n",
    "               3  About once a week\n",
    "               4  About once a month\n",
    "               5  Less than once a month\n",
    "               6  Never\n",
    "              96  Valid skip\n",
    "              97  Don't know\n",
    "              98  Refusal\n",
    "              99  Not stated\n",
    "\n",
    "           Data type: numeric\n",
    "           Missing-data codes: 96-99\n",
    "\n",
    "'chh0014c' -> 'number_kids': Child(ren) in household - 0 to 14 years\n",
    "\n",
    "           VALUE  LABEL\n",
    "               0  None\n",
    "               1  One\n",
    "               2  Two\n",
    "               3  Three or more\n",
    "               6  Valid skip\n",
    "               7  Don't know\n",
    "               8  Refusal\n",
    "               9  Not stated\n",
    "\n",
    "           Data type: numeric\n",
    "           Missing-data codes: 6-9\n",
    "\n",
    "'dur27' -> 'childcare_minutes': Duration - Care of household child (<15) - Personal Care\n",
    "\n",
    "           VALUE  LABEL\n",
    "               0  No time spent doing this activity\n",
    "            9996  Valid skip\n",
    "            9997  Don't know\n",
    "            9998  Refusal\n",
    "            9999  Not stated\n",
    "\n",
    "           Data type: numeric\n",
    "           Missing-data codes: 9996-9999\n",
    "```"
   ]
  },
  {
   "cell_type": "markdown",
   "id": "3bb10bdc",
   "metadata": {},
   "source": [
    "Below is a dictionary where we have provided all the keys. Edit the dictionary to add the appropriate values, and don't change the order of the dictionary keys. __(1 mark)__"
   ]
  },
  {
   "cell_type": "code",
   "execution_count": null,
   "id": "6d3e8192",
   "metadata": {},
   "outputs": [],
   "source": [
    "columnnames = {\"agegr10\" : , \n",
    "               \"sex\": ,\n",
    "               \"gtu_110\": ,\n",
    "               \"chh0014c\": ,\n",
    "               \"dur27\": }"
   ]
  },
  {
   "cell_type": "code",
   "execution_count": null,
   "id": "a5b44635",
   "metadata": {},
   "outputs": [],
   "source": [
    "# Check your work\n",
    "columnnames"
   ]
  },
  {
   "cell_type": "markdown",
   "id": "638449db",
   "metadata": {},
   "source": [
    "### Step 4\n",
    "\n",
    "Use `columnnames` from Step 3 to rename the columns of `sub_time_use_data`, and name the new `DataFrame` `sub_time_use_rename`. __(1 mark)__"
   ]
  },
  {
   "cell_type": "code",
   "execution_count": null,
   "id": "cbd8d38f",
   "metadata": {},
   "outputs": [],
   "source": [
    "# put your answer in this cell"
   ]
  },
  {
   "cell_type": "code",
   "execution_count": null,
   "id": "7278e05e",
   "metadata": {},
   "outputs": [],
   "source": [
    "# Check your work\n",
    "sub_time_use_rename.head()"
   ]
  },
  {
   "cell_type": "markdown",
   "id": "7621d29b",
   "metadata": {},
   "source": [
    "### Step 5\n",
    "\n",
    "Briefly describe what you did to the data when you followed the Steps for Question 2.  Put your answer in a markdown cell below. __(2 marks)__  Put your answer in a markdown cell below. __(2 marks)__"
   ]
  },
  {
   "cell_type": "markdown",
   "id": "560d483a",
   "metadata": {},
   "source": [
    "Step 4: Edit this Markdown cell to provide your answer."
   ]
  },
  {
   "cell_type": "markdown",
   "id": "024c32a5",
   "metadata": {},
   "source": [
    "## Question 3\n",
    "\n",
    "Complete the steps below. __(3 marks)__\n",
    "\n",
    "### Step 1\n",
    "\n",
    "Convert the column `'childcare_minutes'`---minutes spent on childcare---in `sub_time_use_rename` to childcare hours by dividing the values in `'childcare_minutes'` by 60.  The transformed values should assigned to a new column in `sub_time_use_rename` named `'childcare_hours'`. __(1 marks)__\n"
   ]
  },
  {
   "cell_type": "code",
   "execution_count": null,
   "id": "83bfa999",
   "metadata": {},
   "outputs": [],
   "source": [
    "# put your answer in this cell"
   ]
  },
  {
   "cell_type": "code",
   "execution_count": null,
   "id": "f5a63d74",
   "metadata": {},
   "outputs": [],
   "source": [
    "# Check your work\n",
    "sub_time_use_rename.head()"
   ]
  },
  {
   "cell_type": "markdown",
   "id": "b7c8ed43",
   "metadata": {},
   "source": [
    "### Step 2\n",
    "\n",
    "Briefly describe what you did to the data when you followed the steps for Question 3. Why does it make sense to convert minutes to hours when measuring time spent on childcare? Put your answer in a markdown cell below. __(2 marks)__  \n"
   ]
  },
  {
   "cell_type": "markdown",
   "id": "7d56dbe3",
   "metadata": {},
   "source": [
    "Step 2: Edit this Markdown cell to provide your answer."
   ]
  },
  {
   "cell_type": "markdown",
   "id": "d64708d2",
   "metadata": {},
   "source": [
    "## Question 4\n",
    "\n",
    "Complete the steps below. __(4 marks)__"
   ]
  },
  {
   "cell_type": "markdown",
   "id": "484ef78e",
   "metadata": {},
   "source": [
    "### Step 1\n",
    "\n",
    "Use `sub_time_use_rename` to:\n",
    "\n",
    "- Create a Boolean `Series` for younger adults that is `True` if a respondent is 35-44 **and** does NOT have missing values (96, 97, 98, 99) in column `'feel_rushed'`.  Name this series `younger_adults`. __(1 mark)__\n",
    "\n",
    "- Create a Boolean `Series` for older adults that is `True` if a respondent is 55-64 **and** does NOT have missing values (96, 97, 98, 99) in column `'feel_rushed'`. Name this series `older_adults`. __(1 mark)__"
   ]
  },
  {
   "cell_type": "code",
   "execution_count": null,
   "id": "0611f310",
   "metadata": {},
   "outputs": [],
   "source": [
    "# put your answer here"
   ]
  },
  {
   "cell_type": "code",
   "execution_count": null,
   "id": "0c0d1bf4",
   "metadata": {},
   "outputs": [],
   "source": [
    "# Check that the value counts make sense.\n",
    "print(younger_adults.value_counts())\n",
    "print(older_adults.value_counts())"
   ]
  },
  {
   "cell_type": "markdown",
   "id": "bcc3c896",
   "metadata": {
    "tags": []
   },
   "source": [
    "### Step 2\n",
    "\n",
    "Briefly describe what you did to the data when you followed Step 1 for Question 4. Why does it make sense to convert minutes to hours when measuring time spent on childcare? Put your answer in a markdown cell below. __(2 marks)__  "
   ]
  },
  {
   "cell_type": "markdown",
   "id": "66b20b06",
   "metadata": {},
   "source": [
    "Step 2: Edit this Markdown cell to provide your answer."
   ]
  },
  {
   "cell_type": "markdown",
   "id": "8fbc6b66",
   "metadata": {},
   "source": [
    "## Question 5\n",
    "\n",
    "Complete the steps below. __(6 marks)__\n",
    "\n",
    "### Step 1\n",
    "\n",
    "Use the `pandas` function `describe` to describe the distribution of:\n",
    "\n",
    "- column `'childcare_hours'` in `sub_time_use_rename` for `younger_adults`. Name the distribution `younger_adults_summary_stats`. __(1 mark)__\n",
    "\n",
    "- column `'childcare_hours'` in `sub_time_use_rename` for `older_adults`.  Name the distribution `older_adults_summary_stats`. __(1 mark)__\n"
   ]
  },
  {
   "cell_type": "code",
   "execution_count": null,
   "id": "c8b51a66",
   "metadata": {},
   "outputs": [],
   "source": [
    "# put your answer here"
   ]
  },
  {
   "cell_type": "code",
   "execution_count": null,
   "id": "d1c11136",
   "metadata": {
    "scrolled": true
   },
   "outputs": [],
   "source": [
    "# Check your work\n",
    "younger_adults_summary_stats"
   ]
  },
  {
   "cell_type": "code",
   "execution_count": null,
   "id": "1a480c9e",
   "metadata": {},
   "outputs": [],
   "source": [
    "# Check your work\n",
    "older_adults_summary_stats"
   ]
  },
  {
   "cell_type": "markdown",
   "id": "6e41891a",
   "metadata": {},
   "source": [
    "### Step 2\n",
    "\n",
    "Use the `pandas` functions `describe` and `groupby` to describe the distributions of the `'childcare_hours'` column in `sub_time_use_rename` for these two subsets of respondents:\n",
    "\n",
    "(a) `younger_adults` by `'feel_rushed'`.  Name this distribution `younger_adults_feelrush_dist`. __(1 mark)__"
   ]
  },
  {
   "cell_type": "code",
   "execution_count": null,
   "id": "e60e99e7",
   "metadata": {},
   "outputs": [],
   "source": [
    "# put your answer is this cell"
   ]
  },
  {
   "cell_type": "code",
   "execution_count": null,
   "id": "a375854d",
   "metadata": {},
   "outputs": [],
   "source": [
    "# Check your work\n",
    "younger_adults_feelrush_dist"
   ]
  },
  {
   "cell_type": "markdown",
   "id": "3bd79fab",
   "metadata": {},
   "source": [
    "(b) `older_adults` by `'feel_rushed'`.  Name this distribution `older_adults__feelrush_dist`. __(1 mark)__"
   ]
  },
  {
   "cell_type": "code",
   "execution_count": null,
   "id": "0da67a85",
   "metadata": {},
   "outputs": [],
   "source": [
    "# put your answer is this cell"
   ]
  },
  {
   "cell_type": "code",
   "execution_count": null,
   "id": "403c7bbd",
   "metadata": {},
   "outputs": [],
   "source": [
    "# Check your work\n",
    "\n",
    "older_adults__feelrush_dist"
   ]
  },
  {
   "cell_type": "markdown",
   "id": "a411f25a",
   "metadata": {
    "tags": []
   },
   "source": [
    "### Step 3\n",
    "\n",
    "Briefly describe what you did to the data when you followed the Steps for Question 5. Put your answer in a markdown cell below. __(2 marks)__  "
   ]
  },
  {
   "cell_type": "markdown",
   "id": "549e6370",
   "metadata": {},
   "source": [
    "Step 3: Edit this Markdown cell to provide your answer."
   ]
  },
  {
   "cell_type": "markdown",
   "id": "673b8912",
   "metadata": {},
   "source": [
    "## Question 6: Draw conclusions\n",
    "\n",
    "Answer the following questions __(9 marks)__:\n",
    "\n",
    "(a) Do younger adults or older adults spend more time caring for children at home?  Briefly explain and provide evidence, based on the analysis you just completed. __(3 marks)__"
   ]
  },
  {
   "cell_type": "markdown",
   "id": "52bd1230",
   "metadata": {},
   "source": [
    "Edit this cell and insert your answer for (a)"
   ]
  },
  {
   "cell_type": "markdown",
   "id": "c70e8a67",
   "metadata": {},
   "source": [
    "(b) A recent article in the Canadian media reported that, \"younger and older adults who spend less time caring for children feel rushed less often\".  Based on your analysis above do you agree or disagree? Use the results of your data analysis to support your answer. __(3 marks)__"
   ]
  },
  {
   "cell_type": "markdown",
   "id": "7c9fdd06",
   "metadata": {},
   "source": [
    "Edit this cell and insert your answer for (b)"
   ]
  },
  {
   "cell_type": "markdown",
   "id": "f126e291",
   "metadata": {},
   "source": [
    "(c) Based on what you understand about when people typically have younger children living with them, does your answer to (b) make sense? Explain why in 3 to 4 sentences. __(3 marks)__"
   ]
  },
  {
   "cell_type": "markdown",
   "id": "6c68a09c",
   "metadata": {},
   "source": [
    "Edit this cell and insert your answer for (c)"
   ]
  }
 ],
 "metadata": {
  "kernelspec": {
   "display_name": "Python 3",
   "language": "python",
   "name": "python3"
  },
  "language_info": {
   "codemirror_mode": {
    "name": "ipython",
    "version": 3
   },
   "file_extension": ".py",
   "mimetype": "text/x-python",
   "name": "python",
   "nbconvert_exporter": "python",
   "pygments_lexer": "ipython3",
   "version": "3.7.4"
  }
 },
 "nbformat": 4,
 "nbformat_minor": 5
}
