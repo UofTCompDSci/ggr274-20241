{
 "cells": [
  {
   "cell_type": "markdown",
   "id": "4bf0a802",
   "metadata": {},
   "source": [
    "# GGR274 Midterm Test\n",
    "\n",
    "<mark> **Read this section before starting the test** </mark>\n",
    "\n",
    "## Test Instructions\n",
    "\n",
    "- The test is divided into eight questions. Complete all questions below.\n",
    "\n",
    "- The answers to the questions will be submitted on MarkUs using a similar workflow to the lab and homework assignments, except that MarkUs will not give you feedback on passing or failing the autotests.\n",
    "\n",
    "- We have provided some code to help you check your programming work in each cell.\n",
    "\n",
    "- Answers where you are asked to write Python code will be autograded, and written answers will be graded manually by the teaching team.\n",
    "\n",
    "## Marking Rubric\n",
    "\n",
    "\n",
    "Section     | 0 | 1 | 2 | 3\n",
    "------------|---|---|---|---\n",
    "python computation steps       |auto test fails | auto test passes | NA | NA \n",
    "Describe what you did to the data (for each part) | No answer | A partial description is given that explains what the python code did to the data| A full description that uses data science terminology is given that explains what the python code did to the data and why this step is important | NA\n",
    "Conclusion (for each part) | No answer | The question is answered but no explanation is given | The question is answered but the explanation is not supported or weakly supported by the data | The question is answered and the explanation is supported by the data \n",
    "\n",
    "\n",
    "## Aids Allowed and Academic Integrity\n",
    "\n",
    "- You are allowed to use any materials from the course or any other written sources (e.g., books, websites). \n",
    "\n",
    "- You are not allowed to directly receive or give help during the test period.  In other words, all work must be your own, and you must not discuss or post any information about this test with anyone during the test period.\n",
    "\n",
    "- As a student, you alone are responsible for ensuring the integrity of your work and for understanding what [constitutes an academic offense](https://www.artsci.utoronto.ca/current/academic-advising-and-support/student-academic-integrity/academic-misconduct).\n",
    "\n",
    "## Time Allowed\n",
    "\n",
    "- The test will be available at 09:00 AM on Tuesday, February 13, and must be submitted on MarkUs (see Submission Instructions) by 11:05 AM on Tuesday, February 13.\n",
    "\n",
    "- Late tests will receive a grade of zero unless you have an approved accommodation from your instructor.\n",
    "\n",
    "## How do I ask a question during the test?\n",
    "\n",
    "- The teaching team will be available during the test on a [zoom class link](https://utoronto.zoom.us/j/86707766870) in case you have any questions during the midterm.\n",
    "\n",
    "- The class discussion forum on Piazza will be disabled during the test period.\n"
   ]
  },
  {
   "cell_type": "markdown",
   "id": "fa9d4025",
   "metadata": {},
   "source": [
    "## Submission Instructions\n",
    "\n",
    "You will submit your work on [MarkUs](https://markus-ds.teach.cs.toronto.edu).\n",
    "To submit your work:\n",
    "\n",
    "1. Download this file (`Midterm.ipynb`) from JupyterHub. (See [our JupyterHub Guide](../../guides/jupyterhub_guide.ipynb) for detailed instructions.)\n",
    "2. Submit this file to MarkUs under the **midterm** assignment. (See [our MarkUs Guide](../../guides/markus_guide.ipynb) for detailed instructions.)\n",
    "All homeworks will take place in a Jupyter notebook (like this one). When you are done, you will download this notebook and submit it to MarkUs.\n"
   ]
  },
  {
   "cell_type": "markdown",
   "id": "e647f035",
   "metadata": {},
   "source": [
    "## Questions\n",
    "\n",
    "Below is an outline of the questions that you will answer in this midterm test.  \n",
    "\n",
    "For your convenience you can keep track of which questions you have answered by ticking off the boxes by adding an `x` in between the square brackets `[  ]`.\n",
    "\n",
    "```\n",
    "- [ ] \n",
    "- [x] \n",
    "```\n",
    "The above Markdown will render like this\n",
    "\n",
    "- [ ] \n",
    "- [x] \n",
    "\n",
    " <mark> **Check marks are not required for full marks. This is to help you stay organized during the test, but please feel free to ignore this if you wish.** </mark>\n",
    "\n",
    "## List of Questions in this Test\n",
    "\n",
    "Below are hyperlinks to individual test questions. A hyperlink back to this section is provided at the end of most questions. \n",
    " \n",
    "\n",
    "- [ ] [Question 1a](#Question-1a) (__1 mark__) \n",
    "\n",
    "\n",
    "- [ ] [Question 1b](#Question-1b) (__1 mark__)\n",
    "\n",
    "\n",
    "- [ ] [Question 2](#Question-2) (__4 marks__)\n",
    "\n",
    "\n",
    "- [ ] [Question 3a](#Question-3a) (__1 mark__)\n",
    "\n",
    "\n",
    "- [ ] [Question 3b](#Question-3b) (__1 mark__)\n",
    "\n",
    "\n",
    "- [ ] [Question 3c](#Question-3c) (__1 mark__)\n",
    "\n",
    "\n",
    "- [ ] [Question 4a](#Question-4a) (__1 mark__)\n",
    "\n",
    "\n",
    "- [ ] [Question 4b](#Question-4b) (__1 mark__)\n",
    "\n",
    "\n",
    "- [ ] [Question 4c](#Question-4c) (__2 marks__)\n",
    "\n",
    "\n",
    "- [ ] [Question 4d](#Question-4d) (__2 marks__)\n",
    "\n",
    "\n",
    "- [ ] [Question 4e](#Question-4e) (__2 marks__)\n",
    "\n",
    "\n",
    "- [ ] [Question 4f](#Question-4f) (__2 marks__)\n",
    "\n",
    "\n",
    "- [ ] [Question 5](#Question-5) (__2 marks__)\n",
    "\n",
    "\n",
    "- [ ] [Question 6](#Question-6) (__2 marks__)\n",
    "\n",
    "\n",
    "- [ ] [Question 7a](#Question-7a) (__4 marks__)\n",
    "\n",
    "\n",
    "- [ ] [Question 7b](#Question-7b) (__1 mark__)\n",
    "\n",
    "\n",
    "- [ ] [Question 7c](#Question-7c) (__1 mark__)\n",
    "\n",
    "  \n",
    "- [ ] [Question 8a](#Question-8a) (__3 marks__)\n",
    "\n",
    "\n",
    "- [ ] [Question 8b](#Question-8b) (__3 marks__)\n",
    "\n",
    "\n",
    "- [ ] [Question 8c](#Question-8c) (__3 marks__)\n",
    "\n",
    "\n",
    "- [ ] [Question 8d](#Question-8d) (__3 marks__)\n",
    "  \n"
   ]
  },
  {
   "cell_type": "code",
   "execution_count": 1,
   "id": "7d0a9256",
   "metadata": {},
   "outputs": [
    {
     "name": "stdout",
     "output_type": "stream",
     "text": [
      "\n",
      "There are 21 question parts.\n",
      "\n",
      "The total number of marks in this test is 41. \n",
      "\n",
      "The total amount of time to complete this test is 120 minutes. \n",
      "\n",
      "👇The test questions start below.👇\n",
      "\n"
     ]
    }
   ],
   "source": [
    "# Compute total marks in this test and print out a nice message.\n",
    "\n",
    "num_question_parts = 21\n",
    "\n",
    "total_test_marks = 41\n",
    "\n",
    "time = 120\n",
    "\n",
    "print(f\"\"\"\n",
    "There are {num_question_parts} question parts.\\n\n",
    "The total number of marks in this test is {total_test_marks}. \\n\n",
    "The total amount of time to complete this test is {time} minutes. \\n\n",
    "\\U0001F447The test questions start below.\\U0001F447\n",
    "\"\"\")"
   ]
  },
  {
   "cell_type": "markdown",
   "id": "1e771606",
   "metadata": {},
   "source": [
    "## Question 1\n",
    "\n",
    "Canada has a current population of 39,401,996, which we have stored below in the variable `canada_population`.\n",
    "\n",
    "Of these, the total number of immigrants is 8,361,505, which we have stored below in the variable `num_immigrants`.\n",
    "\n",
    "*[Take me back to [Questions section](#Questions).]*"
   ]
  },
  {
   "cell_type": "code",
   "execution_count": null,
   "id": "677ed25b",
   "metadata": {},
   "outputs": [],
   "source": [
    "# These variables are given to you. Do not change them!\n",
    "canada_population = \"39,401,996\"\n",
    "num_immigrants = 8361505"
   ]
  },
  {
   "cell_type": "markdown",
   "id": "e4efd6c4",
   "metadata": {},
   "source": [
    "### Question 1a\n",
    "\n",
    "Use the Python functions `int` and `str.replace` to convert `canada_population` to an integer.  \n",
    "\n",
    "Step 1: Use `str.replace(\",\", \"\")` to remove the `,` from the string `'39,401,996'`.  Store the result in `canada_population_no_comma`. __(1 mark)__\n",
    "\n",
    "Step 2: Use `int` to convert `canada_population_no_comma` to an integer.  Store the result in `canada_population_int`. __(1 mark)__\n",
    "\n",
    "*[Take me back to [Questions section](#Questions).]*"
   ]
  },
  {
   "cell_type": "code",
   "execution_count": null,
   "id": "db228f0c",
   "metadata": {},
   "outputs": [],
   "source": [
    "# Write your code here\n"
   ]
  },
  {
   "cell_type": "markdown",
   "id": "287910c5",
   "metadata": {},
   "source": [
    "### Question 1b\n",
    "\n",
    "Use the variables in [Question 1a](#Question-1a) to calculate the *percentage* of Canada's population who are immigrants, as a `float` between 0.00% and 100.00%, rounded to 2 decimal places.\n",
    "Store the result in a variable called `percent_immigrants`. __(1 mark)__\n",
    "\n",
    "*[Take me back to [Questions section](#Questions).]*"
   ]
  },
  {
   "cell_type": "code",
   "execution_count": null,
   "id": "50851f75",
   "metadata": {},
   "outputs": [],
   "source": [
    "# Write your code here\n",
    "\n",
    "\n",
    "# This code is provided for you to check your work\n",
    "print(f\"Percentage of immigrants: {percent_immigrants}%\")"
   ]
  },
  {
   "cell_type": "markdown",
   "id": "08cc2df3",
   "metadata": {},
   "source": [
    "## Question 2\n",
    "\n",
    "We have given you a long string in the code cell below.\n",
    "You have the following tasks:\n",
    "\n",
    "1. First, **split** the string into sentences using the `split()` method with a correct argument. Store the result in a variable called `my_sentences`. __(0.5 mark)__\n",
    "   \n",
    "2. Then, create an empty list called `my_lengths` (__0.5 mark__). \n",
    "3. Using a `for` loop, iterate over `my_sentences`. Split each sentence into words **inside the loop** (use the `split()` method again). You can store the resulting list corresponding to the current sentence in `current_words` variable inside the loop. (__2 marks__).\n",
    "4. Calculate the length of each sentence in words, and append the length to `my_lengths` __(1 mark)__. \n",
    "\n",
    "You can print out your two variables `my_sentences` and `my_lengths` to check your work for this question.\n",
    "Remember you can also print out variables from inside the loop if you want to check intermediary steps.\n",
    "\n",
    "*[Take me back to [Questions section](#Questions).]*"
   ]
  },
  {
   "cell_type": "code",
   "execution_count": null,
   "id": "71a52407",
   "metadata": {},
   "outputs": [],
   "source": [
    "# This variable is given to you: do not change it!\n",
    "mindfulness_statement = \"Breathe deeply. Trust your preparation. Remember: data doesn't judge\"\n",
    "# Write your code here\n",
    "\n",
    "# This code is provided to you to check your work\n",
    "print(my_sentences)\n",
    "print(my_lengths)"
   ]
  },
  {
   "cell_type": "markdown",
   "id": "9e20eee7",
   "metadata": {},
   "source": [
    "## Question 3\n",
    "\n",
    "In the questions below you will use data from the Statistics Canada Time Use dataset to explore how time spent watching TV and using technology differs for two age groups.\n",
    "\n",
    "The code blocks and questions below will guide you through this analysis.\n",
    "\n",
    "*[Take me back to [Questions section](#Questions).]*"
   ]
  },
  {
   "cell_type": "markdown",
   "id": "f726b4a6",
   "metadata": {},
   "source": [
    "### Question 3a\n",
    "\n",
    "We will use your student number as data for this midterm. Complete the assignment statement below by typing your student number as an `int`. In other words assign your student number as an integer to the variable `student_number` __(1 mark)__\n",
    "\n",
    "*[Take me back to [Questions section](#Questions).]*"
   ]
  },
  {
   "cell_type": "code",
   "execution_count": null,
   "id": "6f855177",
   "metadata": {},
   "outputs": [],
   "source": [
    "# Replace the ... with your student number\n",
    "student_number = ...\n",
    "\n",
    "# This checks that you correctly typed in your student_number as an int.\n",
    "# Make sure there's no error when you run this cell!\n",
    "assert type(student_number) == int"
   ]
  },
  {
   "cell_type": "markdown",
   "id": "a600c343",
   "metadata": {},
   "source": [
    "### Question 3b\n",
    "\n",
    "Read the CSV file `gss_tu2016_main_file.csv` into a `DataFrame` and store it in a variable named `time_use_all_data`. __(1 mark)__\n",
    "\n",
    "*[Take me back to [Questions section](#Questions).]*"
   ]
  },
  {
   "cell_type": "code",
   "execution_count": null,
   "id": "6303177d",
   "metadata": {},
   "outputs": [],
   "source": [
    "import pandas as pd\n",
    "\n",
    "\n",
    "# Write your answer in this cell\n",
    "\n",
    "\n",
    "# This code is provided to help you check your work\n",
    "time_use_all_data.head()"
   ]
  },
  {
   "cell_type": "markdown",
   "id": "58d7eb53",
   "metadata": {},
   "source": [
    "### Question 3c\n",
    "\n",
    "Run the code cell below.  This code uses `pandas.DataFrame.sample` to take a random sample of 75% of the rows from `time_use_all_data`, and names the resulting `DataFrame` `time_use_data`. __(1 mark)__\n",
    "\n",
    "*[Take me back to [Questions section](#Questions).]*"
   ]
  },
  {
   "cell_type": "code",
   "execution_count": null,
   "id": "af756597",
   "metadata": {},
   "outputs": [],
   "source": [
    "#\n",
    "# CAUTION: Don't modify this code cell\n",
    "#\n",
    "seed = student_number % 1000\n",
    "time_use_data = time_use_all_data.sample(frac = 0.75, random_state = seed)\n",
    "\n",
    "# The following checks that your DataFrame has the correct shape.\n",
    "# You will automatically get the 1 mark if the first message ('Your time_use_data ... move on!') is printed.\n",
    "\n",
    "if time_use_data.shape == (13042, 350):\n",
    "    print('Your time_use_data variable has the correct shape, and you are ready to move on!')\n",
    "else:\n",
    "    print('Please check that you have entered your student number correctly and have run the previous cells.')"
   ]
  },
  {
   "cell_type": "markdown",
   "id": "b6a13e92",
   "metadata": {
    "tags": []
   },
   "source": [
    "## Question 4\n",
    "\n",
    "### Question 4a\n",
    "\n",
    "Create a list of these column names from `time_use_data` and store this list in a variable named `important_columns`:\n",
    "\n",
    "- `'agegr10'`: Age group of respondent (groups of 10)\n",
    "- `'dur41`: Duration - Socializing or communicating - In person\n",
    "- `'dur42'`: Duration - Socializing or communicating - Using technology\n",
    "\n",
    "**Important: Make sure that the column names in `important_columns` are in the order presented above (i.e., the first element of the list should be `'agegr10'`).** \n",
    "\n",
    "__(1 mark)__\n",
    "\n",
    "*[Take me back to [Questions section](#Questions).]*"
   ]
  },
  {
   "cell_type": "code",
   "execution_count": null,
   "id": "56c1180e",
   "metadata": {},
   "outputs": [],
   "source": [
    "# Write your answer in this cell\n",
    "\n",
    "\n",
    "# Check your work: important_columns should be a list of 3 strings\n",
    "print(f\"important_columns: {important_columns}\")"
   ]
  },
  {
   "cell_type": "markdown",
   "id": "d710a37a",
   "metadata": {},
   "source": [
    "### Question 4b\n",
    "\n",
    "Use `important_columns` to create a new `DataFrame` from `time_use_data` that only contains the three columns listed in [Question 4a](#Question-4a) and store this new `DataFrame` in a variable named `sub_time_use_data`. __(1 mark)__\n",
    "\n",
    "*[Take me back to [Questions section](#Questions).]*"
   ]
  },
  {
   "cell_type": "code",
   "execution_count": null,
   "id": "130aa8cf",
   "metadata": {},
   "outputs": [],
   "source": [
    "# Write your answer in this cell\n",
    "\n",
    "\n",
    "# This code is provided to help you check your work\n",
    "sub_time_use_data.head()"
   ]
  },
  {
   "cell_type": "markdown",
   "id": "87df9096",
   "metadata": {},
   "source": [
    "### Question  4c\n",
    "\n",
    "Briefly describe in plain language what you did to the data when you completed [Question 4a](#Question-4a) and [Question 4b](#Question-4b).  Put your answer in the Markdown cell below. __(2 marks)__\n",
    "\n",
    "*[Take me back to [Questions section](#Questions).]*"
   ]
  },
  {
   "cell_type": "markdown",
   "id": "df0afa30",
   "metadata": {},
   "source": [
    "> **Write your answer to 4c here**"
   ]
  },
  {
   "cell_type": "markdown",
   "id": "92068f58",
   "metadata": {},
   "source": [
    "### Definition of Data Values \n",
    "\n",
    "```\n",
    "agegr10 : Age group of respondent (groups of 10)\n",
    "\n",
    "           VALUE  LABEL\n",
    "               1  15 to 24 years\n",
    "               2  25 to 34 years\n",
    "               3  35 to 44 years\n",
    "               4  45 to 54 years\n",
    "               5  55 to 64 years\n",
    "               6  65 to 74 years\n",
    "               7  75 years and over\n",
    "              96  Valid skip\n",
    "              97  Don't know\n",
    "              98  Refusal\n",
    "              99  Not stated\n",
    "\n",
    "           Data type: numeric\n",
    "           Missing-data codes: 96-99\n",
    "\n",
    "dur41 : Duration - Socializing or communicating - In person\n",
    "\n",
    "    VALUE  LABEL\n",
    "       0  No time spent doing this activity\n",
    "    9996  Valid skip\n",
    "    9997  Don't know\n",
    "    9998  Refusal\n",
    "    9999  Not stated\n",
    "\n",
    "    Data type: numeric\n",
    "    Missing-data codes: 9996-9999\n",
    "\n",
    "dur42 : Duration - Socializing or communicating - Using technology\n",
    "\n",
    "    VALUE  LABEL\n",
    "       0  No time spent doing this activity\n",
    "    9996  Valid skip\n",
    "    9997  Don't know\n",
    "    9998  Refusal\n",
    "    9999  Not stated\n",
    "\n",
    "    Data type: numeric\n",
    "    Missing-data codes: 9996-9999\n",
    "```"
   ]
  },
  {
   "cell_type": "markdown",
   "id": "1503dc38",
   "metadata": {},
   "source": [
    "### Question 4d\n",
    "\n",
    "Using [Code cell 1 written by a Data Scientist](#Code-cell-1-written-by-a-Data-Scientist) below, answer the following question:\n",
    "\n",
    "Which column in `sub_time_use_data` is transformed in that code cell?  Briefly explain how you know. __(2 marks)__\n",
    "\n",
    "*[Take me back to [Questions section](#Questions).]*"
   ]
  },
  {
   "cell_type": "markdown",
   "id": "c0c7e41c",
   "metadata": {},
   "source": [
    "> **Write your answer to 4d here**"
   ]
  },
  {
   "cell_type": "markdown",
   "id": "a4bdd5d7",
   "metadata": {},
   "source": [
    "### Question 4e\n",
    "\n",
    "In the [Code cell 1 written by a Data Scientist](#Code-cell-1-written-by-a-Data-Scientist) below, briefly explain why \n",
    "\n",
    "```python\n",
    "cond = (sub_time_use_data['agegr10'] >= 5) & (sub_time_use_data['agegr10'] <= 7)\n",
    "sub_time_use_data.loc[cond, 'agegr10 recode'] = '55 years and over'\n",
    "``` \n",
    "\n",
    "required 2 logical operators as opposed to 1 used for the other age group created. __(2 marks)__\n",
    "\n",
    "*[Take me back to [Questions section](#Questions).]*"
   ]
  },
  {
   "cell_type": "markdown",
   "id": "a36e7bf2",
   "metadata": {},
   "source": [
    "> **Write your answer to 4e here**"
   ]
  },
  {
   "cell_type": "markdown",
   "id": "c4a671aa",
   "metadata": {},
   "source": [
    "### Code cell 1 written by a Data Scientist\n",
    "\n",
    "Run the code cell below, but do **not** modify the code."
   ]
  },
  {
   "cell_type": "code",
   "execution_count": null,
   "id": "db26b791",
   "metadata": {},
   "outputs": [],
   "source": [
    "# This code was written by a Data Scientist\n",
    "#\n",
    "# CAUTION: Don't modify this code cell\n",
    "#\n",
    "sub_time_use_data = sub_time_use_data.copy()\n",
    "\n",
    "sub_time_use_data.loc[sub_time_use_data['agegr10'] <= 4, 'agegr10 recode'] = '15-54'\n",
    "\n",
    "cond = (sub_time_use_data['agegr10'] >= 5) & (sub_time_use_data['agegr10'] <= 7)\n",
    "\n",
    "sub_time_use_data.loc[cond, 'agegr10 recode'] = '55 years and over'\n",
    "\n",
    "sub_time_use_data.loc[sub_time_use_data['agegr10'] > 7, 'agegr10 recode'] = None"
   ]
  },
  {
   "cell_type": "markdown",
   "id": "8f2c00af",
   "metadata": {},
   "source": [
    "### Code cell 2 written by a Data Scientist\n",
    "\n",
    "Run the code cell below, but do **not** modify the code."
   ]
  },
  {
   "cell_type": "code",
   "execution_count": null,
   "id": "c4f093f9",
   "metadata": {},
   "outputs": [],
   "source": [
    "# This code was written by a Data Scientist\n",
    "#\n",
    "# CAUTION: Don't modify this code cell\n",
    "#\n",
    "column_names = {\n",
    "    'agegr10 recode' : 'Age Group', \n",
    "    'dur41': 'Social in person (min)',\n",
    "    'dur42': 'Social using technology (min)'\n",
    "}\n",
    "\n",
    "sub_time_use_rename = sub_time_use_data.copy()\n",
    "\n",
    "sub_time_use_rename.rename(columns = column_names, inplace = True)\n",
    "sub_time_use_rename = sub_time_use_rename[['Age Group', 'Social in person (min)', 'Social using technology (min)']]"
   ]
  },
  {
   "cell_type": "markdown",
   "id": "7ec539df",
   "metadata": {},
   "source": [
    "### Question 4f\n",
    "\n",
    "In the Markdown cell below, briefly explain what value of the `inplace` parameter was used in the `rename` method in [Code cell 2 written by a Data Scientist](#Code-cell-2-written-by-a-Data-Scientist-is-in-the-code-cell-below), and why it was used. _Hint: You may find this [documentation](https://pandas.pydata.org/docs/reference/api/pandas.DataFrame.rename.html) helpful._ __(2 marks)__\n",
    "\n",
    "*[Take me back to [Questions section](#Questions).]*"
   ]
  },
  {
   "cell_type": "markdown",
   "id": "213d2679",
   "metadata": {},
   "source": [
    "> **Write your answer to 4f here.**"
   ]
  },
  {
   "cell_type": "markdown",
   "id": "f7413540",
   "metadata": {},
   "source": [
    "## Question 5\n",
    "\n",
    "The two socializing or communicating duration columns in `sub_time_use_rename` currently list their times in *minutes*.\n",
    "\n",
    "**Add two new columns** to `sub_time_use_rename` called `'Social in person (hours)'` and `'Social using technology (hours)'`, which contain their respective durations converted into **hours** (by dividing by the number of minutes by 60). __(2 marks, 1 mark each)__\n",
    "\n",
    "\n",
    "*[Take me back to [Questions section](#Questions).]*"
   ]
  },
  {
   "cell_type": "code",
   "execution_count": null,
   "id": "6a38623e",
   "metadata": {},
   "outputs": [],
   "source": [
    "# Write your answer in this cell\n",
    "\n",
    "\n",
    "\n",
    "\n",
    "\n",
    "# Check your work: you should see your two new columns added to sub_time_use_rename\n",
    "sub_time_use_rename.head()"
   ]
  },
  {
   "cell_type": "markdown",
   "id": "416a8be0",
   "metadata": {},
   "source": [
    "## Question 6\n",
    "\n",
    "Use `sub_time_use_rename` to:\n",
    "\n",
    "- Create a boolean `Series` for younger adults that is `True` if a respondent is aged 15-54, and `False` otherwise. Name this series `younger_adults`. __(1 mark)__\n",
    "\n",
    "- Create a boolean `Series` for older adults that is `True` if a respondent is 55 years and older, and `False` otherwise. Name this series `older_adults`. __(1 mark)__\n",
    "\n",
    "*[Take me back to [Questions section](#Questions).]*"
   ]
  },
  {
   "cell_type": "code",
   "execution_count": null,
   "id": "11acf498",
   "metadata": {},
   "outputs": [],
   "source": [
    "# Write your answer here\n",
    "\n",
    "\n",
    "\n",
    "# Check your work\n",
    "print(younger_adults.value_counts())\n",
    "print(older_adults.value_counts())"
   ]
  },
  {
   "cell_type": "markdown",
   "id": "abb060c6",
   "metadata": {},
   "source": [
    "## Question 7\n",
    "\n",
    "### Question 7a\n",
    "\n",
    "Use the `DataFrame` method `describe` to summarize the following distributions:\n",
    "\n",
    "- `'Social in person (hours)'` for the *15-54 age group* in `sub_time_use_rename`. Name the summary of the distribution `younger_adults_in_person_summary`. __(1 mark)__\n",
    "  \n",
    "- `'Social using technology (hours)'` for the *15-54 age group* in `sub_time_use_rename`. Name the summary of the distribution `younger_adults_tech_summary`. __(1 mark)__\n",
    "  \n",
    "- `'Social in person (hours)'` for the *55 years and older age group* in `sub_time_use_rename`. Name the summary of the distribution `older_adults_in_person_summary`. __(1 mark)__\n",
    "  \n",
    "- `'Social using technology (hours)'` for the *55 years and older age group* in `sub_time_use_rename`. Name the summary of the distribution `older_adults_tech_summary`. __(1 mark)__\n",
    "\n",
    "*[Take me back to [Questions section](#Questions).]*"
   ]
  },
  {
   "cell_type": "code",
   "execution_count": null,
   "id": "435dacef",
   "metadata": {},
   "outputs": [],
   "source": [
    "# Write your answer here\n",
    "\n",
    "\n",
    "\n",
    "\n"
   ]
  },
  {
   "cell_type": "code",
   "execution_count": null,
   "id": "672fe86b",
   "metadata": {
    "scrolled": true
   },
   "outputs": [],
   "source": [
    "# Check your work (15-54 age group)\n",
    "print(younger_adults_in_person_summary)\n",
    "print(younger_adults_tech_summary)"
   ]
  },
  {
   "cell_type": "code",
   "execution_count": null,
   "id": "d58af4ab",
   "metadata": {},
   "outputs": [],
   "source": [
    "# Check your work (55+ age group)\n",
    "print(older_adults_in_person_summary)\n",
    "print(older_adults_tech_summary)"
   ]
  },
  {
   "cell_type": "markdown",
   "id": "f1250a16",
   "metadata": {},
   "source": [
    "### Question 7b\n",
    "\n",
    "Below `sub_time_use_prop = sub_time_use_rename.copy()` creates a copy of `sub_time_use_rename` named `sub_time_use_prop`. \n",
    "\n",
    "Add a new column named `In person socializing proportion` to `sub_time_use_prop` which contains the following proportion:\n",
    "\n",
    "$$\\frac{\\text{Time spent socializing or communicating in person in hours}}{\\text{Time spent socializing or communicating in person in hours} + \\text{Time spent socializing or communicating using technology in hours}}$$\n",
    "\n",
    "**(1 mark)**\n",
    "\n",
    "*[Take me back to [Questions section](#Questions).]*"
   ]
  },
  {
   "cell_type": "code",
   "execution_count": null,
   "id": "8c2b169c",
   "metadata": {},
   "outputs": [],
   "source": [
    "sub_time_use_prop = sub_time_use_rename.copy()\n",
    "# Write your answer here\n",
    "\n",
    "# Check your work\n",
    "sub_time_use_prop.head()"
   ]
  },
  {
   "cell_type": "markdown",
   "id": "610b6009",
   "metadata": {},
   "source": [
    "### Question 7c\n",
    "\n",
    "In this step you will create a boxplot to compare the distributions of proportion of time spent socializing or communicating in person out of time spent socializing or communicating either in person or using technology between ages 15-54 and 55 years and older age group.\n",
    "\n",
    "Use the `DataFrame` method called `boxplot` to create the following boxplot from `sub_time_use_prop`:\n",
    "\n",
    "- A boxplot of the `'In person socializing proportion'` for the two age groups 15-54 and 55 years and older. Store the result in a variable called `boxplot_social`. __(1 mark)__\n",
    "   \n",
    " Do not use the optional input arguments such as `figsize` to avoid potential errors in MarkUs.\n",
    "\n",
    "*[Take me back to [Questions section](#Questions).]*"
   ]
  },
  {
   "cell_type": "code",
   "execution_count": null,
   "id": "0975dce0",
   "metadata": {},
   "outputs": [],
   "source": [
    "# Write your answer in this cell\n",
    "\n",
    "\n",
    "# Check your work\n",
    "boxplot_social;"
   ]
  },
  {
   "cell_type": "markdown",
   "id": "d1e8b91a",
   "metadata": {},
   "source": [
    "## Question 8\n",
    "\n",
    "Answer the following questions:\n",
    "\n",
    "### Question 8a\n",
    "\n",
    "Compare the distributions of time spent socializing or communicating in person between 15-54 and 55+ age groups. Which group spends more time socializing in person on average?  What do the numerical descriptions of the distributions suggest? Briefly explain your reasoning. __(3 marks)__\n",
    "\n",
    "*[Take me back to [Questions section](#Questions).]*"
   ]
  },
  {
   "cell_type": "markdown",
   "id": "b7440450",
   "metadata": {},
   "source": [
    "> **Write your answer to 8a here**"
   ]
  },
  {
   "cell_type": "markdown",
   "id": "e54d4dc8",
   "metadata": {},
   "source": [
    "### Question 8b\n",
    "\n",
    "Compare the distributions of time spent socializing or communiucating using technology between 15-44 and 55+ age groups. Which group spends more time socializing using technology? What do the numerical descriptions of the distributions suggest?  Briefly explain your reasoning. __(3 marks)__\n",
    "\n",
    "*[Take me back to [Questions section](#Questions).]*"
   ]
  },
  {
   "cell_type": "markdown",
   "id": "c1438223",
   "metadata": {},
   "source": [
    "> **Write your answer to 8b here**"
   ]
  },
  {
   "cell_type": "markdown",
   "id": "1726a324",
   "metadata": {},
   "source": [
    "### Question 8c\n",
    "\n",
    "Compare the distributions of the proportion of time spent socializing or communiucating in person out of time spent socializing or communicating in person or using technology between 15-44 and 55+ age groups. What does the boxplot suggest? Briefly explain your reasoning. __(3 marks)__\n",
    "\n",
    "*[Take me back to [Questions section](#Questions).]*"
   ]
  },
  {
   "cell_type": "markdown",
   "id": "7bb870ae",
   "metadata": {},
   "source": [
    "> **Write your answer to 8c here**"
   ]
  },
  {
   "cell_type": "markdown",
   "id": "615f4451",
   "metadata": {},
   "source": [
    "### Question 8d\n",
    "\n",
    "What limitations might there be in using a box plot to investigate the relationship between the proportion of time spent socializing in person and age group? What information is difficult to interpret  _Hint: Compare the list of numerical descriptions using `.describe()` and the informtion you can clearly retreive from the boxplot._ __(3 marks)__\n",
    "\n",
    "*[Take me back to [Questions section](#Questions).]*"
   ]
  },
  {
   "cell_type": "markdown",
   "id": "c39ef612",
   "metadata": {},
   "source": [
    "> **Write your answer to 8d here**"
   ]
  }
 ],
 "metadata": {
  "kernelspec": {
   "display_name": "Python 3 (ipykernel)",
   "language": "python",
   "name": "python3"
  },
  "language_info": {
   "codemirror_mode": {
    "name": "ipython",
    "version": 3
   },
   "file_extension": ".py",
   "mimetype": "text/x-python",
   "name": "python",
   "nbconvert_exporter": "python",
   "pygments_lexer": "ipython3",
   "version": "3.10.13"
  },
  "vscode": {
   "interpreter": {
    "hash": "8b8edaa195e148f815789564e9a10f57d8b792ac9e1a5daafce5fbae42bebd0e"
   }
  }
 },
 "nbformat": 4,
 "nbformat_minor": 5
}
