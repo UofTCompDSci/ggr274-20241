{
 "cells": [
  {
   "cell_type": "markdown",
   "id": "007295a7",
   "metadata": {
    "slideshow": {
     "slide_type": "slide"
    }
   },
   "source": [
    "# Additional Tips and Tricks on Creating \n",
    "\n",
    "This notebook has examples on how to \n",
    "\n",
    "- Split cells so that two or more cells appear on the same slide\n",
    "\n",
    "- Change font size, colour, and style.  More information is available [here.](https://www.w3schools.com/html/html_css.asp)"
   ]
  },
  {
   "cell_type": "markdown",
   "id": "6cd28ed3",
   "metadata": {
    "slideshow": {
     "slide_type": "slide"
    }
   },
   "source": [
    "## Splitting cells and Hiding Output\n",
    "\n",
    "- Enable the nbextensions Split Cells Notebook and Hide input\n",
    "\n",
    "![](splitcellexample.png)\n",
    "\n",
    "- On jupyter.utoronto.ca open a jupyter notebook or refresh the page of an open notebook and you should see the following icon on the toolbar.\n",
    "\n",
    "![](splitcellsexample.png)\n",
    "\n",
    "- Select a cell that you would like to split (i.e, put on left-hand or right-hand part of the screen) then click Split Cell icon on the tool bar.  \n",
    "\n",
    "- The examples below show how splitting cells can be combined with hiding code and Slide Type."
   ]
  },
  {
   "cell_type": "markdown",
   "id": "5888c1d3",
   "metadata": {
    "cell_style": "split",
    "slideshow": {
     "slide_type": "slide"
    }
   },
   "source": [
    "## Change font colour\n",
    "\n",
    "- <p style=\"color:blue;\">This text is blue.</p>\n",
    "    \n",
    "- <p style=\"color:blue;\">Look at the plot to the right. Notice that the code is hidden.</p>\n",
    "\n",
    "\n",
    "\n",
    "## Change font size\n",
    "\n",
    "- <p style=\"font-size:12px;\">This text is 12px.</p>\n",
    "\n",
    "- <p style=\"font-size:16px;\">This text is 16px.</p>\n",
    "\n",
    "- <p style=\"font-size:18px;\">This text is 18px.</p>\n",
    "\n",
    "- <p style=\"font-size:36px;\">This text is 36px.</p>"
   ]
  },
  {
   "cell_type": "code",
   "execution_count": 25,
   "id": "9c8ac65f",
   "metadata": {
    "cell_style": "split",
    "hide_input": true,
    "slideshow": {
     "slide_type": "fragment"
    }
   },
   "outputs": [
    {
     "data": {
      "image/png": "[encoded data removed]",
      "text/plain": [
       "<Figure size 640x480 with 1 Axes>"
      ]
     },
     "metadata": {},
     "output_type": "display_data"
    }
   ],
   "source": [
    "import numpy as np\n",
    "import matplotlib.pyplot as plt\n",
    "\n",
    "data = np.random.normal(0,1,100)\n",
    "\n",
    "plt.hist(data, color=\"green\", edgecolor=\"black\")\n",
    "plt.xlabel('x')\n",
    "plt.ylabel('Frequency')\n",
    "plt.title('Important Plot');"
   ]
  },
  {
   "cell_type": "markdown",
   "id": "c669305e",
   "metadata": {
    "cell_style": "split",
    "slideshow": {
     "slide_type": "slide"
    }
   },
   "source": [
    "## Another Section\n",
    "\n",
    "- another bullet point"
   ]
  },
  {
   "cell_type": "markdown",
   "id": "2921dea3",
   "metadata": {
    "cell_style": "split",
    "slideshow": {
     "slide_type": "fragment"
    }
   },
   "source": [
    "- bullet point 1\n",
    "\n",
    "- bullet point 2\n",
    "\n",
    "- bullet point 3"
   ]
  },
  {
   "cell_type": "code",
   "execution_count": 21,
   "id": "4b187c82",
   "metadata": {
    "hide_input": true,
    "slideshow": {
     "slide_type": "fragment"
    }
   },
   "outputs": [
    {
     "data": {
      "text/plain": [
       "'The value is 10'"
      ]
     },
     "execution_count": 21,
     "metadata": {},
     "output_type": "execute_result"
    }
   ],
   "source": [
    "x = 10\n",
    "important_msg = f'The value is {x}'\n",
    "important_msg"
   ]
  },
  {
   "cell_type": "markdown",
   "id": "cbf07fc9",
   "metadata": {
    "slideshow": {
     "slide_type": "slide"
    }
   },
   "source": [
    "## Combine font size and colour\n",
    "\n",
    "- <p style=\"font-size:30px;color:green;\">This text is green.</p> \n",
    "\n",
    "## Font Style\n",
    "\n",
    "- <p style=\"font-style: italic;font-size:18px\"> This is italic </p>\n",
    "\n",
    "- <p style=\"font-style: oblique;font-size:18px\"> This is oblique </p>\n",
    "\n",
    "## Combine font size, colour, and style\n",
    "\n",
    "- <p style=\"font-style: italic;font-size:12px; color:blue\"> This is italic </p>\n",
    "\n",
    "- <p style=\"font-style: italic;font-size:24px; color:green\"> This is italic </p>\n"
   ]
  },
  {
   "cell_type": "code",
   "execution_count": 18,
   "id": "1568af62",
   "metadata": {
    "slideshow": {
     "slide_type": "skip"
    }
   },
   "outputs": [],
   "source": [
    "## this slide has additional analysis that I haven't shown in my presentation"
   ]
  }
 ],
 "metadata": {
  "celltoolbar": "Slideshow",
  "kernelspec": {
   "display_name": "Python 3 (ipykernel)",
   "language": "python",
   "name": "python3"
  },
  "language_info": {
   "codemirror_mode": {
    "name": "ipython",
    "version": 3
   },
   "file_extension": ".py",
   "mimetype": "text/x-python",
   "name": "python",
   "nbconvert_exporter": "python",
   "pygments_lexer": "ipython3",
   "version": "3.8.8"
  }
 },
 "nbformat": 4,
 "nbformat_minor": 5
}
