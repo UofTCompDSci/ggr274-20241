{
 "cells": [
  {
   "cell_type": "markdown",
   "id": "61180397",
   "metadata": {},
   "source": [
    "# GGR274 Lab 11: Data analysis and result presentation \n",
    "\n",
    "## Logistics\n",
    "\n",
    "Lab grade will be based on submission of this notebook to MarkUs during the lab session (or by 23:59 on Thursday).\n",
    "\n",
    "You do not have to answer every question, but your notebook should be submitted as usual for attendance. Submit your completed file to [MarkUs](https://markus-ds.teach.cs.toronto.edu).\n",
    "Here are the instructions for submitting to MarkUs (same as last week):\n",
    "\n",
    "1. Download this file (`Lab_11.ipynb`) from JupyterHub. (See [our JupyterHub Guide](../../../guides/jupyterhub_guide.ipynb) for detailed instructions.)\n",
    "2. Submit this file to MarkUs under the **lab11** assignment. (See [our MarkUs Guide](../../../guides/markus_guide.ipynb) for detailed instructions.)\n",
    "\n",
    "Note: there's no autograding set up for this week's lab, but your TA will be checking that your submitted lab file is complete as part of your \"lab attendance\" grade."
   ]
  },
  {
   "cell_type": "markdown",
   "id": "68bab026",
   "metadata": {},
   "source": [
    "## Lab 11 Introduction"
   ]
  },
  {
   "cell_type": "markdown",
   "id": "41d39a74",
   "metadata": {},
   "source": [
    "Last week, we went over some questions you should ask yourself during the preliminary data exploration and analysis. This week, we will ask some questions that you may wish to consider during the analysis of your data, and how you may wish to visualize your results. Since your project is due very soon, it would be a good idea to start working on your project now if you have not started already.\n",
    "\n",
    "What you write in this and the following labs are for your own reference. You may answer the questions in either words or code, but whenever possible, you should give the function you intend to use. "
   ]
  },
  {
   "cell_type": "markdown",
   "id": "1feb4a6f-4f41-4028-bf8c-d22dfd6979f8",
   "metadata": {},
   "source": [
    "#### Let's get started:"
   ]
  },
  {
   "cell_type": "markdown",
   "id": "a528e086",
   "metadata": {},
   "source": [
    "What is the main analytical method that you will employ to analyze your data? What functions/packages will you need?"
   ]
  },
  {
   "cell_type": "code",
   "execution_count": 1,
   "id": "b21f2fa1",
   "metadata": {},
   "outputs": [],
   "source": [
    "# Write your notes here using comments\n"
   ]
  },
  {
   "cell_type": "markdown",
   "id": "63c83dfb-6974-4e41-9f13-d75a1dc5fb01",
   "metadata": {},
   "source": [
    "Do you want to generate a confidence interval for your analysis? How could you accomplish this? (hint: refer to lecture on bootstrapping)"
   ]
  },
  {
   "cell_type": "code",
   "execution_count": 2,
   "id": "7439f378",
   "metadata": {},
   "outputs": [],
   "source": [
    "# Write your notes here using comments\n"
   ]
  },
  {
   "cell_type": "markdown",
   "id": "a2a51002",
   "metadata": {},
   "source": [
    "What are some ways to check for the accuracy of your analysis? Which functions will you need? (hint: it may be useful to split your data into training and testing sets and think about overfitting/underfitting)"
   ]
  },
  {
   "cell_type": "code",
   "execution_count": 3,
   "id": "8ac758c9",
   "metadata": {},
   "outputs": [],
   "source": [
    "# Write your notes here using comments\n"
   ]
  },
  {
   "cell_type": "markdown",
   "id": "6bdc42ea",
   "metadata": {},
   "source": [
    "How will you plan to visualize your data? (i.e. barplot, scatterplot etc.) Which functions will you use?"
   ]
  },
  {
   "cell_type": "code",
   "execution_count": 4,
   "id": "8cffa1d4",
   "metadata": {},
   "outputs": [],
   "source": [
    "# Write your notes here using comments\n"
   ]
  },
  {
   "cell_type": "markdown",
   "id": "8ae2b8f6",
   "metadata": {},
   "source": [
    "Do you want to visualize your variables in a map? Which functions will you use?"
   ]
  },
  {
   "cell_type": "code",
   "execution_count": null,
   "id": "7abbd26c",
   "metadata": {},
   "outputs": [],
   "source": [
    "# Write your notes here using comments\n"
   ]
  },
  {
   "cell_type": "markdown",
   "id": "367ecc5d",
   "metadata": {},
   "source": [
    "What do you think are some of the weaknesses associated with your method of analysis?"
   ]
  },
  {
   "cell_type": "code",
   "execution_count": 5,
   "id": "142e39e6",
   "metadata": {},
   "outputs": [],
   "source": [
    "# Write your notes here using comments\n"
   ]
  },
  {
   "cell_type": "markdown",
   "id": "bfedce60",
   "metadata": {},
   "source": [
    "You may want to take a look at the project rubric!"
   ]
  },
  {
   "cell_type": "code",
   "execution_count": 2,
   "id": "d5a32032",
   "metadata": {},
   "outputs": [
    {
     "data": {
      "text/html": [
       "<style type=\"text/css\">\n",
       "</style>\n",
       "<table id=\"T_3c811\">\n",
       "  <thead>\n",
       "    <tr>\n",
       "      <th id=\"T_3c811_level0_col0\" class=\"col_heading level0 col0\" >Criteria</th>\n",
       "      <th id=\"T_3c811_level0_col1\" class=\"col_heading level0 col1\" >Category</th>\n",
       "      <th id=\"T_3c811_level0_col2\" class=\"col_heading level0 col2\" >Excellent</th>\n",
       "      <th id=\"T_3c811_level0_col3\" class=\"col_heading level0 col3\" >Good</th>\n",
       "      <th id=\"T_3c811_level0_col4\" class=\"col_heading level0 col4\" >Adequate</th>\n",
       "      <th id=\"T_3c811_level0_col5\" class=\"col_heading level0 col5\" >Poor</th>\n",
       "    </tr>\n",
       "  </thead>\n",
       "  <tbody>\n",
       "    <tr>\n",
       "      <td id=\"T_3c811_row0_col0\" class=\"data row0 col0\" >Content</td>\n",
       "      <td id=\"T_3c811_row0_col1\" class=\"data row0 col1\" >Reasonable scope</td>\n",
       "      <td id=\"T_3c811_row0_col2\" class=\"data row0 col2\" >The scope of the analysis is clear and questions can be fully addressed using the available data.</td>\n",
       "      <td id=\"T_3c811_row0_col3\" class=\"data row0 col3\" >The scope of the analysis is clear and questions can be reasonably addressed using the available data.</td>\n",
       "      <td id=\"T_3c811_row0_col4\" class=\"data row0 col4\" >The scope of the analysis is less clear, the questions can somewhat be addressed using the available data with slight modifications.</td>\n",
       "      <td id=\"T_3c811_row0_col5\" class=\"data row0 col5\" >The questions are beyond the scope, cannot be reasonably addressed with the available data; need to resort to additional data or complete modification.</td>\n",
       "    </tr>\n",
       "    <tr>\n",
       "      <td id=\"T_3c811_row1_col0\" class=\"data row1 col0\" ></td>\n",
       "      <td id=\"T_3c811_row1_col1\" class=\"data row1 col1\" >Data wrangling</td>\n",
       "      <td id=\"T_3c811_row1_col2\" class=\"data row1 col2\" >Creative use of data wrangling to produce informative variables. </td>\n",
       "      <td id=\"T_3c811_row1_col3\" class=\"data row1 col3\" >Appropriate use of data wrangling to create sensible variables.</td>\n",
       "      <td id=\"T_3c811_row1_col4\" class=\"data row1 col4\" >Some use of data wrangling to create new variables.</td>\n",
       "      <td id=\"T_3c811_row1_col5\" class=\"data row1 col5\" >No evidence of data wrangling to create any variables.</td>\n",
       "    </tr>\n",
       "    <tr>\n",
       "      <td id=\"T_3c811_row2_col0\" class=\"data row2 col0\" ></td>\n",
       "      <td id=\"T_3c811_row2_col1\" class=\"data row2 col1\" >Graphical display</td>\n",
       "      <td id=\"T_3c811_row2_col2\" class=\"data row2 col2\" >Choice of graphs are appropriate and creative; graphs reveal useful information and tell a story. Meaningful captions and titles.</td>\n",
       "      <td id=\"T_3c811_row2_col3\" class=\"data row2 col3\" >Choice of graphs are appropriate; graphs reveal useful information, but are not self-sufficient. Might require some explaining.</td>\n",
       "      <td id=\"T_3c811_row2_col4\" class=\"data row2 col4\" >Choice of graphs are appropriate; graphs reveal some useful information.  Might require some explaining and minor changes to titles/axes/labels, etc.</td>\n",
       "      <td id=\"T_3c811_row2_col5\" class=\"data row2 col5\" >A lack of visual aid; graphs are inappropriate, reveal no information.</td>\n",
       "    </tr>\n",
       "    <tr>\n",
       "      <td id=\"T_3c811_row3_col0\" class=\"data row3 col0\" ></td>\n",
       "      <td id=\"T_3c811_row3_col1\" class=\"data row3 col1\" >Statistical methods</td>\n",
       "      <td id=\"T_3c811_row3_col2\" class=\"data row3 col2\" >The choice of method is appropriate; analyses are complete; diverse and creative use of more than one approach.</td>\n",
       "      <td id=\"T_3c811_row3_col3\" class=\"data row3 col3\" >The choice of method is appropriate; some  non-essential analyses are missing</td>\n",
       "      <td id=\"T_3c811_row3_col4\" class=\"data row3 col4\" >The choice of method is somewhat appropriate; some analyses are missing.</td>\n",
       "      <td id=\"T_3c811_row3_col5\" class=\"data row3 col5\" >The choice of method is inappropriate; essential analyses are missing.</td>\n",
       "    </tr>\n",
       "    <tr>\n",
       "      <td id=\"T_3c811_row4_col0\" class=\"data row4 col0\" ></td>\n",
       "      <td id=\"T_3c811_row4_col1\" class=\"data row4 col1\" >Appropriate conclusion</td>\n",
       "      <td id=\"T_3c811_row4_col2\" class=\"data row4 col2\" >Results are clearly and completely summarized. Appropriate limitations and concerned clearly stated.</td>\n",
       "      <td id=\"T_3c811_row4_col3\" class=\"data row4 col3\" >Results are completely summarized. Some limitations and concerned are stated.</td>\n",
       "      <td id=\"T_3c811_row4_col4\" class=\"data row4 col4\" >Some results are summarized. The conclusion is not appropriate and no mentioning of any limitations.</td>\n",
       "      <td id=\"T_3c811_row4_col5\" class=\"data row4 col5\" >Results are not summarized and conclusion is missing.</td>\n",
       "    </tr>\n",
       "    <tr>\n",
       "      <td id=\"T_3c811_row5_col0\" class=\"data row5 col0\" >Writing</td>\n",
       "      <td id=\"T_3c811_row5_col1\" class=\"data row5 col1\" >Organization</td>\n",
       "      <td id=\"T_3c811_row5_col2\" class=\"data row5 col2\" >Contents are very well organized under the appropriate section and subsection headings.</td>\n",
       "      <td id=\"T_3c811_row5_col3\" class=\"data row5 col3\" >Contents are organized under the appropriate section and subsection headings.</td>\n",
       "      <td id=\"T_3c811_row5_col4\" class=\"data row5 col4\" >Contents are somewhat organized under section and subsection headings. </td>\n",
       "      <td id=\"T_3c811_row5_col5\" class=\"data row5 col5\" >Contents are poorly organized under section and subsection headings.</td>\n",
       "    </tr>\n",
       "    <tr>\n",
       "      <td id=\"T_3c811_row6_col0\" class=\"data row6 col0\" ></td>\n",
       "      <td id=\"T_3c811_row6_col1\" class=\"data row6 col1\" >Overall Writing</td>\n",
       "      <td id=\"T_3c811_row6_col2\" class=\"data row6 col2\" >Very polished and well written.  </td>\n",
       "      <td id=\"T_3c811_row6_col3\" class=\"data row6 col3\" >Few errors in spelling, punctuation, and/or grammar. Mostly clear and understandable.</td>\n",
       "      <td id=\"T_3c811_row6_col4\" class=\"data row6 col4\" >Partly unclear, but mostly understandable. Several errors in spelling, punctuation, and/or grammar. </td>\n",
       "      <td id=\"T_3c811_row6_col5\" class=\"data row6 col5\" >Too many errors in spelling, punctuation, and/or grammar, which make it unclear and difficult to follow. </td>\n",
       "    </tr>\n",
       "  </tbody>\n",
       "</table>\n"
      ],
      "text/plain": [
       "<pandas.io.formats.style.Styler at 0x7f85b93ced90>"
      ]
     },
     "execution_count": 2,
     "metadata": {},
     "output_type": "execute_result"
    }
   ],
   "source": [
    "import pandas as pd\n",
    "slidesrubric = pd.read_csv('confrenceslidesrubric.csv', keep_default_na=False)\n",
    "slidesrubric.style.hide(axis='index')"
   ]
  }
 ],
 "metadata": {
  "kernelspec": {
   "display_name": "Python 3 (ipykernel)",
   "language": "python",
   "name": "python3"
  },
  "language_info": {
   "codemirror_mode": {
    "name": "ipython",
    "version": 3
   },
   "file_extension": ".py",
   "mimetype": "text/x-python",
   "name": "python",
   "nbconvert_exporter": "python",
   "pygments_lexer": "ipython3",
   "version": "3.8.8"
  }
 },
 "nbformat": 4,
 "nbformat_minor": 5
}
