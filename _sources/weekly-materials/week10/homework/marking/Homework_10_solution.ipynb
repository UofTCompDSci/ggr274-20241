{
 "cells": [
  {
   "cell_type": "markdown",
   "id": "acb6306f-044e-4760-8ad2-ed982e5f8b00",
   "metadata": {
    "slideshow": {
     "slide_type": "slide"
    }
   },
   "source": [
    "# Homework 10 : Linear Regression\n",
    "\n",
    "## Logistics\n",
    "\n",
    "**Due date**: The homework is due 23:59 on Monday, March 25th.\n",
    "\n",
    "You will submit your work on [MarkUs](https://markus-ds.teach.cs.toronto.edu).\n",
    "To submit your work:\n",
    "\n",
    "1. Download this file (`Homework_10.ipynb`) from JupyterHub. (See [our JupyterHub Guide](../../../guides/jupyterhub_guide.ipynb) for detailed instructions.)\n",
    "2. Submit this file to MarkUs under the **hw10** assignment. (See [our MarkUs Guide](../../../guides/markus_guide.ipynb) for detailed instructions.)\n",
    "All homeworks will take place in a Jupyter notebook (like this one). When you are done, you will download this notebook and submit it to MarkUs.\n",
    "\n",
    "## Introduction\n",
    " In this homework we explore: \n",
    "- Preparing data from two different sources and merging before analysis\n",
    "- Performing linear regression with multiple dependent variables\n",
    "- Checking performance of linear regression\n"
   ]
  },
  {
   "cell_type": "markdown",
   "id": "26d7241c",
   "metadata": {},
   "source": [
    "### Question: How do mental health visits correlated with different socioeconomic factors in men and woman 65+ living in Toronto? \n",
    "\n",
    "You may use the lecture notebook to help you conduct the following analysis. "
   ]
  },
  {
   "cell_type": "markdown",
   "id": "aa9fea67-328b-48da-b3b0-68c1d3cfefe2",
   "metadata": {
    "slideshow": {
     "slide_type": "slide"
    }
   },
   "source": [
    "## Task 1a: Pre-processing independent variables \n",
    "\n",
    "#### Sociodemographic data\n",
    "To perform ordinary least squares (i.e. linear regression) analysis, we will need a set of independent variables and _one_ dependent variable.\n",
    "\n",
    "1. Read sociodemographic data from the excel file `1_socdem_neighb_2006-2.xls` with sheet name `socdem_2006` into `pandas` using `read_excel`. Name the dataframe `socdem_neighb`.\n",
    "2. Select columns/variables relevant for your analysis.\n",
    "3. Rename dataframe columns according to table.\n",
    "4. Check first few entires of dataframe."
   ]
  },
  {
   "cell_type": "code",
   "execution_count": 1,
   "id": "8341630f-a31f-4c68-a766-beb8f071476c",
   "metadata": {},
   "outputs": [],
   "source": [
    "import pandas as pd\n",
    "import seaborn as sns\n",
    "import matplotlib.pyplot as plt\n",
    "from statsmodels.formula.api import ols"
   ]
  },
  {
   "cell_type": "markdown",
   "id": "fe61a98a-dfd0-47ee-af70-53010eefdada",
   "metadata": {},
   "source": [
    "#### Step 1: Read in data, name the dataframe `socdem_neighb`. Set header to row 10."
   ]
  },
  {
   "cell_type": "code",
   "execution_count": 2,
   "id": "b610856b-92fe-49c3-9258-f48781b49639",
   "metadata": {},
   "outputs": [],
   "source": [
    "# Write your code here\n",
    "\n",
    "socdem_neighb = pd.read_excel('1_socdem_neighb_2006-2.xls', sheet_name = 'socdem_2006', header = 10)"
   ]
  },
  {
   "cell_type": "markdown",
   "id": "4a918c97-0ee5-4f83-8555-2ef9db3e3d22",
   "metadata": {
    "slideshow": {
     "slide_type": "slide"
    }
   },
   "source": [
    "#### Step 2: Select columns and save the results to a new dataframe called `socdem_neighb_important` sconsisting of the important columns.\n",
    "\n",
    "For our analysis, select the columns `Neighbourhood id`, `Neighbourhood Name`, `% Not in labour force *`, `% Rented Dwellings`, `% Aged 65+ living alone`."
   ]
  },
  {
   "cell_type": "code",
   "execution_count": 3,
   "id": "db48fc31-2069-42a2-93e8-66995437fbdc",
   "metadata": {
    "slideshow": {
     "slide_type": "slide"
    }
   },
   "outputs": [],
   "source": [
    "# Write your code here\n",
    "\n",
    "cols = ['Neighbourhood id', \n",
    "        'Neighbourhood Name', \n",
    "        '% Not in labour force *',\n",
    "        '% Rented Dwellings',\n",
    "        '% Aged 65+ living alone']\n",
    "\n",
    "socdem_neighb_important = socdem_neighb[cols]"
   ]
  },
  {
   "cell_type": "markdown",
   "id": "d81d58c8-75ca-48e5-80ec-3c733f993fc5",
   "metadata": {},
   "source": [
    "#### Step 3: Rename dataframe columns _inplace_ according to table below:\n",
    "\n",
    "Old name | New name\n",
    "---------|------------\n",
    "`Neighbourhood id`  |`neighbid`\n",
    "`Neighbourhood Name`  |`name`\n",
    "`% Not in labour force *`| `pct_retired`\n",
    "`% Rented Dwellings`|`pct_rent`\n",
    "`% Aged 65+ living alone`|`live_alone`"
   ]
  },
  {
   "cell_type": "code",
   "execution_count": 4,
   "id": "9f7e9782-ff8e-47da-841f-40f56b10b428",
   "metadata": {},
   "outputs": [
    {
     "name": "stderr",
     "output_type": "stream",
     "text": [
      "/var/folders/p0/ynn6kljd5pg6sh4_616yzw3c0000gn/T/ipykernel_3978/3232016011.py:9: SettingWithCopyWarning: \n",
      "A value is trying to be set on a copy of a slice from a DataFrame\n",
      "\n",
      "See the caveats in the documentation: https://pandas.pydata.org/pandas-docs/stable/user_guide/indexing.html#returning-a-view-versus-a-copy\n",
      "  socdem_neighb_important.rename(columns = colnames, inplace = True)\n"
     ]
    }
   ],
   "source": [
    "# Write your code here\n",
    "\n",
    "colnames = {cols[0] : 'neighbid',\n",
    "            cols[1] : 'name',\n",
    "            cols[2] : 'pct_retired',\n",
    "            cols[3] : 'pct_rent',\n",
    "            cols[4] : 'live_alone'}\n",
    "\n",
    "socdem_neighb_important.rename(columns = colnames, inplace = True)"
   ]
  },
  {
   "cell_type": "markdown",
   "id": "5432ad9c-3f75-4e36-8f65-43399da1b140",
   "metadata": {},
   "source": [
    "#### Step 4: Check your dataframe by using `head()` function"
   ]
  },
  {
   "cell_type": "code",
   "execution_count": 5,
   "id": "745a7301-e587-447d-9660-85ded9f5a687",
   "metadata": {},
   "outputs": [
    {
     "data": {
      "text/html": [
       "<div>\n",
       "<style scoped>\n",
       "    .dataframe tbody tr th:only-of-type {\n",
       "        vertical-align: middle;\n",
       "    }\n",
       "\n",
       "    .dataframe tbody tr th {\n",
       "        vertical-align: top;\n",
       "    }\n",
       "\n",
       "    .dataframe thead th {\n",
       "        text-align: right;\n",
       "    }\n",
       "</style>\n",
       "<table border=\"1\" class=\"dataframe\">\n",
       "  <thead>\n",
       "    <tr style=\"text-align: right;\">\n",
       "      <th></th>\n",
       "      <th>neighbid</th>\n",
       "      <th>name</th>\n",
       "      <th>pct_retired</th>\n",
       "      <th>pct_rent</th>\n",
       "      <th>live_alone</th>\n",
       "    </tr>\n",
       "  </thead>\n",
       "  <tbody>\n",
       "    <tr>\n",
       "      <th>0</th>\n",
       "      <td>1</td>\n",
       "      <td>West Humber-Clairville</td>\n",
       "      <td>33.7</td>\n",
       "      <td>27.4</td>\n",
       "      <td>11.7</td>\n",
       "    </tr>\n",
       "    <tr>\n",
       "      <th>1</th>\n",
       "      <td>2</td>\n",
       "      <td>Mount Olive-Silverstone-Jamestown</td>\n",
       "      <td>34.0</td>\n",
       "      <td>52.0</td>\n",
       "      <td>15.4</td>\n",
       "    </tr>\n",
       "    <tr>\n",
       "      <th>2</th>\n",
       "      <td>3</td>\n",
       "      <td>Thistletown-Beaumond Heights</td>\n",
       "      <td>38.0</td>\n",
       "      <td>34.4</td>\n",
       "      <td>17.5</td>\n",
       "    </tr>\n",
       "    <tr>\n",
       "      <th>3</th>\n",
       "      <td>4</td>\n",
       "      <td>Rexdale-Kipling</td>\n",
       "      <td>37.0</td>\n",
       "      <td>45.1</td>\n",
       "      <td>28.8</td>\n",
       "    </tr>\n",
       "    <tr>\n",
       "      <th>4</th>\n",
       "      <td>5</td>\n",
       "      <td>Elms-Old Rexdale</td>\n",
       "      <td>36.5</td>\n",
       "      <td>41.2</td>\n",
       "      <td>13.0</td>\n",
       "    </tr>\n",
       "  </tbody>\n",
       "</table>\n",
       "</div>"
      ],
      "text/plain": [
       "   neighbid                               name  pct_retired  pct_rent  \\\n",
       "0         1             West Humber-Clairville         33.7      27.4   \n",
       "1         2  Mount Olive-Silverstone-Jamestown         34.0      52.0   \n",
       "2         3       Thistletown-Beaumond Heights         38.0      34.4   \n",
       "3         4                    Rexdale-Kipling         37.0      45.1   \n",
       "4         5                   Elms-Old Rexdale         36.5      41.2   \n",
       "\n",
       "   live_alone  \n",
       "0        11.7  \n",
       "1        15.4  \n",
       "2        17.5  \n",
       "3        28.8  \n",
       "4        13.0  "
      ]
     },
     "execution_count": 5,
     "metadata": {},
     "output_type": "execute_result"
    }
   ],
   "source": [
    "# Write your code here\n",
    "\n",
    "socdem_neighb_important.head()"
   ]
  },
  {
   "cell_type": "markdown",
   "id": "2c178336-f458-4297-84c6-1b44be7a68bd",
   "metadata": {
    "slideshow": {
     "slide_type": "slide"
    }
   },
   "source": [
    "## Task 1b: Processing dependent variable and merging dataframes\n",
    "\n",
    "#### Mental health visit data\n",
    "1) Read data from the excel file `1_ahd_neighb_db_ast_hbp_mhv_copd_2007.xls` with sheet name `1_ahd_neighb_mentalHV_2007` into `pandas` using `read_excel`. Name this dataframe `mh_neighb`.\n",
    "2) Only select age 65+ to filter our dataset for the older population. Include both sexes.\n",
    "3) Rename dataframe according to table\n",
    "4) Merge socioeconomic data with mental health visit data"
   ]
  },
  {
   "cell_type": "markdown",
   "id": "2d439e15-2aa6-442a-990f-a3be2e5b67e5",
   "metadata": {},
   "source": [
    "#### Step 1: Loading in data and name dataframe `mh_neighb`. Set header to row 11."
   ]
  },
  {
   "cell_type": "code",
   "execution_count": 6,
   "id": "4783abcf-e435-413d-87c9-dc6cc1924c9f",
   "metadata": {},
   "outputs": [],
   "source": [
    "# Write your code here\n",
    "\n",
    "mh_neighb = pd.read_excel('1_ahd_neighb_db_ast_hbp_mhv_copd_2007.xls', sheet_name = '1_ahd_neighb_mentalHV_2007', header = [11])"
   ]
  },
  {
   "cell_type": "markdown",
   "id": "c01928b9-ad90-431f-8294-53cb20947233",
   "metadata": {},
   "source": [
    "#### Step 2: Selecting age 65+ of both sexes, name resulting dataframe `mh_visit_rates`. \n",
    "\n",
    "Since this dataframe is a little complicated, a hint is given: columns 0, 1, and 53 correspond to Neighbourhood ID, Neighbourhood Name, and percentage of mental health visits in both sexes 65+ respectively."
   ]
  },
  {
   "cell_type": "code",
   "execution_count": 7,
   "id": "f4325284-4f52-4743-84ab-b3896c4c2b1b",
   "metadata": {},
   "outputs": [],
   "source": [
    "# Write your code here\n",
    "\n",
    "important_cols = mh_neighb.columns[[0, 1, 53]]\n",
    "mh_visit_rates = mh_neighb.copy()\n",
    "mh_visit_rates = mh_visit_rates[important_cols]"
   ]
  },
  {
   "cell_type": "markdown",
   "id": "daa6f500-f6df-4aa7-b7b2-0c11a9d645d2",
   "metadata": {},
   "source": [
    "#### Step 3: Renaming the columns of the dataframe _inplace_ using the following table:\n",
    "\n",
    "Old name | New name\n",
    "---------|------------\n",
    "`Unnamed: 0`  |`neighbid`\n",
    "`Unnamed: 1`  |`name` \n",
    "`% With mental health visits.11` | `mh_visit_pct`"
   ]
  },
  {
   "cell_type": "code",
   "execution_count": 8,
   "id": "aac0a460-5cd0-43a4-a9db-244187a6ed5d",
   "metadata": {
    "slideshow": {
     "slide_type": "slide"
    }
   },
   "outputs": [
    {
     "data": {
      "text/html": [
       "<div>\n",
       "<style scoped>\n",
       "    .dataframe tbody tr th:only-of-type {\n",
       "        vertical-align: middle;\n",
       "    }\n",
       "\n",
       "    .dataframe tbody tr th {\n",
       "        vertical-align: top;\n",
       "    }\n",
       "\n",
       "    .dataframe thead th {\n",
       "        text-align: right;\n",
       "    }\n",
       "</style>\n",
       "<table border=\"1\" class=\"dataframe\">\n",
       "  <thead>\n",
       "    <tr style=\"text-align: right;\">\n",
       "      <th></th>\n",
       "      <th>neighbid</th>\n",
       "      <th>name</th>\n",
       "      <th>mh_visit_pct</th>\n",
       "    </tr>\n",
       "  </thead>\n",
       "  <tbody>\n",
       "    <tr>\n",
       "      <th>0</th>\n",
       "      <td>1</td>\n",
       "      <td>West Humber-Clairville</td>\n",
       "      <td>10.6</td>\n",
       "    </tr>\n",
       "    <tr>\n",
       "      <th>1</th>\n",
       "      <td>2</td>\n",
       "      <td>Mount Olive-Silverstone-Jamestown</td>\n",
       "      <td>12.3</td>\n",
       "    </tr>\n",
       "    <tr>\n",
       "      <th>2</th>\n",
       "      <td>3</td>\n",
       "      <td>Thistletown-Beaumond Heights</td>\n",
       "      <td>10.4</td>\n",
       "    </tr>\n",
       "    <tr>\n",
       "      <th>3</th>\n",
       "      <td>4</td>\n",
       "      <td>Rexdale-Kipling</td>\n",
       "      <td>13.8</td>\n",
       "    </tr>\n",
       "    <tr>\n",
       "      <th>4</th>\n",
       "      <td>5</td>\n",
       "      <td>Elms-Old Rexdale</td>\n",
       "      <td>13.4</td>\n",
       "    </tr>\n",
       "  </tbody>\n",
       "</table>\n",
       "</div>"
      ],
      "text/plain": [
       "   neighbid                               name  mh_visit_pct\n",
       "0         1             West Humber-Clairville          10.6\n",
       "1         2  Mount Olive-Silverstone-Jamestown          12.3\n",
       "2         3       Thistletown-Beaumond Heights          10.4\n",
       "3         4                    Rexdale-Kipling          13.8\n",
       "4         5                   Elms-Old Rexdale          13.4"
      ]
     },
     "execution_count": 8,
     "metadata": {},
     "output_type": "execute_result"
    }
   ],
   "source": [
    "# Write your code here\n",
    "\n",
    "colnames = {important_cols[0]: 'neighbid',\n",
    "           important_cols[1] : 'name',\n",
    "           important_cols[2] : 'mh_visit_pct'}\n",
    "\n",
    "\n",
    "mh_visit_rates.rename(columns = colnames, inplace=True)\n",
    "\n",
    "# Check you dataframe!\n",
    "mh_visit_rates.head()"
   ]
  },
  {
   "cell_type": "markdown",
   "id": "ed781842-9ac0-4c18-9a08-1e5e1d20d684",
   "metadata": {
    "slideshow": {
     "slide_type": "slide"
    }
   },
   "source": [
    "#### Step 4: Merge Sociodemographic and mental health visit data and call the merged dataframe `mh_socdem`\n",
    "\n",
    "- To examine the relationship between mental health visits and socioeconomic status, we will need to merge `socdem_neighb_important` to `mh_visit_rates` based on `neighbid`.\n",
    "\n",
    "- Note: merge `dataframe` `A` to `dataframe` `B` is `B.merge(A)`. This is for passing the rigid autotesting :)\n"
   ]
  },
  {
   "cell_type": "code",
   "execution_count": 19,
   "id": "6c8a9c83-c0be-43db-91e7-1fa5dcdad87d",
   "metadata": {},
   "outputs": [
    {
     "data": {
      "text/html": [
       "<div>\n",
       "<style scoped>\n",
       "    .dataframe tbody tr th:only-of-type {\n",
       "        vertical-align: middle;\n",
       "    }\n",
       "\n",
       "    .dataframe tbody tr th {\n",
       "        vertical-align: top;\n",
       "    }\n",
       "\n",
       "    .dataframe thead th {\n",
       "        text-align: right;\n",
       "    }\n",
       "</style>\n",
       "<table border=\"1\" class=\"dataframe\">\n",
       "  <thead>\n",
       "    <tr style=\"text-align: right;\">\n",
       "      <th></th>\n",
       "      <th>neighbid</th>\n",
       "      <th>name_x</th>\n",
       "      <th>mh_visit_pct</th>\n",
       "      <th>name_y</th>\n",
       "      <th>pct_retired</th>\n",
       "      <th>pct_rent</th>\n",
       "      <th>live_alone</th>\n",
       "    </tr>\n",
       "  </thead>\n",
       "  <tbody>\n",
       "    <tr>\n",
       "      <th>0</th>\n",
       "      <td>1</td>\n",
       "      <td>West Humber-Clairville</td>\n",
       "      <td>10.6</td>\n",
       "      <td>West Humber-Clairville</td>\n",
       "      <td>33.7</td>\n",
       "      <td>27.4</td>\n",
       "      <td>11.7</td>\n",
       "    </tr>\n",
       "    <tr>\n",
       "      <th>1</th>\n",
       "      <td>2</td>\n",
       "      <td>Mount Olive-Silverstone-Jamestown</td>\n",
       "      <td>12.3</td>\n",
       "      <td>Mount Olive-Silverstone-Jamestown</td>\n",
       "      <td>34.0</td>\n",
       "      <td>52.0</td>\n",
       "      <td>15.4</td>\n",
       "    </tr>\n",
       "    <tr>\n",
       "      <th>2</th>\n",
       "      <td>3</td>\n",
       "      <td>Thistletown-Beaumond Heights</td>\n",
       "      <td>10.4</td>\n",
       "      <td>Thistletown-Beaumond Heights</td>\n",
       "      <td>38.0</td>\n",
       "      <td>34.4</td>\n",
       "      <td>17.5</td>\n",
       "    </tr>\n",
       "    <tr>\n",
       "      <th>3</th>\n",
       "      <td>4</td>\n",
       "      <td>Rexdale-Kipling</td>\n",
       "      <td>13.8</td>\n",
       "      <td>Rexdale-Kipling</td>\n",
       "      <td>37.0</td>\n",
       "      <td>45.1</td>\n",
       "      <td>28.8</td>\n",
       "    </tr>\n",
       "    <tr>\n",
       "      <th>4</th>\n",
       "      <td>5</td>\n",
       "      <td>Elms-Old Rexdale</td>\n",
       "      <td>13.4</td>\n",
       "      <td>Elms-Old Rexdale</td>\n",
       "      <td>36.5</td>\n",
       "      <td>41.2</td>\n",
       "      <td>13.0</td>\n",
       "    </tr>\n",
       "  </tbody>\n",
       "</table>\n",
       "</div>"
      ],
      "text/plain": [
       "   neighbid                             name_x  mh_visit_pct  \\\n",
       "0         1             West Humber-Clairville          10.6   \n",
       "1         2  Mount Olive-Silverstone-Jamestown          12.3   \n",
       "2         3       Thistletown-Beaumond Heights          10.4   \n",
       "3         4                    Rexdale-Kipling          13.8   \n",
       "4         5                   Elms-Old Rexdale          13.4   \n",
       "\n",
       "                              name_y  pct_retired  pct_rent  live_alone  \n",
       "0             West Humber-Clairville         33.7      27.4        11.7  \n",
       "1  Mount Olive-Silverstone-Jamestown         34.0      52.0        15.4  \n",
       "2       Thistletown-Beaumond Heights         38.0      34.4        17.5  \n",
       "3                    Rexdale-Kipling         37.0      45.1        28.8  \n",
       "4                   Elms-Old Rexdale         36.5      41.2        13.0  "
      ]
     },
     "execution_count": 19,
     "metadata": {},
     "output_type": "execute_result"
    }
   ],
   "source": [
    "# Write your code here\n",
    "\n",
    "mh_socdem = mh_visit_rates.merge(socdem_neighb_important, left_on='neighbid', right_on='neighbid')\n",
    "\n",
    "mh_socdem.head()"
   ]
  },
  {
   "cell_type": "markdown",
   "id": "01fec488-1c99-4d5f-80d6-4533afe8c530",
   "metadata": {
    "slideshow": {
     "slide_type": "slide"
    }
   },
   "source": [
    "## Task 2: Fit the regression model\n",
    "\n",
    "1. Fit the model by using the `ols` function. See lecture notebook for examples.\n",
    "2. Create a summary of key values by using the `.summary` method on the fitted model."
   ]
  },
  {
   "cell_type": "markdown",
   "id": "20b553e8-06c2-44c0-9dec-c4367c00b6d5",
   "metadata": {},
   "source": [
    "#### Step 1: Fit the regression model and call the fitted model `reg_mh_fit`"
   ]
  },
  {
   "cell_type": "code",
   "execution_count": 13,
   "id": "bc712fed-ea95-4a44-8789-e95cb65f695b",
   "metadata": {},
   "outputs": [],
   "source": [
    "# Write your code here\n",
    "\n",
    "reg_mh = ols('mh_visit_pct ~ pct_retired + pct_rent + live_alone', data = mh_socdem) # setup the model\n",
    "\n",
    "reg_mh_fit = reg_mh.fit() # estimate/fit the model "
   ]
  },
  {
   "cell_type": "markdown",
   "id": "7eef08ae-f71a-4523-944a-258e192e305f",
   "metadata": {},
   "source": [
    "#### Step 2: Generate statistical summary of the regression model and name result `reg_mh_summary`"
   ]
  },
  {
   "cell_type": "code",
   "execution_count": 14,
   "id": "5ce14cca-bf23-4185-bf48-aadd0e2e5909",
   "metadata": {},
   "outputs": [
    {
     "data": {
      "text/html": [
       "<table class=\"simpletable\">\n",
       "<tr>\n",
       "       <td></td>          <th>coef</th>     <th>std err</th>      <th>t</th>      <th>P>|t|</th>  <th>[0.025</th>    <th>0.975]</th>  \n",
       "</tr>\n",
       "<tr>\n",
       "  <th>Intercept</th>   <td>    8.2671</td> <td>    1.244</td> <td>    6.643</td> <td> 0.000</td> <td>    5.806</td> <td>   10.728</td>\n",
       "</tr>\n",
       "<tr>\n",
       "  <th>pct_retired</th> <td>    0.0783</td> <td>    0.030</td> <td>    2.650</td> <td> 0.009</td> <td>    0.020</td> <td>    0.137</td>\n",
       "</tr>\n",
       "<tr>\n",
       "  <th>pct_rent</th>    <td>    0.0192</td> <td>    0.010</td> <td>    2.001</td> <td> 0.047</td> <td>    0.000</td> <td>    0.038</td>\n",
       "</tr>\n",
       "<tr>\n",
       "  <th>live_alone</th>  <td>    0.0417</td> <td>    0.018</td> <td>    2.363</td> <td> 0.020</td> <td>    0.007</td> <td>    0.077</td>\n",
       "</tr>\n",
       "</table>"
      ],
      "text/plain": [
       "<class 'statsmodels.iolib.table.SimpleTable'>"
      ]
     },
     "execution_count": 14,
     "metadata": {},
     "output_type": "execute_result"
    }
   ],
   "source": [
    "# Write your code here\n",
    "\n",
    "reg_mh_summary = reg_mh_fit.summary()\n",
    "\n",
    "reg_mh_summary.tables[1]"
   ]
  },
  {
   "cell_type": "markdown",
   "id": "d54410e6-2539-46aa-a1a5-363e9ea16185",
   "metadata": {
    "slideshow": {
     "slide_type": "slide"
    }
   },
   "source": [
    "## Task 3: Determining accuracy of the regression model\n",
    "\n",
    "1. Use the `.rsquared` method to check the rsquared value. Assign this variable to the name `reg_rsquared`.\n",
    "2. Create a scatter plot of residuals vs. fitted values."
   ]
  },
  {
   "cell_type": "markdown",
   "id": "9d68cfce-3b6d-46be-98fe-cd94b558461a",
   "metadata": {},
   "source": [
    "#### Step 1: Check r-squared value and name result `reg_rsquared`"
   ]
  },
  {
   "cell_type": "code",
   "execution_count": 16,
   "id": "92e0cd87-f0ab-4347-8f40-8f276c0c6048",
   "metadata": {},
   "outputs": [
    {
     "data": {
      "text/plain": [
       "0.15057961165503708"
      ]
     },
     "execution_count": 16,
     "metadata": {},
     "output_type": "execute_result"
    }
   ],
   "source": [
    "# Write your code here\n",
    "\n",
    "reg_rsquared = reg_mh_fit.rsquared\n",
    "reg_rsquared"
   ]
  },
  {
   "cell_type": "markdown",
   "id": "551cdd18-c9cc-4e41-b64f-2896e92c4ede",
   "metadata": {},
   "source": [
    "#### Step 2: Create scatter plot using matplotlib to visualize the residuals vs. fitted values"
   ]
  },
  {
   "cell_type": "code",
   "execution_count": 17,
   "id": "31963fa1-fb91-4917-9142-6a0fc7c97e2f",
   "metadata": {},
   "outputs": [
    {
     "data": {
      "text/plain": [
       "Text(0, 0.5, 'residuals')"
      ]
     },
     "execution_count": 17,
     "metadata": {},
     "output_type": "execute_result"
    },
    {
     "data": {
      "image/png": "[encoded data removed]",
      "text/plain": [
       "<Figure size 432x288 with 1 Axes>"
      ]
     },
     "metadata": {
      "needs_background": "light"
     },
     "output_type": "display_data"
    }
   ],
   "source": [
    "# Write your code here\n",
    "\n",
    "plt.scatter(x = reg_mh_fit.fittedvalues , y = reg_mh_fit.resid)\n",
    "plt.axhline(y = 0)\n",
    "plt.xlabel('fitted values')\n",
    "plt.ylabel('residuals')"
   ]
  },
  {
   "cell_type": "markdown",
   "id": "d3bbcd7f",
   "metadata": {},
   "source": [
    "## Task 4: Answering some questions about the regression model you have just fitted\n"
   ]
  },
  {
   "cell_type": "markdown",
   "id": "7387bbbf",
   "metadata": {},
   "source": [
    "Question 1: How is the accuracy of the regression model according to its r-squared value and residual plot?"
   ]
  },
  {
   "cell_type": "markdown",
   "id": "232a92b8",
   "metadata": {},
   "source": []
  },
  {
   "cell_type": "markdown",
   "id": "e5a850a2",
   "metadata": {},
   "source": [
    "Question 2: What is the intercept of the model? What does it mean?"
   ]
  },
  {
   "cell_type": "markdown",
   "id": "177fe040",
   "metadata": {},
   "source": []
  },
  {
   "cell_type": "markdown",
   "id": "e4037ea1",
   "metadata": {},
   "source": [
    "Question 3: What are the coefficients and p-value of each independent variable? What do they mean?"
   ]
  },
  {
   "cell_type": "markdown",
   "id": "b386a28c",
   "metadata": {},
   "source": []
  }
 ],
 "metadata": {
  "celltoolbar": "Slideshow",
  "kernelspec": {
   "display_name": "Python 3 (ipykernel)",
   "language": "python",
   "name": "python3"
  },
  "language_info": {
   "codemirror_mode": {
    "name": "ipython",
    "version": 3
   },
   "file_extension": ".py",
   "mimetype": "text/x-python",
   "name": "python",
   "nbconvert_exporter": "python",
   "pygments_lexer": "ipython3",
   "version": "3.8.8"
  }
 },
 "nbformat": 4,
 "nbformat_minor": 5
}
