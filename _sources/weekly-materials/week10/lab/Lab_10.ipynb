{
 "cells": [
  {
   "cell_type": "markdown",
   "id": "61180397",
   "metadata": {},
   "source": [
    "# GGR274 Lab 10: Project data description and analysis \n",
    "\n",
    "## Logistics\n",
    "\n",
    "Lab grade will be based on submission of this notebook. \n",
    "\n",
    "You do not have to answer every question, but your notebook should be submitted as usual for attendance. Submit your completed file to [MarkUs](https://markus-ds.teach.cs.toronto.edu).\n",
    "Here are the instructions for submitting to MarkUs (same as last week):\n",
    "\n",
    "1. Download this file (`Lab_10.ipynb`) from JupyterHub. (See [our JupyterHub Guide](../../../guides/jupyterhub_guide.ipynb) for detailed instructions.)\n",
    "2. Submit this file to MarkUs under the **lab10** assignment. (See [our MarkUs Guide](../../../guides/markus_guide.ipynb) for detailed instructions.)\n",
    "\n",
    "Note: there's no autograding set up for this week's lab, but your TA will be checking that your submitted lab file is complete as part of your \"lab attendance\" grade."
   ]
  },
  {
   "cell_type": "markdown",
   "id": "68bab026",
   "metadata": {},
   "source": [
    "## Lab 10 Introduction"
   ]
  },
  {
   "cell_type": "markdown",
   "id": "41d39a74",
   "metadata": {},
   "source": [
    "This lab is intended to give you some structured work time for your project. Last week, you have outlined how you will prepare your data for analysis. This week will focus on getting you to think about how to start describing your data and performing some preliminary analysis.\n",
    "\n",
    "What you write in this and the following labs are for your own reference. You may answer the questions in either words or code, but whenever possible, you should give the function you intend to use. "
   ]
  },
  {
   "cell_type": "markdown",
   "id": "e69eb792-d5f6-4548-8e27-2d60fcab5d1c",
   "metadata": {},
   "source": [
    "### Let's get started:"
   ]
  },
  {
   "cell_type": "markdown",
   "id": "c293dca5",
   "metadata": {},
   "source": [
    "You can change the following code to import your data"
   ]
  },
  {
   "cell_type": "code",
   "execution_count": 1,
   "id": "b16347a9",
   "metadata": {},
   "outputs": [],
   "source": [
    "import pandas as pd\n",
    "\n",
    "# Change the variable name, file name, sheet name, and the header before run it\n",
    "Your_DataFrame_Name_1 = pd.read_excel(\"../../../project/presentation/data/Your_Intentional_Data_File_Name\", \n",
    "                                   sheet_name = \"Sheet_Name\",\n",
    "                                   header = 999)\n",
    "\n",
    "\n",
    "# Import another dataframe you have chosen\n",
    "Your_DataFrame_Name_2 = pd.read_excel(\"../../../project/presentation/data/Your_Intentional_Data_File_Name\", \n",
    "                                   sheet_name = \"Sheet_Name\",\n",
    "                                   header = 999)\n",
    "\n",
    "# Think about how to merge the dataframes\n",
    "# Or paste your codes last week here if you already prepared!"
   ]
  },
  {
   "cell_type": "markdown",
   "id": "a528e086",
   "metadata": {},
   "source": [
    "What function can you use to produce a statistical summary of your data?"
   ]
  },
  {
   "cell_type": "code",
   "execution_count": 1,
   "id": "b21f2fa1",
   "metadata": {},
   "outputs": [],
   "source": [
    "# Write your notes here using comments\n"
   ]
  },
  {
   "cell_type": "markdown",
   "id": "a2a51002",
   "metadata": {},
   "source": [
    "In your statistical summary, you will see values for min, max, standard deviation, etc. What analysis would you need to perform using this information to find out if there are outliers in your dataset (hint: think about quartiles)?"
   ]
  },
  {
   "cell_type": "code",
   "execution_count": 2,
   "id": "8ac758c9",
   "metadata": {},
   "outputs": [],
   "source": [
    "# Write your notes here using comments\n"
   ]
  },
  {
   "cell_type": "markdown",
   "id": "6940e8fd",
   "metadata": {},
   "source": [
    "Will outliers impact your analysis? If so, how will you treat outliers?"
   ]
  },
  {
   "cell_type": "code",
   "execution_count": 3,
   "id": "7439f378",
   "metadata": {},
   "outputs": [],
   "source": [
    "# Write your notes here using comments\n"
   ]
  },
  {
   "cell_type": "markdown",
   "id": "6bdc42ea",
   "metadata": {},
   "source": [
    "What is your hypothesis about your research question?"
   ]
  },
  {
   "cell_type": "code",
   "execution_count": 4,
   "id": "8cffa1d4",
   "metadata": {},
   "outputs": [],
   "source": [
    "# Write your hypotheses here!\n",
    "# Include null hypothesis and alternative hypothesis\n"
   ]
  },
  {
   "cell_type": "markdown",
   "id": "367ecc5d",
   "metadata": {},
   "source": [
    "What functions will you need to use to test your hypotheses?"
   ]
  },
  {
   "cell_type": "code",
   "execution_count": 5,
   "id": "142e39e6",
   "metadata": {},
   "outputs": [],
   "source": [
    "# Write your notes here using comments\n"
   ]
  }
 ],
 "metadata": {
  "kernelspec": {
   "display_name": "Python 3 (ipykernel)",
   "language": "python",
   "name": "python3"
  },
  "language_info": {
   "codemirror_mode": {
    "name": "ipython",
    "version": 3
   },
   "file_extension": ".py",
   "mimetype": "text/x-python",
   "name": "python",
   "nbconvert_exporter": "python",
   "pygments_lexer": "ipython3",
   "version": "3.8.8"
  }
 },
 "nbformat": 4,
 "nbformat_minor": 5
}
