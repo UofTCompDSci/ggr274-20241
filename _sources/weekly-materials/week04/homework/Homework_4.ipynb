{
 "cells": [
  {
   "cell_type": "markdown",
   "id": "dd119478",
   "metadata": {},
   "source": [
    "# GGR274 Homework 4: Time Use Survey Data\n",
    "\n",
    "## Logistics\n",
    "\n",
    "**Due date**: The homework is due 23:59 on Monday, February 05.\n",
    "\n",
    "You will submit your work on [MarkUs](https://markus-ds.teach.cs.toronto.edu).\n",
    "To submit your work:\n",
    "\n",
    "1. Download this file (`Homework_4.ipynb`) from JupyterHub. (See [our JupyterHub Guide](../../../guides/jupyterhub_guide.ipynb) for detailed instructions.)\n",
    "2. Submit this file to MarkUs under the **hw4** assignment. (See [our MarkUs Guide](../../../guides/markus_guide.ipynb) for detailed instructions.)\n",
    "All homeworks will take place in a Jupyter notebook (like this one). When you are done, you will download this notebook and submit it to MarkUs."
   ]
  },
  {
   "cell_type": "markdown",
   "id": "9076c82d",
   "metadata": {},
   "source": [
    "## Introduction\n",
    "\n",
    "For this week's homework, you will use the Statistics Canada GSS Time Use Dataset. This time, we're going to dig into some of the well-being variables (feeling rushed) and respondent characteristic variables (how people commute to work).\n",
    "\n",
    "\n",
    "## Question\n",
    "\n",
    "The question you're answering in this homework:\n",
    "\n",
    "> Among Canadians that live in rural communities, is it less common for people to feel rushed and take transit to work or feel rushed and not take transit to work?\n"
   ]
  },
  {
   "cell_type": "markdown",
   "id": "65a847b9",
   "metadata": {},
   "source": [
    "## Homework Instructions and Learning Objectives\n",
    "\n",
    "The goal of this homework is to answer the question above performing these steps:\n",
    "\n",
    "- Read the Time Use Dataset into a pandas `DataFrame`.\n",
    "\n",
    "- Select specific columns and rows of the `DataFrame`.\n",
    "\n",
    "- Compute the proportions of rural respondents that feel rushed and either use or don't use public transit to commute to work.\n",
    "\n",
    "- Interpret the results of the analysis."
   ]
  },
  {
   "cell_type": "markdown",
   "id": "c92b7175",
   "metadata": {},
   "source": [
    "## Task 1\n",
    "\n",
    "a) Read the time use data set stored in the csv file `gss_tu2016_main_file.csv` into a pandas `DataFrame` and store the `DataFrame` in a variable named `time_use_data_raw`.\n",
    "\n",
    "_The file is located in the same folder as the notebook._"
   ]
  },
  {
   "cell_type": "code",
   "execution_count": null,
   "id": "6eb286dd",
   "metadata": {},
   "outputs": [],
   "source": [
    "import pandas as pd\n",
    "\n",
    "# Write your code here\n"
   ]
  },
  {
   "cell_type": "markdown",
   "id": "0f033511",
   "metadata": {},
   "source": [
    "b. The columns we will need for the analysis to answer the question are:\n",
    "\n",
    "+ `CASEID`: participant ID\n",
    "+ `luc_rst`: Urban/Rural\n",
    "+ `gtu_110`: How often does one feel rushed?\n",
    "+ `ctw_140c`: Commute to work - Public transit\n",
    "\n",
    "Create a new `DataFrame` using `time_use_data_raw` that only contains the four columns in the order listed above.  The first column should be `CASEID`, the second column should be `luc_rst`, etc.  This new `DataFrame` should be stored in a variable named `time_use_data`."
   ]
  },
  {
   "cell_type": "code",
   "execution_count": null,
   "id": "643107bd",
   "metadata": {},
   "outputs": [],
   "source": [
    "# Write your code here\n"
   ]
  },
  {
   "cell_type": "markdown",
   "id": "1feb6abf",
   "metadata": {},
   "source": [
    "c) Create a Python dictionary stored in a variable called `new_column_names`, that maps old column name to new column name according to the following table:\n",
    "\n",
    "old name | new name\n",
    "---------|----------\n",
    "`CASEID` | `case_ID`\n",
    "`luc_rst`| `urban_rural`\n",
    "`gtu_110`| `feeling_rushed`\n",
    "`ctw_140c`| `public_transit`\n",
    "\n",
    "You'll use this dictionary to rename the columns in part (d) below."
   ]
  },
  {
   "cell_type": "code",
   "execution_count": 1,
   "id": "76951cda",
   "metadata": {},
   "outputs": [],
   "source": [
    "# Write your code here"
   ]
  },
  {
   "cell_type": "markdown",
   "id": "c8d92c17",
   "metadata": {},
   "source": [
    "d) Use the dictionary `new_column_names` created in the previous step to rename the columns of the `DataFrame` stored in `time_use_data`.  Store this new `DataFrame` in a variable called `clean_time_use_data`."
   ]
  },
  {
   "cell_type": "code",
   "execution_count": null,
   "id": "993d5967",
   "metadata": {},
   "outputs": [],
   "source": [
    "# Write your code here"
   ]
  },
  {
   "cell_type": "markdown",
   "id": "2fea5058",
   "metadata": {},
   "source": [
    "## Task 2\n",
    "\n",
    "a) Use the code book for the Time Use Survey in the file `gss_tu2016_codebook.txt` to guide you in creating boolean variables using `clean_time_use_data` that correspond the the following conditions and store the results in the variable names specified below.\n",
    "\n",
    "Condition                                 | variable name\n",
    "------------------------------------------|---------------\n",
    "Commutes to work by taking public transit | `transit_yes`\n",
    "Does not commute to work by taking public transit | `transit_no`\n",
    "Respondent feels rushed                   | `feeling_rushed`\n",
    "Lives in a rural area/small population centre | `rural`\n",
    "\n",
    "**Tip**: go to File -> Open menu action to find the `gss_tu2016_codebook.txt` file in the same folder as this notebook."
   ]
  },
  {
   "cell_type": "code",
   "execution_count": null,
   "id": "4cd58f02",
   "metadata": {},
   "outputs": [],
   "source": [
    "# Write your code here\n"
   ]
  },
  {
   "cell_type": "markdown",
   "id": "6dc86039",
   "metadata": {},
   "source": [
    "b) In this part of the task you will investigate the data types of one of the variables you created in the previous part.\n",
    "\n",
    "i) Store the data type of `transit_yes` in a variable called `transit_col_type` and print the value of `transit_col_type`.  \n",
    "  \n",
    "ii) Store the data type of values in `transit_yes` in a variable called `transit_data_type` and print the value of `transit_data_type`. "
   ]
  },
  {
   "cell_type": "code",
   "execution_count": null,
   "id": "d0e29dba",
   "metadata": {},
   "outputs": [],
   "source": [
    "# Write your code here\n"
   ]
  },
  {
   "cell_type": "markdown",
   "id": "b305a1c7",
   "metadata": {},
   "source": [
    "c) Briefly explain the difference between the values of `transit_yes` and `transit_data_type`. "
   ]
  },
  {
   "cell_type": "markdown",
   "id": "dcf04aea",
   "metadata": {},
   "source": [
    "> _Answer Task 2 c) here._"
   ]
  },
  {
   "cell_type": "markdown",
   "id": "5665007d",
   "metadata": {
    "tags": []
   },
   "source": [
    "## Task 3\n",
    "\n",
    "In this section you will write a program in a series of steps to analyse the data.\n",
    "\n",
    "Use the `DataFrame` `clean_time_use_data` and the variables that you created in [Task 2 a)](#Task-2).\n",
    "\n",
    "The data analysis will be implemented by writing a Python program to compute two proportions that you will express as percentages (i.e., multiplying by 100).\n",
    "\n",
    "$${\\text{Percent}_\\text{Transit}} = \\frac{\\text{Total number of respondents in rural areas that take transit and feel rushed}}{\\text{Total number of respondents in rural areas}}\\times 100 $$\n",
    "\n",
    "$${\\text{Percent}_\\text{No Transit}} = \\frac{\\text{Total number of respondents in rural areas that do not take transit and feel rushed}}{\\text{Total number of respondents in rural areas}}\\times 100 $$\n",
    "\n",
    "The program will be written in a series of steps. \n",
    "\n",
    "a) Create a variable called `total_rural` that stores the total number of respondents that live in a rural area.  Print the value of this variable. This is the value of: $\\text{Total number of respondents in rural areas}$ in the proportions above.\n"
   ]
  },
  {
   "cell_type": "code",
   "execution_count": null,
   "id": "cf8a6114",
   "metadata": {},
   "outputs": [],
   "source": [
    "# Write your code here\n"
   ]
  },
  {
   "cell_type": "markdown",
   "id": "5be33388",
   "metadata": {},
   "source": [
    "b) Create a variable called `rural_rush_transit` that is `True` if a respondent has ever felt rushed **AND** uses public transit to work and lives in a rural area.\n",
    "\n",
    "Then, use this variable to select rows in `clean_time_use_data` and then compute the number of such rows, storing the result in a variable called `rural_rush_transit_num`.\n",
    "This is the value of: $\\text{Total number of respondents in rural areas that take transit and feel rushed}$."
   ]
  },
  {
   "cell_type": "code",
   "execution_count": null,
   "id": "851fc734",
   "metadata": {},
   "outputs": [],
   "source": [
    "# Write your code here\n"
   ]
  },
  {
   "cell_type": "markdown",
   "id": "4415c201",
   "metadata": {},
   "source": [
    "c) Calculate the proportion of respondents in rural areas that feel rushed and use public transit to work. Store the result in a variable called `rural_rush_transit_prop`."
   ]
  },
  {
   "cell_type": "code",
   "execution_count": null,
   "id": "e5fb395b",
   "metadata": {},
   "outputs": [],
   "source": [
    "# Write your code here\n"
   ]
  },
  {
   "cell_type": "markdown",
   "id": "230b4bcb",
   "metadata": {},
   "source": [
    "d) Print the value of `rural_rush_transit_prop` multiplied by 100 and rounded to two decimal places with the percent character (i.e., \"%\") added to the end of the proportion.  This is the value of: ${\\text{Percent}_\\text{Transit}}$."
   ]
  },
  {
   "cell_type": "code",
   "execution_count": null,
   "id": "19f9f70a",
   "metadata": {},
   "outputs": [],
   "source": [
    "# Write your code here\n"
   ]
  },
  {
   "cell_type": "markdown",
   "id": "39521b75",
   "metadata": {},
   "source": [
    "e) Use the `print` function to print the following sentence:\n",
    "\n",
    "`The number of people that use transit and feel rushed is {XX}`.\n",
    "\n",
    "Fill in the value of `{XX}`."
   ]
  },
  {
   "cell_type": "code",
   "execution_count": null,
   "id": "5154e37f",
   "metadata": {},
   "outputs": [],
   "source": [
    "# Write your code here\n"
   ]
  },
  {
   "cell_type": "markdown",
   "id": "baa7a167",
   "metadata": {},
   "source": [
    "f) Create a variable called `rural_rush_notransit` that is `True` if a respondent has ever felt rushed **AND** does **not** use public transit to work **AND** lives in a rural area. \n",
    "\n",
    "Then, use this variable to select rows in `clean_time_use_data` and then compute the number of such rows, storing the result in a variable called `rural_rush_notransit_num`.\n",
    "\n",
    "This is the value of: $\\text{Total number of respondents in rural areas that do not take transit and feel rushed}$."
   ]
  },
  {
   "cell_type": "code",
   "execution_count": null,
   "id": "e9135016",
   "metadata": {},
   "outputs": [],
   "source": [
    "# Write your code here\n"
   ]
  },
  {
   "cell_type": "markdown",
   "id": "0a94d0a2",
   "metadata": {},
   "source": [
    "g) Use `rural_rush_notransit` to select rows in `clean_time_use_data` and compute the proportion of rural respondents (i.e., rows) that feel rushed and do not take public transit.  Store the proportion in a variable `rural_rush_monthly_prop`."
   ]
  },
  {
   "cell_type": "code",
   "execution_count": null,
   "id": "11176cb7",
   "metadata": {},
   "outputs": [],
   "source": [
    "# Write your code here\n"
   ]
  },
  {
   "cell_type": "markdown",
   "id": "91418aab",
   "metadata": {},
   "source": [
    "h) Print the value of `rural_rush_monthly_prop` multiplied by 100 and rounded to two decimal places with the percent character (i.e., \"%\") added to the end of the proportion. This is the value of: ${\\text{Percent}_\\text{No Transit}}$."
   ]
  },
  {
   "cell_type": "code",
   "execution_count": null,
   "id": "16952019",
   "metadata": {},
   "outputs": [],
   "source": [
    "# Write your code here\n"
   ]
  },
  {
   "cell_type": "markdown",
   "id": "326f8a67",
   "metadata": {},
   "source": [
    "h) Use the `print` function to print the following sentence:\n",
    "\n",
    "`The number of people that do not use transit and feel rushed is {XX}.`\n",
    "\n",
    "Fill in the value of `{XX}`."
   ]
  },
  {
   "cell_type": "code",
   "execution_count": null,
   "id": "38982870",
   "metadata": {},
   "outputs": [],
   "source": [
    "# Write your code here\n"
   ]
  },
  {
   "cell_type": "markdown",
   "id": "ed1a35e5",
   "metadata": {},
   "source": [
    "## Task 4\n",
    "\n",
    "Answer the following questions.\n",
    "\n",
    "a) Is the data analysis above sufficient to answer the original question?  If yes then explain why it's sufficient, otherwise explain what type of analysis would have provided appropriate information to help answer the question. Briefly explain your reasoning."
   ]
  },
  {
   "cell_type": "markdown",
   "id": "c0288008",
   "metadata": {},
   "source": [
    "> _Answer Task 4 1) here._"
   ]
  },
  {
   "cell_type": "markdown",
   "id": "d7485340",
   "metadata": {},
   "source": [
    "b) Does the data analysis you performed above provide evidence that Canadians who live in rural areas and use public transit have a poorer mental health than those who don't use public transit to commute to work?  If the analysis doesn't support this claim then describe an analysis that would give you evidence to evaluate this claim. Briefly explain your reasoning."
   ]
  },
  {
   "cell_type": "markdown",
   "id": "e3e374c3",
   "metadata": {},
   "source": [
    "> _Answer Task 4 b) here._"
   ]
  },
  {
   "cell_type": "markdown",
   "id": "cc7cc686",
   "metadata": {},
   "source": [
    "## Marking Rubric\n",
    "\n",
    "\n",
    "Section     | 0 | 1 | 2 | 3\n",
    "------------|---|---|---|---\n",
    "Computational questions (for each part) |auto test fails | auto test passes | NA | NA \n",
    "Qualitative questions (for each part) | No answer | The question is answered but no explanation is given | The question is answered but the explanation is not supported or weakly supported | The question is answered and the explanation is supported"
   ]
  }
 ],
 "metadata": {
  "kernelspec": {
   "display_name": "Python 3",
   "language": "python",
   "name": "python3"
  },
  "language_info": {
   "codemirror_mode": {
    "name": "ipython",
    "version": 3
   },
   "file_extension": ".py",
   "mimetype": "text/x-python",
   "name": "python",
   "nbconvert_exporter": "python",
   "pygments_lexer": "ipython3",
   "version": "3.10.13"
  },
  "vscode": {
   "interpreter": {
    "hash": "8b8edaa195e148f815789564e9a10f57d8b792ac9e1a5daafce5fbae42bebd0e"
   }
  }
 },
 "nbformat": 4,
 "nbformat_minor": 5
}
