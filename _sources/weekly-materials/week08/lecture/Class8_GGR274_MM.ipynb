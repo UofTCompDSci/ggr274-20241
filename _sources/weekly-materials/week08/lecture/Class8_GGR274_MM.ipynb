{
 "cells": [
  {
   "cell_type": "markdown",
   "id": "18a303b0-cf44-4c68-9d49-ec524a677a0b",
   "metadata": {
    "slideshow": {
     "slide_type": "slide"
    }
   },
   "source": [
    "# Class 7\n",
    "\n",
    "## Mar. 5, 2024\n",
    "\n",
    "_Where we left off last week_\n",
    "\n",
    "- understand the role of empirical distributions (sample and statistic) and simulation\n",
    "\n",
    "_New topics for today_\n",
    "\n",
    "- Models\n",
    "\n",
    "- Comparing two samples\n",
    "\n",
    "- Causality\n"
   ]
  },
  {
   "cell_type": "markdown",
   "id": "ace25f10",
   "metadata": {
    "slideshow": {
     "slide_type": "slide"
    }
   },
   "source": [
    "## Sampling from a Population\n",
    "\n",
    "The law of averages also holds when the random sample is drawn from individuals in a large population.\n",
    "\n",
    "```\n",
    " persdur            Duration - Personal activities\n",
    "\n",
    "           VALUE  LABEL\n",
    "               0  No time spent doing this activity\n",
    "            9996  Valid skip\n",
    "            9997  Don't know\n",
    "            9998  Refusal\n",
    "            9999  Not stated\n",
    "\n",
    "\n",
    " luc_rst            Population centre indicator\n",
    "\n",
    "           VALUE  LABEL\n",
    "               1  Larger urban population centres (CMA/CA)\n",
    "               2  Rural areas and small population centres (non CMA/CA)\n",
    "               3  Prince Edward Island\n",
    "               6  Valid skip\n",
    "               7  Don't know\n",
    "               8  Refusal\n",
    "               9  Not stated\n",
    "```"
   ]
  },
  {
   "cell_type": "code",
   "execution_count": null,
   "id": "6391b618",
   "metadata": {
    "slideshow": {
     "slide_type": "subslide"
    }
   },
   "outputs": [],
   "source": [
    "import pandas as pd\n",
    "timeuse = pd.read_csv('gss_tu2016_main_file.csv')\n",
    "\n",
    "importantcols = ['CASEID', 'persdur', 'luc_rst']\n",
    "\n",
    "timeuse_subset = timeuse[importantcols]\n",
    "print(timeuse_subset.shape)\n",
    "timeuse_subset.head()"
   ]
  },
  {
   "cell_type": "markdown",
   "id": "a2a5cf5e",
   "metadata": {
    "slideshow": {
     "slide_type": "subslide"
    }
   },
   "source": [
    "Transform time spent on personal activities from minutes to hours, and add this new column called `'persdur_hour'` to `timeuse_subset`."
   ]
  },
  {
   "cell_type": "code",
   "execution_count": null,
   "id": "9737dba9",
   "metadata": {},
   "outputs": [],
   "source": [
    "timeuse_subset = timeuse_subset.copy()\n",
    "timeuse_subset['persdur_hour'] = (timeuse_subset['persdur']/60)\n",
    "timeuse_subset.head()"
   ]
  },
  {
   "cell_type": "markdown",
   "id": "8d13d7c7",
   "metadata": {
    "slideshow": {
     "slide_type": "subslide"
    }
   },
   "source": [
    "Let's zoom in on respondents that had a personal activities time between 0.25 and 3 hours."
   ]
  },
  {
   "cell_type": "code",
   "execution_count": null,
   "id": "2b204790",
   "metadata": {},
   "outputs": [],
   "source": [
    "zoom = (timeuse_subset['persdur_hour'] >= 0.25) & (timeuse_subset['persdur_hour'] <= 3)\n",
    "\n",
    "timeuse_subset.loc[zoom].describe()"
   ]
  },
  {
   "cell_type": "markdown",
   "id": "6d6fcf61",
   "metadata": {
    "slideshow": {
     "slide_type": "subslide"
    }
   },
   "source": [
    "## Empirical Distribution of the Sample\n",
    "\n",
    "- Let's think of the 13,004 respondent times (hours) as a population, and draw random samples from it with replacement. \n",
    "\n",
    "- Below is a histogram of the distribution."
   ]
  },
  {
   "cell_type": "code",
   "execution_count": null,
   "id": "9664412c",
   "metadata": {},
   "outputs": [],
   "source": [
    "persdur_zoom = timeuse_subset.loc[zoom, 'persdur_hour']\n",
    "\n",
    "persdur_zoom.plot.hist(bins = 10, color = 'grey', edgecolor = 'black')"
   ]
  },
  {
   "cell_type": "markdown",
   "id": "c0229407",
   "metadata": {
    "slideshow": {
     "slide_type": "subslide"
    }
   },
   "source": [
    "A random sample of 100 ..."
   ]
  },
  {
   "cell_type": "code",
   "execution_count": null,
   "id": "dcd4298d",
   "metadata": {},
   "outputs": [],
   "source": [
    "persdur_zoom.sample(100, replace = True).plot.hist(bins = 10, color = 'grey', edgecolor = 'black')"
   ]
  },
  {
   "cell_type": "markdown",
   "id": "7ab338c2",
   "metadata": {
    "slideshow": {
     "slide_type": "fragment"
    }
   },
   "source": [
    "- The values that occur with the least frequency are less likely to occur in small random samples.\n",
    "- As the size of the random sample increases the sample will resemble the population, with high probability."
   ]
  },
  {
   "cell_type": "markdown",
   "id": "23dbe931",
   "metadata": {
    "slideshow": {
     "slide_type": "subslide"
    }
   },
   "source": [
    "## Interactive exploration of empirical distribution of a sample"
   ]
  },
  {
   "cell_type": "code",
   "execution_count": null,
   "id": "b401d770",
   "metadata": {},
   "outputs": [],
   "source": [
    "from ipywidgets import interact\n",
    "import ipywidgets as widgets\n",
    "\n",
    "def emp_hist_plot(n):\n",
    "    persdur_zoom.sample(n, replace = True).plot.hist(bins = 10, color = 'grey', edgecolor = 'black')\n",
    "\n",
    "interact(emp_hist_plot, n = widgets.IntSlider(min = 10, max= 500, step=50, value=10))"
   ]
  },
  {
   "cell_type": "markdown",
   "id": "786fc970",
   "metadata": {
    "slideshow": {
     "slide_type": "fragment"
    }
   },
   "source": [
    "The histogram of the \"population\"."
   ]
  },
  {
   "cell_type": "code",
   "execution_count": null,
   "id": "a467477a",
   "metadata": {},
   "outputs": [],
   "source": [
    "persdur_zoom.plot.hist(bins = 10, color = 'grey', edgecolor = 'black');"
   ]
  },
  {
   "cell_type": "markdown",
   "id": "cafd2d6f",
   "metadata": {
    "slideshow": {
     "slide_type": "subslide"
    }
   },
   "source": [
    "## Questions\n",
    "\n",
    "- Describe how the empirical histogram changes as the the value `n` gets larger."
   ]
  },
  {
   "cell_type": "markdown",
   "id": "fef3a8a1",
   "metadata": {
    "slideshow": {
     "slide_type": "subslide"
    }
   },
   "source": [
    "## Empirical Distribution of a Statistic\n",
    "\n",
    "The Law of Averages implies that with high probability, the empirical distribution of a large random sample will resemble the distribution of the population from which the sample was drawn.\n",
    "\n",
    "The resemblance is visible in two histograms: the empirical histogram of a large random sample is likely to resemble the histogram of the population."
   ]
  },
  {
   "cell_type": "markdown",
   "metadata": {
    "slideshow": {
     "slide_type": "subslide"
    }
   },
   "source": [
    "## Statistical Parameter\n",
    "\n",
    "Frequently, we are interested in numerical quantities associated with a population.\n",
    "\n",
    "- In a population of voters, what percent will vote for Candidate A?\n",
    "\n",
    "- In a population of Facebook users, what is the largest number of Facebook friends that the users have?\n",
    "\n",
    "- In a population of Air Canada flights, what is the median departure delay?\n",
    "\n",
    "\n",
    "Numerical quantities associated with a (statistical) population are called *statistical parameters* or *parameters*. For the population of respondents in `persdur_zoom`, we know the value of the parameter \"median time (hours) spent on personal activities\":"
   ]
  },
  {
   "cell_type": "code",
   "execution_count": null,
   "id": "637eee6b",
   "metadata": {},
   "outputs": [],
   "source": [
    "persdur_zoom.median()"
   ]
  },
  {
   "cell_type": "markdown",
   "id": "3fad42c7",
   "metadata": {
    "slideshow": {
     "slide_type": "subslide"
    }
   },
   "source": [
    "## Statistic\n",
    "In many situations, we will be interested in figuring out the value of an unknown parameter. For this, we will rely on data from a large random sample drawn from the population.\n",
    "\n",
    "A *statistic* (note the singular!) is any number computed using the data in a sample. The sample median, therefore, is a statistic. \n",
    "\n",
    "Remember that `persdur_zoom.sample(100)` contains a random sample of 100 respondents from `persdur_zoom`. The observed value of the sample median is:"
   ]
  },
  {
   "cell_type": "code",
   "execution_count": null,
   "id": "7ad59370",
   "metadata": {},
   "outputs": [],
   "source": [
    "persdur_zoom.sample(100).median()"
   ]
  },
  {
   "cell_type": "markdown",
   "id": "f836e0e0",
   "metadata": {
    "slideshow": {
     "slide_type": "subslide"
    }
   },
   "source": [
    "Our sample – one set of 100 people – gave us one observed value of the statistic. This raises an important problem of inference:\n",
    "\n",
    "**The statistic could have been different.**\n",
    "A fundamental consideration in using any statistic based on a random sample is that *the sample could have come out differently*, and therefore the statistic could have come out differently too. "
   ]
  },
  {
   "cell_type": "markdown",
   "id": "2d8fe60f",
   "metadata": {
    "slideshow": {
     "slide_type": "fragment"
    }
   },
   "source": [
    "Run the cell above a few times to see how the answer varies. Often it is equal to 0.75, the same value as the population parameter. But sometimes it is different."
   ]
  },
  {
   "cell_type": "markdown",
   "id": "917e4166",
   "metadata": {
    "slideshow": {
     "slide_type": "fragment"
    }
   },
   "source": [
    "**Just how different could the statistic have been?** One way to answer this is to simulate the statistic many times and note the values. A histogram of those values will tell us about the **distribution of the statistic**."
   ]
  },
  {
   "cell_type": "markdown",
   "id": "9f6da1dd",
   "metadata": {
    "slideshow": {
     "slide_type": "subslide"
    }
   },
   "source": [
    "## Simulating a Statistic\n",
    "We will simulate the sample median using the steps below.  You can replace the sample size of 1000 by any other sample size, and the sample median by any other statistic.\n",
    "\n",
    "**Step 1: Decide which statistic to simulate.** We have already decided that: we are going to simulate the median of a random sample of size 1000 drawn from the population of time use survey respondents that had a median time spent on personal activities between 0.25 and 3.0 hours.\n",
    "\n",
    "**Step 2: Define a function that returns one simulated value of the statistic.** Draw a random sample of size 1000 and compute the median of the sample. We did this in the code cell above. Here it is again, encapsulated in a function."
   ]
  },
  {
   "cell_type": "code",
   "execution_count": null,
   "id": "5eb378fb",
   "metadata": {},
   "outputs": [],
   "source": [
    "def random_sample_median():\n",
    "    return persdur_zoom.sample(100).median()"
   ]
  },
  {
   "cell_type": "code",
   "execution_count": null,
   "id": "1eec73a6",
   "metadata": {
    "slideshow": {
     "slide_type": "fragment"
    }
   },
   "outputs": [],
   "source": [
    "random_sample_median()"
   ]
  },
  {
   "cell_type": "markdown",
   "id": "3979a0fb",
   "metadata": {
    "slideshow": {
     "slide_type": "subslide"
    }
   },
   "source": [
    "**Step 3: Decide how many simulated values to generate.** Let's do 5,000 repetitions.\n",
    "\n",
    "**Step 4: Use a `for` loop to generate a list of simulated values.** Start by creating an empty list in which to collect our results. We will then set up a `for` loop for generating all the simulated values. The body of the loop will consist of generating one simulated value of the sample median, and appending it to our collection list.\n",
    "\n",
    "The simulation takes a noticeable amount of time to run. That is because it is performing 5000 repetitions of the process of drawing a sample of size 1000 and computing its median. That's a lot of sampling and repeating!"
   ]
  },
  {
   "cell_type": "markdown",
   "id": "1c6a6530",
   "metadata": {
    "slideshow": {
     "slide_type": "subslide"
    }
   },
   "source": [
    "Let's break down this step a bit further:\n",
    "\n",
    "- set up an empty list called `sim_medians`."
   ]
  },
  {
   "cell_type": "code",
   "execution_count": null,
   "id": "f20eea7b",
   "metadata": {},
   "outputs": [],
   "source": [
    "sim_medians = [] # empty list"
   ]
  },
  {
   "cell_type": "markdown",
   "id": "306bbb0d",
   "metadata": {
    "slideshow": {
     "slide_type": "fragment"
    }
   },
   "source": [
    "- Use the `append` function to append values to `sim_medians`."
   ]
  },
  {
   "cell_type": "code",
   "execution_count": null,
   "id": "e5b24aeb",
   "metadata": {},
   "outputs": [],
   "source": [
    "sim_medians.append(random_sample_median())\n",
    "sim_medians"
   ]
  },
  {
   "cell_type": "markdown",
   "id": "82fd17f1",
   "metadata": {
    "slideshow": {
     "slide_type": "fragment"
    }
   },
   "source": [
    "- Run the cell above several times and you will see that values keep getting appended to `sim_medians`.\n",
    "\n",
    "- Each time the cell is run a random sample of 100 is drawn, the median is calculated then appended to the list."
   ]
  },
  {
   "cell_type": "code",
   "execution_count": null,
   "id": "a93270f7",
   "metadata": {},
   "outputs": [],
   "source": [
    "sim_medians = []\n",
    "\n",
    "num_sims = 5000 \n",
    "\n",
    "for _ in range(num_sims):\n",
    "    sim_medians.append(random_sample_median())"
   ]
  },
  {
   "cell_type": "markdown",
   "id": "fcc87430",
   "metadata": {
    "slideshow": {
     "slide_type": "subslide"
    }
   },
   "source": [
    "## Empirical Distribution of a Statistic\n",
    "\n",
    "We can now examine the **empirical frequency distribution** of the median statistic."
   ]
  },
  {
   "cell_type": "markdown",
   "id": "0d479dcb",
   "metadata": {
    "slideshow": {
     "slide_type": "fragment"
    }
   },
   "source": [
    "Create a `pandas` series using the list `sim_medians` then use the `describe` function to describe the distribution."
   ]
  },
  {
   "cell_type": "code",
   "execution_count": null,
   "id": "6524a594",
   "metadata": {},
   "outputs": [],
   "source": [
    "pd.Series(sim_medians).describe()"
   ]
  },
  {
   "cell_type": "markdown",
   "id": "03518bb4",
   "metadata": {
    "slideshow": {
     "slide_type": "subslide"
    }
   },
   "source": [
    "- The distribution of the median can be visualized using a histogram.  \n",
    "\n",
    "- The histogram can tell us how frequent certain values of the median occur in random samples."
   ]
  },
  {
   "cell_type": "code",
   "execution_count": null,
   "id": "5127a82f",
   "metadata": {},
   "outputs": [],
   "source": [
    "import numpy as np\n",
    "import matplotlib.pyplot as plt\n",
    "# create bins of length 0.1 \n",
    "# starting at 0.5 and ending at 1.1\n",
    "\n",
    "median_bins = np.arange(0.5, 1.1, 0.1) \n",
    "\n",
    "# use the bins to plot empirical distribution of medians\n",
    "\n",
    "plt.hist(sim_medians, edgecolor = 'black', color = 'grey', bins = median_bins);"
   ]
  },
  {
   "cell_type": "markdown",
   "id": "96d02581",
   "metadata": {
    "slideshow": {
     "slide_type": "subslide"
    }
   },
   "source": [
    "The exact counts of medians in each interval can be examined using `pd.cut` and `value_counts`."
   ]
  },
  {
   "cell_type": "code",
   "execution_count": null,
   "id": "0cfab888",
   "metadata": {},
   "outputs": [],
   "source": [
    "# create a pandas series so we can use cut function\n",
    "sim_means_series = pd.Series(sim_medians)\n",
    "\n",
    "# frequency of values in each bin\n",
    "print(pd.cut(sim_means_series, median_bins).value_counts())\n",
    "\n",
    "# relative frequency (proportion) of values in each bin\n",
    "pd.cut(sim_means_series, median_bins).value_counts()/num_sims"
   ]
  },
  {
   "cell_type": "markdown",
   "id": "68d81e97",
   "metadata": {
    "slideshow": {
     "slide_type": "fragment"
    }
   },
   "source": [
    "- The histogram shows that the median values between 0.70 and 0.80 have the highest probability of occurring (viz. 0.5314).\n",
    "\n",
    "- This means that a random sample would rarely yield a median value in the range of 0.5 - 0.6 or 1.0 - 1.1."
   ]
  },
  {
   "cell_type": "markdown",
   "id": "5888f9e1",
   "metadata": {
    "slideshow": {
     "slide_type": "subslide"
    }
   },
   "source": [
    "## What can we learn from simulation?\n",
    "\n",
    "- If we could generate all possible random samples of size 1000, we would know all possible values of the statistic (the sample median), as well as the probabilities of all those values. We could visualize all the values and probabilities in the probability histogram of the statistic."
   ]
  },
  {
   "cell_type": "markdown",
   "id": "3c898c41",
   "metadata": {
    "slideshow": {
     "slide_type": "fragment"
    }
   },
   "source": [
    "- But in many situations including this one, the number of all possible samples is large enough to exceed the capacity of the computer, and purely mathematical calculations of the probabilities can be intractably difficult."
   ]
  },
  {
   "cell_type": "markdown",
   "id": "1d28b7fc",
   "metadata": {
    "slideshow": {
     "slide_type": "fragment"
    }
   },
   "source": [
    "- This is where empirical histograms come in."
   ]
  },
  {
   "cell_type": "markdown",
   "id": "24b20368",
   "metadata": {
    "slideshow": {
     "slide_type": "fragment"
    }
   },
   "source": [
    "- We know that by the Law of Averages, the empirical histogram of the statistic is likely to resemble the probability histogram of the statistic, if the sample size is large and if you repeat the random sampling process numerous times."
   ]
  },
  {
   "cell_type": "markdown",
   "id": "ce9dbb41",
   "metadata": {
    "slideshow": {
     "slide_type": "fragment"
    }
   },
   "source": [
    "- This means that simulating random processes repeatedly is a way of approximating probability distributions *without figuring out the probabilities mathematically or generating all possible random samples*. "
   ]
  },
  {
   "cell_type": "markdown",
   "id": "f2b39896",
   "metadata": {
    "slideshow": {
     "slide_type": "fragment"
    }
   },
   "source": [
    "- Thus computer simulations become a powerful tool in data science. They can help data scientists understand the properties of random quantities that would be complicated to analyze in other ways."
   ]
  },
  {
   "cell_type": "markdown",
   "id": "f6d31097-9363-4fb2-9ecc-1aac7b179527",
   "metadata": {
    "slideshow": {
     "slide_type": "slide"
    }
   },
   "source": [
    "## Models\n",
    "\n",
    "- A model is a set of assumptions about the data.  In many cases models include assumptions about random (stochastic) processes used to generate the data.\n",
    "\n",
    "- Data scientists are often in a position of formulating and assessing models."
   ]
  },
  {
   "cell_type": "markdown",
   "id": "4cebbb19-5679-4ed2-9ffd-012b985fb312",
   "metadata": {
    "slideshow": {
     "slide_type": "slide"
    }
   },
   "source": [
    "## Goals of Data Science\n",
    "\n",
    "- Deeper understanding of the world.\n",
    "\n",
    "- Make the world a better place to live.\n",
    "\n",
    "- For example, help expose injustice.\n",
    "\n",
    "- The skills you are learning help empower you to do this."
   ]
  },
  {
   "cell_type": "markdown",
   "id": "8c9e9d64",
   "metadata": {
    "slideshow": {
     "slide_type": "slide"
    }
   },
   "source": [
    "## Jury Selection\n",
    "\n",
    "- U.S. Constitution grants equal protection under the law"
   ]
  },
  {
   "cell_type": "markdown",
   "id": "ecbd30b8",
   "metadata": {
    "slideshow": {
     "slide_type": "fragment"
    }
   },
   "source": [
    "- All defendants have the right to due process "
   ]
  },
  {
   "cell_type": "markdown",
   "id": "a2ee959c",
   "metadata": {
    "slideshow": {
     "slide_type": "fragment"
    }
   },
   "source": [
    "- Robert Swain, a Black man, was convicted in Talladega County, AL"
   ]
  },
  {
   "cell_type": "markdown",
   "id": "a4ce2705",
   "metadata": {
    "slideshow": {
     "slide_type": "fragment"
    }
   },
   "source": [
    "- He appealed to the U.S. Supreme Court\n",
    "\n",
    "- Main reason: Unfair jury selection in the County’s trials"
   ]
  },
  {
   "cell_type": "markdown",
   "id": "97cb022e",
   "metadata": {
    "slideshow": {
     "slide_type": "fragment"
    }
   },
   "source": [
    "- At the time of the trial, only men aged 21 or more were eligible to serve on juries in Talladega County. In that population, 26% of the men were Black. \n",
    "\n",
    "- But only eight men among the panel of 100 men (that is, 8%) were Black."
   ]
  },
  {
   "cell_type": "markdown",
   "id": "df094ad7",
   "metadata": {
    "slideshow": {
     "slide_type": "fragment"
    }
   },
   "source": [
    "- The U.S. Supreme Court reviewed the appeal and concluded, “the overall percentage disparity has been small.” But was this assertion reasonable? "
   ]
  },
  {
   "cell_type": "markdown",
   "id": "a6eef555-860c-47d6-93f4-3f82f0c227b0",
   "metadata": {
    "slideshow": {
     "slide_type": "fragment"
    }
   },
   "source": [
    "- If jury panelists were selected at random from the county’s eligible population, there would be some chance variation. We wouldn’t get exactly 26 Black panelists on every 100-person panel. But would we expect as few as eight?"
   ]
  },
  {
   "cell_type": "markdown",
   "id": "cc99dd90-1b5c-467e-b07d-14024fc83bb7",
   "metadata": {
    "slideshow": {
     "slide_type": "subslide"
    }
   },
   "source": [
    "## A model of random selection\n",
    "\n",
    "- A model of the data is that the panel was selected at random and ended up with a small number of Black panelists just due to chance.\n",
    "\n",
    "- Since the panel was supposed to resemble the population of all eligible jurors, the model of random selection is important to assess. Let’s see if it stands up to scrutiny.\n",
    "\n",
    "- The `numpy.random` function `multinomial(n, pvals, size)` can be used to simulate sample proportions or counts with two or more categories."
   ]
  },
  {
   "cell_type": "markdown",
   "id": "64577a5a-a0c2-400b-a2f5-f7281d742c86",
   "metadata": {
    "slideshow": {
     "slide_type": "slide"
    }
   },
   "source": [
    "## Example 1: rolling a six-sided die 20 times"
   ]
  },
  {
   "cell_type": "code",
   "execution_count": null,
   "id": "237a8f9b",
   "metadata": {},
   "outputs": [],
   "source": [
    "import numpy as np\n",
    "\n",
    "# number of times die is rolled\n",
    "sample_size = 20\n",
    "\n",
    "# number of experiments\n",
    "num_simulations = 1\n",
    "\n",
    "# probability of each side\n",
    "true_probabilities = [1 / 6] * 6\n",
    "\n",
    "# number of times each side appears\n",
    "counts = np.random.multinomial(sample_size, true_probabilities, size = num_simulations)\n",
    "\n",
    "counts"
   ]
  },
  {
   "cell_type": "code",
   "execution_count": null,
   "id": "51f82363-2dcb-4f92-8c66-80f0acd9897e",
   "metadata": {},
   "outputs": [],
   "source": [
    "proportions = counts / sample_size\n",
    "\n",
    "print('Sample counts: \\n', counts) \n",
    "print('Sample proportions: \\n', proportions)"
   ]
  },
  {
   "cell_type": "markdown",
   "id": "0f2119c0-adcc-4095-90cf-b5e6f1dace60",
   "metadata": {
    "slideshow": {
     "slide_type": "slide"
    }
   },
   "source": [
    "## Example 2: rolling a loaded six-side 100 times more likely to land on 6 - repeated 3 times"
   ]
  },
  {
   "cell_type": "code",
   "execution_count": null,
   "id": "970611e6-05ef-4836-a1a4-57f076c7e0f9",
   "metadata": {},
   "outputs": [],
   "source": [
    "sample_size = 100\n",
    "\n",
    "num_simulations = 3\n",
    "\n",
    "true_probabilities = [1 / 7] * 5 + [2 / 7]\n",
    "\n",
    "counts = np.random.multinomial(sample_size, true_probabilities, size = num_simulations)\n",
    "\n",
    "proportions = counts / sample_size\n",
    "\n",
    "print('Sample counts:\\n', counts) \n",
    "print('Sample proportions: \\n', proportions)"
   ]
  },
  {
   "cell_type": "markdown",
   "id": "4c6f2a05-cf84-4a68-8f8c-12eeb4313acc",
   "metadata": {
    "slideshow": {
     "slide_type": "slide"
    }
   },
   "source": [
    "- Let's use this to simulate the jury selection process.\n",
    "\n",
    "- The size of the jury panel is 100, so `sample_size` is 100. \n",
    "\n",
    "- The distribution from which we will draw the sample is the distribution in the population of eligible jurors: 26% of them were Black, so 100% - 26% = 74% are white (very simplistic assumption, but let's go with it for now). \n",
    "\n",
    "- This means `true_pobabilities` is `[0.26, 0.74]`.\n",
    "\n",
    "- One simulation is below."
   ]
  },
  {
   "cell_type": "code",
   "execution_count": null,
   "id": "eca2d986",
   "metadata": {},
   "outputs": [],
   "source": [
    "import numpy as np\n",
    "import pandas as pd\n",
    "\n",
    "sample_size = 100\n",
    "\n",
    "true_probabilities = [0.26, 0.74]\n",
    "\n",
    "num_simulations = 1\n",
    "\n",
    "counts = np.random.multinomial(sample_size, true_probabilities, size = num_simulations)\n",
    "\n",
    "counts"
   ]
  },
  {
   "cell_type": "code",
   "execution_count": null,
   "id": "98626e7c-772e-4dda-b191-1c39e8fa735b",
   "metadata": {},
   "outputs": [],
   "source": [
    "proportions = counts / sample_size\n",
    "\n",
    "sim_counts = pd.DataFrame(proportions, columns = ['Black', 'White'])\n",
    "\n",
    "print(sim_counts)\n",
    "\n",
    "sim_counts.iloc[0,0]"
   ]
  },
  {
   "cell_type": "markdown",
   "id": "d54a719d",
   "metadata": {
    "slideshow": {
     "slide_type": "subslide"
    }
   },
   "source": [
    "## Quick side note on Indexing a `pandas` `DataFrame`\n",
    "\n",
    "- `iloc` and `loc` are functions that can access data in a `DataFrame`.\n",
    "\n",
    "- `loc` uses labels to access rows and columns.\n",
    "\n",
    "- `iloc` uses integers to access rows and columns."
   ]
  },
  {
   "cell_type": "code",
   "execution_count": null,
   "id": "f8833462",
   "metadata": {},
   "outputs": [],
   "source": [
    "print(sim_counts.shape)"
   ]
  },
  {
   "cell_type": "code",
   "execution_count": null,
   "id": "38a9f6d3",
   "metadata": {},
   "outputs": [],
   "source": [
    "print(sim_counts.index)"
   ]
  },
  {
   "cell_type": "code",
   "execution_count": null,
   "id": "1426a8f6",
   "metadata": {},
   "outputs": [],
   "source": [
    "print(sim_counts.columns)"
   ]
  },
  {
   "cell_type": "code",
   "execution_count": null,
   "id": "29aaea0e",
   "metadata": {},
   "outputs": [],
   "source": [
    "# row 0 column 1\n",
    "print(sim_counts.iloc[0, 1])\n",
    "\n",
    "# access row 0 column 1 using label names\n",
    "print(sim_counts.loc[0, 'White'])"
   ]
  },
  {
   "cell_type": "code",
   "execution_count": null,
   "id": "69f40599",
   "metadata": {},
   "outputs": [],
   "source": [
    "print(sim_counts.iloc[0, 0])\n",
    "\n",
    "print(sim_counts.loc[0,'Black'])"
   ]
  },
  {
   "cell_type": "markdown",
   "id": "1e1069d8-4602-40fb-be47-7e21430eefc7",
   "metadata": {
    "slideshow": {
     "slide_type": "subslide"
    }
   },
   "source": [
    "## Back to simulation ... Simulate one value\n",
    "\n",
    "- Let's write a function to simulate one value."
   ]
  },
  {
   "cell_type": "code",
   "execution_count": null,
   "id": "f3d23692-67a0-4205-b466-7f4a5db54f54",
   "metadata": {
    "slideshow": {
     "slide_type": "-"
    }
   },
   "outputs": [],
   "source": [
    "def simulate_one_count():\n",
    "    sample_size = 100 # jury size\n",
    "\n",
    "    true_probabilities = [0.26, 0.74] #true prob of race\n",
    "    \n",
    "    num_simulations = 1 # number of simulations\n",
    "    # get the random counts\n",
    "    counts = np.random.multinomial(sample_size, true_probabilities, size = num_simulations) \n",
    "    \n",
    "    # store in data frame\n",
    "    sim_counts = pd.DataFrame(counts, columns = ['Black', 'White'])\n",
    "    \n",
    "    return sim_counts.iloc[0,0]\n"
   ]
  },
  {
   "cell_type": "code",
   "execution_count": null,
   "id": "3e371a58-6c50-458f-ad07-e0dd7592e1ce",
   "metadata": {},
   "outputs": [],
   "source": [
    "simulate_one_count()"
   ]
  },
  {
   "cell_type": "markdown",
   "id": "06961dc2-9562-46ef-adc4-a190aa44d76d",
   "metadata": {
    "slideshow": {
     "slide_type": "subslide"
    }
   },
   "source": [
    "## Simulate multiple values\n",
    "\n",
    "-  Our analysis is focused on the variability in the counts. \n",
    "\n",
    "- Let’s generate 10,000 simulated values of the count and see how they vary.\n",
    "\n",
    "- We will do this by using a for loop and collecting all the simulated counts in a list called `sim_counts`"
   ]
  },
  {
   "cell_type": "code",
   "execution_count": null,
   "id": "ccea85b6-57ee-4291-86a7-3aa6c56a31d8",
   "metadata": {},
   "outputs": [],
   "source": [
    "sim_counts = []\n",
    "\n",
    "number_sims = 10000\n",
    "\n",
    "for _ in np.arange(number_sims):\n",
    "    sim_counts.append(simulate_one_count())"
   ]
  },
  {
   "cell_type": "code",
   "execution_count": null,
   "id": "cbc747ac-ea7c-4d32-8b37-15f6db0d9dc0",
   "metadata": {},
   "outputs": [],
   "source": [
    "import matplotlib.pyplot as plt\n",
    "\n",
    "plt.hist(sim_counts, bins = np.arange(5.5, 50, 1), edgecolor = 'black', \n",
    "         color = 'grey', density = True);\n",
    "plt.xlabel('Count in random sample')\n",
    "plt.ylabel('Frequency')\n",
    "plt.scatter(8, 0, color = 'orange', s = 150);"
   ]
  },
  {
   "cell_type": "markdown",
   "id": "830c8bf5-d743-41db-a2df-24019c281c07",
   "metadata": {
    "slideshow": {
     "slide_type": "subslide"
    }
   },
   "source": [
    "## Conclusion of the data analysis\n",
    "\n",
    "- The histogram shows that if we select a panel of size 100 at random from the eligible population, we are very unlikely to get counts of Black panelists that are as low as the eight that were observed on the panel in the trial.\n",
    "\n",
    "- This is evidence that the model of random selection of the jurors in the panel is not consistent with the data from the panel. While it is possible that the panel could have been generated by chance, our simulation demonstrates that it is hugely unlikely.\n",
    "\n",
    "- Therefore the most *reasonable* conclusion is that the assumption of random selection is unjustified for this jury panel."
   ]
  },
  {
   "cell_type": "markdown",
   "id": "8c372dea-0534-444e-b3ba-0ebecb785b89",
   "metadata": {
    "slideshow": {
     "slide_type": "subslide"
    }
   },
   "source": [
    "- The simulation also could have been done using `np.random.multinomial`.\n",
    "\n",
    "- This is an example of a 'vectorized' computation, and are usually faster than non-vectorized computations."
   ]
  },
  {
   "cell_type": "code",
   "execution_count": null,
   "id": "f665c7b0-8d5f-4e85-94a7-4127c52615e0",
   "metadata": {},
   "outputs": [],
   "source": [
    "sample_size = 100\n",
    "\n",
    "true_probabilities = [0.26, 0.74]\n",
    "\n",
    "num_simulations = 10000\n",
    "\n",
    "counts = np.random.multinomial(sample_size, true_probabilities, size = num_simulations)\n",
    "\n",
    "print(len(counts))\n",
    "\n",
    "counts"
   ]
  },
  {
   "cell_type": "markdown",
   "id": "338e88fa-54e3-4150-8ba0-c35aab5f3600",
   "metadata": {
    "slideshow": {
     "slide_type": "slide"
    }
   },
   "source": [
    "## Comparing two samples \n",
    "\n",
    "### Are mental health visit rates higher in Toronto Neighbourhoods with higher material deprivation?\n",
    "\n",
    "> Material deprivation is closely connected to poverty and it refers to inability for individuals and communities to access and attain basic material needs. The indicators included in this dimension measure income, quality of housing, educational attainment, and family structure characteristics. \n",
    "\n",
    "[See 2011 Ontario Marginalization Index Documentation](https://www.publichealthontario.ca/-/media/Documents/O/2017/on-marg-technical.pdf?la=en≻lang=en&hash=EED54DF437EDEDA2DFE1A00A4B14A50A)"
   ]
  },
  {
   "cell_type": "markdown",
   "id": "b99a6b64",
   "metadata": {
    "slideshow": {
     "slide_type": "subslide"
    }
   },
   "source": [
    "## Data wrangling\n",
    "\n",
    "- The next few slides involve reading the data into pandas and getting it ready for analysis.\n",
    "- This won't be covered in detail in class, but we have already covered this process in previous classes."
   ]
  },
  {
   "cell_type": "markdown",
   "id": "29dc46a3-8122-450f-b237-71bb36b92dd4",
   "metadata": {
    "slideshow": {
     "slide_type": "fragment"
    }
   },
   "source": [
    "- The data is stored in `1_marg_neighb_toronto_2006_OnMarg.xls` - a Microsoft Excel file format with file extension `.xls`.\n",
    "\n",
    "- Use `pandas` function `read_excel` with `sheet_name` parameter."
   ]
  },
  {
   "cell_type": "markdown",
   "id": "2b7c8916-4b64-4249-96b5-b2cd552620b2",
   "metadata": {
    "slideshow": {
     "slide_type": "subslide"
    }
   },
   "source": [
    "### Neighbourhood deprivation scores"
   ]
  },
  {
   "cell_type": "code",
   "execution_count": null,
   "id": "c9df7fb0",
   "metadata": {},
   "outputs": [],
   "source": [
    "# this python library is not pre-installed\n",
    "# and is required to use `pandas` `read_excel`\n",
    "%pip install xlrd"
   ]
  },
  {
   "cell_type": "code",
   "execution_count": null,
   "id": "4a8ca612-4deb-42ea-9735-cd5baaa9c8ea",
   "metadata": {},
   "outputs": [],
   "source": [
    "marg_neighb = pd.read_excel('1_marg_neighb_toronto_2006_OnMarg.xls', \n",
    "                            sheet_name='Neighbourhood_Toronto_OnMarg')"
   ]
  },
  {
   "cell_type": "code",
   "execution_count": null,
   "id": "92046668-ce7a-4b73-aab6-6c0d3382fd88",
   "metadata": {},
   "outputs": [],
   "source": [
    "marg_neighb.head()"
   ]
  },
  {
   "cell_type": "markdown",
   "id": "55c67bf1-56b8-44c0-a7e2-e65a65ccd021",
   "metadata": {
    "slideshow": {
     "slide_type": "subslide"
    }
   },
   "source": [
    "If we specify `header` parameter then it will include column names."
   ]
  },
  {
   "cell_type": "code",
   "execution_count": null,
   "id": "65407a96-4452-4df2-a67e-b47eb8c88d24",
   "metadata": {
    "slideshow": {
     "slide_type": "-"
    }
   },
   "outputs": [],
   "source": [
    "marg_neighb = pd.read_excel('1_marg_neighb_toronto_2006_OnMarg.xls', \n",
    "                            sheet_name='Neighbourhood_Toronto_OnMarg', \n",
    "                            header=1)"
   ]
  },
  {
   "cell_type": "code",
   "execution_count": null,
   "id": "40c3e75c-2eed-43f8-aeaf-7050f3100346",
   "metadata": {},
   "outputs": [],
   "source": [
    "marg_neighb.head()"
   ]
  },
  {
   "cell_type": "markdown",
   "id": "49ac2173-9117-471a-9f5c-0b1c4ffdc6e7",
   "metadata": {
    "slideshow": {
     "slide_type": "subslide"
    }
   },
   "source": [
    "Get the column names of `marg_neighb`."
   ]
  },
  {
   "cell_type": "code",
   "execution_count": null,
   "id": "d4432d19",
   "metadata": {},
   "outputs": [],
   "source": [
    "marg_neighb.columns"
   ]
  },
  {
   "cell_type": "code",
   "execution_count": null,
   "id": "39c2ed1c-1026-4e43-90a9-7853c8e9dfde",
   "metadata": {},
   "outputs": [],
   "source": [
    "# the elements can be accessed\n",
    "# similar to a list\n",
    "\n",
    "marg_neighb.columns[0:2]"
   ]
  },
  {
   "cell_type": "markdown",
   "id": "52b1b861-3b0c-4dec-ba6b-ebebe99a37a7",
   "metadata": {
    "slideshow": {
     "slide_type": "fragment"
    }
   },
   "source": [
    "Select the columns corresponding to `Neighb id ` (column 0), `Neighbourhood name` (column 1), and `DEPRIVATION` (deprivation score - column 5)."
   ]
  },
  {
   "cell_type": "code",
   "execution_count": null,
   "id": "ff901bbb-2102-491a-9bf0-591fc33e3736",
   "metadata": {},
   "outputs": [],
   "source": [
    "marg_neighb[marg_neighb.columns[[0, 1, 5]]].head()"
   ]
  },
  {
   "cell_type": "markdown",
   "id": "09d87100-b7e4-488f-86c8-62e8bd6aa10e",
   "metadata": {
    "slideshow": {
     "slide_type": "subslide"
    }
   },
   "source": [
    "Create a new `DataFrame` called `depriv` with only those columns."
   ]
  },
  {
   "cell_type": "code",
   "execution_count": null,
   "id": "90d10f12-990c-4f04-af85-bd5edc876fdf",
   "metadata": {},
   "outputs": [],
   "source": [
    "depriv = marg_neighb[marg_neighb.columns[[0, 1, 5]]]"
   ]
  },
  {
   "cell_type": "markdown",
   "id": "2bc6a2f9",
   "metadata": {
    "slideshow": {
     "slide_type": "fragment"
    }
   },
   "source": [
    "Rename the columns of  `depriv `"
   ]
  },
  {
   "cell_type": "code",
   "execution_count": null,
   "id": "e92c6b52-701c-4cde-b686-b57ac13b0c5f",
   "metadata": {},
   "outputs": [],
   "source": [
    "colnames = {'Neighb id ': 'Neighbid',\n",
    "           'DEPRIVATION' : 'DEPRIVATION',\n",
    "           'Neighbourhood name ': 'name'}\n",
    "\n",
    "depriv = depriv.copy()\n",
    "\n",
    "depriv.rename(columns = colnames, inplace= True)"
   ]
  },
  {
   "cell_type": "code",
   "execution_count": null,
   "id": "9a1fd8d6-25a7-42c4-9c57-4bd16c2fc2ca",
   "metadata": {},
   "outputs": [],
   "source": [
    "depriv.head()"
   ]
  },
  {
   "cell_type": "markdown",
   "id": "4d25ce3e-1a54-403c-b89b-5beef7f02441",
   "metadata": {
    "slideshow": {
     "slide_type": "subslide"
    }
   },
   "source": [
    "### Mental health visit rates\n",
    "\n",
    "- Read in data on rates of mental health visits stored in `2_ahd_neighb_db_ast_hbp_mhv_copd_2012.xls`.\n",
    "\n",
    "- Use `read_excel` with `sheet_name` parameter"
   ]
  },
  {
   "cell_type": "code",
   "execution_count": null,
   "id": "038eaed7-e6f7-45f8-9a95-60c6c42d7dcc",
   "metadata": {
    "tags": []
   },
   "outputs": [],
   "source": [
    "mentalhealth_neighb = pd.read_excel('2_ahd_neighb_db_ast_hbp_mhv_copd_2012.xls', \n",
    "                                    sheet_name = '2_MentalHealthV_2012', \n",
    "                                    header = 11)\n",
    "mentalhealth_neighb.head()"
   ]
  },
  {
   "cell_type": "code",
   "execution_count": null,
   "id": "120278f2-7a7a-4f72-956c-d687034f3df2",
   "metadata": {
    "slideshow": {
     "slide_type": "slide"
    }
   },
   "outputs": [],
   "source": [
    "mentalhealth_neighb.columns"
   ]
  },
  {
   "cell_type": "code",
   "execution_count": null,
   "id": "c59fbbf0-7190-4f03-8753-67acd96e76c6",
   "metadata": {},
   "outputs": [],
   "source": [
    "mhvisitrates = mentalhealth_neighb[mentalhealth_neighb.columns[[0, 1, 10]]]\n",
    "mhvisitrates.head()"
   ]
  },
  {
   "cell_type": "markdown",
   "id": "eba71044",
   "metadata": {
    "slideshow": {
     "slide_type": "subslide"
    }
   },
   "source": [
    "- `Unamed: 0` corresponds to `Neighbid` in `depriv`\n",
    "\n",
    "- `Unamed: 0` corresponds to `name` in `depriv`\n",
    "\n",
    "- `Both sexes.2` (column 10) corresponds to Age-Standardized rate of Mental Health Visits (2012), All Ages 20+ for both sexes\n",
    "\n",
    "- rename the columns of `mhvisitrates` so that identical columns in `depriv` have the same name."
   ]
  },
  {
   "cell_type": "code",
   "execution_count": null,
   "id": "ea078baf-66fd-4dd7-bf07-f913098627ff",
   "metadata": {},
   "outputs": [],
   "source": [
    "colnames = {'Unnamed: 0': 'Neighbid',\n",
    "           'Both sexes.2' : 'mhvisitrates_mf',\n",
    "           'Unnamed: 1' : 'name'}\n",
    "\n",
    "mhvisitrates = mhvisitrates.copy()\n",
    "\n",
    "mhvisitrates.rename(columns = colnames, inplace=True)\n",
    "\n",
    "mhvisitrates.columns"
   ]
  },
  {
   "cell_type": "markdown",
   "id": "5771b295",
   "metadata": {
    "slideshow": {
     "slide_type": "subslide"
    }
   },
   "source": [
    "## Merging mental health visits and deprivation score"
   ]
  },
  {
   "cell_type": "markdown",
   "id": "bea97dd1-23aa-4f67-8231-58bebda46a9c",
   "metadata": {
    "slideshow": {
     "slide_type": "-"
    }
   },
   "source": [
    "merge `mhvisitrates` and `depriv`"
   ]
  },
  {
   "cell_type": "code",
   "execution_count": null,
   "id": "e6baaf28-f07b-4ba2-8ad0-6eb164c7f62e",
   "metadata": {},
   "outputs": [],
   "source": [
    "mhvisitdepriv = mhvisitrates.merge(depriv, on = ['Neighbid', 'name'])\n",
    "mhvisitdepriv.head()"
   ]
  },
  {
   "cell_type": "markdown",
   "id": "c1b305fe-c7d0-4a3a-b8a0-2bc9fefb857f",
   "metadata": {
    "slideshow": {
     "slide_type": "subslide"
    }
   },
   "source": [
    "- We will create a variable that categorizes neighbourhoods above and below the median deprivation score."
   ]
  },
  {
   "cell_type": "code",
   "execution_count": null,
   "id": "af70608c-2667-424a-823d-971386e008ec",
   "metadata": {},
   "outputs": [],
   "source": [
    "median_depriv = mhvisitdepriv['DEPRIVATION'].median()\n",
    "median_depriv"
   ]
  },
  {
   "cell_type": "code",
   "execution_count": null,
   "id": "ba7cd20f-5420-4ab3-a7aa-7b181b1178be",
   "metadata": {},
   "outputs": [],
   "source": [
    "mhvisitdepriv = mhvisitdepriv.copy()\n",
    "\n",
    "# create a new column in mhvisitdepric called depriv_HL\n",
    "# classify neighbourhoods at or above the median as High\n",
    "\n",
    "mhvisitdepriv.loc[mhvisitdepriv['DEPRIVATION'] >= median_depriv, 'depriv_HL'] = 'High'\n",
    "\n",
    "# classify neighbourhoods below the median as Low\n",
    "mhvisitdepriv.loc[mhvisitdepriv['DEPRIVATION'] < median_depriv, 'depriv_HL'] = 'Low'\n",
    "\n",
    "mhvisitdepriv.tail(n=3) # print last 3 rows of mhvisitdepriv"
   ]
  },
  {
   "cell_type": "markdown",
   "id": "416f67d7-72b4-44cc-8682-55adc6d50eea",
   "metadata": {
    "slideshow": {
     "slide_type": "subslide"
    }
   },
   "source": [
    "## Do Neighbourhoods with high deprivation have more mental health visits compared to Neighbourhoods with low deprivation?\n",
    "\n",
    "- The mean rate of mental health visits in the high poverty neighbourhoods is 8.80 and the mean rate in the low poverty neighbourhoods is 7.48."
   ]
  },
  {
   "cell_type": "code",
   "execution_count": null,
   "id": "29eb5419-a1c2-41ca-aa88-217c17a63e76",
   "metadata": {
    "slideshow": {
     "slide_type": "-"
    }
   },
   "outputs": [],
   "source": [
    "mean_table = mhvisitdepriv.groupby('depriv_HL')['mhvisitrates_mf'].mean()\n",
    "mean_table"
   ]
  },
  {
   "cell_type": "code",
   "execution_count": null,
   "id": "5f2e46d8-d86f-427a-b962-cabc24798599",
   "metadata": {},
   "outputs": [],
   "source": [
    "observed_mean_difference = mean_table.iloc[0] - mean_table.iloc[1]\n",
    "observed_mean_difference"
   ]
  },
  {
   "cell_type": "markdown",
   "id": "815883ca",
   "metadata": {},
   "source": [
    "- Let's compare the distribution of mental health visit rates by high/low deprivation."
   ]
  },
  {
   "cell_type": "markdown",
   "id": "1cf9fe2a-cecd-49d5-9300-9590f4959bdd",
   "metadata": {
    "slideshow": {
     "slide_type": "slide"
    }
   },
   "source": [
    "## The Logic of Hypothesis Testing\n",
    "\n",
    "### 1. Hypotheses\n",
    "\n",
    "Two claims:\n",
    "\n",
    "1. There is no difference in the mean mental health visit rates between high and low deprivation neighbourhoods.  This is called the null hypothesis.\n",
    "\n",
    "2. There is a difference in the mean mental health visit rates between high and low deprivation neighbourhoods.  This is called the alternative hypothesis."
   ]
  },
  {
   "cell_type": "markdown",
   "id": "396a61b0-0ea1-4fba-b654-3765b3b4bbc1",
   "metadata": {
    "slideshow": {
     "slide_type": "subslide"
    }
   },
   "source": [
    "### 2. Test statistic\n",
    "\n",
    "The test statistic is a number, calculated from the data, that captures what we're interested in.\n",
    "\n",
    "What would be a useful test statistic for this study?"
   ]
  },
  {
   "cell_type": "markdown",
   "id": "b2e72994",
   "metadata": {
    "slideshow": {
     "slide_type": "subslide"
    }
   },
   "source": [
    "### 3. Simulate what the null hypothesis predicts will happen\n",
    "\n",
    "- If the null hypothesis is true then the mean values of high and low deprivation neighbourhoods will be the same regardless of how they are named or labelled.  \n",
    "\n",
    "- That means we can randomly assign (or shuffle) the neigbourhood names to high and low deprivation and the mean difference should be close to 0."
   ]
  },
  {
   "cell_type": "markdown",
   "id": "5e099fb7",
   "metadata": {
    "slideshow": {
     "slide_type": "subslide"
    }
   },
   "source": [
    "+  Imagine we have 68 playing cards labelled `High` and 68 cards labelled `Low`."
   ]
  },
  {
   "cell_type": "markdown",
   "id": "00fcfb17",
   "metadata": {
    "slideshow": {
     "slide_type": "fragment"
    }
   },
   "source": [
    "- Shuffle the cards ..."
   ]
  },
  {
   "cell_type": "markdown",
   "id": "f5a9c833",
   "metadata": {
    "slideshow": {
     "slide_type": "fragment"
    }
   },
   "source": [
    "- Assign the cards to the 136 neighbourhoods then calculate the mean difference between high and low.  This is one simulated value of the test statistic. "
   ]
  },
  {
   "cell_type": "markdown",
   "id": "5727b614",
   "metadata": {
    "slideshow": {
     "slide_type": "fragment"
    }
   },
   "source": [
    "- Shuffle the cards again ..."
   ]
  },
  {
   "cell_type": "markdown",
   "id": "49af6fa4",
   "metadata": {
    "slideshow": {
     "slide_type": "fragment"
    }
   },
   "source": [
    "- Assign the cards to the 136 neighbourhoods then calculate the mean difference between high and low.  This is another simulated value of the test statistic. "
   ]
  },
  {
   "cell_type": "markdown",
   "id": "88bfd64b-4672-4fda-aec2-98e8d0b835da",
   "metadata": {
    "slideshow": {
     "slide_type": "fragment"
    }
   },
   "source": [
    "- Continue shuffling, assigning to neigbourhoods, and computing the mean difference."
   ]
  },
  {
   "cell_type": "markdown",
   "id": "44c9b5ce-be09-41e1-973d-26f2da32b541",
   "metadata": {
    "slideshow": {
     "slide_type": "subslide"
    }
   },
   "source": [
    "## Shuffling"
   ]
  },
  {
   "cell_type": "markdown",
   "id": "03a939ea-d800-4c95-b7f0-0a5097ccd498",
   "metadata": {},
   "source": [
    "- The _observed_ difference in mean rate of mental health visits between high and low deprivation is 0.75.\n",
    "\n",
    "- Could this difference be due to chance?\n",
    "\n",
    "- Let's repeat this study **assuming that the difference is due to chance**.\n",
    "\n",
    "- Suppose that the (true) mean mental health visit rates in high deprivation neigbourhoods is equal to the (true) mean mental health visit rates in low deprivation neigbourhoods. Then the **labels** of `'depriv_HL'` `High` and `Low` are ..."
   ]
  },
  {
   "cell_type": "markdown",
   "id": "b1a14244",
   "metadata": {
    "slideshow": {
     "slide_type": "subslide"
    }
   },
   "source": [
    "## Quiz\n",
    "\n",
    "If the (true) mean mental health visit rates in high deprivation neigbourhoods is equal to the (true) mean mental health visit rates in low deprivation neigbourhoods. Then the **labels** of `'depriv_HL'` `High` and `Low` on neighbourhoods are ...\n",
    "\n",
    "A. interchangable (`High` can be changed for `Low` without effecting the mean mental health visit rates)\n",
    "\n",
    "B. not interchangable \n",
    "\n",
    "C. random\n",
    "\n",
    "D. the same, but different on average.\n",
    "\n",
    "E. different, but the same on average. "
   ]
  },
  {
   "cell_type": "markdown",
   "id": "ba4c9cab-b103-46ac-bb42-bff179ec26e7",
   "metadata": {
    "slideshow": {
     "slide_type": "slide"
    }
   },
   "source": [
    "So, if \n",
    "\n",
    "(1) (The true) mean mental health visit rates in high deprivation neigbourhoods are equal to the (true) mean mental health visit rates in low deprivation neigbourhoods.\n",
    "\n",
    "(2) the **labels** `High` and `Low` are randomly shuffled. \n",
    "\n",
    "(3) the mean mental health rates for `High` and `Low` deprivation are re-calculated using the shuffled labels."
   ]
  },
  {
   "cell_type": "code",
   "execution_count": null,
   "id": "8fd0e8cc-e14b-42cf-8a8f-c9e65e3e9999",
   "metadata": {},
   "outputs": [],
   "source": [
    "mhvisitdepriv.iloc[0:10,[2,4]]"
   ]
  },
  {
   "cell_type": "markdown",
   "id": "60311806",
   "metadata": {
    "slideshow": {
     "slide_type": "subslide"
    }
   },
   "source": [
    "## Random shuffling\n",
    "\n",
    "- We can randlomly shuffle using the `sample` function in `pandas`.\n",
    "- The parameter `frac` in the `pandas` `sample` function refers to the fraction of rows to return.  `frac = 1` means all the rows are returned."
   ]
  },
  {
   "cell_type": "code",
   "execution_count": null,
   "id": "6848f37f-6c35-4994-aa0a-4c5043acb247",
   "metadata": {},
   "outputs": [],
   "source": [
    "import numpy as np\n",
    "\n",
    "np.random.seed(7) # for reproducability\n",
    "\n",
    "mhvisitdepriv.iloc[0:10, 4].sample(frac = 1, replace = False)"
   ]
  },
  {
   "cell_type": "markdown",
   "id": "de341713",
   "metadata": {},
   "source": [
    "- `reset_index` resets the index.  \n",
    "- the parameter `drop = True` in `reset_index` indicates not to save the index after running `sample` as a column."
   ]
  },
  {
   "cell_type": "code",
   "execution_count": null,
   "id": "c4adb67d-31e7-41c8-9059-b7cf4da5fe98",
   "metadata": {},
   "outputs": [],
   "source": [
    "np.random.seed(7)\n",
    "\n",
    "mhvisitdepriv.iloc[0:10,4].sample(frac = 1, replace = False).reset_index(drop = True)"
   ]
  },
  {
   "cell_type": "markdown",
   "id": "3db92599-56a9-4b80-a2d0-df97f548b63d",
   "metadata": {
    "slideshow": {
     "slide_type": "subslide"
    }
   },
   "source": [
    "We can investigate what happens if the labels for `High` and `Low` are randomly shuffled for the first 10 rows. "
   ]
  },
  {
   "cell_type": "code",
   "execution_count": null,
   "id": "0f2511b5-0b93-4998-bafc-178d676dea54",
   "metadata": {
    "slideshow": {
     "slide_type": "-"
    }
   },
   "outputs": [],
   "source": [
    "# mental health visit rates for first 10 rows\n",
    "\n",
    "visits = mhvisitdepriv.loc[0:10, 'mhvisitrates_mf']\n",
    "\n",
    "# randomly shuffle depriv_HL \n",
    "# previous index is dropped because we don't need it\n",
    "\n",
    "shuffled_depriv = mhvisitdepriv.loc[0:10, 'depriv_HL'].sample(frac = 1, replace = False).reset_index(drop = True)\n",
    "\n",
    "# put two dataframes in a list as input to\n",
    "# pd.concat\n",
    "\n",
    "L = [visits, shuffled_depriv]\n",
    "\n",
    "# combine two columns\n",
    "pd.concat(L, axis = 1)\n"
   ]
  },
  {
   "cell_type": "markdown",
   "id": "acbf5c74-0237-4ada-96cd-28724d635ac6",
   "metadata": {
    "slideshow": {
     "slide_type": "subslide"
    }
   },
   "source": [
    "## Set up the simulation in python\n",
    "\n",
    "**Step 1:** Shuffle the column `'depriv_HL'`\n",
    "\n",
    "- To do this we will use `pandas` `sample` with the following parameters for the sample function:\n",
    "\n",
    "  + `frac = 1` (sample 100% of values)\n",
    "  + `replace = True` (we want the same number of `High` `Low` as original sample)\n",
    "  \n",
    "- `reset_index(drop = True)` (use the dafault index - row labels in `pandas` so that we can assign shuffled labels to )"
   ]
  },
  {
   "cell_type": "code",
   "execution_count": null,
   "id": "9a2421bd-4015-453a-b9b1-4fbf1e8aef8e",
   "metadata": {},
   "outputs": [],
   "source": [
    "depriv_HL_shuffle = mhvisitdepriv['depriv_HL'].sample(frac = 1, replace=False).reset_index(drop = True)"
   ]
  },
  {
   "cell_type": "markdown",
   "id": "ed59b00b-538b-4803-8170-5a924ae6bc32",
   "metadata": {
    "slideshow": {
     "slide_type": "fragment"
    }
   },
   "source": [
    "**Step 2:** Assign the shuffled labels to the neighbourhoods and compute the mean rate of mental health visits"
   ]
  },
  {
   "cell_type": "code",
   "execution_count": null,
   "id": "dd0d0037-9c0d-434b-ae0d-7018289ef8a5",
   "metadata": {},
   "outputs": [],
   "source": [
    "visitrate_low_shuffle = mhvisitdepriv.loc[depriv_HL_shuffle == 'High', 'mhvisitrates_mf'].mean()\n",
    "\n",
    "visitrate_high_shuffle  = mhvisitdepriv.loc[depriv_HL_shuffle == 'Low', 'mhvisitrates_mf'].mean()"
   ]
  },
  {
   "cell_type": "markdown",
   "id": "9c881906-05e4-4e81-abd2-9bf49552cffb",
   "metadata": {
    "slideshow": {
     "slide_type": "fragment"
    }
   },
   "source": [
    "**Step 3:** Compute the mean difference between the groups"
   ]
  },
  {
   "cell_type": "code",
   "execution_count": null,
   "id": "1591d57d-717a-4e67-8e1c-6c4cea8ff10a",
   "metadata": {},
   "outputs": [],
   "source": [
    "visitrate_high_shuffle - visitrate_low_shuffle "
   ]
  },
  {
   "cell_type": "markdown",
   "id": "1b6e1bb3-5f8f-47fa-95f9-94b34a7ac4e8",
   "metadata": {
    "slideshow": {
     "slide_type": "subslide"
    }
   },
   "source": [
    "- Steps 1 - 3 is an algorithm for computing one simulated value of the mean difference when the null hypothesis is true.\n",
    "\n",
    "- Let's create a function to do Steps 1 - 3 that returns a simulated value of the mean difference (a simulated value of the test statistic)."
   ]
  },
  {
   "cell_type": "code",
   "execution_count": null,
   "id": "6c49132b-0559-4632-b6ae-887f77eb0d07",
   "metadata": {},
   "outputs": [],
   "source": [
    "def random_shuffle_mean():\n",
    "    # step 1\n",
    "    depriv_HL_shuffle = mhvisitdepriv['depriv_HL'].sample(frac = 1, replace=False).reset_index(drop = True)\n",
    "    \n",
    "    #step 2\n",
    "    visitrate_low_shuffle = mhvisitdepriv.loc[depriv_HL_shuffle == 'High', 'mhvisitrates_mf'].mean()\n",
    "    visitrate_high_shuffle  = mhvisitdepriv.loc[depriv_HL_shuffle == 'Low', 'mhvisitrates_mf'].mean()\n",
    "    \n",
    "    #step 3\n",
    "    shuffled_diff = visitrate_high_shuffle - visitrate_low_shuffle \n",
    "    \n",
    "    return shuffled_diff    "
   ]
  },
  {
   "cell_type": "code",
   "execution_count": null,
   "id": "4612d41d-46c9-4633-a8eb-257cada992c5",
   "metadata": {},
   "outputs": [],
   "source": [
    "random_shuffle_mean()"
   ]
  },
  {
   "cell_type": "markdown",
   "id": "0b0acd61-a822-45c7-a1fc-2a217ea55ef7",
   "metadata": {
    "slideshow": {
     "slide_type": "subslide"
    }
   },
   "source": [
    "## Distribution of simulated values of the mean difference assuming the null hypothesis is true\n",
    "\n",
    "- Statistical tests based on shuffles or permutations of the data are called permutation tests. "
   ]
  },
  {
   "cell_type": "code",
   "execution_count": null,
   "id": "8dc984a6-12e7-44c6-8689-6e9f9670dae6",
   "metadata": {},
   "outputs": [],
   "source": [
    "shuffled_diffs = []\n",
    "\n",
    "for _ in range(5000):\n",
    "    shuffled_diffs.append(random_shuffle_mean())"
   ]
  },
  {
   "cell_type": "code",
   "execution_count": null,
   "id": "f0a79597-b5ed-499f-86d7-3d1ae2dda22a",
   "metadata": {},
   "outputs": [],
   "source": [
    "import matplotlib.pyplot as plt\n",
    "\n",
    "plt.hist(shuffled_diffs, color = 'grey', edgecolor = 'black')\n",
    "\n",
    "plt.vlines(x = observed_mean_difference, ymin = 0, ymax = 1600, color = 'red')\n",
    "\n",
    "plt.vlines(x = -1*observed_mean_difference, ymin = 0, ymax = 1600, color = 'red')"
   ]
  },
  {
   "cell_type": "markdown",
   "id": "e675b176-7eea-46ef-abc6-4ea6d12b2226",
   "metadata": {
    "slideshow": {
     "slide_type": "subslide"
    }
   },
   "source": [
    "## p-value\n",
    "\n",
    "- Assuming that the null hypothesis is true, the p-value gives a measure of the probability of getting data that are *at least* as unusual or extreme as the sample data.\n",
    "\n",
    "- What does \"at least as unusual\" mean?\n",
    "\n",
    "- An unusual value would be a mean difference (`High` minus `Low`) greater than what we observed or a mean difference (`Low` minus `High`) less than what we observed.\n",
    "\n",
    "- Values that are larger than the observed value mean difference (the test statistic) 0.75 (`High` minus `Low`) or smaller than - 0.75 (`Low` minus `High`)."
   ]
  },
  {
   "cell_type": "markdown",
   "id": "27462f52-dc20-4723-8310-39e1bb6d0abd",
   "metadata": {
    "slideshow": {
     "slide_type": "subslide"
    }
   },
   "source": [
    "The number of simulated mean differences that are greater than the observed mean difference can be computed using:"
   ]
  },
  {
   "cell_type": "code",
   "execution_count": null,
   "id": "b9931f03-9f89-4dda-9e85-4222ea35e5fd",
   "metadata": {},
   "outputs": [],
   "source": [
    "rightextreme = shuffled_diffs >= observed_mean_difference\n",
    "\n",
    "rightextreme.sum()"
   ]
  },
  {
   "cell_type": "markdown",
   "id": "78641883-0bb9-4e65-ba63-1d40e3b6c88d",
   "metadata": {
    "slideshow": {
     "slide_type": "fragment"
    }
   },
   "source": [
    "The number of simulated mean differences that are less than the -1 times observed mean difference can be computed using:"
   ]
  },
  {
   "cell_type": "code",
   "execution_count": null,
   "id": "fa253024-283a-49de-a895-29c2fe064240",
   "metadata": {
    "tags": []
   },
   "outputs": [],
   "source": [
    "leftextreme = shuffled_diffs <= -1*observed_mean_difference\n",
    "\n",
    "leftextreme.sum()"
   ]
  },
  {
   "cell_type": "markdown",
   "id": "82bae078-3e00-4023-bfd0-683af3c5d820",
   "metadata": {
    "slideshow": {
     "slide_type": "fragment"
    }
   },
   "source": [
    "The proportion of simulations that are unusual or extreme are:"
   ]
  },
  {
   "cell_type": "code",
   "execution_count": null,
   "id": "01aa3a37-1b8e-4c1d-a96f-cf1f92976b61",
   "metadata": {},
   "outputs": [],
   "source": [
    "(rightextreme.sum() + leftextreme.sum()) / 5000"
   ]
  },
  {
   "cell_type": "markdown",
   "id": "a76cffb3-ef04-4643-9710-781ed34f0d4d",
   "metadata": {
    "slideshow": {
     "slide_type": "subslide"
    }
   },
   "source": [
    "We can also write a function to carry out this computation."
   ]
  },
  {
   "cell_type": "code",
   "execution_count": null,
   "id": "1c63e16e-3a87-4feb-8b03-d5019759b713",
   "metadata": {},
   "outputs": [],
   "source": [
    "def pvalue2(shuff_diffs, obs_diffs):\n",
    "    \n",
    "    rightextreme_count = (shuff_diffs >= obs_diffs).sum()\n",
    "    \n",
    "    leftextreme_count = (shuff_diffs < -1*obs_diffs).sum()\n",
    "    \n",
    "    allextreme = rightextreme_count + leftextreme_count\n",
    "    \n",
    "    pval = allextreme / len(shuff_diffs)\n",
    "    \n",
    "    return pval  "
   ]
  },
  {
   "cell_type": "code",
   "execution_count": null,
   "id": "3c7e5631-76a3-4f32-9418-5e4e785cfbfd",
   "metadata": {},
   "outputs": [],
   "source": [
    "pvalue2(shuff_diffs = shuffled_diffs, obs_diffs = observed_mean_difference)"
   ]
  },
  {
   "cell_type": "markdown",
   "id": "cecd15b0-2bb6-4023-8475-87267138f739",
   "metadata": {},
   "source": [
    "- This is called the **P-value**.  \n",
    "\n",
    "- The entire procedure is often referred to as **significance testing**.\n",
    "\n",
    "- None of the permuted 5000 samples resulted in a mean difference more extreme than what we observed."
   ]
  },
  {
   "cell_type": "markdown",
   "id": "ff7ec95d-3774-43bf-bbab-ceb0a5b9a413",
   "metadata": {
    "slideshow": {
     "slide_type": "subslide"
    },
    "tags": []
   },
   "source": [
    "## Conclusions\n",
    "\n",
    "So, there are two possibilities:\n",
    "\n",
    "1. The null hypothesis of no difference is true, but we have observed a very rare value of the mean difference in our study.\n",
    "\n",
    "2. The null hypothesis is false, and there is a difference between high and low deprivation.\n",
    "\n",
    "It's scientific convention to assume that a small p-value is evidence in favour of 2 (i.e., the null hypothesis is false, and there is evidence of a difference in the means)."
   ]
  },
  {
   "cell_type": "markdown",
   "id": "0035ac2f",
   "metadata": {
    "slideshow": {
     "slide_type": "slide"
    }
   },
   "source": [
    "## History of Significance Testing\n",
    "\n",
    "R.A. Fisher made many scientific contributions including developing significance testing.\n",
    "\n",
    "> \"_He was from an early age a supporter of certain eugenic ideas, and it is for this reason that he has been accused of being a racist and an advocate of forced sterilisation (Evans 2020). His promotion of eugenics has recently caused various organisations to remove his name from awards and dedications of buildings._\" ([Bodmer et al, 2021](https://www.nature.com/articles/s41437-020-00394-6))"
   ]
  },
  {
   "cell_type": "markdown",
   "id": "d33f18f0-ca00-4489-aad5-9fad858a9b4b",
   "metadata": {
    "slideshow": {
     "slide_type": "slide"
    }
   },
   "source": [
    "## Causality\n",
    "\n",
    "Imagine the following hypothetical scenario:\n",
    "\n",
    "- you have a headache \n",
    "\n",
    "- you take an Aspirin at 11:00 to relieve your pain. your pain goes away after 30 minutes.\n",
    "\n",
    "Now, you go back in time to 11:00 ...\n",
    "\n",
    "- you don't take an Aspirin at 11:00 to relieve your pain. your pain goes away after 48 minutes.\n",
    "\n",
    "The **causal effect** of taking an Aspirin is 18 minutes (48 minutes - 30 minutes).\n"
   ]
  },
  {
   "cell_type": "markdown",
   "id": "7859b66e",
   "metadata": {
    "slideshow": {
     "slide_type": "subslide"
    }
   },
   "source": [
    "## Potential outcomes and randomized control trials\n",
    "\n",
    "- Establishing causality involves comparing these **potential outcomes**.  "
   ]
  },
  {
   "cell_type": "markdown",
   "id": "b7a9922e",
   "metadata": {
    "slideshow": {
     "slide_type": "fragment"
    }
   },
   "source": [
    "- The problem is that we can never observe both taking an Aspirin and not taking as Aspirin (in the same person at the same time under the same conditions)."
   ]
  },
  {
   "cell_type": "markdown",
   "id": "9e350596",
   "metadata": {
    "slideshow": {
     "slide_type": "fragment"
    }
   },
   "source": [
    "- A close approximation to comparing potential outcomes is to compare two groups of people that are similar on average (age, sex, income, etc.) except one group is allowed to take Aspirin after a headache and the other group takes a fake Aspirin (sugar pill/placebo) after a headache.  This is an example of a randomized control trial."
   ]
  },
  {
   "cell_type": "markdown",
   "id": "8d4f8cd5-2b31-46d3-aad4-897bbb3021e2",
   "metadata": {
    "slideshow": {
     "slide_type": "fragment"
    }
   },
   "source": [
    "- Then the mean difference between time to pain relief should be due to Aspirin and not other factors related to why people may or may not take an Aspirin.  "
   ]
  },
  {
   "cell_type": "markdown",
   "id": "5c44bf71-07a9-46af-aa37-6f46db59c025",
   "metadata": {
    "slideshow": {
     "slide_type": "subslide"
    }
   },
   "source": [
    "## Does Material Deprivation Cause increases in mental health visits?\n",
    "\n",
    "- Neighbourhoods can't be randomly assigned to high or low deprivationdepravity, like people could be randomized to take a real or fake Aspirin.\n",
    "\n",
    "- There could be many other factors related to why a neighbourhood has a low or high deprivation score.  \n",
    "\n",
    "- This mean that when we are comparing neighbourhoods with low deprivation to high deprivation the differences in a certain outcome such as mental health visit rates could be due to factors other than deprivation such as genetic or environmental factors that are associated with mental illness, but happen to be more or less prevalent in one of the deprivation groups.\n",
    "\n"
   ]
  },
  {
   "cell_type": "markdown",
   "id": "a13007b5-a193-4a36-b630-906be48578dc",
   "metadata": {
    "slideshow": {
     "slide_type": "subslide"
    }
   },
   "source": [
    "## Just in case you have seen a two-sample t-test ...\n",
    "\n",
    "This is similar to a two-sample t-test (we won't cover in this course except here) except not as flexible.  "
   ]
  },
  {
   "cell_type": "code",
   "execution_count": null,
   "id": "9be7e8d7-eb51-45a5-b774-e2c7eb8348d1",
   "metadata": {},
   "outputs": [],
   "source": [
    "from scipy import stats\n",
    "\n",
    "mhvisits_low = mhvisitdepriv.loc[mhvisitdepriv['depriv_HL'] == 'Low', 'mhvisitrates_mf']\n",
    "\n",
    "mhvisits_high = mhvisitdepriv.loc[mhvisitdepriv['depriv_HL'] == 'High', 'mhvisitrates_mf']\n",
    "\n",
    "statistic, pvalue = stats.ttest_ind(mhvisits_high, mhvisits_low)\n",
    "\n",
    "print('The p-value from the two-sample t-test is: ', round(pvalue, 3))"
   ]
  },
  {
   "cell_type": "markdown",
   "id": "798bf90b",
   "metadata": {},
   "source": [
    "The two-sample t-test involves: \n",
    "\n",
    "1. Computing $t_{\\text observed} = \\frac{\\bar{x_{\\text Low}} - \\bar{x_{\\text High}}}{SD}$, where $SD$ is an estimate of the standard deviation of the mean difference.\n",
    "\n",
    "2. Computing the p-value using $t_{\\text observed}$ and the appropriate $t$-distribution.\n",
    "\n",
    "3. Assessing several statistical assumptions about the data to ensure the accuracy of the p-value.\n"
   ]
  },
  {
   "cell_type": "markdown",
   "id": "5a671c9e",
   "metadata": {
    "slideshow": {
     "slide_type": "slide"
    }
   },
   "source": [
    "## Review of this class\n",
    "\n",
    "- Comparing two samples by simulating the distribution of a test statistic (e.g., the difference in two means) assuming the null hypothesis is true (i.e., there is no difference in the means).\n",
    "\n",
    "- Simulated the values of the test statistic when the null hypothesis is true we:\n",
    "\n",
    "  + Stated the null and alternative hypotheses.\n",
    "  \n",
    "  + Randomly shuffled the group labels (e.g., high/low deprivation)\n",
    "  \n",
    "  + Calculated the test statistic in the shuffled data set\n",
    "  \n",
    "  + Repeat the previous three steps a large number of times (e.g., 5,000)\n",
    "  \n",
    "- Compute the p-value as a measure of how consistent the data are with the null hypothesis.  \n",
    "\n",
    "- The p-value is computed by summing the number of simulated values that are more extreme in the positive or negative direction.\n",
    "\n",
    "- If the p-value is small then the data are inconsistent with the null hypothesis and there is evidence in support of the alternative hypothesis.\n",
    "\n",
    "- A small p-value may not be **causal** evidence that for the alternative hypothesis unless random assignment was used part of the study design."
   ]
  }
 ],
 "metadata": {
  "celltoolbar": "Slideshow",
  "kernelspec": {
   "display_name": "Python 3 (ipykernel)",
   "language": "python",
   "name": "python3"
  },
  "language_info": {
   "codemirror_mode": {
    "name": "ipython",
    "version": 3
   },
   "file_extension": ".py",
   "mimetype": "text/x-python",
   "name": "python",
   "nbconvert_exporter": "python",
   "pygments_lexer": "ipython3",
   "version": "3.10.13"
  }
 },
 "nbformat": 4,
 "nbformat_minor": 5
}
