{
 "cells": [
  {
   "cell_type": "markdown",
   "id": "58052e68",
   "metadata": {},
   "source": [
    "# GGR274 Lab 8: Project Proposal and Comparing Two-samples"
   ]
  },
  {
   "cell_type": "markdown",
   "id": "68c8b208",
   "metadata": {},
   "source": [
    "## Logistics\n",
    "\n",
    "Like previous weeks, our lab grade will be based on attendance and submission of a few small tasks to MarkUs during the lab session (or by 23:59 on Thursday).\n",
    "\n",
    "Complete the tasks in this Jupyter notebook and submit your completed file to [MarkUs](https://markus-ds.teach.cs.toronto.edu).\n",
    "Here are the instructions for submitting to MarkUs (same as last week):\n",
    "\n",
    "1. Download this file (`Lab_8.ipynb`) from JupyterHub. (See [our JupyterHub Guide](../../../guides/jupyterhub_guide.ipynb) for detailed instructions.)\n",
    "2. Submit this file to MarkUs under the **lab8** assignment. (See [our MarkUs Guide](../../../guides/markus_guide.ipynb) for detailed instructions.)\n",
    "\n",
    "Note: there's no autograding set up for this week's lab, but your TA will be checking that your submitted lab file is complete as part of your \"lab attendance\" grade."
   ]
  },
  {
   "cell_type": "markdown",
   "id": "dd4f7af2",
   "metadata": {},
   "source": [
    "### Piloting MarkUs JupyterHub Extension (optional)\n",
    "\n",
    "We're piloting a new way to submit files to MarkUs directly from JupyterHub (without needing to download them). This is **optional** so you can still submit your work the usual way, but if you have some time please try it out by following the instructions on the [MarkUs Guide](../../../guides/markus_guide.ipynb)."
   ]
  },
  {
   "cell_type": "markdown",
   "id": "24cba1f7",
   "metadata": {},
   "source": [
    "## Lab Instructions and Learning Objectives\n",
    "\n",
    "- Developing part of your project proposal\n",
    "\n",
    "- Simulating the null hypothesis distribution for comparing two samples"
   ]
  },
  {
   "cell_type": "markdown",
   "id": "d24956dc",
   "metadata": {},
   "source": [
    "## What Question will you answer in the final project?\n",
    "\n",
    "Review the [sample final project questions](https://uoftcompdsci.github.io/ggr274-20231/project/presentation/GGR274videopresentation.html#final-project-questions).  \n",
    "\n",
    "[Chapter 3](https://bookdown.org/rdpeng/artofdatascience/chapter-question.html) in [The Art of Data Science (Peng, R. and Matsui, E. (2017)](https://bookdown.org/rdpeng/artofdatascience/) discusses characteristics of a good Data Science question and translating a question into a data problem.\n",
    "\n",
    "In this part of the tutorial you are going to look at part of the project proposal backwards.\n",
    "\n",
    "a) Write a few bullet points describing the conclusions you hope to make or what you hope to learn from the project."
   ]
  },
  {
   "cell_type": "markdown",
   "id": "9c7fe375",
   "metadata": {},
   "source": [
    "*Your answer goes here...*"
   ]
  },
  {
   "cell_type": "markdown",
   "id": "1cdcef40",
   "metadata": {},
   "source": [
    "b) What question will the conclusions answer?  Briefly describe the question using a few bullet points. "
   ]
  },
  {
   "cell_type": "markdown",
   "id": "84079f0c",
   "metadata": {},
   "source": [
    "*Answer goes here ...*"
   ]
  },
  {
   "cell_type": "markdown",
   "id": "97d2d46c",
   "metadata": {},
   "source": [
    "## Create a simulation of a null hypothesis\n",
    "\n",
    "\n",
    "### Gender Bias in Promotion\n",
    "\n",
    "- 1972 study on \"sex role stereotypes on personnel decisions\".\n",
    "- 48 male managers were asked to rate whether several candidates were suitable for promotion.\n",
    "- Managers were randomly assigned to review the file of either a male or female candidate.  The files were otherwise identical. \n",
    "\n",
    "\n",
    "B. Rosen and T.H. Jerdee (1974). Influence of sex role stereotypes on personnel decisions. *Journal of Applied Psychology* **59**(1), 9-14.\n",
    "\n",
    "## What they found\n",
    "\n",
    "Observed results | Male | Female | Total\n",
    "-----------------|------|--------|------\n",
    "Promoted |21 |14 |35\n",
    "Not promoted |3 |10 |13  \n",
    "Total |24 |24 |48\n",
    "\n",
    "\n",
    " \n",
    " - 21/24 = 87.5% of males were recommended for promotion\n",
    " - 14/24 = 58.3% of females were recommended for promotion\n",
    "\n",
    "## The data\n",
    "\n",
    "Data are in the DataFrame `bias`."
   ]
  },
  {
   "cell_type": "code",
   "execution_count": 1,
   "id": "b7567609",
   "metadata": {},
   "outputs": [
    {
     "data": {
      "text/html": [
       "<div>\n",
       "<style scoped>\n",
       "    .dataframe tbody tr th:only-of-type {\n",
       "        vertical-align: middle;\n",
       "    }\n",
       "\n",
       "    .dataframe tbody tr th {\n",
       "        vertical-align: top;\n",
       "    }\n",
       "\n",
       "    .dataframe thead th {\n",
       "        text-align: right;\n",
       "    }\n",
       "</style>\n",
       "<table border=\"1\" class=\"dataframe\">\n",
       "  <thead>\n",
       "    <tr style=\"text-align: right;\">\n",
       "      <th></th>\n",
       "      <th>sex</th>\n",
       "      <th>promoted</th>\n",
       "    </tr>\n",
       "  </thead>\n",
       "  <tbody>\n",
       "    <tr>\n",
       "      <th>0</th>\n",
       "      <td>M</td>\n",
       "      <td>Y</td>\n",
       "    </tr>\n",
       "    <tr>\n",
       "      <th>1</th>\n",
       "      <td>M</td>\n",
       "      <td>Y</td>\n",
       "    </tr>\n",
       "    <tr>\n",
       "      <th>2</th>\n",
       "      <td>M</td>\n",
       "      <td>Y</td>\n",
       "    </tr>\n",
       "    <tr>\n",
       "      <th>3</th>\n",
       "      <td>M</td>\n",
       "      <td>Y</td>\n",
       "    </tr>\n",
       "    <tr>\n",
       "      <th>4</th>\n",
       "      <td>M</td>\n",
       "      <td>Y</td>\n",
       "    </tr>\n",
       "  </tbody>\n",
       "</table>\n",
       "</div>"
      ],
      "text/plain": [
       "  sex promoted\n",
       "0   M        Y\n",
       "1   M        Y\n",
       "2   M        Y\n",
       "3   M        Y\n",
       "4   M        Y"
      ]
     },
     "execution_count": 1,
     "metadata": {},
     "output_type": "execute_result"
    }
   ],
   "source": [
    "import pandas as pd\n",
    "import numpy as np\n",
    "\n",
    "sex = ['M'] * 24 + ['F'] * 24\n",
    "promoted = ['Y'] * 21 + ['N'] * 3 + ['Y'] * 14 + ['N'] * 10\n",
    "\n",
    "data = {'sex': sex, 'promoted': promoted}\n",
    "bias = pd.DataFrame(data)\n",
    "\n",
    "bias.head()"
   ]
  },
  {
   "cell_type": "markdown",
   "id": "869c0215",
   "metadata": {},
   "source": [
    "## Task 1\n",
    "\n",
    "a) The code in the cell below computes the proportion of promoted males `promoted_males` and females `promoted_females`. Complete the code below by filling in the `...`."
   ]
  },
  {
   "cell_type": "code",
   "execution_count": 2,
   "id": "b15fe98b",
   "metadata": {},
   "outputs": [],
   "source": [
    "## Give this cell to students\n",
    "# Fill in the ... below\n",
    "\n",
    "promoted_males = (bias[bias['sex'] == ...]['promoted'] == ...).mean()\n",
    "\n",
    "promoted_females = (bias[bias['sex'] == ...]['promoted'] == ...).mean()"
   ]
  },
  {
   "cell_type": "code",
   "execution_count": 3,
   "id": "65585012",
   "metadata": {},
   "outputs": [],
   "source": [
    "# Solution\n",
    "promoted_males = (bias[bias['sex'] == 'M']['promoted'] == 'Y').mean()\n",
    "\n",
    "promoted_females = (bias[bias['sex'] == 'F']['promoted'] == 'Y').mean()"
   ]
  },
  {
   "cell_type": "markdown",
   "id": "a762e3e9",
   "metadata": {},
   "source": [
    "b) Use `promoted_males` and `promoted_females` to compute the observed mean difference in promoted Males minus promoted and store the value in `observed_diff`."
   ]
  },
  {
   "cell_type": "code",
   "execution_count": 4,
   "id": "d84b91a6",
   "metadata": {},
   "outputs": [
    {
     "data": {
      "text/plain": [
       "0.29166666666666663"
      ]
     },
     "execution_count": 4,
     "metadata": {},
     "output_type": "execute_result"
    }
   ],
   "source": [
    "observed_diff = promoted_males - promoted_females\n",
    "\n",
    "observed_diff"
   ]
  },
  {
   "cell_type": "markdown",
   "id": "88648d0a",
   "metadata": {},
   "source": [
    "## Task 2 - Simulate the null hypothesis\n",
    "\n",
    "a) Randomly shuffle the column `sex` and assign the shuffled column to `bias_sex_shuffle`."
   ]
  },
  {
   "cell_type": "code",
   "execution_count": 5,
   "id": "451fcf6a",
   "metadata": {},
   "outputs": [],
   "source": [
    "bias_sex_shuffle = bias['sex'].sample(frac = 1).reset_index(drop = True)"
   ]
  },
  {
   "cell_type": "markdown",
   "id": "23865df6",
   "metadata": {},
   "source": [
    "b) Use the shuffled labels to compute the mean number of males and females promoted.  Use `promoted_males_shuffled` and `promoted_females_shuffled` to calculate the proportions of males and females promoted when `sex` is randomly shuffled.  Store the result in `prop_males_shuffled` and `prop_females_shuffled`."
   ]
  },
  {
   "cell_type": "code",
   "execution_count": 6,
   "id": "840ffc6c",
   "metadata": {},
   "outputs": [],
   "source": [
    "promoted_males_shuffled = (bias.loc[bias_sex_shuffle == 'M', 'promoted'] == 'Y')\n",
    "\n",
    "promoted_females_shuffled = (bias.loc[bias_sex_shuffle == 'F', 'promoted'] == 'Y')\n",
    "\n",
    "# Fill in the ... below\n",
    "\n",
    "prop_males_shuffled = ...\n",
    "\n",
    "prop_females_shuffled = ..."
   ]
  },
  {
   "cell_type": "code",
   "execution_count": 7,
   "id": "6dede43c",
   "metadata": {},
   "outputs": [],
   "source": [
    "# answer cell\n",
    "\n",
    "promoted_males_shuffled = (bias.loc[bias_sex_shuffle == 'M', 'promoted'] == 'Y')\n",
    "\n",
    "promoted_females_shuffled = (bias.loc[bias_sex_shuffle == 'F', 'promoted'] == 'Y')\n",
    "\n",
    "prop_males_shuffled = promoted_males_shuffled.mean()\n",
    "\n",
    "prop_females_shuffled = promoted_females_shuffled.mean()\n"
   ]
  },
  {
   "cell_type": "markdown",
   "id": "078d00c4",
   "metadata": {},
   "source": [
    "c) Calculate the difference between `prop_males_shuffled` and `prop_females_shuffled`.  Store the value in `diff_sim`."
   ]
  },
  {
   "cell_type": "code",
   "execution_count": 8,
   "id": "e46ff4f0",
   "metadata": {},
   "outputs": [
    {
     "data": {
      "text/plain": [
       "-0.20833333333333337"
      ]
     },
     "execution_count": 8,
     "metadata": {},
     "output_type": "execute_result"
    }
   ],
   "source": [
    "diff_sim = prop_males_shuffled - prop_females_shuffled\n",
    "\n",
    "diff_sim"
   ]
  },
  {
   "cell_type": "markdown",
   "id": "bcd923d6",
   "metadata": {},
   "source": [
    "## Task 3 - Iterate Task 2 \n",
    "\n",
    "In this task you will use a `for` loop to iterate Task 2 steps a) - c) 5000 times.  Store the results in a list called `sim_results`. \n",
    "\n",
    "To complete this Task, copy and paste your answers from Task 2 a), b), c) into the following code below."
   ]
  },
  {
   "cell_type": "code",
   "execution_count": null,
   "id": "5d22cb4b",
   "metadata": {},
   "outputs": [],
   "source": [
    "sim_results = []\n",
    "\n",
    "for _ in range(5000):\n",
    "    # paste the code from above here\n",
    "\n",
    "    # Then, fill in the ... below\n",
    "    sim_results.append(...)"
   ]
  },
  {
   "cell_type": "code",
   "execution_count": 9,
   "id": "e96f7836",
   "metadata": {},
   "outputs": [],
   "source": [
    "sim_results = []\n",
    "\n",
    "for _ in range(5000):\n",
    "    bias_sex_shuffle = bias['sex'].sample(frac = 1).reset_index(drop = True)\n",
    "    promoted_males_shuffled = (bias.loc[bias_sex_shuffle == 'M', 'promoted'] == 'Y')\n",
    "    promoted_females_shuffled = (bias.loc[bias_sex_shuffle == 'F', 'promoted'] == 'Y')\n",
    "    prop_males_shuffled = promoted_males_shuffled.mean()\n",
    "    prop_females_shuffled = promoted_females_shuffled.mean()\n",
    "    diff_sim = prop_males_shuffled - prop_females_shuffled\n",
    "    sim_results.append(diff_sim)"
   ]
  },
  {
   "cell_type": "markdown",
   "id": "5439b5d0",
   "metadata": {},
   "source": [
    "## Task 4 - Plot the null hypothesis distribution \n",
    "\n",
    "Use `matplotlib.pyplot` to plot `sim_results`."
   ]
  },
  {
   "cell_type": "code",
   "execution_count": 10,
   "id": "d5fdb1eb",
   "metadata": {},
   "outputs": [
    {
     "data": {
      "text/plain": [
       "(array([  22.,  109.,  375.,  772., 1199., 1209.,  821.,  356.,  115.,\n",
       "          22.]),\n",
       " array([-0.45833333, -0.36666667, -0.275     , -0.18333333, -0.09166667,\n",
       "         0.        ,  0.09166667,  0.18333333,  0.275     ,  0.36666667,\n",
       "         0.45833333]),\n",
       " <BarContainer object of 10 artists>)"
      ]
     },
     "execution_count": 10,
     "metadata": {},
     "output_type": "execute_result"
    },
    {
     "data": {
      "image/png": "[encoded data removed]",
      "text/plain": [
       "<Figure size 640x480 with 1 Axes>"
      ]
     },
     "metadata": {},
     "output_type": "display_data"
    }
   ],
   "source": [
    "# This import is provided for you (do not change it)\n",
    "import matplotlib.pyplot as plt\n",
    "\n",
    "plt.hist(sim_results)"
   ]
  },
  {
   "cell_type": "markdown",
   "id": "6e0d160f",
   "metadata": {},
   "source": [
    "## Task 5 - Evidence\n",
    "\n",
    "Is there evidence that the difference in males versus females promoted was not due to chance?"
   ]
  },
  {
   "cell_type": "markdown",
   "id": "e2a7a0eb",
   "metadata": {},
   "source": [
    "*Your answer goes here...*"
   ]
  },
  {
   "cell_type": "markdown",
   "id": "8bb3ba01",
   "metadata": {},
   "source": [
    "The p-value of the test is below."
   ]
  },
  {
   "cell_type": "code",
   "execution_count": 11,
   "id": "f68e7516",
   "metadata": {},
   "outputs": [
    {
     "data": {
      "text/plain": [
       "0.0318"
      ]
     },
     "execution_count": 11,
     "metadata": {},
     "output_type": "execute_result"
    }
   ],
   "source": [
    "pvalue = ((sim_results >= observed_diff).sum() + (sim_results < -1 * observed_diff).sum()) / 5000\n",
    "\n",
    "pvalue"
   ]
  },
  {
   "cell_type": "markdown",
   "id": "4ab49755",
   "metadata": {},
   "source": [
    "2.7% of the simulations were more extreme than the observed value of the difference assuming that the labels M, F were randomly shuffled. It's unlikely that the difference is due to random chance.  This means that this data supports that males were promoted more often than females."
   ]
  }
 ],
 "metadata": {
  "kernelspec": {
   "display_name": "Python 3",
   "language": "python",
   "name": "python3"
  },
  "language_info": {
   "codemirror_mode": {
    "name": "ipython",
    "version": 3
   },
   "file_extension": ".py",
   "mimetype": "text/x-python",
   "name": "python",
   "nbconvert_exporter": "python",
   "pygments_lexer": "ipython3",
   "version": "3.7.4"
  },
  "markus": {
   "assessment_id": 151,
   "course_id": 9,
   "url": "https://markus-ds.teach.cs.toronto.edu"
  },
  "vscode": {
   "interpreter": {
    "hash": "8b8edaa195e148f815789564e9a10f57d8b792ac9e1a5daafce5fbae42bebd0e"
   }
  }
 },
 "nbformat": 4,
 "nbformat_minor": 5
}
