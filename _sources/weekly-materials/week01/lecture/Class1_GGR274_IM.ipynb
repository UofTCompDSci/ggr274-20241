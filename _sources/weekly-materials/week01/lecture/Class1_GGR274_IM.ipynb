{
 "cells": [
  {
   "cell_type": "markdown",
   "id": "77887c11",
   "metadata": {
    "slideshow": {
     "slide_type": "slide"
    }
   },
   "source": [
    "# GGR274 Week 1: Computation, Python, and JupyterHub"
   ]
  },
  {
   "cell_type": "markdown",
   "id": "0fb36fe0",
   "metadata": {},
   "source": [
    "David Liu, Ilya Musabirov"
   ]
  },
  {
   "cell_type": "markdown",
   "id": "b258cb69",
   "metadata": {
    "slideshow": {
     "slide_type": "slide"
    }
   },
   "source": [
    "## What is programming?\n",
    "\n",
    "A **computer program** is a set of instructions for a computer to execute.\n",
    "\n",
    "Just as humans have languages like English to communicate with each other, a **programming language** is a language that allows humans to communicate these instructions to a computer."
   ]
  },
  {
   "cell_type": "markdown",
   "id": "d125560d",
   "metadata": {
    "slideshow": {
     "slide_type": "slide"
    }
   },
   "source": [
    "## Python!\n",
    "\n",
    "In this course, we'll be using the **Python** programming language.\n",
    "\n",
    "<img src=\"https://www.python.org/static/community_logos/python-logo-master-v3-TM.png\" alt=\"Python logo\" width=\"600\">"
   ]
  },
  {
   "cell_type": "markdown",
   "id": "cea2a2dc",
   "metadata": {
    "slideshow": {
     "slide_type": "slide"
    }
   },
   "source": [
    "## Why Python?\n",
    "\n",
    "Python is...\n",
    "\n",
    "- beginner friendly (code looks a lot like English)\n",
    "- lots of built-in functionality\n",
    "- powerful data science and data visualization libraries (e.g. `numpy`, `pandas`, `plotly`)\n",
    "- very commonly used in both academia and industry"
   ]
  },
  {
   "cell_type": "markdown",
   "id": "487611d7",
   "metadata": {
    "slideshow": {
     "slide_type": "slide"
    }
   },
   "source": [
    "## Writing Python code\n",
    "\n",
    "You've seen examples of Python code earlier this lecture. Next week, we'll start going over the basics of Python programming, but for now, think of Python code as a *sequence of very precise instructions that your computer can understand*."
   ]
  },
  {
   "cell_type": "code",
   "execution_count": 2,
   "id": "4f9f9c06",
   "metadata": {
    "slideshow": {
     "slide_type": "-"
    }
   },
   "outputs": [
    {
     "name": "stdout",
     "output_type": "stream",
     "text": [
      "Wow Ilya, you're only 18 years old? Why do they let you teach?!\n",
      "Wow Ilya, you're already 39 years old? You should be resting more!\n"
     ]
    }
   ],
   "source": [
    "my_name = \"Ilya\"\n",
    "my_age = 5 + 13\n",
    "\n",
    "print(f\"Wow {my_name}, you're only {my_age} years old? Why do they let you teach?!\")\n",
    "\n",
    "my_age = my_age + 21\n",
    "\n",
    "print(f\"Wow {my_name}, you're already {my_age} years old? You should be resting more!\")"
   ]
  },
  {
   "cell_type": "markdown",
   "id": "5eb423af",
   "metadata": {
    "slideshow": {
     "slide_type": "slide"
    }
   },
   "source": [
    "## Notebooks!\n",
    "\n",
    "Traditionally, Python code was written in `.py` files, called **Python modules**.\n",
    "\n",
    "<center><img src=\"https://upload.wikimedia.org/wikipedia/commons/b/bc/Python_Code.png\" alt=\"Image of Python code\" width=\"500\"></center>\n"
   ]
  },
  {
   "cell_type": "markdown",
   "id": "92f4f1ef",
   "metadata": {
    "slideshow": {
     "slide_type": "slide"
    }
   },
   "source": [
    "## Notebooks!\n",
    "\n",
    "In this course, we'll use **Jupyter notebooks** to write Python code.\n",
    "\n",
    "Notebooks let us mix:\n",
    "\n",
    "- Python code\n",
    "- Output of running the code\n",
    "- Text (including nice formatting)\n",
    "- Images\n",
    "- ...and more!"
   ]
  },
  {
   "cell_type": "markdown",
   "id": "e9e67559",
   "metadata": {
    "slideshow": {
     "slide_type": "slide"
    }
   },
   "source": [
    "## Notebooks!\n",
    "\n",
    "**Fun fact**: Jupyter, the software that lets us create notebooks, is written in Python!\n",
    "\n",
    "<img src=\"https://jupyter.org/assets/logos/rectanglelogo-greytext-orangebody-greymoons.svg\" alt=\"Jupyter logo\" width=\"500\">"
   ]
  },
  {
   "cell_type": "markdown",
   "id": "0155e7dd",
   "metadata": {
    "slideshow": {
     "slide_type": "slide"
    }
   },
   "source": [
    "## Do I need to download and install Python and Jupyter?\n",
    "\n",
    "<center><img src=\"https://underdefense.com/wp-content/uploads/2018/02/1uVYPjj-KTqigXjGC-w7L-7f_4jPtZ00-uzL4iUo-1.jpeg\" alt=\"Meme about software installation wizard\" width=\"500\"></center>"
   ]
  },
  {
   "cell_type": "markdown",
   "id": "84e32f5e",
   "metadata": {
    "slideshow": {
     "slide_type": "slide"
    }
   },
   "source": [
    "## No software installation required!\n",
    "\n",
    "In this course, we'll be using **JupyterHub** (<https://jupyter.utoronto.ca>), which runs Python and Jupyter for us online.\n",
    "\n",
    "- You can login to JupyterHub from anywhere with an Internet collection\n",
    "- All of your files are stored \"in the cloud\"\n",
    "- Runs Python code \"in the cloud\""
   ]
  },
  {
   "cell_type": "markdown",
   "id": "77027672",
   "metadata": {
    "slideshow": {
     "slide_type": "slide"
    }
   },
   "source": [
    "## JupyterHub Demo!\n",
    "\n",
    "Two ways of accessing JupyterHub:\n",
    "\n",
    "1. Go to <https://jupyter.utoronto.ca>\n",
    "2. Go to any notebook on our course website (https://uoftcompdsci.github.io/ggr274-20241/) and click on the little rocket icon:\n",
    "\n",
    "    ![Image of JupyterHub launch from course website](./images/jupyterhub-launch.png)\n",
    "\n"
   ]
  },
  {
   "cell_type": "markdown",
   "id": "ae156be7",
   "metadata": {
    "slideshow": {
     "slide_type": "slide"
    }
   },
   "source": [
    "## Learning and Learning to Program. Some things to remember\n",
    "\n",
    "- Computer programming languages are actually for people, not for computers :)\n",
    "- To some extent, learning a new programming language is quite like learning a new (written) human language, but ... easier\n",
    "\n",
    "    - Vocabulary is much, much smaller\n",
    "    - Syntax/Grammar are much simpler\n",
    "    - The main limitation is that the computer (of pre-GPT era) is much more limited in understanding and thus more strict\n",
    "    - The real barrier is understanding what *you* want to do and explaining that in a *clear non self-contradictory way*"
   ]
  },
  {
   "cell_type": "markdown",
   "id": "0dbaa80d",
   "metadata": {
    "slideshow": {
     "slide_type": "subslide"
    }
   },
   "source": [
    "- In addition to writing code, we in this course and you, as you progress, should be learning **reading** code, and doing that effectively might be even more crucial\n",
    "    - Data Science tasks rarely start from a blank page\n",
    "    - You use, assimilate, and adapt the code and ideas of others\n",
    "    - Quite often, you are in a \"menu in an exotic restaurant\" situation, and that's okay!"
   ]
  },
  {
   "cell_type": "markdown",
   "id": "58dc261e",
   "metadata": {
    "slideshow": {
     "slide_type": "slide"
    }
   },
   "source": [
    "### Why learning is difficult?\n",
    "- [An Intro to Cognitive Load Theory (TheEducation Hub)](https://theeducationhub.org.nz/an-introduction-to-cognitive-load-theory/)\n",
    "- [Cognitive Load Theory Memory Model](https://cdn.theeducationhub.org.nz/wp-content/uploads/2021/02/Cognitive-load-theory-fig1-1024x566.png)"
   ]
  },
  {
   "cell_type": "markdown",
   "id": "d6fd749f",
   "metadata": {
    "slideshow": {
     "slide_type": "slide"
    }
   },
   "source": [
    "## Coding Example (AI-edited)"
   ]
  },
  {
   "cell_type": "markdown",
   "id": "7b3306d8",
   "metadata": {
    "slideshow": {
     "slide_type": "subslide"
    }
   },
   "source": [
    "Example 1:\n",
    "\n",
    "```perl\n",
    "print join \" \", map { scalar reverse $_ } split / /, \"Hello, this is a sample sentence.\";\n",
    "```"
   ]
  },
  {
   "cell_type": "markdown",
   "id": "f0f7e0ca",
   "metadata": {
    "slideshow": {
     "slide_type": "subslide"
    }
   },
   "source": [
    "Example 2:\n",
    "\n",
    "```python\n",
    "' '.join([word[::-1] for word in 'Hello, this is a sample sentence.'.split()])\n",
    "```"
   ]
  },
  {
   "cell_type": "code",
   "execution_count": 3,
   "id": "358d5504",
   "metadata": {
    "slideshow": {
     "slide_type": "fragment"
    }
   },
   "outputs": [
    {
     "data": {
      "text/plain": [
       "',olleH siht si a elpmas .ecnetnes'"
      ]
     },
     "execution_count": 3,
     "metadata": {},
     "output_type": "execute_result"
    }
   ],
   "source": [
    "' '.join([word[::-1] for word in 'Hello, this is a sample sentence.'.split()])"
   ]
  },
  {
   "cell_type": "markdown",
   "id": "211b540a",
   "metadata": {
    "slideshow": {
     "slide_type": "subslide"
    }
   },
   "source": [
    "Example 3:\n",
    "\n",
    "```python\n",
    "sentence = \"Hello, this is a sample sentence.\"\n",
    "words = sentence.split()\n",
    "reversed_words = []\n",
    "for word in words:\n",
    "    reversed_word = ''\n",
    "    for char in word:\n",
    "        reversed_word = char + reversed_word\n",
    "    reversed_words.append(reversed_word)\n",
    "```"
   ]
  },
  {
   "cell_type": "markdown",
   "id": "55a0c664",
   "metadata": {
    "slideshow": {
     "slide_type": "subslide"
    }
   },
   "source": [
    "Example 3 (contd)\n",
    "```python\n",
    "reversed_sentence = ''\n",
    "for word in reversed_words:\n",
    "    if reversed_sentence:\n",
    "        reversed_sentence += ' '\n",
    "    reversed_sentence += word\n",
    "print(reversed_sentence)\n",
    "```"
   ]
  },
  {
   "cell_type": "markdown",
   "id": "4194019c",
   "metadata": {
    "slideshow": {
     "slide_type": "slide"
    }
   },
   "source": [
    "Example 4:\n",
    "```python\n",
    "# Original sentence\n",
    "sentence = \"Hello, this is a sample sentence.\"\n",
    "# Split the sentence into individual words\n",
    "words = sentence.split()\n",
    "# Initialize an empty list to hold reversed words\n",
    "reversed_words = []\n",
    "```"
   ]
  },
  {
   "cell_type": "markdown",
   "id": "bd27678a",
   "metadata": {
    "slideshow": {
     "slide_type": "subslide"
    }
   },
   "source": [
    "Example 4 (contd)\n",
    "```python\n",
    "# Iterate over each word in the sentence\n",
    "for word in words:\n",
    "    # Initialize an empty string to build the reversed word\n",
    "    reversed_word = ''\n",
    "    # Iterate over each character in the word\n",
    "    for char in word:\n",
    "        # Prepend the character to the reversed_word, effectively reversing it\n",
    "        reversed_word = char + reversed_word\n",
    "    # Append the reversed word to the list of reversed_words\n",
    "    reversed_words.append(reversed_word)\n",
    "```"
   ]
  },
  {
   "cell_type": "markdown",
   "id": "e1df43bf",
   "metadata": {
    "slideshow": {
     "slide_type": "subslide"
    }
   },
   "source": [
    "Example 4 (contd 2)\n",
    "```python \n",
    "# Initialize an empty string for the reversed sentence\n",
    "reversed_sentence = ''\n",
    "# Iterate over each reversed word\n",
    "for word in reversed_words:\n",
    "    # If reversed_sentence is not empty, add a space (to separate words)\n",
    "    if reversed_sentence:\n",
    "        reversed_sentence += ' '\n",
    "    # Append the current word to the reversed_sentence\n",
    "    reversed_sentence += word\n",
    "\n",
    "# Print the final reversed sentence\n",
    "print(reversed_sentence)\n",
    "```"
   ]
  },
  {
   "cell_type": "markdown",
   "id": "d5d151df",
   "metadata": {
    "slideshow": {
     "slide_type": "subslide"
    }
   },
   "source": [
    "Example 5:\n",
    "\n",
    "1. Splitting the Sentence: The sentence is **split** into words.\n",
    "2. Reversing Each Word: Each word is reversed using a **nested loop**.\n",
    "3. Building the Reversed Sentence: The reversed words are then **concatenated** to form the final sentence, with spaces added between words.\n",
    "4. Printing the Result: The reversed sentence is printed."
   ]
  },
  {
   "cell_type": "markdown",
   "id": "5f66af6b",
   "metadata": {
    "slideshow": {
     "slide_type": "subslide"
    }
   },
   "source": [
    "```python\n",
    "' '.join([word[::-1] for word in 'Hello, this is a sample sentence.'.split()])\n",
    "```"
   ]
  },
  {
   "cell_type": "markdown",
   "id": "47fb5a96",
   "metadata": {
    "slideshow": {
     "slide_type": "slide"
    }
   },
   "source": [
    "### Some Active (Self-)Learning Strategies\n",
    "\n",
    "- Activating Prior Knowledge\n",
    "- Distributing Practice (not cramming!) and Interleaving (not creating interruptions!)\n",
    "- Elaborative rehearsal: rephrasing, finding examples, integrating with other constructs, organizing in a meaningful way"
   ]
  },
  {
   "cell_type": "markdown",
   "id": "871a8f70",
   "metadata": {
    "slideshow": {
     "slide_type": "slide"
    }
   },
   "source": [
    "### From strategies to tactics\n",
    "\n",
    "- Reading your own code and the code of others, highlight and annotate it (notebooks are perfect for that)\n",
    "    - Use markdown blocks to write down topic sentences and paragraphs, \n",
    "    - Always assume you will need to reread your code and that you will you remember nothing\n",
    "    - Dealing with the complex blocks of code you don't understand just yet, try to write down high-level explanations in plain language \n",
    "        - what does it do?\n",
    "        - what does it take as an input and produce as an output?"
   ]
  },
  {
   "cell_type": "markdown",
   "id": "7bdd1ae8",
   "metadata": {
    "slideshow": {
     "slide_type": "subslide"
    }
   },
   "source": [
    "- Distributed practice and elaborative rehearsal:\n",
    "    - Read the lab and homework at the beginning of the week. If you have time, make comments\n",
    "    - Look at the previous homework to find useful chunks\n",
    "    - Regularly repeat main commands, functions, and constructs in context \n",
    "    - For example, modify a bit chunks from previous homework (What if I change 5 to 6, a number to a character, add another variable?)\n",
    "    - Make notes on connections between terminology and Python syntax, between different ways of writing the same code"
   ]
  }
 ],
 "metadata": {
  "celltoolbar": "Slideshow",
  "kernelspec": {
   "display_name": "Python 3 (ipykernel)",
   "language": "python",
   "name": "python3"
  },
  "language_info": {
   "codemirror_mode": {
    "name": "ipython",
    "version": 3
   },
   "file_extension": ".py",
   "mimetype": "text/x-python",
   "name": "python",
   "nbconvert_exporter": "python",
   "pygments_lexer": "ipython3",
   "version": "3.8.10"
  },
  "vscode": {
   "interpreter": {
    "hash": "8b8edaa195e148f815789564e9a10f57d8b792ac9e1a5daafce5fbae42bebd0e"
   }
  }
 },
 "nbformat": 4,
 "nbformat_minor": 5
}
