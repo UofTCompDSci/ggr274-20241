{
 "cells": [
  {
   "cell_type": "markdown",
   "id": "77887c11",
   "metadata": {
    "slideshow": {
     "slide_type": "slide"
    }
   },
   "source": [
    "# GGR274 Week 1: Computation, Python, and JupyterHub"
   ]
  },
  {
   "cell_type": "markdown",
   "id": "2e03d274",
   "metadata": {
    "slideshow": {
     "slide_type": "slide"
    }
   },
   "source": [
    "## Hello!\n",
    "\n",
    "Quick facts about me (David):\n",
    "\n",
    "- Born in Ottawa, grew up in Toronto\n",
    "- Teaching-stream faculty member in Computer Science\n",
    "- Plays piano and board games; likes sci-fi and fantasy\n",
    "\n",
    "- Call me \"David\" or \"Professor Liu\" 😃"
   ]
  },
  {
   "cell_type": "markdown",
   "id": "52bf76e3",
   "metadata": {
    "slideshow": {
     "slide_type": "slide"
    }
   },
   "source": [
    "## What is computation?\n",
    "\n",
    "From [https://www.dictionary.com](https://www.dictionary.com):\n",
    "\n",
    "* *Computation*: an act, process, or method of computing; calculation.\n",
    "* *Computing*: the use of a computer to process data or perform calculations; the act of calculating or reckoning.\n",
    "\n",
    "In this course, a computation is a series of calculations that manipulates, analyzes, and derives information from data."
   ]
  },
  {
   "cell_type": "markdown",
   "id": "c533b867",
   "metadata": {
    "slideshow": {
     "slide_type": "slide"
    }
   },
   "source": [
    "## What's a computer?\n",
    "\n",
    "Computation can be done by hand or it can be automated. In the 1940's, when computation became particularly important for war as technology advanced, the original modern \"computers\" were people.\n",
    "\n",
    "<img src=\"https://www.nasa.gov/sites/default/files/styles/full_width/public/thumbnails/image/gpn-2000-001932.jpg?itok=YPLuBm48\" alt=\"Computer at her work with microscope and the Friden calculating machine. Credits -- NASA\" width=\"400\">\n"
   ]
  },
  {
   "cell_type": "markdown",
   "id": "b258cb69",
   "metadata": {
    "slideshow": {
     "slide_type": "slide"
    }
   },
   "source": [
    "## What is programming?\n",
    "\n",
    "A **computer program** is a set of instructions for a computer to execute.\n",
    "\n",
    "Just as humans have languages like English to communicate with each other, a **programming language** is a language that allows humans to communicate these instructions to a computer."
   ]
  },
  {
   "cell_type": "markdown",
   "id": "d125560d",
   "metadata": {
    "slideshow": {
     "slide_type": "slide"
    }
   },
   "source": [
    "## Python!\n",
    "\n",
    "In this course, we'll be using the **Python** programming language.\n",
    "\n",
    "<img src=\"https://www.python.org/static/community_logos/python-logo-master-v3-TM.png\" alt=\"Python logo\" width=\"600\">"
   ]
  },
  {
   "cell_type": "markdown",
   "id": "cea2a2dc",
   "metadata": {
    "slideshow": {
     "slide_type": "slide"
    }
   },
   "source": [
    "## Why Python?\n",
    "\n",
    "Python is...\n",
    "\n",
    "- beginner friendly (code looks a lot like English)\n",
    "- lots of built-in functionality\n",
    "- powerful data science and data visualization libraries (e.g. `numpy`, `pandas`, `plotly`)\n",
    "- very commonly used in both academia and industry"
   ]
  },
  {
   "cell_type": "markdown",
   "id": "487611d7",
   "metadata": {
    "slideshow": {
     "slide_type": "slide"
    }
   },
   "source": [
    "## Writing Python code\n",
    "\n",
    "You've seen examples of Python code earlier this lecture. Next week, we'll start going over the basics of Python programming, but for now, think of Python code as a *sequence of very precise instructions that your computer can understand*."
   ]
  },
  {
   "cell_type": "code",
   "execution_count": null,
   "id": "4f9f9c06",
   "metadata": {
    "slideshow": {
     "slide_type": "-"
    }
   },
   "outputs": [],
   "source": [
    "my_name = \"David\"\n",
    "my_age = 6 * 3\n",
    "\n",
    "print(f\"Wow {my_name}, you're only {my_age} years old? Why do they let you teach?!\")"
   ]
  },
  {
   "cell_type": "markdown",
   "id": "5eb423af",
   "metadata": {
    "slideshow": {
     "slide_type": "slide"
    }
   },
   "source": [
    "## Notebooks!\n",
    "\n",
    "Traditionally, Python code was written in `.py` files, called **Python modules**.\n",
    "\n",
    "<center><img src=\"https://upload.wikimedia.org/wikipedia/commons/b/bc/Python_Code.png\" alt=\"Image of Python code\" width=\"500\"></center>\n"
   ]
  },
  {
   "cell_type": "markdown",
   "id": "92f4f1ef",
   "metadata": {
    "slideshow": {
     "slide_type": "slide"
    }
   },
   "source": [
    "## Notebooks!\n",
    "\n",
    "In this course, we'll use **Jupyter notebooks** to write Python code.\n",
    "\n",
    "Notebooks let us mix:\n",
    "\n",
    "- Python code\n",
    "- Output of running the code\n",
    "- Text (including nice formatting)\n",
    "- Images\n",
    "- ...and more!"
   ]
  },
  {
   "cell_type": "markdown",
   "id": "e9e67559",
   "metadata": {
    "slideshow": {
     "slide_type": "slide"
    }
   },
   "source": [
    "## Notebooks!\n",
    "\n",
    "**Fun fact**: Jupyter, the software that lets us create notebooks, is written in Python!\n",
    "\n",
    "<img src=\"https://jupyter.org/assets/logos/rectanglelogo-greytext-orangebody-greymoons.svg\" alt=\"Jupyter logo\" width=\"500\">"
   ]
  },
  {
   "cell_type": "markdown",
   "id": "0155e7dd",
   "metadata": {
    "slideshow": {
     "slide_type": "slide"
    }
   },
   "source": [
    "## Do I need to download and install Python and Jupyter?\n",
    "\n",
    "<center><img src=\"https://underdefense.com/wp-content/uploads/2018/02/1uVYPjj-KTqigXjGC-w7L-7f_4jPtZ00-uzL4iUo-1.jpeg\" alt=\"Meme about software installation wizard\" width=\"500\"></center>"
   ]
  },
  {
   "cell_type": "markdown",
   "id": "84e32f5e",
   "metadata": {
    "slideshow": {
     "slide_type": "slide"
    }
   },
   "source": [
    "## No software installation required!\n",
    "\n",
    "In this course, we'll be using **JupyterHub** (<https://jupyter.utoronto.ca>), which runs Python and Jupyter for us online.\n",
    "\n",
    "- You can login to JupyterHub from anywhere with an Internet collection\n",
    "- All of your files are stored \"in the cloud\"\n",
    "- Runs Python code \"in the cloud\""
   ]
  },
  {
   "cell_type": "markdown",
   "id": "77027672",
   "metadata": {
    "slideshow": {
     "slide_type": "slide"
    }
   },
   "source": [
    "## JupyterHub Demo!\n",
    "\n",
    "Two ways of accessing JupyterHub:\n",
    "\n",
    "1. Go to <https://jupyter.utoronto.ca>\n",
    "2. Go to any notebook on our course website (https://uoftcompdsci.github.io/ggr274-20231/) and click on the little rocket icon:\n",
    "\n",
    "    ![Image of JupyterHub launch from course website](./images/jupyterhub-launch.png)\n",
    "\n"
   ]
  }
 ],
 "metadata": {
  "celltoolbar": "Slideshow",
  "kernelspec": {
   "display_name": "Python 3 (ipykernel)",
   "language": "python",
   "name": "python3"
  },
  "language_info": {
   "codemirror_mode": {
    "name": "ipython",
    "version": 3
   },
   "file_extension": ".py",
   "mimetype": "text/x-python",
   "name": "python",
   "nbconvert_exporter": "python",
   "pygments_lexer": "ipython3",
   "version": "3.11.1"
  },
  "vscode": {
   "interpreter": {
    "hash": "8b8edaa195e148f815789564e9a10f57d8b792ac9e1a5daafce5fbae42bebd0e"
   }
  }
 },
 "nbformat": 4,
 "nbformat_minor": 5
}
