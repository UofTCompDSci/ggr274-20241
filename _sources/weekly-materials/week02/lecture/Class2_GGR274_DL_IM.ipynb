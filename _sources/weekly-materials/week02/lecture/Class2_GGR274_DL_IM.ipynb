{
 "cells": [
  {
   "cell_type": "markdown",
   "metadata": {
    "slideshow": {
     "slide_type": "slide"
    }
   },
   "source": [
    "# Lecture 2: Introduction to Python Programming, Part 1"
   ]
  },
  {
   "cell_type": "markdown",
   "metadata": {},
   "source": [
    "## Context: Some things to remember\n",
    "\n",
    "- Computer programming languages are actually for people, not for computers :)\n",
    "- To some extent, learning a new programming language is quite like learning a new (written) human language, but ... easier\n",
    "\n",
    "    - Vocabulary is much, much smaller\n",
    "    - Syntax/Grammar are much simpler\n",
    "    - The main limitation is that the computer (of pre-GPT era) is much more limited in understanding and thus more strict\n",
    "    - The real barrier is understanding what *you* want to do and explaining that in a *clear non self-contradictory way*\n",
    "\n",
    "Part of that is being able to explain the data and the task you are dealing with in a specific way so that you can use rich instruments provided by Python environment.\n"
   ]
  },
  {
   "cell_type": "markdown",
   "metadata": {
    "slideshow": {
     "slide_type": "slide"
    }
   },
   "source": [
    "## Learning objectives\n",
    "\n",
    "In this lecture, you will learn to:\n",
    "\n",
    "- Identify and describe values of different types in Python code\n",
    "- Perform simple computations on these values\n",
    "- Store values and the results of computations in variables\n",
    "- Run Python code and display results in a Jupyter notebook (like this one!)"
   ]
  },
  {
   "cell_type": "markdown",
   "metadata": {
    "slideshow": {
     "slide_type": "slide"
    }
   },
   "source": [
    "## Representing Data in Python: numbers\n",
    "\n",
    "Python can represent both integer and fractional numbers by writing them the same way you would in text:"
   ]
  },
  {
   "cell_type": "code",
   "execution_count": null,
   "metadata": {},
   "outputs": [],
   "source": [
    "3"
   ]
  },
  {
   "cell_type": "code",
   "execution_count": null,
   "metadata": {},
   "outputs": [],
   "source": [
    "-3.5"
   ]
  },
  {
   "cell_type": "markdown",
   "metadata": {
    "slideshow": {
     "slide_type": "slide"
    }
   },
   "source": [
    "### `int` and `float`\n",
    "\n",
    "Python defines two **data types** to categorize numbers: `int` and `float`.\n",
    "\n",
    "An `int` represents an integer like `3` or `-4`.\n",
    "\n",
    "A `float`, short for *floating point number*, represents a fractional number like `3.5` or `-4.5`."
   ]
  },
  {
   "cell_type": "markdown",
   "metadata": {
    "slideshow": {
     "slide_type": "slide"
    }
   },
   "source": [
    "### Arithmetic in Python\n",
    "\n",
    "We can combine numbers using basic arithmetic operations like `+`, `-`, `*`, and `/`:"
   ]
  },
  {
   "cell_type": "code",
   "execution_count": null,
   "metadata": {},
   "outputs": [],
   "source": [
    "10 + 20"
   ]
  },
  {
   "cell_type": "code",
   "execution_count": null,
   "metadata": {},
   "outputs": [],
   "source": [
    "10 - 20"
   ]
  },
  {
   "cell_type": "code",
   "execution_count": null,
   "metadata": {},
   "outputs": [],
   "source": [
    "10 * 20"
   ]
  },
  {
   "cell_type": "code",
   "execution_count": null,
   "metadata": {},
   "outputs": [],
   "source": [
    "10 / 20"
   ]
  },
  {
   "cell_type": "code",
   "execution_count": null,
   "metadata": {},
   "outputs": [],
   "source": [
    "((10 + 20) * (5 - 2)) / 3.5"
   ]
  },
  {
   "cell_type": "markdown",
   "metadata": {
    "slideshow": {
     "slide_type": "slide"
    }
   },
   "source": [
    "### Exercise 1\n",
    "\n",
    "Suppose you go out to eat at a restaurant, and your before-tax total is $15.99.\n",
    "\n",
    "Assuming there is a 13% tax and 15% tip (on the _before-tax_ price), use Python to calculate the total amount that you pay."
   ]
  },
  {
   "cell_type": "code",
   "execution_count": null,
   "metadata": {},
   "outputs": [],
   "source": [
    "# Write your Python code in the space below\n",
    "\n"
   ]
  },
  {
   "cell_type": "markdown",
   "metadata": {
    "slideshow": {
     "slide_type": "slide"
    }
   },
   "source": [
    "**Solution** (only look at this after attempting the exercise!)"
   ]
  },
  {
   "cell_type": "code",
   "execution_count": null,
   "metadata": {},
   "outputs": [],
   "source": [
    "15.99 * (1 + 0.13 + 0.15)"
   ]
  },
  {
   "cell_type": "markdown",
   "metadata": {
    "slideshow": {
     "slide_type": "slide"
    }
   },
   "source": [
    "## Rounding and the `round` function\n",
    "\n",
    "Python provides **functions**, which are named blocks of code that perform a specific computation.\n",
    "\n",
    "The `round` function lets us round `float`s to a specific number of decimal places."
   ]
  },
  {
   "cell_type": "code",
   "execution_count": null,
   "metadata": {
    "slideshow": {
     "slide_type": "-"
    }
   },
   "outputs": [],
   "source": [
    "round(3.6789, 2)"
   ]
  },
  {
   "cell_type": "markdown",
   "metadata": {
    "slideshow": {
     "slide_type": "slide"
    }
   },
   "source": [
    "### Function terminology\n",
    "\n",
    "The expression `round(3.6789, 2)` is called a **function call**.\n",
    "\n",
    "- `round` is the **name** of the function\n",
    "- `3.6789` and `2` are the **inputs**/**arguments** of the function\n",
    "- The value `3.68` is the **output**/**return value** of the function"
   ]
  },
  {
   "cell_type": "markdown",
   "metadata": {
    "slideshow": {
     "slide_type": "slide"
    }
   },
   "source": [
    "Here are two other examples of Python functions:"
   ]
  },
  {
   "cell_type": "code",
   "execution_count": null,
   "metadata": {},
   "outputs": [],
   "source": [
    "abs(-4.3)"
   ]
  },
  {
   "cell_type": "code",
   "execution_count": null,
   "metadata": {},
   "outputs": [],
   "source": [
    "type(-4.3)"
   ]
  },
  {
   "cell_type": "markdown",
   "metadata": {
    "slideshow": {
     "slide_type": "slide"
    }
   },
   "source": [
    "## Comparisons and the `bool` data type"
   ]
  },
  {
   "cell_type": "markdown",
   "metadata": {
    "slideshow": {
     "slide_type": "-"
    }
   },
   "source": [
    "We can compare numbers using the following comparison operators:\n",
    "\n",
    "| Operation   | Description                                                    |\n",
    "|-------------|----------------------------------------------------------------|\n",
    "| `a == b` | Are `a` and `b` equal?                           |\n",
    "| `a != b` | Are `a` and `b` *not* equal?  |\n",
    "| `a > b`  | Is `a` greater than `b`?                         |\n",
    "| `a < b`  | Is `a` less than `b`?                            |\n",
    "| `a >= b` | Is `a` greater than or equal to `b`?             |\n",
    "| `a <= b` | Is `a` less than or equal to `b`?                |\n"
   ]
  },
  {
   "cell_type": "code",
   "execution_count": null,
   "metadata": {
    "slideshow": {
     "slide_type": "slide"
    }
   },
   "outputs": [],
   "source": [
    "3 == 3"
   ]
  },
  {
   "cell_type": "code",
   "execution_count": null,
   "metadata": {},
   "outputs": [],
   "source": [
    "10 * 2 <= 3 * 6"
   ]
  },
  {
   "cell_type": "markdown",
   "metadata": {
    "slideshow": {
     "slide_type": "slide"
    }
   },
   "source": [
    "Python displays `True` and `False` as a result of a comparison.\n",
    "\n",
    "`True` and `False` are the two values of the `bool` data type, short for **boolean**.\n",
    "\n",
    "Boolean values represent answers to Yes/No questions like:\n",
    "\n",
    "- Is this person a Canadian citizen?\n",
    "- Is this movie less than 2 hours long?\n",
    "- Is every student in this lecture paying attention right now?"
   ]
  },
  {
   "cell_type": "markdown",
   "metadata": {
    "slideshow": {
     "slide_type": "slide"
    }
   },
   "source": [
    "### Manipulating booleans\n",
    "\n",
    "We can perform three operations on booleans: `not`, `and`, `or`."
   ]
  },
  {
   "cell_type": "markdown",
   "metadata": {},
   "source": [
    "`not b` negates the value of `b`, so `True` becomes `False` and vice versa."
   ]
  },
  {
   "cell_type": "code",
   "execution_count": null,
   "metadata": {},
   "outputs": [],
   "source": [
    "not True"
   ]
  },
  {
   "cell_type": "markdown",
   "metadata": {
    "slideshow": {
     "slide_type": "slide"
    }
   },
   "source": [
    "`a and b` produces whether *both* `a` and `b` are `True`:"
   ]
  },
  {
   "cell_type": "code",
   "execution_count": null,
   "metadata": {},
   "outputs": [],
   "source": [
    "True and False"
   ]
  },
  {
   "cell_type": "markdown",
   "metadata": {
    "slideshow": {
     "slide_type": "fragment"
    }
   },
   "source": [
    "`a or b` evaluates to whether *at least one of* `a` and `b` are `True`:"
   ]
  },
  {
   "cell_type": "code",
   "execution_count": null,
   "metadata": {},
   "outputs": [],
   "source": [
    "True or False"
   ]
  },
  {
   "cell_type": "code",
   "execution_count": null,
   "metadata": {
    "slideshow": {
     "slide_type": "fragment"
    }
   },
   "outputs": [],
   "source": [
    "(5 < 10) and (3 * 5 < 2 * 7)"
   ]
  },
  {
   "cell_type": "markdown",
   "metadata": {
    "slideshow": {
     "slide_type": "slide"
    }
   },
   "source": [
    "## Text data and the `str` data type"
   ]
  },
  {
   "cell_type": "markdown",
   "metadata": {},
   "source": [
    "`str`, short for **string**, is a type of data for representing text.\n",
    "A string is a sequence of *characters*, where each character could be:\n",
    "\n",
    "- English letters (a, b, c)\n",
    "- numeric digits (0, 1, 2, etc.)\n",
    "- letters and glyphs from languages other than English (e.g., ي, ξ, 你)\n",
    "- punctuation marks and symbols (such as the period (.) and at symbol @)\n",
    "- spaces\n",
    "- [emojis](https://emojipedia.org/) (e.g., 😉, 🐧, 🏫)"
   ]
  },
  {
   "cell_type": "markdown",
   "metadata": {
    "slideshow": {
     "slide_type": "slide"
    }
   },
   "source": [
    "In Python, we write strings by writing text surrounded by either single-quotes or double-quotes."
   ]
  },
  {
   "cell_type": "code",
   "execution_count": null,
   "metadata": {},
   "outputs": [],
   "source": [
    "'Hello, world!'"
   ]
  },
  {
   "cell_type": "code",
   "execution_count": null,
   "metadata": {},
   "outputs": [],
   "source": [
    "\"You are cool\""
   ]
  },
  {
   "cell_type": "code",
   "execution_count": null,
   "metadata": {},
   "outputs": [],
   "source": [
    "\"You are 'cool'\""
   ]
  },
  {
   "cell_type": "markdown",
   "metadata": {
    "slideshow": {
     "slide_type": "slide"
    }
   },
   "source": [
    "We can check whether two strings are equal:"
   ]
  },
  {
   "cell_type": "code",
   "execution_count": null,
   "metadata": {},
   "outputs": [],
   "source": [
    "\"cool\" == 'cool'"
   ]
  },
  {
   "cell_type": "markdown",
   "metadata": {
    "slideshow": {
     "slide_type": "fragment"
    }
   },
   "source": [
    "This comparison is *case-sensitive*:"
   ]
  },
  {
   "cell_type": "code",
   "execution_count": null,
   "metadata": {},
   "outputs": [],
   "source": [
    "\"cool\" == \"COOL\""
   ]
  },
  {
   "cell_type": "markdown",
   "metadata": {
    "slideshow": {
     "slide_type": "slide"
    }
   },
   "source": [
    "We can use a new operator, `in`, to check whether one string is contained inside another:"
   ]
  },
  {
   "cell_type": "code",
   "execution_count": null,
   "metadata": {},
   "outputs": [],
   "source": [
    "\"cat\" in \"education\""
   ]
  },
  {
   "cell_type": "markdown",
   "metadata": {
    "slideshow": {
     "slide_type": "slide"
    }
   },
   "source": [
    "We can concatenate strings together using the `+` operator:"
   ]
  },
  {
   "cell_type": "code",
   "execution_count": null,
   "metadata": {},
   "outputs": [],
   "source": [
    "\"Hello\" + \"World!\""
   ]
  },
  {
   "cell_type": "code",
   "execution_count": null,
   "metadata": {},
   "outputs": [],
   "source": [
    "\"Hello \" + \"World!\""
   ]
  },
  {
   "cell_type": "markdown",
   "metadata": {
    "slideshow": {
     "slide_type": "slide"
    }
   },
   "source": [
    "We can access a specific character in the string by its *position* (or \"*index*\") using square bracket notation.\n",
    "\n",
    "**Note**: in Python, positions/indexes start at **0**, not 1!"
   ]
  },
  {
   "cell_type": "code",
   "execution_count": null,
   "metadata": {},
   "outputs": [],
   "source": [
    "\"Hello World!\"[0]"
   ]
  },
  {
   "cell_type": "code",
   "execution_count": 1,
   "metadata": {},
   "outputs": [
    {
     "data": {
      "text/plain": [
       "'Hello'"
      ]
     },
     "execution_count": 1,
     "metadata": {},
     "output_type": "execute_result"
    }
   ],
   "source": [
    "\"Hello World!\"[0:5]"
   ]
  },
  {
   "cell_type": "markdown",
   "metadata": {
    "slideshow": {
     "slide_type": "slide"
    }
   },
   "source": [
    "Finally, we can use the `len` function to compute the number of characters of a string:"
   ]
  },
  {
   "cell_type": "code",
   "execution_count": null,
   "metadata": {},
   "outputs": [],
   "source": [
    "len(\"Hello World!\")"
   ]
  },
  {
   "cell_type": "markdown",
   "metadata": {
    "slideshow": {
     "slide_type": "slide"
    }
   },
   "source": [
    "### Exercise 2\n",
    "\n",
    "Write a Python expression to compute whether the word `\"hippopotamus\"` is longer than `\"elephant\"`.\n",
    "\n",
    "(The word \"whether\" signals that the output should be a *boolean*, i.e., either `True` or `False`.)"
   ]
  },
  {
   "cell_type": "code",
   "execution_count": null,
   "metadata": {},
   "outputs": [],
   "source": [
    "# Write your code in the space below\n",
    "\n",
    "\n"
   ]
  },
  {
   "cell_type": "markdown",
   "metadata": {
    "slideshow": {
     "slide_type": "slide"
    }
   },
   "source": [
    "**Solution** (only look at this after attempting the exercise!)"
   ]
  },
  {
   "cell_type": "code",
   "execution_count": null,
   "metadata": {},
   "outputs": [],
   "source": [
    "len(\"hippopotamus\") > len(\"elephant\")"
   ]
  },
  {
   "cell_type": "markdown",
   "metadata": {},
   "source": [
    "How about `\"hippopotamus\"` and `\"hippocampus\"`?"
   ]
  },
  {
   "cell_type": "code",
   "execution_count": null,
   "metadata": {},
   "outputs": [],
   "source": [
    "# Write your code in the space below"
   ]
  },
  {
   "cell_type": "markdown",
   "metadata": {},
   "source": [
    "### Summary of this part (use that at home to revise):\n",
    "\n",
    "- We now know some Python data types, allowing us to represent our data:\n",
    "    - Numbers: `int` and `float`\n",
    "    - Logical (Boolean): `bool`\n",
    "    - Strings: `str`\n",
    "- We know that data helps us to explain to Python what we can do with data \n",
    "\n",
    "|Operation  | Applied to type ...| Results is of type ...| Example |\n",
    "| --- | --- | --- |---|\n",
    "|`len`             | `str`           | `int` | ....   |\n",
    "|`<`, `>`          | `int` or `float`|       | `5 > 7`|\n",
    "|`and`, `not`, `or`|                 | `bool`|        |\n",
    "|...               |                 |       |        |\n",
    "\n",
    "Continue at home!\n",
    "Can some functions or operators be aplied to other types?\n",
    "![dalek-experiment](/images/dalek.png)"
   ]
  },
  {
   "cell_type": "markdown",
   "metadata": {
    "slideshow": {
     "slide_type": "slide"
    }
   },
   "source": [
    "## Variables\n",
    "\n",
    "As our code gets more complex, we'll use **variables** to keep track of our values.\n",
    "\n",
    "A **variable** is a piece of code that *refers* to a value.\n",
    "\n",
    "We create variables using code called an **assignment statement**, which looks like:\n",
    "\n",
    "```python\n",
    "<variable> = <expression>\n",
    "```"
   ]
  },
  {
   "cell_type": "code",
   "execution_count": null,
   "metadata": {
    "slideshow": {
     "slide_type": "slide"
    }
   },
   "outputs": [],
   "source": [
    "name = \"Ilya\""
   ]
  },
  {
   "cell_type": "markdown",
   "metadata": {
    "slideshow": {
     "slide_type": "fragment"
    }
   },
   "source": [
    "When we evaluated the previous code cell, nothing was displayed!\n",
    "But the code did execute: what it did was tell Python to create a variable called `name` and make it refer to the value `\"Ilya\"`.\n",
    "\n",
    "We can then access the value of this variable:"
   ]
  },
  {
   "cell_type": "code",
   "execution_count": null,
   "metadata": {
    "slideshow": {
     "slide_type": "fragment"
    }
   },
   "outputs": [],
   "source": [
    "name"
   ]
  },
  {
   "cell_type": "code",
   "execution_count": null,
   "metadata": {
    "slideshow": {
     "slide_type": "fragment"
    }
   },
   "outputs": [],
   "source": [
    "name + \" is not an early bird\""
   ]
  },
  {
   "cell_type": "code",
   "execution_count": null,
   "metadata": {
    "slideshow": {
     "slide_type": "fragment"
    }
   },
   "outputs": [],
   "source": [
    "len(name)"
   ]
  },
  {
   "cell_type": "code",
   "execution_count": null,
   "metadata": {},
   "outputs": [],
   "source": [
    "sad_truth = name + \" is not an early bird\""
   ]
  },
  {
   "cell_type": "markdown",
   "metadata": {
    "slideshow": {
     "slide_type": "slide"
    }
   },
   "source": [
    "Jupyter notebooks let us write multiple statements in a single code cell.\n",
    "This lets us write one block of code where we define variables and use them in the same cell."
   ]
  },
  {
   "cell_type": "code",
   "execution_count": null,
   "metadata": {},
   "outputs": [],
   "source": [
    "amount = 15.99\n",
    "tax_rate = 0.13\n",
    "tip_rate = 0.15\n",
    "\n",
    "total_amount = amount * (1 + tax_rate + tip_rate)\n",
    "\n",
    "round(total_amount)"
   ]
  },
  {
   "cell_type": "markdown",
   "metadata": {
    "slideshow": {
     "slide_type": "slide"
    }
   },
   "source": [
    "### Naming variables\n",
    "\n",
    "Even though Python lets us name variables whatever we want, it is important to pick meaningful variable names!\n",
    "\n",
    "If you don't, you might end up reading code that looks like this:"
   ]
  },
  {
   "cell_type": "code",
   "execution_count": null,
   "metadata": {},
   "outputs": [],
   "source": [
    "lol = 15.99\n",
    "lmao = 0.13\n",
    "x = 0.15\n",
    "\n",
    "wtf = lol * (1 + lmao + x)\n",
    "\n",
    "round(wtf)"
   ]
  },
  {
   "cell_type": "markdown",
   "metadata": {
    "slideshow": {
     "slide_type": "slide"
    }
   },
   "source": [
    "Python follows two conventions for writing variable names:\n",
    "\n",
    "- make all letters lowercase (so `amount`, not `Amount` or `AMOUNT`)\n",
    "- separate words with underscores so (`tax_rate`, not `tax rate` or `taxrate`)"
   ]
  },
  {
   "cell_type": "markdown",
   "metadata": {
    "slideshow": {
     "slide_type": "slide"
    }
   },
   "source": [
    "## The `print` function\n",
    "\n",
    "Normally when we execute a notebook cell with multiple expressions/statements, only the value of the last one is displayed."
   ]
  },
  {
   "cell_type": "code",
   "execution_count": null,
   "metadata": {},
   "outputs": [],
   "source": [
    "3 + 4\n",
    "5 + 6\n",
    "7 + 8"
   ]
  },
  {
   "cell_type": "markdown",
   "metadata": {
    "slideshow": {
     "slide_type": "slide"
    }
   },
   "source": [
    "We can use the built-in Python function `print` to display multiple values in the cell output."
   ]
  },
  {
   "cell_type": "code",
   "execution_count": null,
   "metadata": {},
   "outputs": [],
   "source": [
    "print(3 + 4)\n",
    "print(5 + 6)\n",
    "print(7 + 8)"
   ]
  },
  {
   "attachments": {},
   "cell_type": "markdown",
   "metadata": {
    "slideshow": {
     "slide_type": "slide"
    }
   },
   "source": [
    "## f-strings\n",
    "\n",
    "Suppose have have a student's name and a course' code, and want to compute a welcome message like `\"Hello David, you are currently in GGR274!\"`"
   ]
  },
  {
   "cell_type": "code",
   "execution_count": null,
   "metadata": {},
   "outputs": [],
   "source": [
    "name = \"Your Name\"\n",
    "course = \"GGR274\"\n",
    "\n",
    "welcome_message = \"Hello \" + name + \", you are currently in \" + course + \"!\"\n",
    "welcome_message"
   ]
  },
  {
   "cell_type": "markdown",
   "metadata": {
    "slideshow": {
     "slide_type": "slide"
    }
   },
   "source": [
    "This is a bit ugly, so Python gives us a way of writing a string with single-/double-quotes, but marking certain parts as Python expressions that should be evaluated to build the string.\n",
    "\n",
    "These are called **f-strings** (short for \"formatted string literal\")."
   ]
  },
  {
   "cell_type": "code",
   "execution_count": null,
   "metadata": {},
   "outputs": [],
   "source": [
    "welcome_message2 = f\"Hello {name}, you are currently in {course}!\"\n",
    "welcome_message2"
   ]
  },
  {
   "attachments": {},
   "cell_type": "markdown",
   "metadata": {
    "slideshow": {
     "slide_type": "slide"
    }
   },
   "source": [
    "## String Methods"
   ]
  },
  {
   "cell_type": "markdown",
   "metadata": {},
   "source": [
    "Strings are the most complex form of data we've studied so far, and there are a lot more operations we can perform on them beyond `==`, `in`, and `len`."
   ]
  },
  {
   "cell_type": "markdown",
   "metadata": {},
   "source": [
    "Most of these operations are implemented as string **methods**.\n",
    "\n",
    "A **method** is a function that is defined as part of a data type."
   ]
  },
  {
   "cell_type": "markdown",
   "metadata": {
    "slideshow": {
     "slide_type": "slide"
    }
   },
   "source": [
    "We refer to methods using \"dot notation\": `<type>.<method name>`.\n",
    "\n",
    "For example, `str.upper` is a string method that converts a string to ALL CAPS."
   ]
  },
  {
   "cell_type": "markdown",
   "metadata": {
    "slideshow": {
     "slide_type": "fragment"
    }
   },
   "source": [
    "We can *call* the method by putting a string value to the left of the dot in Python code:"
   ]
  },
  {
   "cell_type": "code",
   "execution_count": null,
   "metadata": {
    "slideshow": {
     "slide_type": "-"
    }
   },
   "outputs": [],
   "source": [
    "name = \"yourname\"\n",
    "\n",
    "name.upper()"
   ]
  },
  {
   "cell_type": "markdown",
   "metadata": {
    "slideshow": {
     "slide_type": "slide"
    }
   },
   "source": [
    "Here are some common string methods you may find useful:\n",
    "\n",
    "| String method         | Description                           |\n",
    "|-----------------------|---------------------------------------|\n",
    "| `str.upper()`         | Convert the string to uppercase.        |\n",
    "| `str.lower()`         | Convert the string to lowercase.        |\n",
    "| `str.count(other)`    | Return the number of times `other` appears in the string. |\n",
    "| `str.replace(old, new)` | Replace all occurrences of `old` with `new` in the string. |\n",
    "| `str.split()`         | Return a list of the words in the string, separating by spaces. |"
   ]
  },
  {
   "cell_type": "code",
   "execution_count": null,
   "metadata": {
    "slideshow": {
     "slide_type": "slide"
    }
   },
   "outputs": [],
   "source": [
    "my_string = \"I am cool\"\n",
    "\n",
    "my_string.replace(\"I am\", \"You are\")"
   ]
  },
  {
   "cell_type": "markdown",
   "metadata": {},
   "source": [
    "Don't forget to add examples to other methods!\n",
    "\n",
    "![dalek-experiment](/images/dalek.png)"
   ]
  },
  {
   "attachments": {},
   "cell_type": "markdown",
   "metadata": {
    "slideshow": {
     "slide_type": "slide"
    }
   },
   "source": [
    "## `str.split` and the Python `list` data type"
   ]
  },
  {
   "cell_type": "code",
   "execution_count": null,
   "metadata": {
    "slideshow": {
     "slide_type": "-"
    }
   },
   "outputs": [],
   "source": [
    "my_string = \"David is cool\"\n",
    "\n",
    "my_string.split()"
   ]
  },
  {
   "cell_type": "markdown",
   "metadata": {
    "slideshow": {
     "slide_type": "fragment"
    }
   },
   "source": [
    "What exactly is `['David', 'is', 'cool']`?\n",
    "\n",
    "It *contains* strings, but is not one big string itself."
   ]
  },
  {
   "cell_type": "markdown",
   "metadata": {
    "slideshow": {
     "slide_type": "slide"
    }
   },
   "source": [
    "Let's use the `type()` function to see what kind of value it is according to Python:"
   ]
  },
  {
   "cell_type": "code",
   "execution_count": null,
   "metadata": {
    "slideshow": {
     "slide_type": "-"
    }
   },
   "outputs": [],
   "source": [
    "mystery_value = my_string.split()\n",
    "\n",
    "type(mystery_value)"
   ]
  },
  {
   "cell_type": "markdown",
   "metadata": {
    "slideshow": {
     "slide_type": "fragment"
    }
   },
   "source": [
    "Okay! `['David', 'is', 'cool']` is a `list`.\n",
    "\n",
    "In Python, `list` are used to store **multiple values** in a **sequence** (i.e., with a defined order)."
   ]
  },
  {
   "cell_type": "markdown",
   "metadata": {
    "slideshow": {
     "slide_type": "slide"
    }
   },
   "source": [
    "### List examples\n",
    "\n",
    "Python `list`s are very versatile, and can be used to store different kinds of values. We write lists by using square brackets: `[...]`."
   ]
  },
  {
   "cell_type": "code",
   "execution_count": null,
   "metadata": {
    "slideshow": {
     "slide_type": "-"
    }
   },
   "outputs": [],
   "source": [
    "# A list of strings:\n",
    "[\"David\", \"is\", \"cool\"]"
   ]
  },
  {
   "cell_type": "code",
   "execution_count": null,
   "metadata": {
    "slideshow": {
     "slide_type": "fragment"
    }
   },
   "outputs": [],
   "source": [
    "# A list of ints\n",
    "[3, 5, 10000]"
   ]
  },
  {
   "cell_type": "code",
   "execution_count": null,
   "metadata": {
    "slideshow": {
     "slide_type": "fragment"
    }
   },
   "outputs": [],
   "source": [
    "# An *empty* list\n",
    "[]"
   ]
  },
  {
   "cell_type": "code",
   "execution_count": null,
   "metadata": {
    "slideshow": {
     "slide_type": "fragment"
    }
   },
   "outputs": [],
   "source": []
  },
  {
   "cell_type": "markdown",
   "metadata": {
    "slideshow": {
     "slide_type": "slide"
    }
   },
   "source": [
    "### List operations\n",
    "\n",
    "Lists support many of the same operations as strings, since both are \"sequences\"."
   ]
  },
  {
   "cell_type": "markdown",
   "metadata": {
    "slideshow": {
     "slide_type": "slide"
    }
   },
   "source": [
    "Lists can be compared using `==`. Note: order matters!"
   ]
  },
  {
   "cell_type": "code",
   "execution_count": null,
   "metadata": {},
   "outputs": [],
   "source": [
    "[1, 2, 3] == [1, 2, 3]"
   ]
  },
  {
   "cell_type": "code",
   "execution_count": null,
   "metadata": {},
   "outputs": [],
   "source": [
    "[1, 2, 3] == [3, 2, 1]"
   ]
  },
  {
   "cell_type": "markdown",
   "metadata": {
    "slideshow": {
     "slide_type": "slide"
    }
   },
   "source": [
    "We can compute the length of a list using the `len` function:"
   ]
  },
  {
   "cell_type": "code",
   "execution_count": null,
   "metadata": {},
   "outputs": [],
   "source": [
    "len([\"David\", \"is\", \"cool\"])"
   ]
  },
  {
   "cell_type": "markdown",
   "metadata": {
    "slideshow": {
     "slide_type": "slide"
    }
   },
   "source": [
    "We can calculate the sum of a list of numbers using the `sum` function:"
   ]
  },
  {
   "cell_type": "code",
   "execution_count": null,
   "metadata": {},
   "outputs": [],
   "source": [
    "sum([10, 20, 30])"
   ]
  },
  {
   "cell_type": "markdown",
   "metadata": {
    "slideshow": {
     "slide_type": "slide"
    }
   },
   "source": [
    "## Exercise 3: Putting it all together"
   ]
  },
  {
   "cell_type": "markdown",
   "metadata": {},
   "source": [
    "Given the list of numbers defined in the variable `my_numbers`, do the following:\n",
    "\n",
    "1. Calculate the *length* of the list (i.e., number of numbers in the list). Call this number `my_len`.\n",
    "2. Calculate the *sum* of the numbers in the list. Call this number `my_sum`.\n",
    "3. Calculate the *average* of the numbers in the list. Call this number `my_avg`.\n",
    "4. Print out a message of the form `\"The average of my_numbers is {my_avg}\"`, where `{my_avg}` is replaced by the average of the numbers."
   ]
  },
  {
   "cell_type": "code",
   "execution_count": null,
   "metadata": {},
   "outputs": [],
   "source": [
    "my_numbers = [1, -4.5, 333, 274, -1000, 0]\n",
    "\n",
    "# Write your code in the space below\n",
    "\n",
    "\n",
    "\n",
    "\n"
   ]
  },
  {
   "cell_type": "markdown",
   "metadata": {
    "slideshow": {
     "slide_type": "slide"
    }
   },
   "source": [
    "**Solution** (only look at this cell after attempting the above exercise!)"
   ]
  },
  {
   "cell_type": "code",
   "execution_count": null,
   "metadata": {},
   "outputs": [],
   "source": [
    "my_numbers = [1, -4.5, 333, 274, -1000, 0]\n",
    "\n",
    "# Write your code in the space below\n",
    "my_len = len(my_numbers)\n",
    "my_sum = sum(my_numbers)\n",
    "my_avg = my_len / my_sum\n",
    "\n",
    "print(f\"The average of my_numbers is {my_avg}\")"
   ]
  },
  {
   "cell_type": "markdown",
   "metadata": {},
   "source": [
    "## Exercise 4:\n",
    "Experiment more!\n",
    "\n",
    "![dalek-experiment](/images/dalek.png)\n",
    "\n",
    "- Write down how much do you like the music of the following artists (let's use -5 to +5 scale, -5 absolutely can't stand, 0 - idk/neutral, +5 on repeat, actually listening right now) \n",
    "    - Drake, Tame Impala, Billie Eilish, The Weeknd, Taylor Swift\n",
    "- Write down the same for one of your friends or family members (or make up an imaginary friend)\n",
    "- Think how to answer based on this data:\n",
    "    - How enthusiastic about music you and your friend are?\n",
    "    - How would you approach comparing music tastes between two people?\n",
    "- Write down your idea first and then you can try to put it into code!"
   ]
  },
  {
   "cell_type": "markdown",
   "metadata": {},
   "source": [
    "## Learning objectives\n",
    "\n",
    "In this lecture, you learned to:\n",
    "\n",
    "- Identify and describe values of different types in Python code\n",
    "    - `int`, `float`, `bool`, `str`, `list`\n",
    "- Perform simple computations on these values\n",
    "    - arithmetic, comparisons, functions (e.g. `round`, `abs`), string methods (e.g. `str.upper`, `str.split`)\n",
    "- Store values and the results of computations in variables\n",
    "    - e.g. `name = \"David\"`\n",
    "- Run Python code and display results in a Jupyter notebook (like this one!)"
   ]
  }
 ],
 "metadata": {
  "celltoolbar": "Slideshow",
  "kernelspec": {
   "display_name": "Python 3 (ipykernel)",
   "language": "python",
   "name": "python3"
  },
  "language_info": {
   "codemirror_mode": {
    "name": "ipython",
    "version": 3
   },
   "file_extension": ".py",
   "mimetype": "text/x-python",
   "name": "python",
   "nbconvert_exporter": "python",
   "pygments_lexer": "ipython3",
   "version": "3.8.10"
  },
  "vscode": {
   "interpreter": {
    "hash": "8b8edaa195e148f815789564e9a10f57d8b792ac9e1a5daafce5fbae42bebd0e"
   }
  }
 },
 "nbformat": 4,
 "nbformat_minor": 2
}
