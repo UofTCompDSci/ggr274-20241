{
 "cells": [
  {
   "cell_type": "markdown",
   "id": "58052e68",
   "metadata": {},
   "source": [
    "# GGR274 Lab 7: Functions "
   ]
  },
  {
   "cell_type": "markdown",
   "id": "68c8b208",
   "metadata": {},
   "source": [
    "## Logistics\n",
    "\n",
    "Like previous weeks, our lab grade will be based on attendance and submission of a few small tasks to MarkUs during the lab session (or by 23:59 on Thursday).\n",
    "\n",
    "Complete the tasks in this Jupyter notebook and submit your completed file to [MarkUs](https://markus-ds.teach.cs.toronto.edu).\n",
    "Here are the instructions for submitting to MarkUs (same as last week):\n",
    "\n",
    "1. Download this file (`Lab_7.ipynb`) from JupyterHub. (See [our JupyterHub Guide](../../../guides/jupyterhub_guide.ipynb) for detailed instructions.)\n",
    "2. Submit this file to MarkUs under the **lab7** assignment. (See [our MarkUs Guide](../../../guides/markus_guide.ipynb) for detailed instructions.)\n",
    "\n",
    "Note: there's no autograding set up for this week's lab, but your TA will be checking that your submitted lab file is complete as part of your \"lab attendance\" grade."
   ]
  },
  {
   "cell_type": "markdown",
   "id": "dd4f7af2",
   "metadata": {},
   "source": [
    "### Piloting MarkUs JupyterHub Extension (optional)\n",
    "\n",
    "Starting with this week's lab and homework, we're piloting a new way to submit files to MarkUs directly from JupyterHub (without needing to download them). This is **optional** so you can still submit your work the usual way, but if you have some time please try it out by following the instructions on the [MarkUs Guide](../../../guides/markus_guide.ipynb)."
   ]
  },
  {
   "cell_type": "markdown",
   "id": "24cba1f7",
   "metadata": {},
   "source": [
    "## Lab Instructions and Learning Objectives\n",
    "- Learn how to use Python dictionaries to store data.\n",
    "- Learn how to use Python to create simulated means."
   ]
  },
  {
   "cell_type": "markdown",
   "id": "f5007fc2",
   "metadata": {},
   "source": [
    "### Accumulating information in a dictionary\n",
    "Remember in lecture we used a for loop to add up a series of numbers? And then we used a for loop to accumulate a list of means? As it turns out, you can use the same technique to make a dictionary.\n",
    "\n",
    "Here's how you add a key/value pair to a dictionary (this is also called \"inserting\"):"
   ]
  },
  {
   "cell_type": "code",
   "execution_count": null,
   "id": "5abf0066",
   "metadata": {},
   "outputs": [],
   "source": [
    "d = {} # empty dictionary\n",
    "d['key1'] = 'value1'\n",
    "d"
   ]
  },
  {
   "cell_type": "code",
   "execution_count": null,
   "id": "6b914807",
   "metadata": {},
   "outputs": [],
   "source": [
    "d['key2'] = 'value2'\n",
    "d"
   ]
  },
  {
   "cell_type": "code",
   "execution_count": null,
   "id": "33493f56",
   "metadata": {},
   "outputs": [],
   "source": [
    "d['key1'] = 'new_value'\n",
    "d"
   ]
  },
  {
   "cell_type": "markdown",
   "id": "ebf19955",
   "metadata": {},
   "source": [
    "You can accumulate a new dictionary using a for loop:"
   ]
  },
  {
   "cell_type": "code",
   "execution_count": null,
   "id": "7fe124cb",
   "metadata": {},
   "outputs": [],
   "source": [
    "ta_to_course = {}\n",
    "for name in ['Amber', 'Martin', 'Davia', 'KP', 'Ilan']:\n",
    "    ta_to_course[name] = 'GGR274'\n",
    "\n",
    "ta_to_course"
   ]
  },
  {
   "cell_type": "code",
   "execution_count": null,
   "id": "769825c7",
   "metadata": {},
   "outputs": [],
   "source": [
    "for name in ['Matt', 'Fiona']:\n",
    "    ta_to_course[name] = 'EEB125'\n",
    "\n",
    "print(ta_to_course)\n",
    "print(ta_to_course['Matt'])"
   ]
  },
  {
   "cell_type": "code",
   "execution_count": null,
   "id": "3f00ab13",
   "metadata": {},
   "outputs": [],
   "source": [
    "import pandas as pd\n",
    "\n",
    "time_use_data_raw = pd.read_csv('gss_tu2016_main_file.csv')\n",
    "\n",
    "time_use_dur = time_use_data_raw[[\"CASEID\", \"dur44\"]]\n",
    "\n",
    "time_use_dur.shape"
   ]
  },
  {
   "cell_type": "markdown",
   "id": "5c84768f",
   "metadata": {},
   "source": [
    "## Task 1\n",
    "\n",
    "Take 5 random samples from the column `dur44` with replacement, and calculate the mean of each random sample.  Set the parameter `n` in `.sample` to the first element of `sample_size`  and store the means in a list called `simulated_means10`.  \n",
    "\n",
    "### Steps to create simulated means:\n",
    "\n",
    "0. Create a list called `sample_size` with the values 10, 20.\n",
    "1. Create an empty list called `simulated_means10`\n",
    "2. Create a `for` loop \n",
    "3. within the `for` loop take a random sample with replacement from the `dur44` column of `time_use_dur` of size `n = sample_size[0]` with `replace = True` and calculate the mean of this sample.  Store this value in `rsample`\n",
    "4. append `rsample` to `simulated_means10`.\n"
   ]
  },
  {
   "cell_type": "code",
   "execution_count": null,
   "id": "561fdd77",
   "metadata": {},
   "outputs": [],
   "source": [
    "# add your code below\n"
   ]
  },
  {
   "cell_type": "markdown",
   "id": "03946d85",
   "metadata": {},
   "source": [
    "## Task 2 - Store the simulated means in a dictionary\n",
    "\n",
    "Create an empty dictionary called `sim_dict`.  Add the key `sample_size[0]` with values `simulated_means10`."
   ]
  },
  {
   "cell_type": "code",
   "execution_count": null,
   "id": "20dd5043",
   "metadata": {},
   "outputs": [],
   "source": [
    "# add your code below\n"
   ]
  },
  {
   "cell_type": "markdown",
   "id": "ec37a2c8",
   "metadata": {},
   "source": [
    "## Task 3 - Repeat the steps to create simulated means for `sample_size[1]`.  \n",
    "\n",
    "Store the results in `simpulated_means20`."
   ]
  },
  {
   "cell_type": "code",
   "execution_count": null,
   "id": "b911a8ad",
   "metadata": {},
   "outputs": [],
   "source": [
    "# add your code below\n"
   ]
  },
  {
   "cell_type": "markdown",
   "id": "f6c53bf9",
   "metadata": {},
   "source": [
    "## Task 4 - Store the simulated means in a dictionary\n",
    "\n",
    "Add `sample_size[1]` as a key with values `simulated_means20` to `sim_dict`."
   ]
  },
  {
   "cell_type": "code",
   "execution_count": null,
   "id": "ef999e07",
   "metadata": {},
   "outputs": [],
   "source": [
    "# add your code below\n"
   ]
  },
  {
   "cell_type": "markdown",
   "id": "179a1b0e",
   "metadata": {},
   "source": [
    "## Task 5 - Store the data in `sim_dict` in a `pandas` `DataFrame` called `sim_df`."
   ]
  },
  {
   "cell_type": "code",
   "execution_count": null,
   "id": "6940be98",
   "metadata": {},
   "outputs": [],
   "source": [
    "# add your code below\n"
   ]
  }
 ],
 "metadata": {
  "kernelspec": {
   "display_name": "Python 3",
   "language": "python",
   "name": "python3"
  },
  "language_info": {
   "codemirror_mode": {
    "name": "ipython",
    "version": 3
   },
   "file_extension": ".py",
   "mimetype": "text/x-python",
   "name": "python",
   "nbconvert_exporter": "python",
   "pygments_lexer": "ipython3",
   "version": "3.7.4"
  },
  "markus": {
   "assessment_id": 150,
   "course_id": 9,
   "url": "https://markus-ds.teach.cs.toronto.edu"
  },
  "vscode": {
   "interpreter": {
    "hash": "8b8edaa195e148f815789564e9a10f57d8b792ac9e1a5daafce5fbae42bebd0e"
   }
  }
 },
 "nbformat": 4,
 "nbformat_minor": 5
}
