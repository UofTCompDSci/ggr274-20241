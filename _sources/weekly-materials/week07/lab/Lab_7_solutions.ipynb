{
 "cells": [
  {
   "cell_type": "markdown",
   "id": "1f64c28c",
   "metadata": {},
   "source": [
    "# GGR274 Lab 7: Functions "
   ]
  },
  {
   "cell_type": "markdown",
   "id": "f50ccfbf",
   "metadata": {},
   "source": [
    "## Logistics\n",
    "\n",
    "Like previous weeks, our lab grade will be based on attendance and submission of a few small tasks to MarkUs during the lab session (or by 23:59 on Thursday).\n",
    "\n",
    "Complete the tasks in this Jupyter notebook and submit your completed file to [MarkUs](https://markus-ds.teach.cs.toronto.edu).\n",
    "Here are the instructions for submitting to MarkUs (same as last week):\n",
    "\n",
    "1. Download this file (`Lab_7.ipynb`) from JupyterHub. (See [our JupyterHub Guide](../../../guides/jupyterhub_guide.ipynb) for detailed instructions.)\n",
    "2. Submit this file to MarkUs under the **lab7** assignment. (See [our MarkUs Guide](../../../guides/markus_guide.ipynb) for detailed instructions.)\n",
    "\n",
    "Note: there's no autograding set up for this week's lab, but your TA will be checking that your submitted lab file is complete as part of your \"lab attendance\" grade."
   ]
  },
  {
   "cell_type": "markdown",
   "id": "0a166459",
   "metadata": {},
   "source": [
    "### Piloting MarkUs JupyterHub Extension (optional)\n",
    "\n",
    "Starting with this week's lab and homework, we're piloting a new way to submit files to MarkUs directly from JupyterHub (without needing to download them). This is **optional** so you can still submit your work the usual way, but if you have some time please try it out by following the instructions on the [MarkUs Guide](../../../guides/markus_guide.ipynb)."
   ]
  },
  {
   "cell_type": "markdown",
   "id": "102ad291",
   "metadata": {},
   "source": [
    "## Lab Instructions and Learning Objectives\n",
    "- Learn how to use Python dictionaries to store data.\n",
    "- Learn how to use Python to create simulated means."
   ]
  },
  {
   "cell_type": "markdown",
   "id": "6bc34421",
   "metadata": {},
   "source": [
    "### Accumulating information in a dictionary\n",
    "Remember in lecture we used a for loop to add up a series of numbers? And then we used a for loop to accumulate a list of means? As it turns out, you can use the same technique to make a dictionary.\n",
    "\n",
    "Here's how you add a key/value pair to a dictionary (this is also called \"inserting\"):"
   ]
  },
  {
   "cell_type": "code",
   "execution_count": 1,
   "id": "3d8f3c34",
   "metadata": {},
   "outputs": [
    {
     "data": {
      "text/plain": [
       "{'key1': 'value1'}"
      ]
     },
     "execution_count": 1,
     "metadata": {},
     "output_type": "execute_result"
    }
   ],
   "source": [
    "d = {} # empty dictionary\n",
    "d['key1'] = 'value1'\n",
    "d"
   ]
  },
  {
   "cell_type": "code",
   "execution_count": 2,
   "id": "faf1d180",
   "metadata": {},
   "outputs": [
    {
     "data": {
      "text/plain": [
       "{'key1': 'value1', 'key2': 'value2'}"
      ]
     },
     "execution_count": 2,
     "metadata": {},
     "output_type": "execute_result"
    }
   ],
   "source": [
    "d['key2'] = 'value2'\n",
    "d"
   ]
  },
  {
   "cell_type": "code",
   "execution_count": 3,
   "id": "bb5928bf",
   "metadata": {},
   "outputs": [
    {
     "data": {
      "text/plain": [
       "{'key1': 'new_value', 'key2': 'value2'}"
      ]
     },
     "execution_count": 3,
     "metadata": {},
     "output_type": "execute_result"
    }
   ],
   "source": [
    "d['key1'] = 'new_value'\n",
    "d"
   ]
  },
  {
   "cell_type": "markdown",
   "id": "282c1b5b",
   "metadata": {},
   "source": [
    "You can accumulate a new dictionary using a for loop:"
   ]
  },
  {
   "cell_type": "code",
   "execution_count": 4,
   "id": "792721f5",
   "metadata": {},
   "outputs": [
    {
     "data": {
      "text/plain": [
       "{'Amber': 'GGR274',\n",
       " 'Martin': 'GGR274',\n",
       " 'Davia': 'GGR274',\n",
       " 'KP': 'GGR274',\n",
       " 'Ilan': 'GGR274'}"
      ]
     },
     "execution_count": 4,
     "metadata": {},
     "output_type": "execute_result"
    }
   ],
   "source": [
    "ta_to_course = {}\n",
    "for name in ['Amber', 'Martin', 'Davia', 'KP', 'Ilan']:\n",
    "    ta_to_course[name] = 'GGR274'\n",
    "\n",
    "ta_to_course"
   ]
  },
  {
   "cell_type": "code",
   "execution_count": 5,
   "id": "68043427",
   "metadata": {},
   "outputs": [
    {
     "name": "stdout",
     "output_type": "stream",
     "text": [
      "{'Amber': 'GGR274', 'Martin': 'GGR274', 'Davia': 'GGR274', 'KP': 'GGR274', 'Ilan': 'GGR274', 'Matt': 'EEB125', 'Fiona': 'EEB125'}\n",
      "EEB125\n"
     ]
    }
   ],
   "source": [
    "for name in ['Matt', 'Fiona']:\n",
    "    ta_to_course[name] = 'EEB125'\n",
    "\n",
    "print(ta_to_course)\n",
    "print(ta_to_course['Matt'])"
   ]
  },
  {
   "cell_type": "code",
   "execution_count": 6,
   "id": "e3a3f075",
   "metadata": {},
   "outputs": [
    {
     "name": "stderr",
     "output_type": "stream",
     "text": [
      "/var/folders/0j/ybsv4ncn5w50v40vdh5jjlww0000gn/T/ipykernel_65730/1769220173.py:1: DeprecationWarning: \n",
      "Pyarrow will become a required dependency of pandas in the next major release of pandas (pandas 3.0),\n",
      "(to allow more performant data types, such as the Arrow string type, and better interoperability with other libraries)\n",
      "but was not found to be installed on your system.\n",
      "If this would cause problems for you,\n",
      "please provide us feedback at https://github.com/pandas-dev/pandas/issues/54466\n",
      "        \n",
      "  import pandas as pd\n"
     ]
    },
    {
     "data": {
      "text/plain": [
       "(17390, 2)"
      ]
     },
     "execution_count": 6,
     "metadata": {},
     "output_type": "execute_result"
    }
   ],
   "source": [
    "import pandas as pd\n",
    "\n",
    "time_use_data_raw = pd.read_csv('gss_tu2016_main_file.csv')\n",
    "\n",
    "time_use_dur = time_use_data_raw[[\"CASEID\", \"dur44\"]]\n",
    "\n",
    "time_use_dur.shape"
   ]
  },
  {
   "cell_type": "markdown",
   "id": "b95f1229",
   "metadata": {},
   "source": [
    "## Task 1\n",
    "\n",
    "Take 5 random samples from the column `dur44` with replacement, and calculate the mean of each random sample.  Set the parameter `n` in `.sample` to the first element of `sample_size`  and store the means in a list called `simulated_means10`.  \n",
    "\n",
    "### Steps to create simulated means:\n",
    "\n",
    "0. Create a list called `sample_size` with the values 10, 20.\n",
    "1. Create an empty list called `simulated_means10`\n",
    "2. Create a `for` loop \n",
    "3. within the `for` loop take a random sample with replacement from the `dur44` column of `time_use_dur` of size `n = sample_size[0]` with `replace = True` and calculate the mean of this sample.  Store this value in `rsample`\n",
    "4. append `rsample` to `simulated_means10`.\n"
   ]
  },
  {
   "cell_type": "code",
   "execution_count": 7,
   "id": "d140d0bc",
   "metadata": {},
   "outputs": [
    {
     "data": {
      "text/plain": [
       "[0.0, 0.0, 0.0, 0.0, 0.0]"
      ]
     },
     "execution_count": 7,
     "metadata": {},
     "output_type": "execute_result"
    }
   ],
   "source": [
    "sample_size = [10, 20]\n",
    "\n",
    "simulated_means10 = []\n",
    "\n",
    "for _ in range(5):\n",
    "    rsample = time_use_dur['dur44'].sample(n = sample_size[0], replace = True).mean()\n",
    "    simulated_means10.append(rsample)\n",
    "\n",
    "simulated_means10"
   ]
  },
  {
   "cell_type": "markdown",
   "id": "98329181",
   "metadata": {},
   "source": [
    "## Task 2 - Store the simulated means in a dictionary\n",
    "\n",
    "Create an empty dictionary called `sim_dict`.  Add the key `sample_size[0]` with values `simulated_means10`."
   ]
  },
  {
   "cell_type": "code",
   "execution_count": 8,
   "id": "4abde130",
   "metadata": {},
   "outputs": [],
   "source": [
    "sim_dict = {}\n",
    "\n",
    "sim_dict[sample_size[0]] = simulated_means10"
   ]
  },
  {
   "cell_type": "markdown",
   "id": "2da9b655",
   "metadata": {},
   "source": [
    "## Task 3 - Repeat the steps to create simulated means for `sample_size[1]`.  \n",
    "\n",
    "Store the results in `simpulated_means20`."
   ]
  },
  {
   "cell_type": "code",
   "execution_count": 9,
   "id": "60c72519",
   "metadata": {},
   "outputs": [
    {
     "data": {
      "text/plain": [
       "[11.0, 23.25, 13.5, 6.75, 4.5]"
      ]
     },
     "execution_count": 9,
     "metadata": {},
     "output_type": "execute_result"
    }
   ],
   "source": [
    "simulated_means20 = []\n",
    "\n",
    "for _ in range(5):\n",
    "    rsample = time_use_dur['dur44'].sample(n = sample_size[1], replace = True).mean()\n",
    "    simulated_means20.append(rsample)\n",
    "\n",
    "simulated_means20"
   ]
  },
  {
   "cell_type": "markdown",
   "id": "2171ebc8",
   "metadata": {},
   "source": [
    "## Task 4 - Store the simulated means in a dictionary\n",
    "\n",
    "Add `sample_size[1]` as a key with values `simulated_means20` to `sim_dict`."
   ]
  },
  {
   "cell_type": "code",
   "execution_count": 10,
   "id": "5c14e784",
   "metadata": {},
   "outputs": [],
   "source": [
    "sim_dict[sample_size[1]] =  simulated_means20"
   ]
  },
  {
   "cell_type": "markdown",
   "id": "a56a002b",
   "metadata": {},
   "source": [
    "## Task 5 - Store the data in `sim_dict` in a `pandas` `DataFrame` called `sim_df`."
   ]
  },
  {
   "cell_type": "code",
   "execution_count": 11,
   "id": "dc237e42",
   "metadata": {},
   "outputs": [
    {
     "data": {
      "text/html": [
       "<div>\n",
       "<style scoped>\n",
       "    .dataframe tbody tr th:only-of-type {\n",
       "        vertical-align: middle;\n",
       "    }\n",
       "\n",
       "    .dataframe tbody tr th {\n",
       "        vertical-align: top;\n",
       "    }\n",
       "\n",
       "    .dataframe thead th {\n",
       "        text-align: right;\n",
       "    }\n",
       "</style>\n",
       "<table border=\"1\" class=\"dataframe\">\n",
       "  <thead>\n",
       "    <tr style=\"text-align: right;\">\n",
       "      <th></th>\n",
       "      <th>10</th>\n",
       "      <th>20</th>\n",
       "    </tr>\n",
       "  </thead>\n",
       "  <tbody>\n",
       "    <tr>\n",
       "      <th>0</th>\n",
       "      <td>0.0</td>\n",
       "      <td>11.00</td>\n",
       "    </tr>\n",
       "    <tr>\n",
       "      <th>1</th>\n",
       "      <td>0.0</td>\n",
       "      <td>23.25</td>\n",
       "    </tr>\n",
       "    <tr>\n",
       "      <th>2</th>\n",
       "      <td>0.0</td>\n",
       "      <td>13.50</td>\n",
       "    </tr>\n",
       "    <tr>\n",
       "      <th>3</th>\n",
       "      <td>0.0</td>\n",
       "      <td>6.75</td>\n",
       "    </tr>\n",
       "    <tr>\n",
       "      <th>4</th>\n",
       "      <td>0.0</td>\n",
       "      <td>4.50</td>\n",
       "    </tr>\n",
       "  </tbody>\n",
       "</table>\n",
       "</div>"
      ],
      "text/plain": [
       "    10     20\n",
       "0  0.0  11.00\n",
       "1  0.0  23.25\n",
       "2  0.0  13.50\n",
       "3  0.0   6.75\n",
       "4  0.0   4.50"
      ]
     },
     "execution_count": 11,
     "metadata": {},
     "output_type": "execute_result"
    }
   ],
   "source": [
    "sim_df = pd.DataFrame(sim_dict)\n",
    "\n",
    "sim_df"
   ]
  }
 ],
 "metadata": {
  "kernelspec": {
   "display_name": "Python 3",
   "language": "python",
   "name": "python3"
  },
  "language_info": {
   "codemirror_mode": {
    "name": "ipython",
    "version": 3
   },
   "file_extension": ".py",
   "mimetype": "text/x-python",
   "name": "python",
   "nbconvert_exporter": "python",
   "pygments_lexer": "ipython3",
   "version": "3.10.13"
  },
  "markus": {
   "assessment_id": 150,
   "course_id": 9,
   "url": "https://markus-ds.teach.cs.toronto.edu"
  },
  "vscode": {
   "interpreter": {
    "hash": "8b8edaa195e148f815789564e9a10f57d8b792ac9e1a5daafce5fbae42bebd0e"
   }
  }
 },
 "nbformat": 4,
 "nbformat_minor": 5
}
