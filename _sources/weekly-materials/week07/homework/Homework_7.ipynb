{
 "cells": [
  {
   "cell_type": "markdown",
   "id": "bf9e545f",
   "metadata": {},
   "source": [
    "# GG274 Homework 7: Summary Statistics, Histograms and Simulation\n"
   ]
  },
  {
   "cell_type": "markdown",
   "id": "bbffc83d",
   "metadata": {},
   "source": [
    "## Logistics\n",
    "\n",
    "**Due date**: The homework is due 23:59 on Monday, March 04.\n",
    "\n",
    "You will submit your work on [MarkUs](https://markus-ds.teach.cs.toronto.edu).\n",
    "To submit your work:\n",
    "\n",
    "1. Download this file (`Homework_7.ipynb`) from JupyterHub. (See [our JupyterHub Guide](../../../guides/jupyterhub_guide.ipynb) for detailed instructions.)\n",
    "2. Submit this file to MarkUs under the **hw7** assignment. (See [our MarkUs Guide](../../../guides/markus_guide.ipynb) for detailed instructions.)\n",
    "All homeworks will take place in a Jupyter notebook (like this one). When you are done, you will download this notebook and submit it to MarkUs."
   ]
  },
  {
   "cell_type": "markdown",
   "id": "618571f2",
   "metadata": {},
   "source": [
    "### Piloting MarkUs JupyterHub Extension (optional)\n",
    "\n",
    "Starting with this week's lab and homework, we're piloting a new way to submit files to MarkUs directly from JupyterHub (without needing to download them). This is **optional** so you can still submit your work the usual way, but if you have some time please try it out by following the instructions on the [MarkUs Guide](../../../guides/markus_guide.ipynb)."
   ]
  },
  {
   "cell_type": "markdown",
   "id": "3b0de32b",
   "metadata": {},
   "source": [
    "## Introduction\n",
    "\n",
    "For this week's homework, we'll investigate the behaviour of sample statistics and distributions as we vary our sample size. Specifically, we'll be investigating the mean amount of time spent cleaning by respondents. Furthermore, we will extend our analysis by studying how our sample mean estimate tends to change when we take samples of increasing sizes.\n",
    "\n",
    "## Question\n",
    "\n",
    "_Question: How much time on average do respondents spend on indoor house cleaning?  How does our estimate of a sample mean change as we take increasingly larger samples?_\n"
   ]
  },
  {
   "cell_type": "markdown",
   "id": "313f2371",
   "metadata": {},
   "source": [
    "## Instructions and Learning Objectives\n",
    "\n",
    "In this homework, you will:\n",
    "* Work with the Time Use dataset from lecture to investigate properties of sampling means as the sample size changes\n",
    "  \n",
    "* Create and modify for loops and functions to run sampling simulations\n",
    "  \n",
    "* Visualize data using histograms and scatter plots"
   ]
  },
  {
   "cell_type": "markdown",
   "id": "dc596d9b",
   "metadata": {},
   "source": [
    "## Task 1 - Read in data\n",
    "\n",
    "The Data part of your notebook should read the raw data, extract a `DataFrame` containing the important columns, rename the columns, and filter out missing values.\n",
    "\n",
    "You might find it helpful to name intermediate values in your algorithms. That way you can examine them to make sure they have the type you expect and that they look like what you expect. Very helpful when debugging!\n",
    "\n",
    "## Step 1\n",
    "\n",
    "Create the following pandas `DataFrame`s:\n",
    "\n",
    "+ `time_use_data_raw`: the `DataFrame` created by reading the `gss_tu2016_main_file.csv` file. __(1 mark)__\n",
    "\n",
    "\n",
    "+ `time_use_dur`: the `DataFrame` containing the following columns from `time_use_data_raw`: `'CASEID'`, `'dur18'`. __(1 mark)__ (We test this after any changes are made to it. We do not check the initial value.)"
   ]
  },
  {
   "cell_type": "code",
   "execution_count": null,
   "id": "75b49067",
   "metadata": {},
   "outputs": [],
   "source": [
    "import pandas as pd\n",
    "import matplotlib.pyplot as plt\n",
    "\n",
    "# add your code below"
   ]
  },
  {
   "cell_type": "markdown",
   "id": "9885fcfa",
   "metadata": {},
   "source": [
    "## Step 2\n",
    "\n",
    "`time_use_dur` could use more informative column names. \n",
    "\n",
    "Replace `CASEID` and `dur18` in `time_use_dur` by \n",
    "\n",
    "+ creating a dictionary `new_column_names` that maps the column names from `time_use_dur` to the values `'participant_id'` and `'time_spent_cleaning'`. __(1 mark)__\n",
    "\n",
    "+ create a new `DataFrame` stored in `time_use_data` that is a copy of `time_use_dur`, but with the columns renamed using `new_column_names`. __(1 mark)__"
   ]
  },
  {
   "cell_type": "code",
   "execution_count": null,
   "id": "2e2dfe2d",
   "metadata": {},
   "outputs": [],
   "source": [
    "# add your code below\n"
   ]
  },
  {
   "cell_type": "code",
   "execution_count": null,
   "id": "5ae61c10",
   "metadata": {},
   "outputs": [],
   "source": [
    "# Step 2 check that you have the correct column names\n",
    "\n",
    "expected_columnnames = ['participant_id', 'time_spent_cleaning']\n",
    "\n",
    "try:\n",
    "    assert expected_columnnames == list(time_use_data.columns)\n",
    "    print('Column names are correct!')\n",
    "except:\n",
    "    print('Something is wrong, check your column names')\n"
   ]
  },
  {
   "cell_type": "markdown",
   "id": "6a9073fa",
   "metadata": {},
   "source": [
    "## Task 2 - Compute and Visualize Distribution\n",
    "\n",
    "### Step 1\n",
    "\n",
    "Compute the distribution of the column `time_spent_cleaning` for respondents that spent at least some time cleaning (i.e., had a non-zero value of `time_spent_cleaning`) in `time_use_data` using the `describe` function.  To do this \n",
    "\n",
    "- Create a pandas `Series` called `clean_nonzero` that only has respondents with non-zero values of `time_spent_cleaning`.  \n",
    "  \n",
    "- Use the `describe` function to describe the distribution of `time_spent_cleaning`, and store the results in a variable called `summary_stats`."
   ]
  },
  {
   "cell_type": "code",
   "execution_count": null,
   "id": "9cfcb178",
   "metadata": {},
   "outputs": [],
   "source": [
    "# add your code below\n"
   ]
  },
  {
   "cell_type": "markdown",
   "id": "86287644",
   "metadata": {},
   "source": [
    "### Step 2\n",
    "\n",
    "\n",
    "Visualize `clean_nonzero` column by creating a histogram using `maptplotlib` with the following parameters: \n",
    "\n",
    "```\n",
    "bins = 25, edgecolor='black', linewidth = 1.3, color = 'lightgrey'\n",
    "\n",
    "```\n",
    "\n",
    "Label the horizontal axis (x-axis) `Time spent cleaning (minutes)`."
   ]
  },
  {
   "cell_type": "code",
   "execution_count": null,
   "id": "33ccb879",
   "metadata": {},
   "outputs": [],
   "source": [
    "# Add your code below\n"
   ]
  },
  {
   "cell_type": "markdown",
   "id": "c84b3ad4",
   "metadata": {},
   "source": [
    "### Step 3\n",
    "\n",
    "In a markdown cell, describe the distribution of data, pointing out features like mode (where most observations lie), skew, and potential outliers. Do our results make sense given what we know about time spent on daily cleaning?\n",
    "\n",
    "Are there any strange values? Specifically, does it make sense for people to spend 0 mins cleaning?  Briefly explain.\n",
    "__(2 marks)__\n"
   ]
  },
  {
   "cell_type": "markdown",
   "id": "23048110",
   "metadata": {},
   "source": [
    "**Answer goes here ...**"
   ]
  },
  {
   "cell_type": "markdown",
   "id": "7e6318e0",
   "metadata": {},
   "source": [
    "## Task 3: Compute the empirical mean\n",
    "\n",
    "The **empirical mean** as the mean of all observed data. We distinguish this from the **sample mean** which is the mean of a sample or portion of all data.\n",
    "\n",
    "Compute the empirical mean time spent cleaning by respondents and name it `empirical_mean_time_spent_cleaning`. __(1 mark)__\n"
   ]
  },
  {
   "cell_type": "code",
   "execution_count": null,
   "id": "ed094e68",
   "metadata": {},
   "outputs": [],
   "source": [
    "# add your code below\n"
   ]
  },
  {
   "cell_type": "markdown",
   "id": "bc81e8df",
   "metadata": {},
   "source": [
    "## Task 4: Set up a Simulation Experiment\n",
    "\n",
    "You will investigate the behaviour of sample means for the following sample sizes:\n",
    "\n",
    "5, 10, 20, 50, 100, 200, 500, and 1000.\n",
    "\n",
    "### Step 1 - Specify Sample Sizes\n",
    "\n",
    "Create a `list` named `sample_sizes` with the aforementioned values in the specified order. __(1 mark)__"
   ]
  },
  {
   "cell_type": "code",
   "execution_count": null,
   "id": "d267c14d",
   "metadata": {
    "scrolled": true
   },
   "outputs": [],
   "source": [
    "# add your code below\n"
   ]
  },
  {
   "cell_type": "markdown",
   "id": "09820f1e",
   "metadata": {
    "tags": []
   },
   "source": [
    "### Step 2 - Simulating Sample Means\n",
    "\n",
    "In this part, you will complete a function that creates and returns a list of the sample means of the sample draws.\n",
    "\n",
    "Name the function `simulate_sample_means`. \n",
    "\n",
    "The function will have two arguments: \n",
    "+ `data`: a `pandas` `Series` or column of a `DataFrame` that we are sampling\n",
    "+ `N`: an `int`, the size of the sample we draw\n",
    "\n",
    "Your function should make and return a list of 100 sample means of size `N` from `data`.\n",
    "\n",
    "Sample *without* replacement.\n",
    "\n",
    "The function will return a list, `sample_means`. The list will be of size 100, with each element in the list representing the sample *mean* from the sample of size N. *Hint: Initialize an empty list used to store the sample means. Inside your for loop generate a sample from the data, calculate the sample mean, and append it to your list.*\n",
    "\n",
    "Wherever there is a commented chunk of code of the form `var_name = ...`, replace the `...` with the appropriate value or expression."
   ]
  },
  {
   "cell_type": "code",
   "execution_count": null,
   "id": "5177fab1",
   "metadata": {},
   "outputs": [],
   "source": [
    "# Finish the function header and complete the function body.\n",
    "# \n",
    "def \n",
    "\n",
    "    '''Return a list of 100 sample means from a sample of size N from data.'''\n",
    "    \n",
    "    \n",
    "    # This next statement is for reproducability: each random number is generated\n",
    "    # mathematically based on the previous random number, and we can say which\n",
    "    # number to start with when we call sample. This allows us to have reproducability\n",
    "    # with \"random\" numbers and so we can autotest! Yay!\n",
    "    seed = 0\n",
    "\n",
    "    # Create any variables you need here, such as the list of sample means you are\n",
    "    # accumulating.\n",
    "\n",
    "    \n",
    "    # In the next few lines, we will write a for loop to:\n",
    "    # - generate a sample of size N and compute sample mean.\n",
    "    # - append the sample mean to the list of sample means.\n",
    "    # repeat 100 times.\n",
    "\n",
    "    for _ in range(100):\n",
    "        seed += 1 # Don't change this line\n",
    "        \n",
    "        \n",
    "        # Here, write code to:\n",
    "        # 1) Take a sample of data, and calculate the sample mean.\n",
    "        #    When you call .sample, make sure you use random_state=seed as one of the\n",
    "        #    arguments.\n",
    "        # 2) Append the sample mean to the list of sample means.\n",
    "        \n",
    "        \n",
    "         \n",
    "    return ???"
   ]
  },
  {
   "cell_type": "code",
   "execution_count": null,
   "id": "3424e720",
   "metadata": {},
   "outputs": [],
   "source": [
    "#check your work\n",
    "simulate_sample_means(clean_nonzero, 5)"
   ]
  },
  {
   "cell_type": "markdown",
   "id": "4e51012b",
   "metadata": {},
   "source": [
    "## Task 5 - Simulate Sample Means\n",
    "\n",
    "In this part, you will complete a code block that computes and compiles simulated means for each sample size.\n",
    "\n",
    "For each sample size in `sample_sizes`, call function `simulate_sample_means` from the previous step to calculate 100 sample means at that sample size. You're going to build a dictionary where each key is a sample size and each value is the corresponding list of means that `simulate_sample_means` returned."
   ]
  },
  {
   "cell_type": "markdown",
   "id": "0a0622a1",
   "metadata": {},
   "source": [
    "### Accumulating information in a dictionary\n",
    "Remember in lecture we used a for loop to add up a series of numbers? And then we used a for loop to accumulate a list of means? As it turns out, you can use the same technique to make a dictionary.\n",
    "\n",
    "Here's how you add a key/value pair to a dictionary (this is also called \"inserting\"):"
   ]
  },
  {
   "cell_type": "code",
   "execution_count": null,
   "id": "4635746d",
   "metadata": {},
   "outputs": [],
   "source": [
    "d = {}\n",
    "d['key1'] = 'value1'\n",
    "d"
   ]
  },
  {
   "cell_type": "code",
   "execution_count": null,
   "id": "7ab7127e",
   "metadata": {},
   "outputs": [],
   "source": [
    "d['key2'] = 'value2'\n",
    "d"
   ]
  },
  {
   "cell_type": "code",
   "execution_count": null,
   "id": "c609e8c6",
   "metadata": {
    "scrolled": false
   },
   "outputs": [],
   "source": [
    "d['key1'] = 'new_value'\n",
    "d"
   ]
  },
  {
   "cell_type": "markdown",
   "id": "282ed2e6",
   "metadata": {},
   "source": [
    "You can accumulate a new dictionary using a for loop:"
   ]
  },
  {
   "cell_type": "code",
   "execution_count": null,
   "id": "2cdc68de",
   "metadata": {},
   "outputs": [],
   "source": [
    "ta_to_course = {}\n",
    "for name in ['Amber','Martin', 'Davia', 'KP', 'Ilan']:\n",
    "    ta_to_course[name] = 'GGR274'\n",
    "\n",
    "ta_to_course"
   ]
  },
  {
   "cell_type": "code",
   "execution_count": null,
   "id": "194f18a1",
   "metadata": {},
   "outputs": [],
   "source": [
    "for name in ['Matt', 'Fiona']:\n",
    "    ta_to_course[name] = 'EEB125'\n",
    "\n",
    "print(ta_to_course)\n",
    "print(ta_to_course['Matt'])"
   ]
  },
  {
   "cell_type": "markdown",
   "id": "cdfcc3ce",
   "metadata": {},
   "source": [
    "### Step 1 - Create a dictionary of simulated means for each sample size\n",
    "\n",
    "As you loop through each element in `sample_sizes`, you will pass the current sample size to the function `simulate_sample_means` (specifically, the argument `N`). You will be sampling from the cleaned dataset, so make sure to pass the value of `clean_nonzero` to the `data` parameter.\n",
    "\n",
    "The result of calling `simulate_sample_means` is a list of means. Add a new key/value pair to `all_sample_means_by_sample_size`. The key is the current sample size and the value is the list of means.\n",
    "\n",
    "Finally we will be checking this in the autotester:\n",
    "+ `all_sample_means_by_sample_size`: a dictionary mapping the sample sizes to a list of sample means of a size 100. (Because we'll use the same random seed, we'll get the same \"random\" sequence. That means that we can autotest it. Yay!) __(2 marks)__"
   ]
  },
  {
   "cell_type": "code",
   "execution_count": null,
   "id": "95a7bfa9",
   "metadata": {},
   "outputs": [],
   "source": [
    "# Fill in your code below\n",
    "# Start with an empty dictionary\n",
    "all_sample_means_by_sample_size = ...\n",
    "\n",
    "# # Finish the code\n",
    "\n",
    "for ... "
   ]
  },
  {
   "cell_type": "markdown",
   "id": "b75ee086",
   "metadata": {},
   "source": [
    "## Step 2 - Answer this question\n",
    "\n",
    "Briefly explain what the keys and values represent in the dictionary `all_sample_means_by_sample_size`.  You can obtain the keys by using the `keys` method `all_sample_means_by_sample_size.keys()`."
   ]
  },
  {
   "cell_type": "markdown",
   "id": "c73d8576",
   "metadata": {},
   "source": [
    "> **answer to question ...**"
   ]
  },
  {
   "cell_type": "markdown",
   "id": "4c09604f",
   "metadata": {},
   "source": [
    "## Task 6 - Plot the results\n",
    "\n",
    "### Step 1: Create Data for Plotting\n",
    "\n",
    "In this section you will calculate the mean of simulation. \n",
    "\n",
    "Create the following variables:\n",
    "\n",
    "+ `sample_means_by_sample_size`: a `DataFrame` created from the dictionary `all_sample_means_by_sample_size`. __(1 mark)__\n",
    "\n",
    "+ `mean_of_sample_means_by_sample_size`: compute the column means of `sample_means_by_sample_size`, that is the mean sample means at each sample size. __(1 mark)__ \n",
    "\n",
    "+ `diff_sample_mean_empirical_means_by_sample_size`: the difference between mean of sample means and the empirical mean at each sample size. __(1 mark)__"
   ]
  },
  {
   "cell_type": "code",
   "execution_count": null,
   "id": "d0d17722",
   "metadata": {},
   "outputs": [],
   "source": [
    "# add your code below\n"
   ]
  },
  {
   "cell_type": "markdown",
   "id": "1825a5dc",
   "metadata": {},
   "source": [
    "### Step 2: Plot the data\n",
    "\n",
    "In this section you will plot the results.\n",
    "\n",
    "Create a scatter plot using `matplotlib` with \n",
    "\n",
    "- `diff_sample_mean_empirical_means_by_sample_size.index` on the horizontal axis (x-axis) and \n",
    "  \n",
    "- `diff_sample_mean_empirical_means_by_sample_size` on the vertical axis (y-axis).  \n",
    "\n",
    "\n",
    "Label the horizontal axis with the text `Sample size` and the vertical axis with the text `Difference between sample mean and population mean`."
   ]
  },
  {
   "cell_type": "code",
   "execution_count": null,
   "id": "1c5b8fd3",
   "metadata": {},
   "outputs": [],
   "source": [
    "# add your code below\n"
   ]
  },
  {
   "cell_type": "markdown",
   "id": "e8cb78cc",
   "metadata": {},
   "source": [
    "## Task 7 - Answer the following Questions\n",
    "\n",
    "Include cells with your answers to each of these questions:\n",
    " \n",
    "1. What is the empirical mean time spent cleaning by respondents per day (in minutes). Does this value make sense? Why or why not? Answer in one line. __(1 mark)__"
   ]
  },
  {
   "cell_type": "markdown",
   "id": "98f54c9c",
   "metadata": {},
   "source": [
    "> **Answer goes here ...**"
   ]
  },
  {
   "cell_type": "markdown",
   "id": "3837cc54",
   "metadata": {},
   "source": [
    "2. Based on your final scatter plot, what trend or pattern do you notice between sample size and difference between the mean of sample means and empirical mean? Does the difference decrease or increase with sample size? Explain why this trend is seen, drawing on your understanding of randomness of sampling. __(2 marks)__"
   ]
  },
  {
   "cell_type": "markdown",
   "id": "1d85977f",
   "metadata": {},
   "source": [
    "> **Answer goes here ...**"
   ]
  },
  {
   "cell_type": "markdown",
   "id": "b60f8bac",
   "metadata": {},
   "source": [
    "\n",
    "\n",
    "3. If you were to do further analysis to study how the time spent cleaning is different for various subpopulations, which additional sociodemographic variables might you consider? Why? Write 3-5 sentences identifying 1-2 variables (e.g. age - don't pick this!) of interest and what differences in cleaning time you might expect to find."
   ]
  },
  {
   "cell_type": "markdown",
   "id": "a4e03703",
   "metadata": {},
   "source": [
    "> **Answer goes here ...**"
   ]
  }
 ],
 "metadata": {
  "kernelspec": {
   "display_name": "Python 3",
   "language": "python",
   "name": "python3"
  },
  "language_info": {
   "codemirror_mode": {
    "name": "ipython",
    "version": 3
   },
   "file_extension": ".py",
   "mimetype": "text/x-python",
   "name": "python",
   "nbconvert_exporter": "python",
   "pygments_lexer": "ipython3",
   "version": "3.7.4"
  },
  "markus": {
   "assessment_id": 138,
   "course_id": 9,
   "url": "https://markus-ds.teach.cs.toronto.edu"
  },
  "vscode": {
   "interpreter": {
    "hash": "8b8edaa195e148f815789564e9a10f57d8b792ac9e1a5daafce5fbae42bebd0e"
   }
  }
 },
 "nbformat": 4,
 "nbformat_minor": 5
}
