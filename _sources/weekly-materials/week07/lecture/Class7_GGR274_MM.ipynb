{
 "cells": [
  {
   "cell_type": "markdown",
   "id": "66a74e4f-ade1-4b67-9071-c72a26f0ff12",
   "metadata": {
    "slideshow": {
     "slide_type": "slide"
    }
   },
   "source": [
    "# Class 6\n",
    "\n",
    "## Feb. 27, 2023\n",
    "\n",
    "By the end of this class you should be able to:\n",
    "\n",
    "- understand how to write a function in Python;\n",
    "\n",
    "- understand the role of empirical distributions (sample and statistic) and simulation; and\n",
    "\n",
    "- understand the law of averages and it's relationship to empirical distributions."
   ]
  },
  {
   "cell_type": "markdown",
   "id": "73c69e12",
   "metadata": {
    "slideshow": {
     "slide_type": "slide"
    }
   },
   "source": [
    "## Functions\n",
    "\n",
    "- We've seen many functions: `sum()`, `max()`, `groupby()`, and so on. We're going to explore how to create our own functions.\n",
    "\n",
    "- We're going to use Python's `random` module, and in particular function `randint()`.\n",
    "\n",
    "- Later in the lecture, we're going to do it another way entirely."
   ]
  },
  {
   "cell_type": "code",
   "execution_count": 1,
   "id": "0747826d",
   "metadata": {
    "scrolled": true,
    "slideshow": {
     "slide_type": "slide"
    }
   },
   "outputs": [
    {
     "name": "stdout",
     "output_type": "stream",
     "text": [
      "Help on method randint in module random:\n",
      "\n",
      "randint(a, b) method of random.Random instance\n",
      "    Return random integer in range [a, b], including both end points.\n",
      "\n"
     ]
    }
   ],
   "source": [
    "import random\n",
    "help(random.randint)"
   ]
  },
  {
   "cell_type": "markdown",
   "id": "33497427",
   "metadata": {
    "slideshow": {
     "slide_type": "fragment"
    }
   },
   "source": [
    "Here we call function `randint()`, asking for a number in the range `1` to `6`."
   ]
  },
  {
   "cell_type": "code",
   "execution_count": null,
   "id": "c2ba5e26",
   "metadata": {},
   "outputs": [],
   "source": [
    "random.randint(1, 6)"
   ]
  },
  {
   "attachments": {},
   "cell_type": "markdown",
   "id": "a75a8474",
   "metadata": {
    "slideshow": {
     "slide_type": "slide"
    }
   },
   "source": [
    "## So, what's a function?\n",
    "\n",
    "Here is our first function definition. It has three parts:\n",
    "\n",
    "1. Function header\n",
    "    + `def <function name>():`.\n",
    "\n",
    "2. Documentation string — \"docstring\" for short. (This is sometimes omitted.)\n",
    "\n",
    "3. Function body\n",
    "    + A sequence of Python statements that perform a computation.\n",
    "    + If it ends with `return`, that announces the value of the function call."
   ]
  },
  {
   "cell_type": "code",
   "execution_count": 2,
   "id": "17d2c583",
   "metadata": {
    "slideshow": {
     "slide_type": "fragment"
    }
   },
   "outputs": [],
   "source": [
    "def roll_die():\n",
    "    \"\"\"Simulate a die roll by returning a number between 1 and 6.\n",
    "    \"\"\"\n",
    "    roll = random.randint(1, 6)\n",
    "    return roll"
   ]
  },
  {
   "cell_type": "markdown",
   "id": "e2eb67e9",
   "metadata": {
    "slideshow": {
     "slide_type": "subslide"
    }
   },
   "source": [
    "Let's call it:"
   ]
  },
  {
   "cell_type": "code",
   "execution_count": 11,
   "id": "7193ef8d-c7a0-49f1-a382-aad67d9fd14d",
   "metadata": {},
   "outputs": [
    {
     "data": {
      "text/plain": [
       "1"
      ]
     },
     "execution_count": 11,
     "metadata": {},
     "output_type": "execute_result"
    }
   ],
   "source": [
    "roll_die()"
   ]
  },
  {
   "cell_type": "markdown",
   "id": "8711ee3b",
   "metadata": {
    "slideshow": {
     "slide_type": "subslide"
    }
   },
   "source": [
    "`roll_die` is a variable. So … what is its value?"
   ]
  },
  {
   "cell_type": "code",
   "execution_count": 12,
   "id": "02faef6a",
   "metadata": {
    "slideshow": {
     "slide_type": "fragment"
    }
   },
   "outputs": [
    {
     "data": {
      "text/plain": [
       "<function __main__.roll_die()>"
      ]
     },
     "execution_count": 12,
     "metadata": {},
     "output_type": "execute_result"
    }
   ],
   "source": [
    "roll_die"
   ]
  },
  {
   "cell_type": "code",
   "execution_count": 13,
   "id": "6055aef5",
   "metadata": {
    "scrolled": true,
    "slideshow": {
     "slide_type": "fragment"
    }
   },
   "outputs": [
    {
     "name": "stdout",
     "output_type": "stream",
     "text": [
      "Help on function roll_die in module __main__:\n",
      "\n",
      "roll_die()\n",
      "    Simulate a die roll by returning a number between 1 and 6.\n",
      "\n"
     ]
    }
   ],
   "source": [
    "help(roll_die)"
   ]
  },
  {
   "cell_type": "code",
   "execution_count": 14,
   "id": "904bc351",
   "metadata": {
    "scrolled": true,
    "slideshow": {
     "slide_type": "fragment"
    }
   },
   "outputs": [
    {
     "name": "stdout",
     "output_type": "stream",
     "text": [
      "['__annotations__', '__builtins__', '__call__', '__class__', '__closure__', '__code__', '__defaults__', '__delattr__', '__dict__', '__dir__', '__doc__', '__eq__', '__format__', '__ge__', '__get__', '__getattribute__', '__globals__', '__gt__', '__hash__', '__init__', '__init_subclass__', '__kwdefaults__', '__le__', '__lt__', '__module__', '__name__', '__ne__', '__new__', '__qualname__', '__reduce__', '__reduce_ex__', '__repr__', '__setattr__', '__sizeof__', '__str__', '__subclasshook__']\n"
     ]
    }
   ],
   "source": [
    "print(dir(roll_die)) # print out all the properties and methods of roll_die"
   ]
  },
  {
   "cell_type": "code",
   "execution_count": 15,
   "id": "23dcf228",
   "metadata": {},
   "outputs": [
    {
     "name": "stdout",
     "output_type": "stream",
     "text": [
      "Simulate a die roll by returning a number between 1 and 6.\n",
      "    \n"
     ]
    }
   ],
   "source": [
    "print(roll_die.__doc__)"
   ]
  },
  {
   "cell_type": "code",
   "execution_count": 16,
   "id": "551c7ab9",
   "metadata": {
    "slideshow": {
     "slide_type": "fragment"
    }
   },
   "outputs": [
    {
     "name": "stdout",
     "output_type": "stream",
     "text": [
      "roll_die\n"
     ]
    }
   ],
   "source": [
    "print(roll_die.__name__)"
   ]
  },
  {
   "cell_type": "markdown",
   "id": "cb0bc5da",
   "metadata": {
    "slideshow": {
     "slide_type": "slide"
    }
   },
   "source": [
    "## A function is a value\n",
    "\n",
    "A function is a value, so can we make an alias for `roll_die`?"
   ]
  },
  {
   "cell_type": "code",
   "execution_count": 17,
   "id": "c22bc4f3",
   "metadata": {
    "slideshow": {
     "slide_type": "fragment"
    }
   },
   "outputs": [
    {
     "data": {
      "text/plain": [
       "3"
      ]
     },
     "execution_count": 17,
     "metadata": {},
     "output_type": "execute_result"
    }
   ],
   "source": [
    "waffles = roll_die\n",
    "waffles()"
   ]
  },
  {
   "cell_type": "code",
   "execution_count": 18,
   "id": "881e6caa",
   "metadata": {
    "scrolled": true
   },
   "outputs": [
    {
     "data": {
      "text/plain": [
       "'roll_die'"
      ]
     },
     "execution_count": 18,
     "metadata": {},
     "output_type": "execute_result"
    }
   ],
   "source": [
    "waffles.__name__"
   ]
  },
  {
   "attachments": {},
   "cell_type": "markdown",
   "id": "602f27b5",
   "metadata": {
    "slideshow": {
     "slide_type": "slide"
    }
   },
   "source": [
    "## Platonic solids: octahedrons and dodecahedrons and icosahdrons\n",
    "\n",
    "Fun reading: [The geometry of weird-shaped dice](https://skullsinthestars.com/2017/03/09/the-geometry-of-weird-shaped-dice/).\n",
    "\n",
    "![dice.jpg](https://skullsinthestars.files.wordpress.com/2017/03/platonicsolids.jpg?w=457&h=343)"
   ]
  },
  {
   "cell_type": "markdown",
   "id": "6c412c97",
   "metadata": {
    "slideshow": {
     "slide_type": "fragment"
    }
   },
   "source": [
    "\n",
    "- Often, we want to ask a function to calculate some information for us based on data we give it. \n",
    "\n",
    "- Below is a function that allows us to simulate any shape of dice."
   ]
  },
  {
   "cell_type": "code",
   "execution_count": 19,
   "id": "e2da208c",
   "metadata": {
    "slideshow": {
     "slide_type": "-"
    }
   },
   "outputs": [],
   "source": [
    "def roll_die(num_sides):\n",
    "    \"\"\"Simulate a die roll by returning a number between 1 and num_sides.\n",
    "    \"\"\"\n",
    "    roll = random.randint(1, num_sides)\n",
    "    return roll"
   ]
  },
  {
   "cell_type": "code",
   "execution_count": 22,
   "id": "df062877",
   "metadata": {
    "slideshow": {
     "slide_type": "fragment"
    }
   },
   "outputs": [
    {
     "data": {
      "text/plain": [
       "18"
      ]
     },
     "execution_count": 22,
     "metadata": {},
     "output_type": "execute_result"
    }
   ],
   "source": [
    "roll_die(20)"
   ]
  },
  {
   "cell_type": "markdown",
   "id": "bdc72c34",
   "metadata": {
    "slideshow": {
     "slide_type": "-"
    }
   },
   "source": [
    "In this function call, we're passing `20` in, and `num_sides` is a *temporary* name for that value."
   ]
  },
  {
   "attachments": {},
   "cell_type": "markdown",
   "id": "e9bed9e8",
   "metadata": {
    "slideshow": {
     "slide_type": "slide"
    }
   },
   "source": [
    "## Local variables\n",
    "\n",
    "`num_sides` and `roll` are _local_ to the function. They only exist while the function is being called."
   ]
  },
  {
   "cell_type": "code",
   "execution_count": 23,
   "id": "5054576f",
   "metadata": {
    "scrolled": true,
    "slideshow": {
     "slide_type": "fragment"
    }
   },
   "outputs": [
    {
     "ename": "NameError",
     "evalue": "name 'num_sides' is not defined",
     "output_type": "error",
     "traceback": [
      "\u001b[0;31m---------------------------------------------------------------------------\u001b[0m",
      "\u001b[0;31mNameError\u001b[0m                                 Traceback (most recent call last)",
      "Cell \u001b[0;32mIn[23], line 1\u001b[0m\n\u001b[0;32m----> 1\u001b[0m \u001b[38;5;28mprint\u001b[39m(\u001b[43mnum_sides\u001b[49m)\n",
      "\u001b[0;31mNameError\u001b[0m: name 'num_sides' is not defined"
     ]
    }
   ],
   "source": [
    "print(num_sides)"
   ]
  },
  {
   "cell_type": "markdown",
   "id": "1f84a9ab",
   "metadata": {},
   "source": [
    "The only place you can use `print(num_sides)` is in the function body for `roll_die`."
   ]
  },
  {
   "attachments": {},
   "cell_type": "markdown",
   "id": "afccf466",
   "metadata": {
    "slideshow": {
     "slide_type": "slide"
    }
   },
   "source": [
    "## Values go in, a value comes out\n",
    "\n",
    "- When we **call** a function, the arguments need to be evaluated before we can do the function call.\n",
    "\n",
    "- When a function **returns**, the return value is used as the value of the function call."
   ]
  },
  {
   "attachments": {},
   "cell_type": "markdown",
   "id": "da545489",
   "metadata": {
    "slideshow": {
     "slide_type": "subslide"
    }
   },
   "source": [
    "## When do you write a function?\n",
    "\n",
    "If you find yourself copying and pasting code, it's time to write a function that does the same thing.\n",
    "\n",
    "If you think of a good domain-specific name for a computation or simulation you're doing, make a function so the rest of your code is more readable."
   ]
  },
  {
   "cell_type": "markdown",
   "id": "b38e8560",
   "metadata": {
    "slideshow": {
     "slide_type": "subslide"
    }
   },
   "source": [
    "## You try it\n",
    "\n",
    "Write a function that takes in the number of minutes and returns the equivalent number of hours.\n",
    "\n",
    "\n",
    "1. What's a good name for the function? It helps to think of a short verb phrase, because the function does something.\n",
    "\n",
    "\n",
    "2. There are 60 minutes in an hour, so divide the number of minutes by 60 to get the equivalent number of hours."
   ]
  },
  {
   "cell_type": "code",
   "execution_count": null,
   "id": "282ed2f0",
   "metadata": {},
   "outputs": [],
   "source": [
    "def "
   ]
  },
  {
   "cell_type": "markdown",
   "id": "74390df5",
   "metadata": {},
   "source": [
    "Now call it and check whether you get the right answer:"
   ]
  },
  {
   "cell_type": "code",
   "execution_count": null,
   "id": "47ef4e1f",
   "metadata": {},
   "outputs": [],
   "source": [
    "# Call your function here"
   ]
  },
  {
   "attachments": {},
   "cell_type": "markdown",
   "id": "01da7c37",
   "metadata": {
    "slideshow": {
     "slide_type": "slide"
    }
   },
   "source": [
    "## Iteration\n",
    "### Do the same thing to each item in a list\n",
    "\n",
    "Python lets you step through a list one item at a time using a for loop:"
   ]
  },
  {
   "cell_type": "code",
   "execution_count": null,
   "id": "6295bc21",
   "metadata": {},
   "outputs": [],
   "source": [
    "minutes = [60, 58, 32, 93]\n",
    "for minute in minutes:\n",
    "    print(minute)"
   ]
  },
  {
   "cell_type": "markdown",
   "id": "15d0298a",
   "metadata": {},
   "source": [
    "Each _iteration_ of the loop makes `minute` the name of the next number, in order from left to right.\n",
    "\n",
    "This works with any iterable, like `str` and `Series`."
   ]
  },
  {
   "cell_type": "code",
   "execution_count": null,
   "id": "d914c6e8",
   "metadata": {},
   "outputs": [],
   "source": [
    "for letter in 'GGR274':\n",
    "    print(letter)"
   ]
  },
  {
   "attachments": {},
   "cell_type": "markdown",
   "id": "61f42a78",
   "metadata": {
    "slideshow": {
     "slide_type": "slide"
    }
   },
   "source": [
    "## Iterate through a `Series`\n",
    "\n",
    "Here's a `Series`."
   ]
  },
  {
   "cell_type": "code",
   "execution_count": 24,
   "id": "66ef4cc3",
   "metadata": {
    "scrolled": true
   },
   "outputs": [
    {
     "name": "stderr",
     "output_type": "stream",
     "text": [
      "/var/folders/0j/ybsv4ncn5w50v40vdh5jjlww0000gn/T/ipykernel_97266/4210486247.py:1: DeprecationWarning: \n",
      "Pyarrow will become a required dependency of pandas in the next major release of pandas (pandas 3.0),\n",
      "(to allow more performant data types, such as the Arrow string type, and better interoperability with other libraries)\n",
      "but was not found to be installed on your system.\n",
      "If this would cause problems for you,\n",
      "please provide us feedback at https://github.com/pandas-dev/pandas/issues/54466\n",
      "        \n",
      "  import pandas as pd\n"
     ]
    }
   ],
   "source": [
    "import pandas as pd\n",
    "timeuse = pd.read_csv('gss_tu2016_main_file.csv')\n",
    "\n",
    "persdur = timeuse['persdur']"
   ]
  },
  {
   "cell_type": "markdown",
   "id": "dc352bec",
   "metadata": {
    "slideshow": {
     "slide_type": "slide"
    }
   },
   "source": [
    "- **Goal:** calculate the sum of the numbers using a `for` loop (rather than calling `sum`).\n",
    "\n",
    "- Once we have this basic structure, we can start to get fancy with it.\n",
    "\n",
    "- We'll start with keeping a running total. What's in `Series` `persdur`?"
   ]
  },
  {
   "cell_type": "markdown",
   "id": "144ad868",
   "metadata": {
    "slideshow": {
     "slide_type": "slide"
    }
   },
   "source": [
    "We can access values of `persdur` by indexing with `[]`."
   ]
  },
  {
   "cell_type": "code",
   "execution_count": 25,
   "id": "7dd35cfd",
   "metadata": {
    "slideshow": {
     "slide_type": "fragment"
    }
   },
   "outputs": [
    {
     "data": {
      "text/plain": [
       "0    30\n",
       "1    30\n",
       "2    30\n",
       "3    75\n",
       "4    15\n",
       "Name: persdur, dtype: int64"
      ]
     },
     "execution_count": 25,
     "metadata": {},
     "output_type": "execute_result"
    }
   ],
   "source": [
    "persdur.head()"
   ]
  },
  {
   "cell_type": "code",
   "execution_count": 26,
   "id": "f8c86108",
   "metadata": {
    "slideshow": {
     "slide_type": "fragment"
    }
   },
   "outputs": [
    {
     "data": {
      "text/plain": [
       "30"
      ]
     },
     "execution_count": 26,
     "metadata": {},
     "output_type": "execute_result"
    }
   ],
   "source": [
    "running_sum = 0 # this will be a variable for storing a running total\n",
    "persdur[0] # the first value"
   ]
  },
  {
   "cell_type": "code",
   "execution_count": 27,
   "id": "ccb5994e",
   "metadata": {
    "slideshow": {
     "slide_type": "fragment"
    }
   },
   "outputs": [
    {
     "data": {
      "text/plain": [
       "30"
      ]
     },
     "execution_count": 27,
     "metadata": {},
     "output_type": "execute_result"
    }
   ],
   "source": [
    "running_sum = running_sum + persdur[0] # add first value in series to running_sum\n",
    "running_sum"
   ]
  },
  {
   "cell_type": "code",
   "execution_count": 28,
   "id": "8dcb8607",
   "metadata": {
    "slideshow": {
     "slide_type": "fragment"
    }
   },
   "outputs": [
    {
     "data": {
      "text/plain": [
       "60"
      ]
     },
     "execution_count": 28,
     "metadata": {},
     "output_type": "execute_result"
    }
   ],
   "source": [
    "# add second value in series to running_sum\n",
    "# running_sum is now first value plus second value of persdur\n",
    "\n",
    "running_sum = running_sum + persdur[1] \n",
    "running_sum"
   ]
  },
  {
   "cell_type": "code",
   "execution_count": 29,
   "id": "d08e6533",
   "metadata": {
    "slideshow": {
     "slide_type": "fragment"
    }
   },
   "outputs": [
    {
     "data": {
      "text/plain": [
       "90"
      ]
     },
     "execution_count": 29,
     "metadata": {},
     "output_type": "execute_result"
    }
   ],
   "source": [
    "# add third value in series to running_sum\n",
    "# running_sum is now first plus second plus third values of persdur\n",
    "\n",
    "running_sum = running_sum + persdur[2]\n",
    "running_sum"
   ]
  },
  {
   "cell_type": "code",
   "execution_count": 30,
   "id": "6f99eb1a",
   "metadata": {
    "slideshow": {
     "slide_type": "fragment"
    }
   },
   "outputs": [
    {
     "data": {
      "text/plain": [
       "165"
      ]
     },
     "execution_count": 30,
     "metadata": {},
     "output_type": "execute_result"
    }
   ],
   "source": [
    "# add fourth value in series to running_sum\n",
    "# running_sum is now first plus second plus third values \n",
    "# plus fourth values of persdur\n",
    "\n",
    "running_sum = running_sum + persdur[3]\n",
    "running_sum"
   ]
  },
  {
   "cell_type": "code",
   "execution_count": 31,
   "id": "04d6a080",
   "metadata": {
    "slideshow": {
     "slide_type": "fragment"
    }
   },
   "outputs": [
    {
     "data": {
      "text/plain": [
       "180"
      ]
     },
     "execution_count": 31,
     "metadata": {},
     "output_type": "execute_result"
    }
   ],
   "source": [
    "# add fifth value in series to running_sum\n",
    "# running_sum is now first plus second plus third values \n",
    "# plus fourth plus fifth values of persdur\n",
    "\n",
    "running_sum = running_sum + persdur[4]\n",
    "running_sum"
   ]
  },
  {
   "cell_type": "markdown",
   "id": "e9839c1d",
   "metadata": {
    "slideshow": {
     "slide_type": "slide"
    }
   },
   "source": [
    "## An algorithm for Summing a Series or list of numbers\n",
    "\n",
    "\n",
    "Step 1. Store a running total of the values that have been processed by the `for` loop. \n",
    "\n",
    "Step 2. Start the running total at 0. \n",
    "\n",
    "Step 3. Each iteration adds the current value to the running total.\n",
    "\n",
    "Step 4. Return the running total."
   ]
  },
  {
   "cell_type": "code",
   "execution_count": null,
   "id": "9e0f4fc0",
   "metadata": {
    "slideshow": {
     "slide_type": "fragment"
    }
   },
   "outputs": [],
   "source": [
    "running_sum = 0\n",
    "\n",
    "for pdur in persdur:\n",
    "    running_sum = running_sum + pdur\n",
    "\n",
    "running_sum"
   ]
  },
  {
   "cell_type": "markdown",
   "id": "8b6b1752",
   "metadata": {
    "slideshow": {
     "slide_type": "subslide"
    }
   },
   "source": [
    "Create a function for summing a list or `Series`."
   ]
  },
  {
   "cell_type": "code",
   "execution_count": 33,
   "id": "828a4429",
   "metadata": {},
   "outputs": [],
   "source": [
    "def sum_number(numbers):\n",
    "    '''Sum a list or pandas Series:\n",
    "       numbers: list, Series, or column of a DataFrame\n",
    "    \n",
    "    '''\n",
    "    running_sum = 0\n",
    "    \n",
    "    for num in numbers:\n",
    "        running_sum = running_sum + num\n",
    "        \n",
    "    return running_sum"
   ]
  },
  {
   "cell_type": "code",
   "execution_count": 34,
   "id": "bcc06b27",
   "metadata": {},
   "outputs": [
    {
     "name": "stdout",
     "output_type": "stream",
     "text": [
      "Sum a list or pandas Series:\n",
      "       numbers: list, Series, or column of a DataFrame\n",
      "    \n",
      "    \n"
     ]
    },
    {
     "data": {
      "text/plain": [
       "831829"
      ]
     },
     "execution_count": 34,
     "metadata": {},
     "output_type": "execute_result"
    }
   ],
   "source": [
    "print(sum_number.__doc__)\n",
    "\n",
    "sum_number(persdur)"
   ]
  },
  {
   "attachments": {},
   "cell_type": "markdown",
   "id": "c0e2189d",
   "metadata": {
    "slideshow": {
     "slide_type": "slide"
    }
   },
   "source": [
    "## Iterating a constant amount of times\n",
    "\n",
    "- Sometimes we want to repeat something an exact number of times rather than once for each item in a list.\n",
    "\n",
    "- To do this, The Python function `range` generates a sequence of numbers that is *iterable*, so we can use it in a for loop."
   ]
  },
  {
   "cell_type": "code",
   "execution_count": 36,
   "id": "feced115",
   "metadata": {
    "slideshow": {
     "slide_type": "fragment"
    }
   },
   "outputs": [
    {
     "name": "stdout",
     "output_type": "stream",
     "text": [
      "0\n",
      "1\n",
      "2\n",
      "3\n",
      "4\n"
     ]
    }
   ],
   "source": [
    "for x in range(5):\n",
    "    print(x)"
   ]
  },
  {
   "cell_type": "markdown",
   "id": "f3459e39",
   "metadata": {},
   "source": [
    "`range(stopnumber)` returns a sequence of numbers starting from 0 to `stopnumber-1` increasing by `1`. "
   ]
  },
  {
   "cell_type": "code",
   "execution_count": 38,
   "id": "e93e278a",
   "metadata": {},
   "outputs": [
    {
     "name": "stdout",
     "output_type": "stream",
     "text": [
      "1\n",
      "2\n",
      "3\n",
      "4\n"
     ]
    }
   ],
   "source": [
    "for x in range(1, 5):\n",
    "    print(x)"
   ]
  },
  {
   "cell_type": "markdown",
   "id": "89682556",
   "metadata": {},
   "source": [
    "`range(startnumber, stopnumber)` returns a sequence of numbers starting from `startnumber` to `stopnumber-1` increasing by `1`. "
   ]
  },
  {
   "cell_type": "markdown",
   "id": "d68be10f",
   "metadata": {
    "slideshow": {
     "slide_type": "slide"
    }
   },
   "source": [
    "## Roll a die\n",
    "\n",
    "- This example will put all the concepts together.\n",
    "\n",
    "- Let's create a function that rolls a die with an arbitrary number of sides an arbitrary number of times."
   ]
  },
  {
   "cell_type": "code",
   "execution_count": 39,
   "id": "700def0d",
   "metadata": {
    "slideshow": {
     "slide_type": "fragment"
    }
   },
   "outputs": [],
   "source": [
    "\n",
    "def rolladie(numrolls, numsides):\n",
    "    '''Roll a die with an arbitrary number of sides an arbitrary number of times.\n",
    "       returns the total of all roll values.\n",
    "       numrolls: number of die rolls\n",
    "       numsides: number of sides of the die\n",
    "    '''\n",
    "    diesum = 0\n",
    "    \n",
    "    print(f'You are rolling a {numsides}-sided die {numrolls} times!  Good luck.\\n')\n",
    "    \n",
    "    for _ in range(numrolls):\n",
    "        print(f'This is roll number: {_ + 1}')\n",
    "        rollvalue = random.randint(1, numsides)\n",
    "        print(f'Value of die on this roll is: {rollvalue}')\n",
    "        diesum = rollvalue + diesum\n",
    "        print(f'Running total so far is: {diesum} \\n')\n",
    "\n",
    "    return diesum"
   ]
  },
  {
   "cell_type": "code",
   "execution_count": 40,
   "id": "d6002dd4",
   "metadata": {},
   "outputs": [
    {
     "name": "stdout",
     "output_type": "stream",
     "text": [
      "You are rolling a 6-sided die 5 times!  Good luck.\n",
      "\n",
      "This is roll number: 1\n",
      "Value of die on this roll is: 5\n",
      "Running total so far is: 5 \n",
      "\n",
      "This is roll number: 2\n",
      "Value of die on this roll is: 1\n",
      "Running total so far is: 6 \n",
      "\n",
      "This is roll number: 3\n",
      "Value of die on this roll is: 5\n",
      "Running total so far is: 11 \n",
      "\n",
      "This is roll number: 4\n",
      "Value of die on this roll is: 6\n",
      "Running total so far is: 17 \n",
      "\n",
      "This is roll number: 5\n",
      "Value of die on this roll is: 4\n",
      "Running total so far is: 21 \n",
      "\n"
     ]
    },
    {
     "data": {
      "text/plain": [
       "21"
      ]
     },
     "execution_count": 40,
     "metadata": {},
     "output_type": "execute_result"
    }
   ],
   "source": [
    "rolladie(numsides = 6, numrolls = 5)"
   ]
  },
  {
   "cell_type": "markdown",
   "id": "2656b419",
   "metadata": {},
   "source": [
    "## Question\n",
    "\n",
    "- Explain what each line of `rolladie` does."
   ]
  },
  {
   "attachments": {},
   "cell_type": "markdown",
   "id": "3858adc7",
   "metadata": {
    "slideshow": {
     "slide_type": "slide"
    }
   },
   "source": [
    "## Empirical Distributions\n",
    "\n",
    "- In data science, the word \"empirical\" means \"observed\". \n",
    "\n",
    "- Empirical distributions are distributions of observed data, such as data in the time use survey.\n",
    "\n",
    "- We can simulate data and see what the empirical distribution looks like. "
   ]
  },
  {
   "cell_type": "markdown",
   "id": "06f68f26-b1b7-48c7-a37b-76dd9d0811ac",
   "metadata": {
    "slideshow": {
     "slide_type": "fragment"
    }
   },
   "source": [
    "## Toss a die ten times\n",
    "\n",
    "- Our setting is a simple experiment: rolling a die multiple times and keeping track of which face appears. The table `die` contains the numbers of spots on the faces of a die. All the numbers appear exactly once, as we are assuming that the die is fair."
   ]
  },
  {
   "cell_type": "markdown",
   "id": "94273e1f-0003-4bc7-9025-479faec0f371",
   "metadata": {
    "slideshow": {
     "slide_type": "slide"
    }
   },
   "source": [
    "- We will use the `numpy` library to create a *simulated* six sided die.\n",
    "\n",
    "- The `arange()` function returns evenly spaced values within an interval."
   ]
  },
  {
   "cell_type": "code",
   "execution_count": 41,
   "id": "0fb5e477-77d1-4d26-bbe2-d31c73aa8530",
   "metadata": {},
   "outputs": [
    {
     "data": {
      "text/plain": [
       "array([1, 2, 3, 4, 5, 6])"
      ]
     },
     "execution_count": 41,
     "metadata": {},
     "output_type": "execute_result"
    }
   ],
   "source": [
    "import numpy as np\n",
    "\n",
    "die_sides = np.arange(start = 1, stop = 7, step = 1)\n",
    "die_sides"
   ]
  },
  {
   "cell_type": "markdown",
   "id": "c55b37d9-e6eb-468a-a6ee-3bceda69b550",
   "metadata": {},
   "source": [
    "NB: this returns a `numpy` array which is a different python object. It is also iterable.\n",
    "\n",
    "Alternatively, we could have used the `array()` function in `numpy`."
   ]
  },
  {
   "cell_type": "code",
   "execution_count": null,
   "id": "ce94ca6d-dd7a-45ae-878a-1f3a140f62dc",
   "metadata": {},
   "outputs": [],
   "source": [
    "np.array([1, 2, 3, 4, 5, 6])"
   ]
  },
  {
   "cell_type": "markdown",
   "id": "c77518ff-dc3e-4abc-a9e2-7730dc4786f8",
   "metadata": {
    "slideshow": {
     "slide_type": "slide"
    }
   },
   "source": [
    "Now, we can create a `pandas` `Series` with `die_sides`"
   ]
  },
  {
   "cell_type": "code",
   "execution_count": 46,
   "id": "c900d2a4-c249-48aa-8eac-132846795df1",
   "metadata": {},
   "outputs": [
    {
     "data": {
      "text/plain": [
       "0    1\n",
       "1    2\n",
       "2    3\n",
       "3    4\n",
       "4    5\n",
       "5    6\n",
       "dtype: int64"
      ]
     },
     "execution_count": 46,
     "metadata": {},
     "output_type": "execute_result"
    }
   ],
   "source": [
    "die = pd.Series(die_sides)\n",
    "die"
   ]
  },
  {
   "cell_type": "markdown",
   "id": "9749ad06-7c39-4ff7-b9c0-de83b48f0dfd",
   "metadata": {
    "slideshow": {
     "slide_type": "slide"
    }
   },
   "source": [
    "- Now, we can use the `pandas` `sample()` function to take a random *sample* of `die`.  \n",
    "\n",
    "- `replace = False` means that values that are already selected cannot be selected again.  This is the default for this parameter."
   ]
  },
  {
   "cell_type": "code",
   "execution_count": 47,
   "id": "ef8b1a06-6713-43d9-914a-309e908c9e96",
   "metadata": {},
   "outputs": [
    {
     "data": {
      "text/plain": [
       "1    2\n",
       "dtype: int64"
      ]
     },
     "execution_count": 47,
     "metadata": {},
     "output_type": "execute_result"
    }
   ],
   "source": [
    "die.sample(n = 1, replace = False)"
   ]
  },
  {
   "cell_type": "markdown",
   "id": "575efa6a-8d81-4938-9344-2a32bf5e6cb8",
   "metadata": {
    "slideshow": {
     "slide_type": "slide"
    }
   },
   "source": [
    "- `die.sample(n = 1, replace = False)` is a **simulation** of tossing a six-sided die once.\n",
    "\n",
    "- How can we toss the die, say, 10 times?\n",
    "\n",
    "- Change `n` to 10 and the `replace` parameter in `sample()` to `True`, so that we sample `die` with replacement.  In other words, we allow the scenario of rolling, say, a value of 1, then on the next roll we can allow a roll of 1.  "
   ]
  },
  {
   "cell_type": "code",
   "execution_count": 48,
   "id": "ba2b7c8d-32f9-483d-8cc7-6258616044ef",
   "metadata": {
    "slideshow": {
     "slide_type": "-"
    }
   },
   "outputs": [
    {
     "data": {
      "text/plain": [
       "2    3\n",
       "2    3\n",
       "2    3\n",
       "3    4\n",
       "0    1\n",
       "2    3\n",
       "3    4\n",
       "1    2\n",
       "4    5\n",
       "3    4\n",
       "dtype: int64"
      ]
     },
     "execution_count": 48,
     "metadata": {},
     "output_type": "execute_result"
    }
   ],
   "source": [
    "# using pandas sample function\n",
    "\n",
    "roll_10 = die.sample(n = 10, replace = True)\n",
    "roll_10"
   ]
  },
  {
   "cell_type": "code",
   "execution_count": 49,
   "id": "eb2bb505",
   "metadata": {},
   "outputs": [
    {
     "name": "stdout",
     "output_type": "stream",
     "text": [
      "2\n",
      "6\n",
      "2\n",
      "1\n",
      "3\n",
      "5\n",
      "5\n",
      "1\n",
      "5\n",
      "3\n"
     ]
    }
   ],
   "source": [
    "# using base python random.choice\n",
    "# use builtin pandas functions instead\n",
    "# of base python since we will be working in \n",
    "# pandas most of the time\n",
    "\n",
    "for _ in range(10):\n",
    "    roll = random.choice(die)\n",
    "    print(roll)\n",
    "    "
   ]
  },
  {
   "cell_type": "markdown",
   "id": "00712f5b-5cfc-49c3-a4ec-869413b5edd0",
   "metadata": {
    "slideshow": {
     "slide_type": "slide"
    }
   },
   "source": [
    "`np.arange(start = 0.5, stop = 6.6, step = 1)` will create a `numpy` array with elements 0.5, 0.5 + 1, 0.5 + 1 + 1, 0.5 + 1 + 1 + 1, etc. that will use to create the histogram bins. "
   ]
  },
  {
   "cell_type": "markdown",
   "id": "673c571b-7205-4022-bf0d-804912ecd997",
   "metadata": {
    "slideshow": {
     "slide_type": "slide"
    }
   },
   "source": [
    "## What values of the die should we expect?\n",
    "\n",
    "-  If the die is fair then we would expect each side of the die (1 through 6) to have an equal chance (1/6) of appearing.\n",
    "\n",
    "- So, in 10 rolls of the die we would expect each side to appear approximately 10/6 (~ 2) times."
   ]
  },
  {
   "cell_type": "code",
   "execution_count": 50,
   "id": "768bb556-d74a-4007-b311-f9f5f87388ad",
   "metadata": {},
   "outputs": [
    {
     "data": {
      "text/plain": [
       "<Axes: ylabel='Frequency'>"
      ]
     },
     "execution_count": 50,
     "metadata": {},
     "output_type": "execute_result"
    },
    {
     "data": {
      "image/png": "[encoded data removed]",
      "text/plain": [
       "<Figure size 640x480 with 1 Axes>"
      ]
     },
     "metadata": {},
     "output_type": "display_data"
    }
   ],
   "source": [
    "die_bins = np.arange(start = 0.5, stop = 6.6, step = 1)\n",
    "roll_10.plot.hist(bins = die_bins, edgecolor = 'black', color = 'grey')"
   ]
  },
  {
   "cell_type": "markdown",
   "id": "f921cd9c-dcbc-4717-a993-71e9ef2f1da6",
   "metadata": {
    "slideshow": {
     "slide_type": "-"
    }
   },
   "source": [
    "- The histogram above is called the **Empirical Distribution** of 10 rolls of a fair die.\n",
    "\n",
    "- What happens if the die is rolled 10,000 times?"
   ]
  },
  {
   "cell_type": "code",
   "execution_count": 51,
   "id": "97c3a0b2-0c6d-4182-b905-e88373a9d541",
   "metadata": {
    "slideshow": {
     "slide_type": "slide"
    }
   },
   "outputs": [
    {
     "data": {
      "text/plain": [
       "<Axes: ylabel='Frequency'>"
      ]
     },
     "execution_count": 51,
     "metadata": {},
     "output_type": "execute_result"
    },
    {
     "data": {
      "image/png": "[encoded data removed]",
      "text/plain": [
       "<Figure size 640x480 with 1 Axes>"
      ]
     },
     "metadata": {},
     "output_type": "display_data"
    }
   ],
   "source": [
    "roll_10000 = die.sample(n = 10000, replace = True)\n",
    "roll_10000.plot.hist(bins = die_bins, edgecolor = 'black', color = 'grey')"
   ]
  },
  {
   "cell_type": "markdown",
   "id": "b361a392-81b6-45b7-8cb7-ea17b721af21",
   "metadata": {
    "slideshow": {
     "slide_type": "slide"
    }
   },
   "source": [
    "## Plotting in matplotlib\n",
    "\n",
    "- We can create the histogram using `matplotlib.pyplot()` directly (`pandas` plotting functions use this library).\n",
    "\n",
    "- `matplotlib.pyplot()` gives us greater flexibility in the types of plots we can create.\n",
    "\n",
    "- the syntax is similar to `pandas.DataFrame.plot.hist()`\n",
    "\n",
    "- If the widths of the histogram bins are 1 then the setting the parameter `density = True` will display values on the vertical axis of the that correspond to the probability of a value falling into a bin. NB: if the width of the bins is not equal to 1 then `density = True` will not produce probabilities on the vertical axis.\n",
    "\n",
    "- `ylabel()` and `xlabel()` allow us to label the vertical and horizontal axes."
   ]
  },
  {
   "cell_type": "code",
   "execution_count": 52,
   "id": "5a2a2364-2e2c-4023-9675-4547200bcee9",
   "metadata": {},
   "outputs": [
    {
     "data": {
      "text/plain": [
       "Text(0.5, 0, 'Die value')"
      ]
     },
     "execution_count": 52,
     "metadata": {},
     "output_type": "execute_result"
    },
    {
     "data": {
      "image/png": "[encoded data removed]",
      "text/plain": [
       "<Figure size 640x480 with 1 Axes>"
      ]
     },
     "metadata": {},
     "output_type": "display_data"
    }
   ],
   "source": [
    "import matplotlib.pyplot as plt\n",
    "\n",
    "plt.hist(roll_10000, bins = die_bins, edgecolor = 'black', color = 'grey', density = True)\n",
    "plt.ylabel('Proportion')\n",
    "plt.xlabel('Die value')"
   ]
  },
  {
   "cell_type": "markdown",
   "id": "4a3697c3-8121-4396-bf6e-cda4c970d1ab",
   "metadata": {
    "slideshow": {
     "slide_type": "slide"
    }
   },
   "source": [
    "## Probability\n",
    "\n",
    "- Since the widths of the histogram bins are 1 the values on the vertical axis of the histogram are probabilities.\n",
    "\n",
    "- The probability of rolling a 1, 2, 3, 4, 5, or 6 in 10,000 rolls of a six-sided fair die is approximately 0.17 (= 1/6).\n",
    "\n",
    "- The observed probabilities can be directly calculated using `value_counts()` then dividing by the number of die rolls (or in general the number of simulations)."
   ]
  },
  {
   "cell_type": "code",
   "execution_count": 53,
   "id": "fdd3fdf0-b15f-4338-912e-7fb2e2fe48f8",
   "metadata": {},
   "outputs": [
    {
     "data": {
      "text/plain": [
       "3    0.1708\n",
       "2    0.1705\n",
       "6    0.1700\n",
       "1    0.1659\n",
       "5    0.1627\n",
       "4    0.1601\n",
       "Name: count, dtype: float64"
      ]
     },
     "execution_count": 53,
     "metadata": {},
     "output_type": "execute_result"
    }
   ],
   "source": [
    "roll_10000.value_counts() / len(roll_10000)"
   ]
  },
  {
   "cell_type": "markdown",
   "id": "0688362c",
   "metadata": {
    "slideshow": {
     "slide_type": "-"
    }
   },
   "source": [
    "As we increase the number of rolls in the simulation, the area of each bar gets closer to 16.67%, which is the area of each bar in the probability histogram."
   ]
  },
  {
   "cell_type": "markdown",
   "id": "ff81575c",
   "metadata": {
    "slideshow": {
     "slide_type": "slide"
    }
   },
   "source": [
    "## The Law of Averages\n",
    "\n",
    "What we have observed above is an instance of a general rule called the *law of averages*:"
   ]
  },
  {
   "cell_type": "markdown",
   "id": "147de8b8",
   "metadata": {
    "slideshow": {
     "slide_type": "fragment"
    }
   },
   "source": [
    "If a chance experiment is repeated independently and under identical conditions, then, in the long run, the proportion of times that an event occurs gets closer and closer to the theoretical probability of the event."
   ]
  },
  {
   "cell_type": "markdown",
   "id": "3a80bd2d",
   "metadata": {
    "slideshow": {
     "slide_type": "fragment"
    }
   },
   "source": [
    "For example, in the long run, the proportion of times the face with four spots appears gets closer and closer to 1/6."
   ]
  },
  {
   "cell_type": "markdown",
   "id": "7d29c5a6",
   "metadata": {
    "slideshow": {
     "slide_type": "fragment"
    }
   },
   "source": [
    "Here \"independently and under identical conditions\" means that every repetition is performed in the same way regardless of the results of all the other repetitions."
   ]
  },
  {
   "cell_type": "markdown",
   "id": "7dc8c6ff-aea9-4b01-8234-bb5baf4c6dde",
   "metadata": {
    "slideshow": {
     "slide_type": "fragment"
    }
   },
   "source": [
    "Under these conditions, the law above implies that if the chance experiment is repeated a large number of times then the proportion of times that an event occurs is very likely to be close to the theoretical probability of the event."
   ]
  },
  {
   "cell_type": "markdown",
   "id": "260487e3-8b93-4d1c-a902-478778bfe131",
   "metadata": {
    "slideshow": {
     "slide_type": "slide"
    }
   },
   "source": [
    "The function `rolldie()` has one argument `numrolls` that represents the number of times a die is rolled."
   ]
  },
  {
   "cell_type": "code",
   "execution_count": 56,
   "id": "e979aa12-90e8-4e27-8c2e-55c53f16d818",
   "metadata": {},
   "outputs": [],
   "source": [
    "def rolldie(numrolls):\n",
    "    die_results = die.sample(n = numrolls, replace = True)\n",
    "    return die_results"
   ]
  },
  {
   "cell_type": "markdown",
   "id": "1095376f-3757-428a-82f7-7ffcd289697a",
   "metadata": {
    "slideshow": {
     "slide_type": "fragment"
    }
   },
   "source": [
    "- The function `empirical_hist()` has one argument `obsdievals` that represents the observed values of rolling a single-sided die.\n",
    "\n",
    "- The function produces the quantitative distribution of a die, and a histogram."
   ]
  },
  {
   "cell_type": "code",
   "execution_count": null,
   "id": "6dd8cbfe-fec4-4435-a2d2-671c248caf9d",
   "metadata": {},
   "outputs": [],
   "source": [
    "def empirical_hist(obsdievals):\n",
    "    print(obsdievals.value_counts() / len(obsdievals))\n",
    "    plt.hist(obsdievals, bins = die_bins, edgecolor = 'black', color = 'grey', density = True)\n",
    "    plt.ylabel('Proportion')\n",
    "    plt.xlabel('Die value')"
   ]
  },
  {
   "cell_type": "markdown",
   "id": "360fcd5f-29eb-40f5-a5ba-166abe0b167a",
   "metadata": {
    "slideshow": {
     "slide_type": "fragment"
    }
   },
   "source": [
    "- The parameter value for `empirical_hist()` can be obtained by using the function `rolldie` above.\n",
    "\n",
    "- This can be used directly as the parameter value for `empirical_hist()`."
   ]
  },
  {
   "cell_type": "code",
   "execution_count": 57,
   "id": "1d9a3758-cdfb-463f-9eb4-a4b335ab2c39",
   "metadata": {
    "slideshow": {
     "slide_type": "-"
    }
   },
   "outputs": [
    {
     "name": "stdout",
     "output_type": "stream",
     "text": [
      "4    0.4\n",
      "3    0.2\n",
      "5    0.1\n",
      "1    0.1\n",
      "2    0.1\n",
      "6    0.1\n",
      "Name: count, dtype: float64\n"
     ]
    },
    {
     "data": {
      "image/png": "[encoded data removed]",
      "text/plain": [
       "<Figure size 640x480 with 1 Axes>"
      ]
     },
     "metadata": {},
     "output_type": "display_data"
    }
   ],
   "source": [
    "# this is a long version of the code below\n",
    "# rollvalues = rolldie(10)\n",
    "# empirical_hist(rollvalues)\n",
    "\n",
    "empirical_hist(rolldie(10))"
   ]
  },
  {
   "attachments": {},
   "cell_type": "markdown",
   "id": "aaac1b3e-92e2-4a6b-a134-675d5cf03921",
   "metadata": {
    "slideshow": {
     "slide_type": "slide"
    }
   },
   "source": [
    "## Interactive exploration of simulating a die roll\n",
    "\n",
    "We can use the `interact()` function from `ipywidgets` library to interact directly with distribution. \n"
   ]
  },
  {
   "cell_type": "code",
   "execution_count": null,
   "id": "9b8adcbb-f026-4249-9180-6cee95121e10",
   "metadata": {},
   "outputs": [],
   "source": [
    "from ipywidgets import interact\n",
    "import ipywidgets as widgets\n",
    "\n",
    "def die_sim_plot(n):\n",
    "    rolldie = die.sample(n, replace=True)\n",
    "    print(rolldie.value_counts() / n)\n",
    "    plt.hist(rolldie, bins = die_bins, edgecolor = 'black', color = 'grey', density = True)\n",
    "\n",
    "\n",
    "interact(die_sim_plot, n = widgets.IntSlider(min = 10, max = 500, step = 5, value = 10))"
   ]
  },
  {
   "cell_type": "markdown",
   "id": "35a8f6f1-9f53-4056-811d-4ba209a0d181",
   "metadata": {},
   "source": [
    "## Questions\n",
    "\n",
    "- What does the value `n` on the slider represent?\n",
    "\n",
    "- What do the numbers above the histogram represent?\n",
    "\n",
    "- Describe what the histogram represents.\n",
    "\n",
    "- Describe the pattern in the histogram as `n` gets larger.  "
   ]
  },
  {
   "cell_type": "markdown",
   "id": "8d97415f-304a-4764-87d2-8bc6398d49a1",
   "metadata": {
    "slideshow": {
     "slide_type": "slide"
    }
   },
   "source": [
    "## Sampling from a Population\n",
    "\n",
    "The law of averages also holds when the random sample is drawn from individuals in a large population.\n",
    "\n",
    "```\n",
    " persdur            Duration - Personal activities\n",
    "\n",
    "           VALUE  LABEL\n",
    "               0  No time spent doing this activity\n",
    "            9996  Valid skip\n",
    "            9997  Don't know\n",
    "            9998  Refusal\n",
    "            9999  Not stated\n",
    "\n",
    "\n",
    " luc_rst            Population centre indicator\n",
    "\n",
    "           VALUE  LABEL\n",
    "               1  Larger urban population centres (CMA/CA)\n",
    "               2  Rural areas and small population centres (non CMA/CA)\n",
    "               3  Prince Edward Island\n",
    "               6  Valid skip\n",
    "               7  Don't know\n",
    "               8  Refusal\n",
    "               9  Not stated\n",
    "```\n",
    "\n",
    "\n"
   ]
  },
  {
   "cell_type": "code",
   "execution_count": null,
   "id": "75c437f2-d4d0-4075-a887-e9d376a27d6f",
   "metadata": {
    "slideshow": {
     "slide_type": "slide"
    }
   },
   "outputs": [],
   "source": [
    "timeuse = pd.read_csv('gss_tu2016_main_file.csv')\n",
    "\n",
    "importantcols = ['CASEID', 'persdur', 'luc_rst']\n",
    "\n",
    "timeuse_subset = timeuse[importantcols]\n",
    "print(timeuse_subset.shape)\n",
    "timeuse_subset.head()"
   ]
  },
  {
   "cell_type": "markdown",
   "id": "08e1cf80-0b90-423a-908f-d943edbad116",
   "metadata": {
    "slideshow": {
     "slide_type": "slide"
    }
   },
   "source": [
    "Transform time spent on personal activities from minutes to hours, and add this new column called `'persdur_hour'` to `timeuse_subset`."
   ]
  },
  {
   "cell_type": "code",
   "execution_count": null,
   "id": "775bf77a-e389-4740-a0d4-05c0da66c3d0",
   "metadata": {},
   "outputs": [],
   "source": [
    "timeuse_subset = timeuse_subset.copy()\n",
    "timeuse_subset['persdur_hour'] = (timeuse_subset['persdur']/60)\n",
    "timeuse_subset.head()"
   ]
  },
  {
   "cell_type": "markdown",
   "id": "9e820968",
   "metadata": {},
   "source": [
    "Compute a summary of the distribution of `'persdur_hour'`."
   ]
  },
  {
   "cell_type": "code",
   "execution_count": null,
   "id": "477d4caa-1f1d-4a03-9b4b-1794fb8a469c",
   "metadata": {},
   "outputs": [],
   "source": [
    "timeuse_subset['persdur_hour'].describe()"
   ]
  },
  {
   "cell_type": "markdown",
   "id": "9398ec58-7279-420d-81b4-e1d141d5e510",
   "metadata": {
    "slideshow": {
     "slide_type": "slide"
    }
   },
   "source": [
    "Let's zoom in on respondents that had a personal activities time between 0.25 and 3 hours."
   ]
  },
  {
   "cell_type": "code",
   "execution_count": null,
   "id": "71bf46ec-ecd7-4a6d-848f-291e535ffe8f",
   "metadata": {},
   "outputs": [],
   "source": [
    "zoom = (timeuse_subset['persdur_hour'] >= 0.25) & (timeuse_subset['persdur_hour'] <= 3)\n",
    "\n",
    "timeuse_subset.loc[zoom].describe()"
   ]
  },
  {
   "attachments": {},
   "cell_type": "markdown",
   "id": "98899452-10c5-4caa-af9d-eb249470a403",
   "metadata": {
    "slideshow": {
     "slide_type": "slide"
    }
   },
   "source": [
    "## Empirical Distribution of the Sample\n",
    "\n",
    "- Let's think of the 13,004 respondent times (hours) as a population, and draw random samples from it with replacement. \n",
    "\n",
    "- Below is a histogram of the distribution."
   ]
  },
  {
   "cell_type": "code",
   "execution_count": null,
   "id": "60c6f1d2-1761-40c0-a867-65385e656982",
   "metadata": {
    "slideshow": {
     "slide_type": "-"
    }
   },
   "outputs": [],
   "source": [
    "persdur_zoom = timeuse_subset.loc[zoom, 'persdur_hour']\n",
    "\n",
    "persdur_zoom.plot.hist(bins = 10, color = 'grey', edgecolor = 'black')"
   ]
  },
  {
   "cell_type": "markdown",
   "id": "8d320ced",
   "metadata": {
    "slideshow": {
     "slide_type": "slide"
    }
   },
   "source": [
    "A random sample of 10 ..."
   ]
  },
  {
   "cell_type": "code",
   "execution_count": null,
   "id": "2d2565ef-03af-47f4-84e0-a98b9b95bf2f",
   "metadata": {},
   "outputs": [],
   "source": [
    "persdur_zoom.sample(10, replace = True).plot.hist(bins = 10, color = 'grey', edgecolor = 'black')"
   ]
  },
  {
   "cell_type": "markdown",
   "id": "9c9b2e12",
   "metadata": {
    "slideshow": {
     "slide_type": "slide"
    }
   },
   "source": [
    "A random sample of 100 ..."
   ]
  },
  {
   "cell_type": "code",
   "execution_count": null,
   "id": "9ec7a567-7547-4ae3-a479-72671cb6dad3",
   "metadata": {},
   "outputs": [],
   "source": [
    "persdur_zoom.sample(100, replace = True).plot.hist(bins = 10, color = 'grey', edgecolor = 'black')"
   ]
  },
  {
   "cell_type": "markdown",
   "id": "66d19502",
   "metadata": {
    "slideshow": {
     "slide_type": "slide"
    }
   },
   "source": [
    "A random sample of 1000 ..."
   ]
  },
  {
   "cell_type": "code",
   "execution_count": null,
   "id": "1592bec2-f400-49be-a3f2-0cabe69e10f8",
   "metadata": {
    "scrolled": true
   },
   "outputs": [],
   "source": [
    "persdur_zoom.sample(1000, replace = True).plot.hist(bins = 10, color = 'grey', edgecolor = 'black')"
   ]
  },
  {
   "cell_type": "markdown",
   "id": "6a0a76f5-1b61-4012-bd6a-8702ec4af6f0",
   "metadata": {},
   "source": [
    "- The values that occur with the least frequency are less likely to occur in small random samples.\n",
    "- As the size of the random sample increases the sample will resemble the population, with high probability."
   ]
  },
  {
   "cell_type": "markdown",
   "id": "f6e05b23-de87-4532-9b8d-9df2b6afbd53",
   "metadata": {
    "slideshow": {
     "slide_type": "slide"
    }
   },
   "source": [
    "## Interactive exploration of empirical distribution of a sample"
   ]
  },
  {
   "cell_type": "code",
   "execution_count": null,
   "id": "629cc25d-8e24-4034-b8a6-2ce0e6ba25cc",
   "metadata": {},
   "outputs": [],
   "source": [
    "def emp_hist_plot(n):\n",
    "    persdur_zoom.sample(n, replace = True).plot.hist(bins = 10, color = 'grey', edgecolor = 'black')\n",
    "\n",
    "interact(emp_hist_plot, n = widgets.IntSlider(min = 10, max= 500, step=50, value=10))"
   ]
  },
  {
   "cell_type": "markdown",
   "id": "7a218295",
   "metadata": {},
   "source": [
    "The histogram of the \"population\"."
   ]
  },
  {
   "cell_type": "code",
   "execution_count": null,
   "id": "cb0fd5a8-1d90-4dbf-a20b-a20a8f06022c",
   "metadata": {},
   "outputs": [],
   "source": [
    "persdur_zoom.plot.hist(bins = 10, color = 'grey', edgecolor = 'black');\n"
   ]
  },
  {
   "cell_type": "markdown",
   "id": "6f8eab1f-9d99-4897-8c52-68660b6cb172",
   "metadata": {},
   "source": [
    "## Questions\n",
    "\n",
    "- Describe how the empirical histogram changes as the the value `n` gets larger."
   ]
  },
  {
   "attachments": {},
   "cell_type": "markdown",
   "id": "682d7bd2-9b9a-4a49-8377-f20bf552856a",
   "metadata": {
    "slideshow": {
     "slide_type": "slide"
    }
   },
   "source": [
    "## Empirical Distribution of a Statistic\n",
    "\n",
    "The Law of Averages implies that with high probability, the empirical distribution of a large random sample will resemble the distribution of the population from which the sample was drawn.\n",
    "\n",
    "The resemblance is visible in two histograms: the empirical histogram of a large random sample is likely to resemble the histogram of the population."
   ]
  },
  {
   "cell_type": "markdown",
   "id": "bd803c51-dac9-4418-b126-f350fb2a306d",
   "metadata": {
    "slideshow": {
     "slide_type": "slide"
    }
   },
   "source": [
    "## Statistical Parameter\n",
    "\n",
    "Frequently, we are interested in numerical quantities associated with a population.\n",
    "\n",
    "- In a population of voters, what percent will vote for Candidate A?\n",
    "\n",
    "- In a population of Facebook users, what is the largest number of Facebook friends that the users have?\n",
    "\n",
    "- In a population of Air Canada flights, what is the median departure delay?\n",
    "\n",
    "\n",
    "Numerical quantities associated with a (statistical) population are called *statistical parameters* or *parameters*. For the population of respondents in `persdur_zoom`, we know the value of the parameter \"median time (hours) spent on personal activities\":"
   ]
  },
  {
   "cell_type": "code",
   "execution_count": null,
   "id": "4742ba08-636e-43f1-ab3f-2aa1df3cacb5",
   "metadata": {},
   "outputs": [],
   "source": [
    "persdur_zoom.median()"
   ]
  },
  {
   "cell_type": "markdown",
   "id": "588fdf1b-878d-497f-9ed8-06d87dc4b5c3",
   "metadata": {
    "slideshow": {
     "slide_type": "slide"
    }
   },
   "source": [
    "## Statistic\n",
    "In many situations, we will be interested in figuring out the value of an unknown parameter. For this, we will rely on data from a large random sample drawn from the population.\n",
    "\n",
    "A *statistic* (note the singular!) is any number computed using the data in a sample. The sample median, therefore, is a statistic. \n",
    "\n",
    "Remember that `persdur_zoom.sample(100)` contains a random sample of 100 respondents from `persdur_zoom`. The observed value of the sample median is:"
   ]
  },
  {
   "cell_type": "code",
   "execution_count": null,
   "id": "828f5548-1809-4142-bc95-eb8902997db6",
   "metadata": {},
   "outputs": [],
   "source": [
    "persdur_zoom.sample(100).median()"
   ]
  },
  {
   "cell_type": "markdown",
   "id": "c6facf88-2ed3-46b6-a18e-3e8f232471b1",
   "metadata": {
    "slideshow": {
     "slide_type": "-"
    }
   },
   "source": [
    "Our sample – one set of 100 people – gave us one observed value of the statistic. This raises an important problem of inference:\n",
    "\n",
    "**The statistic could have been different.**\n",
    "A fundamental consideration in using any statistic based on a random sample is that *the sample could have come out differently*, and therefore the statistic could have come out differently too. "
   ]
  },
  {
   "cell_type": "markdown",
   "id": "419170f5-cc83-45b3-9d5e-417b38fc4fa0",
   "metadata": {
    "slideshow": {
     "slide_type": "fragment"
    }
   },
   "source": [
    "Run the cell above a few times to see how the answer varies. Often it is equal to 0.75, the same value as the population parameter. But sometimes it is different."
   ]
  },
  {
   "cell_type": "markdown",
   "id": "5f31d9af-2acb-4f9e-8384-69d085688e2b",
   "metadata": {
    "slideshow": {
     "slide_type": "fragment"
    }
   },
   "source": [
    "**Just how different could the statistic have been?** One way to answer this is to simulate the statistic many times and note the values. A histogram of those values will tell us about the **distribution of the statistic**."
   ]
  },
  {
   "cell_type": "markdown",
   "id": "aabf6698-67b5-4388-9eb4-4fcf9d9e1251",
   "metadata": {
    "slideshow": {
     "slide_type": "slide"
    }
   },
   "source": [
    "## Simulating a Statistic\n",
    "We will simulate the sample median using the steps below.  You can replace the sample size of 1000 by any other sample size, and the sample median by any other statistic.\n",
    "\n",
    "**Step 1: Decide which statistic to simulate.** We have already decided that: we are going to simulate the median of a random sample of size 1000 drawn from the population of time use survey respondents that had a median time spent on personal activities between 0.25 and 3.0 hours.\n",
    "\n",
    "**Step 2: Define a function that returns one simulated value of the statistic.** Draw a random sample of size 1000 and compute the median of the sample. We did this in the code cell above. Here it is again, encapsulated in a function."
   ]
  },
  {
   "cell_type": "code",
   "execution_count": null,
   "id": "e1ea259b-5fc4-4b51-98ee-7962ac261e2d",
   "metadata": {},
   "outputs": [],
   "source": [
    "def random_sample_median():\n",
    "    return persdur_zoom.sample(100).median()"
   ]
  },
  {
   "cell_type": "code",
   "execution_count": null,
   "id": "500f6238-d66c-4867-85f2-3bb0022558b3",
   "metadata": {},
   "outputs": [],
   "source": [
    "random_sample_median()"
   ]
  },
  {
   "cell_type": "markdown",
   "id": "1b51d1cc-d9b6-475b-a2fc-3da92bf4568f",
   "metadata": {
    "slideshow": {
     "slide_type": "slide"
    }
   },
   "source": [
    "**Step 3: Decide how many simulated values to generate.** Let's do 5,000 repetitions.\n",
    "\n",
    "**Step 4: Use a `for` loop to generate a list of simulated values.** Start by creating an empty list in which to collect our results. We will then set up a `for` loop for generating all the simulated values. The body of the loop will consist of generating one simulated value of the sample median, and appending it to our collection list.\n",
    "\n",
    "The simulation takes a noticeable amount of time to run. That is because it is performing 5000 repetitions of the process of drawing a sample of size 1000 and computing its median. That's a lot of sampling and repeating!"
   ]
  },
  {
   "cell_type": "markdown",
   "id": "1b4e5eb3-3f8f-444e-80e2-0e4985d79c35",
   "metadata": {
    "slideshow": {
     "slide_type": "fragment"
    }
   },
   "source": [
    "Let's break down this step a bit further:\n",
    "\n",
    "- set up an empty list called `sim_medians`."
   ]
  },
  {
   "cell_type": "code",
   "execution_count": null,
   "id": "b68ca1a7-69f1-4b15-b73d-455449778d7c",
   "metadata": {
    "slideshow": {
     "slide_type": "fragment"
    }
   },
   "outputs": [],
   "source": [
    "sim_medians = [] # empty list"
   ]
  },
  {
   "cell_type": "markdown",
   "id": "d648634e-5122-4a5c-86e5-b53ca15218e8",
   "metadata": {
    "slideshow": {
     "slide_type": "fragment"
    }
   },
   "source": [
    "- Use the `append` function to append values to `sim_medians`."
   ]
  },
  {
   "cell_type": "code",
   "execution_count": null,
   "id": "32ac77b6-6026-4199-b020-042456b0d2e5",
   "metadata": {},
   "outputs": [],
   "source": [
    "sim_medians.append(random_sample_median())\n",
    "sim_medians"
   ]
  },
  {
   "cell_type": "markdown",
   "id": "558f483e-13c8-4e60-ad4c-6aa86ae341a9",
   "metadata": {},
   "source": [
    "- Run the cell above several times and you will see that values keep getting appended to `sim_medians`.\n",
    "\n",
    "- Each time the cell is run a random sample of 100 is drawn, the median is calculated then appended to the list."
   ]
  },
  {
   "cell_type": "code",
   "execution_count": null,
   "id": "7fd2824e-e22c-4a99-a6f8-b49bb5d731a9",
   "metadata": {
    "slideshow": {
     "slide_type": "fragment"
    }
   },
   "outputs": [],
   "source": [
    "sim_medians = []\n",
    "\n",
    "num_sims = 5000 \n",
    "\n",
    "for _ in range(num_sims):\n",
    "    sim_medians.append(random_sample_median())"
   ]
  },
  {
   "cell_type": "markdown",
   "id": "9a0c8d91-74c0-42dd-a047-ef3e9e5be348",
   "metadata": {
    "slideshow": {
     "slide_type": "slide"
    }
   },
   "source": [
    "## Empirical Distribution of a Statistic\n",
    "\n",
    "We can now examine the **empirical frequency distribution** of the median statistic."
   ]
  },
  {
   "cell_type": "markdown",
   "id": "068c6036-fc74-4d6f-b593-551e5a6f350c",
   "metadata": {},
   "source": [
    "Create a `pandas` series using the list `sim_medians` then use the `describe` function to describe the distribution."
   ]
  },
  {
   "cell_type": "code",
   "execution_count": null,
   "id": "7ea852ae-6f88-4c4c-8c45-474fe4c41669",
   "metadata": {},
   "outputs": [],
   "source": [
    "pd.Series(sim_medians).describe()"
   ]
  },
  {
   "cell_type": "markdown",
   "id": "9b6cc5d7-ccb4-4f68-98d6-5286c2d5e9fd",
   "metadata": {
    "slideshow": {
     "slide_type": "fragment"
    }
   },
   "source": [
    "- The distribution of the median can be visualized using a histogram.  \n",
    "\n",
    "- The histogram can tell us how frequent certain values of the median occur in random samples."
   ]
  },
  {
   "cell_type": "code",
   "execution_count": null,
   "id": "e992e40d-2844-425b-9fdd-daa9650c4197",
   "metadata": {},
   "outputs": [],
   "source": [
    "# create bins of length 0.1 \n",
    "# starting at 0.5 and ending at 1.1\n",
    "\n",
    "median_bins = np.arange(0.5, 1.1, 0.1) \n",
    "\n",
    "# use the bins to plot empirical distribution of medians\n",
    "\n",
    "plt.hist(sim_medians, edgecolor = 'black', color = 'grey', bins = median_bins);"
   ]
  },
  {
   "cell_type": "markdown",
   "id": "14086d57-41f2-46e5-8743-5dad3e33f9c0",
   "metadata": {
    "slideshow": {
     "slide_type": "slide"
    }
   },
   "source": [
    "The exact counts of medians in each interval can be examined using `pd.cut` and `value_counts`."
   ]
  },
  {
   "cell_type": "code",
   "execution_count": null,
   "id": "2098fcff-5608-4975-837e-6bda68d0a819",
   "metadata": {},
   "outputs": [],
   "source": [
    "# create a pandas series so we can use cut function\n",
    "sim_means_series = pd.Series(sim_medians)\n",
    "\n",
    "# frequency of values in each bin\n",
    "print(pd.cut(sim_means_series, median_bins).value_counts())\n",
    "\n",
    "# relative frequency (proportion) of values in each bin\n",
    "pd.cut(sim_means_series, median_bins).value_counts()/num_sims"
   ]
  },
  {
   "cell_type": "markdown",
   "id": "0a801c11-c859-478d-8c77-f661c29d7115",
   "metadata": {},
   "source": [
    "- The histogram shows that the median values between 0.70 and 0.80 have the highest probability of occurring (viz. 0.5314).\n",
    "\n",
    "- This means that a random sample would rarely yield a median value in the range of 0.5 - 0.6 or 1.0 - 1.1."
   ]
  },
  {
   "cell_type": "markdown",
   "id": "7fda379f",
   "metadata": {
    "slideshow": {
     "slide_type": "slide"
    }
   },
   "source": [
    "## What can we learn from simulation?\n",
    "\n",
    "- If we could generate all possible random samples of size 1000, we would know all possible values of the statistic (the sample median), as well as the probabilities of all those values. We could visualize all the values and probabilities in the probability histogram of the statistic."
   ]
  },
  {
   "cell_type": "markdown",
   "id": "da414d1c",
   "metadata": {
    "slideshow": {
     "slide_type": "fragment"
    }
   },
   "source": [
    "- But in many situations including this one, the number of all possible samples is large enough to exceed the capacity of the computer, and purely mathematical calculations of the probabilities can be intractably difficult."
   ]
  },
  {
   "cell_type": "markdown",
   "id": "1bdb471f",
   "metadata": {
    "slideshow": {
     "slide_type": "fragment"
    }
   },
   "source": [
    "- This is where empirical histograms come in."
   ]
  },
  {
   "cell_type": "markdown",
   "id": "a5427215",
   "metadata": {
    "slideshow": {
     "slide_type": "fragment"
    }
   },
   "source": [
    "- We know that by the Law of Averages, the empirical histogram of the statistic is likely to resemble the probability histogram of the statistic, if the sample size is large and if you repeat the random sampling process numerous times."
   ]
  },
  {
   "cell_type": "markdown",
   "id": "b9da0f58",
   "metadata": {
    "slideshow": {
     "slide_type": "fragment"
    }
   },
   "source": [
    "- This means that simulating random processes repeatedly is a way of approximating probability distributions *without figuring out the probabilities mathematically or generating all possible random samples*. "
   ]
  },
  {
   "cell_type": "markdown",
   "id": "ea13ebcd-67c3-4ff2-90b7-744b2bb858e6",
   "metadata": {
    "slideshow": {
     "slide_type": "fragment"
    }
   },
   "source": [
    "- Thus computer simulations become a powerful tool in data science. They can help data scientists understand the properties of random quantities that would be complicated to analyze in other ways."
   ]
  },
  {
   "cell_type": "markdown",
   "id": "c91e7ca2",
   "metadata": {
    "slideshow": {
     "slide_type": "slide"
    }
   },
   "source": [
    "## Review of today's class\n",
    "\n",
    "- understand that a function definition creates a function object and a variable name for that object\n",
    "\n",
    "- understand how to write a function call in Python\n",
    "\n",
    "- understand that a function call is an expression that produces a value, just like mathematical expressions\n",
    "\n",
    "- explain how a function call works: how it passes information to the parameters\n",
    "\n",
    "- understand that any variables created during function execution are local to the current function call, and when the function ends the variables disappear\n",
    "\n",
    "- understand that the return statement announces the value of the function call\n",
    "\n",
    "- describe the parts of a function: name, parameters, body\n",
    "\n",
    "- understand how to write a `for` loop in Python\n",
    "\n",
    "- understand the role of empirical distributions (sample and statistic) and simulation\n",
    "\n",
    "- understand the law of averages and it's relationship to empirical distributions\n"
   ]
  }
 ],
 "metadata": {
  "celltoolbar": "Slideshow",
  "kernelspec": {
   "display_name": "Python 3 (ipykernel)",
   "language": "python",
   "name": "python3"
  },
  "language_info": {
   "codemirror_mode": {
    "name": "ipython",
    "version": 3
   },
   "file_extension": ".py",
   "mimetype": "text/x-python",
   "name": "python",
   "nbconvert_exporter": "python",
   "pygments_lexer": "ipython3",
   "version": "3.10.13"
  },
  "vscode": {
   "interpreter": {
    "hash": "e99c9d7051edba512142d3281c215b415485f48974dc8484b73c151847956a71"
   }
  }
 },
 "nbformat": 4,
 "nbformat_minor": 5
}
