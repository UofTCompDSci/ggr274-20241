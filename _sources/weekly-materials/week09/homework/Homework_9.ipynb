{
 "cells": [
  {
   "cell_type": "markdown",
   "id": "bd13e811",
   "metadata": {},
   "source": [
    "# GG274 Homework 9: Bootstrap Confidence Intervals\n",
    "\n",
    "## Logistics\n",
    "\n",
    "**Due date**: The homework is due 23:59 on Monday, March 18.\n",
    "\n",
    "You will submit your work on [MarkUs](https://markus-ds.teach.cs.toronto.edu).\n",
    "To submit your work:\n",
    "\n",
    "1. Download this file (`Homework_9.ipynb`) from JupyterHub. (See [our JupyterHub Guide](../../../guides/jupyterhub_guide.ipynb) for detailed instructions.)\n",
    "2. Submit this file to MarkUs under the **hw9** assignment. (See [our MarkUs Guide](../../../guides/markus_guide.ipynb) for detailed instructions.)\n",
    "All homeworks will take place in a Jupyter notebook (like this one). When you are done, you will download this notebook and submit it to MarkUs.\n"
   ]
  },
  {
   "cell_type": "markdown",
   "id": "8442f7a6",
   "metadata": {},
   "source": [
    "## Introduction\n",
    "\n",
    "In this homework you will construct a bootstrap confidence interval around a sample mean of time spent driving, for those people in the survey who reported ***more*** than 0 minutes of driving. "
   ]
  },
  {
   "cell_type": "code",
   "execution_count": null,
   "id": "498ebc38",
   "metadata": {},
   "outputs": [],
   "source": [
    "import pandas as pd\n",
    "import matplotlib.pyplot as plt \n",
    "import numpy as np\n",
    "import seaborn as sns"
   ]
  },
  {
   "cell_type": "markdown",
   "id": "ba9654ca",
   "metadata": {},
   "source": [
    "``` \n",
    "durl313            Duration - Travel - Car - Driver\n",
    "\n",
    "           VALUE  LABEL\n",
    "               0  No time spent doing this activity\n",
    "            9996  Valid skip\n",
    "            9997  Don't know\n",
    "            9998  Refusal\n",
    "            9999  Not stated\n",
    "\n",
    "           Data type: numeric\n",
    "           Missing-data codes: 9996-9999\n",
    "           Record/columns: 1/362-364\n",
    "```"
   ]
  },
  {
   "cell_type": "markdown",
   "id": "dd16cb9a",
   "metadata": {},
   "source": [
    "## Step 1 - Read the time use survey data into a `pandas` `DataFrame`\n",
    "\n",
    "a)  The data is stored in `gss_tu2016_main_file.csv` .\n",
    "\n",
    "Use the `pandas` function `read_csv` to read the data into a `pandas` `DataFrame` named `time_use_df`. \n"
   ]
  },
  {
   "cell_type": "code",
   "execution_count": null,
   "id": "0e70a55c",
   "metadata": {},
   "outputs": [],
   "source": [
    "# Write your code below\n"
   ]
  },
  {
   "cell_type": "markdown",
   "id": "a9b80a4d",
   "metadata": {},
   "source": [
    "b) Use `time_use_df` to create a another `DataFrame` called `drive_time_df` that has two columns: `'CASEID', 'durl313'` (in that order)."
   ]
  },
  {
   "cell_type": "code",
   "execution_count": null,
   "id": "260275b5",
   "metadata": {},
   "outputs": [],
   "source": [
    "# Write your code below\n"
   ]
  },
  {
   "cell_type": "markdown",
   "id": "ba21291a",
   "metadata": {},
   "source": [
    "c) Rename the column names of `drive_time_df` using the following table. The `DataFrame` with the new column names should be called `drive_time_df` (i.e., don't change the name of the `DataFrame`).\n",
    "\n",
    "Original column name | New column name\n",
    "----|----\n",
    "CASEID | ID\n",
    "durl313 | drv_time\n"
   ]
  },
  {
   "cell_type": "code",
   "execution_count": null,
   "id": "911d50e5",
   "metadata": {},
   "outputs": [],
   "source": [
    "# Write your code below\n"
   ]
  },
  {
   "cell_type": "markdown",
   "id": "cf32e981",
   "metadata": {},
   "source": [
    "## Step 2 - Select only those participants who drove and create new `pandas` `DataFrame`.\n",
    "\n",
    "a) In this step you will select only those survey participants who drove (i.e., their drv_time value is greater than 0 and not 9996, 9997, 9998, or 9999. \n",
    "\n",
    "First, create a `pandas` `Series` called `driver` where a value is `True` if the person drove and `False` if they did not."
   ]
  },
  {
   "cell_type": "code",
   "execution_count": null,
   "id": "0243bcf1",
   "metadata": {},
   "outputs": [],
   "source": [
    "# Write your code below\n"
   ]
  },
  {
   "cell_type": "markdown",
   "id": "637787f9",
   "metadata": {},
   "source": [
    "b) Create a new `DataFrame` `subset_drive_time_df` by selecting the rows in `drive_time_df` where the person drove."
   ]
  },
  {
   "cell_type": "code",
   "execution_count": null,
   "id": "449b31ab",
   "metadata": {},
   "outputs": [],
   "source": [
    "# Write your code below\n"
   ]
  },
  {
   "cell_type": "markdown",
   "id": "6e4619af",
   "metadata": {},
   "source": [
    "## Step 3 - Calculate the mean of how much time drivers spent driving  \n",
    "\n",
    "In this step you will compute the mean of how much time drivers spent driving and store it in a variable called `drive_time_avg`. "
   ]
  },
  {
   "cell_type": "code",
   "execution_count": null,
   "id": "5debecca",
   "metadata": {},
   "outputs": [],
   "source": [
    "# Write your code below\n"
   ]
  },
  {
   "cell_type": "markdown",
   "id": "ef247197",
   "metadata": {},
   "source": [
    "## Step 4 - Create a function that generates a bootstrap sample from `subset_drive_time_df`\n",
    "\n",
    "In the below cell, create a function called `one_bs_mean` that calculates a bootstrap sample mean called `dt_bsmean_sample` from `subset_drive_time_df`. "
   ]
  },
  {
   "cell_type": "code",
   "execution_count": null,
   "id": "3a8ca060",
   "metadata": {},
   "outputs": [],
   "source": [
    "# Write your code below\n",
    "\n",
    "# test your function\n",
    "one_bs_mean()"
   ]
  },
  {
   "cell_type": "markdown",
   "id": "b748c831",
   "metadata": {},
   "source": [
    "## Step 5 - Compute a distribution of bootstrap sample means\n",
    "\n",
    "a) Create an empty list called `bootstrap_means` and then a loop that populates this list with 10,000 bootstrap sample means (generated from calling your `one_bs_mean` function)."
   ]
  },
  {
   "cell_type": "code",
   "execution_count": null,
   "id": "bcf2d441",
   "metadata": {},
   "outputs": [],
   "source": [
    "# This code sets a random seed so the code below generates the same results\n",
    "# Don't change this!\n",
    "np.random.seed(901)\n",
    "\n",
    "# Write your code below\n"
   ]
  },
  {
   "cell_type": "markdown",
   "id": "05edf48a",
   "metadata": {},
   "source": [
    "b) Plot `bootstrap_means` as a histogram using a `color` argument of `cyan` and `edgecolor` of `red`. Save the histogram to `bootstrap_means_histogram`."
   ]
  },
  {
   "cell_type": "code",
   "execution_count": null,
   "id": "12d2561d",
   "metadata": {},
   "outputs": [],
   "source": [
    "# Write your code below\n"
   ]
  },
  {
   "cell_type": "markdown",
   "id": "c240f8cb",
   "metadata": {},
   "source": [
    "## Step 6 - Report the 95% confidence interval of the sample mean of how much time drivers spend driving\n",
    "\n",
    "a) Compute the 2.5th percentile from the distribution `bootstrap_means` using the `np.percentile()`. Save the percentile to `bootstrap_means_2p5_percentile`."
   ]
  },
  {
   "cell_type": "code",
   "execution_count": null,
   "id": "26535b3d",
   "metadata": {},
   "outputs": [],
   "source": [
    "# Write your code below\n",
    "\n",
    "# test your code\n",
    "bootstrap_means_2p5_percentile"
   ]
  },
  {
   "cell_type": "markdown",
   "id": "2cd0db75",
   "metadata": {},
   "source": [
    "b) Compute the 97.5th percentile from the distribution `bootstrap_means` using the `np.percentile()`. Save the percentile to `bootstrap_means_97p5_percentile`."
   ]
  },
  {
   "cell_type": "code",
   "execution_count": null,
   "id": "978a9570",
   "metadata": {},
   "outputs": [],
   "source": [
    "# Write your code below\n",
    "\n",
    "# test your code\n",
    "bootstrap_means_97p5_percentile"
   ]
  },
  {
   "cell_type": "markdown",
   "id": "5da0b797",
   "metadata": {},
   "source": [
    "c) Complete the following sentence reporting the 95% bootstrap confidence interval, rounded to two decimal points.\n"
   ]
  },
  {
   "cell_type": "markdown",
   "id": "6810b58b",
   "metadata": {},
   "source": [
    "**Answer:** A 95% bootstrap confidence interval for the sample mean of driving time for drivers is __ to __ minutes."
   ]
  }
 ],
 "metadata": {
  "kernelspec": {
   "display_name": "Python 3 (ipykernel)",
   "language": "python",
   "name": "python3"
  },
  "language_info": {
   "codemirror_mode": {
    "name": "ipython",
    "version": 3
   },
   "file_extension": ".py",
   "mimetype": "text/x-python",
   "name": "python",
   "nbconvert_exporter": "python",
   "pygments_lexer": "ipython3",
   "version": "3.8.8"
  },
  "markus": {
   "assessment_id": 140,
   "course_id": 9,
   "url": "https://markus-ds.teach.cs.toronto.edu"
  },
  "vscode": {
   "interpreter": {
    "hash": "440dd12f919b48e435ef15d7652bb5c9f2f802a3e9de582e9da805c841a6f459"
   }
  }
 },
 "nbformat": 4,
 "nbformat_minor": 5
}
