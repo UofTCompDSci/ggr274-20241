{
 "cells": [
  {
   "cell_type": "markdown",
   "metadata": {},
   "source": [
    "# Guide to Using Jupyter Notebooks and JupyterHub"
   ]
  },
  {
   "attachments": {},
   "cell_type": "markdown",
   "metadata": {},
   "source": [
    "## What is Jupyter Notebook?\n",
    "\n",
    "The tool you're currently using to read this document is called Jupyter Notebook, and you will be using this to complete labs and homeworks throughout the course as you write, document, and edit Python code to examine and work with data. You can also embed text and plots in notebooks, which makes it a great medium for combining code and analysis. JupyterHub is the server on which we store Jupyter Notebooks.\n",
    "\n",
    "Much like having to learn how to use a lab for a chemistry course, you will need to learn how to use data science equipment, and JupyterHub and Jupyter notebooks are important data science lab tools. The first lab and homework will get you practice using notebooks on JupyterHub, and you'll develop more experience with these tools throughout this course.\n",
    "\n",
    "Without further ado, let's explore."
   ]
  },
  {
   "cell_type": "markdown",
   "metadata": {},
   "source": [
    "## Cells\n",
    "\n",
    "A Jupyter notebook page has cells that contain a Python program or formatted text. Each of the sections so far has been in a separate cell. You'll learn how to create both kinds of cells and, soon, how to make useful graphs from data using Python.\n",
    "\n",
    "Some cells are \"rich text\", like this one — bold text and large titles and so on. That's Markdown, which is a markup language. We'll start to explore that in the next cell.\n",
    "\n",
    "Some cells are code cells. You'll type Python code to do data science, then you'll run (and debug) it.\n",
    "\n",
    "### Select and move multiple cells\n",
    "\n",
    "You can swap the order of a cell by clicking on it and then clicking the up and down arrows in the button bar.\n",
    "\n",
    "You can select a sequence of cells by clicking the first cell you want, then holding down your shift key and clicking the last cell in the sequence. The up and down arrows move all of them at once."
   ]
  },
  {
   "attachments": {},
   "cell_type": "markdown",
   "metadata": {},
   "source": [
    "## Markdown\n",
    "\n",
    "Double-click on this sentence. It changes the cell to a text editor. To go back to the first view, click the `Run` button above, as seen in the Control Panel diagram below.\n",
    "\n",
    "Notice that the drop-down button says `Markdown`. Markdown is the format this cell is written in. You'll learn how to use Markdown over the coming weeks.\n",
    "\n",
    "Your web browser is showing you the [JupyterHub@UofT](https://jupyter.utoronto.ca) website. That's where your files, including this JupyterHub notebook, are stored. You are using your very own virtual computer running there, and only you have access to your files."
   ]
  },
  {
   "cell_type": "markdown",
   "metadata": {},
   "source": [
    "## Control Panel\n",
    "\n",
    "Let's get acquainted with the Jupyter notebook control panel. We will explore only the toolbar buttons, but feel free to explore the drop down menus (ex. 'File', 'Edit', ...)\n",
    "\n",
    "![test](jupyterhub-guide-images/JupyterControlPanel.png)\n",
    "__Fig 1.1 - The control panel of the Jupyter Notebook__\n",
    "\n",
    "![image-2.png](jupyterhub-guide-images/save.png)\n",
    "__Fig 1.2 - The Save button__\n",
    "\n",
    "The left-most button is probably something you are already familiar with - the \"Save\" button. This is pretty self-explanatory, clicking on this will save all changes since your last save.\n",
    "\n",
    "![image-3.png](jupyterhub-guide-images/create.png)\n",
    "__Fig 1.3 - Creating New Cells__\n",
    "The \"plus\" button creates a new cell below the currently selected cell. By default, JupyterHub will create a code block. We'll revisit types of code blocks soon.\n",
    "\n",
    "![image-4.png](jupyterhub-guide-images/cutcopypaste.png)\n",
    "__Fig 1.4 - Cut, Copy, and Paste Cells__\n",
    "The next three buttons are the cut, copy, and paste buttons, specifically for cells (i.e. it will perform the operation for the entire cell, but you can always highlight code/text and use your normal copy/paste/cut keyboard shortcuts)\n",
    "\n",
    "![image-6.png](jupyterhub-guide-images/rearrangeupdown.png)\n",
    "__Fig 1.5 - Rearrange Cells__\n",
    "The __Up__ and __Down__ buttons move (or swap) the position with the cell directly above or below it, respectively.\n",
    "\n",
    "\n",
    "![image-5.png](jupyterhub-guide-images/runstoprestart.png)\n",
    "__Fig 1.6 - Run, Stop, Restart, and Run All Cells__\n",
    "For a Markdown cell, the __Run__ button will show the rich text view. For a Code cell, it will execute the code.\n",
    "\n",
    "Sometimes, code takes a while to run, which might not be intended behaviour. In this case, we can use the __Stop__ button to terminate code execution. __Refresh__ resets all the Code cells in the notebook. The __Fast Forward__ button first resets all the Code cells and then runs all of them in order, starting at the top.\n",
    "\n",
    "![image-7.png](jupyterhub-guide-images/blocktype.png)\n",
    "__Fig 1.7 - Specify Block Type__\n",
    "Perhaps one of the more important functions, this dropdown menu lets you set the type of block you want (Markdown for text, Code for Python code)."
   ]
  },
  {
   "cell_type": "markdown",
   "metadata": {},
   "source": [
    "## Viewing your files and folders\n",
    "\n",
    "The program your web browser is running is talking to the [JupyterHub@UofT](https://jupyter.utoronto.ca) website. That's where your files, including this JupyterHub notebook, are stored. You are using your very own virtual computer running there, and only you have access to your files.\n",
    "\n",
    "You can access your notebooks locally if you have some form of JupyterHub installed. You need to run another tool to see your file system. When you access your local files via JupyterHub, your interface will look something like this:\n",
    "\n",
    "![image-8.png](jupyterhub-guide-images/jupyterfiles.png)\n",
    "__Fig 1.8 - Our local files and directories as seen via JupyterHub (Note: you'll have different files!)__"
   ]
  },
  {
   "cell_type": "markdown",
   "metadata": {},
   "source": [
    "## Create your own Markdown and Code cells\n",
    "\n",
    "You can create your own cells. Click on this cell to select it (it should be highlighted compared to the other cells), then click the `+` button in the button bar above. This creates a Code cell by default. To change its type, click the cell and then click the drop-down menu where it says `Code`."
   ]
  },
  {
   "attachments": {},
   "cell_type": "markdown",
   "metadata": {},
   "source": [
    "## Markdown cell formatting\n",
    "\n",
    "We use hashtags (#) to create titles and headings. Particularly, the *fewer* the hashtags, the larger the text. So we use '#' to create our titles, then '##' or '###' or '####', etc. to make our headings and sub-headings. Double click to open the Markdown editor to see how these are specified.\n",
    "\n",
    "## Sub-heading\n",
    "\n",
    "### sub-sub headings\n",
    "\n",
    "#### sub-sub-sub heading (do we really need more than 3?) \n",
    "\n",
    "### Rich Text\n",
    "\n",
    "Markdown supports some rich text features, such as bolding, italics, and lists:\n",
    "\n",
    "__BOLD__ text is 'wrapped' by two opening and two closing underscores or by surrounding with two **asterisks**.\n",
    "\n",
    "Same for _italics!_ or, with a single asterisk, *italics, perhaps?*\n",
    "\n",
    "* Let's\n",
    "* make\n",
    "* a\n",
    "    + hey\n",
    "    + it's a nested list!\n",
    "* list\n",
    "\n",
    "You can use `+`, `-`, `>`, and `*` for lists. Which ones you use doesn't matter. To make a nested list, indent the sublist. Data scientists typically switch to a different list character when they indent.\n",
    "\n",
    "    If you indent plain text, it appears in fixed-width font. Nice for showing a line of Python code, or maybe some data.\n",
    "\n",
    "### Code\n",
    "You can also include Python code with pretty syntax highlighting. You'll be working with Python on the homework this week, so just enjoy the experience for now.\n",
    "\n",
    "```python\n",
    "# This is Python code. Surround the code with three backticks.\n",
    "x = 5\n",
    "\n",
    "```\n",
    "\n",
    "Text inside `single quotes` is also rendered fixed width.   \n",
    "Double click on this cell to see how these are all specified in Markdown.\n",
    "\n",
    "### Images and Links\n",
    "The Markdown to show an image looks like this:\n",
    "\n",
    "![cat.png](https://images.pexels.com/photos/2061057/pexels-photo-2061057.jpeg)\n",
    "\n",
    "You'll often want to add links to other webpages, especially once you've started working on your project. It looks just like embedding an image, but you leave off the initial exclamation mark. Double-click this cell to see what it looks like.\n",
    "\n",
    "[Is this a rickroll?](https://external-content.duckduckgo.com/iu/?u=http%3A%2F%2Fwww.reactiongifs.com%2Fwp-content%2Fgallery%2Fno%2Fjohn-cleese-no.gif&f=1&nofb=1)"
   ]
  },
  {
   "attachments": {},
   "cell_type": "markdown",
   "metadata": {},
   "source": [
    "## Downloading a Notebook\n",
    "\n",
    "Each week, you will be asked to submit a homework notebook to MarkUs. Here are the steps:\n",
    "\n",
    "1. Download this Jupyter notebook file to your computer: `File —> Download as —> Notebook (.ipynb)`.\n",
    "\n",
    "    ![Download As](jupyterhub-guide-images/download.png)\n",
    "\n",
    "For more information on using MarkUs this semester, check out our [MarkUs Guide](./markus_guide.ipynb).\n"
   ]
  }
 ],
 "metadata": {
  "kernelspec": {
   "display_name": "Python 3",
   "language": "python",
   "name": "python3"
  },
  "language_info": {
   "name": "python",
   "version": "3.11.1 (tags/v3.11.1:a7a450f, Dec  6 2022, 19:58:39) [MSC v.1934 64 bit (AMD64)]"
  },
  "orig_nbformat": 4,
  "vscode": {
   "interpreter": {
    "hash": "8b8edaa195e148f815789564e9a10f57d8b792ac9e1a5daafce5fbae42bebd0e"
   }
  }
 },
 "nbformat": 4,
 "nbformat_minor": 2
}
