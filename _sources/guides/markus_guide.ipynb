{
 "cells": [
  {
   "attachments": {},
   "cell_type": "markdown",
   "metadata": {},
   "source": [
    "# Guide to Using MarkUs\n",
    "\n",
    "MarkUs is a web application we're using in this course to manage your labs and homeworks.\n",
    "MarkUs lets you submit your Jupyter notebook files for feedback and grading from both automated tests and your TAs.\n",
    "In this guide, we'll go over the basics of how you'll use MarkUs in this course. \n",
    "\n",
    "(Fun fact: MarkUs is developed and maintained by the Department of Computer Science and Professor David Liu right here at the University of Toronto!)"
   ]
  },
  {
   "attachments": {},
   "cell_type": "markdown",
   "metadata": {},
   "source": [
    "## Getting to MarkUs\n",
    "\n",
    "To access MarkUs, visit the following URL: <https://markus-ds.teach.cs.toronto.edu>.\n",
    "- *Tip*: Control/Command-click to open the link in a new tab so you can still see this guide.\n",
    "\n",
    "You'll be prompted to login with your UTORid and password.\n",
    "After logging in, you'll be taken to your MarkUs homepage, which shows your courses that are using MarkUs this semester (likely just this course).\n",
    "\n",
    "Click on your course to be taken to the MarkUs course."
   ]
  },
  {
   "attachments": {},
   "cell_type": "markdown",
   "metadata": {},
   "source": [
    "## Submitting Work to MarkUs\n",
    "\n",
    "On your course page, you'll see a list of assessments that your instructors have set up.\n",
    "- *Note*: These assessments will be set up and published on Markus throughout the semester, so you won't see them right away.\n",
    "\n",
    "To submit a Jupyter notebook file to MarkUs:\n",
    "\n",
    "1. First, go to the [University of Toronto JupyterHub](https://jupyter.utoronto.ca) and download the file you want to submit (e.g., `Lab_1.ipynb`).\n",
    "\n",
    "2. Then in MarkUs, click on the link to the assessment you want to submit to (e.g., **lab1: Introduction to Data Science Tools**).\n",
    "\n",
    "    You'll now see the assignment page. There's some information about the assignment here, but this will likely all be repeated from your assessment handout.\n",
    "\n",
    "3. Click the **Submissions** tab. This takes you to the page where you'll submit your work for the assignment. You'll see a list of files you've submitted, which starts off empty.\n",
    "\n",
    "4. Click on the **Submit File** button on the top-right corner of the table of files. This opens a popup dialog.\n",
    "\n",
    "5. Click on **Browse** button, and select the notebook file you downloaded in Step 1.\n",
    "\n",
    "    *Tip*: if your instructor has configured the assessment to only allow you to submit a file with a particular name (useful for autograding), you'll need to make sure the name of your file matches the required filename. In the popup dialog, you can also choose to automatically rename the file you're submitting to match the required filename.\n",
    "\n",
    "6. Finally, click **Save** to submit the file!\n",
    "\n",
    "The table of submitted files should refresh, showing the file you just submitted.\n",
    "You can click on the file to preview it directly in your web browser, which lets you check whether you submitted the correct file.\n",
    "You can also download the file you submitted by clicking on the download icon next to the name of the file.\n",
    "\n",
    "### (Experimental) Submitting directly from JupyterHub\n",
    "\n",
    "We are piloting a new JupyterHub-MarkUs integration that lets you submit files to MarkUs directly from JupyterHub, without needing to download your notebook file to your computer.\n",
    "To make use of this feature, you'll need to perform a **one-time setup** by following these steps:\n",
    "\n",
    "1. First, go to the [JupyterHub home page](https://jupyter.utoronto.ca), logging in if necessary.\n",
    "2. **Important**: make sure you are in the top-most (\"root\") folder on JupyterHub, not inside your `ggr274-20241` folder. Otherwise, click on the blue folder icon above your file list to go to your root folder.\n",
    "3. In your root folder, go to the top-right menu and click on **New** -> **Text File**.\n",
    "4. A new page will open for the new file. First, click on the file name (usually *untitled.txt*) at the top of your screen and rename the file to **markus-api-key.txt**. Make sure to use that exact file name, including all lowercase letters, the hyphens, and the .txt extension.\n",
    "5. Now, keep the file open and open a new browser tab. In the new tab, login to [MarkUs](https://markus-ds.teach.cs.toronto.edu).\n",
    "6. In MarkUs, go to the top-right menu, click on the \"down arrow\" and go to **Settings**.\n",
    "7. In your Account Settings page, look for the \"Your API Key\" section.\n",
    "    You likely won't have an API key yet. Click on the **Reset API Key** button and wait for the page to refresh.\n",
    "8. Now under \"Your API Key\", you'll see a long string of letters/numbers followed by an equals sign (`=`), e.g.\n",
    "\n",
    "    ```text\n",
    "    Bzk...........................hM4x=\n",
    "    ``` \n",
    "\n",
    "    Copy-and-paste that string, *including* the equals sign (`=`), into your markus-api-key.txt file on JupyterHub.\n",
    "9. Save your markus-api-key.txt file by going to **File -> Save**.\n",
    "10. Then, close the file. Congratulations, you've finished the setup! 🎉\n",
    "\n",
    "Now, let's try it out! *Starting with Week 7 onwards*, when you are ready to submit your notebook file to MarkUs, you can do the following:\n",
    "\n",
    "1. Open your notebook file (e.g. `Homework7.ipynb`) in JupyterHub, if it isn't already.\n",
    "2. Look in the toolbar for the MarkUs icon\n",
    "    <img src=\"markus-guide-images/markus.ico\" alt=\"MarkUs icon\" style=\"vertical-align: baseline;\" width=\"16\"/>\n",
    "    and click on it.\n",
    "3. That's it! After a few seconds (or minutes, depending on the size of your file), a popup window should appear saying that your file was submitted to MarkUs.\n",
    "\n",
    "    - If an error occurred, first make sure that you followed the setup instructions correctly. If you're confident that you did, please contact Prof. David Liu and in the mean time, submit your file using the standard approach (downloading the file to your computer and uploading it to MarkUs).\n",
    "\n",
    "*Warning*: this MarkUs integration will allow you to submit files even after the due date has passed. It is your responsibility to ensure that you are submitting your work before the due date.\n"
   ]
  },
  {
   "cell_type": "markdown",
   "metadata": {},
   "source": [
    "## Running Automated Tests\n",
    "\n",
    "For each assignment, we provide some automated tests that check whether your submission matches the values we expected. \n",
    "\n",
    "Here is how to run them:\n",
    "\n",
    "1. Click the **Automated Testing** tab.\n",
    "\n",
    "2. Click button **Run tests** and wait several seconds while the test is run.\n",
    "\n",
    "3. Reload the webpage. Hopefully you see something like this. If not, and you can't figure it out, ask for help!\n",
    "\n",
    "![Download As](markus-guide-images/lab1testresult.png)"
   ]
  },
  {
   "attachments": {},
   "cell_type": "markdown",
   "metadata": {},
   "source": [
    "## Viewing Feedback and Graded Results\n",
    "\n",
    "Once your assignment has been graded by a Teaching Assistant (TA), you will be able to view your results and feedback left by your TA.\n",
    "\n",
    "1. Click on the assignment, and go to the **Results** tab\n",
    "\n",
    "2. You can view your grade breakdown on the right side of the screen, like below:\n",
    "\n",
    "    ![Marking Rubric](markus-guide-images/marking-rubric.jpg)\n",
    "\n",
    "3. On the left side under **Submission files**, you can go through your submitted files and view feedback. Using the dropdown menu, you can switch between files. Hover over the yellow boxes to read any annotations left by the TA.\n",
    "\n",
    "    ![Submission Files](markus-guide-images/submission-files.jpg)\n",
    "\n",
    "5. You can also view these annotations in the **Annotations** tab.\n",
    "\n",
    "    ![Annotations](markus-guide-images/annotations.jpg)\n",
    "\n",
    "4. Click on the **Test Results** to see the results of running our automated tests on your submission. If a test failed, it would be highlighted in red.\n",
    "\n",
    "    ![Test Results](markus-guide-images/test-results.jpg)"
   ]
  }
 ],
 "metadata": {
  "kernelspec": {
   "display_name": "Python 3 (ipykernel)",
   "language": "python",
   "name": "python3"
  },
  "language_info": {
   "codemirror_mode": {
    "name": "ipython",
    "version": 3
   },
   "file_extension": ".py",
   "mimetype": "text/x-python",
   "name": "python",
   "nbconvert_exporter": "python",
   "pygments_lexer": "ipython3",
   "version": "3.10.1"
  },
  "vscode": {
   "interpreter": {
    "hash": "8b8edaa195e148f815789564e9a10f57d8b792ac9e1a5daafce5fbae42bebd0e"
   }
  }
 },
 "nbformat": 4,
 "nbformat_minor": 4
}
