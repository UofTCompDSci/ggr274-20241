{
  "cells": [
    {
      "cell_type": "code",
      "execution_count": null,
      "metadata": {},
      "outputs": [],
      "source": [
        "# Review + Extra Examples Week 1-3"
      ]
    },
    {
      "cell_type": "markdown",
      "metadata": {
        "id": "9k1hLKXoStAi"
      },
      "source": [
        "Hi folks,\n",
        "This is a notebook covering the most common errors from hw1-3 and some extra examples to review before the midterm.\n",
        "\n",
        "It likely contains a lot of typos in text (but hopefully not in the code)!\n",
        "\n",
        "Best of luck with the midterm\n",
        "\n",
        "Ilya"
      ]
    },
    {
      "cell_type": "markdown",
      "metadata": {
        "id": "z22JwpltRhFQ"
      },
      "source": [
        "### A Reminder about types"
      ]
    },
    {
      "cell_type": "markdown",
      "metadata": {
        "id": "_ppWs-hnRmh1"
      },
      "source": [
        "Remember, we are using `[]` and `{}` only when we assigning (creating) lists and dictionaries to variables"
      ]
    },
    {
      "cell_type": "code",
      "execution_count": 28,
      "metadata": {
        "colab": {
          "base_uri": "https://localhost:8080/"
        },
        "id": "eQNMtgQ7Rl4m",
        "outputId": "08d04ed3-d77a-41ca-ab37-4369a69db0f2"
      },
      "outputs": [
        {
          "name": "stdout",
          "output_type": "stream",
          "text": [
            "<class 'list'>\n"
          ]
        }
      ],
      "source": [
        "my_list = [1, 2, 3] #square braces tell python that what we assigning is a list\n",
        "\n",
        "print(type(my_list)) #now python knows that"
      ]
    },
    {
      "cell_type": "markdown",
      "metadata": {
        "id": "POatqbpeSAcR"
      },
      "source": [
        "... but we don't need to add `[]` or `{}` when we are using a variable to which we already assigned a list or a dictionary"
      ]
    },
    {
      "cell_type": "code",
      "execution_count": 31,
      "metadata": {
        "colab": {
          "base_uri": "https://localhost:8080/"
        },
        "id": "x_GmIfnWSLGp",
        "outputId": "504975f0-bf6f-4965-ae93-400f925c9976"
      },
      "outputs": [
        {
          "name": "stdout",
          "output_type": "stream",
          "text": [
            "[1, 2, 3]\n"
          ]
        },
        {
          "data": {
            "text/plain": [
              "2"
            ]
          },
          "execution_count": 31,
          "metadata": {},
          "output_type": "execute_result"
        }
      ],
      "source": [
        "print(my_list) #the same result as print([1, 2, 3]). Check it!\n",
        "\n",
        "my_list[1] #will work and return the second element (remember, we count from 0)"
      ]
    },
    {
      "cell_type": "markdown",
      "metadata": {
        "id": "HwlTxRZwSQmR"
      },
      "source": [
        "but not"
      ]
    },
    {
      "cell_type": "code",
      "execution_count": 30,
      "metadata": {
        "colab": {
          "base_uri": "https://localhost:8080/"
        },
        "id": "GPNsjepzSRmm",
        "outputId": "a3aa4f04-5c24-4bed-cbdb-ee3c83a6a4ae"
      },
      "outputs": [
        {
          "name": "stdout",
          "output_type": "stream",
          "text": [
            "[[1, 2, 3]]\n"
          ]
        }
      ],
      "source": [
        "print([my_list]) #will still return something, but likely it is not what you want. It is the same as print([[1, 2, 3]])"
      ]
    },
    {
      "cell_type": "code",
      "execution_count": 32,
      "metadata": {
        "colab": {
          "base_uri": "https://localhost:8080/",
          "height": 175
        },
        "id": "LA2dqZcGTfZC",
        "outputId": "fdd31b99-9170-44c5-9282-ff4527b3f694"
      },
      "outputs": [
        {
          "ename": "IndexError",
          "evalue": "list index out of range",
          "output_type": "error",
          "traceback": [
            "\u001b[0;31m---------------------------------------------------------------------------\u001b[0m",
            "\u001b[0;31mIndexError\u001b[0m                                Traceback (most recent call last)",
            "\u001b[0;32m<ipython-input-32-c71d39f3cd5f>\u001b[0m in \u001b[0;36m<cell line: 1>\u001b[0;34m()\u001b[0m\n\u001b[0;32m----> 1\u001b[0;31m \u001b[0;34m[\u001b[0m\u001b[0mmy_list\u001b[0m\u001b[0;34m]\u001b[0m\u001b[0;34m[\u001b[0m\u001b[0;36m1\u001b[0m\u001b[0;34m]\u001b[0m \u001b[0;31m#wont work\u001b[0m\u001b[0;34m\u001b[0m\u001b[0;34m\u001b[0m\u001b[0m\n\u001b[0m",
            "\u001b[0;31mIndexError\u001b[0m: list index out of range"
          ]
        }
      ],
      "source": [
        "[my_list][1] #won't work"
      ]
    },
    {
      "cell_type": "code",
      "execution_count": 33,
      "metadata": {
        "colab": {
          "base_uri": "https://localhost:8080/"
        },
        "id": "itk3-ONOTk1C",
        "outputId": "a40df0fe-3108-4b94-ccd6-69a905ce52ad"
      },
      "outputs": [
        {
          "data": {
            "text/plain": [
              "[1, 2, 3]"
            ]
          },
          "execution_count": 33,
          "metadata": {},
          "output_type": "execute_result"
        }
      ],
      "source": [
        "[my_list][0] #would work, but will return something unexpected"
      ]
    },
    {
      "cell_type": "markdown",
      "metadata": {
        "id": "B7c5Wye9SmM_"
      },
      "source": [
        "Same is true for dictionaries!\n",
        "\n",
        "Sometimes this leads to errors so be careful!"
      ]
    },
    {
      "cell_type": "markdown",
      "metadata": {
        "id": "i-u6jvYLDqiZ"
      },
      "source": [
        "### Example 1 Strings, split and lists"
      ]
    },
    {
      "cell_type": "code",
      "execution_count": 1,
      "metadata": {
        "colab": {
          "base_uri": "https://localhost:8080/"
        },
        "id": "Tb80goxCCw1L",
        "outputId": "2315aa02-d017-48aa-cc7a-98ec90fc3ad0"
      },
      "outputs": [
        {
          "name": "stdout",
          "output_type": "stream",
          "text": [
            "['This', 'is', 'my', 'string,', 'some', 'spaces', 'are', 's', 'n', 'e', 'a', 'k', 'y']\n",
            "['This', 'is', 'my', '', 'string,', 'some', 'spaces', 'are', 's', 'n', 'e', 'a', 'k', '', 'y']\n",
            "13\n",
            "15\n"
          ]
        }
      ],
      "source": [
        "my_string_with_sneaky_spaces = 'This is my  string, some spaces are s n e a k  y'#note double spaces in the string\n",
        "\n",
        "split1 = my_string_with_sneaky_spaces.split()\n",
        "split2 = my_string_with_sneaky_spaces.split(' ')\n",
        "\n",
        "print(split1)\n",
        "print(split2)\n",
        "\n",
        "print(len(split1))\n",
        "print(len(split2))"
      ]
    },
    {
      "cell_type": "markdown",
      "metadata": {
        "id": "2IExbWdYDOCk"
      },
      "source": [
        "What happens here? `str.split()` without the arguments by default is going to treat multiple consequent spaces as one. Usually that is what we want when we try to split the string to words.\n",
        "\n",
        "`str.split(' ')` is going to treat each space separately!"
      ]
    },
    {
      "cell_type": "markdown",
      "metadata": {
        "id": "EHBlYOGRDteC"
      },
      "source": [
        "### Example 2 Strings, split and lists"
      ]
    },
    {
      "cell_type": "code",
      "execution_count": 3,
      "metadata": {
        "colab": {
          "base_uri": "https://localhost:8080/"
        },
        "id": "oa4ulvb2DvB3",
        "outputId": "50e86611-3c7e-4ca0-aa8b-0b5905497d96"
      },
      "outputs": [
        {
          "name": "stdout",
          "output_type": "stream",
          "text": [
            "['This is my string', ' It contains multiple sentences', ' Hell, yeah', '']\n",
            "['This is my string', 'It contains multiple sentences', 'Hell, yeah.']\n"
          ]
        }
      ],
      "source": [
        "my_string = \"This is my string. It contains multiple sentences. Hell, yeah.\"\n",
        "\n",
        "print(my_string.split(\".\")) #note an extra element in the resulting list. Also note an extra space at the beginning of the list elements 2, 3\n",
        "print(my_string.split(\". \")) # I can split by more than 1 symbol. Note no extra spaces at the beginning of the elements, but extra `.` at the end of the last element."
      ]
    },
    {
      "cell_type": "markdown",
      "metadata": {
        "id": "2ZQEIbNLE5PK"
      },
      "source": [
        "What do we need here? Depends on the task. If you need to calculate the number of sentences, option 1 is wrong (of course, you can always also filter out empty sentences but it looks clumsy)."
      ]
    },
    {
      "cell_type": "markdown",
      "metadata": {
        "id": "FuNCfVy1NCRD"
      },
      "source": [
        "### Example 3. Nested loops and filtering\n",
        "\n",
        "Remember that you can use one loop inside of another and combine them with `if` statements.\n",
        "\n",
        "Let's say I want to split my string into sentences and count number of words containing letter 'e' in each sentence.\n",
        "\n",
        "Let me show how I create and test the solution step by step"
      ]
    },
    {
      "cell_type": "markdown",
      "metadata": {
        "id": "CTXuEZlnOUEk"
      },
      "source": [
        "I'll start with a loop through a list of sentences I got from the string.\n",
        "\n",
        "I can do either\n",
        "\n",
        "```python\n",
        "my_string = \"This is my string. It contains multiple sentences. Hell, yeah.\"\n",
        "\n",
        "my_sentence_list = my_string.split(\". \")\n",
        "\n",
        "for sentence in my_sentence_list:\n",
        "  ...\n",
        "  ...\n",
        "```\n",
        "\n",
        "or just\n",
        "\n",
        "```python\n",
        "for sentence in my_string.split(\". \"):\n",
        "  ...\n",
        "  ...\n",
        "```\n",
        "Remember that Python in this loop will go through each list element, assign it's value to the `sentence` variable inside of the loop iteration (so, where we have ... in the example), then go back to the beginning of the loop and reassign `sentence` to the next element on the next iteration, until it goes through all list elements."
      ]
    },
    {
      "cell_type": "code",
      "execution_count": 19,
      "metadata": {
        "colab": {
          "base_uri": "https://localhost:8080/"
        },
        "id": "UTCRuWgmNhuR",
        "outputId": "a1437be2-fc57-429c-da72-ec8c2474faa1"
      },
      "outputs": [
        {
          "name": "stdout",
          "output_type": "stream",
          "text": [
            "This is my string\n",
            "<class 'str'>\n",
            "It contains multiple sentences\n",
            "<class 'str'>\n",
            "Hell, yeah.\n",
            "<class 'str'>\n"
          ]
        }
      ],
      "source": [
        "my_string = \"This is my string. It contains multiple sentences. Hell, yeah.\"\n",
        "\n",
        "for sentence in my_string.split(\". \"):\n",
        "    print(sentence)\n",
        "    print(type(sentence))\n"
      ]
    },
    {
      "cell_type": "markdown",
      "metadata": {
        "id": "16wbr6AtPS4v"
      },
      "source": [
        "Ok, next thing I need is to split each string (sentence) to words"
      ]
    },
    {
      "cell_type": "code",
      "execution_count": 22,
      "metadata": {
        "colab": {
          "base_uri": "https://localhost:8080/"
        },
        "id": "rW0GEK_6PR25",
        "outputId": "966e0836-b032-416a-eec7-4bcd68521e88"
      },
      "outputs": [
        {
          "name": "stdout",
          "output_type": "stream",
          "text": [
            "['This', 'is', 'my', 'string']\n",
            "['It', 'contains', 'multiple', 'sentences']\n",
            "['Hell,', 'yeah.']\n"
          ]
        }
      ],
      "source": [
        "my_string = \"This is my string. It contains multiple sentences. Hell, yeah.\"\n",
        "\n",
        "for sentence in my_string.split(\". \"):\n",
        "    word_list = sentence.split()\n",
        "    print(word_list)"
      ]
    },
    {
      "cell_type": "markdown",
      "metadata": {
        "id": "R42-ocJPPkwo"
      },
      "source": [
        "Let me first write code to test if each word contains 'e'"
      ]
    },
    {
      "cell_type": "code",
      "execution_count": 24,
      "metadata": {
        "colab": {
          "base_uri": "https://localhost:8080/"
        },
        "id": "ntHEbPa7PsLe",
        "outputId": "421827d6-08a6-429e-e849-18a49e149184"
      },
      "outputs": [
        {
          "name": "stdout",
          "output_type": "stream",
          "text": [
            "<class 'str'>\n",
            "No 'e' :(\n",
            "<class 'str'>\n",
            "No 'e' :(\n",
            "<class 'str'>\n",
            "No 'e' :(\n",
            "<class 'str'>\n",
            "No 'e' :(\n",
            "<class 'str'>\n",
            "No 'e' :(\n",
            "<class 'str'>\n",
            "No 'e' :(\n",
            "<class 'str'>\n",
            "multiple\n",
            "<class 'str'>\n",
            "sentences\n",
            "<class 'str'>\n",
            "Hell,\n",
            "<class 'str'>\n",
            "yeah.\n"
          ]
        }
      ],
      "source": [
        "my_string = \"This is my string. It contains multiple sentences. Hell, yeah.\"\n",
        "\n",
        "for sentence in my_string.split(\". \"):\n",
        "    word_list = sentence.split()\n",
        "    for word in word_list:\n",
        "      print(type(word)) #check if it is str\n",
        "      if 'e' in word:\n",
        "        print(word)\n",
        "      else:\n",
        "        print(\"No 'e' :(\")"
      ]
    },
    {
      "cell_type": "markdown",
      "metadata": {
        "id": "57MnJg2dQDrG"
      },
      "source": [
        "Cool! I want to calculate a number of words containing letter 'e' in each sentence. For that I need a list for my result (`my_lengths_with_e`).\n",
        "\n",
        "What this list is going to look like? Well, I know that its length would be equal to the number of sentences. So likely it should be updated somewhere in the part of the loop, responsible for sentences.\n",
        "It will contain numbers, so I need to calculate them somewhere. \n",
        "I will name this variable `num_words_with_e`."
      ]
    },
    {
      "cell_type": "code",
      "execution_count": 26,
      "metadata": {
        "colab": {
          "base_uri": "https://localhost:8080/"
        },
        "id": "PgpGADkPQoPh",
        "outputId": "71a716e4-2264-4aa4-b928-38078464f5ea"
      },
      "outputs": [
        {
          "name": "stdout",
          "output_type": "stream",
          "text": [
            "[0, 2, 2]\n"
          ]
        }
      ],
      "source": [
        "\n",
        "my_lengths_with_e = []\n",
        "for sentence in my_string.split(\". \"):\n",
        "    word_list = sentence.split()\n",
        "    num_words_with_e = 0 #for every new sentence we will start counting from 0\n",
        "    for word in word_list:\n",
        "      if 'e' in word:\n",
        "        num_words_with_e = num_words_with_e + 1\n",
        "    my_lengths_with_e.append(num_words_with_e) #note there I am doing that looking at the indentation. Outside of `if 'e' in word`, outside of the inner loop (`for word in word_list`), but inside the outer loop `for sentence in my_string.split(\". \")`\n",
        "\n",
        "print(my_lengths_with_e)"
      ]
    },
    {
      "cell_type": "markdown",
      "metadata": {
        "id": "OfNAf8pFFmNs"
      },
      "source": [
        "### Example 3. Complex logical (bool) expressions and `if` statements\n",
        "\n",
        "Say, you need to classify reviews to good or bad or ambiguous"
      ]
    },
    {
      "cell_type": "code",
      "execution_count": 5,
      "metadata": {
        "colab": {
          "base_uri": "https://localhost:8080/"
        },
        "id": "khtd2Vz1Ft3L",
        "outputId": "eb1da262-56e9-4cf3-c847-e77346b1f1fa"
      },
      "outputs": [
        {
          "name": "stdout",
          "output_type": "stream",
          "text": [
            "['best movie in history', 'best movie, worst actors']\n",
            "['best movie, worst actors', 'worst movie']\n",
            "['best movie, worst actors', 'worst movie']\n"
          ]
        }
      ],
      "source": [
        "reviews = ['best movie in history', 'best movie, worst actors', 'worst movie']\n",
        "\n",
        "good_reviews = []\n",
        "bad_reviews = []\n",
        "ambiguous_reviews = []\n",
        "\n",
        "for review in reviews:\n",
        "  if 'best' in review:\n",
        "    good_reviews.append(review)\n",
        "  if 'worst' in review:\n",
        "    bad_reviews.append(review)\n",
        "  if 'best' and 'worst' in review:\n",
        "    ambiguous_reviews.append(review)\n",
        "\n",
        "print(good_reviews)\n",
        "print(bad_reviews)\n",
        "print(ambiguous_reviews)"
      ]
    },
    {
      "cell_type": "markdown",
      "metadata": {
        "id": "kfqb9C8yHZVz"
      },
      "source": [
        "This is wrong! Two problems here, let's start with `if 'best' and 'worst' in review` not doing what we want.\n",
        "\n",
        "To make it a working example to tinker with, let me define review variable outside of the conditional statement\n",
        "\n"
      ]
    },
    {
      "cell_type": "code",
      "execution_count": 8,
      "metadata": {
        "colab": {
          "base_uri": "https://localhost:8080/"
        },
        "id": "ukNH-SqAI5w-",
        "outputId": "59c659f8-5027-4dd3-b388-6e5887d5f152"
      },
      "outputs": [
        {
          "name": "stdout",
          "output_type": "stream",
          "text": [
            "worst movie\n",
            "True\n"
          ]
        }
      ],
      "source": [
        "review = reviews[2] #third review\n",
        "\n",
        "print(review)\n",
        "\n",
        "print('best' and 'worst' in review)\n",
        "\n"
      ]
    },
    {
      "cell_type": "markdown",
      "metadata": {
        "id": "Plr_zsDEJprE"
      },
      "source": [
        "This is upsetting! Why Python thinks it is true?\n",
        "\n",
        "**and** and **or** work for two logical expressions (resulting in bool values: True or False).\n",
        "\n",
        "That means on the left and right of **and**, there should be a logical expression.\n",
        "Let me group them as Python interprets them using braces for clarity:"
      ]
    },
    {
      "cell_type": "code",
      "execution_count": 9,
      "metadata": {
        "colab": {
          "base_uri": "https://localhost:8080/"
        },
        "id": "kQ70pLyVJH-n",
        "outputId": "2e024787-ea33-42c8-f8a7-4243a646312c"
      },
      "outputs": [
        {
          "name": "stdout",
          "output_type": "stream",
          "text": [
            "True\n",
            "True\n"
          ]
        }
      ],
      "source": [
        "print(('best') and ('worst' in review))\n",
        "\n",
        "print(bool('best'))\n"
      ]
    },
    {
      "cell_type": "markdown",
      "metadata": {
        "id": "lEeSqOPbKUFO"
      },
      "source": [
        "So if instead of a logical expression we give Python, say, a string (like 'best') or a non-zero number, it will try to be smart and transform it into a `bool` value, but everything non-zero would be transformed to `True`"
      ]
    },
    {
      "cell_type": "code",
      "execution_count": 11,
      "metadata": {
        "colab": {
          "base_uri": "https://localhost:8080/"
        },
        "id": "2Ujb-6eoKoqe",
        "outputId": "ce3ef2a8-8c5d-4465-cd90-540eb9c86c4e"
      },
      "outputs": [
        {
          "name": "stdout",
          "output_type": "stream",
          "text": [
            "True\n",
            "True\n",
            "True\n",
            "False\n"
          ]
        }
      ],
      "source": [
        "print(bool(56454))\n",
        "print(bool('0'))\n",
        "print(bool(\"That's annoying!\"))\n",
        "print(bool(0))"
      ]
    },
    {
      "cell_type": "markdown",
      "metadata": {
        "id": "eh8XdU5SK4eU"
      },
      "source": [
        "So, we need to be very precise and tell exactly what we want"
      ]
    },
    {
      "cell_type": "code",
      "execution_count": 12,
      "metadata": {
        "colab": {
          "base_uri": "https://localhost:8080/"
        },
        "id": "e_wH4yCRK1_f",
        "outputId": "0e201ea5-0075-4f71-975d-24dc690766d1"
      },
      "outputs": [
        {
          "name": "stdout",
          "output_type": "stream",
          "text": [
            "False\n"
          ]
        }
      ],
      "source": [
        "print(('best' in review) and ('worst' in review))"
      ]
    },
    {
      "cell_type": "markdown",
      "metadata": {
        "id": "5rVOsWSELC_l"
      },
      "source": [
        "Phew! Now it seems to work, let us try again"
      ]
    },
    {
      "cell_type": "code",
      "execution_count": 13,
      "metadata": {
        "colab": {
          "base_uri": "https://localhost:8080/"
        },
        "id": "12J_rVHeLFuw",
        "outputId": "032dc203-9a00-4d60-f2c4-4d8a5a2c15d4"
      },
      "outputs": [
        {
          "name": "stdout",
          "output_type": "stream",
          "text": [
            "['best movie in history', 'best movie, worst actors']\n",
            "['best movie, worst actors', 'worst movie']\n",
            "['best movie, worst actors']\n"
          ]
        }
      ],
      "source": [
        "reviews = ['best movie in history', 'best movie, worst actors', 'worst movie']\n",
        "\n",
        "good_reviews = []\n",
        "bad_reviews = []\n",
        "ambiguous_reviews = []\n",
        "\n",
        "for review in reviews:\n",
        "  if 'best' in review:\n",
        "    good_reviews.append(review)\n",
        "  if 'worst' in review:\n",
        "    bad_reviews.append(review)\n",
        "  if ('best' in review) and ('worst' in review):\n",
        "    ambiguous_reviews.append(review)\n",
        "\n",
        "print(good_reviews)\n",
        "print(bad_reviews)\n",
        "print(ambiguous_reviews)"
      ]
    },
    {
      "cell_type": "markdown",
      "metadata": {
        "id": "Yq8CLAGDLL90"
      },
      "source": [
        "So that error is fixed, but depending on the task, we might want to have ambiguous reviews only in their own list, not in good or bad lists.\n",
        "\n",
        "We forgot that Python will check one by one all of the `if` clauses and execute all there the condition is satisfied.\n",
        "\n",
        "Let's try to use `elif` to be more precise!  "
      ]
    },
    {
      "cell_type": "code",
      "execution_count": 14,
      "metadata": {
        "colab": {
          "base_uri": "https://localhost:8080/"
        },
        "id": "Pf7OZjp8L8ew",
        "outputId": "1da0b9fe-6b84-49d5-a445-1124e97bf1b3"
      },
      "outputs": [
        {
          "name": "stdout",
          "output_type": "stream",
          "text": [
            "['best movie in history', 'best movie, worst actors']\n",
            "['worst movie']\n",
            "[]\n"
          ]
        }
      ],
      "source": [
        "reviews = ['best movie in history', 'best movie, worst actors', 'worst movie']\n",
        "\n",
        "good_reviews = []\n",
        "bad_reviews = []\n",
        "ambiguous_reviews = []\n",
        "\n",
        "for review in reviews:\n",
        "  if 'best' in review:\n",
        "    good_reviews.append(review)\n",
        "  elif 'worst' in review:\n",
        "    bad_reviews.append(review)\n",
        "  elif ('best' in review) and ('worst' in review): #or else\n",
        "    ambiguous_reviews.append(review)\n",
        "\n",
        "print(good_reviews)\n",
        "print(bad_reviews)\n",
        "print(ambiguous_reviews)"
      ]
    },
    {
      "cell_type": "markdown",
      "metadata": {
        "id": "484W7-IyMB7h"
      },
      "source": [
        "Again not what we want! We need to change the order of checking conditions"
      ]
    },
    {
      "cell_type": "code",
      "execution_count": 1,
      "metadata": {
        "colab": {
          "base_uri": "https://localhost:8080/"
        },
        "id": "e3M0Hjz3MH88",
        "outputId": "e26313ca-37c0-45ae-f8a1-0957a704742e"
      },
      "outputs": [
        {
          "name": "stdout",
          "output_type": "stream",
          "text": [
            "['best movie in history']\n",
            "['worst movie']\n",
            "['best movie, worst actors']\n"
          ]
        }
      ],
      "source": [
        "reviews = ['best movie in history', 'best movie, worst actors', 'worst movie']\n",
        "\n",
        "good_reviews = []\n",
        "bad_reviews = []\n",
        "ambiguous_reviews = []\n",
        "\n",
        "for review in reviews:\n",
        "  if ('best' in review) and ('worst' in review): #ambiguous reviews go here and we won't check other conditions for them\n",
        "    ambiguous_reviews.append(review)\n",
        "  elif 'best' in review:\n",
        "    good_reviews.append(review)\n",
        "  elif 'worst' in review: #or else\n",
        "    bad_reviews.append(review)\n",
        "\n",
        "\n",
        "print(good_reviews)\n",
        "print(bad_reviews)\n",
        "print(ambiguous_reviews)"
      ]
    },
    {
      "cell_type": "markdown",
      "metadata": {
        "id": "Vfu0EU7MMVmx"
      },
      "source": [
        "Now it looks like what we need!\n",
        "\n",
        "Remember you can always test with nasty logical expressions outside of your `if`:"
      ]
    },
    {
      "cell_type": "code",
      "execution_count": 2,
      "metadata": {
        "colab": {
          "base_uri": "https://localhost:8080/"
        },
        "id": "20eX_DMoMjwU",
        "outputId": "88e81616-2717-44c1-d9b4-c2ca93eb4dfc"
      },
      "outputs": [
        {
          "name": "stdout",
          "output_type": "stream",
          "text": [
            "True\n",
            "False\n",
            "True\n",
            "True\n"
          ]
        }
      ],
      "source": [
        "print('best' in 'best')\n",
        "print('best' in 'worst')\n",
        "print('best' in 'best and worst')\n",
        "print('best' in 'best and worst' and 'worst' in 'best and worst')\n"
      ]
    },
    {
      "cell_type": "markdown",
      "metadata": {},
      "source": [
        "That's it, folks\n",
        "\n",
        "Best of luck with the midterm!"
      ]
    }
  ],
  "metadata": {
    "colab": {
      "name": "scratchpad",
      "provenance": []
    },
    "kernelspec": {
      "display_name": "Python 3",
      "name": "python3"
    },
    "language_info": {
      "codemirror_mode": {
        "name": "ipython",
        "version": 3
      },
      "file_extension": ".py",
      "mimetype": "text/x-python",
      "name": "python",
      "nbconvert_exporter": "python",
      "pygments_lexer": "ipython3",
      "version": "3.8.10"
    }
  },
  "nbformat": 4,
  "nbformat_minor": 0
}
